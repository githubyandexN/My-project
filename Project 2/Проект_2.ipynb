{
  "cells": [
    {
      "cell_type": "markdown",
      "id": "386f2ae7",
      "metadata": {
        "deletable": false,
        "editable": false,
        "id": "386f2ae7"
      },
      "source": [
        "# Исследование надежности заемщиков\n"
      ]
    },
    {
      "cell_type": "markdown",
      "id": "ffe86f65",
      "metadata": {
        "deletable": false,
        "editable": false,
        "id": "ffe86f65"
      },
      "source": [
        "Во второй части проекта вы выполните шаги 3 и 4. Их вручную проверит ревьюер.\n",
        "Чтобы вам не пришлось писать код заново для шагов 1 и 2, мы добавили авторские решения в ячейки с кодом.\n",
        "\n"
      ]
    },
    {
      "cell_type": "markdown",
      "id": "26613308",
      "metadata": {
        "deletable": false,
        "editable": false,
        "id": "26613308"
      },
      "source": [
        "## Откройте таблицу и изучите общую информацию о данных"
      ]
    },
    {
      "cell_type": "markdown",
      "id": "3c9f838e",
      "metadata": {
        "deletable": false,
        "editable": false,
        "id": "3c9f838e"
      },
      "source": [
        "**Задание 1. Импортируйте библиотеку pandas. Считайте данные из csv-файла в датафрейм и сохраните в переменную `data`. Путь к файлу:**\n",
        "\n",
        "`/datasets/data.csv`"
      ]
    },
    {
      "cell_type": "code",
      "execution_count": null,
      "id": "77a68a90",
      "metadata": {
        "deletable": false,
        "id": "77a68a90"
      },
      "outputs": [],
      "source": [
        "import pandas as pd\n",
        "\n",
        "try:\n",
        "    data = pd.read_csv('/datasets/data.csv')\n",
        "except:\n",
        "    data = pd.read_csv('https://code.s3.yandex.net/datasets/data.csv')"
      ]
    },
    {
      "cell_type": "markdown",
      "id": "45365635",
      "metadata": {
        "deletable": false,
        "editable": false,
        "id": "45365635"
      },
      "source": [
        "**Задание 2. Выведите первые 20 строчек датафрейма `data` на экран.**"
      ]
    },
    {
      "cell_type": "code",
      "execution_count": null,
      "id": "b0451a9a",
      "metadata": {
        "deletable": false,
        "id": "b0451a9a",
        "outputId": "1a8f3ef2-d323-4ec2-ddf7-89670b5944c4"
      },
      "outputs": [
        {
          "data": {
            "text/html": [
              "<div>\n",
              "<style scoped>\n",
              "    .dataframe tbody tr th:only-of-type {\n",
              "        vertical-align: middle;\n",
              "    }\n",
              "\n",
              "    .dataframe tbody tr th {\n",
              "        vertical-align: top;\n",
              "    }\n",
              "\n",
              "    .dataframe thead th {\n",
              "        text-align: right;\n",
              "    }\n",
              "</style>\n",
              "<table border=\"1\" class=\"dataframe\">\n",
              "  <thead>\n",
              "    <tr style=\"text-align: right;\">\n",
              "      <th></th>\n",
              "      <th>children</th>\n",
              "      <th>days_employed</th>\n",
              "      <th>dob_years</th>\n",
              "      <th>education</th>\n",
              "      <th>education_id</th>\n",
              "      <th>family_status</th>\n",
              "      <th>family_status_id</th>\n",
              "      <th>gender</th>\n",
              "      <th>income_type</th>\n",
              "      <th>debt</th>\n",
              "      <th>total_income</th>\n",
              "      <th>purpose</th>\n",
              "    </tr>\n",
              "  </thead>\n",
              "  <tbody>\n",
              "    <tr>\n",
              "      <th>0</th>\n",
              "      <td>1</td>\n",
              "      <td>-8437.673028</td>\n",
              "      <td>42</td>\n",
              "      <td>высшее</td>\n",
              "      <td>0</td>\n",
              "      <td>женат / замужем</td>\n",
              "      <td>0</td>\n",
              "      <td>F</td>\n",
              "      <td>сотрудник</td>\n",
              "      <td>0</td>\n",
              "      <td>253875.639453</td>\n",
              "      <td>покупка жилья</td>\n",
              "    </tr>\n",
              "    <tr>\n",
              "      <th>1</th>\n",
              "      <td>1</td>\n",
              "      <td>-4024.803754</td>\n",
              "      <td>36</td>\n",
              "      <td>среднее</td>\n",
              "      <td>1</td>\n",
              "      <td>женат / замужем</td>\n",
              "      <td>0</td>\n",
              "      <td>F</td>\n",
              "      <td>сотрудник</td>\n",
              "      <td>0</td>\n",
              "      <td>112080.014102</td>\n",
              "      <td>приобретение автомобиля</td>\n",
              "    </tr>\n",
              "    <tr>\n",
              "      <th>2</th>\n",
              "      <td>0</td>\n",
              "      <td>-5623.422610</td>\n",
              "      <td>33</td>\n",
              "      <td>Среднее</td>\n",
              "      <td>1</td>\n",
              "      <td>женат / замужем</td>\n",
              "      <td>0</td>\n",
              "      <td>M</td>\n",
              "      <td>сотрудник</td>\n",
              "      <td>0</td>\n",
              "      <td>145885.952297</td>\n",
              "      <td>покупка жилья</td>\n",
              "    </tr>\n",
              "    <tr>\n",
              "      <th>3</th>\n",
              "      <td>3</td>\n",
              "      <td>-4124.747207</td>\n",
              "      <td>32</td>\n",
              "      <td>среднее</td>\n",
              "      <td>1</td>\n",
              "      <td>женат / замужем</td>\n",
              "      <td>0</td>\n",
              "      <td>M</td>\n",
              "      <td>сотрудник</td>\n",
              "      <td>0</td>\n",
              "      <td>267628.550329</td>\n",
              "      <td>дополнительное образование</td>\n",
              "    </tr>\n",
              "    <tr>\n",
              "      <th>4</th>\n",
              "      <td>0</td>\n",
              "      <td>340266.072047</td>\n",
              "      <td>53</td>\n",
              "      <td>среднее</td>\n",
              "      <td>1</td>\n",
              "      <td>гражданский брак</td>\n",
              "      <td>1</td>\n",
              "      <td>F</td>\n",
              "      <td>пенсионер</td>\n",
              "      <td>0</td>\n",
              "      <td>158616.077870</td>\n",
              "      <td>сыграть свадьбу</td>\n",
              "    </tr>\n",
              "    <tr>\n",
              "      <th>5</th>\n",
              "      <td>0</td>\n",
              "      <td>-926.185831</td>\n",
              "      <td>27</td>\n",
              "      <td>высшее</td>\n",
              "      <td>0</td>\n",
              "      <td>гражданский брак</td>\n",
              "      <td>1</td>\n",
              "      <td>M</td>\n",
              "      <td>компаньон</td>\n",
              "      <td>0</td>\n",
              "      <td>255763.565419</td>\n",
              "      <td>покупка жилья</td>\n",
              "    </tr>\n",
              "    <tr>\n",
              "      <th>6</th>\n",
              "      <td>0</td>\n",
              "      <td>-2879.202052</td>\n",
              "      <td>43</td>\n",
              "      <td>высшее</td>\n",
              "      <td>0</td>\n",
              "      <td>женат / замужем</td>\n",
              "      <td>0</td>\n",
              "      <td>F</td>\n",
              "      <td>компаньон</td>\n",
              "      <td>0</td>\n",
              "      <td>240525.971920</td>\n",
              "      <td>операции с жильем</td>\n",
              "    </tr>\n",
              "    <tr>\n",
              "      <th>7</th>\n",
              "      <td>0</td>\n",
              "      <td>-152.779569</td>\n",
              "      <td>50</td>\n",
              "      <td>СРЕДНЕЕ</td>\n",
              "      <td>1</td>\n",
              "      <td>женат / замужем</td>\n",
              "      <td>0</td>\n",
              "      <td>M</td>\n",
              "      <td>сотрудник</td>\n",
              "      <td>0</td>\n",
              "      <td>135823.934197</td>\n",
              "      <td>образование</td>\n",
              "    </tr>\n",
              "    <tr>\n",
              "      <th>8</th>\n",
              "      <td>2</td>\n",
              "      <td>-6929.865299</td>\n",
              "      <td>35</td>\n",
              "      <td>ВЫСШЕЕ</td>\n",
              "      <td>0</td>\n",
              "      <td>гражданский брак</td>\n",
              "      <td>1</td>\n",
              "      <td>F</td>\n",
              "      <td>сотрудник</td>\n",
              "      <td>0</td>\n",
              "      <td>95856.832424</td>\n",
              "      <td>на проведение свадьбы</td>\n",
              "    </tr>\n",
              "    <tr>\n",
              "      <th>9</th>\n",
              "      <td>0</td>\n",
              "      <td>-2188.756445</td>\n",
              "      <td>41</td>\n",
              "      <td>среднее</td>\n",
              "      <td>1</td>\n",
              "      <td>женат / замужем</td>\n",
              "      <td>0</td>\n",
              "      <td>M</td>\n",
              "      <td>сотрудник</td>\n",
              "      <td>0</td>\n",
              "      <td>144425.938277</td>\n",
              "      <td>покупка жилья для семьи</td>\n",
              "    </tr>\n",
              "    <tr>\n",
              "      <th>10</th>\n",
              "      <td>2</td>\n",
              "      <td>-4171.483647</td>\n",
              "      <td>36</td>\n",
              "      <td>высшее</td>\n",
              "      <td>0</td>\n",
              "      <td>женат / замужем</td>\n",
              "      <td>0</td>\n",
              "      <td>M</td>\n",
              "      <td>компаньон</td>\n",
              "      <td>0</td>\n",
              "      <td>113943.491460</td>\n",
              "      <td>покупка недвижимости</td>\n",
              "    </tr>\n",
              "    <tr>\n",
              "      <th>11</th>\n",
              "      <td>0</td>\n",
              "      <td>-792.701887</td>\n",
              "      <td>40</td>\n",
              "      <td>среднее</td>\n",
              "      <td>1</td>\n",
              "      <td>женат / замужем</td>\n",
              "      <td>0</td>\n",
              "      <td>F</td>\n",
              "      <td>сотрудник</td>\n",
              "      <td>0</td>\n",
              "      <td>77069.234271</td>\n",
              "      <td>покупка коммерческой недвижимости</td>\n",
              "    </tr>\n",
              "    <tr>\n",
              "      <th>12</th>\n",
              "      <td>0</td>\n",
              "      <td>NaN</td>\n",
              "      <td>65</td>\n",
              "      <td>среднее</td>\n",
              "      <td>1</td>\n",
              "      <td>гражданский брак</td>\n",
              "      <td>1</td>\n",
              "      <td>M</td>\n",
              "      <td>пенсионер</td>\n",
              "      <td>0</td>\n",
              "      <td>NaN</td>\n",
              "      <td>сыграть свадьбу</td>\n",
              "    </tr>\n",
              "    <tr>\n",
              "      <th>13</th>\n",
              "      <td>0</td>\n",
              "      <td>-1846.641941</td>\n",
              "      <td>54</td>\n",
              "      <td>неоконченное высшее</td>\n",
              "      <td>2</td>\n",
              "      <td>женат / замужем</td>\n",
              "      <td>0</td>\n",
              "      <td>F</td>\n",
              "      <td>сотрудник</td>\n",
              "      <td>0</td>\n",
              "      <td>130458.228857</td>\n",
              "      <td>приобретение автомобиля</td>\n",
              "    </tr>\n",
              "    <tr>\n",
              "      <th>14</th>\n",
              "      <td>0</td>\n",
              "      <td>-1844.956182</td>\n",
              "      <td>56</td>\n",
              "      <td>высшее</td>\n",
              "      <td>0</td>\n",
              "      <td>гражданский брак</td>\n",
              "      <td>1</td>\n",
              "      <td>F</td>\n",
              "      <td>компаньон</td>\n",
              "      <td>1</td>\n",
              "      <td>165127.911772</td>\n",
              "      <td>покупка жилой недвижимости</td>\n",
              "    </tr>\n",
              "    <tr>\n",
              "      <th>15</th>\n",
              "      <td>1</td>\n",
              "      <td>-972.364419</td>\n",
              "      <td>26</td>\n",
              "      <td>среднее</td>\n",
              "      <td>1</td>\n",
              "      <td>женат / замужем</td>\n",
              "      <td>0</td>\n",
              "      <td>F</td>\n",
              "      <td>сотрудник</td>\n",
              "      <td>0</td>\n",
              "      <td>116820.904450</td>\n",
              "      <td>строительство собственной недвижимости</td>\n",
              "    </tr>\n",
              "    <tr>\n",
              "      <th>16</th>\n",
              "      <td>0</td>\n",
              "      <td>-1719.934226</td>\n",
              "      <td>35</td>\n",
              "      <td>среднее</td>\n",
              "      <td>1</td>\n",
              "      <td>женат / замужем</td>\n",
              "      <td>0</td>\n",
              "      <td>F</td>\n",
              "      <td>сотрудник</td>\n",
              "      <td>0</td>\n",
              "      <td>289202.704229</td>\n",
              "      <td>недвижимость</td>\n",
              "    </tr>\n",
              "    <tr>\n",
              "      <th>17</th>\n",
              "      <td>0</td>\n",
              "      <td>-2369.999720</td>\n",
              "      <td>33</td>\n",
              "      <td>высшее</td>\n",
              "      <td>0</td>\n",
              "      <td>гражданский брак</td>\n",
              "      <td>1</td>\n",
              "      <td>M</td>\n",
              "      <td>сотрудник</td>\n",
              "      <td>0</td>\n",
              "      <td>90410.586745</td>\n",
              "      <td>строительство недвижимости</td>\n",
              "    </tr>\n",
              "    <tr>\n",
              "      <th>18</th>\n",
              "      <td>0</td>\n",
              "      <td>400281.136913</td>\n",
              "      <td>53</td>\n",
              "      <td>среднее</td>\n",
              "      <td>1</td>\n",
              "      <td>вдовец / вдова</td>\n",
              "      <td>2</td>\n",
              "      <td>F</td>\n",
              "      <td>пенсионер</td>\n",
              "      <td>0</td>\n",
              "      <td>56823.777243</td>\n",
              "      <td>на покупку подержанного автомобиля</td>\n",
              "    </tr>\n",
              "    <tr>\n",
              "      <th>19</th>\n",
              "      <td>0</td>\n",
              "      <td>-10038.818549</td>\n",
              "      <td>48</td>\n",
              "      <td>СРЕДНЕЕ</td>\n",
              "      <td>1</td>\n",
              "      <td>в разводе</td>\n",
              "      <td>3</td>\n",
              "      <td>F</td>\n",
              "      <td>сотрудник</td>\n",
              "      <td>0</td>\n",
              "      <td>242831.107982</td>\n",
              "      <td>на покупку своего автомобиля</td>\n",
              "    </tr>\n",
              "  </tbody>\n",
              "</table>\n",
              "</div>"
            ],
            "text/plain": [
              "    children  days_employed  dob_years            education  education_id  \\\n",
              "0          1   -8437.673028         42               высшее             0   \n",
              "1          1   -4024.803754         36              среднее             1   \n",
              "2          0   -5623.422610         33              Среднее             1   \n",
              "3          3   -4124.747207         32              среднее             1   \n",
              "4          0  340266.072047         53              среднее             1   \n",
              "5          0    -926.185831         27               высшее             0   \n",
              "6          0   -2879.202052         43               высшее             0   \n",
              "7          0    -152.779569         50              СРЕДНЕЕ             1   \n",
              "8          2   -6929.865299         35               ВЫСШЕЕ             0   \n",
              "9          0   -2188.756445         41              среднее             1   \n",
              "10         2   -4171.483647         36               высшее             0   \n",
              "11         0    -792.701887         40              среднее             1   \n",
              "12         0            NaN         65              среднее             1   \n",
              "13         0   -1846.641941         54  неоконченное высшее             2   \n",
              "14         0   -1844.956182         56               высшее             0   \n",
              "15         1    -972.364419         26              среднее             1   \n",
              "16         0   -1719.934226         35              среднее             1   \n",
              "17         0   -2369.999720         33               высшее             0   \n",
              "18         0  400281.136913         53              среднее             1   \n",
              "19         0  -10038.818549         48              СРЕДНЕЕ             1   \n",
              "\n",
              "       family_status  family_status_id gender income_type  debt  \\\n",
              "0    женат / замужем                 0      F   сотрудник     0   \n",
              "1    женат / замужем                 0      F   сотрудник     0   \n",
              "2    женат / замужем                 0      M   сотрудник     0   \n",
              "3    женат / замужем                 0      M   сотрудник     0   \n",
              "4   гражданский брак                 1      F   пенсионер     0   \n",
              "5   гражданский брак                 1      M   компаньон     0   \n",
              "6    женат / замужем                 0      F   компаньон     0   \n",
              "7    женат / замужем                 0      M   сотрудник     0   \n",
              "8   гражданский брак                 1      F   сотрудник     0   \n",
              "9    женат / замужем                 0      M   сотрудник     0   \n",
              "10   женат / замужем                 0      M   компаньон     0   \n",
              "11   женат / замужем                 0      F   сотрудник     0   \n",
              "12  гражданский брак                 1      M   пенсионер     0   \n",
              "13   женат / замужем                 0      F   сотрудник     0   \n",
              "14  гражданский брак                 1      F   компаньон     1   \n",
              "15   женат / замужем                 0      F   сотрудник     0   \n",
              "16   женат / замужем                 0      F   сотрудник     0   \n",
              "17  гражданский брак                 1      M   сотрудник     0   \n",
              "18    вдовец / вдова                 2      F   пенсионер     0   \n",
              "19         в разводе                 3      F   сотрудник     0   \n",
              "\n",
              "     total_income                                 purpose  \n",
              "0   253875.639453                           покупка жилья  \n",
              "1   112080.014102                 приобретение автомобиля  \n",
              "2   145885.952297                           покупка жилья  \n",
              "3   267628.550329              дополнительное образование  \n",
              "4   158616.077870                         сыграть свадьбу  \n",
              "5   255763.565419                           покупка жилья  \n",
              "6   240525.971920                       операции с жильем  \n",
              "7   135823.934197                             образование  \n",
              "8    95856.832424                   на проведение свадьбы  \n",
              "9   144425.938277                 покупка жилья для семьи  \n",
              "10  113943.491460                    покупка недвижимости  \n",
              "11   77069.234271       покупка коммерческой недвижимости  \n",
              "12            NaN                         сыграть свадьбу  \n",
              "13  130458.228857                 приобретение автомобиля  \n",
              "14  165127.911772              покупка жилой недвижимости  \n",
              "15  116820.904450  строительство собственной недвижимости  \n",
              "16  289202.704229                            недвижимость  \n",
              "17   90410.586745              строительство недвижимости  \n",
              "18   56823.777243      на покупку подержанного автомобиля  \n",
              "19  242831.107982            на покупку своего автомобиля  "
            ]
          },
          "execution_count": 2,
          "metadata": {},
          "output_type": "execute_result"
        }
      ],
      "source": [
        "data.head(20)"
      ]
    },
    {
      "cell_type": "markdown",
      "id": "0ed8f27f",
      "metadata": {
        "deletable": false,
        "editable": false,
        "id": "0ed8f27f"
      },
      "source": [
        "**Задание 3. Выведите основную информацию о датафрейме с помощью метода `info()`.**"
      ]
    },
    {
      "cell_type": "code",
      "execution_count": null,
      "id": "ab3f863b",
      "metadata": {
        "deletable": false,
        "id": "ab3f863b",
        "outputId": "15376089-8dad-46c9-b520-c05248d43158"
      },
      "outputs": [
        {
          "name": "stdout",
          "output_type": "stream",
          "text": [
            "<class 'pandas.core.frame.DataFrame'>\n",
            "RangeIndex: 21525 entries, 0 to 21524\n",
            "Data columns (total 12 columns):\n",
            " #   Column            Non-Null Count  Dtype  \n",
            "---  ------            --------------  -----  \n",
            " 0   children          21525 non-null  int64  \n",
            " 1   days_employed     19351 non-null  float64\n",
            " 2   dob_years         21525 non-null  int64  \n",
            " 3   education         21525 non-null  object \n",
            " 4   education_id      21525 non-null  int64  \n",
            " 5   family_status     21525 non-null  object \n",
            " 6   family_status_id  21525 non-null  int64  \n",
            " 7   gender            21525 non-null  object \n",
            " 8   income_type       21525 non-null  object \n",
            " 9   debt              21525 non-null  int64  \n",
            " 10  total_income      19351 non-null  float64\n",
            " 11  purpose           21525 non-null  object \n",
            "dtypes: float64(2), int64(5), object(5)\n",
            "memory usage: 2.0+ MB\n"
          ]
        }
      ],
      "source": [
        "data.info()"
      ]
    },
    {
      "cell_type": "markdown",
      "id": "60e3e22d",
      "metadata": {
        "deletable": false,
        "editable": false,
        "id": "60e3e22d"
      },
      "source": [
        "## Предобработка данных"
      ]
    },
    {
      "cell_type": "markdown",
      "id": "03dc170c",
      "metadata": {
        "deletable": false,
        "editable": false,
        "id": "03dc170c"
      },
      "source": [
        "### Удаление пропусков"
      ]
    },
    {
      "cell_type": "markdown",
      "id": "a4f54eef",
      "metadata": {
        "deletable": false,
        "editable": false,
        "id": "a4f54eef"
      },
      "source": [
        "**Задание 4. Выведите количество пропущенных значений для каждого столбца. Используйте комбинацию двух методов.**"
      ]
    },
    {
      "cell_type": "code",
      "execution_count": null,
      "id": "2dc372b2",
      "metadata": {
        "deletable": false,
        "id": "2dc372b2",
        "outputId": "81f4d817-781c-465c-ed15-91ce4446810d"
      },
      "outputs": [
        {
          "data": {
            "text/plain": [
              "children               0\n",
              "days_employed       2174\n",
              "dob_years              0\n",
              "education              0\n",
              "education_id           0\n",
              "family_status          0\n",
              "family_status_id       0\n",
              "gender                 0\n",
              "income_type            0\n",
              "debt                   0\n",
              "total_income        2174\n",
              "purpose                0\n",
              "dtype: int64"
            ]
          },
          "execution_count": 4,
          "metadata": {},
          "output_type": "execute_result"
        }
      ],
      "source": [
        "data.isna().sum()"
      ]
    },
    {
      "cell_type": "markdown",
      "id": "14f011b1",
      "metadata": {
        "deletable": false,
        "editable": false,
        "id": "14f011b1"
      },
      "source": [
        "**Задание 5. В двух столбцах есть пропущенные значения. Один из них — `days_employed`. Пропуски в этом столбце вы обработаете на следующем этапе. Другой столбец с пропущенными значениями — `total_income` — хранит данные о доходах. На сумму дохода сильнее всего влияет тип занятости, поэтому заполнить пропуски в этом столбце нужно медианным значением по каждому типу из столбца `income_type`. Например, у человека с типом занятости `сотрудник` пропуск в столбце `total_income` должен быть заполнен медианным доходом среди всех записей с тем же типом.**"
      ]
    },
    {
      "cell_type": "code",
      "execution_count": null,
      "id": "bdabfb6e",
      "metadata": {
        "deletable": false,
        "id": "bdabfb6e"
      },
      "outputs": [],
      "source": [
        "for t in data['income_type'].unique():\n",
        "    data.loc[(data['income_type'] == t) & (data['total_income'].isna()), 'total_income'] = \\\n",
        "    data.loc[(data['income_type'] == t), 'total_income'].median()"
      ]
    },
    {
      "cell_type": "markdown",
      "id": "5be34059",
      "metadata": {
        "deletable": false,
        "editable": false,
        "id": "5be34059"
      },
      "source": [
        "### Обработка аномальных значений"
      ]
    },
    {
      "cell_type": "markdown",
      "id": "a87606cb",
      "metadata": {
        "deletable": false,
        "editable": false,
        "id": "a87606cb"
      },
      "source": [
        "**Задание 6. В данных могут встречаться артефакты (аномалии) — значения, которые не отражают действительность и появились по какой-то ошибке. таким артефактом будет отрицательное количество дней трудового стажа в столбце `days_employed`. Для реальных данных это нормально. Обработайте значения в этом столбце: замените все отрицательные значения положительными с помощью метода `abs()`.**"
      ]
    },
    {
      "cell_type": "code",
      "execution_count": null,
      "id": "020c46cc",
      "metadata": {
        "deletable": false,
        "id": "020c46cc"
      },
      "outputs": [],
      "source": [
        "data['days_employed'] = data['days_employed'].abs()"
      ]
    },
    {
      "cell_type": "markdown",
      "id": "45538a3a",
      "metadata": {
        "deletable": false,
        "editable": false,
        "id": "45538a3a"
      },
      "source": [
        "**Задание 7. Для каждого типа занятости выведите медианное значение трудового стажа `days_employed` в днях.**"
      ]
    },
    {
      "cell_type": "code",
      "execution_count": null,
      "id": "cd3e6328",
      "metadata": {
        "deletable": false,
        "id": "cd3e6328",
        "outputId": "801ef80e-522b-4668-f34e-565af7432bcf"
      },
      "outputs": [
        {
          "data": {
            "text/plain": [
              "income_type\n",
              "безработный        366413.652744\n",
              "в декрете            3296.759962\n",
              "госслужащий          2689.368353\n",
              "компаньон            1547.382223\n",
              "пенсионер          365213.306266\n",
              "предприниматель       520.848083\n",
              "сотрудник            1574.202821\n",
              "студент               578.751554\n",
              "Name: days_employed, dtype: float64"
            ]
          },
          "execution_count": 7,
          "metadata": {},
          "output_type": "execute_result"
        }
      ],
      "source": [
        "data.groupby('income_type')['days_employed'].agg('median')"
      ]
    },
    {
      "cell_type": "markdown",
      "id": "90c5f058",
      "metadata": {
        "deletable": false,
        "editable": false,
        "id": "90c5f058"
      },
      "source": [
        "У двух типов (безработные и пенсионеры) получатся аномально большие значения. Исправить такие значения сложно, поэтому оставьте их как есть."
      ]
    },
    {
      "cell_type": "markdown",
      "id": "9652e50d",
      "metadata": {
        "deletable": false,
        "editable": false,
        "id": "9652e50d"
      },
      "source": [
        "**Задание 8. Выведите перечень уникальных значений столбца `children`.**"
      ]
    },
    {
      "cell_type": "code",
      "execution_count": null,
      "id": "dbb37b8e",
      "metadata": {
        "deletable": false,
        "id": "dbb37b8e",
        "outputId": "6975b15c-7f95-4697-d16d-a0c79b657b03"
      },
      "outputs": [
        {
          "data": {
            "text/plain": [
              "array([ 1,  0,  3,  2, -1,  4, 20,  5])"
            ]
          },
          "execution_count": 8,
          "metadata": {},
          "output_type": "execute_result"
        }
      ],
      "source": [
        "data['children'].unique()"
      ]
    },
    {
      "cell_type": "markdown",
      "id": "2b8b0715",
      "metadata": {
        "deletable": false,
        "editable": false,
        "id": "2b8b0715"
      },
      "source": [
        "**Задание 9. В столбце `children` есть два аномальных значения. Удалите строки, в которых встречаются такие аномальные значения из датафрейма `data`.**"
      ]
    },
    {
      "cell_type": "code",
      "execution_count": null,
      "id": "20009df8",
      "metadata": {
        "deletable": false,
        "id": "20009df8"
      },
      "outputs": [],
      "source": [
        "data = data[(data['children'] != -1) & (data['children'] != 20)]"
      ]
    },
    {
      "cell_type": "markdown",
      "id": "8c6ac9f1",
      "metadata": {
        "deletable": false,
        "editable": false,
        "id": "8c6ac9f1"
      },
      "source": [
        "**Задание 10. Ещё раз выведите перечень уникальных значений столбца `children`, чтобы убедиться, что артефакты удалены.**"
      ]
    },
    {
      "cell_type": "code",
      "execution_count": null,
      "id": "07337b81",
      "metadata": {
        "deletable": false,
        "id": "07337b81",
        "outputId": "b2097101-d49d-44d9-901b-32a65c9463d1"
      },
      "outputs": [
        {
          "data": {
            "text/plain": [
              "array([1, 0, 3, 2, 4, 5])"
            ]
          },
          "execution_count": 10,
          "metadata": {},
          "output_type": "execute_result"
        }
      ],
      "source": [
        "data['children'].unique()"
      ]
    },
    {
      "cell_type": "markdown",
      "id": "ee3f52d4",
      "metadata": {
        "deletable": false,
        "editable": false,
        "id": "ee3f52d4"
      },
      "source": [
        "### Удаление пропусков (продолжение)"
      ]
    },
    {
      "cell_type": "markdown",
      "id": "a700b0e4",
      "metadata": {
        "deletable": false,
        "editable": false,
        "id": "a700b0e4"
      },
      "source": [
        "**Задание 11. Заполните пропуски в столбце `days_employed` медианными значениями по каждого типа занятости `income_type`.**"
      ]
    },
    {
      "cell_type": "code",
      "execution_count": null,
      "id": "61946b83",
      "metadata": {
        "deletable": false,
        "id": "61946b83"
      },
      "outputs": [],
      "source": [
        "for t in data['income_type'].unique():\n",
        "    data.loc[(data['income_type'] == t) & (data['days_employed'].isna()), 'days_employed'] = \\\n",
        "    data.loc[(data['income_type'] == t), 'days_employed'].median()"
      ]
    },
    {
      "cell_type": "markdown",
      "id": "550dcd9b",
      "metadata": {
        "deletable": false,
        "editable": false,
        "id": "550dcd9b"
      },
      "source": [
        "**Задание 12. Убедитесь, что все пропуски заполнены. Проверьте себя и ещё раз выведите количество пропущенных значений для каждого столбца с помощью двух методов.**"
      ]
    },
    {
      "cell_type": "code",
      "execution_count": null,
      "id": "937c7014",
      "metadata": {
        "deletable": false,
        "id": "937c7014",
        "outputId": "8da1e4e1-358e-4e87-98c9-f261bce0a7b2"
      },
      "outputs": [
        {
          "data": {
            "text/plain": [
              "children            0\n",
              "days_employed       0\n",
              "dob_years           0\n",
              "education           0\n",
              "education_id        0\n",
              "family_status       0\n",
              "family_status_id    0\n",
              "gender              0\n",
              "income_type         0\n",
              "debt                0\n",
              "total_income        0\n",
              "purpose             0\n",
              "dtype: int64"
            ]
          },
          "execution_count": 12,
          "metadata": {},
          "output_type": "execute_result"
        }
      ],
      "source": [
        "data.isna().sum()"
      ]
    },
    {
      "cell_type": "markdown",
      "id": "d522e295",
      "metadata": {
        "deletable": false,
        "editable": false,
        "id": "d522e295"
      },
      "source": [
        "### Изменение типов данных"
      ]
    },
    {
      "cell_type": "markdown",
      "id": "c229c581",
      "metadata": {
        "deletable": false,
        "editable": false,
        "id": "c229c581"
      },
      "source": [
        "**Задание 13. Замените вещественный тип данных в столбце `total_income` на целочисленный с помощью метода `astype()`.**"
      ]
    },
    {
      "cell_type": "code",
      "execution_count": null,
      "id": "31036462",
      "metadata": {
        "deletable": false,
        "id": "31036462"
      },
      "outputs": [],
      "source": [
        "data['total_income'] = data['total_income'].astype(int)"
      ]
    },
    {
      "cell_type": "markdown",
      "id": "b8e3d1d9",
      "metadata": {
        "deletable": false,
        "editable": false,
        "id": "b8e3d1d9"
      },
      "source": [
        "### Обработка дубликатов"
      ]
    },
    {
      "cell_type": "markdown",
      "id": "9be53c49",
      "metadata": {
        "deletable": false,
        "editable": false,
        "id": "9be53c49"
      },
      "source": [
        "**Задание 14. Обработайте неявные дубликаты в столбце `education`. В этом столбце есть одни и те же значения, но записанные по-разному: с использованием заглавных и строчных букв. Приведите их к нижнему регистру.**"
      ]
    },
    {
      "cell_type": "code",
      "execution_count": null,
      "id": "d89e73e1",
      "metadata": {
        "deletable": false,
        "id": "d89e73e1"
      },
      "outputs": [],
      "source": [
        "data['education'] = data['education'].str.lower()"
      ]
    },
    {
      "cell_type": "markdown",
      "id": "01d4500e",
      "metadata": {
        "deletable": false,
        "editable": false,
        "id": "01d4500e"
      },
      "source": [
        "**Задание 15. Выведите на экран количество строк-дубликатов в данных. Если такие строки присутствуют, удалите их.**"
      ]
    },
    {
      "cell_type": "code",
      "execution_count": null,
      "id": "e10efb23",
      "metadata": {
        "deletable": false,
        "id": "e10efb23",
        "outputId": "9684deba-1934-42d1-99e1-cda61740f822"
      },
      "outputs": [
        {
          "data": {
            "text/plain": [
              "71"
            ]
          },
          "execution_count": 15,
          "metadata": {},
          "output_type": "execute_result"
        }
      ],
      "source": [
        "data.duplicated().sum()"
      ]
    },
    {
      "cell_type": "code",
      "execution_count": null,
      "id": "df853f20",
      "metadata": {
        "deletable": false,
        "id": "df853f20"
      },
      "outputs": [],
      "source": [
        "data = data.drop_duplicates()"
      ]
    },
    {
      "cell_type": "markdown",
      "id": "627be38f",
      "metadata": {
        "deletable": false,
        "editable": false,
        "id": "627be38f"
      },
      "source": [
        "### Категоризация данных"
      ]
    },
    {
      "cell_type": "markdown",
      "id": "4684c3e0",
      "metadata": {
        "deletable": false,
        "editable": false,
        "id": "4684c3e0"
      },
      "source": [
        "**Задание 16. На основании диапазонов, указанных ниже, создайте в датафрейме `data` столбец `total_income_category` с категориями:**\n",
        "\n",
        "- 0–30000 — `'E'`;\n",
        "- 30001–50000 — `'D'`;\n",
        "- 50001–200000 — `'C'`;\n",
        "- 200001–1000000 — `'B'`;\n",
        "- 1000001 и выше — `'A'`.\n",
        "\n",
        "\n",
        "**Например, кредитополучателю с доходом 25000 нужно назначить категорию `'E'`, а клиенту, получающему 235000, — `'B'`. Используйте собственную функцию с именем `categorize_income()` и метод `apply()`.**"
      ]
    },
    {
      "cell_type": "code",
      "execution_count": null,
      "id": "78965238",
      "metadata": {
        "deletable": false,
        "id": "78965238"
      },
      "outputs": [],
      "source": [
        "def categorize_income(income):\n",
        "    try:\n",
        "        if 0 <= income <= 30000:\n",
        "            return 'E'\n",
        "        elif 30001 <= income <= 50000:\n",
        "            return 'D'\n",
        "        elif 50001 <= income <= 200000:\n",
        "            return 'C'\n",
        "        elif 200001 <= income <= 1000000:\n",
        "            return 'B'\n",
        "        elif income >= 1000001:\n",
        "            return 'A'\n",
        "    except:\n",
        "        pass"
      ]
    },
    {
      "cell_type": "code",
      "execution_count": null,
      "id": "0980ada1",
      "metadata": {
        "deletable": false,
        "id": "0980ada1"
      },
      "outputs": [],
      "source": [
        "data['total_income_category'] = data['total_income'].apply(categorize_income)"
      ]
    },
    {
      "cell_type": "markdown",
      "id": "9917bba0",
      "metadata": {
        "deletable": false,
        "editable": false,
        "id": "9917bba0"
      },
      "source": [
        "**Задание 17. Выведите на экран перечень уникальных целей взятия кредита из столбца `purpose`.**"
      ]
    },
    {
      "cell_type": "code",
      "execution_count": null,
      "id": "ee07b65e",
      "metadata": {
        "deletable": false,
        "id": "ee07b65e",
        "outputId": "673c12d9-7d7e-4ae0-9812-c622c89dd244"
      },
      "outputs": [
        {
          "data": {
            "text/plain": [
              "array(['покупка жилья', 'приобретение автомобиля',\n",
              "       'дополнительное образование', 'сыграть свадьбу',\n",
              "       'операции с жильем', 'образование', 'на проведение свадьбы',\n",
              "       'покупка жилья для семьи', 'покупка недвижимости',\n",
              "       'покупка коммерческой недвижимости', 'покупка жилой недвижимости',\n",
              "       'строительство собственной недвижимости', 'недвижимость',\n",
              "       'строительство недвижимости', 'на покупку подержанного автомобиля',\n",
              "       'на покупку своего автомобиля',\n",
              "       'операции с коммерческой недвижимостью',\n",
              "       'строительство жилой недвижимости', 'жилье',\n",
              "       'операции со своей недвижимостью', 'автомобили',\n",
              "       'заняться образованием', 'сделка с подержанным автомобилем',\n",
              "       'получение образования', 'автомобиль', 'свадьба',\n",
              "       'получение дополнительного образования', 'покупка своего жилья',\n",
              "       'операции с недвижимостью', 'получение высшего образования',\n",
              "       'свой автомобиль', 'сделка с автомобилем',\n",
              "       'профильное образование', 'высшее образование',\n",
              "       'покупка жилья для сдачи', 'на покупку автомобиля', 'ремонт жилью',\n",
              "       'заняться высшим образованием'], dtype=object)"
            ]
          },
          "execution_count": 19,
          "metadata": {},
          "output_type": "execute_result"
        }
      ],
      "source": [
        "data['purpose'].unique()"
      ]
    },
    {
      "cell_type": "markdown",
      "id": "52b79d56",
      "metadata": {
        "deletable": false,
        "editable": false,
        "id": "52b79d56"
      },
      "source": [
        "**Задание 18. Создайте функцию, которая на основании данных из столбца `purpose` сформирует новый столбец `purpose_category`, в который войдут следующие категории:**\n",
        "\n",
        "- `'операции с автомобилем'`,\n",
        "- `'операции с недвижимостью'`,\n",
        "- `'проведение свадьбы'`,\n",
        "- `'получение образования'`.\n",
        "\n",
        "**Например, если в столбце `purpose` находится подстрока `'на покупку автомобиля'`, то в столбце `purpose_category` должна появиться строка `'операции с автомобилем'`.**\n",
        "\n",
        "**Используйте собственную функцию с именем `categorize_purpose()` и метод `apply()`. Изучите данные в столбце `purpose` и определите, какие подстроки помогут вам правильно определить категорию.**"
      ]
    },
    {
      "cell_type": "code",
      "execution_count": null,
      "id": "be41da5d",
      "metadata": {
        "deletable": false,
        "id": "be41da5d"
      },
      "outputs": [],
      "source": [
        "def categorize_purpose(row):\n",
        "    try:\n",
        "        if 'автом' in row:\n",
        "            return 'операции с автомобилем'\n",
        "        elif 'жил' in row or 'недвиж' in row:\n",
        "            return 'операции с недвижимостью'\n",
        "        elif 'свад' in row:\n",
        "            return 'проведение свадьбы'\n",
        "        elif 'образов' in row:\n",
        "            return 'получение образования'\n",
        "    except:\n",
        "        return 'нет категории'"
      ]
    },
    {
      "cell_type": "code",
      "execution_count": null,
      "id": "94c4a19a",
      "metadata": {
        "deletable": false,
        "id": "94c4a19a"
      },
      "outputs": [],
      "source": [
        "data['purpose_category'] = data['purpose'].apply(categorize_purpose)"
      ]
    },
    {
      "cell_type": "markdown",
      "id": "3d596c34",
      "metadata": {
        "deletable": false,
        "editable": false,
        "id": "3d596c34"
      },
      "source": [
        "### Шаг 3. Исследуйте данные и ответьте на вопросы"
      ]
    },
    {
      "cell_type": "markdown",
      "id": "648db036",
      "metadata": {
        "deletable": false,
        "editable": false,
        "id": "648db036"
      },
      "source": [
        "#### 3.1 Есть ли зависимость между количеством детей и возвратом кредита в срок?"
      ]
    },
    {
      "cell_type": "code",
      "execution_count": null,
      "id": "7fcff25e",
      "metadata": {
        "deletable": false,
        "id": "7fcff25e",
        "outputId": "073dbf59-cc5f-4651-da14-5ca37f464d28"
      },
      "outputs": [
        {
          "data": {
            "text/html": [
              "<div>\n",
              "<style scoped>\n",
              "    .dataframe tbody tr th:only-of-type {\n",
              "        vertical-align: middle;\n",
              "    }\n",
              "\n",
              "    .dataframe tbody tr th {\n",
              "        vertical-align: top;\n",
              "    }\n",
              "\n",
              "    .dataframe thead th {\n",
              "        text-align: right;\n",
              "    }\n",
              "</style>\n",
              "<table border=\"1\" class=\"dataframe\">\n",
              "  <thead>\n",
              "    <tr style=\"text-align: right;\">\n",
              "      <th></th>\n",
              "      <th>children</th>\n",
              "      <th>days_employed</th>\n",
              "      <th>dob_years</th>\n",
              "      <th>education</th>\n",
              "      <th>education_id</th>\n",
              "      <th>family_status</th>\n",
              "      <th>family_status_id</th>\n",
              "      <th>gender</th>\n",
              "      <th>income_type</th>\n",
              "      <th>debt</th>\n",
              "      <th>total_income</th>\n",
              "      <th>purpose</th>\n",
              "      <th>total_income_category</th>\n",
              "      <th>purpose_category</th>\n",
              "    </tr>\n",
              "  </thead>\n",
              "  <tbody>\n",
              "    <tr>\n",
              "      <th>0</th>\n",
              "      <td>1</td>\n",
              "      <td>8437.673028</td>\n",
              "      <td>42</td>\n",
              "      <td>высшее</td>\n",
              "      <td>0</td>\n",
              "      <td>женат / замужем</td>\n",
              "      <td>0</td>\n",
              "      <td>F</td>\n",
              "      <td>сотрудник</td>\n",
              "      <td>0</td>\n",
              "      <td>253875</td>\n",
              "      <td>покупка жилья</td>\n",
              "      <td>B</td>\n",
              "      <td>операции с недвижимостью</td>\n",
              "    </tr>\n",
              "    <tr>\n",
              "      <th>1</th>\n",
              "      <td>1</td>\n",
              "      <td>4024.803754</td>\n",
              "      <td>36</td>\n",
              "      <td>среднее</td>\n",
              "      <td>1</td>\n",
              "      <td>женат / замужем</td>\n",
              "      <td>0</td>\n",
              "      <td>F</td>\n",
              "      <td>сотрудник</td>\n",
              "      <td>0</td>\n",
              "      <td>112080</td>\n",
              "      <td>приобретение автомобиля</td>\n",
              "      <td>C</td>\n",
              "      <td>операции с автомобилем</td>\n",
              "    </tr>\n",
              "    <tr>\n",
              "      <th>2</th>\n",
              "      <td>0</td>\n",
              "      <td>5623.422610</td>\n",
              "      <td>33</td>\n",
              "      <td>среднее</td>\n",
              "      <td>1</td>\n",
              "      <td>женат / замужем</td>\n",
              "      <td>0</td>\n",
              "      <td>M</td>\n",
              "      <td>сотрудник</td>\n",
              "      <td>0</td>\n",
              "      <td>145885</td>\n",
              "      <td>покупка жилья</td>\n",
              "      <td>C</td>\n",
              "      <td>операции с недвижимостью</td>\n",
              "    </tr>\n",
              "    <tr>\n",
              "      <th>3</th>\n",
              "      <td>3</td>\n",
              "      <td>4124.747207</td>\n",
              "      <td>32</td>\n",
              "      <td>среднее</td>\n",
              "      <td>1</td>\n",
              "      <td>женат / замужем</td>\n",
              "      <td>0</td>\n",
              "      <td>M</td>\n",
              "      <td>сотрудник</td>\n",
              "      <td>0</td>\n",
              "      <td>267628</td>\n",
              "      <td>дополнительное образование</td>\n",
              "      <td>B</td>\n",
              "      <td>получение образования</td>\n",
              "    </tr>\n",
              "    <tr>\n",
              "      <th>4</th>\n",
              "      <td>0</td>\n",
              "      <td>340266.072047</td>\n",
              "      <td>53</td>\n",
              "      <td>среднее</td>\n",
              "      <td>1</td>\n",
              "      <td>гражданский брак</td>\n",
              "      <td>1</td>\n",
              "      <td>F</td>\n",
              "      <td>пенсионер</td>\n",
              "      <td>0</td>\n",
              "      <td>158616</td>\n",
              "      <td>сыграть свадьбу</td>\n",
              "      <td>C</td>\n",
              "      <td>проведение свадьбы</td>\n",
              "    </tr>\n",
              "  </tbody>\n",
              "</table>\n",
              "</div>"
            ],
            "text/plain": [
              "   children  days_employed  dob_years education  education_id  \\\n",
              "0         1    8437.673028         42    высшее             0   \n",
              "1         1    4024.803754         36   среднее             1   \n",
              "2         0    5623.422610         33   среднее             1   \n",
              "3         3    4124.747207         32   среднее             1   \n",
              "4         0  340266.072047         53   среднее             1   \n",
              "\n",
              "      family_status  family_status_id gender income_type  debt  total_income  \\\n",
              "0   женат / замужем                 0      F   сотрудник     0        253875   \n",
              "1   женат / замужем                 0      F   сотрудник     0        112080   \n",
              "2   женат / замужем                 0      M   сотрудник     0        145885   \n",
              "3   женат / замужем                 0      M   сотрудник     0        267628   \n",
              "4  гражданский брак                 1      F   пенсионер     0        158616   \n",
              "\n",
              "                      purpose total_income_category          purpose_category  \n",
              "0               покупка жилья                     B  операции с недвижимостью  \n",
              "1     приобретение автомобиля                     C    операции с автомобилем  \n",
              "2               покупка жилья                     C  операции с недвижимостью  \n",
              "3  дополнительное образование                     B     получение образования  \n",
              "4             сыграть свадьбу                     C        проведение свадьбы  "
            ]
          },
          "metadata": {},
          "output_type": "display_data"
        }
      ],
      "source": [
        "# Ваш код будет здесь. Вы можете создавать новые ячейки.\n",
        "display(data.head(5)) # посмотрим еще раз на первые 5 строк, чтобы проверить все ли расчетные параметры загрузились"
      ]
    },
    {
      "cell_type": "code",
      "execution_count": null,
      "id": "81db9b87",
      "metadata": {
        "id": "81db9b87",
        "outputId": "538d1942-66de-4e1a-ea22-78e61a5e82e9"
      },
      "outputs": [
        {
          "data": {
            "text/html": [
              "<div>\n",
              "<style scoped>\n",
              "    .dataframe tbody tr th:only-of-type {\n",
              "        vertical-align: middle;\n",
              "    }\n",
              "\n",
              "    .dataframe tbody tr th {\n",
              "        vertical-align: top;\n",
              "    }\n",
              "\n",
              "    .dataframe thead th {\n",
              "        text-align: right;\n",
              "    }\n",
              "</style>\n",
              "<table border=\"1\" class=\"dataframe\">\n",
              "  <thead>\n",
              "    <tr style=\"text-align: right;\">\n",
              "      <th></th>\n",
              "      <th>children</th>\n",
              "      <th>debt</th>\n",
              "      <th>family_status</th>\n",
              "    </tr>\n",
              "  </thead>\n",
              "  <tbody>\n",
              "    <tr>\n",
              "      <th>0</th>\n",
              "      <td>1</td>\n",
              "      <td>0</td>\n",
              "      <td>женат / замужем</td>\n",
              "    </tr>\n",
              "    <tr>\n",
              "      <th>1</th>\n",
              "      <td>1</td>\n",
              "      <td>0</td>\n",
              "      <td>женат / замужем</td>\n",
              "    </tr>\n",
              "    <tr>\n",
              "      <th>2</th>\n",
              "      <td>0</td>\n",
              "      <td>0</td>\n",
              "      <td>женат / замужем</td>\n",
              "    </tr>\n",
              "    <tr>\n",
              "      <th>3</th>\n",
              "      <td>3</td>\n",
              "      <td>0</td>\n",
              "      <td>женат / замужем</td>\n",
              "    </tr>\n",
              "    <tr>\n",
              "      <th>4</th>\n",
              "      <td>0</td>\n",
              "      <td>0</td>\n",
              "      <td>гражданский брак</td>\n",
              "    </tr>\n",
              "  </tbody>\n",
              "</table>\n",
              "</div>"
            ],
            "text/plain": [
              "   children  debt     family_status\n",
              "0         1     0   женат / замужем\n",
              "1         1     0   женат / замужем\n",
              "2         0     0   женат / замужем\n",
              "3         3     0   женат / замужем\n",
              "4         0     0  гражданский брак"
            ]
          },
          "metadata": {},
          "output_type": "display_data"
        }
      ],
      "source": [
        "# для ответа на этот вопрос нам понадобятся 2 столбца: количество детей (children) и имел ли задолженность по возврату кредита (debt)\n",
        "# столбец family_status вывели для инфо\n",
        "\n",
        "child_debt = data[['children', 'debt', 'family_status']]\n",
        "display(child_debt.head(5))"
      ]
    },
    {
      "cell_type": "code",
      "execution_count": null,
      "id": "fcbe937f",
      "metadata": {
        "scrolled": true,
        "id": "fcbe937f",
        "outputId": "2d32ffc9-62ea-47e3-b5c1-4e07bba4b6ea"
      },
      "outputs": [
        {
          "data": {
            "text/html": [
              "<div>\n",
              "<style scoped>\n",
              "    .dataframe tbody tr th:only-of-type {\n",
              "        vertical-align: middle;\n",
              "    }\n",
              "\n",
              "    .dataframe tbody tr th {\n",
              "        vertical-align: top;\n",
              "    }\n",
              "\n",
              "    .dataframe thead th {\n",
              "        text-align: right;\n",
              "    }\n",
              "</style>\n",
              "<table border=\"1\" class=\"dataframe\">\n",
              "  <thead>\n",
              "    <tr style=\"text-align: right;\">\n",
              "      <th></th>\n",
              "      <th>Все заемщики</th>\n",
              "      <th>Должники</th>\n",
              "    </tr>\n",
              "    <tr>\n",
              "      <th>children</th>\n",
              "      <th></th>\n",
              "      <th></th>\n",
              "    </tr>\n",
              "  </thead>\n",
              "  <tbody>\n",
              "    <tr>\n",
              "      <th>0</th>\n",
              "      <td>14091</td>\n",
              "      <td>1063</td>\n",
              "    </tr>\n",
              "    <tr>\n",
              "      <th>1</th>\n",
              "      <td>4808</td>\n",
              "      <td>444</td>\n",
              "    </tr>\n",
              "    <tr>\n",
              "      <th>2</th>\n",
              "      <td>2052</td>\n",
              "      <td>194</td>\n",
              "    </tr>\n",
              "    <tr>\n",
              "      <th>3</th>\n",
              "      <td>330</td>\n",
              "      <td>27</td>\n",
              "    </tr>\n",
              "    <tr>\n",
              "      <th>4</th>\n",
              "      <td>41</td>\n",
              "      <td>4</td>\n",
              "    </tr>\n",
              "    <tr>\n",
              "      <th>5</th>\n",
              "      <td>9</td>\n",
              "      <td>0</td>\n",
              "    </tr>\n",
              "  </tbody>\n",
              "</table>\n",
              "</div>"
            ],
            "text/plain": [
              "          Все заемщики  Должники\n",
              "children                        \n",
              "0                14091      1063\n",
              "1                 4808       444\n",
              "2                 2052       194\n",
              "3                  330        27\n",
              "4                   41         4\n",
              "5                    9         0"
            ]
          },
          "metadata": {},
          "output_type": "display_data"
        }
      ],
      "source": [
        "child_pivot = child_debt.pivot_table(index=['children'], values='debt', aggfunc= {'count','sum'})\n",
        "child_pivot = child_pivot.rename(columns={'count':'Все заемщики','sum':'Должники'})\n",
        "display(child_pivot)"
      ]
    },
    {
      "cell_type": "code",
      "execution_count": null,
      "id": "df6356fe",
      "metadata": {
        "id": "df6356fe",
        "outputId": "36fd8670-9ab2-4177-e861-e92e9895d657"
      },
      "outputs": [
        {
          "data": {
            "text/html": [
              "<div>\n",
              "<style scoped>\n",
              "    .dataframe tbody tr th:only-of-type {\n",
              "        vertical-align: middle;\n",
              "    }\n",
              "\n",
              "    .dataframe tbody tr th {\n",
              "        vertical-align: top;\n",
              "    }\n",
              "\n",
              "    .dataframe thead th {\n",
              "        text-align: right;\n",
              "    }\n",
              "</style>\n",
              "<table border=\"1\" class=\"dataframe\">\n",
              "  <thead>\n",
              "    <tr style=\"text-align: right;\">\n",
              "      <th></th>\n",
              "      <th>Все заемщики</th>\n",
              "      <th>Должники</th>\n",
              "      <th>Доля должников</th>\n",
              "    </tr>\n",
              "    <tr>\n",
              "      <th>children</th>\n",
              "      <th></th>\n",
              "      <th></th>\n",
              "      <th></th>\n",
              "    </tr>\n",
              "  </thead>\n",
              "  <tbody>\n",
              "    <tr>\n",
              "      <th>0</th>\n",
              "      <td>14091</td>\n",
              "      <td>1063</td>\n",
              "      <td>8.0</td>\n",
              "    </tr>\n",
              "    <tr>\n",
              "      <th>1</th>\n",
              "      <td>4808</td>\n",
              "      <td>444</td>\n",
              "      <td>9.0</td>\n",
              "    </tr>\n",
              "    <tr>\n",
              "      <th>2</th>\n",
              "      <td>2052</td>\n",
              "      <td>194</td>\n",
              "      <td>9.0</td>\n",
              "    </tr>\n",
              "    <tr>\n",
              "      <th>3</th>\n",
              "      <td>330</td>\n",
              "      <td>27</td>\n",
              "      <td>8.0</td>\n",
              "    </tr>\n",
              "    <tr>\n",
              "      <th>4</th>\n",
              "      <td>41</td>\n",
              "      <td>4</td>\n",
              "      <td>10.0</td>\n",
              "    </tr>\n",
              "    <tr>\n",
              "      <th>5</th>\n",
              "      <td>9</td>\n",
              "      <td>0</td>\n",
              "      <td>0.0</td>\n",
              "    </tr>\n",
              "  </tbody>\n",
              "</table>\n",
              "</div>"
            ],
            "text/plain": [
              "          Все заемщики  Должники  Доля должников\n",
              "children                                        \n",
              "0                14091      1063             8.0\n",
              "1                 4808       444             9.0\n",
              "2                 2052       194             9.0\n",
              "3                  330        27             8.0\n",
              "4                   41         4            10.0\n",
              "5                    9         0             0.0"
            ]
          },
          "metadata": {},
          "output_type": "display_data"
        }
      ],
      "source": [
        "# добавим дополнительный расчетный столбец\n",
        "child_pivot['Доля должников'] = (round(child_pivot['Должники'] / child_pivot['Все заемщики'], 2)) * 100\n",
        "display(child_pivot)"
      ]
    },
    {
      "cell_type": "markdown",
      "id": "2eb9088e",
      "metadata": {
        "deletable": false,
        "id": "2eb9088e"
      },
      "source": [
        "**Вывод:**\n",
        "\n",
        "Отвечая на вопрос: да, по данным таблицы, можем выявить зависимость между количеством детей и возвратом кредита в срок.\n",
        "Если рассматривать только количественные показатели, то максимальное количество невозвратов(1063) в категории, у которых нет детей. При этом относительный показатель - 8% невозвратов не очень высокий (они более платежеспособные) и идентичен категории заемщиков, у которых 3е детей.\n",
        "\n",
        "В то же время заемщики, у которых 4 детей хоть и имеют 4 неврозврата из 41, доля просрочки у них самая высокая - 10% и это объясняется сильной финансовой нагрузкой на семью с 4мя детьми.\n",
        "\n",
        "Семьи с 1 и 2 детьми имеют долю невозвратов 9%, хотя количественно показатели у них невысокие по отношению к общему количеству заемщиков.\n"
      ]
    },
    {
      "cell_type": "markdown",
      "id": "74c9b3a7",
      "metadata": {
        "deletable": false,
        "editable": false,
        "id": "74c9b3a7"
      },
      "source": [
        "#### 3.2 Есть ли зависимость между семейным положением и возвратом кредита в срок?"
      ]
    },
    {
      "cell_type": "code",
      "execution_count": null,
      "id": "8098ab3b",
      "metadata": {
        "deletable": false,
        "id": "8098ab3b",
        "outputId": "2bae939e-0a7d-4a3f-c867-9a850a957df4"
      },
      "outputs": [
        {
          "data": {
            "text/html": [
              "<div>\n",
              "<style scoped>\n",
              "    .dataframe tbody tr th:only-of-type {\n",
              "        vertical-align: middle;\n",
              "    }\n",
              "\n",
              "    .dataframe tbody tr th {\n",
              "        vertical-align: top;\n",
              "    }\n",
              "\n",
              "    .dataframe thead th {\n",
              "        text-align: right;\n",
              "    }\n",
              "</style>\n",
              "<table border=\"1\" class=\"dataframe\">\n",
              "  <thead>\n",
              "    <tr style=\"text-align: right;\">\n",
              "      <th></th>\n",
              "      <th>family_status</th>\n",
              "      <th>family_status_id</th>\n",
              "      <th>debt</th>\n",
              "    </tr>\n",
              "  </thead>\n",
              "  <tbody>\n",
              "    <tr>\n",
              "      <th>0</th>\n",
              "      <td>женат / замужем</td>\n",
              "      <td>0</td>\n",
              "      <td>0</td>\n",
              "    </tr>\n",
              "    <tr>\n",
              "      <th>1</th>\n",
              "      <td>женат / замужем</td>\n",
              "      <td>0</td>\n",
              "      <td>0</td>\n",
              "    </tr>\n",
              "    <tr>\n",
              "      <th>2</th>\n",
              "      <td>женат / замужем</td>\n",
              "      <td>0</td>\n",
              "      <td>0</td>\n",
              "    </tr>\n",
              "    <tr>\n",
              "      <th>3</th>\n",
              "      <td>женат / замужем</td>\n",
              "      <td>0</td>\n",
              "      <td>0</td>\n",
              "    </tr>\n",
              "    <tr>\n",
              "      <th>4</th>\n",
              "      <td>гражданский брак</td>\n",
              "      <td>1</td>\n",
              "      <td>0</td>\n",
              "    </tr>\n",
              "  </tbody>\n",
              "</table>\n",
              "</div>"
            ],
            "text/plain": [
              "      family_status  family_status_id  debt\n",
              "0   женат / замужем                 0     0\n",
              "1   женат / замужем                 0     0\n",
              "2   женат / замужем                 0     0\n",
              "3   женат / замужем                 0     0\n",
              "4  гражданский брак                 1     0"
            ]
          },
          "metadata": {},
          "output_type": "display_data"
        }
      ],
      "source": [
        "# Ваш код будет здесь. Вы можете создавать новые ячейки.\n",
        "# для ответа на этот вопрос нам понадобятся 3 столбца: family_status, family_status_id и debt\n",
        "family_debt = data[['family_status', 'family_status_id', 'debt']]\n",
        "display(family_debt.head(5))\n"
      ]
    },
    {
      "cell_type": "code",
      "execution_count": null,
      "id": "1a5b26f1",
      "metadata": {
        "id": "1a5b26f1",
        "outputId": "4a080555-40b4-40c3-c8cb-a218389dbaeb"
      },
      "outputs": [
        {
          "data": {
            "text/html": [
              "<div>\n",
              "<style scoped>\n",
              "    .dataframe tbody tr th:only-of-type {\n",
              "        vertical-align: middle;\n",
              "    }\n",
              "\n",
              "    .dataframe tbody tr th {\n",
              "        vertical-align: top;\n",
              "    }\n",
              "\n",
              "    .dataframe thead th {\n",
              "        text-align: right;\n",
              "    }\n",
              "</style>\n",
              "<table border=\"1\" class=\"dataframe\">\n",
              "  <thead>\n",
              "    <tr style=\"text-align: right;\">\n",
              "      <th></th>\n",
              "      <th>Все заемщики</th>\n",
              "      <th>Должники</th>\n",
              "    </tr>\n",
              "    <tr>\n",
              "      <th>family_status</th>\n",
              "      <th></th>\n",
              "      <th></th>\n",
              "    </tr>\n",
              "  </thead>\n",
              "  <tbody>\n",
              "    <tr>\n",
              "      <th>Не женат / не замужем</th>\n",
              "      <td>2796</td>\n",
              "      <td>273</td>\n",
              "    </tr>\n",
              "    <tr>\n",
              "      <th>в разводе</th>\n",
              "      <td>1189</td>\n",
              "      <td>84</td>\n",
              "    </tr>\n",
              "    <tr>\n",
              "      <th>вдовец / вдова</th>\n",
              "      <td>951</td>\n",
              "      <td>63</td>\n",
              "    </tr>\n",
              "    <tr>\n",
              "      <th>гражданский брак</th>\n",
              "      <td>4134</td>\n",
              "      <td>385</td>\n",
              "    </tr>\n",
              "    <tr>\n",
              "      <th>женат / замужем</th>\n",
              "      <td>12261</td>\n",
              "      <td>927</td>\n",
              "    </tr>\n",
              "  </tbody>\n",
              "</table>\n",
              "</div>"
            ],
            "text/plain": [
              "                       Все заемщики  Должники\n",
              "family_status                                \n",
              "Не женат / не замужем          2796       273\n",
              "в разводе                      1189        84\n",
              "вдовец / вдова                  951        63\n",
              "гражданский брак               4134       385\n",
              "женат / замужем               12261       927"
            ]
          },
          "metadata": {},
          "output_type": "display_data"
        }
      ],
      "source": [
        "# построим сводную таблицу\n",
        "family_pivot = family_debt.pivot_table(index=['family_status'], values='debt', aggfunc= {'count','sum'})\n",
        "family_pivot = family_pivot.rename(columns={'count':'Все заемщики','sum':'Должники'})\n",
        "display(family_pivot)\n"
      ]
    },
    {
      "cell_type": "code",
      "execution_count": null,
      "id": "6855cebc",
      "metadata": {
        "id": "6855cebc",
        "outputId": "f6124c2f-8cb1-4786-ec3a-0558108b05a0"
      },
      "outputs": [
        {
          "data": {
            "text/html": [
              "<div>\n",
              "<style scoped>\n",
              "    .dataframe tbody tr th:only-of-type {\n",
              "        vertical-align: middle;\n",
              "    }\n",
              "\n",
              "    .dataframe tbody tr th {\n",
              "        vertical-align: top;\n",
              "    }\n",
              "\n",
              "    .dataframe thead th {\n",
              "        text-align: right;\n",
              "    }\n",
              "</style>\n",
              "<table border=\"1\" class=\"dataframe\">\n",
              "  <thead>\n",
              "    <tr style=\"text-align: right;\">\n",
              "      <th></th>\n",
              "      <th>Все заемщики</th>\n",
              "      <th>Должники</th>\n",
              "      <th>Доля должников</th>\n",
              "    </tr>\n",
              "    <tr>\n",
              "      <th>family_status</th>\n",
              "      <th></th>\n",
              "      <th></th>\n",
              "      <th></th>\n",
              "    </tr>\n",
              "  </thead>\n",
              "  <tbody>\n",
              "    <tr>\n",
              "      <th>Не женат / не замужем</th>\n",
              "      <td>2796</td>\n",
              "      <td>273</td>\n",
              "      <td>10.0</td>\n",
              "    </tr>\n",
              "    <tr>\n",
              "      <th>в разводе</th>\n",
              "      <td>1189</td>\n",
              "      <td>84</td>\n",
              "      <td>7.0</td>\n",
              "    </tr>\n",
              "    <tr>\n",
              "      <th>вдовец / вдова</th>\n",
              "      <td>951</td>\n",
              "      <td>63</td>\n",
              "      <td>7.0</td>\n",
              "    </tr>\n",
              "    <tr>\n",
              "      <th>гражданский брак</th>\n",
              "      <td>4134</td>\n",
              "      <td>385</td>\n",
              "      <td>9.0</td>\n",
              "    </tr>\n",
              "    <tr>\n",
              "      <th>женат / замужем</th>\n",
              "      <td>12261</td>\n",
              "      <td>927</td>\n",
              "      <td>8.0</td>\n",
              "    </tr>\n",
              "  </tbody>\n",
              "</table>\n",
              "</div>"
            ],
            "text/plain": [
              "                       Все заемщики  Должники  Доля должников\n",
              "family_status                                                \n",
              "Не женат / не замужем          2796       273            10.0\n",
              "в разводе                      1189        84             7.0\n",
              "вдовец / вдова                  951        63             7.0\n",
              "гражданский брак               4134       385             9.0\n",
              "женат / замужем               12261       927             8.0"
            ]
          },
          "metadata": {},
          "output_type": "display_data"
        }
      ],
      "source": [
        "# добавим дополнительный расчетный столбец\n",
        "family_pivot['Доля должников'] = (round(family_pivot['Должники'] / family_pivot['Все заемщики'], 2)) * 100\n",
        "display(family_pivot)"
      ]
    },
    {
      "cell_type": "markdown",
      "id": "c389ca63",
      "metadata": {
        "deletable": false,
        "id": "c389ca63"
      },
      "source": [
        "**Вывод:**\n",
        "\n",
        "Отвечая на вопрос: да мы видим, что присутствует зависимость между возвратом кредита и семейным положением. Минимальная доля должников - 7% в статусе \"в разводе\" / \"вдовец / вдова\" , что можно объяснить отстуствием высокой финансовой потребности при проживании одного человека.\n",
        "\n",
        "Категория заемщиков в статусе \"женат / замужем\" имеют также низкую долю невозвратов - 8% при высоком абсолютном значении по количеству 927 штук.\n",
        "\n",
        "Наиболее рисковой категорией являются заемщики в статусе \"Не женат / не замужем\" и \"гражданский брак\" 10% и 9% соответственно. Такой показатель можно объяснить тем, что у них снижен уровень отвественности, либо молодой возраст у заемщиков (в силу инфантильности могут забывать платить кредит в срок)."
      ]
    },
    {
      "cell_type": "markdown",
      "id": "9529de68",
      "metadata": {
        "deletable": false,
        "editable": false,
        "id": "9529de68"
      },
      "source": [
        "#### 3.3 Есть ли зависимость между уровнем дохода и возвратом кредита в срок?"
      ]
    },
    {
      "cell_type": "code",
      "execution_count": null,
      "id": "8787f44a",
      "metadata": {
        "deletable": false,
        "id": "8787f44a",
        "outputId": "37d721fd-f0db-434a-f414-794b95c819d9"
      },
      "outputs": [
        {
          "data": {
            "text/html": [
              "<div>\n",
              "<style scoped>\n",
              "    .dataframe tbody tr th:only-of-type {\n",
              "        vertical-align: middle;\n",
              "    }\n",
              "\n",
              "    .dataframe tbody tr th {\n",
              "        vertical-align: top;\n",
              "    }\n",
              "\n",
              "    .dataframe thead th {\n",
              "        text-align: right;\n",
              "    }\n",
              "</style>\n",
              "<table border=\"1\" class=\"dataframe\">\n",
              "  <thead>\n",
              "    <tr style=\"text-align: right;\">\n",
              "      <th></th>\n",
              "      <th>total_income</th>\n",
              "      <th>total_income_category</th>\n",
              "      <th>debt</th>\n",
              "    </tr>\n",
              "  </thead>\n",
              "  <tbody>\n",
              "    <tr>\n",
              "      <th>0</th>\n",
              "      <td>253875</td>\n",
              "      <td>B</td>\n",
              "      <td>0</td>\n",
              "    </tr>\n",
              "    <tr>\n",
              "      <th>1</th>\n",
              "      <td>112080</td>\n",
              "      <td>C</td>\n",
              "      <td>0</td>\n",
              "    </tr>\n",
              "    <tr>\n",
              "      <th>2</th>\n",
              "      <td>145885</td>\n",
              "      <td>C</td>\n",
              "      <td>0</td>\n",
              "    </tr>\n",
              "    <tr>\n",
              "      <th>3</th>\n",
              "      <td>267628</td>\n",
              "      <td>B</td>\n",
              "      <td>0</td>\n",
              "    </tr>\n",
              "    <tr>\n",
              "      <th>4</th>\n",
              "      <td>158616</td>\n",
              "      <td>C</td>\n",
              "      <td>0</td>\n",
              "    </tr>\n",
              "  </tbody>\n",
              "</table>\n",
              "</div>"
            ],
            "text/plain": [
              "   total_income total_income_category  debt\n",
              "0        253875                     B     0\n",
              "1        112080                     C     0\n",
              "2        145885                     C     0\n",
              "3        267628                     B     0\n",
              "4        158616                     C     0"
            ]
          },
          "metadata": {},
          "output_type": "display_data"
        }
      ],
      "source": [
        "# Ваш код будет здесь. Вы можете создавать новые ячейки.\n",
        "# для ответа на этот вопрос нам понадобятся 3 столбца: total_income, total_income_category и debt\n",
        "income_debt = data[['total_income', 'total_income_category', 'debt']]\n",
        "display(income_debt.head(5))"
      ]
    },
    {
      "cell_type": "code",
      "execution_count": null,
      "id": "9e089b3f",
      "metadata": {
        "id": "9e089b3f",
        "outputId": "d71ce4b8-cb3a-489c-d73a-66f95a97e1ab"
      },
      "outputs": [
        {
          "data": {
            "text/html": [
              "<div>\n",
              "<style scoped>\n",
              "    .dataframe tbody tr th:only-of-type {\n",
              "        vertical-align: middle;\n",
              "    }\n",
              "\n",
              "    .dataframe tbody tr th {\n",
              "        vertical-align: top;\n",
              "    }\n",
              "\n",
              "    .dataframe thead th {\n",
              "        text-align: right;\n",
              "    }\n",
              "</style>\n",
              "<table border=\"1\" class=\"dataframe\">\n",
              "  <thead>\n",
              "    <tr style=\"text-align: right;\">\n",
              "      <th></th>\n",
              "      <th>Все заемщики</th>\n",
              "      <th>Должники</th>\n",
              "    </tr>\n",
              "    <tr>\n",
              "      <th>total_income_category</th>\n",
              "      <th></th>\n",
              "      <th></th>\n",
              "    </tr>\n",
              "  </thead>\n",
              "  <tbody>\n",
              "    <tr>\n",
              "      <th>A</th>\n",
              "      <td>25</td>\n",
              "      <td>2</td>\n",
              "    </tr>\n",
              "    <tr>\n",
              "      <th>B</th>\n",
              "      <td>5014</td>\n",
              "      <td>354</td>\n",
              "    </tr>\n",
              "    <tr>\n",
              "      <th>C</th>\n",
              "      <td>15921</td>\n",
              "      <td>1353</td>\n",
              "    </tr>\n",
              "    <tr>\n",
              "      <th>D</th>\n",
              "      <td>349</td>\n",
              "      <td>21</td>\n",
              "    </tr>\n",
              "    <tr>\n",
              "      <th>E</th>\n",
              "      <td>22</td>\n",
              "      <td>2</td>\n",
              "    </tr>\n",
              "  </tbody>\n",
              "</table>\n",
              "</div>"
            ],
            "text/plain": [
              "                       Все заемщики  Должники\n",
              "total_income_category                        \n",
              "A                                25         2\n",
              "B                              5014       354\n",
              "C                             15921      1353\n",
              "D                               349        21\n",
              "E                                22         2"
            ]
          },
          "metadata": {},
          "output_type": "display_data"
        }
      ],
      "source": [
        "# построим сводную таблицу\n",
        "# как помним ранее, то мы производили категоризацию по уровню дохода:\n",
        "\n",
        "# - 0–30000 — `'E'`;\n",
        "# - 30001–50000 — `'D'`;\n",
        "# - 50001–200000 — `'C'`;\n",
        "# - 200001–1000000 — `'B'`;\n",
        "# - 1000001 и выше — `'A'`.\n",
        "\n",
        "income_pivot = income_debt.pivot_table(index=['total_income_category'], values='debt', aggfunc= {'count','sum'})\n",
        "income_pivot = income_pivot.rename(columns={'count':'Все заемщики','sum':'Должники'})\n",
        "display(income_pivot)\n"
      ]
    },
    {
      "cell_type": "code",
      "execution_count": null,
      "id": "e27b95b2",
      "metadata": {
        "id": "e27b95b2",
        "outputId": "6b194677-509f-42af-845f-56f8ddbbe377"
      },
      "outputs": [
        {
          "data": {
            "text/html": [
              "<div>\n",
              "<style scoped>\n",
              "    .dataframe tbody tr th:only-of-type {\n",
              "        vertical-align: middle;\n",
              "    }\n",
              "\n",
              "    .dataframe tbody tr th {\n",
              "        vertical-align: top;\n",
              "    }\n",
              "\n",
              "    .dataframe thead th {\n",
              "        text-align: right;\n",
              "    }\n",
              "</style>\n",
              "<table border=\"1\" class=\"dataframe\">\n",
              "  <thead>\n",
              "    <tr style=\"text-align: right;\">\n",
              "      <th></th>\n",
              "      <th>Все заемщики</th>\n",
              "      <th>Должники</th>\n",
              "      <th>Доля должников</th>\n",
              "    </tr>\n",
              "    <tr>\n",
              "      <th>total_income_category</th>\n",
              "      <th></th>\n",
              "      <th></th>\n",
              "      <th></th>\n",
              "    </tr>\n",
              "  </thead>\n",
              "  <tbody>\n",
              "    <tr>\n",
              "      <th>A</th>\n",
              "      <td>25</td>\n",
              "      <td>2</td>\n",
              "      <td>8.0</td>\n",
              "    </tr>\n",
              "    <tr>\n",
              "      <th>B</th>\n",
              "      <td>5014</td>\n",
              "      <td>354</td>\n",
              "      <td>7.0</td>\n",
              "    </tr>\n",
              "    <tr>\n",
              "      <th>C</th>\n",
              "      <td>15921</td>\n",
              "      <td>1353</td>\n",
              "      <td>8.0</td>\n",
              "    </tr>\n",
              "    <tr>\n",
              "      <th>D</th>\n",
              "      <td>349</td>\n",
              "      <td>21</td>\n",
              "      <td>6.0</td>\n",
              "    </tr>\n",
              "    <tr>\n",
              "      <th>E</th>\n",
              "      <td>22</td>\n",
              "      <td>2</td>\n",
              "      <td>9.0</td>\n",
              "    </tr>\n",
              "  </tbody>\n",
              "</table>\n",
              "</div>"
            ],
            "text/plain": [
              "                       Все заемщики  Должники  Доля должников\n",
              "total_income_category                                        \n",
              "A                                25         2             8.0\n",
              "B                              5014       354             7.0\n",
              "C                             15921      1353             8.0\n",
              "D                               349        21             6.0\n",
              "E                                22         2             9.0"
            ]
          },
          "metadata": {},
          "output_type": "display_data"
        }
      ],
      "source": [
        "# добавим дополнительный расчетный столбец\n",
        "income_pivot['Доля должников'] = (round(income_pivot['Должники'] / income_pivot['Все заемщики'], 2)) * 100\n",
        "display(income_pivot)"
      ]
    },
    {
      "cell_type": "markdown",
      "id": "6dd14b57",
      "metadata": {
        "deletable": false,
        "id": "6dd14b57"
      },
      "source": [
        "**Вывод:**\n",
        "\n",
        "Отвечая на вопрос: судя по сводной таблице выше, нельзя отметить четкую корреляцию между уровнем дохода и возвратом кредита. Данные таблицы больше говорят о том, что существует потребность в кредитовании при уровне дохода от 50 тыс до 200 тыс и поэтому максимальные показатели сосредоточены именно в этом диапазоне в категории \"С\" (1353 сделки). В то время как клиенты категории \"А\" и \"Е\" имеют равные шансы по долгу.\n",
        "\n",
        "Наиболее рисковой категорией с долей невозврата 8-9% являются заемщики из категории \"Е\" \"С\" и \"А\": первые в силу своего низкого уровня дохода, который может не покрывать платежи по кредиту и общую финансовую нагрузку, вторые и третьи в силу своей высокой финансовой нагрузки (скорее всего у них есть семьи), либо наличие других кредитов.\n"
      ]
    },
    {
      "cell_type": "markdown",
      "id": "1dcc9b12",
      "metadata": {
        "deletable": false,
        "editable": false,
        "id": "1dcc9b12"
      },
      "source": [
        "#### 3.4 Как разные цели кредита влияют на его возврат в срок?"
      ]
    },
    {
      "cell_type": "code",
      "execution_count": null,
      "id": "c602bc8b",
      "metadata": {
        "deletable": false,
        "id": "c602bc8b",
        "outputId": "e93a2488-a40d-415e-ebb6-e9ddebdbd30d"
      },
      "outputs": [
        {
          "data": {
            "text/html": [
              "<div>\n",
              "<style scoped>\n",
              "    .dataframe tbody tr th:only-of-type {\n",
              "        vertical-align: middle;\n",
              "    }\n",
              "\n",
              "    .dataframe tbody tr th {\n",
              "        vertical-align: top;\n",
              "    }\n",
              "\n",
              "    .dataframe thead th {\n",
              "        text-align: right;\n",
              "    }\n",
              "</style>\n",
              "<table border=\"1\" class=\"dataframe\">\n",
              "  <thead>\n",
              "    <tr style=\"text-align: right;\">\n",
              "      <th></th>\n",
              "      <th>purpose_category</th>\n",
              "      <th>purpose</th>\n",
              "      <th>debt</th>\n",
              "    </tr>\n",
              "  </thead>\n",
              "  <tbody>\n",
              "    <tr>\n",
              "      <th>0</th>\n",
              "      <td>операции с недвижимостью</td>\n",
              "      <td>покупка жилья</td>\n",
              "      <td>0</td>\n",
              "    </tr>\n",
              "    <tr>\n",
              "      <th>1</th>\n",
              "      <td>операции с автомобилем</td>\n",
              "      <td>приобретение автомобиля</td>\n",
              "      <td>0</td>\n",
              "    </tr>\n",
              "    <tr>\n",
              "      <th>2</th>\n",
              "      <td>операции с недвижимостью</td>\n",
              "      <td>покупка жилья</td>\n",
              "      <td>0</td>\n",
              "    </tr>\n",
              "    <tr>\n",
              "      <th>3</th>\n",
              "      <td>получение образования</td>\n",
              "      <td>дополнительное образование</td>\n",
              "      <td>0</td>\n",
              "    </tr>\n",
              "    <tr>\n",
              "      <th>4</th>\n",
              "      <td>проведение свадьбы</td>\n",
              "      <td>сыграть свадьбу</td>\n",
              "      <td>0</td>\n",
              "    </tr>\n",
              "  </tbody>\n",
              "</table>\n",
              "</div>"
            ],
            "text/plain": [
              "           purpose_category                     purpose  debt\n",
              "0  операции с недвижимостью               покупка жилья     0\n",
              "1    операции с автомобилем     приобретение автомобиля     0\n",
              "2  операции с недвижимостью               покупка жилья     0\n",
              "3     получение образования  дополнительное образование     0\n",
              "4        проведение свадьбы             сыграть свадьбу     0"
            ]
          },
          "metadata": {},
          "output_type": "display_data"
        }
      ],
      "source": [
        "# Ваш код будет здесь. Вы можете создавать новые ячейки.\n",
        "# Ваш код будет здесь. Вы можете создавать новые ячейки.\n",
        "# для ответа на этот вопрос нам понадобятся 3 столбца: purpose_category, purpose и debt\n",
        "purpose_debt = data[['purpose_category', 'purpose', 'debt']]\n",
        "display(purpose_debt.head(5))"
      ]
    },
    {
      "cell_type": "code",
      "execution_count": null,
      "id": "3ac4c135",
      "metadata": {
        "id": "3ac4c135",
        "outputId": "c78272d7-618f-4298-be41-3fe91dcdf68c"
      },
      "outputs": [
        {
          "data": {
            "text/html": [
              "<div>\n",
              "<style scoped>\n",
              "    .dataframe tbody tr th:only-of-type {\n",
              "        vertical-align: middle;\n",
              "    }\n",
              "\n",
              "    .dataframe tbody tr th {\n",
              "        vertical-align: top;\n",
              "    }\n",
              "\n",
              "    .dataframe thead th {\n",
              "        text-align: right;\n",
              "    }\n",
              "</style>\n",
              "<table border=\"1\" class=\"dataframe\">\n",
              "  <thead>\n",
              "    <tr style=\"text-align: right;\">\n",
              "      <th></th>\n",
              "      <th>Все заемщики</th>\n",
              "      <th>Должники</th>\n",
              "    </tr>\n",
              "    <tr>\n",
              "      <th>purpose_category</th>\n",
              "      <th></th>\n",
              "      <th></th>\n",
              "    </tr>\n",
              "  </thead>\n",
              "  <tbody>\n",
              "    <tr>\n",
              "      <th>операции с автомобилем</th>\n",
              "      <td>4279</td>\n",
              "      <td>400</td>\n",
              "    </tr>\n",
              "    <tr>\n",
              "      <th>операции с недвижимостью</th>\n",
              "      <td>10751</td>\n",
              "      <td>780</td>\n",
              "    </tr>\n",
              "    <tr>\n",
              "      <th>получение образования</th>\n",
              "      <td>3988</td>\n",
              "      <td>369</td>\n",
              "    </tr>\n",
              "    <tr>\n",
              "      <th>проведение свадьбы</th>\n",
              "      <td>2313</td>\n",
              "      <td>183</td>\n",
              "    </tr>\n",
              "  </tbody>\n",
              "</table>\n",
              "</div>"
            ],
            "text/plain": [
              "                          Все заемщики  Должники\n",
              "purpose_category                                \n",
              "операции с автомобилем            4279       400\n",
              "операции с недвижимостью         10751       780\n",
              "получение образования             3988       369\n",
              "проведение свадьбы                2313       183"
            ]
          },
          "metadata": {},
          "output_type": "display_data"
        }
      ],
      "source": [
        "# построим сводную таблицу\n",
        "purpose_pivot = purpose_debt.pivot_table(index=['purpose_category'], values='debt', aggfunc= {'count','sum'})\n",
        "purpose_pivot = purpose_pivot.rename(columns={'count':'Все заемщики','sum':'Должники'})\n",
        "display(purpose_pivot)\n"
      ]
    },
    {
      "cell_type": "code",
      "execution_count": null,
      "id": "ad1c7d66",
      "metadata": {
        "id": "ad1c7d66",
        "outputId": "3e09f72f-9e2a-4678-bc2e-b32cc8e1fe7d"
      },
      "outputs": [
        {
          "data": {
            "text/html": [
              "<div>\n",
              "<style scoped>\n",
              "    .dataframe tbody tr th:only-of-type {\n",
              "        vertical-align: middle;\n",
              "    }\n",
              "\n",
              "    .dataframe tbody tr th {\n",
              "        vertical-align: top;\n",
              "    }\n",
              "\n",
              "    .dataframe thead th {\n",
              "        text-align: right;\n",
              "    }\n",
              "</style>\n",
              "<table border=\"1\" class=\"dataframe\">\n",
              "  <thead>\n",
              "    <tr style=\"text-align: right;\">\n",
              "      <th></th>\n",
              "      <th>Все заемщики</th>\n",
              "      <th>Должники</th>\n",
              "      <th>Доля должников</th>\n",
              "    </tr>\n",
              "    <tr>\n",
              "      <th>purpose_category</th>\n",
              "      <th></th>\n",
              "      <th></th>\n",
              "      <th></th>\n",
              "    </tr>\n",
              "  </thead>\n",
              "  <tbody>\n",
              "    <tr>\n",
              "      <th>операции с автомобилем</th>\n",
              "      <td>4279</td>\n",
              "      <td>400</td>\n",
              "      <td>9.0</td>\n",
              "    </tr>\n",
              "    <tr>\n",
              "      <th>операции с недвижимостью</th>\n",
              "      <td>10751</td>\n",
              "      <td>780</td>\n",
              "      <td>7.0</td>\n",
              "    </tr>\n",
              "    <tr>\n",
              "      <th>получение образования</th>\n",
              "      <td>3988</td>\n",
              "      <td>369</td>\n",
              "      <td>9.0</td>\n",
              "    </tr>\n",
              "    <tr>\n",
              "      <th>проведение свадьбы</th>\n",
              "      <td>2313</td>\n",
              "      <td>183</td>\n",
              "      <td>8.0</td>\n",
              "    </tr>\n",
              "  </tbody>\n",
              "</table>\n",
              "</div>"
            ],
            "text/plain": [
              "                          Все заемщики  Должники  Доля должников\n",
              "purpose_category                                                \n",
              "операции с автомобилем            4279       400             9.0\n",
              "операции с недвижимостью         10751       780             7.0\n",
              "получение образования             3988       369             9.0\n",
              "проведение свадьбы                2313       183             8.0"
            ]
          },
          "metadata": {},
          "output_type": "display_data"
        }
      ],
      "source": [
        "# добавим дополнительный расчетный столбец\n",
        "purpose_pivot['Доля должников'] = (round(purpose_pivot['Должники'] / purpose_pivot['Все заемщики'], 2)) * 100\n",
        "display(purpose_pivot)"
      ]
    },
    {
      "cell_type": "markdown",
      "id": "6684c933",
      "metadata": {
        "deletable": false,
        "id": "6684c933"
      },
      "source": [
        "**Вывод:**\n",
        "Отвечая на вопрос: да, мы видим влияние цели кредитования на возврат кредита в срок. Получается, более серьезная цель - \"операции с недвижимостью\" имеет самый высокий количественный показатель (780 шт), и самый низкий минимальный относительный показатель - 7%. Скорее всего такой низкий показатель обусловлен тем, что это недвижимость и они могут более отвественно погашать задолженность, а иначе может привести к неблагоприятным последствиям и потери места жительства.\n",
        "\n",
        "Самый рисковой с точки зрения возврата являются цели \"операции с автомобилем\" и \"получение образования\" имеют практически идентичные уровни (400 и 369 соотвественно) и доля невозврата 9%. Это объясняется скорее всего, что заемщики небольшой возрастной категории, которые получают образование и у них может быть недостаточно доходов, чтобы вовремя вносить платежи. Аналогично и покупка автомобиля.\n",
        "\n",
        "Минимальный размер невозвратов 183 сделки имеет цель \"проведение свадьбы\", но при этом доля составляет 8%, что обусловлено также молодой возрастной категорией заемщиков и невыскоим уровнем дохода."
      ]
    },
    {
      "cell_type": "markdown",
      "id": "46c1f10b",
      "metadata": {
        "deletable": false,
        "editable": false,
        "id": "46c1f10b"
      },
      "source": [
        "#### 3.5 Приведите возможные причины появления пропусков в исходных данных."
      ]
    },
    {
      "cell_type": "markdown",
      "id": "3697d2a9",
      "metadata": {
        "deletable": false,
        "id": "3697d2a9"
      },
      "source": [
        "*Ответ:*\n",
        "Наиболее частые причины появления пропусков:\n",
        "- случайная, то есть при заполнении данных или опроса присутствует \"человеческий фактор\": забыли поставить значение или пропустили заполнение;\n",
        "- неслучайная (сокрытие данных), то есть преднамеренное удаление данных из массива данных;\n",
        "- потерянные, то есть при выгрузке данных могли не учесть какой-то параметр и данные затерлись или потерялись в процессе пересылки между контрагентами, например."
      ]
    },
    {
      "cell_type": "markdown",
      "id": "3137d257",
      "metadata": {
        "deletable": false,
        "editable": false,
        "id": "3137d257"
      },
      "source": [
        "#### 3.6 Объясните, почему заполнить пропуски медианным значением — лучшее решение для количественных переменных."
      ]
    },
    {
      "cell_type": "markdown",
      "id": "cf40012a",
      "metadata": {
        "deletable": false,
        "id": "cf40012a"
      },
      "source": [
        "*Ответ:*\n",
        "Заполнение пропусков медианным значением более корректно, так как медиана - это середина среди всех значений количественного показателя и отражает объективную картину в данных. В то время, как например, заполнение данных средним значением будет некорректно, особенно в случаях когда есть выбросы по значениям."
      ]
    },
    {
      "cell_type": "markdown",
      "id": "57bc304e",
      "metadata": {
        "deletable": false,
        "editable": false,
        "id": "57bc304e"
      },
      "source": [
        "### Шаг 4: общий вывод."
      ]
    },
    {
      "cell_type": "markdown",
      "id": "1ab75d1c",
      "metadata": {
        "deletable": false,
        "id": "1ab75d1c"
      },
      "source": [
        "Напишите ваш общий вывод.\n",
        "\n",
        "Кредитным отделом банка были предоставлены данные для анализа по заемщикам - статистика о платежеспособности клиентов. Датасет был представлен 12 показателями и 2 расчетными показателями (по категориям). На входе кредитным отделом была поставлена задача по поиску корреляции между показателми разных категорий и задано 4 вопроса.\n",
        "\n",
        "В ходе исследования использовались такие методы визуализации и анализа данных, как:\n",
        "- вывод информации о типах данных\n",
        "- выявление и удаление пропусков путем расчета медианного значения\n",
        "- произведена обработка и удаление аномальных значений\n",
        "- изменение типов данных\n",
        "- обработка и удаление дубликатов\n",
        "- произведена категоризация количественных и категориальных показателей\n",
        "- фильтрация основной таблицы для поиска закономерностей между показателями\n",
        "- агрегация данных с помощью сводной таблицы\n",
        "- построение простой гистограммы\n",
        "\n",
        "По результатам исследования была выявлена закономерность между: количеством детей и возвратом кредита в срок, между семейным положением и возвратом кредита в срок, между уровнем дохода и возвратом кредита в срок и как цели кредита влияют на его возврат в срок.\n",
        "\n",
        "Также был дан ответ на 2 общих вопроса о данных по наличию пропусков и заполнению их медианным значением.\n",
        "\n",
        "Выводы для банка: данный набор показателей вполне достаточен для построения скоринговой модели по заемщикам. Из всех представленных строк - 21525 , всего лишь 2174 строки были с отсутствующими значениями по столбцам \"общий трудовой стаж\" и \"ежемесячный доход\", что составило 10% от общей выборки. Вцелом это не очень высокий показатель, поэтому было достаточно заполнить данные медианным значением. Количество дубликатов также было несущественно (71 строка или 0,3%).\n",
        "\n",
        "Из 4х поставленных вопросов по 3 была выявлена очевидная корреляция, а по одному вопросу - закономерность между уровнем дохода и возвратом кредита в срок был получен неоднозначный ответ. Рекомендуется либо дополнить выборку по заемщикам с уровнем дохода из категорий A, D, E, либо убедиться, что данные заполнены корректно и действительно заемщики с уровненм дохода от 50 тыс до 1 млн руб активно пользуются кредитованием."
      ]
    }
  ],
  "metadata": {
    "ExecuteTimeLog": [
      {
        "duration": 71,
        "start_time": "2023-07-25T17:20:38.826Z"
      },
      {
        "duration": 541,
        "start_time": "2023-07-25T17:20:46.756Z"
      },
      {
        "duration": 49,
        "start_time": "2023-07-25T17:20:49.958Z"
      },
      {
        "duration": 30,
        "start_time": "2023-07-25T17:20:54.349Z"
      },
      {
        "duration": 10,
        "start_time": "2023-07-25T17:20:57.744Z"
      },
      {
        "duration": 63,
        "start_time": "2023-07-25T17:21:00.702Z"
      },
      {
        "duration": 11,
        "start_time": "2023-07-25T17:21:03.380Z"
      },
      {
        "duration": 19,
        "start_time": "2023-07-25T17:21:05.977Z"
      },
      {
        "duration": 5,
        "start_time": "2023-07-25T17:21:11.045Z"
      },
      {
        "duration": 16,
        "start_time": "2023-07-25T17:21:13.461Z"
      },
      {
        "duration": 6,
        "start_time": "2023-07-25T17:21:16.648Z"
      },
      {
        "duration": 55,
        "start_time": "2023-07-25T17:21:19.221Z"
      },
      {
        "duration": 21,
        "start_time": "2023-07-25T17:21:21.313Z"
      },
      {
        "duration": 8,
        "start_time": "2023-07-25T17:21:23.712Z"
      },
      {
        "duration": 19,
        "start_time": "2023-07-25T17:21:26.042Z"
      },
      {
        "duration": 40,
        "start_time": "2023-07-25T17:21:28.858Z"
      },
      {
        "duration": 27,
        "start_time": "2023-07-25T17:21:29.634Z"
      },
      {
        "duration": 5,
        "start_time": "2023-07-25T17:21:32.408Z"
      },
      {
        "duration": 13,
        "start_time": "2023-07-25T17:21:34.440Z"
      },
      {
        "duration": 7,
        "start_time": "2023-07-25T17:21:37.558Z"
      },
      {
        "duration": 5,
        "start_time": "2023-07-25T17:21:41.139Z"
      },
      {
        "duration": 30,
        "start_time": "2023-07-25T17:21:43.208Z"
      },
      {
        "duration": 9,
        "start_time": "2023-07-25T17:22:05.451Z"
      },
      {
        "duration": 3284,
        "start_time": "2023-07-25T17:26:36.130Z"
      },
      {
        "duration": 18,
        "start_time": "2023-07-25T17:28:38.646Z"
      },
      {
        "duration": 14,
        "start_time": "2023-07-25T17:28:46.538Z"
      },
      {
        "duration": 15,
        "start_time": "2023-07-25T17:28:51.337Z"
      },
      {
        "duration": 21,
        "start_time": "2023-07-25T17:35:30.713Z"
      },
      {
        "duration": 9,
        "start_time": "2023-07-25T17:37:48.764Z"
      },
      {
        "duration": 5,
        "start_time": "2023-07-25T17:44:56.603Z"
      },
      {
        "duration": 11,
        "start_time": "2023-07-25T17:44:58.060Z"
      },
      {
        "duration": 6,
        "start_time": "2023-07-25T17:45:16.030Z"
      },
      {
        "duration": 25,
        "start_time": "2023-07-25T17:55:26.066Z"
      },
      {
        "duration": 17,
        "start_time": "2023-07-25T17:55:33.621Z"
      },
      {
        "duration": 10,
        "start_time": "2023-07-25T17:56:44.934Z"
      },
      {
        "duration": 6,
        "start_time": "2023-07-25T17:56:50.616Z"
      },
      {
        "duration": 8,
        "start_time": "2023-07-25T17:57:19.299Z"
      },
      {
        "duration": 7,
        "start_time": "2023-07-25T17:58:46.913Z"
      },
      {
        "duration": 7,
        "start_time": "2023-07-25T17:59:11.345Z"
      },
      {
        "duration": 12,
        "start_time": "2023-07-25T17:59:47.320Z"
      },
      {
        "duration": 19,
        "start_time": "2023-07-25T18:02:10.103Z"
      },
      {
        "duration": 22,
        "start_time": "2023-07-25T18:03:01.463Z"
      },
      {
        "duration": 7,
        "start_time": "2023-07-25T18:03:05.536Z"
      },
      {
        "duration": 4,
        "start_time": "2023-07-25T18:03:15.933Z"
      },
      {
        "duration": 17,
        "start_time": "2023-07-25T18:03:25.762Z"
      },
      {
        "duration": 12,
        "start_time": "2023-07-25T18:03:34.508Z"
      },
      {
        "duration": 7,
        "start_time": "2023-07-25T18:03:36.341Z"
      },
      {
        "duration": 7,
        "start_time": "2023-07-25T18:03:42.851Z"
      },
      {
        "duration": 662,
        "start_time": "2023-07-25T20:30:15.151Z"
      },
      {
        "duration": 21,
        "start_time": "2023-07-25T20:30:18.564Z"
      },
      {
        "duration": 15,
        "start_time": "2023-07-25T20:30:22.910Z"
      },
      {
        "duration": 10,
        "start_time": "2023-07-25T20:30:27.326Z"
      },
      {
        "duration": 31,
        "start_time": "2023-07-25T20:30:31.613Z"
      },
      {
        "duration": 4,
        "start_time": "2023-07-25T20:30:37.216Z"
      },
      {
        "duration": 10,
        "start_time": "2023-07-25T20:30:39.141Z"
      },
      {
        "duration": 6,
        "start_time": "2023-07-25T20:30:45.261Z"
      },
      {
        "duration": 7,
        "start_time": "2023-07-25T20:30:49.459Z"
      },
      {
        "duration": 5,
        "start_time": "2023-07-25T20:30:52.013Z"
      },
      {
        "duration": 36,
        "start_time": "2023-07-25T20:30:55.650Z"
      },
      {
        "duration": 9,
        "start_time": "2023-07-25T20:31:00.159Z"
      },
      {
        "duration": 6,
        "start_time": "2023-07-25T20:31:04.094Z"
      },
      {
        "duration": 10,
        "start_time": "2023-07-25T20:31:07.308Z"
      },
      {
        "duration": 19,
        "start_time": "2023-07-25T20:31:09.725Z"
      },
      {
        "duration": 18,
        "start_time": "2023-07-25T20:31:12.285Z"
      },
      {
        "duration": 3,
        "start_time": "2023-07-25T20:31:15.788Z"
      },
      {
        "duration": 6,
        "start_time": "2023-07-25T20:31:30.761Z"
      },
      {
        "duration": 3,
        "start_time": "2023-07-25T20:31:39.123Z"
      },
      {
        "duration": 8,
        "start_time": "2023-07-25T20:31:50.619Z"
      },
      {
        "duration": 7,
        "start_time": "2023-07-25T20:31:54.327Z"
      },
      {
        "duration": 7,
        "start_time": "2023-07-25T20:32:07.996Z"
      },
      {
        "duration": 10,
        "start_time": "2023-07-25T20:32:11.965Z"
      },
      {
        "duration": 6,
        "start_time": "2023-07-25T20:32:28.253Z"
      },
      {
        "duration": 6,
        "start_time": "2023-07-25T20:33:27.512Z"
      },
      {
        "duration": 7,
        "start_time": "2023-07-25T20:34:12.634Z"
      },
      {
        "duration": 5,
        "start_time": "2023-07-25T20:34:17.258Z"
      },
      {
        "duration": 7,
        "start_time": "2023-07-25T20:49:57.892Z"
      },
      {
        "duration": 67,
        "start_time": "2023-07-25T20:50:33.128Z"
      },
      {
        "duration": 8,
        "start_time": "2023-07-25T20:51:23.320Z"
      },
      {
        "duration": 7,
        "start_time": "2023-07-25T21:00:18.913Z"
      },
      {
        "duration": 939,
        "start_time": "2023-07-25T21:01:18.404Z"
      },
      {
        "duration": 222,
        "start_time": "2023-07-25T21:02:57.097Z"
      },
      {
        "duration": 5,
        "start_time": "2023-07-25T21:05:11.201Z"
      },
      {
        "duration": 12,
        "start_time": "2023-07-25T21:09:00.125Z"
      },
      {
        "duration": 9,
        "start_time": "2023-07-25T21:13:24.108Z"
      },
      {
        "duration": 9,
        "start_time": "2023-07-25T21:14:48.747Z"
      },
      {
        "duration": 11,
        "start_time": "2023-07-25T21:21:41.933Z"
      },
      {
        "duration": 10,
        "start_time": "2023-07-25T21:25:02.641Z"
      },
      {
        "duration": 8,
        "start_time": "2023-07-25T21:25:42.966Z"
      },
      {
        "duration": 15,
        "start_time": "2023-07-25T21:25:45.109Z"
      },
      {
        "duration": 7,
        "start_time": "2023-07-25T21:26:08.397Z"
      },
      {
        "duration": 6,
        "start_time": "2023-07-25T21:26:13.759Z"
      },
      {
        "duration": 1265,
        "start_time": "2023-07-25T21:28:30.933Z"
      },
      {
        "duration": 1433,
        "start_time": "2023-07-25T21:29:42.425Z"
      },
      {
        "duration": 12,
        "start_time": "2023-07-25T21:29:49.709Z"
      },
      {
        "duration": 20,
        "start_time": "2023-07-25T21:29:52.662Z"
      },
      {
        "duration": 7,
        "start_time": "2023-07-25T21:29:56.364Z"
      },
      {
        "duration": 6,
        "start_time": "2023-07-25T21:29:59.263Z"
      },
      {
        "duration": 1651,
        "start_time": "2023-07-25T21:32:30.326Z"
      },
      {
        "duration": 7,
        "start_time": "2023-07-25T21:33:00.046Z"
      },
      {
        "duration": 12,
        "start_time": "2023-07-25T21:33:02.849Z"
      },
      {
        "duration": 8,
        "start_time": "2023-07-25T21:33:03.661Z"
      },
      {
        "duration": 6,
        "start_time": "2023-07-25T21:33:04.685Z"
      },
      {
        "duration": 1748,
        "start_time": "2023-07-25T21:33:05.997Z"
      },
      {
        "duration": 1989,
        "start_time": "2023-07-25T21:33:36.047Z"
      },
      {
        "duration": 12,
        "start_time": "2023-07-25T21:45:57.645Z"
      },
      {
        "duration": 10,
        "start_time": "2023-07-25T21:46:38.909Z"
      },
      {
        "duration": 17,
        "start_time": "2023-07-25T21:50:12.322Z"
      },
      {
        "duration": 8,
        "start_time": "2023-07-25T21:50:33.993Z"
      },
      {
        "duration": 19,
        "start_time": "2023-07-25T21:50:37.231Z"
      },
      {
        "duration": 5,
        "start_time": "2023-07-25T21:50:39.593Z"
      },
      {
        "duration": 6,
        "start_time": "2023-07-25T21:50:41.443Z"
      },
      {
        "duration": 8,
        "start_time": "2023-07-25T21:52:40.301Z"
      },
      {
        "duration": 6,
        "start_time": "2023-07-25T21:52:41.045Z"
      },
      {
        "duration": 5,
        "start_time": "2023-07-25T21:52:41.709Z"
      },
      {
        "duration": 8,
        "start_time": "2023-07-25T21:52:44.297Z"
      },
      {
        "duration": 14,
        "start_time": "2023-07-25T21:52:45.548Z"
      },
      {
        "duration": 7,
        "start_time": "2023-07-25T21:52:47.313Z"
      },
      {
        "duration": 6,
        "start_time": "2023-07-25T21:52:48.341Z"
      },
      {
        "duration": 9,
        "start_time": "2023-07-25T21:52:49.945Z"
      },
      {
        "duration": 9,
        "start_time": "2023-07-25T21:54:54.245Z"
      },
      {
        "duration": 9,
        "start_time": "2023-07-25T21:55:27.766Z"
      },
      {
        "duration": 7,
        "start_time": "2023-07-25T21:55:53.748Z"
      },
      {
        "duration": 172,
        "start_time": "2023-07-25T21:56:07.397Z"
      },
      {
        "duration": 132,
        "start_time": "2023-07-25T21:56:23.449Z"
      },
      {
        "duration": 14,
        "start_time": "2023-07-25T21:56:38.649Z"
      },
      {
        "duration": 6,
        "start_time": "2023-07-25T21:56:52.145Z"
      },
      {
        "duration": 128,
        "start_time": "2023-07-25T21:57:00.366Z"
      },
      {
        "duration": 6,
        "start_time": "2023-07-25T21:57:15.745Z"
      },
      {
        "duration": 12,
        "start_time": "2023-07-25T22:13:35.797Z"
      },
      {
        "duration": 5,
        "start_time": "2023-07-25T22:14:02.304Z"
      },
      {
        "duration": 11,
        "start_time": "2023-07-25T22:14:03.255Z"
      },
      {
        "duration": 9,
        "start_time": "2023-07-25T22:14:22.400Z"
      },
      {
        "duration": 12,
        "start_time": "2023-07-25T22:17:38.061Z"
      },
      {
        "duration": 13,
        "start_time": "2023-07-25T22:18:01.893Z"
      },
      {
        "duration": 7,
        "start_time": "2023-07-25T22:25:57.717Z"
      },
      {
        "duration": 1991,
        "start_time": "2023-07-25T22:27:50.801Z"
      },
      {
        "duration": 6,
        "start_time": "2023-07-25T22:28:06.647Z"
      },
      {
        "duration": 14,
        "start_time": "2023-07-25T22:28:42.045Z"
      },
      {
        "duration": 11,
        "start_time": "2023-07-25T22:29:45.829Z"
      },
      {
        "duration": 149,
        "start_time": "2023-07-25T22:30:13.209Z"
      },
      {
        "duration": 630,
        "start_time": "2023-07-26T09:38:03.961Z"
      },
      {
        "duration": 26,
        "start_time": "2023-07-26T09:38:04.593Z"
      },
      {
        "duration": 39,
        "start_time": "2023-07-26T09:38:04.621Z"
      },
      {
        "duration": 15,
        "start_time": "2023-07-26T09:38:04.663Z"
      },
      {
        "duration": 40,
        "start_time": "2023-07-26T09:38:04.680Z"
      },
      {
        "duration": 7,
        "start_time": "2023-07-26T09:38:04.721Z"
      },
      {
        "duration": 34,
        "start_time": "2023-07-26T09:38:04.730Z"
      },
      {
        "duration": 5,
        "start_time": "2023-07-26T09:38:04.766Z"
      },
      {
        "duration": 11,
        "start_time": "2023-07-26T09:38:04.772Z"
      },
      {
        "duration": 5,
        "start_time": "2023-07-26T09:38:04.785Z"
      },
      {
        "duration": 68,
        "start_time": "2023-07-26T09:38:04.792Z"
      },
      {
        "duration": 11,
        "start_time": "2023-07-26T09:38:04.861Z"
      },
      {
        "duration": 5,
        "start_time": "2023-07-26T09:38:04.873Z"
      },
      {
        "duration": 16,
        "start_time": "2023-07-26T09:38:04.880Z"
      },
      {
        "duration": 22,
        "start_time": "2023-07-26T09:38:04.897Z"
      },
      {
        "duration": 52,
        "start_time": "2023-07-26T09:38:04.921Z"
      },
      {
        "duration": 4,
        "start_time": "2023-07-26T09:38:04.975Z"
      },
      {
        "duration": 14,
        "start_time": "2023-07-26T09:38:04.980Z"
      },
      {
        "duration": 18,
        "start_time": "2023-07-26T09:38:04.997Z"
      },
      {
        "duration": 5,
        "start_time": "2023-07-26T09:38:05.017Z"
      },
      {
        "duration": 36,
        "start_time": "2023-07-26T09:38:05.024Z"
      },
      {
        "duration": 9,
        "start_time": "2023-07-26T09:38:05.062Z"
      },
      {
        "duration": 15,
        "start_time": "2023-07-26T09:38:05.073Z"
      },
      {
        "duration": 6,
        "start_time": "2023-07-26T09:38:05.090Z"
      },
      {
        "duration": 5,
        "start_time": "2023-07-26T09:38:05.098Z"
      },
      {
        "duration": 10,
        "start_time": "2023-07-26T09:38:05.105Z"
      },
      {
        "duration": 62,
        "start_time": "2023-07-26T09:38:05.117Z"
      },
      {
        "duration": 8,
        "start_time": "2023-07-26T09:38:05.184Z"
      },
      {
        "duration": 1169,
        "start_time": "2023-07-26T09:38:05.194Z"
      },
      {
        "duration": 8,
        "start_time": "2023-07-26T09:38:06.365Z"
      },
      {
        "duration": 30,
        "start_time": "2023-07-26T09:38:06.375Z"
      },
      {
        "duration": 9,
        "start_time": "2023-07-26T09:38:06.407Z"
      },
      {
        "duration": 23,
        "start_time": "2023-07-26T09:38:06.418Z"
      },
      {
        "duration": 29,
        "start_time": "2023-07-26T09:38:06.459Z"
      },
      {
        "duration": 8,
        "start_time": "2023-07-26T09:38:06.490Z"
      },
      {
        "duration": 200,
        "start_time": "2023-07-26T09:38:06.500Z"
      },
      {
        "duration": 777,
        "start_time": "2023-07-26T11:47:49.053Z"
      },
      {
        "duration": 38,
        "start_time": "2023-07-26T11:47:53.614Z"
      },
      {
        "duration": 14,
        "start_time": "2023-07-26T11:47:58.364Z"
      },
      {
        "duration": 16,
        "start_time": "2023-07-26T11:48:02.522Z"
      },
      {
        "duration": 44,
        "start_time": "2023-07-26T11:48:05.928Z"
      },
      {
        "duration": 4,
        "start_time": "2023-07-26T11:48:08.875Z"
      },
      {
        "duration": 8,
        "start_time": "2023-07-26T11:48:11.296Z"
      },
      {
        "duration": 5,
        "start_time": "2023-07-26T11:48:15.433Z"
      },
      {
        "duration": 8,
        "start_time": "2023-07-26T11:48:18.637Z"
      },
      {
        "duration": 4,
        "start_time": "2023-07-26T11:48:21.994Z"
      },
      {
        "duration": 59,
        "start_time": "2023-07-26T11:48:24.682Z"
      },
      {
        "duration": 21,
        "start_time": "2023-07-26T11:48:27.808Z"
      },
      {
        "duration": 4,
        "start_time": "2023-07-26T11:48:31.726Z"
      },
      {
        "duration": 18,
        "start_time": "2023-07-26T11:48:34.642Z"
      },
      {
        "duration": 25,
        "start_time": "2023-07-26T11:48:36.966Z"
      },
      {
        "duration": 22,
        "start_time": "2023-07-26T11:48:39.526Z"
      },
      {
        "duration": 3,
        "start_time": "2023-07-26T11:48:42.766Z"
      },
      {
        "duration": 16,
        "start_time": "2023-07-26T11:48:45.024Z"
      },
      {
        "duration": 6,
        "start_time": "2023-07-26T11:48:48.068Z"
      },
      {
        "duration": 4,
        "start_time": "2023-07-26T11:48:52.126Z"
      },
      {
        "duration": 8,
        "start_time": "2023-07-26T11:48:53.748Z"
      },
      {
        "duration": 8,
        "start_time": "2023-07-26T11:48:57.336Z"
      },
      {
        "duration": 11,
        "start_time": "2023-07-26T11:49:19.025Z"
      },
      {
        "duration": 83,
        "start_time": "2023-07-26T11:52:25.547Z"
      },
      {
        "duration": 14,
        "start_time": "2023-07-26T11:52:27.053Z"
      },
      {
        "duration": 15,
        "start_time": "2023-07-26T11:52:27.865Z"
      },
      {
        "duration": 12,
        "start_time": "2023-07-26T11:52:29.795Z"
      },
      {
        "duration": 54,
        "start_time": "2023-07-26T11:52:31.153Z"
      },
      {
        "duration": 4,
        "start_time": "2023-07-26T11:52:33.471Z"
      },
      {
        "duration": 10,
        "start_time": "2023-07-26T11:52:34.923Z"
      },
      {
        "duration": 4,
        "start_time": "2023-07-26T11:52:38.992Z"
      },
      {
        "duration": 6,
        "start_time": "2023-07-26T11:52:40.341Z"
      },
      {
        "duration": 5,
        "start_time": "2023-07-26T11:52:41.526Z"
      },
      {
        "duration": 29,
        "start_time": "2023-07-26T11:52:44.165Z"
      },
      {
        "duration": 9,
        "start_time": "2023-07-26T11:52:47.428Z"
      },
      {
        "duration": 4,
        "start_time": "2023-07-26T11:52:51.327Z"
      },
      {
        "duration": 25,
        "start_time": "2023-07-26T11:52:53.198Z"
      },
      {
        "duration": 36,
        "start_time": "2023-07-26T11:52:55.694Z"
      },
      {
        "duration": 18,
        "start_time": "2023-07-26T11:53:00.551Z"
      },
      {
        "duration": 3,
        "start_time": "2023-07-26T11:53:05.182Z"
      },
      {
        "duration": 32,
        "start_time": "2023-07-26T11:53:05.793Z"
      },
      {
        "duration": 16,
        "start_time": "2023-07-26T11:53:09.297Z"
      },
      {
        "duration": 4,
        "start_time": "2023-07-26T11:53:13.558Z"
      },
      {
        "duration": 20,
        "start_time": "2023-07-26T11:53:14.293Z"
      },
      {
        "duration": 24,
        "start_time": "2023-07-26T11:56:01.389Z"
      },
      {
        "duration": 11,
        "start_time": "2023-07-26T12:04:12.730Z"
      },
      {
        "duration": 24,
        "start_time": "2023-07-26T12:04:29.163Z"
      },
      {
        "duration": 4919,
        "start_time": "2023-07-26T12:12:41.222Z"
      },
      {
        "duration": 38,
        "start_time": "2023-07-26T12:18:55.251Z"
      },
      {
        "duration": 3784,
        "start_time": "2023-07-26T12:19:38.500Z"
      },
      {
        "duration": 8,
        "start_time": "2023-07-26T12:28:18.061Z"
      },
      {
        "duration": 15,
        "start_time": "2023-07-26T12:28:22.545Z"
      },
      {
        "duration": 12,
        "start_time": "2023-07-26T12:28:32.149Z"
      },
      {
        "duration": 8,
        "start_time": "2023-07-26T12:28:35.224Z"
      },
      {
        "duration": 15,
        "start_time": "2023-07-26T12:28:38.462Z"
      },
      {
        "duration": 87,
        "start_time": "2023-07-26T12:28:58.597Z"
      },
      {
        "duration": 30,
        "start_time": "2023-07-26T12:28:59.897Z"
      },
      {
        "duration": 18,
        "start_time": "2023-07-26T12:29:00.730Z"
      },
      {
        "duration": 23,
        "start_time": "2023-07-26T12:29:02.928Z"
      },
      {
        "duration": 44,
        "start_time": "2023-07-26T12:29:04.197Z"
      },
      {
        "duration": 14,
        "start_time": "2023-07-26T12:29:05.799Z"
      },
      {
        "duration": 11,
        "start_time": "2023-07-26T12:29:07.027Z"
      },
      {
        "duration": 5,
        "start_time": "2023-07-26T12:29:08.845Z"
      },
      {
        "duration": 5,
        "start_time": "2023-07-26T12:29:10.254Z"
      },
      {
        "duration": 4,
        "start_time": "2023-07-26T12:29:11.650Z"
      },
      {
        "duration": 37,
        "start_time": "2023-07-26T12:29:14.714Z"
      },
      {
        "duration": 13,
        "start_time": "2023-07-26T12:29:16.624Z"
      },
      {
        "duration": 3,
        "start_time": "2023-07-26T12:29:18.759Z"
      },
      {
        "duration": 16,
        "start_time": "2023-07-26T12:29:20.618Z"
      },
      {
        "duration": 18,
        "start_time": "2023-07-26T12:29:22.070Z"
      },
      {
        "duration": 17,
        "start_time": "2023-07-26T12:29:23.134Z"
      },
      {
        "duration": 5,
        "start_time": "2023-07-26T12:29:26.627Z"
      },
      {
        "duration": 11,
        "start_time": "2023-07-26T12:29:27.530Z"
      },
      {
        "duration": 9,
        "start_time": "2023-07-26T12:29:29.422Z"
      },
      {
        "duration": 4,
        "start_time": "2023-07-26T12:29:33.851Z"
      },
      {
        "duration": 10,
        "start_time": "2023-07-26T12:29:34.558Z"
      },
      {
        "duration": 16,
        "start_time": "2023-07-26T12:29:41.522Z"
      },
      {
        "duration": 19,
        "start_time": "2023-07-26T12:29:47.302Z"
      },
      {
        "duration": 84,
        "start_time": "2023-07-26T12:31:08.245Z"
      },
      {
        "duration": 14,
        "start_time": "2023-07-26T12:31:11.226Z"
      },
      {
        "duration": 27,
        "start_time": "2023-07-26T12:31:15.898Z"
      },
      {
        "duration": 24,
        "start_time": "2023-07-26T12:31:19.297Z"
      },
      {
        "duration": 48,
        "start_time": "2023-07-26T12:31:23.595Z"
      },
      {
        "duration": 3,
        "start_time": "2023-07-26T12:31:26.535Z"
      },
      {
        "duration": 8,
        "start_time": "2023-07-26T12:31:28.539Z"
      },
      {
        "duration": 11,
        "start_time": "2023-07-26T12:31:32.706Z"
      },
      {
        "duration": 11,
        "start_time": "2023-07-26T12:31:35.401Z"
      },
      {
        "duration": 5,
        "start_time": "2023-07-26T12:31:37.351Z"
      },
      {
        "duration": 49,
        "start_time": "2023-07-26T12:31:40.547Z"
      },
      {
        "duration": 15,
        "start_time": "2023-07-26T12:31:43.419Z"
      },
      {
        "duration": 14,
        "start_time": "2023-07-26T12:31:46.195Z"
      },
      {
        "duration": 10,
        "start_time": "2023-07-26T12:31:49.056Z"
      },
      {
        "duration": 19,
        "start_time": "2023-07-26T12:31:51.427Z"
      },
      {
        "duration": 32,
        "start_time": "2023-07-26T12:31:53.498Z"
      },
      {
        "duration": 4,
        "start_time": "2023-07-26T12:31:56.497Z"
      },
      {
        "duration": 16,
        "start_time": "2023-07-26T12:31:57.931Z"
      },
      {
        "duration": 8,
        "start_time": "2023-07-26T12:32:00.761Z"
      },
      {
        "duration": 3,
        "start_time": "2023-07-26T12:32:04.436Z"
      },
      {
        "duration": 16,
        "start_time": "2023-07-26T12:32:06.213Z"
      },
      {
        "duration": 12,
        "start_time": "2023-07-26T12:32:09.023Z"
      },
      {
        "duration": 10,
        "start_time": "2023-07-26T12:32:12.227Z"
      },
      {
        "duration": 22,
        "start_time": "2023-07-26T12:32:15.955Z"
      },
      {
        "duration": 25,
        "start_time": "2023-07-26T12:33:05.292Z"
      },
      {
        "duration": 11,
        "start_time": "2023-07-26T12:33:10.632Z"
      },
      {
        "duration": 15,
        "start_time": "2023-07-26T12:34:56.330Z"
      },
      {
        "duration": 12,
        "start_time": "2023-07-26T12:35:10.661Z"
      },
      {
        "duration": 253,
        "start_time": "2023-07-26T12:37:19.795Z"
      },
      {
        "duration": 25,
        "start_time": "2023-07-26T12:37:28.291Z"
      },
      {
        "duration": 10,
        "start_time": "2023-07-26T12:39:04.260Z"
      },
      {
        "duration": 3696,
        "start_time": "2023-07-26T12:39:08.900Z"
      },
      {
        "duration": 35,
        "start_time": "2023-07-26T12:39:20.823Z"
      },
      {
        "duration": 147,
        "start_time": "2023-07-26T12:39:40.160Z"
      },
      {
        "duration": 37,
        "start_time": "2023-07-26T12:39:53.791Z"
      },
      {
        "duration": 17,
        "start_time": "2023-07-26T12:40:06.732Z"
      },
      {
        "duration": 38,
        "start_time": "2023-07-26T12:40:51.956Z"
      },
      {
        "duration": 7109,
        "start_time": "2023-07-26T12:41:36.397Z"
      },
      {
        "duration": 26,
        "start_time": "2023-07-26T12:42:29.891Z"
      },
      {
        "duration": 8,
        "start_time": "2023-07-26T12:44:05.853Z"
      },
      {
        "duration": 14,
        "start_time": "2023-07-26T12:52:38.780Z"
      },
      {
        "duration": 21,
        "start_time": "2023-07-26T12:54:12.126Z"
      },
      {
        "duration": 5,
        "start_time": "2023-07-26T12:55:05.544Z"
      },
      {
        "duration": 9,
        "start_time": "2023-07-26T12:55:15.040Z"
      },
      {
        "duration": 9,
        "start_time": "2023-07-26T12:56:20.744Z"
      },
      {
        "duration": 13,
        "start_time": "2023-07-26T13:12:56.342Z"
      },
      {
        "duration": 19,
        "start_time": "2023-07-26T13:13:18.186Z"
      },
      {
        "duration": 13,
        "start_time": "2023-07-26T13:13:27.536Z"
      },
      {
        "duration": 31,
        "start_time": "2023-07-26T13:15:43.637Z"
      },
      {
        "duration": 13,
        "start_time": "2023-07-26T13:18:22.031Z"
      },
      {
        "duration": 1321,
        "start_time": "2023-07-26T13:19:19.156Z"
      },
      {
        "duration": 9,
        "start_time": "2023-07-26T13:22:51.748Z"
      },
      {
        "duration": 25,
        "start_time": "2023-07-26T13:22:55.031Z"
      },
      {
        "duration": 59,
        "start_time": "2023-07-26T13:22:57.491Z"
      },
      {
        "duration": 22,
        "start_time": "2023-07-26T13:33:58.121Z"
      },
      {
        "duration": 21,
        "start_time": "2023-07-26T13:35:56.834Z"
      },
      {
        "duration": 8,
        "start_time": "2023-07-26T13:36:30.348Z"
      },
      {
        "duration": 9,
        "start_time": "2023-07-26T13:36:48.843Z"
      },
      {
        "duration": 23,
        "start_time": "2023-07-26T13:37:16.436Z"
      },
      {
        "duration": 13,
        "start_time": "2023-07-26T13:44:42.766Z"
      },
      {
        "duration": 29,
        "start_time": "2023-07-26T13:45:59.826Z"
      },
      {
        "duration": 16,
        "start_time": "2023-07-26T13:47:06.197Z"
      },
      {
        "duration": 349,
        "start_time": "2023-07-26T13:47:54.291Z"
      },
      {
        "duration": 1269,
        "start_time": "2023-07-26T13:48:16.027Z"
      },
      {
        "duration": 518,
        "start_time": "2023-07-27T05:51:45.578Z"
      },
      {
        "duration": 32,
        "start_time": "2023-07-27T05:51:46.098Z"
      },
      {
        "duration": 45,
        "start_time": "2023-07-27T05:51:46.132Z"
      },
      {
        "duration": 19,
        "start_time": "2023-07-27T05:51:46.181Z"
      },
      {
        "duration": 42,
        "start_time": "2023-07-27T05:51:46.203Z"
      },
      {
        "duration": 5,
        "start_time": "2023-07-27T05:51:46.246Z"
      },
      {
        "duration": 34,
        "start_time": "2023-07-27T05:51:46.265Z"
      },
      {
        "duration": 5,
        "start_time": "2023-07-27T05:51:46.301Z"
      },
      {
        "duration": 8,
        "start_time": "2023-07-27T05:51:46.308Z"
      },
      {
        "duration": 13,
        "start_time": "2023-07-27T05:51:46.318Z"
      },
      {
        "duration": 50,
        "start_time": "2023-07-27T05:51:46.333Z"
      },
      {
        "duration": 10,
        "start_time": "2023-07-27T05:51:46.385Z"
      },
      {
        "duration": 6,
        "start_time": "2023-07-27T05:51:46.396Z"
      },
      {
        "duration": 13,
        "start_time": "2023-07-27T05:51:46.405Z"
      },
      {
        "duration": 34,
        "start_time": "2023-07-27T05:51:46.420Z"
      },
      {
        "duration": 27,
        "start_time": "2023-07-27T05:51:46.460Z"
      },
      {
        "duration": 4,
        "start_time": "2023-07-27T05:51:46.488Z"
      },
      {
        "duration": 18,
        "start_time": "2023-07-27T05:51:46.495Z"
      },
      {
        "duration": 8,
        "start_time": "2023-07-27T05:51:46.515Z"
      },
      {
        "duration": 31,
        "start_time": "2023-07-27T05:51:46.525Z"
      },
      {
        "duration": 30,
        "start_time": "2023-07-27T05:51:46.563Z"
      },
      {
        "duration": 16,
        "start_time": "2023-07-27T05:51:46.595Z"
      },
      {
        "duration": 15,
        "start_time": "2023-07-27T05:51:46.613Z"
      },
      {
        "duration": 41,
        "start_time": "2023-07-27T05:51:46.630Z"
      },
      {
        "duration": 22,
        "start_time": "2023-07-27T05:51:46.674Z"
      },
      {
        "duration": 16,
        "start_time": "2023-07-27T05:51:46.698Z"
      },
      {
        "duration": 21,
        "start_time": "2023-07-27T05:51:46.716Z"
      },
      {
        "duration": 51,
        "start_time": "2023-07-27T05:51:46.738Z"
      },
      {
        "duration": 17,
        "start_time": "2023-07-27T05:51:46.791Z"
      },
      {
        "duration": 28,
        "start_time": "2023-07-27T05:51:46.809Z"
      },
      {
        "duration": 9,
        "start_time": "2023-07-27T05:51:46.839Z"
      },
      {
        "duration": 44,
        "start_time": "2023-07-27T05:51:46.849Z"
      },
      {
        "duration": 21,
        "start_time": "2023-07-27T05:51:46.895Z"
      },
      {
        "duration": 8,
        "start_time": "2023-07-27T05:51:46.918Z"
      }
    ],
    "colab": {
      "provenance": []
    },
    "kernelspec": {
      "display_name": "Python 3 (ipykernel)",
      "language": "python",
      "name": "python3"
    },
    "language_info": {
      "codemirror_mode": {
        "name": "ipython",
        "version": 3
      },
      "file_extension": ".py",
      "mimetype": "text/x-python",
      "name": "python",
      "nbconvert_exporter": "python",
      "pygments_lexer": "ipython3",
      "version": "3.9.5"
    },
    "toc": {
      "base_numbering": 1,
      "nav_menu": {},
      "number_sections": true,
      "sideBar": true,
      "skip_h1_title": true,
      "title_cell": "Table of Contents",
      "title_sidebar": "Contents",
      "toc_cell": false,
      "toc_position": {},
      "toc_section_display": true,
      "toc_window_display": true
    }
  },
  "nbformat": 4,
  "nbformat_minor": 5
}