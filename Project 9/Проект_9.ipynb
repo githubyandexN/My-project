{
  "cells": [
    {
      "cell_type": "markdown",
      "metadata": {
        "toc": true,
        "id": "mLOks8YtHxin"
      },
      "source": [
        "<h1>Содержание<span class=\"tocSkip\"></span></h1>\n",
        "<div class=\"toc\"><ul class=\"toc-item\"><li><span><a href=\"#Подготовка-данных\" data-toc-modified-id=\"Подготовка-данных-1\"><span class=\"toc-item-num\">1&nbsp;&nbsp;</span>Подготовка данных</a></span><ul class=\"toc-item\"><li><span><a href=\"#Загрузка-файлов-и-изучение-данных\" data-toc-modified-id=\"Загрузка-файлов-и-изучение-данных-1.1\"><span class=\"toc-item-num\">1.1&nbsp;&nbsp;</span>Загрузка файлов и изучение данных</a></span></li><li><span><a href=\"#Проверка-расчета-эффективности-обогащения\" data-toc-modified-id=\"Проверка-расчета-эффективности-обогащения-1.2\"><span class=\"toc-item-num\">1.2&nbsp;&nbsp;</span>Проверка расчета эффективности обогащения</a></span></li><li><span><a href=\"#Признаки,-недоступные-в-тестовой-выборке\" data-toc-modified-id=\"Признаки,-недоступные-в-тестовой-выборке-1.3\"><span class=\"toc-item-num\">1.3&nbsp;&nbsp;</span>Признаки, недоступные в тестовой выборке</a></span></li><li><span><a href=\"#Предобработка-данных\" data-toc-modified-id=\"Предобработка-данных-1.4\"><span class=\"toc-item-num\">1.4&nbsp;&nbsp;</span>Предобработка данных</a></span></li></ul></li><li><span><a href=\"#Анализ-данных\" data-toc-modified-id=\"Анализ-данных-2\"><span class=\"toc-item-num\">2&nbsp;&nbsp;</span>Анализ данных</a></span><ul class=\"toc-item\"><li><span><a href=\"#Как-меняется-концентрация-металлов-(Au,-Ag,-Pb)-на-различных-этапах-очистки\" data-toc-modified-id=\"Как-меняется-концентрация-металлов-(Au,-Ag,-Pb)-на-различных-этапах-очистки-2.1\"><span class=\"toc-item-num\">2.1&nbsp;&nbsp;</span>Как меняется концентрация металлов (Au, Ag, Pb) на различных этапах очистки</a></span></li><li><span><a href=\"#Распределение-размеров-гранул-сырья-на-обучающей-и-тестовой-выборках\" data-toc-modified-id=\"Распределение-размеров-гранул-сырья-на-обучающей-и-тестовой-выборках-2.2\"><span class=\"toc-item-num\">2.2&nbsp;&nbsp;</span>Распределение размеров гранул сырья на обучающей и тестовой выборках</a></span></li><li><span><a href=\"#Оценка-суммарной-концентрации-всех-веществ-на-разных-стадиях:-в-сырье,-в-черновом-и-финальном-концентратах\" data-toc-modified-id=\"Оценка-суммарной-концентрации-всех-веществ-на-разных-стадиях:-в-сырье,-в-черновом-и-финальном-концентратах-2.3\"><span class=\"toc-item-num\">2.3&nbsp;&nbsp;</span>Оценка суммарной концентрации всех веществ на разных стадиях: в сырье, в черновом и финальном концентратах</a></span></li></ul></li><li><span><a href=\"#Модель\" data-toc-modified-id=\"Модель-3\"><span class=\"toc-item-num\">3&nbsp;&nbsp;</span>Модель</a></span><ul class=\"toc-item\"><li><span><a href=\"#Функция-для-вычисления-sMAPE\" data-toc-modified-id=\"Функция-для-вычисления-sMAPE-3.1\"><span class=\"toc-item-num\">3.1&nbsp;&nbsp;</span>Функция для вычисления sMAPE</a></span></li><li><span><a href=\"#Обучение-моделей-и-оценка-их-качества-кросс-валидацией\" data-toc-modified-id=\"Обучение-моделей-и-оценка-их-качества-кросс-валидацией-3.2\"><span class=\"toc-item-num\">3.2&nbsp;&nbsp;</span>Обучение моделей и оценка их качества кросс-валидацией</a></span></li><li><span><a href=\"#Выбор-лучшей-модели-и-проверка-её-на-тестовой-выборке\" data-toc-modified-id=\"Выбор-лучшей-модели-и-проверка-её-на-тестовой-выборке-3.3\"><span class=\"toc-item-num\">3.3&nbsp;&nbsp;</span>Выбор лучшей модели и проверка её на тестовой выборке</a></span></li><li><span><a href=\"#Проверка-модели-на-адекватность\" data-toc-modified-id=\"Проверка-модели-на-адекватность-3.4\"><span class=\"toc-item-num\">3.4&nbsp;&nbsp;</span>Проверка модели на адекватность</a></span></li></ul></li><li><span><a href=\"#Общий-вывод-по-итогам-проекта\" data-toc-modified-id=\"Общий-вывод-по-итогам-проекта-4\"><span class=\"toc-item-num\">4&nbsp;&nbsp;</span>Общий вывод по итогам проекта</a></span></li></ul></div>"
      ]
    },
    {
      "cell_type": "markdown",
      "metadata": {
        "id": "f-HPBRIfHxio"
      },
      "source": [
        "# Восстановление золота из руды"
      ]
    },
    {
      "cell_type": "markdown",
      "metadata": {
        "id": "yQch3ntYHxip"
      },
      "source": [
        "Подготовьте прототип модели машинного обучения для «Цифры». Компания разрабатывает решения для эффективной работы промышленных предприятий.\n",
        "\n",
        "Модель должна предсказать коэффициент восстановления золота из золотосодержащей руды. Используйте данные с параметрами добычи и очистки.\n",
        "\n",
        "Модель поможет оптимизировать производство, чтобы не запускать предприятие с убыточными характеристиками.\n",
        "\n",
        "Вам нужно:\n",
        "\n",
        "1. Подготовить данные;\n",
        "2. Провести исследовательский анализ данных;\n",
        "3. Построить и обучить модель.\n",
        "\n",
        "Чтобы выполнить проект, обращайтесь к библиотекам *pandas*, *matplotlib* и *sklearn.* Вам поможет их документация."
      ]
    },
    {
      "cell_type": "markdown",
      "metadata": {
        "id": "rV-QKoVfHxip"
      },
      "source": [
        "# Описание проекта"
      ]
    },
    {
      "cell_type": "markdown",
      "metadata": {
        "id": "53zMOFAFHxiq"
      },
      "source": [
        "Стадии процесса получения золота из руды (технологический процесс):\n",
        "Когда добытая руда проходит первичную обработку, получается дроблёная смесь. Её отправляют на флотацию (обогащение) и двухэтапную очистку.\n",
        "\n",
        "**1. Флотация**\n",
        "\n",
        "Во флотационную установку подаётся смесь золотосодержащей руды. После обогащения получается черновой концентрат и «отвальные хвосты», то есть остатки продукта с низкой концентрацией ценных металлов.\n",
        "На стабильность этого процесса влияет непостоянное и неоптимальное физико-химическое состояние флотационной пульпы (смеси твёрдых частиц и жидкости).\n",
        "\n",
        "**2. Очистка**\n",
        "\n",
        "Черновой концентрат проходит две очистки. На выходе получается финальный концентрат и новые отвальные хвосты.\n"
      ]
    },
    {
      "cell_type": "markdown",
      "metadata": {
        "id": "Nq_0Dl0dHxiq"
      },
      "source": [
        "**Технологический процесс**\n",
        "\n",
        "•\tRougher feed — исходное сырье\n",
        "\n",
        "•\tRougher additions (или reagent additions) — флотационные реагенты: Xanthate, Sulphate, Depressant\n",
        "\n",
        "    o\tXanthate — ксантогенат (промотер, или активатор флотации);\n",
        "    \n",
        "    o\tSulphate — сульфат (на данном производстве сульфид натрия);\n",
        "    \n",
        "    o\tDepressant — депрессант (силикат натрия).\n",
        "•\tRougher process (англ. «грубый процесс») — флотация\n",
        "\n",
        "•\tRougher tails — отвальные хвосты\n",
        "\n",
        "•\tFloat banks — флотационная установка\n",
        "\n",
        "•\tCleaner process — очистка\n",
        "\n",
        "•\tRougher Au — черновой концентрат золота\n",
        "\n",
        "•\tFinal Au — финальный концентрат золота\n",
        "\n",
        "**Параметры этапов**\n",
        "\n",
        "•\tair amount — объём воздуха\n",
        "\n",
        "•\tfluid levels — уровень жидкости\n",
        "\n",
        "•\tfeed size — размер гранул сырья\n",
        "\n",
        "•\tfeed rate — скорость подачи\n",
        "\n",
        "**Наименование признаков**\n",
        "\n",
        "Наименование признаков должно быть такое:\n",
        "[этап].[тип_параметра].[название_параметра]\n",
        "Пример: rougher.input.feed_ag\n",
        "\n",
        "**Возможные значения для блока [этап]:**\n",
        "\n",
        "•\trougher — флотация\n",
        "\n",
        "•\tprimary_cleaner — первичная очистка\n",
        "\n",
        "•\tsecondary_cleaner — вторичная очистка\n",
        "\n",
        "•\tfinal — финальные характеристики\n",
        "\n",
        "**Возможные значения для блока [тип_параметра]:**\n",
        "\n",
        "•\tinput — параметры сырья\n",
        "\n",
        "•\toutput — параметры продукта\n",
        "\n",
        "•\tstate — параметры, характеризующие текущее состояние этапа\n",
        "\n",
        "•\tcalculation — расчётные характеристики\n"
      ]
    },
    {
      "cell_type": "markdown",
      "metadata": {
        "id": "fVuQMDygHxir"
      },
      "source": [
        "**Задачи по проекту:**\n",
        "\n",
        "-- Изучить предоставленные данные / выгрузки;\n",
        "\n",
        "-- Провести анализ значений по показателям концентрации, распределению размеров гранул и оценке суммарной концентрации в металлах. Для прогноза коэффициента нужно найти долю золота в концентратах и хвостах. Причём важен не только финальный продукт, но и черновой концентрат;\n",
        "\n",
        "-- Смоделировать процесс восстановления золота из золотосодержащей руды на основе двух целевых показателях: `rougher.output.recovery` и `final.output.recovery`;\n",
        "\n",
        "-- Выбрать лучшую модель и проверить ее."
      ]
    },
    {
      "cell_type": "markdown",
      "metadata": {
        "id": "nmBYDtSVHxis"
      },
      "source": [
        "### Загрузка файлов и изучение данных"
      ]
    },
    {
      "cell_type": "code",
      "execution_count": null,
      "metadata": {
        "id": "vXf_1UkOHxit"
      },
      "outputs": [],
      "source": [
        "# импорт библиотек pandas\n",
        "import pandas as pd\n",
        "import seaborn as sns\n",
        "import numpy as np\n",
        "import matplotlib.pyplot as plt\n",
        "pd.set_option('display.max_columns', None)\n",
        "\n",
        "from sklearn.tree import DecisionTreeRegressor\n",
        "from sklearn.ensemble import RandomForestRegressor\n",
        "from sklearn.linear_model import LinearRegression\n",
        "from sklearn.pipeline import make_pipeline\n",
        "from sklearn.preprocessing import StandardScaler\n",
        "from sklearn.model_selection import GridSearchCV\n",
        "\n",
        "from sklearn.metrics import accuracy_score\n",
        "from sklearn.dummy import DummyRegressor\n",
        "from tqdm.auto import tqdm\n",
        "from sklearn.metrics import mean_absolute_error, make_scorer"
      ]
    },
    {
      "cell_type": "code",
      "execution_count": null,
      "metadata": {
        "scrolled": true,
        "id": "9T0P02wwHxiw",
        "outputId": "d54ad87f-38bc-4ff6-c722-f8fcd5369ace"
      },
      "outputs": [
        {
          "data": {
            "text/html": [
              "<div>\n",
              "<style scoped>\n",
              "    .dataframe tbody tr th:only-of-type {\n",
              "        vertical-align: middle;\n",
              "    }\n",
              "\n",
              "    .dataframe tbody tr th {\n",
              "        vertical-align: top;\n",
              "    }\n",
              "\n",
              "    .dataframe thead th {\n",
              "        text-align: right;\n",
              "    }\n",
              "</style>\n",
              "<table border=\"1\" class=\"dataframe\">\n",
              "  <thead>\n",
              "    <tr style=\"text-align: right;\">\n",
              "      <th></th>\n",
              "      <th>final.output.concentrate_ag</th>\n",
              "      <th>final.output.concentrate_pb</th>\n",
              "      <th>final.output.concentrate_sol</th>\n",
              "      <th>final.output.concentrate_au</th>\n",
              "      <th>final.output.recovery</th>\n",
              "      <th>final.output.tail_ag</th>\n",
              "      <th>final.output.tail_pb</th>\n",
              "      <th>final.output.tail_sol</th>\n",
              "      <th>final.output.tail_au</th>\n",
              "      <th>primary_cleaner.input.sulfate</th>\n",
              "      <th>primary_cleaner.input.depressant</th>\n",
              "      <th>primary_cleaner.input.feed_size</th>\n",
              "      <th>primary_cleaner.input.xanthate</th>\n",
              "      <th>primary_cleaner.output.concentrate_ag</th>\n",
              "      <th>primary_cleaner.output.concentrate_pb</th>\n",
              "      <th>primary_cleaner.output.concentrate_sol</th>\n",
              "      <th>primary_cleaner.output.concentrate_au</th>\n",
              "      <th>primary_cleaner.output.tail_ag</th>\n",
              "      <th>primary_cleaner.output.tail_pb</th>\n",
              "      <th>primary_cleaner.output.tail_sol</th>\n",
              "      <th>primary_cleaner.output.tail_au</th>\n",
              "      <th>primary_cleaner.state.floatbank8_a_air</th>\n",
              "      <th>primary_cleaner.state.floatbank8_a_level</th>\n",
              "      <th>primary_cleaner.state.floatbank8_b_air</th>\n",
              "      <th>primary_cleaner.state.floatbank8_b_level</th>\n",
              "      <th>primary_cleaner.state.floatbank8_c_air</th>\n",
              "      <th>primary_cleaner.state.floatbank8_c_level</th>\n",
              "      <th>primary_cleaner.state.floatbank8_d_air</th>\n",
              "      <th>primary_cleaner.state.floatbank8_d_level</th>\n",
              "      <th>rougher.calculation.sulfate_to_au_concentrate</th>\n",
              "      <th>rougher.calculation.floatbank10_sulfate_to_au_feed</th>\n",
              "      <th>rougher.calculation.floatbank11_sulfate_to_au_feed</th>\n",
              "      <th>rougher.calculation.au_pb_ratio</th>\n",
              "      <th>rougher.input.feed_ag</th>\n",
              "      <th>rougher.input.feed_pb</th>\n",
              "      <th>rougher.input.feed_rate</th>\n",
              "      <th>rougher.input.feed_size</th>\n",
              "      <th>rougher.input.feed_sol</th>\n",
              "      <th>rougher.input.feed_au</th>\n",
              "      <th>rougher.input.floatbank10_sulfate</th>\n",
              "      <th>rougher.input.floatbank10_xanthate</th>\n",
              "      <th>rougher.input.floatbank11_sulfate</th>\n",
              "      <th>rougher.input.floatbank11_xanthate</th>\n",
              "      <th>rougher.output.concentrate_ag</th>\n",
              "      <th>rougher.output.concentrate_pb</th>\n",
              "      <th>rougher.output.concentrate_sol</th>\n",
              "      <th>rougher.output.concentrate_au</th>\n",
              "      <th>rougher.output.recovery</th>\n",
              "      <th>rougher.output.tail_ag</th>\n",
              "      <th>rougher.output.tail_pb</th>\n",
              "      <th>rougher.output.tail_sol</th>\n",
              "      <th>rougher.output.tail_au</th>\n",
              "      <th>rougher.state.floatbank10_a_air</th>\n",
              "      <th>rougher.state.floatbank10_a_level</th>\n",
              "      <th>rougher.state.floatbank10_b_air</th>\n",
              "      <th>rougher.state.floatbank10_b_level</th>\n",
              "      <th>rougher.state.floatbank10_c_air</th>\n",
              "      <th>rougher.state.floatbank10_c_level</th>\n",
              "      <th>rougher.state.floatbank10_d_air</th>\n",
              "      <th>rougher.state.floatbank10_d_level</th>\n",
              "      <th>rougher.state.floatbank10_e_air</th>\n",
              "      <th>rougher.state.floatbank10_e_level</th>\n",
              "      <th>rougher.state.floatbank10_f_air</th>\n",
              "      <th>rougher.state.floatbank10_f_level</th>\n",
              "      <th>secondary_cleaner.output.tail_ag</th>\n",
              "      <th>secondary_cleaner.output.tail_pb</th>\n",
              "      <th>secondary_cleaner.output.tail_sol</th>\n",
              "      <th>secondary_cleaner.output.tail_au</th>\n",
              "      <th>secondary_cleaner.state.floatbank2_a_air</th>\n",
              "      <th>secondary_cleaner.state.floatbank2_a_level</th>\n",
              "      <th>secondary_cleaner.state.floatbank2_b_air</th>\n",
              "      <th>secondary_cleaner.state.floatbank2_b_level</th>\n",
              "      <th>secondary_cleaner.state.floatbank3_a_air</th>\n",
              "      <th>secondary_cleaner.state.floatbank3_a_level</th>\n",
              "      <th>secondary_cleaner.state.floatbank3_b_air</th>\n",
              "      <th>secondary_cleaner.state.floatbank3_b_level</th>\n",
              "      <th>secondary_cleaner.state.floatbank4_a_air</th>\n",
              "      <th>secondary_cleaner.state.floatbank4_a_level</th>\n",
              "      <th>secondary_cleaner.state.floatbank4_b_air</th>\n",
              "      <th>secondary_cleaner.state.floatbank4_b_level</th>\n",
              "      <th>secondary_cleaner.state.floatbank5_a_air</th>\n",
              "      <th>secondary_cleaner.state.floatbank5_a_level</th>\n",
              "      <th>secondary_cleaner.state.floatbank5_b_air</th>\n",
              "      <th>secondary_cleaner.state.floatbank5_b_level</th>\n",
              "      <th>secondary_cleaner.state.floatbank6_a_air</th>\n",
              "      <th>secondary_cleaner.state.floatbank6_a_level</th>\n",
              "    </tr>\n",
              "    <tr>\n",
              "      <th>date</th>\n",
              "      <th></th>\n",
              "      <th></th>\n",
              "      <th></th>\n",
              "      <th></th>\n",
              "      <th></th>\n",
              "      <th></th>\n",
              "      <th></th>\n",
              "      <th></th>\n",
              "      <th></th>\n",
              "      <th></th>\n",
              "      <th></th>\n",
              "      <th></th>\n",
              "      <th></th>\n",
              "      <th></th>\n",
              "      <th></th>\n",
              "      <th></th>\n",
              "      <th></th>\n",
              "      <th></th>\n",
              "      <th></th>\n",
              "      <th></th>\n",
              "      <th></th>\n",
              "      <th></th>\n",
              "      <th></th>\n",
              "      <th></th>\n",
              "      <th></th>\n",
              "      <th></th>\n",
              "      <th></th>\n",
              "      <th></th>\n",
              "      <th></th>\n",
              "      <th></th>\n",
              "      <th></th>\n",
              "      <th></th>\n",
              "      <th></th>\n",
              "      <th></th>\n",
              "      <th></th>\n",
              "      <th></th>\n",
              "      <th></th>\n",
              "      <th></th>\n",
              "      <th></th>\n",
              "      <th></th>\n",
              "      <th></th>\n",
              "      <th></th>\n",
              "      <th></th>\n",
              "      <th></th>\n",
              "      <th></th>\n",
              "      <th></th>\n",
              "      <th></th>\n",
              "      <th></th>\n",
              "      <th></th>\n",
              "      <th></th>\n",
              "      <th></th>\n",
              "      <th></th>\n",
              "      <th></th>\n",
              "      <th></th>\n",
              "      <th></th>\n",
              "      <th></th>\n",
              "      <th></th>\n",
              "      <th></th>\n",
              "      <th></th>\n",
              "      <th></th>\n",
              "      <th></th>\n",
              "      <th></th>\n",
              "      <th></th>\n",
              "      <th></th>\n",
              "      <th></th>\n",
              "      <th></th>\n",
              "      <th></th>\n",
              "      <th></th>\n",
              "      <th></th>\n",
              "      <th></th>\n",
              "      <th></th>\n",
              "      <th></th>\n",
              "      <th></th>\n",
              "      <th></th>\n",
              "      <th></th>\n",
              "      <th></th>\n",
              "      <th></th>\n",
              "      <th></th>\n",
              "      <th></th>\n",
              "      <th></th>\n",
              "      <th></th>\n",
              "      <th></th>\n",
              "      <th></th>\n",
              "      <th></th>\n",
              "      <th></th>\n",
              "      <th></th>\n",
              "    </tr>\n",
              "  </thead>\n",
              "  <tbody>\n",
              "    <tr>\n",
              "      <th>2016-01-15 00:00:00</th>\n",
              "      <td>6.055403</td>\n",
              "      <td>9.889648</td>\n",
              "      <td>5.507324</td>\n",
              "      <td>42.192020</td>\n",
              "      <td>70.541216</td>\n",
              "      <td>10.411962</td>\n",
              "      <td>0.895447</td>\n",
              "      <td>16.904297</td>\n",
              "      <td>2.143149</td>\n",
              "      <td>127.092003</td>\n",
              "      <td>10.128295</td>\n",
              "      <td>7.25</td>\n",
              "      <td>0.988759</td>\n",
              "      <td>8.547551</td>\n",
              "      <td>10.389648</td>\n",
              "      <td>19.529297</td>\n",
              "      <td>34.174427</td>\n",
              "      <td>14.936526</td>\n",
              "      <td>2.534912</td>\n",
              "      <td>7.476074</td>\n",
              "      <td>2.106679</td>\n",
              "      <td>1549.775757</td>\n",
              "      <td>-498.912140</td>\n",
              "      <td>1551.434204</td>\n",
              "      <td>-516.403442</td>\n",
              "      <td>1549.873901</td>\n",
              "      <td>-498.666595</td>\n",
              "      <td>1554.367432</td>\n",
              "      <td>-493.428131</td>\n",
              "      <td>41885.707031</td>\n",
              "      <td>3481.779053</td>\n",
              "      <td>3520.337158</td>\n",
              "      <td>2.838687</td>\n",
              "      <td>6.100378</td>\n",
              "      <td>2.284912</td>\n",
              "      <td>523.546326</td>\n",
              "      <td>55.486599</td>\n",
              "      <td>36.808594</td>\n",
              "      <td>6.486150</td>\n",
              "      <td>11.986616</td>\n",
              "      <td>6.007990</td>\n",
              "      <td>11.836743</td>\n",
              "      <td>6.005818</td>\n",
              "      <td>11.500771</td>\n",
              "      <td>7.101074</td>\n",
              "      <td>28.029297</td>\n",
              "      <td>19.793808</td>\n",
              "      <td>87.107763</td>\n",
              "      <td>5.008018</td>\n",
              "      <td>0.508728</td>\n",
              "      <td>19.154297</td>\n",
              "      <td>1.170244</td>\n",
              "      <td>999.706909</td>\n",
              "      <td>-404.066986</td>\n",
              "      <td>1603.011353</td>\n",
              "      <td>-434.715027</td>\n",
              "      <td>1602.375000</td>\n",
              "      <td>-442.204468</td>\n",
              "      <td>1598.937256</td>\n",
              "      <td>-451.294128</td>\n",
              "      <td>1404.472046</td>\n",
              "      <td>-455.462982</td>\n",
              "      <td>1416.354980</td>\n",
              "      <td>-451.939636</td>\n",
              "      <td>14.500184</td>\n",
              "      <td>4.694824</td>\n",
              "      <td>8.764648</td>\n",
              "      <td>2.606185</td>\n",
              "      <td>25.853109</td>\n",
              "      <td>-498.526489</td>\n",
              "      <td>23.893660</td>\n",
              "      <td>-501.406281</td>\n",
              "      <td>23.961798</td>\n",
              "      <td>-495.262817</td>\n",
              "      <td>21.940409</td>\n",
              "      <td>-499.340973</td>\n",
              "      <td>14.016835</td>\n",
              "      <td>-502.488007</td>\n",
              "      <td>12.099931</td>\n",
              "      <td>-504.715942</td>\n",
              "      <td>9.925633</td>\n",
              "      <td>-498.310211</td>\n",
              "      <td>8.079666</td>\n",
              "      <td>-500.470978</td>\n",
              "      <td>14.151341</td>\n",
              "      <td>-605.841980</td>\n",
              "    </tr>\n",
              "    <tr>\n",
              "      <th>2016-01-15 01:00:00</th>\n",
              "      <td>6.029369</td>\n",
              "      <td>9.968944</td>\n",
              "      <td>5.257781</td>\n",
              "      <td>42.701629</td>\n",
              "      <td>69.266198</td>\n",
              "      <td>10.462676</td>\n",
              "      <td>0.927452</td>\n",
              "      <td>16.634514</td>\n",
              "      <td>2.224930</td>\n",
              "      <td>125.629232</td>\n",
              "      <td>10.296251</td>\n",
              "      <td>7.25</td>\n",
              "      <td>1.002663</td>\n",
              "      <td>8.558743</td>\n",
              "      <td>10.497069</td>\n",
              "      <td>19.369147</td>\n",
              "      <td>34.118526</td>\n",
              "      <td>16.250511</td>\n",
              "      <td>3.049646</td>\n",
              "      <td>6.733907</td>\n",
              "      <td>2.353017</td>\n",
              "      <td>1576.166671</td>\n",
              "      <td>-500.904965</td>\n",
              "      <td>1575.950626</td>\n",
              "      <td>-499.865889</td>\n",
              "      <td>1575.994189</td>\n",
              "      <td>-499.315107</td>\n",
              "      <td>1574.479259</td>\n",
              "      <td>-498.931665</td>\n",
              "      <td>42050.861809</td>\n",
              "      <td>3498.370979</td>\n",
              "      <td>3489.981857</td>\n",
              "      <td>2.858998</td>\n",
              "      <td>6.161113</td>\n",
              "      <td>2.266033</td>\n",
              "      <td>525.290581</td>\n",
              "      <td>57.278666</td>\n",
              "      <td>35.753385</td>\n",
              "      <td>6.478583</td>\n",
              "      <td>11.971193</td>\n",
              "      <td>6.005766</td>\n",
              "      <td>11.996163</td>\n",
              "      <td>6.012594</td>\n",
              "      <td>11.615865</td>\n",
              "      <td>7.278807</td>\n",
              "      <td>28.067063</td>\n",
              "      <td>20.050975</td>\n",
              "      <td>86.843261</td>\n",
              "      <td>4.955378</td>\n",
              "      <td>0.536689</td>\n",
              "      <td>18.965234</td>\n",
              "      <td>1.184827</td>\n",
              "      <td>1000.286398</td>\n",
              "      <td>-400.065196</td>\n",
              "      <td>1600.754587</td>\n",
              "      <td>-449.953435</td>\n",
              "      <td>1600.479580</td>\n",
              "      <td>-449.830646</td>\n",
              "      <td>1600.527589</td>\n",
              "      <td>-449.953649</td>\n",
              "      <td>1399.227084</td>\n",
              "      <td>-450.869848</td>\n",
              "      <td>1399.719514</td>\n",
              "      <td>-450.119001</td>\n",
              "      <td>14.265474</td>\n",
              "      <td>4.592547</td>\n",
              "      <td>9.001494</td>\n",
              "      <td>2.488248</td>\n",
              "      <td>25.880539</td>\n",
              "      <td>-499.989656</td>\n",
              "      <td>23.889530</td>\n",
              "      <td>-500.372428</td>\n",
              "      <td>23.970550</td>\n",
              "      <td>-500.085473</td>\n",
              "      <td>22.085714</td>\n",
              "      <td>-499.446897</td>\n",
              "      <td>13.992281</td>\n",
              "      <td>-505.503262</td>\n",
              "      <td>11.950531</td>\n",
              "      <td>-501.331529</td>\n",
              "      <td>10.039245</td>\n",
              "      <td>-500.169983</td>\n",
              "      <td>7.984757</td>\n",
              "      <td>-500.582168</td>\n",
              "      <td>13.998353</td>\n",
              "      <td>-599.787184</td>\n",
              "    </tr>\n",
              "    <tr>\n",
              "      <th>2016-01-15 02:00:00</th>\n",
              "      <td>6.055926</td>\n",
              "      <td>10.213995</td>\n",
              "      <td>5.383759</td>\n",
              "      <td>42.657501</td>\n",
              "      <td>68.116445</td>\n",
              "      <td>10.507046</td>\n",
              "      <td>0.953716</td>\n",
              "      <td>16.208849</td>\n",
              "      <td>2.257889</td>\n",
              "      <td>123.819808</td>\n",
              "      <td>11.316280</td>\n",
              "      <td>7.25</td>\n",
              "      <td>0.991265</td>\n",
              "      <td>8.603505</td>\n",
              "      <td>10.354494</td>\n",
              "      <td>19.167579</td>\n",
              "      <td>33.969464</td>\n",
              "      <td>16.491823</td>\n",
              "      <td>3.124664</td>\n",
              "      <td>6.471768</td>\n",
              "      <td>2.416800</td>\n",
              "      <td>1601.556163</td>\n",
              "      <td>-499.997791</td>\n",
              "      <td>1600.386685</td>\n",
              "      <td>-500.607762</td>\n",
              "      <td>1602.003542</td>\n",
              "      <td>-500.870069</td>\n",
              "      <td>1599.541515</td>\n",
              "      <td>-499.827444</td>\n",
              "      <td>42018.101184</td>\n",
              "      <td>3495.348910</td>\n",
              "      <td>3502.359819</td>\n",
              "      <td>2.945989</td>\n",
              "      <td>6.116455</td>\n",
              "      <td>2.159622</td>\n",
              "      <td>530.026610</td>\n",
              "      <td>57.510649</td>\n",
              "      <td>35.971630</td>\n",
              "      <td>6.362222</td>\n",
              "      <td>11.920603</td>\n",
              "      <td>6.197377</td>\n",
              "      <td>11.920305</td>\n",
              "      <td>6.204633</td>\n",
              "      <td>11.695753</td>\n",
              "      <td>7.216833</td>\n",
              "      <td>27.454037</td>\n",
              "      <td>19.737170</td>\n",
              "      <td>86.842308</td>\n",
              "      <td>4.843460</td>\n",
              "      <td>0.546416</td>\n",
              "      <td>18.808533</td>\n",
              "      <td>1.162562</td>\n",
              "      <td>999.719565</td>\n",
              "      <td>-400.074028</td>\n",
              "      <td>1599.337330</td>\n",
              "      <td>-450.008530</td>\n",
              "      <td>1599.672797</td>\n",
              "      <td>-449.954491</td>\n",
              "      <td>1599.849325</td>\n",
              "      <td>-449.954185</td>\n",
              "      <td>1399.180945</td>\n",
              "      <td>-449.937588</td>\n",
              "      <td>1400.316682</td>\n",
              "      <td>-450.527147</td>\n",
              "      <td>14.115662</td>\n",
              "      <td>4.624775</td>\n",
              "      <td>8.842896</td>\n",
              "      <td>2.458187</td>\n",
              "      <td>26.005245</td>\n",
              "      <td>-499.929616</td>\n",
              "      <td>23.886657</td>\n",
              "      <td>-499.951928</td>\n",
              "      <td>23.913535</td>\n",
              "      <td>-499.442343</td>\n",
              "      <td>23.957717</td>\n",
              "      <td>-499.901982</td>\n",
              "      <td>14.015015</td>\n",
              "      <td>-502.520901</td>\n",
              "      <td>11.912783</td>\n",
              "      <td>-501.133383</td>\n",
              "      <td>10.070913</td>\n",
              "      <td>-500.129135</td>\n",
              "      <td>8.013877</td>\n",
              "      <td>-500.517572</td>\n",
              "      <td>14.028663</td>\n",
              "      <td>-601.427363</td>\n",
              "    </tr>\n",
              "    <tr>\n",
              "      <th>2016-01-15 03:00:00</th>\n",
              "      <td>6.047977</td>\n",
              "      <td>9.977019</td>\n",
              "      <td>4.858634</td>\n",
              "      <td>42.689819</td>\n",
              "      <td>68.347543</td>\n",
              "      <td>10.422762</td>\n",
              "      <td>0.883763</td>\n",
              "      <td>16.532835</td>\n",
              "      <td>2.146849</td>\n",
              "      <td>122.270188</td>\n",
              "      <td>11.322140</td>\n",
              "      <td>7.25</td>\n",
              "      <td>0.996739</td>\n",
              "      <td>7.221879</td>\n",
              "      <td>8.496563</td>\n",
              "      <td>15.978538</td>\n",
              "      <td>28.260743</td>\n",
              "      <td>16.024359</td>\n",
              "      <td>2.960362</td>\n",
              "      <td>6.843791</td>\n",
              "      <td>2.262051</td>\n",
              "      <td>1599.968720</td>\n",
              "      <td>-500.951778</td>\n",
              "      <td>1600.659236</td>\n",
              "      <td>-499.677094</td>\n",
              "      <td>1600.304144</td>\n",
              "      <td>-500.727997</td>\n",
              "      <td>1600.449520</td>\n",
              "      <td>-500.052575</td>\n",
              "      <td>42029.447991</td>\n",
              "      <td>3498.578313</td>\n",
              "      <td>3499.162912</td>\n",
              "      <td>3.002340</td>\n",
              "      <td>6.043309</td>\n",
              "      <td>2.037807</td>\n",
              "      <td>542.590390</td>\n",
              "      <td>57.792734</td>\n",
              "      <td>36.862241</td>\n",
              "      <td>6.118189</td>\n",
              "      <td>11.630094</td>\n",
              "      <td>6.203177</td>\n",
              "      <td>11.692450</td>\n",
              "      <td>6.196578</td>\n",
              "      <td>11.915047</td>\n",
              "      <td>7.175616</td>\n",
              "      <td>27.341277</td>\n",
              "      <td>19.320810</td>\n",
              "      <td>87.226430</td>\n",
              "      <td>4.655288</td>\n",
              "      <td>0.542525</td>\n",
              "      <td>19.330200</td>\n",
              "      <td>1.079755</td>\n",
              "      <td>999.814770</td>\n",
              "      <td>-400.200179</td>\n",
              "      <td>1600.059442</td>\n",
              "      <td>-450.619948</td>\n",
              "      <td>1600.012842</td>\n",
              "      <td>-449.910497</td>\n",
              "      <td>1597.725177</td>\n",
              "      <td>-450.130127</td>\n",
              "      <td>1400.943157</td>\n",
              "      <td>-450.030142</td>\n",
              "      <td>1400.234743</td>\n",
              "      <td>-449.790835</td>\n",
              "      <td>13.732071</td>\n",
              "      <td>4.482453</td>\n",
              "      <td>9.122857</td>\n",
              "      <td>2.322062</td>\n",
              "      <td>25.942508</td>\n",
              "      <td>-499.176749</td>\n",
              "      <td>23.955516</td>\n",
              "      <td>-499.848796</td>\n",
              "      <td>23.966838</td>\n",
              "      <td>-500.008812</td>\n",
              "      <td>23.954443</td>\n",
              "      <td>-499.944710</td>\n",
              "      <td>14.036510</td>\n",
              "      <td>-500.857308</td>\n",
              "      <td>11.999550</td>\n",
              "      <td>-501.193686</td>\n",
              "      <td>9.970366</td>\n",
              "      <td>-499.201640</td>\n",
              "      <td>7.977324</td>\n",
              "      <td>-500.255908</td>\n",
              "      <td>14.005551</td>\n",
              "      <td>-599.996129</td>\n",
              "    </tr>\n",
              "    <tr>\n",
              "      <th>2016-01-15 04:00:00</th>\n",
              "      <td>6.148599</td>\n",
              "      <td>10.142511</td>\n",
              "      <td>4.939416</td>\n",
              "      <td>42.774141</td>\n",
              "      <td>66.927016</td>\n",
              "      <td>10.360302</td>\n",
              "      <td>0.792826</td>\n",
              "      <td>16.525686</td>\n",
              "      <td>2.055292</td>\n",
              "      <td>117.988169</td>\n",
              "      <td>11.913613</td>\n",
              "      <td>7.25</td>\n",
              "      <td>1.009869</td>\n",
              "      <td>9.089428</td>\n",
              "      <td>9.986786</td>\n",
              "      <td>19.199864</td>\n",
              "      <td>33.044932</td>\n",
              "      <td>16.480185</td>\n",
              "      <td>3.112100</td>\n",
              "      <td>6.550154</td>\n",
              "      <td>2.277073</td>\n",
              "      <td>1601.339707</td>\n",
              "      <td>-498.975456</td>\n",
              "      <td>1601.437854</td>\n",
              "      <td>-500.323246</td>\n",
              "      <td>1599.581894</td>\n",
              "      <td>-500.888152</td>\n",
              "      <td>1602.649541</td>\n",
              "      <td>-500.593010</td>\n",
              "      <td>42125.354245</td>\n",
              "      <td>3494.800771</td>\n",
              "      <td>3506.679315</td>\n",
              "      <td>3.169615</td>\n",
              "      <td>6.060915</td>\n",
              "      <td>1.786875</td>\n",
              "      <td>540.531893</td>\n",
              "      <td>56.047189</td>\n",
              "      <td>34.347666</td>\n",
              "      <td>5.663707</td>\n",
              "      <td>10.957755</td>\n",
              "      <td>6.198826</td>\n",
              "      <td>10.960521</td>\n",
              "      <td>6.194897</td>\n",
              "      <td>12.411054</td>\n",
              "      <td>7.240205</td>\n",
              "      <td>27.041023</td>\n",
              "      <td>19.216101</td>\n",
              "      <td>86.688794</td>\n",
              "      <td>4.552800</td>\n",
              "      <td>0.515438</td>\n",
              "      <td>19.267422</td>\n",
              "      <td>1.012642</td>\n",
              "      <td>999.678690</td>\n",
              "      <td>-399.752729</td>\n",
              "      <td>1600.208824</td>\n",
              "      <td>-449.599614</td>\n",
              "      <td>1600.357732</td>\n",
              "      <td>-450.034364</td>\n",
              "      <td>1599.759049</td>\n",
              "      <td>-449.909799</td>\n",
              "      <td>1401.560902</td>\n",
              "      <td>-448.877187</td>\n",
              "      <td>1401.160227</td>\n",
              "      <td>-450.407128</td>\n",
              "      <td>14.079996</td>\n",
              "      <td>4.470737</td>\n",
              "      <td>8.871028</td>\n",
              "      <td>2.330448</td>\n",
              "      <td>26.024787</td>\n",
              "      <td>-500.279091</td>\n",
              "      <td>23.955345</td>\n",
              "      <td>-500.593614</td>\n",
              "      <td>23.985703</td>\n",
              "      <td>-500.083811</td>\n",
              "      <td>23.958945</td>\n",
              "      <td>-499.990309</td>\n",
              "      <td>14.027298</td>\n",
              "      <td>-499.838632</td>\n",
              "      <td>11.953070</td>\n",
              "      <td>-501.053894</td>\n",
              "      <td>9.925709</td>\n",
              "      <td>-501.686727</td>\n",
              "      <td>7.894242</td>\n",
              "      <td>-500.356035</td>\n",
              "      <td>13.996647</td>\n",
              "      <td>-601.496691</td>\n",
              "    </tr>\n",
              "  </tbody>\n",
              "</table>\n",
              "</div>"
            ],
            "text/plain": [
              "                     final.output.concentrate_ag  final.output.concentrate_pb  \\\n",
              "date                                                                            \n",
              "2016-01-15 00:00:00                     6.055403                     9.889648   \n",
              "2016-01-15 01:00:00                     6.029369                     9.968944   \n",
              "2016-01-15 02:00:00                     6.055926                    10.213995   \n",
              "2016-01-15 03:00:00                     6.047977                     9.977019   \n",
              "2016-01-15 04:00:00                     6.148599                    10.142511   \n",
              "\n",
              "                     final.output.concentrate_sol  \\\n",
              "date                                                \n",
              "2016-01-15 00:00:00                      5.507324   \n",
              "2016-01-15 01:00:00                      5.257781   \n",
              "2016-01-15 02:00:00                      5.383759   \n",
              "2016-01-15 03:00:00                      4.858634   \n",
              "2016-01-15 04:00:00                      4.939416   \n",
              "\n",
              "                     final.output.concentrate_au  final.output.recovery  \\\n",
              "date                                                                      \n",
              "2016-01-15 00:00:00                    42.192020              70.541216   \n",
              "2016-01-15 01:00:00                    42.701629              69.266198   \n",
              "2016-01-15 02:00:00                    42.657501              68.116445   \n",
              "2016-01-15 03:00:00                    42.689819              68.347543   \n",
              "2016-01-15 04:00:00                    42.774141              66.927016   \n",
              "\n",
              "                     final.output.tail_ag  final.output.tail_pb  \\\n",
              "date                                                              \n",
              "2016-01-15 00:00:00             10.411962              0.895447   \n",
              "2016-01-15 01:00:00             10.462676              0.927452   \n",
              "2016-01-15 02:00:00             10.507046              0.953716   \n",
              "2016-01-15 03:00:00             10.422762              0.883763   \n",
              "2016-01-15 04:00:00             10.360302              0.792826   \n",
              "\n",
              "                     final.output.tail_sol  final.output.tail_au  \\\n",
              "date                                                               \n",
              "2016-01-15 00:00:00              16.904297              2.143149   \n",
              "2016-01-15 01:00:00              16.634514              2.224930   \n",
              "2016-01-15 02:00:00              16.208849              2.257889   \n",
              "2016-01-15 03:00:00              16.532835              2.146849   \n",
              "2016-01-15 04:00:00              16.525686              2.055292   \n",
              "\n",
              "                     primary_cleaner.input.sulfate  \\\n",
              "date                                                 \n",
              "2016-01-15 00:00:00                     127.092003   \n",
              "2016-01-15 01:00:00                     125.629232   \n",
              "2016-01-15 02:00:00                     123.819808   \n",
              "2016-01-15 03:00:00                     122.270188   \n",
              "2016-01-15 04:00:00                     117.988169   \n",
              "\n",
              "                     primary_cleaner.input.depressant  \\\n",
              "date                                                    \n",
              "2016-01-15 00:00:00                         10.128295   \n",
              "2016-01-15 01:00:00                         10.296251   \n",
              "2016-01-15 02:00:00                         11.316280   \n",
              "2016-01-15 03:00:00                         11.322140   \n",
              "2016-01-15 04:00:00                         11.913613   \n",
              "\n",
              "                     primary_cleaner.input.feed_size  \\\n",
              "date                                                   \n",
              "2016-01-15 00:00:00                             7.25   \n",
              "2016-01-15 01:00:00                             7.25   \n",
              "2016-01-15 02:00:00                             7.25   \n",
              "2016-01-15 03:00:00                             7.25   \n",
              "2016-01-15 04:00:00                             7.25   \n",
              "\n",
              "                     primary_cleaner.input.xanthate  \\\n",
              "date                                                  \n",
              "2016-01-15 00:00:00                        0.988759   \n",
              "2016-01-15 01:00:00                        1.002663   \n",
              "2016-01-15 02:00:00                        0.991265   \n",
              "2016-01-15 03:00:00                        0.996739   \n",
              "2016-01-15 04:00:00                        1.009869   \n",
              "\n",
              "                     primary_cleaner.output.concentrate_ag  \\\n",
              "date                                                         \n",
              "2016-01-15 00:00:00                               8.547551   \n",
              "2016-01-15 01:00:00                               8.558743   \n",
              "2016-01-15 02:00:00                               8.603505   \n",
              "2016-01-15 03:00:00                               7.221879   \n",
              "2016-01-15 04:00:00                               9.089428   \n",
              "\n",
              "                     primary_cleaner.output.concentrate_pb  \\\n",
              "date                                                         \n",
              "2016-01-15 00:00:00                              10.389648   \n",
              "2016-01-15 01:00:00                              10.497069   \n",
              "2016-01-15 02:00:00                              10.354494   \n",
              "2016-01-15 03:00:00                               8.496563   \n",
              "2016-01-15 04:00:00                               9.986786   \n",
              "\n",
              "                     primary_cleaner.output.concentrate_sol  \\\n",
              "date                                                          \n",
              "2016-01-15 00:00:00                               19.529297   \n",
              "2016-01-15 01:00:00                               19.369147   \n",
              "2016-01-15 02:00:00                               19.167579   \n",
              "2016-01-15 03:00:00                               15.978538   \n",
              "2016-01-15 04:00:00                               19.199864   \n",
              "\n",
              "                     primary_cleaner.output.concentrate_au  \\\n",
              "date                                                         \n",
              "2016-01-15 00:00:00                              34.174427   \n",
              "2016-01-15 01:00:00                              34.118526   \n",
              "2016-01-15 02:00:00                              33.969464   \n",
              "2016-01-15 03:00:00                              28.260743   \n",
              "2016-01-15 04:00:00                              33.044932   \n",
              "\n",
              "                     primary_cleaner.output.tail_ag  \\\n",
              "date                                                  \n",
              "2016-01-15 00:00:00                       14.936526   \n",
              "2016-01-15 01:00:00                       16.250511   \n",
              "2016-01-15 02:00:00                       16.491823   \n",
              "2016-01-15 03:00:00                       16.024359   \n",
              "2016-01-15 04:00:00                       16.480185   \n",
              "\n",
              "                     primary_cleaner.output.tail_pb  \\\n",
              "date                                                  \n",
              "2016-01-15 00:00:00                        2.534912   \n",
              "2016-01-15 01:00:00                        3.049646   \n",
              "2016-01-15 02:00:00                        3.124664   \n",
              "2016-01-15 03:00:00                        2.960362   \n",
              "2016-01-15 04:00:00                        3.112100   \n",
              "\n",
              "                     primary_cleaner.output.tail_sol  \\\n",
              "date                                                   \n",
              "2016-01-15 00:00:00                         7.476074   \n",
              "2016-01-15 01:00:00                         6.733907   \n",
              "2016-01-15 02:00:00                         6.471768   \n",
              "2016-01-15 03:00:00                         6.843791   \n",
              "2016-01-15 04:00:00                         6.550154   \n",
              "\n",
              "                     primary_cleaner.output.tail_au  \\\n",
              "date                                                  \n",
              "2016-01-15 00:00:00                        2.106679   \n",
              "2016-01-15 01:00:00                        2.353017   \n",
              "2016-01-15 02:00:00                        2.416800   \n",
              "2016-01-15 03:00:00                        2.262051   \n",
              "2016-01-15 04:00:00                        2.277073   \n",
              "\n",
              "                     primary_cleaner.state.floatbank8_a_air  \\\n",
              "date                                                          \n",
              "2016-01-15 00:00:00                             1549.775757   \n",
              "2016-01-15 01:00:00                             1576.166671   \n",
              "2016-01-15 02:00:00                             1601.556163   \n",
              "2016-01-15 03:00:00                             1599.968720   \n",
              "2016-01-15 04:00:00                             1601.339707   \n",
              "\n",
              "                     primary_cleaner.state.floatbank8_a_level  \\\n",
              "date                                                            \n",
              "2016-01-15 00:00:00                               -498.912140   \n",
              "2016-01-15 01:00:00                               -500.904965   \n",
              "2016-01-15 02:00:00                               -499.997791   \n",
              "2016-01-15 03:00:00                               -500.951778   \n",
              "2016-01-15 04:00:00                               -498.975456   \n",
              "\n",
              "                     primary_cleaner.state.floatbank8_b_air  \\\n",
              "date                                                          \n",
              "2016-01-15 00:00:00                             1551.434204   \n",
              "2016-01-15 01:00:00                             1575.950626   \n",
              "2016-01-15 02:00:00                             1600.386685   \n",
              "2016-01-15 03:00:00                             1600.659236   \n",
              "2016-01-15 04:00:00                             1601.437854   \n",
              "\n",
              "                     primary_cleaner.state.floatbank8_b_level  \\\n",
              "date                                                            \n",
              "2016-01-15 00:00:00                               -516.403442   \n",
              "2016-01-15 01:00:00                               -499.865889   \n",
              "2016-01-15 02:00:00                               -500.607762   \n",
              "2016-01-15 03:00:00                               -499.677094   \n",
              "2016-01-15 04:00:00                               -500.323246   \n",
              "\n",
              "                     primary_cleaner.state.floatbank8_c_air  \\\n",
              "date                                                          \n",
              "2016-01-15 00:00:00                             1549.873901   \n",
              "2016-01-15 01:00:00                             1575.994189   \n",
              "2016-01-15 02:00:00                             1602.003542   \n",
              "2016-01-15 03:00:00                             1600.304144   \n",
              "2016-01-15 04:00:00                             1599.581894   \n",
              "\n",
              "                     primary_cleaner.state.floatbank8_c_level  \\\n",
              "date                                                            \n",
              "2016-01-15 00:00:00                               -498.666595   \n",
              "2016-01-15 01:00:00                               -499.315107   \n",
              "2016-01-15 02:00:00                               -500.870069   \n",
              "2016-01-15 03:00:00                               -500.727997   \n",
              "2016-01-15 04:00:00                               -500.888152   \n",
              "\n",
              "                     primary_cleaner.state.floatbank8_d_air  \\\n",
              "date                                                          \n",
              "2016-01-15 00:00:00                             1554.367432   \n",
              "2016-01-15 01:00:00                             1574.479259   \n",
              "2016-01-15 02:00:00                             1599.541515   \n",
              "2016-01-15 03:00:00                             1600.449520   \n",
              "2016-01-15 04:00:00                             1602.649541   \n",
              "\n",
              "                     primary_cleaner.state.floatbank8_d_level  \\\n",
              "date                                                            \n",
              "2016-01-15 00:00:00                               -493.428131   \n",
              "2016-01-15 01:00:00                               -498.931665   \n",
              "2016-01-15 02:00:00                               -499.827444   \n",
              "2016-01-15 03:00:00                               -500.052575   \n",
              "2016-01-15 04:00:00                               -500.593010   \n",
              "\n",
              "                     rougher.calculation.sulfate_to_au_concentrate  \\\n",
              "date                                                                 \n",
              "2016-01-15 00:00:00                                   41885.707031   \n",
              "2016-01-15 01:00:00                                   42050.861809   \n",
              "2016-01-15 02:00:00                                   42018.101184   \n",
              "2016-01-15 03:00:00                                   42029.447991   \n",
              "2016-01-15 04:00:00                                   42125.354245   \n",
              "\n",
              "                     rougher.calculation.floatbank10_sulfate_to_au_feed  \\\n",
              "date                                                                      \n",
              "2016-01-15 00:00:00                                        3481.779053    \n",
              "2016-01-15 01:00:00                                        3498.370979    \n",
              "2016-01-15 02:00:00                                        3495.348910    \n",
              "2016-01-15 03:00:00                                        3498.578313    \n",
              "2016-01-15 04:00:00                                        3494.800771    \n",
              "\n",
              "                     rougher.calculation.floatbank11_sulfate_to_au_feed  \\\n",
              "date                                                                      \n",
              "2016-01-15 00:00:00                                        3520.337158    \n",
              "2016-01-15 01:00:00                                        3489.981857    \n",
              "2016-01-15 02:00:00                                        3502.359819    \n",
              "2016-01-15 03:00:00                                        3499.162912    \n",
              "2016-01-15 04:00:00                                        3506.679315    \n",
              "\n",
              "                     rougher.calculation.au_pb_ratio  rougher.input.feed_ag  \\\n",
              "date                                                                          \n",
              "2016-01-15 00:00:00                         2.838687               6.100378   \n",
              "2016-01-15 01:00:00                         2.858998               6.161113   \n",
              "2016-01-15 02:00:00                         2.945989               6.116455   \n",
              "2016-01-15 03:00:00                         3.002340               6.043309   \n",
              "2016-01-15 04:00:00                         3.169615               6.060915   \n",
              "\n",
              "                     rougher.input.feed_pb  rougher.input.feed_rate  \\\n",
              "date                                                                  \n",
              "2016-01-15 00:00:00               2.284912               523.546326   \n",
              "2016-01-15 01:00:00               2.266033               525.290581   \n",
              "2016-01-15 02:00:00               2.159622               530.026610   \n",
              "2016-01-15 03:00:00               2.037807               542.590390   \n",
              "2016-01-15 04:00:00               1.786875               540.531893   \n",
              "\n",
              "                     rougher.input.feed_size  rougher.input.feed_sol  \\\n",
              "date                                                                   \n",
              "2016-01-15 00:00:00                55.486599               36.808594   \n",
              "2016-01-15 01:00:00                57.278666               35.753385   \n",
              "2016-01-15 02:00:00                57.510649               35.971630   \n",
              "2016-01-15 03:00:00                57.792734               36.862241   \n",
              "2016-01-15 04:00:00                56.047189               34.347666   \n",
              "\n",
              "                     rougher.input.feed_au  rougher.input.floatbank10_sulfate  \\\n",
              "date                                                                            \n",
              "2016-01-15 00:00:00               6.486150                          11.986616   \n",
              "2016-01-15 01:00:00               6.478583                          11.971193   \n",
              "2016-01-15 02:00:00               6.362222                          11.920603   \n",
              "2016-01-15 03:00:00               6.118189                          11.630094   \n",
              "2016-01-15 04:00:00               5.663707                          10.957755   \n",
              "\n",
              "                     rougher.input.floatbank10_xanthate  \\\n",
              "date                                                      \n",
              "2016-01-15 00:00:00                            6.007990   \n",
              "2016-01-15 01:00:00                            6.005766   \n",
              "2016-01-15 02:00:00                            6.197377   \n",
              "2016-01-15 03:00:00                            6.203177   \n",
              "2016-01-15 04:00:00                            6.198826   \n",
              "\n",
              "                     rougher.input.floatbank11_sulfate  \\\n",
              "date                                                     \n",
              "2016-01-15 00:00:00                          11.836743   \n",
              "2016-01-15 01:00:00                          11.996163   \n",
              "2016-01-15 02:00:00                          11.920305   \n",
              "2016-01-15 03:00:00                          11.692450   \n",
              "2016-01-15 04:00:00                          10.960521   \n",
              "\n",
              "                     rougher.input.floatbank11_xanthate  \\\n",
              "date                                                      \n",
              "2016-01-15 00:00:00                            6.005818   \n",
              "2016-01-15 01:00:00                            6.012594   \n",
              "2016-01-15 02:00:00                            6.204633   \n",
              "2016-01-15 03:00:00                            6.196578   \n",
              "2016-01-15 04:00:00                            6.194897   \n",
              "\n",
              "                     rougher.output.concentrate_ag  \\\n",
              "date                                                 \n",
              "2016-01-15 00:00:00                      11.500771   \n",
              "2016-01-15 01:00:00                      11.615865   \n",
              "2016-01-15 02:00:00                      11.695753   \n",
              "2016-01-15 03:00:00                      11.915047   \n",
              "2016-01-15 04:00:00                      12.411054   \n",
              "\n",
              "                     rougher.output.concentrate_pb  \\\n",
              "date                                                 \n",
              "2016-01-15 00:00:00                       7.101074   \n",
              "2016-01-15 01:00:00                       7.278807   \n",
              "2016-01-15 02:00:00                       7.216833   \n",
              "2016-01-15 03:00:00                       7.175616   \n",
              "2016-01-15 04:00:00                       7.240205   \n",
              "\n",
              "                     rougher.output.concentrate_sol  \\\n",
              "date                                                  \n",
              "2016-01-15 00:00:00                       28.029297   \n",
              "2016-01-15 01:00:00                       28.067063   \n",
              "2016-01-15 02:00:00                       27.454037   \n",
              "2016-01-15 03:00:00                       27.341277   \n",
              "2016-01-15 04:00:00                       27.041023   \n",
              "\n",
              "                     rougher.output.concentrate_au  rougher.output.recovery  \\\n",
              "date                                                                          \n",
              "2016-01-15 00:00:00                      19.793808                87.107763   \n",
              "2016-01-15 01:00:00                      20.050975                86.843261   \n",
              "2016-01-15 02:00:00                      19.737170                86.842308   \n",
              "2016-01-15 03:00:00                      19.320810                87.226430   \n",
              "2016-01-15 04:00:00                      19.216101                86.688794   \n",
              "\n",
              "                     rougher.output.tail_ag  rougher.output.tail_pb  \\\n",
              "date                                                                  \n",
              "2016-01-15 00:00:00                5.008018                0.508728   \n",
              "2016-01-15 01:00:00                4.955378                0.536689   \n",
              "2016-01-15 02:00:00                4.843460                0.546416   \n",
              "2016-01-15 03:00:00                4.655288                0.542525   \n",
              "2016-01-15 04:00:00                4.552800                0.515438   \n",
              "\n",
              "                     rougher.output.tail_sol  rougher.output.tail_au  \\\n",
              "date                                                                   \n",
              "2016-01-15 00:00:00                19.154297                1.170244   \n",
              "2016-01-15 01:00:00                18.965234                1.184827   \n",
              "2016-01-15 02:00:00                18.808533                1.162562   \n",
              "2016-01-15 03:00:00                19.330200                1.079755   \n",
              "2016-01-15 04:00:00                19.267422                1.012642   \n",
              "\n",
              "                     rougher.state.floatbank10_a_air  \\\n",
              "date                                                   \n",
              "2016-01-15 00:00:00                       999.706909   \n",
              "2016-01-15 01:00:00                      1000.286398   \n",
              "2016-01-15 02:00:00                       999.719565   \n",
              "2016-01-15 03:00:00                       999.814770   \n",
              "2016-01-15 04:00:00                       999.678690   \n",
              "\n",
              "                     rougher.state.floatbank10_a_level  \\\n",
              "date                                                     \n",
              "2016-01-15 00:00:00                        -404.066986   \n",
              "2016-01-15 01:00:00                        -400.065196   \n",
              "2016-01-15 02:00:00                        -400.074028   \n",
              "2016-01-15 03:00:00                        -400.200179   \n",
              "2016-01-15 04:00:00                        -399.752729   \n",
              "\n",
              "                     rougher.state.floatbank10_b_air  \\\n",
              "date                                                   \n",
              "2016-01-15 00:00:00                      1603.011353   \n",
              "2016-01-15 01:00:00                      1600.754587   \n",
              "2016-01-15 02:00:00                      1599.337330   \n",
              "2016-01-15 03:00:00                      1600.059442   \n",
              "2016-01-15 04:00:00                      1600.208824   \n",
              "\n",
              "                     rougher.state.floatbank10_b_level  \\\n",
              "date                                                     \n",
              "2016-01-15 00:00:00                        -434.715027   \n",
              "2016-01-15 01:00:00                        -449.953435   \n",
              "2016-01-15 02:00:00                        -450.008530   \n",
              "2016-01-15 03:00:00                        -450.619948   \n",
              "2016-01-15 04:00:00                        -449.599614   \n",
              "\n",
              "                     rougher.state.floatbank10_c_air  \\\n",
              "date                                                   \n",
              "2016-01-15 00:00:00                      1602.375000   \n",
              "2016-01-15 01:00:00                      1600.479580   \n",
              "2016-01-15 02:00:00                      1599.672797   \n",
              "2016-01-15 03:00:00                      1600.012842   \n",
              "2016-01-15 04:00:00                      1600.357732   \n",
              "\n",
              "                     rougher.state.floatbank10_c_level  \\\n",
              "date                                                     \n",
              "2016-01-15 00:00:00                        -442.204468   \n",
              "2016-01-15 01:00:00                        -449.830646   \n",
              "2016-01-15 02:00:00                        -449.954491   \n",
              "2016-01-15 03:00:00                        -449.910497   \n",
              "2016-01-15 04:00:00                        -450.034364   \n",
              "\n",
              "                     rougher.state.floatbank10_d_air  \\\n",
              "date                                                   \n",
              "2016-01-15 00:00:00                      1598.937256   \n",
              "2016-01-15 01:00:00                      1600.527589   \n",
              "2016-01-15 02:00:00                      1599.849325   \n",
              "2016-01-15 03:00:00                      1597.725177   \n",
              "2016-01-15 04:00:00                      1599.759049   \n",
              "\n",
              "                     rougher.state.floatbank10_d_level  \\\n",
              "date                                                     \n",
              "2016-01-15 00:00:00                        -451.294128   \n",
              "2016-01-15 01:00:00                        -449.953649   \n",
              "2016-01-15 02:00:00                        -449.954185   \n",
              "2016-01-15 03:00:00                        -450.130127   \n",
              "2016-01-15 04:00:00                        -449.909799   \n",
              "\n",
              "                     rougher.state.floatbank10_e_air  \\\n",
              "date                                                   \n",
              "2016-01-15 00:00:00                      1404.472046   \n",
              "2016-01-15 01:00:00                      1399.227084   \n",
              "2016-01-15 02:00:00                      1399.180945   \n",
              "2016-01-15 03:00:00                      1400.943157   \n",
              "2016-01-15 04:00:00                      1401.560902   \n",
              "\n",
              "                     rougher.state.floatbank10_e_level  \\\n",
              "date                                                     \n",
              "2016-01-15 00:00:00                        -455.462982   \n",
              "2016-01-15 01:00:00                        -450.869848   \n",
              "2016-01-15 02:00:00                        -449.937588   \n",
              "2016-01-15 03:00:00                        -450.030142   \n",
              "2016-01-15 04:00:00                        -448.877187   \n",
              "\n",
              "                     rougher.state.floatbank10_f_air  \\\n",
              "date                                                   \n",
              "2016-01-15 00:00:00                      1416.354980   \n",
              "2016-01-15 01:00:00                      1399.719514   \n",
              "2016-01-15 02:00:00                      1400.316682   \n",
              "2016-01-15 03:00:00                      1400.234743   \n",
              "2016-01-15 04:00:00                      1401.160227   \n",
              "\n",
              "                     rougher.state.floatbank10_f_level  \\\n",
              "date                                                     \n",
              "2016-01-15 00:00:00                        -451.939636   \n",
              "2016-01-15 01:00:00                        -450.119001   \n",
              "2016-01-15 02:00:00                        -450.527147   \n",
              "2016-01-15 03:00:00                        -449.790835   \n",
              "2016-01-15 04:00:00                        -450.407128   \n",
              "\n",
              "                     secondary_cleaner.output.tail_ag  \\\n",
              "date                                                    \n",
              "2016-01-15 00:00:00                         14.500184   \n",
              "2016-01-15 01:00:00                         14.265474   \n",
              "2016-01-15 02:00:00                         14.115662   \n",
              "2016-01-15 03:00:00                         13.732071   \n",
              "2016-01-15 04:00:00                         14.079996   \n",
              "\n",
              "                     secondary_cleaner.output.tail_pb  \\\n",
              "date                                                    \n",
              "2016-01-15 00:00:00                          4.694824   \n",
              "2016-01-15 01:00:00                          4.592547   \n",
              "2016-01-15 02:00:00                          4.624775   \n",
              "2016-01-15 03:00:00                          4.482453   \n",
              "2016-01-15 04:00:00                          4.470737   \n",
              "\n",
              "                     secondary_cleaner.output.tail_sol  \\\n",
              "date                                                     \n",
              "2016-01-15 00:00:00                           8.764648   \n",
              "2016-01-15 01:00:00                           9.001494   \n",
              "2016-01-15 02:00:00                           8.842896   \n",
              "2016-01-15 03:00:00                           9.122857   \n",
              "2016-01-15 04:00:00                           8.871028   \n",
              "\n",
              "                     secondary_cleaner.output.tail_au  \\\n",
              "date                                                    \n",
              "2016-01-15 00:00:00                          2.606185   \n",
              "2016-01-15 01:00:00                          2.488248   \n",
              "2016-01-15 02:00:00                          2.458187   \n",
              "2016-01-15 03:00:00                          2.322062   \n",
              "2016-01-15 04:00:00                          2.330448   \n",
              "\n",
              "                     secondary_cleaner.state.floatbank2_a_air  \\\n",
              "date                                                            \n",
              "2016-01-15 00:00:00                                 25.853109   \n",
              "2016-01-15 01:00:00                                 25.880539   \n",
              "2016-01-15 02:00:00                                 26.005245   \n",
              "2016-01-15 03:00:00                                 25.942508   \n",
              "2016-01-15 04:00:00                                 26.024787   \n",
              "\n",
              "                     secondary_cleaner.state.floatbank2_a_level  \\\n",
              "date                                                              \n",
              "2016-01-15 00:00:00                                 -498.526489   \n",
              "2016-01-15 01:00:00                                 -499.989656   \n",
              "2016-01-15 02:00:00                                 -499.929616   \n",
              "2016-01-15 03:00:00                                 -499.176749   \n",
              "2016-01-15 04:00:00                                 -500.279091   \n",
              "\n",
              "                     secondary_cleaner.state.floatbank2_b_air  \\\n",
              "date                                                            \n",
              "2016-01-15 00:00:00                                 23.893660   \n",
              "2016-01-15 01:00:00                                 23.889530   \n",
              "2016-01-15 02:00:00                                 23.886657   \n",
              "2016-01-15 03:00:00                                 23.955516   \n",
              "2016-01-15 04:00:00                                 23.955345   \n",
              "\n",
              "                     secondary_cleaner.state.floatbank2_b_level  \\\n",
              "date                                                              \n",
              "2016-01-15 00:00:00                                 -501.406281   \n",
              "2016-01-15 01:00:00                                 -500.372428   \n",
              "2016-01-15 02:00:00                                 -499.951928   \n",
              "2016-01-15 03:00:00                                 -499.848796   \n",
              "2016-01-15 04:00:00                                 -500.593614   \n",
              "\n",
              "                     secondary_cleaner.state.floatbank3_a_air  \\\n",
              "date                                                            \n",
              "2016-01-15 00:00:00                                 23.961798   \n",
              "2016-01-15 01:00:00                                 23.970550   \n",
              "2016-01-15 02:00:00                                 23.913535   \n",
              "2016-01-15 03:00:00                                 23.966838   \n",
              "2016-01-15 04:00:00                                 23.985703   \n",
              "\n",
              "                     secondary_cleaner.state.floatbank3_a_level  \\\n",
              "date                                                              \n",
              "2016-01-15 00:00:00                                 -495.262817   \n",
              "2016-01-15 01:00:00                                 -500.085473   \n",
              "2016-01-15 02:00:00                                 -499.442343   \n",
              "2016-01-15 03:00:00                                 -500.008812   \n",
              "2016-01-15 04:00:00                                 -500.083811   \n",
              "\n",
              "                     secondary_cleaner.state.floatbank3_b_air  \\\n",
              "date                                                            \n",
              "2016-01-15 00:00:00                                 21.940409   \n",
              "2016-01-15 01:00:00                                 22.085714   \n",
              "2016-01-15 02:00:00                                 23.957717   \n",
              "2016-01-15 03:00:00                                 23.954443   \n",
              "2016-01-15 04:00:00                                 23.958945   \n",
              "\n",
              "                     secondary_cleaner.state.floatbank3_b_level  \\\n",
              "date                                                              \n",
              "2016-01-15 00:00:00                                 -499.340973   \n",
              "2016-01-15 01:00:00                                 -499.446897   \n",
              "2016-01-15 02:00:00                                 -499.901982   \n",
              "2016-01-15 03:00:00                                 -499.944710   \n",
              "2016-01-15 04:00:00                                 -499.990309   \n",
              "\n",
              "                     secondary_cleaner.state.floatbank4_a_air  \\\n",
              "date                                                            \n",
              "2016-01-15 00:00:00                                 14.016835   \n",
              "2016-01-15 01:00:00                                 13.992281   \n",
              "2016-01-15 02:00:00                                 14.015015   \n",
              "2016-01-15 03:00:00                                 14.036510   \n",
              "2016-01-15 04:00:00                                 14.027298   \n",
              "\n",
              "                     secondary_cleaner.state.floatbank4_a_level  \\\n",
              "date                                                              \n",
              "2016-01-15 00:00:00                                 -502.488007   \n",
              "2016-01-15 01:00:00                                 -505.503262   \n",
              "2016-01-15 02:00:00                                 -502.520901   \n",
              "2016-01-15 03:00:00                                 -500.857308   \n",
              "2016-01-15 04:00:00                                 -499.838632   \n",
              "\n",
              "                     secondary_cleaner.state.floatbank4_b_air  \\\n",
              "date                                                            \n",
              "2016-01-15 00:00:00                                 12.099931   \n",
              "2016-01-15 01:00:00                                 11.950531   \n",
              "2016-01-15 02:00:00                                 11.912783   \n",
              "2016-01-15 03:00:00                                 11.999550   \n",
              "2016-01-15 04:00:00                                 11.953070   \n",
              "\n",
              "                     secondary_cleaner.state.floatbank4_b_level  \\\n",
              "date                                                              \n",
              "2016-01-15 00:00:00                                 -504.715942   \n",
              "2016-01-15 01:00:00                                 -501.331529   \n",
              "2016-01-15 02:00:00                                 -501.133383   \n",
              "2016-01-15 03:00:00                                 -501.193686   \n",
              "2016-01-15 04:00:00                                 -501.053894   \n",
              "\n",
              "                     secondary_cleaner.state.floatbank5_a_air  \\\n",
              "date                                                            \n",
              "2016-01-15 00:00:00                                  9.925633   \n",
              "2016-01-15 01:00:00                                 10.039245   \n",
              "2016-01-15 02:00:00                                 10.070913   \n",
              "2016-01-15 03:00:00                                  9.970366   \n",
              "2016-01-15 04:00:00                                  9.925709   \n",
              "\n",
              "                     secondary_cleaner.state.floatbank5_a_level  \\\n",
              "date                                                              \n",
              "2016-01-15 00:00:00                                 -498.310211   \n",
              "2016-01-15 01:00:00                                 -500.169983   \n",
              "2016-01-15 02:00:00                                 -500.129135   \n",
              "2016-01-15 03:00:00                                 -499.201640   \n",
              "2016-01-15 04:00:00                                 -501.686727   \n",
              "\n",
              "                     secondary_cleaner.state.floatbank5_b_air  \\\n",
              "date                                                            \n",
              "2016-01-15 00:00:00                                  8.079666   \n",
              "2016-01-15 01:00:00                                  7.984757   \n",
              "2016-01-15 02:00:00                                  8.013877   \n",
              "2016-01-15 03:00:00                                  7.977324   \n",
              "2016-01-15 04:00:00                                  7.894242   \n",
              "\n",
              "                     secondary_cleaner.state.floatbank5_b_level  \\\n",
              "date                                                              \n",
              "2016-01-15 00:00:00                                 -500.470978   \n",
              "2016-01-15 01:00:00                                 -500.582168   \n",
              "2016-01-15 02:00:00                                 -500.517572   \n",
              "2016-01-15 03:00:00                                 -500.255908   \n",
              "2016-01-15 04:00:00                                 -500.356035   \n",
              "\n",
              "                     secondary_cleaner.state.floatbank6_a_air  \\\n",
              "date                                                            \n",
              "2016-01-15 00:00:00                                 14.151341   \n",
              "2016-01-15 01:00:00                                 13.998353   \n",
              "2016-01-15 02:00:00                                 14.028663   \n",
              "2016-01-15 03:00:00                                 14.005551   \n",
              "2016-01-15 04:00:00                                 13.996647   \n",
              "\n",
              "                     secondary_cleaner.state.floatbank6_a_level  \n",
              "date                                                             \n",
              "2016-01-15 00:00:00                                 -605.841980  \n",
              "2016-01-15 01:00:00                                 -599.787184  \n",
              "2016-01-15 02:00:00                                 -601.427363  \n",
              "2016-01-15 03:00:00                                 -599.996129  \n",
              "2016-01-15 04:00:00                                 -601.496691  "
            ]
          },
          "metadata": {},
          "output_type": "display_data"
        }
      ],
      "source": [
        "# чтение и загрузка файлов - исходные данные, полный файл\n",
        "\n",
        "gold_full = pd.read_csv('/datasets/gold_recovery_full_new.csv', index_col='date')\n",
        "display(gold_full.head())"
      ]
    },
    {
      "cell_type": "code",
      "execution_count": null,
      "metadata": {
        "id": "mCkd_th3Hxiy",
        "outputId": "065c4f53-b34e-4859-92fc-2e344ebe4286"
      },
      "outputs": [
        {
          "data": {
            "text/plain": [
              "(19439, 86)"
            ]
          },
          "execution_count": 46,
          "metadata": {},
          "output_type": "execute_result"
        }
      ],
      "source": [
        "gold_full.shape"
      ]
    },
    {
      "cell_type": "code",
      "execution_count": null,
      "metadata": {
        "id": "oeOQEoMnHxiy",
        "outputId": "0c0ca230-fbdb-42a4-defa-5c97b0014752"
      },
      "outputs": [
        {
          "name": "stdout",
          "output_type": "stream",
          "text": [
            "<class 'pandas.core.frame.DataFrame'>\n",
            "Index: 19439 entries, 2016-01-15 00:00:00 to 2018-08-18 10:59:59\n",
            "Data columns (total 86 columns):\n",
            " #   Column                                              Non-Null Count  Dtype  \n",
            "---  ------                                              --------------  -----  \n",
            " 0   final.output.concentrate_ag                         19438 non-null  float64\n",
            " 1   final.output.concentrate_pb                         19438 non-null  float64\n",
            " 2   final.output.concentrate_sol                        19228 non-null  float64\n",
            " 3   final.output.concentrate_au                         19439 non-null  float64\n",
            " 4   final.output.recovery                               19439 non-null  float64\n",
            " 5   final.output.tail_ag                                19438 non-null  float64\n",
            " 6   final.output.tail_pb                                19338 non-null  float64\n",
            " 7   final.output.tail_sol                               19433 non-null  float64\n",
            " 8   final.output.tail_au                                19439 non-null  float64\n",
            " 9   primary_cleaner.input.sulfate                       19415 non-null  float64\n",
            " 10  primary_cleaner.input.depressant                    19402 non-null  float64\n",
            " 11  primary_cleaner.input.feed_size                     19439 non-null  float64\n",
            " 12  primary_cleaner.input.xanthate                      19335 non-null  float64\n",
            " 13  primary_cleaner.output.concentrate_ag               19439 non-null  float64\n",
            " 14  primary_cleaner.output.concentrate_pb               19323 non-null  float64\n",
            " 15  primary_cleaner.output.concentrate_sol              19069 non-null  float64\n",
            " 16  primary_cleaner.output.concentrate_au               19439 non-null  float64\n",
            " 17  primary_cleaner.output.tail_ag                      19435 non-null  float64\n",
            " 18  primary_cleaner.output.tail_pb                      19418 non-null  float64\n",
            " 19  primary_cleaner.output.tail_sol                     19377 non-null  float64\n",
            " 20  primary_cleaner.output.tail_au                      19439 non-null  float64\n",
            " 21  primary_cleaner.state.floatbank8_a_air              19435 non-null  float64\n",
            " 22  primary_cleaner.state.floatbank8_a_level            19438 non-null  float64\n",
            " 23  primary_cleaner.state.floatbank8_b_air              19435 non-null  float64\n",
            " 24  primary_cleaner.state.floatbank8_b_level            19438 non-null  float64\n",
            " 25  primary_cleaner.state.floatbank8_c_air              19437 non-null  float64\n",
            " 26  primary_cleaner.state.floatbank8_c_level            19438 non-null  float64\n",
            " 27  primary_cleaner.state.floatbank8_d_air              19436 non-null  float64\n",
            " 28  primary_cleaner.state.floatbank8_d_level            19438 non-null  float64\n",
            " 29  rougher.calculation.sulfate_to_au_concentrate       19437 non-null  float64\n",
            " 30  rougher.calculation.floatbank10_sulfate_to_au_feed  19437 non-null  float64\n",
            " 31  rougher.calculation.floatbank11_sulfate_to_au_feed  19437 non-null  float64\n",
            " 32  rougher.calculation.au_pb_ratio                     19439 non-null  float64\n",
            " 33  rougher.input.feed_ag                               19439 non-null  float64\n",
            " 34  rougher.input.feed_pb                               19339 non-null  float64\n",
            " 35  rougher.input.feed_rate                             19428 non-null  float64\n",
            " 36  rougher.input.feed_size                             19294 non-null  float64\n",
            " 37  rougher.input.feed_sol                              19340 non-null  float64\n",
            " 38  rougher.input.feed_au                               19439 non-null  float64\n",
            " 39  rougher.input.floatbank10_sulfate                   19405 non-null  float64\n",
            " 40  rougher.input.floatbank10_xanthate                  19431 non-null  float64\n",
            " 41  rougher.input.floatbank11_sulfate                   19395 non-null  float64\n",
            " 42  rougher.input.floatbank11_xanthate                  18986 non-null  float64\n",
            " 43  rougher.output.concentrate_ag                       19439 non-null  float64\n",
            " 44  rougher.output.concentrate_pb                       19439 non-null  float64\n",
            " 45  rougher.output.concentrate_sol                      19416 non-null  float64\n",
            " 46  rougher.output.concentrate_au                       19439 non-null  float64\n",
            " 47  rougher.output.recovery                             19439 non-null  float64\n",
            " 48  rougher.output.tail_ag                              19438 non-null  float64\n",
            " 49  rougher.output.tail_pb                              19439 non-null  float64\n",
            " 50  rougher.output.tail_sol                             19439 non-null  float64\n",
            " 51  rougher.output.tail_au                              19439 non-null  float64\n",
            " 52  rougher.state.floatbank10_a_air                     19438 non-null  float64\n",
            " 53  rougher.state.floatbank10_a_level                   19438 non-null  float64\n",
            " 54  rougher.state.floatbank10_b_air                     19438 non-null  float64\n",
            " 55  rougher.state.floatbank10_b_level                   19438 non-null  float64\n",
            " 56  rougher.state.floatbank10_c_air                     19438 non-null  float64\n",
            " 57  rougher.state.floatbank10_c_level                   19438 non-null  float64\n",
            " 58  rougher.state.floatbank10_d_air                     19439 non-null  float64\n",
            " 59  rougher.state.floatbank10_d_level                   19439 non-null  float64\n",
            " 60  rougher.state.floatbank10_e_air                     19003 non-null  float64\n",
            " 61  rougher.state.floatbank10_e_level                   19439 non-null  float64\n",
            " 62  rougher.state.floatbank10_f_air                     19439 non-null  float64\n",
            " 63  rougher.state.floatbank10_f_level                   19439 non-null  float64\n",
            " 64  secondary_cleaner.output.tail_ag                    19437 non-null  float64\n",
            " 65  secondary_cleaner.output.tail_pb                    19427 non-null  float64\n",
            " 66  secondary_cleaner.output.tail_sol                   17691 non-null  float64\n",
            " 67  secondary_cleaner.output.tail_au                    19439 non-null  float64\n",
            " 68  secondary_cleaner.state.floatbank2_a_air            19219 non-null  float64\n",
            " 69  secondary_cleaner.state.floatbank2_a_level          19438 non-null  float64\n",
            " 70  secondary_cleaner.state.floatbank2_b_air            19416 non-null  float64\n",
            " 71  secondary_cleaner.state.floatbank2_b_level          19438 non-null  float64\n",
            " 72  secondary_cleaner.state.floatbank3_a_air            19426 non-null  float64\n",
            " 73  secondary_cleaner.state.floatbank3_a_level          19438 non-null  float64\n",
            " 74  secondary_cleaner.state.floatbank3_b_air            19438 non-null  float64\n",
            " 75  secondary_cleaner.state.floatbank3_b_level          19438 non-null  float64\n",
            " 76  secondary_cleaner.state.floatbank4_a_air            19433 non-null  float64\n",
            " 77  secondary_cleaner.state.floatbank4_a_level          19438 non-null  float64\n",
            " 78  secondary_cleaner.state.floatbank4_b_air            19438 non-null  float64\n",
            " 79  secondary_cleaner.state.floatbank4_b_level          19438 non-null  float64\n",
            " 80  secondary_cleaner.state.floatbank5_a_air            19438 non-null  float64\n",
            " 81  secondary_cleaner.state.floatbank5_a_level          19438 non-null  float64\n",
            " 82  secondary_cleaner.state.floatbank5_b_air            19438 non-null  float64\n",
            " 83  secondary_cleaner.state.floatbank5_b_level          19438 non-null  float64\n",
            " 84  secondary_cleaner.state.floatbank6_a_air            19437 non-null  float64\n",
            " 85  secondary_cleaner.state.floatbank6_a_level          19438 non-null  float64\n",
            "dtypes: float64(86)\n",
            "memory usage: 12.9+ MB\n"
          ]
        }
      ],
      "source": [
        "# выведем общую информацию о данных\n",
        "\n",
        "gold_full.info()"
      ]
    },
    {
      "cell_type": "code",
      "execution_count": null,
      "metadata": {
        "id": "EDXCC5ZlHxiy",
        "outputId": "87dc9031-7ce0-4bde-a28f-192da641c065"
      },
      "outputs": [
        {
          "data": {
            "text/html": [
              "<div>\n",
              "<style scoped>\n",
              "    .dataframe tbody tr th:only-of-type {\n",
              "        vertical-align: middle;\n",
              "    }\n",
              "\n",
              "    .dataframe tbody tr th {\n",
              "        vertical-align: top;\n",
              "    }\n",
              "\n",
              "    .dataframe thead th {\n",
              "        text-align: right;\n",
              "    }\n",
              "</style>\n",
              "<table border=\"1\" class=\"dataframe\">\n",
              "  <thead>\n",
              "    <tr style=\"text-align: right;\">\n",
              "      <th></th>\n",
              "      <th>final.output.concentrate_ag</th>\n",
              "      <th>final.output.concentrate_pb</th>\n",
              "      <th>final.output.concentrate_sol</th>\n",
              "      <th>final.output.concentrate_au</th>\n",
              "      <th>final.output.recovery</th>\n",
              "      <th>final.output.tail_ag</th>\n",
              "      <th>final.output.tail_pb</th>\n",
              "      <th>final.output.tail_sol</th>\n",
              "      <th>final.output.tail_au</th>\n",
              "      <th>primary_cleaner.input.sulfate</th>\n",
              "      <th>primary_cleaner.input.depressant</th>\n",
              "      <th>primary_cleaner.input.feed_size</th>\n",
              "      <th>primary_cleaner.input.xanthate</th>\n",
              "      <th>primary_cleaner.output.concentrate_ag</th>\n",
              "      <th>primary_cleaner.output.concentrate_pb</th>\n",
              "      <th>primary_cleaner.output.concentrate_sol</th>\n",
              "      <th>primary_cleaner.output.concentrate_au</th>\n",
              "      <th>primary_cleaner.output.tail_ag</th>\n",
              "      <th>primary_cleaner.output.tail_pb</th>\n",
              "      <th>primary_cleaner.output.tail_sol</th>\n",
              "      <th>primary_cleaner.output.tail_au</th>\n",
              "      <th>primary_cleaner.state.floatbank8_a_air</th>\n",
              "      <th>primary_cleaner.state.floatbank8_a_level</th>\n",
              "      <th>primary_cleaner.state.floatbank8_b_air</th>\n",
              "      <th>primary_cleaner.state.floatbank8_b_level</th>\n",
              "      <th>primary_cleaner.state.floatbank8_c_air</th>\n",
              "      <th>primary_cleaner.state.floatbank8_c_level</th>\n",
              "      <th>primary_cleaner.state.floatbank8_d_air</th>\n",
              "      <th>primary_cleaner.state.floatbank8_d_level</th>\n",
              "      <th>rougher.calculation.sulfate_to_au_concentrate</th>\n",
              "      <th>rougher.calculation.floatbank10_sulfate_to_au_feed</th>\n",
              "      <th>rougher.calculation.floatbank11_sulfate_to_au_feed</th>\n",
              "      <th>rougher.calculation.au_pb_ratio</th>\n",
              "      <th>rougher.input.feed_ag</th>\n",
              "      <th>rougher.input.feed_pb</th>\n",
              "      <th>rougher.input.feed_rate</th>\n",
              "      <th>rougher.input.feed_size</th>\n",
              "      <th>rougher.input.feed_sol</th>\n",
              "      <th>rougher.input.feed_au</th>\n",
              "      <th>rougher.input.floatbank10_sulfate</th>\n",
              "      <th>rougher.input.floatbank10_xanthate</th>\n",
              "      <th>rougher.input.floatbank11_sulfate</th>\n",
              "      <th>rougher.input.floatbank11_xanthate</th>\n",
              "      <th>rougher.output.concentrate_ag</th>\n",
              "      <th>rougher.output.concentrate_pb</th>\n",
              "      <th>rougher.output.concentrate_sol</th>\n",
              "      <th>rougher.output.concentrate_au</th>\n",
              "      <th>rougher.output.recovery</th>\n",
              "      <th>rougher.output.tail_ag</th>\n",
              "      <th>rougher.output.tail_pb</th>\n",
              "      <th>rougher.output.tail_sol</th>\n",
              "      <th>rougher.output.tail_au</th>\n",
              "      <th>rougher.state.floatbank10_a_air</th>\n",
              "      <th>rougher.state.floatbank10_a_level</th>\n",
              "      <th>rougher.state.floatbank10_b_air</th>\n",
              "      <th>rougher.state.floatbank10_b_level</th>\n",
              "      <th>rougher.state.floatbank10_c_air</th>\n",
              "      <th>rougher.state.floatbank10_c_level</th>\n",
              "      <th>rougher.state.floatbank10_d_air</th>\n",
              "      <th>rougher.state.floatbank10_d_level</th>\n",
              "      <th>rougher.state.floatbank10_e_air</th>\n",
              "      <th>rougher.state.floatbank10_e_level</th>\n",
              "      <th>rougher.state.floatbank10_f_air</th>\n",
              "      <th>rougher.state.floatbank10_f_level</th>\n",
              "      <th>secondary_cleaner.output.tail_ag</th>\n",
              "      <th>secondary_cleaner.output.tail_pb</th>\n",
              "      <th>secondary_cleaner.output.tail_sol</th>\n",
              "      <th>secondary_cleaner.output.tail_au</th>\n",
              "      <th>secondary_cleaner.state.floatbank2_a_air</th>\n",
              "      <th>secondary_cleaner.state.floatbank2_a_level</th>\n",
              "      <th>secondary_cleaner.state.floatbank2_b_air</th>\n",
              "      <th>secondary_cleaner.state.floatbank2_b_level</th>\n",
              "      <th>secondary_cleaner.state.floatbank3_a_air</th>\n",
              "      <th>secondary_cleaner.state.floatbank3_a_level</th>\n",
              "      <th>secondary_cleaner.state.floatbank3_b_air</th>\n",
              "      <th>secondary_cleaner.state.floatbank3_b_level</th>\n",
              "      <th>secondary_cleaner.state.floatbank4_a_air</th>\n",
              "      <th>secondary_cleaner.state.floatbank4_a_level</th>\n",
              "      <th>secondary_cleaner.state.floatbank4_b_air</th>\n",
              "      <th>secondary_cleaner.state.floatbank4_b_level</th>\n",
              "      <th>secondary_cleaner.state.floatbank5_a_air</th>\n",
              "      <th>secondary_cleaner.state.floatbank5_a_level</th>\n",
              "      <th>secondary_cleaner.state.floatbank5_b_air</th>\n",
              "      <th>secondary_cleaner.state.floatbank5_b_level</th>\n",
              "      <th>secondary_cleaner.state.floatbank6_a_air</th>\n",
              "      <th>secondary_cleaner.state.floatbank6_a_level</th>\n",
              "    </tr>\n",
              "    <tr>\n",
              "      <th>date</th>\n",
              "      <th></th>\n",
              "      <th></th>\n",
              "      <th></th>\n",
              "      <th></th>\n",
              "      <th></th>\n",
              "      <th></th>\n",
              "      <th></th>\n",
              "      <th></th>\n",
              "      <th></th>\n",
              "      <th></th>\n",
              "      <th></th>\n",
              "      <th></th>\n",
              "      <th></th>\n",
              "      <th></th>\n",
              "      <th></th>\n",
              "      <th></th>\n",
              "      <th></th>\n",
              "      <th></th>\n",
              "      <th></th>\n",
              "      <th></th>\n",
              "      <th></th>\n",
              "      <th></th>\n",
              "      <th></th>\n",
              "      <th></th>\n",
              "      <th></th>\n",
              "      <th></th>\n",
              "      <th></th>\n",
              "      <th></th>\n",
              "      <th></th>\n",
              "      <th></th>\n",
              "      <th></th>\n",
              "      <th></th>\n",
              "      <th></th>\n",
              "      <th></th>\n",
              "      <th></th>\n",
              "      <th></th>\n",
              "      <th></th>\n",
              "      <th></th>\n",
              "      <th></th>\n",
              "      <th></th>\n",
              "      <th></th>\n",
              "      <th></th>\n",
              "      <th></th>\n",
              "      <th></th>\n",
              "      <th></th>\n",
              "      <th></th>\n",
              "      <th></th>\n",
              "      <th></th>\n",
              "      <th></th>\n",
              "      <th></th>\n",
              "      <th></th>\n",
              "      <th></th>\n",
              "      <th></th>\n",
              "      <th></th>\n",
              "      <th></th>\n",
              "      <th></th>\n",
              "      <th></th>\n",
              "      <th></th>\n",
              "      <th></th>\n",
              "      <th></th>\n",
              "      <th></th>\n",
              "      <th></th>\n",
              "      <th></th>\n",
              "      <th></th>\n",
              "      <th></th>\n",
              "      <th></th>\n",
              "      <th></th>\n",
              "      <th></th>\n",
              "      <th></th>\n",
              "      <th></th>\n",
              "      <th></th>\n",
              "      <th></th>\n",
              "      <th></th>\n",
              "      <th></th>\n",
              "      <th></th>\n",
              "      <th></th>\n",
              "      <th></th>\n",
              "      <th></th>\n",
              "      <th></th>\n",
              "      <th></th>\n",
              "      <th></th>\n",
              "      <th></th>\n",
              "      <th></th>\n",
              "      <th></th>\n",
              "      <th></th>\n",
              "      <th></th>\n",
              "    </tr>\n",
              "  </thead>\n",
              "  <tbody>\n",
              "    <tr>\n",
              "      <th>2016-01-15 00:00:00</th>\n",
              "      <td>6.055403</td>\n",
              "      <td>9.889648</td>\n",
              "      <td>5.507324</td>\n",
              "      <td>42.192020</td>\n",
              "      <td>70.541216</td>\n",
              "      <td>10.411962</td>\n",
              "      <td>0.895447</td>\n",
              "      <td>16.904297</td>\n",
              "      <td>2.143149</td>\n",
              "      <td>127.092003</td>\n",
              "      <td>10.128295</td>\n",
              "      <td>7.25</td>\n",
              "      <td>0.988759</td>\n",
              "      <td>8.547551</td>\n",
              "      <td>10.389648</td>\n",
              "      <td>19.529297</td>\n",
              "      <td>34.174427</td>\n",
              "      <td>14.936526</td>\n",
              "      <td>2.534912</td>\n",
              "      <td>7.476074</td>\n",
              "      <td>2.106679</td>\n",
              "      <td>1549.775757</td>\n",
              "      <td>-498.912140</td>\n",
              "      <td>1551.434204</td>\n",
              "      <td>-516.403442</td>\n",
              "      <td>1549.873901</td>\n",
              "      <td>-498.666595</td>\n",
              "      <td>1554.367432</td>\n",
              "      <td>-493.428131</td>\n",
              "      <td>41885.707031</td>\n",
              "      <td>3481.779053</td>\n",
              "      <td>3520.337158</td>\n",
              "      <td>2.838687</td>\n",
              "      <td>6.100378</td>\n",
              "      <td>2.284912</td>\n",
              "      <td>523.546326</td>\n",
              "      <td>55.486599</td>\n",
              "      <td>36.808594</td>\n",
              "      <td>6.486150</td>\n",
              "      <td>11.986616</td>\n",
              "      <td>6.007990</td>\n",
              "      <td>11.836743</td>\n",
              "      <td>6.005818</td>\n",
              "      <td>11.500771</td>\n",
              "      <td>7.101074</td>\n",
              "      <td>28.029297</td>\n",
              "      <td>19.793808</td>\n",
              "      <td>87.107763</td>\n",
              "      <td>5.008018</td>\n",
              "      <td>0.508728</td>\n",
              "      <td>19.154297</td>\n",
              "      <td>1.170244</td>\n",
              "      <td>999.706909</td>\n",
              "      <td>-404.066986</td>\n",
              "      <td>1603.011353</td>\n",
              "      <td>-434.715027</td>\n",
              "      <td>1602.375000</td>\n",
              "      <td>-442.204468</td>\n",
              "      <td>1598.937256</td>\n",
              "      <td>-451.294128</td>\n",
              "      <td>1404.472046</td>\n",
              "      <td>-455.462982</td>\n",
              "      <td>1416.354980</td>\n",
              "      <td>-451.939636</td>\n",
              "      <td>14.500184</td>\n",
              "      <td>4.694824</td>\n",
              "      <td>8.764648</td>\n",
              "      <td>2.606185</td>\n",
              "      <td>25.853109</td>\n",
              "      <td>-498.526489</td>\n",
              "      <td>23.893660</td>\n",
              "      <td>-501.406281</td>\n",
              "      <td>23.961798</td>\n",
              "      <td>-495.262817</td>\n",
              "      <td>21.940409</td>\n",
              "      <td>-499.340973</td>\n",
              "      <td>14.016835</td>\n",
              "      <td>-502.488007</td>\n",
              "      <td>12.099931</td>\n",
              "      <td>-504.715942</td>\n",
              "      <td>9.925633</td>\n",
              "      <td>-498.310211</td>\n",
              "      <td>8.079666</td>\n",
              "      <td>-500.470978</td>\n",
              "      <td>14.151341</td>\n",
              "      <td>-605.841980</td>\n",
              "    </tr>\n",
              "    <tr>\n",
              "      <th>2016-01-15 01:00:00</th>\n",
              "      <td>6.029369</td>\n",
              "      <td>9.968944</td>\n",
              "      <td>5.257781</td>\n",
              "      <td>42.701629</td>\n",
              "      <td>69.266198</td>\n",
              "      <td>10.462676</td>\n",
              "      <td>0.927452</td>\n",
              "      <td>16.634514</td>\n",
              "      <td>2.224930</td>\n",
              "      <td>125.629232</td>\n",
              "      <td>10.296251</td>\n",
              "      <td>7.25</td>\n",
              "      <td>1.002663</td>\n",
              "      <td>8.558743</td>\n",
              "      <td>10.497069</td>\n",
              "      <td>19.369147</td>\n",
              "      <td>34.118526</td>\n",
              "      <td>16.250511</td>\n",
              "      <td>3.049646</td>\n",
              "      <td>6.733907</td>\n",
              "      <td>2.353017</td>\n",
              "      <td>1576.166671</td>\n",
              "      <td>-500.904965</td>\n",
              "      <td>1575.950626</td>\n",
              "      <td>-499.865889</td>\n",
              "      <td>1575.994189</td>\n",
              "      <td>-499.315107</td>\n",
              "      <td>1574.479259</td>\n",
              "      <td>-498.931665</td>\n",
              "      <td>42050.861809</td>\n",
              "      <td>3498.370979</td>\n",
              "      <td>3489.981857</td>\n",
              "      <td>2.858998</td>\n",
              "      <td>6.161113</td>\n",
              "      <td>2.266033</td>\n",
              "      <td>525.290581</td>\n",
              "      <td>57.278666</td>\n",
              "      <td>35.753385</td>\n",
              "      <td>6.478583</td>\n",
              "      <td>11.971193</td>\n",
              "      <td>6.005766</td>\n",
              "      <td>11.996163</td>\n",
              "      <td>6.012594</td>\n",
              "      <td>11.615865</td>\n",
              "      <td>7.278807</td>\n",
              "      <td>28.067063</td>\n",
              "      <td>20.050975</td>\n",
              "      <td>86.843261</td>\n",
              "      <td>4.955378</td>\n",
              "      <td>0.536689</td>\n",
              "      <td>18.965234</td>\n",
              "      <td>1.184827</td>\n",
              "      <td>1000.286398</td>\n",
              "      <td>-400.065196</td>\n",
              "      <td>1600.754587</td>\n",
              "      <td>-449.953435</td>\n",
              "      <td>1600.479580</td>\n",
              "      <td>-449.830646</td>\n",
              "      <td>1600.527589</td>\n",
              "      <td>-449.953649</td>\n",
              "      <td>1399.227084</td>\n",
              "      <td>-450.869848</td>\n",
              "      <td>1399.719514</td>\n",
              "      <td>-450.119001</td>\n",
              "      <td>14.265474</td>\n",
              "      <td>4.592547</td>\n",
              "      <td>9.001494</td>\n",
              "      <td>2.488248</td>\n",
              "      <td>25.880539</td>\n",
              "      <td>-499.989656</td>\n",
              "      <td>23.889530</td>\n",
              "      <td>-500.372428</td>\n",
              "      <td>23.970550</td>\n",
              "      <td>-500.085473</td>\n",
              "      <td>22.085714</td>\n",
              "      <td>-499.446897</td>\n",
              "      <td>13.992281</td>\n",
              "      <td>-505.503262</td>\n",
              "      <td>11.950531</td>\n",
              "      <td>-501.331529</td>\n",
              "      <td>10.039245</td>\n",
              "      <td>-500.169983</td>\n",
              "      <td>7.984757</td>\n",
              "      <td>-500.582168</td>\n",
              "      <td>13.998353</td>\n",
              "      <td>-599.787184</td>\n",
              "    </tr>\n",
              "    <tr>\n",
              "      <th>2016-01-15 02:00:00</th>\n",
              "      <td>6.055926</td>\n",
              "      <td>10.213995</td>\n",
              "      <td>5.383759</td>\n",
              "      <td>42.657501</td>\n",
              "      <td>68.116445</td>\n",
              "      <td>10.507046</td>\n",
              "      <td>0.953716</td>\n",
              "      <td>16.208849</td>\n",
              "      <td>2.257889</td>\n",
              "      <td>123.819808</td>\n",
              "      <td>11.316280</td>\n",
              "      <td>7.25</td>\n",
              "      <td>0.991265</td>\n",
              "      <td>8.603505</td>\n",
              "      <td>10.354494</td>\n",
              "      <td>19.167579</td>\n",
              "      <td>33.969464</td>\n",
              "      <td>16.491823</td>\n",
              "      <td>3.124664</td>\n",
              "      <td>6.471768</td>\n",
              "      <td>2.416800</td>\n",
              "      <td>1601.556163</td>\n",
              "      <td>-499.997791</td>\n",
              "      <td>1600.386685</td>\n",
              "      <td>-500.607762</td>\n",
              "      <td>1602.003542</td>\n",
              "      <td>-500.870069</td>\n",
              "      <td>1599.541515</td>\n",
              "      <td>-499.827444</td>\n",
              "      <td>42018.101184</td>\n",
              "      <td>3495.348910</td>\n",
              "      <td>3502.359819</td>\n",
              "      <td>2.945989</td>\n",
              "      <td>6.116455</td>\n",
              "      <td>2.159622</td>\n",
              "      <td>530.026610</td>\n",
              "      <td>57.510649</td>\n",
              "      <td>35.971630</td>\n",
              "      <td>6.362222</td>\n",
              "      <td>11.920603</td>\n",
              "      <td>6.197377</td>\n",
              "      <td>11.920305</td>\n",
              "      <td>6.204633</td>\n",
              "      <td>11.695753</td>\n",
              "      <td>7.216833</td>\n",
              "      <td>27.454037</td>\n",
              "      <td>19.737170</td>\n",
              "      <td>86.842308</td>\n",
              "      <td>4.843460</td>\n",
              "      <td>0.546416</td>\n",
              "      <td>18.808533</td>\n",
              "      <td>1.162562</td>\n",
              "      <td>999.719565</td>\n",
              "      <td>-400.074028</td>\n",
              "      <td>1599.337330</td>\n",
              "      <td>-450.008530</td>\n",
              "      <td>1599.672797</td>\n",
              "      <td>-449.954491</td>\n",
              "      <td>1599.849325</td>\n",
              "      <td>-449.954185</td>\n",
              "      <td>1399.180945</td>\n",
              "      <td>-449.937588</td>\n",
              "      <td>1400.316682</td>\n",
              "      <td>-450.527147</td>\n",
              "      <td>14.115662</td>\n",
              "      <td>4.624775</td>\n",
              "      <td>8.842896</td>\n",
              "      <td>2.458187</td>\n",
              "      <td>26.005245</td>\n",
              "      <td>-499.929616</td>\n",
              "      <td>23.886657</td>\n",
              "      <td>-499.951928</td>\n",
              "      <td>23.913535</td>\n",
              "      <td>-499.442343</td>\n",
              "      <td>23.957717</td>\n",
              "      <td>-499.901982</td>\n",
              "      <td>14.015015</td>\n",
              "      <td>-502.520901</td>\n",
              "      <td>11.912783</td>\n",
              "      <td>-501.133383</td>\n",
              "      <td>10.070913</td>\n",
              "      <td>-500.129135</td>\n",
              "      <td>8.013877</td>\n",
              "      <td>-500.517572</td>\n",
              "      <td>14.028663</td>\n",
              "      <td>-601.427363</td>\n",
              "    </tr>\n",
              "    <tr>\n",
              "      <th>2016-01-15 03:00:00</th>\n",
              "      <td>6.047977</td>\n",
              "      <td>9.977019</td>\n",
              "      <td>4.858634</td>\n",
              "      <td>42.689819</td>\n",
              "      <td>68.347543</td>\n",
              "      <td>10.422762</td>\n",
              "      <td>0.883763</td>\n",
              "      <td>16.532835</td>\n",
              "      <td>2.146849</td>\n",
              "      <td>122.270188</td>\n",
              "      <td>11.322140</td>\n",
              "      <td>7.25</td>\n",
              "      <td>0.996739</td>\n",
              "      <td>7.221879</td>\n",
              "      <td>8.496563</td>\n",
              "      <td>15.978538</td>\n",
              "      <td>28.260743</td>\n",
              "      <td>16.024359</td>\n",
              "      <td>2.960362</td>\n",
              "      <td>6.843791</td>\n",
              "      <td>2.262051</td>\n",
              "      <td>1599.968720</td>\n",
              "      <td>-500.951778</td>\n",
              "      <td>1600.659236</td>\n",
              "      <td>-499.677094</td>\n",
              "      <td>1600.304144</td>\n",
              "      <td>-500.727997</td>\n",
              "      <td>1600.449520</td>\n",
              "      <td>-500.052575</td>\n",
              "      <td>42029.447991</td>\n",
              "      <td>3498.578313</td>\n",
              "      <td>3499.162912</td>\n",
              "      <td>3.002340</td>\n",
              "      <td>6.043309</td>\n",
              "      <td>2.037807</td>\n",
              "      <td>542.590390</td>\n",
              "      <td>57.792734</td>\n",
              "      <td>36.862241</td>\n",
              "      <td>6.118189</td>\n",
              "      <td>11.630094</td>\n",
              "      <td>6.203177</td>\n",
              "      <td>11.692450</td>\n",
              "      <td>6.196578</td>\n",
              "      <td>11.915047</td>\n",
              "      <td>7.175616</td>\n",
              "      <td>27.341277</td>\n",
              "      <td>19.320810</td>\n",
              "      <td>87.226430</td>\n",
              "      <td>4.655288</td>\n",
              "      <td>0.542525</td>\n",
              "      <td>19.330200</td>\n",
              "      <td>1.079755</td>\n",
              "      <td>999.814770</td>\n",
              "      <td>-400.200179</td>\n",
              "      <td>1600.059442</td>\n",
              "      <td>-450.619948</td>\n",
              "      <td>1600.012842</td>\n",
              "      <td>-449.910497</td>\n",
              "      <td>1597.725177</td>\n",
              "      <td>-450.130127</td>\n",
              "      <td>1400.943157</td>\n",
              "      <td>-450.030142</td>\n",
              "      <td>1400.234743</td>\n",
              "      <td>-449.790835</td>\n",
              "      <td>13.732071</td>\n",
              "      <td>4.482453</td>\n",
              "      <td>9.122857</td>\n",
              "      <td>2.322062</td>\n",
              "      <td>25.942508</td>\n",
              "      <td>-499.176749</td>\n",
              "      <td>23.955516</td>\n",
              "      <td>-499.848796</td>\n",
              "      <td>23.966838</td>\n",
              "      <td>-500.008812</td>\n",
              "      <td>23.954443</td>\n",
              "      <td>-499.944710</td>\n",
              "      <td>14.036510</td>\n",
              "      <td>-500.857308</td>\n",
              "      <td>11.999550</td>\n",
              "      <td>-501.193686</td>\n",
              "      <td>9.970366</td>\n",
              "      <td>-499.201640</td>\n",
              "      <td>7.977324</td>\n",
              "      <td>-500.255908</td>\n",
              "      <td>14.005551</td>\n",
              "      <td>-599.996129</td>\n",
              "    </tr>\n",
              "    <tr>\n",
              "      <th>2016-01-15 04:00:00</th>\n",
              "      <td>6.148599</td>\n",
              "      <td>10.142511</td>\n",
              "      <td>4.939416</td>\n",
              "      <td>42.774141</td>\n",
              "      <td>66.927016</td>\n",
              "      <td>10.360302</td>\n",
              "      <td>0.792826</td>\n",
              "      <td>16.525686</td>\n",
              "      <td>2.055292</td>\n",
              "      <td>117.988169</td>\n",
              "      <td>11.913613</td>\n",
              "      <td>7.25</td>\n",
              "      <td>1.009869</td>\n",
              "      <td>9.089428</td>\n",
              "      <td>9.986786</td>\n",
              "      <td>19.199864</td>\n",
              "      <td>33.044932</td>\n",
              "      <td>16.480185</td>\n",
              "      <td>3.112100</td>\n",
              "      <td>6.550154</td>\n",
              "      <td>2.277073</td>\n",
              "      <td>1601.339707</td>\n",
              "      <td>-498.975456</td>\n",
              "      <td>1601.437854</td>\n",
              "      <td>-500.323246</td>\n",
              "      <td>1599.581894</td>\n",
              "      <td>-500.888152</td>\n",
              "      <td>1602.649541</td>\n",
              "      <td>-500.593010</td>\n",
              "      <td>42125.354245</td>\n",
              "      <td>3494.800771</td>\n",
              "      <td>3506.679315</td>\n",
              "      <td>3.169615</td>\n",
              "      <td>6.060915</td>\n",
              "      <td>1.786875</td>\n",
              "      <td>540.531893</td>\n",
              "      <td>56.047189</td>\n",
              "      <td>34.347666</td>\n",
              "      <td>5.663707</td>\n",
              "      <td>10.957755</td>\n",
              "      <td>6.198826</td>\n",
              "      <td>10.960521</td>\n",
              "      <td>6.194897</td>\n",
              "      <td>12.411054</td>\n",
              "      <td>7.240205</td>\n",
              "      <td>27.041023</td>\n",
              "      <td>19.216101</td>\n",
              "      <td>86.688794</td>\n",
              "      <td>4.552800</td>\n",
              "      <td>0.515438</td>\n",
              "      <td>19.267422</td>\n",
              "      <td>1.012642</td>\n",
              "      <td>999.678690</td>\n",
              "      <td>-399.752729</td>\n",
              "      <td>1600.208824</td>\n",
              "      <td>-449.599614</td>\n",
              "      <td>1600.357732</td>\n",
              "      <td>-450.034364</td>\n",
              "      <td>1599.759049</td>\n",
              "      <td>-449.909799</td>\n",
              "      <td>1401.560902</td>\n",
              "      <td>-448.877187</td>\n",
              "      <td>1401.160227</td>\n",
              "      <td>-450.407128</td>\n",
              "      <td>14.079996</td>\n",
              "      <td>4.470737</td>\n",
              "      <td>8.871028</td>\n",
              "      <td>2.330448</td>\n",
              "      <td>26.024787</td>\n",
              "      <td>-500.279091</td>\n",
              "      <td>23.955345</td>\n",
              "      <td>-500.593614</td>\n",
              "      <td>23.985703</td>\n",
              "      <td>-500.083811</td>\n",
              "      <td>23.958945</td>\n",
              "      <td>-499.990309</td>\n",
              "      <td>14.027298</td>\n",
              "      <td>-499.838632</td>\n",
              "      <td>11.953070</td>\n",
              "      <td>-501.053894</td>\n",
              "      <td>9.925709</td>\n",
              "      <td>-501.686727</td>\n",
              "      <td>7.894242</td>\n",
              "      <td>-500.356035</td>\n",
              "      <td>13.996647</td>\n",
              "      <td>-601.496691</td>\n",
              "    </tr>\n",
              "  </tbody>\n",
              "</table>\n",
              "</div>"
            ],
            "text/plain": [
              "                     final.output.concentrate_ag  final.output.concentrate_pb  \\\n",
              "date                                                                            \n",
              "2016-01-15 00:00:00                     6.055403                     9.889648   \n",
              "2016-01-15 01:00:00                     6.029369                     9.968944   \n",
              "2016-01-15 02:00:00                     6.055926                    10.213995   \n",
              "2016-01-15 03:00:00                     6.047977                     9.977019   \n",
              "2016-01-15 04:00:00                     6.148599                    10.142511   \n",
              "\n",
              "                     final.output.concentrate_sol  \\\n",
              "date                                                \n",
              "2016-01-15 00:00:00                      5.507324   \n",
              "2016-01-15 01:00:00                      5.257781   \n",
              "2016-01-15 02:00:00                      5.383759   \n",
              "2016-01-15 03:00:00                      4.858634   \n",
              "2016-01-15 04:00:00                      4.939416   \n",
              "\n",
              "                     final.output.concentrate_au  final.output.recovery  \\\n",
              "date                                                                      \n",
              "2016-01-15 00:00:00                    42.192020              70.541216   \n",
              "2016-01-15 01:00:00                    42.701629              69.266198   \n",
              "2016-01-15 02:00:00                    42.657501              68.116445   \n",
              "2016-01-15 03:00:00                    42.689819              68.347543   \n",
              "2016-01-15 04:00:00                    42.774141              66.927016   \n",
              "\n",
              "                     final.output.tail_ag  final.output.tail_pb  \\\n",
              "date                                                              \n",
              "2016-01-15 00:00:00             10.411962              0.895447   \n",
              "2016-01-15 01:00:00             10.462676              0.927452   \n",
              "2016-01-15 02:00:00             10.507046              0.953716   \n",
              "2016-01-15 03:00:00             10.422762              0.883763   \n",
              "2016-01-15 04:00:00             10.360302              0.792826   \n",
              "\n",
              "                     final.output.tail_sol  final.output.tail_au  \\\n",
              "date                                                               \n",
              "2016-01-15 00:00:00              16.904297              2.143149   \n",
              "2016-01-15 01:00:00              16.634514              2.224930   \n",
              "2016-01-15 02:00:00              16.208849              2.257889   \n",
              "2016-01-15 03:00:00              16.532835              2.146849   \n",
              "2016-01-15 04:00:00              16.525686              2.055292   \n",
              "\n",
              "                     primary_cleaner.input.sulfate  \\\n",
              "date                                                 \n",
              "2016-01-15 00:00:00                     127.092003   \n",
              "2016-01-15 01:00:00                     125.629232   \n",
              "2016-01-15 02:00:00                     123.819808   \n",
              "2016-01-15 03:00:00                     122.270188   \n",
              "2016-01-15 04:00:00                     117.988169   \n",
              "\n",
              "                     primary_cleaner.input.depressant  \\\n",
              "date                                                    \n",
              "2016-01-15 00:00:00                         10.128295   \n",
              "2016-01-15 01:00:00                         10.296251   \n",
              "2016-01-15 02:00:00                         11.316280   \n",
              "2016-01-15 03:00:00                         11.322140   \n",
              "2016-01-15 04:00:00                         11.913613   \n",
              "\n",
              "                     primary_cleaner.input.feed_size  \\\n",
              "date                                                   \n",
              "2016-01-15 00:00:00                             7.25   \n",
              "2016-01-15 01:00:00                             7.25   \n",
              "2016-01-15 02:00:00                             7.25   \n",
              "2016-01-15 03:00:00                             7.25   \n",
              "2016-01-15 04:00:00                             7.25   \n",
              "\n",
              "                     primary_cleaner.input.xanthate  \\\n",
              "date                                                  \n",
              "2016-01-15 00:00:00                        0.988759   \n",
              "2016-01-15 01:00:00                        1.002663   \n",
              "2016-01-15 02:00:00                        0.991265   \n",
              "2016-01-15 03:00:00                        0.996739   \n",
              "2016-01-15 04:00:00                        1.009869   \n",
              "\n",
              "                     primary_cleaner.output.concentrate_ag  \\\n",
              "date                                                         \n",
              "2016-01-15 00:00:00                               8.547551   \n",
              "2016-01-15 01:00:00                               8.558743   \n",
              "2016-01-15 02:00:00                               8.603505   \n",
              "2016-01-15 03:00:00                               7.221879   \n",
              "2016-01-15 04:00:00                               9.089428   \n",
              "\n",
              "                     primary_cleaner.output.concentrate_pb  \\\n",
              "date                                                         \n",
              "2016-01-15 00:00:00                              10.389648   \n",
              "2016-01-15 01:00:00                              10.497069   \n",
              "2016-01-15 02:00:00                              10.354494   \n",
              "2016-01-15 03:00:00                               8.496563   \n",
              "2016-01-15 04:00:00                               9.986786   \n",
              "\n",
              "                     primary_cleaner.output.concentrate_sol  \\\n",
              "date                                                          \n",
              "2016-01-15 00:00:00                               19.529297   \n",
              "2016-01-15 01:00:00                               19.369147   \n",
              "2016-01-15 02:00:00                               19.167579   \n",
              "2016-01-15 03:00:00                               15.978538   \n",
              "2016-01-15 04:00:00                               19.199864   \n",
              "\n",
              "                     primary_cleaner.output.concentrate_au  \\\n",
              "date                                                         \n",
              "2016-01-15 00:00:00                              34.174427   \n",
              "2016-01-15 01:00:00                              34.118526   \n",
              "2016-01-15 02:00:00                              33.969464   \n",
              "2016-01-15 03:00:00                              28.260743   \n",
              "2016-01-15 04:00:00                              33.044932   \n",
              "\n",
              "                     primary_cleaner.output.tail_ag  \\\n",
              "date                                                  \n",
              "2016-01-15 00:00:00                       14.936526   \n",
              "2016-01-15 01:00:00                       16.250511   \n",
              "2016-01-15 02:00:00                       16.491823   \n",
              "2016-01-15 03:00:00                       16.024359   \n",
              "2016-01-15 04:00:00                       16.480185   \n",
              "\n",
              "                     primary_cleaner.output.tail_pb  \\\n",
              "date                                                  \n",
              "2016-01-15 00:00:00                        2.534912   \n",
              "2016-01-15 01:00:00                        3.049646   \n",
              "2016-01-15 02:00:00                        3.124664   \n",
              "2016-01-15 03:00:00                        2.960362   \n",
              "2016-01-15 04:00:00                        3.112100   \n",
              "\n",
              "                     primary_cleaner.output.tail_sol  \\\n",
              "date                                                   \n",
              "2016-01-15 00:00:00                         7.476074   \n",
              "2016-01-15 01:00:00                         6.733907   \n",
              "2016-01-15 02:00:00                         6.471768   \n",
              "2016-01-15 03:00:00                         6.843791   \n",
              "2016-01-15 04:00:00                         6.550154   \n",
              "\n",
              "                     primary_cleaner.output.tail_au  \\\n",
              "date                                                  \n",
              "2016-01-15 00:00:00                        2.106679   \n",
              "2016-01-15 01:00:00                        2.353017   \n",
              "2016-01-15 02:00:00                        2.416800   \n",
              "2016-01-15 03:00:00                        2.262051   \n",
              "2016-01-15 04:00:00                        2.277073   \n",
              "\n",
              "                     primary_cleaner.state.floatbank8_a_air  \\\n",
              "date                                                          \n",
              "2016-01-15 00:00:00                             1549.775757   \n",
              "2016-01-15 01:00:00                             1576.166671   \n",
              "2016-01-15 02:00:00                             1601.556163   \n",
              "2016-01-15 03:00:00                             1599.968720   \n",
              "2016-01-15 04:00:00                             1601.339707   \n",
              "\n",
              "                     primary_cleaner.state.floatbank8_a_level  \\\n",
              "date                                                            \n",
              "2016-01-15 00:00:00                               -498.912140   \n",
              "2016-01-15 01:00:00                               -500.904965   \n",
              "2016-01-15 02:00:00                               -499.997791   \n",
              "2016-01-15 03:00:00                               -500.951778   \n",
              "2016-01-15 04:00:00                               -498.975456   \n",
              "\n",
              "                     primary_cleaner.state.floatbank8_b_air  \\\n",
              "date                                                          \n",
              "2016-01-15 00:00:00                             1551.434204   \n",
              "2016-01-15 01:00:00                             1575.950626   \n",
              "2016-01-15 02:00:00                             1600.386685   \n",
              "2016-01-15 03:00:00                             1600.659236   \n",
              "2016-01-15 04:00:00                             1601.437854   \n",
              "\n",
              "                     primary_cleaner.state.floatbank8_b_level  \\\n",
              "date                                                            \n",
              "2016-01-15 00:00:00                               -516.403442   \n",
              "2016-01-15 01:00:00                               -499.865889   \n",
              "2016-01-15 02:00:00                               -500.607762   \n",
              "2016-01-15 03:00:00                               -499.677094   \n",
              "2016-01-15 04:00:00                               -500.323246   \n",
              "\n",
              "                     primary_cleaner.state.floatbank8_c_air  \\\n",
              "date                                                          \n",
              "2016-01-15 00:00:00                             1549.873901   \n",
              "2016-01-15 01:00:00                             1575.994189   \n",
              "2016-01-15 02:00:00                             1602.003542   \n",
              "2016-01-15 03:00:00                             1600.304144   \n",
              "2016-01-15 04:00:00                             1599.581894   \n",
              "\n",
              "                     primary_cleaner.state.floatbank8_c_level  \\\n",
              "date                                                            \n",
              "2016-01-15 00:00:00                               -498.666595   \n",
              "2016-01-15 01:00:00                               -499.315107   \n",
              "2016-01-15 02:00:00                               -500.870069   \n",
              "2016-01-15 03:00:00                               -500.727997   \n",
              "2016-01-15 04:00:00                               -500.888152   \n",
              "\n",
              "                     primary_cleaner.state.floatbank8_d_air  \\\n",
              "date                                                          \n",
              "2016-01-15 00:00:00                             1554.367432   \n",
              "2016-01-15 01:00:00                             1574.479259   \n",
              "2016-01-15 02:00:00                             1599.541515   \n",
              "2016-01-15 03:00:00                             1600.449520   \n",
              "2016-01-15 04:00:00                             1602.649541   \n",
              "\n",
              "                     primary_cleaner.state.floatbank8_d_level  \\\n",
              "date                                                            \n",
              "2016-01-15 00:00:00                               -493.428131   \n",
              "2016-01-15 01:00:00                               -498.931665   \n",
              "2016-01-15 02:00:00                               -499.827444   \n",
              "2016-01-15 03:00:00                               -500.052575   \n",
              "2016-01-15 04:00:00                               -500.593010   \n",
              "\n",
              "                     rougher.calculation.sulfate_to_au_concentrate  \\\n",
              "date                                                                 \n",
              "2016-01-15 00:00:00                                   41885.707031   \n",
              "2016-01-15 01:00:00                                   42050.861809   \n",
              "2016-01-15 02:00:00                                   42018.101184   \n",
              "2016-01-15 03:00:00                                   42029.447991   \n",
              "2016-01-15 04:00:00                                   42125.354245   \n",
              "\n",
              "                     rougher.calculation.floatbank10_sulfate_to_au_feed  \\\n",
              "date                                                                      \n",
              "2016-01-15 00:00:00                                        3481.779053    \n",
              "2016-01-15 01:00:00                                        3498.370979    \n",
              "2016-01-15 02:00:00                                        3495.348910    \n",
              "2016-01-15 03:00:00                                        3498.578313    \n",
              "2016-01-15 04:00:00                                        3494.800771    \n",
              "\n",
              "                     rougher.calculation.floatbank11_sulfate_to_au_feed  \\\n",
              "date                                                                      \n",
              "2016-01-15 00:00:00                                        3520.337158    \n",
              "2016-01-15 01:00:00                                        3489.981857    \n",
              "2016-01-15 02:00:00                                        3502.359819    \n",
              "2016-01-15 03:00:00                                        3499.162912    \n",
              "2016-01-15 04:00:00                                        3506.679315    \n",
              "\n",
              "                     rougher.calculation.au_pb_ratio  rougher.input.feed_ag  \\\n",
              "date                                                                          \n",
              "2016-01-15 00:00:00                         2.838687               6.100378   \n",
              "2016-01-15 01:00:00                         2.858998               6.161113   \n",
              "2016-01-15 02:00:00                         2.945989               6.116455   \n",
              "2016-01-15 03:00:00                         3.002340               6.043309   \n",
              "2016-01-15 04:00:00                         3.169615               6.060915   \n",
              "\n",
              "                     rougher.input.feed_pb  rougher.input.feed_rate  \\\n",
              "date                                                                  \n",
              "2016-01-15 00:00:00               2.284912               523.546326   \n",
              "2016-01-15 01:00:00               2.266033               525.290581   \n",
              "2016-01-15 02:00:00               2.159622               530.026610   \n",
              "2016-01-15 03:00:00               2.037807               542.590390   \n",
              "2016-01-15 04:00:00               1.786875               540.531893   \n",
              "\n",
              "                     rougher.input.feed_size  rougher.input.feed_sol  \\\n",
              "date                                                                   \n",
              "2016-01-15 00:00:00                55.486599               36.808594   \n",
              "2016-01-15 01:00:00                57.278666               35.753385   \n",
              "2016-01-15 02:00:00                57.510649               35.971630   \n",
              "2016-01-15 03:00:00                57.792734               36.862241   \n",
              "2016-01-15 04:00:00                56.047189               34.347666   \n",
              "\n",
              "                     rougher.input.feed_au  rougher.input.floatbank10_sulfate  \\\n",
              "date                                                                            \n",
              "2016-01-15 00:00:00               6.486150                          11.986616   \n",
              "2016-01-15 01:00:00               6.478583                          11.971193   \n",
              "2016-01-15 02:00:00               6.362222                          11.920603   \n",
              "2016-01-15 03:00:00               6.118189                          11.630094   \n",
              "2016-01-15 04:00:00               5.663707                          10.957755   \n",
              "\n",
              "                     rougher.input.floatbank10_xanthate  \\\n",
              "date                                                      \n",
              "2016-01-15 00:00:00                            6.007990   \n",
              "2016-01-15 01:00:00                            6.005766   \n",
              "2016-01-15 02:00:00                            6.197377   \n",
              "2016-01-15 03:00:00                            6.203177   \n",
              "2016-01-15 04:00:00                            6.198826   \n",
              "\n",
              "                     rougher.input.floatbank11_sulfate  \\\n",
              "date                                                     \n",
              "2016-01-15 00:00:00                          11.836743   \n",
              "2016-01-15 01:00:00                          11.996163   \n",
              "2016-01-15 02:00:00                          11.920305   \n",
              "2016-01-15 03:00:00                          11.692450   \n",
              "2016-01-15 04:00:00                          10.960521   \n",
              "\n",
              "                     rougher.input.floatbank11_xanthate  \\\n",
              "date                                                      \n",
              "2016-01-15 00:00:00                            6.005818   \n",
              "2016-01-15 01:00:00                            6.012594   \n",
              "2016-01-15 02:00:00                            6.204633   \n",
              "2016-01-15 03:00:00                            6.196578   \n",
              "2016-01-15 04:00:00                            6.194897   \n",
              "\n",
              "                     rougher.output.concentrate_ag  \\\n",
              "date                                                 \n",
              "2016-01-15 00:00:00                      11.500771   \n",
              "2016-01-15 01:00:00                      11.615865   \n",
              "2016-01-15 02:00:00                      11.695753   \n",
              "2016-01-15 03:00:00                      11.915047   \n",
              "2016-01-15 04:00:00                      12.411054   \n",
              "\n",
              "                     rougher.output.concentrate_pb  \\\n",
              "date                                                 \n",
              "2016-01-15 00:00:00                       7.101074   \n",
              "2016-01-15 01:00:00                       7.278807   \n",
              "2016-01-15 02:00:00                       7.216833   \n",
              "2016-01-15 03:00:00                       7.175616   \n",
              "2016-01-15 04:00:00                       7.240205   \n",
              "\n",
              "                     rougher.output.concentrate_sol  \\\n",
              "date                                                  \n",
              "2016-01-15 00:00:00                       28.029297   \n",
              "2016-01-15 01:00:00                       28.067063   \n",
              "2016-01-15 02:00:00                       27.454037   \n",
              "2016-01-15 03:00:00                       27.341277   \n",
              "2016-01-15 04:00:00                       27.041023   \n",
              "\n",
              "                     rougher.output.concentrate_au  rougher.output.recovery  \\\n",
              "date                                                                          \n",
              "2016-01-15 00:00:00                      19.793808                87.107763   \n",
              "2016-01-15 01:00:00                      20.050975                86.843261   \n",
              "2016-01-15 02:00:00                      19.737170                86.842308   \n",
              "2016-01-15 03:00:00                      19.320810                87.226430   \n",
              "2016-01-15 04:00:00                      19.216101                86.688794   \n",
              "\n",
              "                     rougher.output.tail_ag  rougher.output.tail_pb  \\\n",
              "date                                                                  \n",
              "2016-01-15 00:00:00                5.008018                0.508728   \n",
              "2016-01-15 01:00:00                4.955378                0.536689   \n",
              "2016-01-15 02:00:00                4.843460                0.546416   \n",
              "2016-01-15 03:00:00                4.655288                0.542525   \n",
              "2016-01-15 04:00:00                4.552800                0.515438   \n",
              "\n",
              "                     rougher.output.tail_sol  rougher.output.tail_au  \\\n",
              "date                                                                   \n",
              "2016-01-15 00:00:00                19.154297                1.170244   \n",
              "2016-01-15 01:00:00                18.965234                1.184827   \n",
              "2016-01-15 02:00:00                18.808533                1.162562   \n",
              "2016-01-15 03:00:00                19.330200                1.079755   \n",
              "2016-01-15 04:00:00                19.267422                1.012642   \n",
              "\n",
              "                     rougher.state.floatbank10_a_air  \\\n",
              "date                                                   \n",
              "2016-01-15 00:00:00                       999.706909   \n",
              "2016-01-15 01:00:00                      1000.286398   \n",
              "2016-01-15 02:00:00                       999.719565   \n",
              "2016-01-15 03:00:00                       999.814770   \n",
              "2016-01-15 04:00:00                       999.678690   \n",
              "\n",
              "                     rougher.state.floatbank10_a_level  \\\n",
              "date                                                     \n",
              "2016-01-15 00:00:00                        -404.066986   \n",
              "2016-01-15 01:00:00                        -400.065196   \n",
              "2016-01-15 02:00:00                        -400.074028   \n",
              "2016-01-15 03:00:00                        -400.200179   \n",
              "2016-01-15 04:00:00                        -399.752729   \n",
              "\n",
              "                     rougher.state.floatbank10_b_air  \\\n",
              "date                                                   \n",
              "2016-01-15 00:00:00                      1603.011353   \n",
              "2016-01-15 01:00:00                      1600.754587   \n",
              "2016-01-15 02:00:00                      1599.337330   \n",
              "2016-01-15 03:00:00                      1600.059442   \n",
              "2016-01-15 04:00:00                      1600.208824   \n",
              "\n",
              "                     rougher.state.floatbank10_b_level  \\\n",
              "date                                                     \n",
              "2016-01-15 00:00:00                        -434.715027   \n",
              "2016-01-15 01:00:00                        -449.953435   \n",
              "2016-01-15 02:00:00                        -450.008530   \n",
              "2016-01-15 03:00:00                        -450.619948   \n",
              "2016-01-15 04:00:00                        -449.599614   \n",
              "\n",
              "                     rougher.state.floatbank10_c_air  \\\n",
              "date                                                   \n",
              "2016-01-15 00:00:00                      1602.375000   \n",
              "2016-01-15 01:00:00                      1600.479580   \n",
              "2016-01-15 02:00:00                      1599.672797   \n",
              "2016-01-15 03:00:00                      1600.012842   \n",
              "2016-01-15 04:00:00                      1600.357732   \n",
              "\n",
              "                     rougher.state.floatbank10_c_level  \\\n",
              "date                                                     \n",
              "2016-01-15 00:00:00                        -442.204468   \n",
              "2016-01-15 01:00:00                        -449.830646   \n",
              "2016-01-15 02:00:00                        -449.954491   \n",
              "2016-01-15 03:00:00                        -449.910497   \n",
              "2016-01-15 04:00:00                        -450.034364   \n",
              "\n",
              "                     rougher.state.floatbank10_d_air  \\\n",
              "date                                                   \n",
              "2016-01-15 00:00:00                      1598.937256   \n",
              "2016-01-15 01:00:00                      1600.527589   \n",
              "2016-01-15 02:00:00                      1599.849325   \n",
              "2016-01-15 03:00:00                      1597.725177   \n",
              "2016-01-15 04:00:00                      1599.759049   \n",
              "\n",
              "                     rougher.state.floatbank10_d_level  \\\n",
              "date                                                     \n",
              "2016-01-15 00:00:00                        -451.294128   \n",
              "2016-01-15 01:00:00                        -449.953649   \n",
              "2016-01-15 02:00:00                        -449.954185   \n",
              "2016-01-15 03:00:00                        -450.130127   \n",
              "2016-01-15 04:00:00                        -449.909799   \n",
              "\n",
              "                     rougher.state.floatbank10_e_air  \\\n",
              "date                                                   \n",
              "2016-01-15 00:00:00                      1404.472046   \n",
              "2016-01-15 01:00:00                      1399.227084   \n",
              "2016-01-15 02:00:00                      1399.180945   \n",
              "2016-01-15 03:00:00                      1400.943157   \n",
              "2016-01-15 04:00:00                      1401.560902   \n",
              "\n",
              "                     rougher.state.floatbank10_e_level  \\\n",
              "date                                                     \n",
              "2016-01-15 00:00:00                        -455.462982   \n",
              "2016-01-15 01:00:00                        -450.869848   \n",
              "2016-01-15 02:00:00                        -449.937588   \n",
              "2016-01-15 03:00:00                        -450.030142   \n",
              "2016-01-15 04:00:00                        -448.877187   \n",
              "\n",
              "                     rougher.state.floatbank10_f_air  \\\n",
              "date                                                   \n",
              "2016-01-15 00:00:00                      1416.354980   \n",
              "2016-01-15 01:00:00                      1399.719514   \n",
              "2016-01-15 02:00:00                      1400.316682   \n",
              "2016-01-15 03:00:00                      1400.234743   \n",
              "2016-01-15 04:00:00                      1401.160227   \n",
              "\n",
              "                     rougher.state.floatbank10_f_level  \\\n",
              "date                                                     \n",
              "2016-01-15 00:00:00                        -451.939636   \n",
              "2016-01-15 01:00:00                        -450.119001   \n",
              "2016-01-15 02:00:00                        -450.527147   \n",
              "2016-01-15 03:00:00                        -449.790835   \n",
              "2016-01-15 04:00:00                        -450.407128   \n",
              "\n",
              "                     secondary_cleaner.output.tail_ag  \\\n",
              "date                                                    \n",
              "2016-01-15 00:00:00                         14.500184   \n",
              "2016-01-15 01:00:00                         14.265474   \n",
              "2016-01-15 02:00:00                         14.115662   \n",
              "2016-01-15 03:00:00                         13.732071   \n",
              "2016-01-15 04:00:00                         14.079996   \n",
              "\n",
              "                     secondary_cleaner.output.tail_pb  \\\n",
              "date                                                    \n",
              "2016-01-15 00:00:00                          4.694824   \n",
              "2016-01-15 01:00:00                          4.592547   \n",
              "2016-01-15 02:00:00                          4.624775   \n",
              "2016-01-15 03:00:00                          4.482453   \n",
              "2016-01-15 04:00:00                          4.470737   \n",
              "\n",
              "                     secondary_cleaner.output.tail_sol  \\\n",
              "date                                                     \n",
              "2016-01-15 00:00:00                           8.764648   \n",
              "2016-01-15 01:00:00                           9.001494   \n",
              "2016-01-15 02:00:00                           8.842896   \n",
              "2016-01-15 03:00:00                           9.122857   \n",
              "2016-01-15 04:00:00                           8.871028   \n",
              "\n",
              "                     secondary_cleaner.output.tail_au  \\\n",
              "date                                                    \n",
              "2016-01-15 00:00:00                          2.606185   \n",
              "2016-01-15 01:00:00                          2.488248   \n",
              "2016-01-15 02:00:00                          2.458187   \n",
              "2016-01-15 03:00:00                          2.322062   \n",
              "2016-01-15 04:00:00                          2.330448   \n",
              "\n",
              "                     secondary_cleaner.state.floatbank2_a_air  \\\n",
              "date                                                            \n",
              "2016-01-15 00:00:00                                 25.853109   \n",
              "2016-01-15 01:00:00                                 25.880539   \n",
              "2016-01-15 02:00:00                                 26.005245   \n",
              "2016-01-15 03:00:00                                 25.942508   \n",
              "2016-01-15 04:00:00                                 26.024787   \n",
              "\n",
              "                     secondary_cleaner.state.floatbank2_a_level  \\\n",
              "date                                                              \n",
              "2016-01-15 00:00:00                                 -498.526489   \n",
              "2016-01-15 01:00:00                                 -499.989656   \n",
              "2016-01-15 02:00:00                                 -499.929616   \n",
              "2016-01-15 03:00:00                                 -499.176749   \n",
              "2016-01-15 04:00:00                                 -500.279091   \n",
              "\n",
              "                     secondary_cleaner.state.floatbank2_b_air  \\\n",
              "date                                                            \n",
              "2016-01-15 00:00:00                                 23.893660   \n",
              "2016-01-15 01:00:00                                 23.889530   \n",
              "2016-01-15 02:00:00                                 23.886657   \n",
              "2016-01-15 03:00:00                                 23.955516   \n",
              "2016-01-15 04:00:00                                 23.955345   \n",
              "\n",
              "                     secondary_cleaner.state.floatbank2_b_level  \\\n",
              "date                                                              \n",
              "2016-01-15 00:00:00                                 -501.406281   \n",
              "2016-01-15 01:00:00                                 -500.372428   \n",
              "2016-01-15 02:00:00                                 -499.951928   \n",
              "2016-01-15 03:00:00                                 -499.848796   \n",
              "2016-01-15 04:00:00                                 -500.593614   \n",
              "\n",
              "                     secondary_cleaner.state.floatbank3_a_air  \\\n",
              "date                                                            \n",
              "2016-01-15 00:00:00                                 23.961798   \n",
              "2016-01-15 01:00:00                                 23.970550   \n",
              "2016-01-15 02:00:00                                 23.913535   \n",
              "2016-01-15 03:00:00                                 23.966838   \n",
              "2016-01-15 04:00:00                                 23.985703   \n",
              "\n",
              "                     secondary_cleaner.state.floatbank3_a_level  \\\n",
              "date                                                              \n",
              "2016-01-15 00:00:00                                 -495.262817   \n",
              "2016-01-15 01:00:00                                 -500.085473   \n",
              "2016-01-15 02:00:00                                 -499.442343   \n",
              "2016-01-15 03:00:00                                 -500.008812   \n",
              "2016-01-15 04:00:00                                 -500.083811   \n",
              "\n",
              "                     secondary_cleaner.state.floatbank3_b_air  \\\n",
              "date                                                            \n",
              "2016-01-15 00:00:00                                 21.940409   \n",
              "2016-01-15 01:00:00                                 22.085714   \n",
              "2016-01-15 02:00:00                                 23.957717   \n",
              "2016-01-15 03:00:00                                 23.954443   \n",
              "2016-01-15 04:00:00                                 23.958945   \n",
              "\n",
              "                     secondary_cleaner.state.floatbank3_b_level  \\\n",
              "date                                                              \n",
              "2016-01-15 00:00:00                                 -499.340973   \n",
              "2016-01-15 01:00:00                                 -499.446897   \n",
              "2016-01-15 02:00:00                                 -499.901982   \n",
              "2016-01-15 03:00:00                                 -499.944710   \n",
              "2016-01-15 04:00:00                                 -499.990309   \n",
              "\n",
              "                     secondary_cleaner.state.floatbank4_a_air  \\\n",
              "date                                                            \n",
              "2016-01-15 00:00:00                                 14.016835   \n",
              "2016-01-15 01:00:00                                 13.992281   \n",
              "2016-01-15 02:00:00                                 14.015015   \n",
              "2016-01-15 03:00:00                                 14.036510   \n",
              "2016-01-15 04:00:00                                 14.027298   \n",
              "\n",
              "                     secondary_cleaner.state.floatbank4_a_level  \\\n",
              "date                                                              \n",
              "2016-01-15 00:00:00                                 -502.488007   \n",
              "2016-01-15 01:00:00                                 -505.503262   \n",
              "2016-01-15 02:00:00                                 -502.520901   \n",
              "2016-01-15 03:00:00                                 -500.857308   \n",
              "2016-01-15 04:00:00                                 -499.838632   \n",
              "\n",
              "                     secondary_cleaner.state.floatbank4_b_air  \\\n",
              "date                                                            \n",
              "2016-01-15 00:00:00                                 12.099931   \n",
              "2016-01-15 01:00:00                                 11.950531   \n",
              "2016-01-15 02:00:00                                 11.912783   \n",
              "2016-01-15 03:00:00                                 11.999550   \n",
              "2016-01-15 04:00:00                                 11.953070   \n",
              "\n",
              "                     secondary_cleaner.state.floatbank4_b_level  \\\n",
              "date                                                              \n",
              "2016-01-15 00:00:00                                 -504.715942   \n",
              "2016-01-15 01:00:00                                 -501.331529   \n",
              "2016-01-15 02:00:00                                 -501.133383   \n",
              "2016-01-15 03:00:00                                 -501.193686   \n",
              "2016-01-15 04:00:00                                 -501.053894   \n",
              "\n",
              "                     secondary_cleaner.state.floatbank5_a_air  \\\n",
              "date                                                            \n",
              "2016-01-15 00:00:00                                  9.925633   \n",
              "2016-01-15 01:00:00                                 10.039245   \n",
              "2016-01-15 02:00:00                                 10.070913   \n",
              "2016-01-15 03:00:00                                  9.970366   \n",
              "2016-01-15 04:00:00                                  9.925709   \n",
              "\n",
              "                     secondary_cleaner.state.floatbank5_a_level  \\\n",
              "date                                                              \n",
              "2016-01-15 00:00:00                                 -498.310211   \n",
              "2016-01-15 01:00:00                                 -500.169983   \n",
              "2016-01-15 02:00:00                                 -500.129135   \n",
              "2016-01-15 03:00:00                                 -499.201640   \n",
              "2016-01-15 04:00:00                                 -501.686727   \n",
              "\n",
              "                     secondary_cleaner.state.floatbank5_b_air  \\\n",
              "date                                                            \n",
              "2016-01-15 00:00:00                                  8.079666   \n",
              "2016-01-15 01:00:00                                  7.984757   \n",
              "2016-01-15 02:00:00                                  8.013877   \n",
              "2016-01-15 03:00:00                                  7.977324   \n",
              "2016-01-15 04:00:00                                  7.894242   \n",
              "\n",
              "                     secondary_cleaner.state.floatbank5_b_level  \\\n",
              "date                                                              \n",
              "2016-01-15 00:00:00                                 -500.470978   \n",
              "2016-01-15 01:00:00                                 -500.582168   \n",
              "2016-01-15 02:00:00                                 -500.517572   \n",
              "2016-01-15 03:00:00                                 -500.255908   \n",
              "2016-01-15 04:00:00                                 -500.356035   \n",
              "\n",
              "                     secondary_cleaner.state.floatbank6_a_air  \\\n",
              "date                                                            \n",
              "2016-01-15 00:00:00                                 14.151341   \n",
              "2016-01-15 01:00:00                                 13.998353   \n",
              "2016-01-15 02:00:00                                 14.028663   \n",
              "2016-01-15 03:00:00                                 14.005551   \n",
              "2016-01-15 04:00:00                                 13.996647   \n",
              "\n",
              "                     secondary_cleaner.state.floatbank6_a_level  \n",
              "date                                                             \n",
              "2016-01-15 00:00:00                                 -605.841980  \n",
              "2016-01-15 01:00:00                                 -599.787184  \n",
              "2016-01-15 02:00:00                                 -601.427363  \n",
              "2016-01-15 03:00:00                                 -599.996129  \n",
              "2016-01-15 04:00:00                                 -601.496691  "
            ]
          },
          "metadata": {},
          "output_type": "display_data"
        }
      ],
      "source": [
        "# чтение и загрузка файлов - обучающая выборка\n",
        "\n",
        "gold_train = pd.read_csv('/datasets/gold_recovery_train_new.csv', index_col='date')\n",
        "display(gold_train.head())"
      ]
    },
    {
      "cell_type": "code",
      "execution_count": null,
      "metadata": {
        "id": "X-NI90KrHxiz",
        "outputId": "159d2779-2489-411e-f8c4-9f0608b7563d"
      },
      "outputs": [
        {
          "data": {
            "text/plain": [
              "(14149, 86)"
            ]
          },
          "execution_count": 49,
          "metadata": {},
          "output_type": "execute_result"
        }
      ],
      "source": [
        "gold_train.shape"
      ]
    },
    {
      "cell_type": "code",
      "execution_count": null,
      "metadata": {
        "id": "GKY-ptosHxiz",
        "outputId": "34377d0c-b81a-420d-eaa6-84d0ef6ef037"
      },
      "outputs": [
        {
          "name": "stdout",
          "output_type": "stream",
          "text": [
            "<class 'pandas.core.frame.DataFrame'>\n",
            "Index: 14149 entries, 2016-01-15 00:00:00 to 2018-08-18 10:59:59\n",
            "Data columns (total 86 columns):\n",
            " #   Column                                              Non-Null Count  Dtype  \n",
            "---  ------                                              --------------  -----  \n",
            " 0   final.output.concentrate_ag                         14148 non-null  float64\n",
            " 1   final.output.concentrate_pb                         14148 non-null  float64\n",
            " 2   final.output.concentrate_sol                        13938 non-null  float64\n",
            " 3   final.output.concentrate_au                         14149 non-null  float64\n",
            " 4   final.output.recovery                               14149 non-null  float64\n",
            " 5   final.output.tail_ag                                14149 non-null  float64\n",
            " 6   final.output.tail_pb                                14049 non-null  float64\n",
            " 7   final.output.tail_sol                               14144 non-null  float64\n",
            " 8   final.output.tail_au                                14149 non-null  float64\n",
            " 9   primary_cleaner.input.sulfate                       14129 non-null  float64\n",
            " 10  primary_cleaner.input.depressant                    14117 non-null  float64\n",
            " 11  primary_cleaner.input.feed_size                     14149 non-null  float64\n",
            " 12  primary_cleaner.input.xanthate                      14049 non-null  float64\n",
            " 13  primary_cleaner.output.concentrate_ag               14149 non-null  float64\n",
            " 14  primary_cleaner.output.concentrate_pb               14063 non-null  float64\n",
            " 15  primary_cleaner.output.concentrate_sol              13863 non-null  float64\n",
            " 16  primary_cleaner.output.concentrate_au               14149 non-null  float64\n",
            " 17  primary_cleaner.output.tail_ag                      14148 non-null  float64\n",
            " 18  primary_cleaner.output.tail_pb                      14134 non-null  float64\n",
            " 19  primary_cleaner.output.tail_sol                     14103 non-null  float64\n",
            " 20  primary_cleaner.output.tail_au                      14149 non-null  float64\n",
            " 21  primary_cleaner.state.floatbank8_a_air              14145 non-null  float64\n",
            " 22  primary_cleaner.state.floatbank8_a_level            14148 non-null  float64\n",
            " 23  primary_cleaner.state.floatbank8_b_air              14145 non-null  float64\n",
            " 24  primary_cleaner.state.floatbank8_b_level            14148 non-null  float64\n",
            " 25  primary_cleaner.state.floatbank8_c_air              14147 non-null  float64\n",
            " 26  primary_cleaner.state.floatbank8_c_level            14148 non-null  float64\n",
            " 27  primary_cleaner.state.floatbank8_d_air              14146 non-null  float64\n",
            " 28  primary_cleaner.state.floatbank8_d_level            14148 non-null  float64\n",
            " 29  rougher.calculation.sulfate_to_au_concentrate       14148 non-null  float64\n",
            " 30  rougher.calculation.floatbank10_sulfate_to_au_feed  14148 non-null  float64\n",
            " 31  rougher.calculation.floatbank11_sulfate_to_au_feed  14148 non-null  float64\n",
            " 32  rougher.calculation.au_pb_ratio                     14149 non-null  float64\n",
            " 33  rougher.input.feed_ag                               14149 non-null  float64\n",
            " 34  rougher.input.feed_pb                               14049 non-null  float64\n",
            " 35  rougher.input.feed_rate                             14141 non-null  float64\n",
            " 36  rougher.input.feed_size                             14005 non-null  float64\n",
            " 37  rougher.input.feed_sol                              14071 non-null  float64\n",
            " 38  rougher.input.feed_au                               14149 non-null  float64\n",
            " 39  rougher.input.floatbank10_sulfate                   14120 non-null  float64\n",
            " 40  rougher.input.floatbank10_xanthate                  14141 non-null  float64\n",
            " 41  rougher.input.floatbank11_sulfate                   14113 non-null  float64\n",
            " 42  rougher.input.floatbank11_xanthate                  13721 non-null  float64\n",
            " 43  rougher.output.concentrate_ag                       14149 non-null  float64\n",
            " 44  rougher.output.concentrate_pb                       14149 non-null  float64\n",
            " 45  rougher.output.concentrate_sol                      14127 non-null  float64\n",
            " 46  rougher.output.concentrate_au                       14149 non-null  float64\n",
            " 47  rougher.output.recovery                             14149 non-null  float64\n",
            " 48  rougher.output.tail_ag                              14148 non-null  float64\n",
            " 49  rougher.output.tail_pb                              14149 non-null  float64\n",
            " 50  rougher.output.tail_sol                             14149 non-null  float64\n",
            " 51  rougher.output.tail_au                              14149 non-null  float64\n",
            " 52  rougher.state.floatbank10_a_air                     14148 non-null  float64\n",
            " 53  rougher.state.floatbank10_a_level                   14148 non-null  float64\n",
            " 54  rougher.state.floatbank10_b_air                     14148 non-null  float64\n",
            " 55  rougher.state.floatbank10_b_level                   14148 non-null  float64\n",
            " 56  rougher.state.floatbank10_c_air                     14148 non-null  float64\n",
            " 57  rougher.state.floatbank10_c_level                   14148 non-null  float64\n",
            " 58  rougher.state.floatbank10_d_air                     14149 non-null  float64\n",
            " 59  rougher.state.floatbank10_d_level                   14149 non-null  float64\n",
            " 60  rougher.state.floatbank10_e_air                     13713 non-null  float64\n",
            " 61  rougher.state.floatbank10_e_level                   14149 non-null  float64\n",
            " 62  rougher.state.floatbank10_f_air                     14149 non-null  float64\n",
            " 63  rougher.state.floatbank10_f_level                   14149 non-null  float64\n",
            " 64  secondary_cleaner.output.tail_ag                    14147 non-null  float64\n",
            " 65  secondary_cleaner.output.tail_pb                    14139 non-null  float64\n",
            " 66  secondary_cleaner.output.tail_sol                   12544 non-null  float64\n",
            " 67  secondary_cleaner.output.tail_au                    14149 non-null  float64\n",
            " 68  secondary_cleaner.state.floatbank2_a_air            13932 non-null  float64\n",
            " 69  secondary_cleaner.state.floatbank2_a_level          14148 non-null  float64\n",
            " 70  secondary_cleaner.state.floatbank2_b_air            14128 non-null  float64\n",
            " 71  secondary_cleaner.state.floatbank2_b_level          14148 non-null  float64\n",
            " 72  secondary_cleaner.state.floatbank3_a_air            14145 non-null  float64\n",
            " 73  secondary_cleaner.state.floatbank3_a_level          14148 non-null  float64\n",
            " 74  secondary_cleaner.state.floatbank3_b_air            14148 non-null  float64\n",
            " 75  secondary_cleaner.state.floatbank3_b_level          14148 non-null  float64\n",
            " 76  secondary_cleaner.state.floatbank4_a_air            14143 non-null  float64\n",
            " 77  secondary_cleaner.state.floatbank4_a_level          14148 non-null  float64\n",
            " 78  secondary_cleaner.state.floatbank4_b_air            14148 non-null  float64\n",
            " 79  secondary_cleaner.state.floatbank4_b_level          14148 non-null  float64\n",
            " 80  secondary_cleaner.state.floatbank5_a_air            14148 non-null  float64\n",
            " 81  secondary_cleaner.state.floatbank5_a_level          14148 non-null  float64\n",
            " 82  secondary_cleaner.state.floatbank5_b_air            14148 non-null  float64\n",
            " 83  secondary_cleaner.state.floatbank5_b_level          14148 non-null  float64\n",
            " 84  secondary_cleaner.state.floatbank6_a_air            14147 non-null  float64\n",
            " 85  secondary_cleaner.state.floatbank6_a_level          14148 non-null  float64\n",
            "dtypes: float64(86)\n",
            "memory usage: 9.4+ MB\n"
          ]
        }
      ],
      "source": [
        "# выведем общую информацию о данных\n",
        "\n",
        "gold_train.info()"
      ]
    },
    {
      "cell_type": "code",
      "execution_count": null,
      "metadata": {
        "id": "IX8VZ6rcHxiz",
        "outputId": "51f7925d-2107-4232-838b-61c64ed67d98"
      },
      "outputs": [
        {
          "data": {
            "text/html": [
              "<div>\n",
              "<style scoped>\n",
              "    .dataframe tbody tr th:only-of-type {\n",
              "        vertical-align: middle;\n",
              "    }\n",
              "\n",
              "    .dataframe tbody tr th {\n",
              "        vertical-align: top;\n",
              "    }\n",
              "\n",
              "    .dataframe thead th {\n",
              "        text-align: right;\n",
              "    }\n",
              "</style>\n",
              "<table border=\"1\" class=\"dataframe\">\n",
              "  <thead>\n",
              "    <tr style=\"text-align: right;\">\n",
              "      <th></th>\n",
              "      <th>primary_cleaner.input.sulfate</th>\n",
              "      <th>primary_cleaner.input.depressant</th>\n",
              "      <th>primary_cleaner.input.feed_size</th>\n",
              "      <th>primary_cleaner.input.xanthate</th>\n",
              "      <th>primary_cleaner.state.floatbank8_a_air</th>\n",
              "      <th>primary_cleaner.state.floatbank8_a_level</th>\n",
              "      <th>primary_cleaner.state.floatbank8_b_air</th>\n",
              "      <th>primary_cleaner.state.floatbank8_b_level</th>\n",
              "      <th>primary_cleaner.state.floatbank8_c_air</th>\n",
              "      <th>primary_cleaner.state.floatbank8_c_level</th>\n",
              "      <th>primary_cleaner.state.floatbank8_d_air</th>\n",
              "      <th>primary_cleaner.state.floatbank8_d_level</th>\n",
              "      <th>rougher.input.feed_ag</th>\n",
              "      <th>rougher.input.feed_pb</th>\n",
              "      <th>rougher.input.feed_rate</th>\n",
              "      <th>rougher.input.feed_size</th>\n",
              "      <th>rougher.input.feed_sol</th>\n",
              "      <th>rougher.input.feed_au</th>\n",
              "      <th>rougher.input.floatbank10_sulfate</th>\n",
              "      <th>rougher.input.floatbank10_xanthate</th>\n",
              "      <th>rougher.input.floatbank11_sulfate</th>\n",
              "      <th>rougher.input.floatbank11_xanthate</th>\n",
              "      <th>rougher.state.floatbank10_a_air</th>\n",
              "      <th>rougher.state.floatbank10_a_level</th>\n",
              "      <th>rougher.state.floatbank10_b_air</th>\n",
              "      <th>rougher.state.floatbank10_b_level</th>\n",
              "      <th>rougher.state.floatbank10_c_air</th>\n",
              "      <th>rougher.state.floatbank10_c_level</th>\n",
              "      <th>rougher.state.floatbank10_d_air</th>\n",
              "      <th>rougher.state.floatbank10_d_level</th>\n",
              "      <th>rougher.state.floatbank10_e_air</th>\n",
              "      <th>rougher.state.floatbank10_e_level</th>\n",
              "      <th>rougher.state.floatbank10_f_air</th>\n",
              "      <th>rougher.state.floatbank10_f_level</th>\n",
              "      <th>secondary_cleaner.state.floatbank2_a_air</th>\n",
              "      <th>secondary_cleaner.state.floatbank2_a_level</th>\n",
              "      <th>secondary_cleaner.state.floatbank2_b_air</th>\n",
              "      <th>secondary_cleaner.state.floatbank2_b_level</th>\n",
              "      <th>secondary_cleaner.state.floatbank3_a_air</th>\n",
              "      <th>secondary_cleaner.state.floatbank3_a_level</th>\n",
              "      <th>secondary_cleaner.state.floatbank3_b_air</th>\n",
              "      <th>secondary_cleaner.state.floatbank3_b_level</th>\n",
              "      <th>secondary_cleaner.state.floatbank4_a_air</th>\n",
              "      <th>secondary_cleaner.state.floatbank4_a_level</th>\n",
              "      <th>secondary_cleaner.state.floatbank4_b_air</th>\n",
              "      <th>secondary_cleaner.state.floatbank4_b_level</th>\n",
              "      <th>secondary_cleaner.state.floatbank5_a_air</th>\n",
              "      <th>secondary_cleaner.state.floatbank5_a_level</th>\n",
              "      <th>secondary_cleaner.state.floatbank5_b_air</th>\n",
              "      <th>secondary_cleaner.state.floatbank5_b_level</th>\n",
              "      <th>secondary_cleaner.state.floatbank6_a_air</th>\n",
              "      <th>secondary_cleaner.state.floatbank6_a_level</th>\n",
              "    </tr>\n",
              "    <tr>\n",
              "      <th>date</th>\n",
              "      <th></th>\n",
              "      <th></th>\n",
              "      <th></th>\n",
              "      <th></th>\n",
              "      <th></th>\n",
              "      <th></th>\n",
              "      <th></th>\n",
              "      <th></th>\n",
              "      <th></th>\n",
              "      <th></th>\n",
              "      <th></th>\n",
              "      <th></th>\n",
              "      <th></th>\n",
              "      <th></th>\n",
              "      <th></th>\n",
              "      <th></th>\n",
              "      <th></th>\n",
              "      <th></th>\n",
              "      <th></th>\n",
              "      <th></th>\n",
              "      <th></th>\n",
              "      <th></th>\n",
              "      <th></th>\n",
              "      <th></th>\n",
              "      <th></th>\n",
              "      <th></th>\n",
              "      <th></th>\n",
              "      <th></th>\n",
              "      <th></th>\n",
              "      <th></th>\n",
              "      <th></th>\n",
              "      <th></th>\n",
              "      <th></th>\n",
              "      <th></th>\n",
              "      <th></th>\n",
              "      <th></th>\n",
              "      <th></th>\n",
              "      <th></th>\n",
              "      <th></th>\n",
              "      <th></th>\n",
              "      <th></th>\n",
              "      <th></th>\n",
              "      <th></th>\n",
              "      <th></th>\n",
              "      <th></th>\n",
              "      <th></th>\n",
              "      <th></th>\n",
              "      <th></th>\n",
              "      <th></th>\n",
              "      <th></th>\n",
              "      <th></th>\n",
              "      <th></th>\n",
              "    </tr>\n",
              "  </thead>\n",
              "  <tbody>\n",
              "    <tr>\n",
              "      <th>2016-09-01 00:59:59</th>\n",
              "      <td>210.800909</td>\n",
              "      <td>14.993118</td>\n",
              "      <td>8.080000</td>\n",
              "      <td>1.005021</td>\n",
              "      <td>1398.981301</td>\n",
              "      <td>-500.225577</td>\n",
              "      <td>1399.144926</td>\n",
              "      <td>-499.919735</td>\n",
              "      <td>1400.102998</td>\n",
              "      <td>-500.704369</td>\n",
              "      <td>1399.001695</td>\n",
              "      <td>-499.485144</td>\n",
              "      <td>13.128569</td>\n",
              "      <td>5.636710</td>\n",
              "      <td>489.793655</td>\n",
              "      <td>62.710452</td>\n",
              "      <td>42.022440</td>\n",
              "      <td>12.084103</td>\n",
              "      <td>16.922877</td>\n",
              "      <td>6.153479</td>\n",
              "      <td>16.867518</td>\n",
              "      <td>6.150709</td>\n",
              "      <td>1001.849317</td>\n",
              "      <td>-350.301265</td>\n",
              "      <td>1249.738612</td>\n",
              "      <td>-399.107531</td>\n",
              "      <td>1249.750520</td>\n",
              "      <td>-399.396730</td>\n",
              "      <td>1198.287855</td>\n",
              "      <td>-399.488594</td>\n",
              "      <td>999.472250</td>\n",
              "      <td>-399.530962</td>\n",
              "      <td>949.566189</td>\n",
              "      <td>-398.180807</td>\n",
              "      <td>24.938200</td>\n",
              "      <td>-500.490963</td>\n",
              "      <td>14.947607</td>\n",
              "      <td>-500.013837</td>\n",
              "      <td>20.018166</td>\n",
              "      <td>-450.395995</td>\n",
              "      <td>13.987058</td>\n",
              "      <td>-449.831513</td>\n",
              "      <td>12.023554</td>\n",
              "      <td>-497.795834</td>\n",
              "      <td>8.016656</td>\n",
              "      <td>-501.289139</td>\n",
              "      <td>7.946562</td>\n",
              "      <td>-432.317850</td>\n",
              "      <td>4.872511</td>\n",
              "      <td>-500.037437</td>\n",
              "      <td>26.705889</td>\n",
              "      <td>-499.709414</td>\n",
              "    </tr>\n",
              "    <tr>\n",
              "      <th>2016-09-01 01:59:59</th>\n",
              "      <td>215.392455</td>\n",
              "      <td>14.987471</td>\n",
              "      <td>8.080000</td>\n",
              "      <td>0.990469</td>\n",
              "      <td>1398.777912</td>\n",
              "      <td>-500.057435</td>\n",
              "      <td>1398.055362</td>\n",
              "      <td>-499.778182</td>\n",
              "      <td>1396.151033</td>\n",
              "      <td>-499.240168</td>\n",
              "      <td>1399.508091</td>\n",
              "      <td>-500.416324</td>\n",
              "      <td>13.036280</td>\n",
              "      <td>5.526065</td>\n",
              "      <td>490.104534</td>\n",
              "      <td>61.961163</td>\n",
              "      <td>41.187903</td>\n",
              "      <td>11.918977</td>\n",
              "      <td>17.002532</td>\n",
              "      <td>5.999043</td>\n",
              "      <td>16.996063</td>\n",
              "      <td>6.002315</td>\n",
              "      <td>998.690785</td>\n",
              "      <td>-350.425704</td>\n",
              "      <td>1248.395457</td>\n",
              "      <td>-399.946025</td>\n",
              "      <td>1249.514451</td>\n",
              "      <td>-399.630810</td>\n",
              "      <td>1200.506459</td>\n",
              "      <td>-399.942434</td>\n",
              "      <td>1000.002114</td>\n",
              "      <td>-399.491528</td>\n",
              "      <td>950.200009</td>\n",
              "      <td>-405.787514</td>\n",
              "      <td>24.923466</td>\n",
              "      <td>-499.813963</td>\n",
              "      <td>14.930873</td>\n",
              "      <td>-500.764452</td>\n",
              "      <td>19.988503</td>\n",
              "      <td>-450.114024</td>\n",
              "      <td>14.092981</td>\n",
              "      <td>-450.059163</td>\n",
              "      <td>12.058140</td>\n",
              "      <td>-498.695773</td>\n",
              "      <td>8.130979</td>\n",
              "      <td>-499.634209</td>\n",
              "      <td>7.958270</td>\n",
              "      <td>-525.839648</td>\n",
              "      <td>4.878850</td>\n",
              "      <td>-500.162375</td>\n",
              "      <td>25.019940</td>\n",
              "      <td>-499.819438</td>\n",
              "    </tr>\n",
              "    <tr>\n",
              "      <th>2016-09-01 02:59:59</th>\n",
              "      <td>215.259946</td>\n",
              "      <td>12.884934</td>\n",
              "      <td>7.786667</td>\n",
              "      <td>0.996043</td>\n",
              "      <td>1398.493666</td>\n",
              "      <td>-500.868360</td>\n",
              "      <td>1398.860436</td>\n",
              "      <td>-499.764529</td>\n",
              "      <td>1398.075709</td>\n",
              "      <td>-502.151509</td>\n",
              "      <td>1399.497088</td>\n",
              "      <td>-499.715479</td>\n",
              "      <td>13.138412</td>\n",
              "      <td>5.426561</td>\n",
              "      <td>489.617969</td>\n",
              "      <td>66.903807</td>\n",
              "      <td>42.546294</td>\n",
              "      <td>12.091332</td>\n",
              "      <td>16.992520</td>\n",
              "      <td>5.850632</td>\n",
              "      <td>16.982096</td>\n",
              "      <td>5.853594</td>\n",
              "      <td>998.516720</td>\n",
              "      <td>-349.783538</td>\n",
              "      <td>1247.440748</td>\n",
              "      <td>-400.264330</td>\n",
              "      <td>1248.207204</td>\n",
              "      <td>-401.074405</td>\n",
              "      <td>1199.770026</td>\n",
              "      <td>-400.790582</td>\n",
              "      <td>999.925519</td>\n",
              "      <td>-399.236999</td>\n",
              "      <td>950.320481</td>\n",
              "      <td>-400.864340</td>\n",
              "      <td>24.908732</td>\n",
              "      <td>-500.304035</td>\n",
              "      <td>14.996511</td>\n",
              "      <td>-500.993821</td>\n",
              "      <td>20.039689</td>\n",
              "      <td>-450.263164</td>\n",
              "      <td>14.077881</td>\n",
              "      <td>-449.660997</td>\n",
              "      <td>11.962366</td>\n",
              "      <td>-498.767484</td>\n",
              "      <td>8.096893</td>\n",
              "      <td>-500.827423</td>\n",
              "      <td>8.071056</td>\n",
              "      <td>-500.801673</td>\n",
              "      <td>4.905125</td>\n",
              "      <td>-499.828510</td>\n",
              "      <td>24.994862</td>\n",
              "      <td>-500.622559</td>\n",
              "    </tr>\n",
              "    <tr>\n",
              "      <th>2016-09-01 03:59:59</th>\n",
              "      <td>215.336236</td>\n",
              "      <td>12.006805</td>\n",
              "      <td>7.640000</td>\n",
              "      <td>0.863514</td>\n",
              "      <td>1399.618111</td>\n",
              "      <td>-498.863574</td>\n",
              "      <td>1397.440120</td>\n",
              "      <td>-499.211024</td>\n",
              "      <td>1400.129303</td>\n",
              "      <td>-498.355873</td>\n",
              "      <td>1401.065165</td>\n",
              "      <td>-501.038738</td>\n",
              "      <td>12.400507</td>\n",
              "      <td>5.114758</td>\n",
              "      <td>476.618130</td>\n",
              "      <td>59.865919</td>\n",
              "      <td>41.060195</td>\n",
              "      <td>12.181597</td>\n",
              "      <td>16.532144</td>\n",
              "      <td>5.801935</td>\n",
              "      <td>16.515277</td>\n",
              "      <td>5.803657</td>\n",
              "      <td>1000.276604</td>\n",
              "      <td>-350.172597</td>\n",
              "      <td>1251.322675</td>\n",
              "      <td>-398.655289</td>\n",
              "      <td>1250.493702</td>\n",
              "      <td>-399.746728</td>\n",
              "      <td>1199.398691</td>\n",
              "      <td>-397.503052</td>\n",
              "      <td>1001.930679</td>\n",
              "      <td>-400.437573</td>\n",
              "      <td>950.735324</td>\n",
              "      <td>-399.802986</td>\n",
              "      <td>24.893998</td>\n",
              "      <td>-499.382374</td>\n",
              "      <td>14.916674</td>\n",
              "      <td>-499.862299</td>\n",
              "      <td>20.031100</td>\n",
              "      <td>-449.372570</td>\n",
              "      <td>14.013968</td>\n",
              "      <td>-449.526900</td>\n",
              "      <td>12.033091</td>\n",
              "      <td>-498.350935</td>\n",
              "      <td>8.074946</td>\n",
              "      <td>-499.474407</td>\n",
              "      <td>7.897085</td>\n",
              "      <td>-500.868509</td>\n",
              "      <td>4.931400</td>\n",
              "      <td>-499.963623</td>\n",
              "      <td>24.948919</td>\n",
              "      <td>-498.709987</td>\n",
              "    </tr>\n",
              "    <tr>\n",
              "      <th>2016-09-01 04:59:59</th>\n",
              "      <td>199.099327</td>\n",
              "      <td>10.682530</td>\n",
              "      <td>7.530000</td>\n",
              "      <td>0.805575</td>\n",
              "      <td>1401.268123</td>\n",
              "      <td>-500.808305</td>\n",
              "      <td>1398.128818</td>\n",
              "      <td>-499.504543</td>\n",
              "      <td>1402.172226</td>\n",
              "      <td>-500.810606</td>\n",
              "      <td>1399.480508</td>\n",
              "      <td>-499.374053</td>\n",
              "      <td>11.327427</td>\n",
              "      <td>4.767383</td>\n",
              "      <td>488.248117</td>\n",
              "      <td>63.315324</td>\n",
              "      <td>41.269161</td>\n",
              "      <td>11.290425</td>\n",
              "      <td>13.607257</td>\n",
              "      <td>5.738081</td>\n",
              "      <td>13.650053</td>\n",
              "      <td>5.739634</td>\n",
              "      <td>996.541302</td>\n",
              "      <td>-350.562517</td>\n",
              "      <td>1304.658848</td>\n",
              "      <td>-399.511519</td>\n",
              "      <td>1306.455515</td>\n",
              "      <td>-399.050685</td>\n",
              "      <td>1248.699349</td>\n",
              "      <td>-400.876894</td>\n",
              "      <td>1058.839106</td>\n",
              "      <td>-398.988239</td>\n",
              "      <td>949.645313</td>\n",
              "      <td>-399.277632</td>\n",
              "      <td>24.886905</td>\n",
              "      <td>-499.357375</td>\n",
              "      <td>14.979233</td>\n",
              "      <td>-500.186804</td>\n",
              "      <td>19.962364</td>\n",
              "      <td>-450.638828</td>\n",
              "      <td>14.009245</td>\n",
              "      <td>-450.022259</td>\n",
              "      <td>12.025367</td>\n",
              "      <td>-500.786497</td>\n",
              "      <td>8.054678</td>\n",
              "      <td>-500.397500</td>\n",
              "      <td>8.107890</td>\n",
              "      <td>-509.526725</td>\n",
              "      <td>4.957674</td>\n",
              "      <td>-500.360026</td>\n",
              "      <td>25.003331</td>\n",
              "      <td>-500.856333</td>\n",
              "    </tr>\n",
              "  </tbody>\n",
              "</table>\n",
              "</div>"
            ],
            "text/plain": [
              "                     primary_cleaner.input.sulfate  \\\n",
              "date                                                 \n",
              "2016-09-01 00:59:59                     210.800909   \n",
              "2016-09-01 01:59:59                     215.392455   \n",
              "2016-09-01 02:59:59                     215.259946   \n",
              "2016-09-01 03:59:59                     215.336236   \n",
              "2016-09-01 04:59:59                     199.099327   \n",
              "\n",
              "                     primary_cleaner.input.depressant  \\\n",
              "date                                                    \n",
              "2016-09-01 00:59:59                         14.993118   \n",
              "2016-09-01 01:59:59                         14.987471   \n",
              "2016-09-01 02:59:59                         12.884934   \n",
              "2016-09-01 03:59:59                         12.006805   \n",
              "2016-09-01 04:59:59                         10.682530   \n",
              "\n",
              "                     primary_cleaner.input.feed_size  \\\n",
              "date                                                   \n",
              "2016-09-01 00:59:59                         8.080000   \n",
              "2016-09-01 01:59:59                         8.080000   \n",
              "2016-09-01 02:59:59                         7.786667   \n",
              "2016-09-01 03:59:59                         7.640000   \n",
              "2016-09-01 04:59:59                         7.530000   \n",
              "\n",
              "                     primary_cleaner.input.xanthate  \\\n",
              "date                                                  \n",
              "2016-09-01 00:59:59                        1.005021   \n",
              "2016-09-01 01:59:59                        0.990469   \n",
              "2016-09-01 02:59:59                        0.996043   \n",
              "2016-09-01 03:59:59                        0.863514   \n",
              "2016-09-01 04:59:59                        0.805575   \n",
              "\n",
              "                     primary_cleaner.state.floatbank8_a_air  \\\n",
              "date                                                          \n",
              "2016-09-01 00:59:59                             1398.981301   \n",
              "2016-09-01 01:59:59                             1398.777912   \n",
              "2016-09-01 02:59:59                             1398.493666   \n",
              "2016-09-01 03:59:59                             1399.618111   \n",
              "2016-09-01 04:59:59                             1401.268123   \n",
              "\n",
              "                     primary_cleaner.state.floatbank8_a_level  \\\n",
              "date                                                            \n",
              "2016-09-01 00:59:59                               -500.225577   \n",
              "2016-09-01 01:59:59                               -500.057435   \n",
              "2016-09-01 02:59:59                               -500.868360   \n",
              "2016-09-01 03:59:59                               -498.863574   \n",
              "2016-09-01 04:59:59                               -500.808305   \n",
              "\n",
              "                     primary_cleaner.state.floatbank8_b_air  \\\n",
              "date                                                          \n",
              "2016-09-01 00:59:59                             1399.144926   \n",
              "2016-09-01 01:59:59                             1398.055362   \n",
              "2016-09-01 02:59:59                             1398.860436   \n",
              "2016-09-01 03:59:59                             1397.440120   \n",
              "2016-09-01 04:59:59                             1398.128818   \n",
              "\n",
              "                     primary_cleaner.state.floatbank8_b_level  \\\n",
              "date                                                            \n",
              "2016-09-01 00:59:59                               -499.919735   \n",
              "2016-09-01 01:59:59                               -499.778182   \n",
              "2016-09-01 02:59:59                               -499.764529   \n",
              "2016-09-01 03:59:59                               -499.211024   \n",
              "2016-09-01 04:59:59                               -499.504543   \n",
              "\n",
              "                     primary_cleaner.state.floatbank8_c_air  \\\n",
              "date                                                          \n",
              "2016-09-01 00:59:59                             1400.102998   \n",
              "2016-09-01 01:59:59                             1396.151033   \n",
              "2016-09-01 02:59:59                             1398.075709   \n",
              "2016-09-01 03:59:59                             1400.129303   \n",
              "2016-09-01 04:59:59                             1402.172226   \n",
              "\n",
              "                     primary_cleaner.state.floatbank8_c_level  \\\n",
              "date                                                            \n",
              "2016-09-01 00:59:59                               -500.704369   \n",
              "2016-09-01 01:59:59                               -499.240168   \n",
              "2016-09-01 02:59:59                               -502.151509   \n",
              "2016-09-01 03:59:59                               -498.355873   \n",
              "2016-09-01 04:59:59                               -500.810606   \n",
              "\n",
              "                     primary_cleaner.state.floatbank8_d_air  \\\n",
              "date                                                          \n",
              "2016-09-01 00:59:59                             1399.001695   \n",
              "2016-09-01 01:59:59                             1399.508091   \n",
              "2016-09-01 02:59:59                             1399.497088   \n",
              "2016-09-01 03:59:59                             1401.065165   \n",
              "2016-09-01 04:59:59                             1399.480508   \n",
              "\n",
              "                     primary_cleaner.state.floatbank8_d_level  \\\n",
              "date                                                            \n",
              "2016-09-01 00:59:59                               -499.485144   \n",
              "2016-09-01 01:59:59                               -500.416324   \n",
              "2016-09-01 02:59:59                               -499.715479   \n",
              "2016-09-01 03:59:59                               -501.038738   \n",
              "2016-09-01 04:59:59                               -499.374053   \n",
              "\n",
              "                     rougher.input.feed_ag  rougher.input.feed_pb  \\\n",
              "date                                                                \n",
              "2016-09-01 00:59:59              13.128569               5.636710   \n",
              "2016-09-01 01:59:59              13.036280               5.526065   \n",
              "2016-09-01 02:59:59              13.138412               5.426561   \n",
              "2016-09-01 03:59:59              12.400507               5.114758   \n",
              "2016-09-01 04:59:59              11.327427               4.767383   \n",
              "\n",
              "                     rougher.input.feed_rate  rougher.input.feed_size  \\\n",
              "date                                                                    \n",
              "2016-09-01 00:59:59               489.793655                62.710452   \n",
              "2016-09-01 01:59:59               490.104534                61.961163   \n",
              "2016-09-01 02:59:59               489.617969                66.903807   \n",
              "2016-09-01 03:59:59               476.618130                59.865919   \n",
              "2016-09-01 04:59:59               488.248117                63.315324   \n",
              "\n",
              "                     rougher.input.feed_sol  rougher.input.feed_au  \\\n",
              "date                                                                 \n",
              "2016-09-01 00:59:59               42.022440              12.084103   \n",
              "2016-09-01 01:59:59               41.187903              11.918977   \n",
              "2016-09-01 02:59:59               42.546294              12.091332   \n",
              "2016-09-01 03:59:59               41.060195              12.181597   \n",
              "2016-09-01 04:59:59               41.269161              11.290425   \n",
              "\n",
              "                     rougher.input.floatbank10_sulfate  \\\n",
              "date                                                     \n",
              "2016-09-01 00:59:59                          16.922877   \n",
              "2016-09-01 01:59:59                          17.002532   \n",
              "2016-09-01 02:59:59                          16.992520   \n",
              "2016-09-01 03:59:59                          16.532144   \n",
              "2016-09-01 04:59:59                          13.607257   \n",
              "\n",
              "                     rougher.input.floatbank10_xanthate  \\\n",
              "date                                                      \n",
              "2016-09-01 00:59:59                            6.153479   \n",
              "2016-09-01 01:59:59                            5.999043   \n",
              "2016-09-01 02:59:59                            5.850632   \n",
              "2016-09-01 03:59:59                            5.801935   \n",
              "2016-09-01 04:59:59                            5.738081   \n",
              "\n",
              "                     rougher.input.floatbank11_sulfate  \\\n",
              "date                                                     \n",
              "2016-09-01 00:59:59                          16.867518   \n",
              "2016-09-01 01:59:59                          16.996063   \n",
              "2016-09-01 02:59:59                          16.982096   \n",
              "2016-09-01 03:59:59                          16.515277   \n",
              "2016-09-01 04:59:59                          13.650053   \n",
              "\n",
              "                     rougher.input.floatbank11_xanthate  \\\n",
              "date                                                      \n",
              "2016-09-01 00:59:59                            6.150709   \n",
              "2016-09-01 01:59:59                            6.002315   \n",
              "2016-09-01 02:59:59                            5.853594   \n",
              "2016-09-01 03:59:59                            5.803657   \n",
              "2016-09-01 04:59:59                            5.739634   \n",
              "\n",
              "                     rougher.state.floatbank10_a_air  \\\n",
              "date                                                   \n",
              "2016-09-01 00:59:59                      1001.849317   \n",
              "2016-09-01 01:59:59                       998.690785   \n",
              "2016-09-01 02:59:59                       998.516720   \n",
              "2016-09-01 03:59:59                      1000.276604   \n",
              "2016-09-01 04:59:59                       996.541302   \n",
              "\n",
              "                     rougher.state.floatbank10_a_level  \\\n",
              "date                                                     \n",
              "2016-09-01 00:59:59                        -350.301265   \n",
              "2016-09-01 01:59:59                        -350.425704   \n",
              "2016-09-01 02:59:59                        -349.783538   \n",
              "2016-09-01 03:59:59                        -350.172597   \n",
              "2016-09-01 04:59:59                        -350.562517   \n",
              "\n",
              "                     rougher.state.floatbank10_b_air  \\\n",
              "date                                                   \n",
              "2016-09-01 00:59:59                      1249.738612   \n",
              "2016-09-01 01:59:59                      1248.395457   \n",
              "2016-09-01 02:59:59                      1247.440748   \n",
              "2016-09-01 03:59:59                      1251.322675   \n",
              "2016-09-01 04:59:59                      1304.658848   \n",
              "\n",
              "                     rougher.state.floatbank10_b_level  \\\n",
              "date                                                     \n",
              "2016-09-01 00:59:59                        -399.107531   \n",
              "2016-09-01 01:59:59                        -399.946025   \n",
              "2016-09-01 02:59:59                        -400.264330   \n",
              "2016-09-01 03:59:59                        -398.655289   \n",
              "2016-09-01 04:59:59                        -399.511519   \n",
              "\n",
              "                     rougher.state.floatbank10_c_air  \\\n",
              "date                                                   \n",
              "2016-09-01 00:59:59                      1249.750520   \n",
              "2016-09-01 01:59:59                      1249.514451   \n",
              "2016-09-01 02:59:59                      1248.207204   \n",
              "2016-09-01 03:59:59                      1250.493702   \n",
              "2016-09-01 04:59:59                      1306.455515   \n",
              "\n",
              "                     rougher.state.floatbank10_c_level  \\\n",
              "date                                                     \n",
              "2016-09-01 00:59:59                        -399.396730   \n",
              "2016-09-01 01:59:59                        -399.630810   \n",
              "2016-09-01 02:59:59                        -401.074405   \n",
              "2016-09-01 03:59:59                        -399.746728   \n",
              "2016-09-01 04:59:59                        -399.050685   \n",
              "\n",
              "                     rougher.state.floatbank10_d_air  \\\n",
              "date                                                   \n",
              "2016-09-01 00:59:59                      1198.287855   \n",
              "2016-09-01 01:59:59                      1200.506459   \n",
              "2016-09-01 02:59:59                      1199.770026   \n",
              "2016-09-01 03:59:59                      1199.398691   \n",
              "2016-09-01 04:59:59                      1248.699349   \n",
              "\n",
              "                     rougher.state.floatbank10_d_level  \\\n",
              "date                                                     \n",
              "2016-09-01 00:59:59                        -399.488594   \n",
              "2016-09-01 01:59:59                        -399.942434   \n",
              "2016-09-01 02:59:59                        -400.790582   \n",
              "2016-09-01 03:59:59                        -397.503052   \n",
              "2016-09-01 04:59:59                        -400.876894   \n",
              "\n",
              "                     rougher.state.floatbank10_e_air  \\\n",
              "date                                                   \n",
              "2016-09-01 00:59:59                       999.472250   \n",
              "2016-09-01 01:59:59                      1000.002114   \n",
              "2016-09-01 02:59:59                       999.925519   \n",
              "2016-09-01 03:59:59                      1001.930679   \n",
              "2016-09-01 04:59:59                      1058.839106   \n",
              "\n",
              "                     rougher.state.floatbank10_e_level  \\\n",
              "date                                                     \n",
              "2016-09-01 00:59:59                        -399.530962   \n",
              "2016-09-01 01:59:59                        -399.491528   \n",
              "2016-09-01 02:59:59                        -399.236999   \n",
              "2016-09-01 03:59:59                        -400.437573   \n",
              "2016-09-01 04:59:59                        -398.988239   \n",
              "\n",
              "                     rougher.state.floatbank10_f_air  \\\n",
              "date                                                   \n",
              "2016-09-01 00:59:59                       949.566189   \n",
              "2016-09-01 01:59:59                       950.200009   \n",
              "2016-09-01 02:59:59                       950.320481   \n",
              "2016-09-01 03:59:59                       950.735324   \n",
              "2016-09-01 04:59:59                       949.645313   \n",
              "\n",
              "                     rougher.state.floatbank10_f_level  \\\n",
              "date                                                     \n",
              "2016-09-01 00:59:59                        -398.180807   \n",
              "2016-09-01 01:59:59                        -405.787514   \n",
              "2016-09-01 02:59:59                        -400.864340   \n",
              "2016-09-01 03:59:59                        -399.802986   \n",
              "2016-09-01 04:59:59                        -399.277632   \n",
              "\n",
              "                     secondary_cleaner.state.floatbank2_a_air  \\\n",
              "date                                                            \n",
              "2016-09-01 00:59:59                                 24.938200   \n",
              "2016-09-01 01:59:59                                 24.923466   \n",
              "2016-09-01 02:59:59                                 24.908732   \n",
              "2016-09-01 03:59:59                                 24.893998   \n",
              "2016-09-01 04:59:59                                 24.886905   \n",
              "\n",
              "                     secondary_cleaner.state.floatbank2_a_level  \\\n",
              "date                                                              \n",
              "2016-09-01 00:59:59                                 -500.490963   \n",
              "2016-09-01 01:59:59                                 -499.813963   \n",
              "2016-09-01 02:59:59                                 -500.304035   \n",
              "2016-09-01 03:59:59                                 -499.382374   \n",
              "2016-09-01 04:59:59                                 -499.357375   \n",
              "\n",
              "                     secondary_cleaner.state.floatbank2_b_air  \\\n",
              "date                                                            \n",
              "2016-09-01 00:59:59                                 14.947607   \n",
              "2016-09-01 01:59:59                                 14.930873   \n",
              "2016-09-01 02:59:59                                 14.996511   \n",
              "2016-09-01 03:59:59                                 14.916674   \n",
              "2016-09-01 04:59:59                                 14.979233   \n",
              "\n",
              "                     secondary_cleaner.state.floatbank2_b_level  \\\n",
              "date                                                              \n",
              "2016-09-01 00:59:59                                 -500.013837   \n",
              "2016-09-01 01:59:59                                 -500.764452   \n",
              "2016-09-01 02:59:59                                 -500.993821   \n",
              "2016-09-01 03:59:59                                 -499.862299   \n",
              "2016-09-01 04:59:59                                 -500.186804   \n",
              "\n",
              "                     secondary_cleaner.state.floatbank3_a_air  \\\n",
              "date                                                            \n",
              "2016-09-01 00:59:59                                 20.018166   \n",
              "2016-09-01 01:59:59                                 19.988503   \n",
              "2016-09-01 02:59:59                                 20.039689   \n",
              "2016-09-01 03:59:59                                 20.031100   \n",
              "2016-09-01 04:59:59                                 19.962364   \n",
              "\n",
              "                     secondary_cleaner.state.floatbank3_a_level  \\\n",
              "date                                                              \n",
              "2016-09-01 00:59:59                                 -450.395995   \n",
              "2016-09-01 01:59:59                                 -450.114024   \n",
              "2016-09-01 02:59:59                                 -450.263164   \n",
              "2016-09-01 03:59:59                                 -449.372570   \n",
              "2016-09-01 04:59:59                                 -450.638828   \n",
              "\n",
              "                     secondary_cleaner.state.floatbank3_b_air  \\\n",
              "date                                                            \n",
              "2016-09-01 00:59:59                                 13.987058   \n",
              "2016-09-01 01:59:59                                 14.092981   \n",
              "2016-09-01 02:59:59                                 14.077881   \n",
              "2016-09-01 03:59:59                                 14.013968   \n",
              "2016-09-01 04:59:59                                 14.009245   \n",
              "\n",
              "                     secondary_cleaner.state.floatbank3_b_level  \\\n",
              "date                                                              \n",
              "2016-09-01 00:59:59                                 -449.831513   \n",
              "2016-09-01 01:59:59                                 -450.059163   \n",
              "2016-09-01 02:59:59                                 -449.660997   \n",
              "2016-09-01 03:59:59                                 -449.526900   \n",
              "2016-09-01 04:59:59                                 -450.022259   \n",
              "\n",
              "                     secondary_cleaner.state.floatbank4_a_air  \\\n",
              "date                                                            \n",
              "2016-09-01 00:59:59                                 12.023554   \n",
              "2016-09-01 01:59:59                                 12.058140   \n",
              "2016-09-01 02:59:59                                 11.962366   \n",
              "2016-09-01 03:59:59                                 12.033091   \n",
              "2016-09-01 04:59:59                                 12.025367   \n",
              "\n",
              "                     secondary_cleaner.state.floatbank4_a_level  \\\n",
              "date                                                              \n",
              "2016-09-01 00:59:59                                 -497.795834   \n",
              "2016-09-01 01:59:59                                 -498.695773   \n",
              "2016-09-01 02:59:59                                 -498.767484   \n",
              "2016-09-01 03:59:59                                 -498.350935   \n",
              "2016-09-01 04:59:59                                 -500.786497   \n",
              "\n",
              "                     secondary_cleaner.state.floatbank4_b_air  \\\n",
              "date                                                            \n",
              "2016-09-01 00:59:59                                  8.016656   \n",
              "2016-09-01 01:59:59                                  8.130979   \n",
              "2016-09-01 02:59:59                                  8.096893   \n",
              "2016-09-01 03:59:59                                  8.074946   \n",
              "2016-09-01 04:59:59                                  8.054678   \n",
              "\n",
              "                     secondary_cleaner.state.floatbank4_b_level  \\\n",
              "date                                                              \n",
              "2016-09-01 00:59:59                                 -501.289139   \n",
              "2016-09-01 01:59:59                                 -499.634209   \n",
              "2016-09-01 02:59:59                                 -500.827423   \n",
              "2016-09-01 03:59:59                                 -499.474407   \n",
              "2016-09-01 04:59:59                                 -500.397500   \n",
              "\n",
              "                     secondary_cleaner.state.floatbank5_a_air  \\\n",
              "date                                                            \n",
              "2016-09-01 00:59:59                                  7.946562   \n",
              "2016-09-01 01:59:59                                  7.958270   \n",
              "2016-09-01 02:59:59                                  8.071056   \n",
              "2016-09-01 03:59:59                                  7.897085   \n",
              "2016-09-01 04:59:59                                  8.107890   \n",
              "\n",
              "                     secondary_cleaner.state.floatbank5_a_level  \\\n",
              "date                                                              \n",
              "2016-09-01 00:59:59                                 -432.317850   \n",
              "2016-09-01 01:59:59                                 -525.839648   \n",
              "2016-09-01 02:59:59                                 -500.801673   \n",
              "2016-09-01 03:59:59                                 -500.868509   \n",
              "2016-09-01 04:59:59                                 -509.526725   \n",
              "\n",
              "                     secondary_cleaner.state.floatbank5_b_air  \\\n",
              "date                                                            \n",
              "2016-09-01 00:59:59                                  4.872511   \n",
              "2016-09-01 01:59:59                                  4.878850   \n",
              "2016-09-01 02:59:59                                  4.905125   \n",
              "2016-09-01 03:59:59                                  4.931400   \n",
              "2016-09-01 04:59:59                                  4.957674   \n",
              "\n",
              "                     secondary_cleaner.state.floatbank5_b_level  \\\n",
              "date                                                              \n",
              "2016-09-01 00:59:59                                 -500.037437   \n",
              "2016-09-01 01:59:59                                 -500.162375   \n",
              "2016-09-01 02:59:59                                 -499.828510   \n",
              "2016-09-01 03:59:59                                 -499.963623   \n",
              "2016-09-01 04:59:59                                 -500.360026   \n",
              "\n",
              "                     secondary_cleaner.state.floatbank6_a_air  \\\n",
              "date                                                            \n",
              "2016-09-01 00:59:59                                 26.705889   \n",
              "2016-09-01 01:59:59                                 25.019940   \n",
              "2016-09-01 02:59:59                                 24.994862   \n",
              "2016-09-01 03:59:59                                 24.948919   \n",
              "2016-09-01 04:59:59                                 25.003331   \n",
              "\n",
              "                     secondary_cleaner.state.floatbank6_a_level  \n",
              "date                                                             \n",
              "2016-09-01 00:59:59                                 -499.709414  \n",
              "2016-09-01 01:59:59                                 -499.819438  \n",
              "2016-09-01 02:59:59                                 -500.622559  \n",
              "2016-09-01 03:59:59                                 -498.709987  \n",
              "2016-09-01 04:59:59                                 -500.856333  "
            ]
          },
          "metadata": {},
          "output_type": "display_data"
        }
      ],
      "source": [
        "# чтение и загрузка файлов - тестовая выборка\n",
        "\n",
        "gold_test = pd.read_csv('/datasets/gold_recovery_test_new.csv', index_col='date')\n",
        "display(gold_test.head())"
      ]
    },
    {
      "cell_type": "code",
      "execution_count": null,
      "metadata": {
        "id": "9QST4m0VHxi0",
        "outputId": "fac755cc-efcc-4ad0-e55c-65c9bbd8149c"
      },
      "outputs": [
        {
          "data": {
            "text/plain": [
              "(5290, 52)"
            ]
          },
          "execution_count": 52,
          "metadata": {},
          "output_type": "execute_result"
        }
      ],
      "source": [
        "gold_test.shape"
      ]
    },
    {
      "cell_type": "code",
      "execution_count": null,
      "metadata": {
        "id": "h7uMngg1Hxi0",
        "outputId": "1afb5de5-2004-4e20-9aba-ce5ef37eaccc"
      },
      "outputs": [
        {
          "name": "stdout",
          "output_type": "stream",
          "text": [
            "<class 'pandas.core.frame.DataFrame'>\n",
            "Index: 5290 entries, 2016-09-01 00:59:59 to 2017-12-31 23:59:59\n",
            "Data columns (total 52 columns):\n",
            " #   Column                                      Non-Null Count  Dtype  \n",
            "---  ------                                      --------------  -----  \n",
            " 0   primary_cleaner.input.sulfate               5286 non-null   float64\n",
            " 1   primary_cleaner.input.depressant            5285 non-null   float64\n",
            " 2   primary_cleaner.input.feed_size             5290 non-null   float64\n",
            " 3   primary_cleaner.input.xanthate              5286 non-null   float64\n",
            " 4   primary_cleaner.state.floatbank8_a_air      5290 non-null   float64\n",
            " 5   primary_cleaner.state.floatbank8_a_level    5290 non-null   float64\n",
            " 6   primary_cleaner.state.floatbank8_b_air      5290 non-null   float64\n",
            " 7   primary_cleaner.state.floatbank8_b_level    5290 non-null   float64\n",
            " 8   primary_cleaner.state.floatbank8_c_air      5290 non-null   float64\n",
            " 9   primary_cleaner.state.floatbank8_c_level    5290 non-null   float64\n",
            " 10  primary_cleaner.state.floatbank8_d_air      5290 non-null   float64\n",
            " 11  primary_cleaner.state.floatbank8_d_level    5290 non-null   float64\n",
            " 12  rougher.input.feed_ag                       5290 non-null   float64\n",
            " 13  rougher.input.feed_pb                       5290 non-null   float64\n",
            " 14  rougher.input.feed_rate                     5287 non-null   float64\n",
            " 15  rougher.input.feed_size                     5289 non-null   float64\n",
            " 16  rougher.input.feed_sol                      5269 non-null   float64\n",
            " 17  rougher.input.feed_au                       5290 non-null   float64\n",
            " 18  rougher.input.floatbank10_sulfate           5285 non-null   float64\n",
            " 19  rougher.input.floatbank10_xanthate          5290 non-null   float64\n",
            " 20  rougher.input.floatbank11_sulfate           5282 non-null   float64\n",
            " 21  rougher.input.floatbank11_xanthate          5265 non-null   float64\n",
            " 22  rougher.state.floatbank10_a_air             5290 non-null   float64\n",
            " 23  rougher.state.floatbank10_a_level           5290 non-null   float64\n",
            " 24  rougher.state.floatbank10_b_air             5290 non-null   float64\n",
            " 25  rougher.state.floatbank10_b_level           5290 non-null   float64\n",
            " 26  rougher.state.floatbank10_c_air             5290 non-null   float64\n",
            " 27  rougher.state.floatbank10_c_level           5290 non-null   float64\n",
            " 28  rougher.state.floatbank10_d_air             5290 non-null   float64\n",
            " 29  rougher.state.floatbank10_d_level           5290 non-null   float64\n",
            " 30  rougher.state.floatbank10_e_air             5290 non-null   float64\n",
            " 31  rougher.state.floatbank10_e_level           5290 non-null   float64\n",
            " 32  rougher.state.floatbank10_f_air             5290 non-null   float64\n",
            " 33  rougher.state.floatbank10_f_level           5290 non-null   float64\n",
            " 34  secondary_cleaner.state.floatbank2_a_air    5287 non-null   float64\n",
            " 35  secondary_cleaner.state.floatbank2_a_level  5290 non-null   float64\n",
            " 36  secondary_cleaner.state.floatbank2_b_air    5288 non-null   float64\n",
            " 37  secondary_cleaner.state.floatbank2_b_level  5290 non-null   float64\n",
            " 38  secondary_cleaner.state.floatbank3_a_air    5281 non-null   float64\n",
            " 39  secondary_cleaner.state.floatbank3_a_level  5290 non-null   float64\n",
            " 40  secondary_cleaner.state.floatbank3_b_air    5290 non-null   float64\n",
            " 41  secondary_cleaner.state.floatbank3_b_level  5290 non-null   float64\n",
            " 42  secondary_cleaner.state.floatbank4_a_air    5290 non-null   float64\n",
            " 43  secondary_cleaner.state.floatbank4_a_level  5290 non-null   float64\n",
            " 44  secondary_cleaner.state.floatbank4_b_air    5290 non-null   float64\n",
            " 45  secondary_cleaner.state.floatbank4_b_level  5290 non-null   float64\n",
            " 46  secondary_cleaner.state.floatbank5_a_air    5290 non-null   float64\n",
            " 47  secondary_cleaner.state.floatbank5_a_level  5290 non-null   float64\n",
            " 48  secondary_cleaner.state.floatbank5_b_air    5290 non-null   float64\n",
            " 49  secondary_cleaner.state.floatbank5_b_level  5290 non-null   float64\n",
            " 50  secondary_cleaner.state.floatbank6_a_air    5290 non-null   float64\n",
            " 51  secondary_cleaner.state.floatbank6_a_level  5290 non-null   float64\n",
            "dtypes: float64(52)\n",
            "memory usage: 2.1+ MB\n"
          ]
        }
      ],
      "source": [
        "# выведем общую информацию о данных\n",
        "\n",
        "gold_test.info()"
      ]
    },
    {
      "cell_type": "code",
      "execution_count": null,
      "metadata": {
        "id": "OBTfDflOHxi1",
        "outputId": "7ddbd07e-9559-4248-e834-b5587ed215c6"
      },
      "outputs": [
        {
          "data": {
            "text/plain": [
              "0.27"
            ]
          },
          "metadata": {},
          "output_type": "display_data"
        },
        {
          "data": {
            "text/plain": [
              "0.73"
            ]
          },
          "metadata": {},
          "output_type": "display_data"
        }
      ],
      "source": [
        "# проверим распределение обучающей и тестовой выборки\n",
        "display(round(len(gold_test) / len(gold_full), 2))\n",
        "display(round(len(gold_train) / len(gold_full), 2))"
      ]
    },
    {
      "cell_type": "markdown",
      "metadata": {
        "id": "0zqSc-ciHxi1"
      },
      "source": [
        "**Вывод:**\n",
        "\n",
        " -- Данные индексируются датой и временем получения информации (признак date). Соседние по времени параметры часто похожи.\n",
        "\n",
        " -- Наименование стобцов-признаков описывает каждый этап получения золота из руды и расшифровывается так:\n",
        "[этап].[тип_параметра].[название_параметра]\n",
        "Пример: rougher.input.feed_ag\n",
        "\n",
        "\n",
        " -- Некоторые параметры недоступны, потому что замеряются и/или рассчитываются значительно позже. Из-за этого в тестовой выборке отсутствуют некоторые признаки, которые могут быть в обучающей. Также в тестовом наборе нет целевых признаков.\n",
        "\n",
        " -- Исходный датасет содержит обучающую 73% и тестовую 27% выборки со всеми признаками, что говорит об оптимальном соотношении для дальнейшей работы с данными.\n",
        "\n",
        " -- В датасетах имеются незначительные пропуски данных, с ними мы будем работать на следющих этапах анализа.\n"
      ]
    },
    {
      "cell_type": "markdown",
      "metadata": {
        "id": "FBcP_bpFHxi2"
      },
      "source": [
        "### Проверка расчета эффективности обогащения"
      ]
    },
    {
      "cell_type": "markdown",
      "metadata": {
        "id": "CKeVLyXKHxi2"
      },
      "source": [
        "вычисление эффективности обогащения на обучающей выборке для признака `rougher.output.recovery`\n",
        "по формуле recovery\n",
        "\n",
        "•\tC — доля золота в концентрате после флотации/очистки;\n",
        "\n",
        "•\tF — доля золота в сырье/концентрате до флотации/очистки;\n",
        "\n",
        "•\tT — доля золота в отвальных хвостах после флотации/очистки."
      ]
    },
    {
      "cell_type": "code",
      "execution_count": null,
      "metadata": {
        "id": "HEjnbG8rHxi2"
      },
      "outputs": [],
      "source": [
        "# условные обозначения\n",
        "\n",
        "C = gold_train['rougher.output.concentrate_au']\n",
        "F = gold_train['rougher.input.feed_au']\n",
        "T = gold_train['rougher.output.tail_au']"
      ]
    },
    {
      "cell_type": "code",
      "execution_count": null,
      "metadata": {
        "id": "XO2Ij3mRHxi3",
        "outputId": "7df0fe69-ee43-4a21-d9aa-792f896a6468"
      },
      "outputs": [
        {
          "data": {
            "text/plain": [
              "date\n",
              "2016-01-15 00:00:00    87.107763\n",
              "2016-01-15 01:00:00    86.843261\n",
              "2016-01-15 02:00:00    86.842308\n",
              "2016-01-15 03:00:00    87.226430\n",
              "2016-01-15 04:00:00    86.688794\n",
              "                         ...    \n",
              "2018-08-18 06:59:59    89.574376\n",
              "2018-08-18 07:59:59    87.724007\n",
              "2018-08-18 08:59:59    88.890579\n",
              "2018-08-18 09:59:59    89.858126\n",
              "2018-08-18 10:59:59    89.514960\n",
              "Length: 14149, dtype: float64"
            ]
          },
          "metadata": {},
          "output_type": "display_data"
        }
      ],
      "source": [
        "# расчет по формуле\n",
        "\n",
        "recovery = ((C * (F - T)) / (F * (C - T))) * 100\n",
        "display(recovery)"
      ]
    },
    {
      "cell_type": "code",
      "execution_count": null,
      "metadata": {
        "id": "VyOHFVeYHxi3",
        "outputId": "451c50e5-0a5c-418b-aa08-5c3a389701c6"
      },
      "outputs": [
        {
          "data": {
            "text/plain": [
              "'0.00000000000000973512'"
            ]
          },
          "execution_count": 57,
          "metadata": {},
          "output_type": "execute_result"
        }
      ],
      "source": [
        "# расчет MAE между фактическим значением на обучающей выборке и значением по формуле\n",
        "\n",
        "'{:.20f}'.format(mean_absolute_error(gold_train['rougher.output.recovery'], recovery))"
      ]
    },
    {
      "cell_type": "markdown",
      "metadata": {
        "id": "Po4YEIrUHxi4"
      },
      "source": [
        "**Вывод:**\n",
        "\n",
        "-- Значение МАЕ практически равно нулю, следовательно значение показателя `rougher.output.recovery` из обучающей выборки практически идентично значению `recovery`, рассчитанное по формуле."
      ]
    },
    {
      "cell_type": "markdown",
      "metadata": {
        "id": "AuTcz828Hxi4"
      },
      "source": [
        "### Признаки, недоступные в тестовой выборке"
      ]
    },
    {
      "cell_type": "code",
      "execution_count": null,
      "metadata": {
        "id": "domLI4BOHxi4"
      },
      "outputs": [],
      "source": [
        "# найдем признаки, недоступные в тестовой выборке путем сравнения наименования столбцов из двух массивов\n",
        "\n",
        "out_columns = set(gold_train.columns) - set(gold_test.columns)"
      ]
    },
    {
      "cell_type": "code",
      "execution_count": null,
      "metadata": {
        "id": "O2S1zM9WHxi4",
        "outputId": "bd69d256-303a-4e1c-a95d-6eb35667653d"
      },
      "outputs": [
        {
          "name": "stdout",
          "output_type": "stream",
          "text": [
            "<class 'pandas.core.frame.DataFrame'>\n",
            "Index: 14149 entries, 2016-01-15 00:00:00 to 2018-08-18 10:59:59\n",
            "Data columns (total 34 columns):\n",
            " #   Column                                              Non-Null Count  Dtype  \n",
            "---  ------                                              --------------  -----  \n",
            " 0   primary_cleaner.output.concentrate_au               14149 non-null  float64\n",
            " 1   rougher.output.concentrate_ag                       14149 non-null  float64\n",
            " 2   secondary_cleaner.output.tail_au                    14149 non-null  float64\n",
            " 3   final.output.concentrate_sol                        13938 non-null  float64\n",
            " 4   final.output.tail_au                                14149 non-null  float64\n",
            " 5   final.output.recovery                               14149 non-null  float64\n",
            " 6   primary_cleaner.output.concentrate_sol              13863 non-null  float64\n",
            " 7   secondary_cleaner.output.tail_sol                   12544 non-null  float64\n",
            " 8   primary_cleaner.output.concentrate_ag               14149 non-null  float64\n",
            " 9   final.output.concentrate_ag                         14148 non-null  float64\n",
            " 10  primary_cleaner.output.concentrate_pb               14063 non-null  float64\n",
            " 11  primary_cleaner.output.tail_ag                      14148 non-null  float64\n",
            " 12  final.output.tail_sol                               14144 non-null  float64\n",
            " 13  rougher.calculation.sulfate_to_au_concentrate       14148 non-null  float64\n",
            " 14  final.output.concentrate_au                         14149 non-null  float64\n",
            " 15  rougher.output.concentrate_au                       14149 non-null  float64\n",
            " 16  rougher.output.concentrate_pb                       14149 non-null  float64\n",
            " 17  rougher.output.concentrate_sol                      14127 non-null  float64\n",
            " 18  primary_cleaner.output.tail_sol                     14103 non-null  float64\n",
            " 19  final.output.concentrate_pb                         14148 non-null  float64\n",
            " 20  rougher.calculation.au_pb_ratio                     14149 non-null  float64\n",
            " 21  rougher.output.tail_sol                             14149 non-null  float64\n",
            " 22  primary_cleaner.output.tail_au                      14149 non-null  float64\n",
            " 23  primary_cleaner.output.tail_pb                      14134 non-null  float64\n",
            " 24  rougher.output.tail_ag                              14148 non-null  float64\n",
            " 25  rougher.calculation.floatbank10_sulfate_to_au_feed  14148 non-null  float64\n",
            " 26  rougher.calculation.floatbank11_sulfate_to_au_feed  14148 non-null  float64\n",
            " 27  rougher.output.tail_au                              14149 non-null  float64\n",
            " 28  secondary_cleaner.output.tail_ag                    14147 non-null  float64\n",
            " 29  final.output.tail_ag                                14149 non-null  float64\n",
            " 30  secondary_cleaner.output.tail_pb                    14139 non-null  float64\n",
            " 31  rougher.output.recovery                             14149 non-null  float64\n",
            " 32  rougher.output.tail_pb                              14149 non-null  float64\n",
            " 33  final.output.tail_pb                                14049 non-null  float64\n",
            "dtypes: float64(34)\n",
            "memory usage: 4.3+ MB\n"
          ]
        },
        {
          "data": {
            "text/plain": [
              "['final.output.concentrate_ag',\n",
              " 'final.output.concentrate_au',\n",
              " 'final.output.concentrate_pb',\n",
              " 'final.output.concentrate_sol',\n",
              " 'final.output.recovery',\n",
              " 'final.output.tail_ag',\n",
              " 'final.output.tail_au',\n",
              " 'final.output.tail_pb',\n",
              " 'final.output.tail_sol',\n",
              " 'primary_cleaner.output.concentrate_ag',\n",
              " 'primary_cleaner.output.concentrate_au',\n",
              " 'primary_cleaner.output.concentrate_pb',\n",
              " 'primary_cleaner.output.concentrate_sol',\n",
              " 'primary_cleaner.output.tail_ag',\n",
              " 'primary_cleaner.output.tail_au',\n",
              " 'primary_cleaner.output.tail_pb',\n",
              " 'primary_cleaner.output.tail_sol',\n",
              " 'rougher.calculation.au_pb_ratio',\n",
              " 'rougher.calculation.floatbank10_sulfate_to_au_feed',\n",
              " 'rougher.calculation.floatbank11_sulfate_to_au_feed',\n",
              " 'rougher.calculation.sulfate_to_au_concentrate',\n",
              " 'rougher.output.concentrate_ag',\n",
              " 'rougher.output.concentrate_au',\n",
              " 'rougher.output.concentrate_pb',\n",
              " 'rougher.output.concentrate_sol',\n",
              " 'rougher.output.recovery',\n",
              " 'rougher.output.tail_ag',\n",
              " 'rougher.output.tail_au',\n",
              " 'rougher.output.tail_pb',\n",
              " 'rougher.output.tail_sol',\n",
              " 'secondary_cleaner.output.tail_ag',\n",
              " 'secondary_cleaner.output.tail_au',\n",
              " 'secondary_cleaner.output.tail_pb',\n",
              " 'secondary_cleaner.output.tail_sol']"
            ]
          },
          "execution_count": 59,
          "metadata": {},
          "output_type": "execute_result"
        }
      ],
      "source": [
        "# отобразим эти столбцы и посмотрим инфо по ним\n",
        "\n",
        "gold_train[out_columns].info()\n",
        "sorted(gold_train[out_columns])\n"
      ]
    },
    {
      "cell_type": "markdown",
      "metadata": {
        "id": "4DLnNAWPHxjA"
      },
      "source": [
        "**Вывод:**\n",
        "\n",
        "-- В тестовой выборке отсутствует 34 столбца (признака): 13 на этапе rougher (флотация), 8 на этапе primary_cleaner (первичная очистка), 4 на этапе secondary_cleaner (вторичная очистка), 9 на этапе final (финальные характеристики)\n",
        "\n",
        "-- Все признаки имеют тип значений float\n",
        "\n",
        "-- Для дальнейшего анализа необходимо: в gold_test добавить целевые признаки - `rougher.output.recovery` и `final.output.recovery`, а на этапе обучения из gold_train удалить найденные недоступные в test признаки\n",
        "\n",
        "-- Некоторые параметры недоступны, потому что замеряются и/или рассчитываются значительно позже. Из-за этого в тестовой выборке отсутствуют некоторые признаки, которые могут быть в обучающей.\n",
        "\n",
        "-- Также в тестовом наборе нет целевых признаков."
      ]
    },
    {
      "cell_type": "markdown",
      "metadata": {
        "id": "u1cxI6NGHxjB"
      },
      "source": [
        "### Предобработка данных"
      ]
    },
    {
      "cell_type": "code",
      "execution_count": null,
      "metadata": {
        "id": "P88BgnGYHxjB",
        "outputId": "eacb2517-c9a0-4ae4-f8de-278081e43d73"
      },
      "outputs": [
        {
          "name": "stdout",
          "output_type": "stream",
          "text": [
            "secondary_cleaner.output.tail_sol           1748\n",
            "rougher.input.floatbank11_xanthate           453\n",
            "rougher.state.floatbank10_e_air              436\n",
            "primary_cleaner.output.concentrate_sol       370\n",
            "secondary_cleaner.state.floatbank2_a_air     220\n",
            "                                            ... \n",
            "rougher.state.floatbank10_d_level              0\n",
            "rougher.state.floatbank10_d_air                0\n",
            "rougher.output.tail_sol                        0\n",
            "rougher.output.tail_au                         0\n",
            "rougher.output.concentrate_ag                  0\n",
            "Length: 86, dtype: int64\n",
            "________________________\n",
            "\n",
            "secondary_cleaner.output.tail_sol           1605\n",
            "rougher.state.floatbank10_e_air              436\n",
            "rougher.input.floatbank11_xanthate           428\n",
            "primary_cleaner.output.concentrate_sol       286\n",
            "secondary_cleaner.state.floatbank2_a_air     217\n",
            "                                            ... \n",
            "rougher.state.floatbank10_d_air                0\n",
            "rougher.output.concentrate_au                  0\n",
            "rougher.output.recovery                        0\n",
            "rougher.output.tail_pb                         0\n",
            "rougher.output.concentrate_ag                  0\n",
            "Length: 86, dtype: int64\n",
            "________________________\n",
            "\n",
            "rougher.input.floatbank11_xanthate            25\n",
            "rougher.input.feed_sol                        21\n",
            "secondary_cleaner.state.floatbank3_a_air       9\n",
            "rougher.input.floatbank11_sulfate              8\n",
            "primary_cleaner.input.depressant               5\n",
            "rougher.input.floatbank10_sulfate              5\n",
            "primary_cleaner.input.sulfate                  4\n",
            "primary_cleaner.input.xanthate                 4\n",
            "rougher.input.feed_rate                        3\n",
            "secondary_cleaner.state.floatbank2_a_air       3\n",
            "secondary_cleaner.state.floatbank2_b_air       2\n",
            "rougher.input.feed_size                        1\n",
            "secondary_cleaner.state.floatbank3_b_level     0\n",
            "secondary_cleaner.state.floatbank3_b_air       0\n",
            "rougher.state.floatbank10_f_air                0\n",
            "rougher.state.floatbank10_f_level              0\n",
            "secondary_cleaner.state.floatbank6_a_air       0\n",
            "secondary_cleaner.state.floatbank5_b_level     0\n",
            "secondary_cleaner.state.floatbank2_a_level     0\n",
            "secondary_cleaner.state.floatbank5_b_air       0\n",
            "secondary_cleaner.state.floatbank2_b_level     0\n",
            "secondary_cleaner.state.floatbank5_a_level     0\n",
            "secondary_cleaner.state.floatbank5_a_air       0\n",
            "secondary_cleaner.state.floatbank4_b_level     0\n",
            "secondary_cleaner.state.floatbank4_b_air       0\n",
            "secondary_cleaner.state.floatbank3_a_level     0\n",
            "secondary_cleaner.state.floatbank4_a_level     0\n",
            "rougher.state.floatbank10_e_air                0\n",
            "secondary_cleaner.state.floatbank4_a_air       0\n",
            "rougher.state.floatbank10_e_level              0\n",
            "rougher.state.floatbank10_c_air                0\n",
            "rougher.state.floatbank10_d_level              0\n",
            "primary_cleaner.state.floatbank8_d_level       0\n",
            "primary_cleaner.input.feed_size                0\n",
            "primary_cleaner.state.floatbank8_a_air         0\n",
            "primary_cleaner.state.floatbank8_a_level       0\n",
            "primary_cleaner.state.floatbank8_b_air         0\n",
            "primary_cleaner.state.floatbank8_b_level       0\n",
            "primary_cleaner.state.floatbank8_c_air         0\n",
            "primary_cleaner.state.floatbank8_c_level       0\n",
            "primary_cleaner.state.floatbank8_d_air         0\n",
            "rougher.input.feed_ag                          0\n",
            "rougher.state.floatbank10_d_air                0\n",
            "rougher.input.feed_pb                          0\n",
            "rougher.input.feed_au                          0\n",
            "rougher.input.floatbank10_xanthate             0\n",
            "rougher.state.floatbank10_a_air                0\n",
            "rougher.state.floatbank10_a_level              0\n",
            "rougher.state.floatbank10_b_air                0\n",
            "rougher.state.floatbank10_b_level              0\n",
            "rougher.state.floatbank10_c_level              0\n",
            "secondary_cleaner.state.floatbank6_a_level     0\n",
            "dtype: int64\n",
            "________________________\n",
            "\n"
          ]
        }
      ],
      "source": [
        "# проверяем пропуски в 3х таблицах\n",
        "for dataframe in [gold_full, gold_train, gold_test]:\n",
        "    print(dataframe.isna().sum().sort_values(ascending=False))\n",
        "    print('________________________\\n')\n"
      ]
    },
    {
      "cell_type": "code",
      "execution_count": null,
      "metadata": {
        "id": "h86rRfkzHxjB"
      },
      "outputs": [],
      "source": [
        "# заполняем пропуски согласно условиям проекта: \"Данные индексируются датой и временем получения\n",
        "# информации (признак date). Соседние по времени параметры часто похожи.\"\n",
        "# метод заполнения из предшествующей записи\n",
        "gold_full = gold_full.fillna(method='bfill')\n",
        "gold_train = gold_train.fillna(method='bfill')\n",
        "gold_test = gold_test.fillna(method='bfill')"
      ]
    },
    {
      "cell_type": "code",
      "execution_count": null,
      "metadata": {
        "id": "AinGmrEfHxjC",
        "outputId": "81bf6b6f-71d5-4515-dc0a-7aaa2ac62b76"
      },
      "outputs": [
        {
          "name": "stdout",
          "output_type": "stream",
          "text": [
            "final.output.concentrate_ag                   0\n",
            "rougher.state.floatbank10_b_air               0\n",
            "rougher.state.floatbank10_f_air               0\n",
            "rougher.state.floatbank10_e_level             0\n",
            "rougher.state.floatbank10_e_air               0\n",
            "                                             ..\n",
            "primary_cleaner.state.floatbank8_d_air        0\n",
            "primary_cleaner.state.floatbank8_c_level      0\n",
            "primary_cleaner.state.floatbank8_c_air        0\n",
            "primary_cleaner.state.floatbank8_b_level      0\n",
            "secondary_cleaner.state.floatbank6_a_level    0\n",
            "Length: 86, dtype: int64\n",
            "________________________\n",
            "\n",
            "final.output.concentrate_ag                   0\n",
            "rougher.state.floatbank10_b_air               0\n",
            "rougher.state.floatbank10_f_air               0\n",
            "rougher.state.floatbank10_e_level             0\n",
            "rougher.state.floatbank10_e_air               0\n",
            "                                             ..\n",
            "primary_cleaner.state.floatbank8_d_air        0\n",
            "primary_cleaner.state.floatbank8_c_level      0\n",
            "primary_cleaner.state.floatbank8_c_air        0\n",
            "primary_cleaner.state.floatbank8_b_level      0\n",
            "secondary_cleaner.state.floatbank6_a_level    0\n",
            "Length: 86, dtype: int64\n",
            "________________________\n",
            "\n",
            "primary_cleaner.input.sulfate                 0\n",
            "primary_cleaner.input.depressant              0\n",
            "rougher.state.floatbank10_d_air               0\n",
            "rougher.state.floatbank10_d_level             0\n",
            "rougher.state.floatbank10_e_air               0\n",
            "rougher.state.floatbank10_e_level             0\n",
            "rougher.state.floatbank10_f_air               0\n",
            "rougher.state.floatbank10_f_level             0\n",
            "secondary_cleaner.state.floatbank2_a_air      0\n",
            "secondary_cleaner.state.floatbank2_a_level    0\n",
            "secondary_cleaner.state.floatbank2_b_air      0\n",
            "secondary_cleaner.state.floatbank2_b_level    0\n",
            "secondary_cleaner.state.floatbank3_a_air      0\n",
            "secondary_cleaner.state.floatbank3_a_level    0\n",
            "secondary_cleaner.state.floatbank3_b_air      0\n",
            "secondary_cleaner.state.floatbank3_b_level    0\n",
            "secondary_cleaner.state.floatbank4_a_air      0\n",
            "secondary_cleaner.state.floatbank4_a_level    0\n",
            "secondary_cleaner.state.floatbank4_b_air      0\n",
            "secondary_cleaner.state.floatbank4_b_level    0\n",
            "secondary_cleaner.state.floatbank5_a_air      0\n",
            "secondary_cleaner.state.floatbank5_a_level    0\n",
            "secondary_cleaner.state.floatbank5_b_air      0\n",
            "secondary_cleaner.state.floatbank5_b_level    0\n",
            "secondary_cleaner.state.floatbank6_a_air      0\n",
            "rougher.state.floatbank10_c_level             0\n",
            "rougher.state.floatbank10_c_air               0\n",
            "rougher.state.floatbank10_b_level             0\n",
            "rougher.input.feed_ag                         0\n",
            "primary_cleaner.input.feed_size               0\n",
            "primary_cleaner.input.xanthate                0\n",
            "primary_cleaner.state.floatbank8_a_air        0\n",
            "primary_cleaner.state.floatbank8_a_level      0\n",
            "primary_cleaner.state.floatbank8_b_air        0\n",
            "primary_cleaner.state.floatbank8_b_level      0\n",
            "primary_cleaner.state.floatbank8_c_air        0\n",
            "primary_cleaner.state.floatbank8_c_level      0\n",
            "primary_cleaner.state.floatbank8_d_air        0\n",
            "primary_cleaner.state.floatbank8_d_level      0\n",
            "rougher.input.feed_pb                         0\n",
            "rougher.state.floatbank10_b_air               0\n",
            "rougher.input.feed_rate                       0\n",
            "rougher.input.feed_size                       0\n",
            "rougher.input.feed_sol                        0\n",
            "rougher.input.feed_au                         0\n",
            "rougher.input.floatbank10_sulfate             0\n",
            "rougher.input.floatbank10_xanthate            0\n",
            "rougher.input.floatbank11_sulfate             0\n",
            "rougher.input.floatbank11_xanthate            0\n",
            "rougher.state.floatbank10_a_air               0\n",
            "rougher.state.floatbank10_a_level             0\n",
            "secondary_cleaner.state.floatbank6_a_level    0\n",
            "dtype: int64\n",
            "________________________\n",
            "\n"
          ]
        }
      ],
      "source": [
        "# проверяем на пропуски еще раз\n",
        "for dataframe in [gold_full, gold_train, gold_test]:\n",
        "    print(dataframe.isna().sum().sort_values(ascending=False))\n",
        "    print('________________________\\n')"
      ]
    },
    {
      "cell_type": "code",
      "execution_count": null,
      "metadata": {
        "id": "6mcEoKQFHxjD",
        "outputId": "5722a548-7f09-497d-d5d3-96a53f48b930"
      },
      "outputs": [
        {
          "name": "stdout",
          "output_type": "stream",
          "text": [
            "0\n",
            "________________________\n",
            "\n",
            "0\n",
            "________________________\n",
            "\n",
            "0\n",
            "________________________\n",
            "\n"
          ]
        }
      ],
      "source": [
        "# проверяем на дубликаты\n",
        "\n",
        "for dataframe in [gold_full, gold_train, gold_test]:\n",
        "    print(dataframe.duplicated().sum())\n",
        "    print('________________________\\n')\n",
        "\n",
        "# дубликатов нет"
      ]
    },
    {
      "cell_type": "code",
      "execution_count": null,
      "metadata": {
        "id": "tbvttXFOHxjD",
        "outputId": "df71bc89-f1cc-47e4-953d-ebc09940fa2f"
      },
      "outputs": [
        {
          "data": {
            "text/plain": [
              "(5290, 52)"
            ]
          },
          "execution_count": 64,
          "metadata": {},
          "output_type": "execute_result"
        }
      ],
      "source": [
        "# добавим в тестовую выборку целевые признаки (которые обозначали в п.1.3)\n",
        "\n",
        "gold_test.shape\n"
      ]
    },
    {
      "cell_type": "code",
      "execution_count": null,
      "metadata": {
        "id": "_v0YhwfCHxjE",
        "outputId": "bad97e67-6d4f-4593-c267-0ba870c7ce7b"
      },
      "outputs": [
        {
          "data": {
            "text/html": [
              "<div>\n",
              "<style scoped>\n",
              "    .dataframe tbody tr th:only-of-type {\n",
              "        vertical-align: middle;\n",
              "    }\n",
              "\n",
              "    .dataframe tbody tr th {\n",
              "        vertical-align: top;\n",
              "    }\n",
              "\n",
              "    .dataframe thead th {\n",
              "        text-align: right;\n",
              "    }\n",
              "</style>\n",
              "<table border=\"1\" class=\"dataframe\">\n",
              "  <thead>\n",
              "    <tr style=\"text-align: right;\">\n",
              "      <th></th>\n",
              "      <th>primary_cleaner.input.sulfate</th>\n",
              "      <th>primary_cleaner.input.depressant</th>\n",
              "      <th>primary_cleaner.input.feed_size</th>\n",
              "      <th>primary_cleaner.input.xanthate</th>\n",
              "      <th>primary_cleaner.state.floatbank8_a_air</th>\n",
              "      <th>primary_cleaner.state.floatbank8_a_level</th>\n",
              "      <th>primary_cleaner.state.floatbank8_b_air</th>\n",
              "      <th>primary_cleaner.state.floatbank8_b_level</th>\n",
              "      <th>primary_cleaner.state.floatbank8_c_air</th>\n",
              "      <th>primary_cleaner.state.floatbank8_c_level</th>\n",
              "      <th>primary_cleaner.state.floatbank8_d_air</th>\n",
              "      <th>primary_cleaner.state.floatbank8_d_level</th>\n",
              "      <th>rougher.input.feed_ag</th>\n",
              "      <th>rougher.input.feed_pb</th>\n",
              "      <th>rougher.input.feed_rate</th>\n",
              "      <th>rougher.input.feed_size</th>\n",
              "      <th>rougher.input.feed_sol</th>\n",
              "      <th>rougher.input.feed_au</th>\n",
              "      <th>rougher.input.floatbank10_sulfate</th>\n",
              "      <th>rougher.input.floatbank10_xanthate</th>\n",
              "      <th>rougher.input.floatbank11_sulfate</th>\n",
              "      <th>rougher.input.floatbank11_xanthate</th>\n",
              "      <th>rougher.state.floatbank10_a_air</th>\n",
              "      <th>rougher.state.floatbank10_a_level</th>\n",
              "      <th>rougher.state.floatbank10_b_air</th>\n",
              "      <th>rougher.state.floatbank10_b_level</th>\n",
              "      <th>rougher.state.floatbank10_c_air</th>\n",
              "      <th>rougher.state.floatbank10_c_level</th>\n",
              "      <th>rougher.state.floatbank10_d_air</th>\n",
              "      <th>rougher.state.floatbank10_d_level</th>\n",
              "      <th>rougher.state.floatbank10_e_air</th>\n",
              "      <th>rougher.state.floatbank10_e_level</th>\n",
              "      <th>rougher.state.floatbank10_f_air</th>\n",
              "      <th>rougher.state.floatbank10_f_level</th>\n",
              "      <th>secondary_cleaner.state.floatbank2_a_air</th>\n",
              "      <th>secondary_cleaner.state.floatbank2_a_level</th>\n",
              "      <th>secondary_cleaner.state.floatbank2_b_air</th>\n",
              "      <th>secondary_cleaner.state.floatbank2_b_level</th>\n",
              "      <th>secondary_cleaner.state.floatbank3_a_air</th>\n",
              "      <th>secondary_cleaner.state.floatbank3_a_level</th>\n",
              "      <th>secondary_cleaner.state.floatbank3_b_air</th>\n",
              "      <th>secondary_cleaner.state.floatbank3_b_level</th>\n",
              "      <th>secondary_cleaner.state.floatbank4_a_air</th>\n",
              "      <th>secondary_cleaner.state.floatbank4_a_level</th>\n",
              "      <th>secondary_cleaner.state.floatbank4_b_air</th>\n",
              "      <th>secondary_cleaner.state.floatbank4_b_level</th>\n",
              "      <th>secondary_cleaner.state.floatbank5_a_air</th>\n",
              "      <th>secondary_cleaner.state.floatbank5_a_level</th>\n",
              "      <th>secondary_cleaner.state.floatbank5_b_air</th>\n",
              "      <th>secondary_cleaner.state.floatbank5_b_level</th>\n",
              "      <th>secondary_cleaner.state.floatbank6_a_air</th>\n",
              "      <th>secondary_cleaner.state.floatbank6_a_level</th>\n",
              "      <th>final.output.recovery</th>\n",
              "      <th>rougher.output.recovery</th>\n",
              "    </tr>\n",
              "    <tr>\n",
              "      <th>date</th>\n",
              "      <th></th>\n",
              "      <th></th>\n",
              "      <th></th>\n",
              "      <th></th>\n",
              "      <th></th>\n",
              "      <th></th>\n",
              "      <th></th>\n",
              "      <th></th>\n",
              "      <th></th>\n",
              "      <th></th>\n",
              "      <th></th>\n",
              "      <th></th>\n",
              "      <th></th>\n",
              "      <th></th>\n",
              "      <th></th>\n",
              "      <th></th>\n",
              "      <th></th>\n",
              "      <th></th>\n",
              "      <th></th>\n",
              "      <th></th>\n",
              "      <th></th>\n",
              "      <th></th>\n",
              "      <th></th>\n",
              "      <th></th>\n",
              "      <th></th>\n",
              "      <th></th>\n",
              "      <th></th>\n",
              "      <th></th>\n",
              "      <th></th>\n",
              "      <th></th>\n",
              "      <th></th>\n",
              "      <th></th>\n",
              "      <th></th>\n",
              "      <th></th>\n",
              "      <th></th>\n",
              "      <th></th>\n",
              "      <th></th>\n",
              "      <th></th>\n",
              "      <th></th>\n",
              "      <th></th>\n",
              "      <th></th>\n",
              "      <th></th>\n",
              "      <th></th>\n",
              "      <th></th>\n",
              "      <th></th>\n",
              "      <th></th>\n",
              "      <th></th>\n",
              "      <th></th>\n",
              "      <th></th>\n",
              "      <th></th>\n",
              "      <th></th>\n",
              "      <th></th>\n",
              "      <th></th>\n",
              "      <th></th>\n",
              "    </tr>\n",
              "  </thead>\n",
              "  <tbody>\n",
              "    <tr>\n",
              "      <th>2016-09-01 00:59:59</th>\n",
              "      <td>210.800909</td>\n",
              "      <td>14.993118</td>\n",
              "      <td>8.080000</td>\n",
              "      <td>1.005021</td>\n",
              "      <td>1398.981301</td>\n",
              "      <td>-500.225577</td>\n",
              "      <td>1399.144926</td>\n",
              "      <td>-499.919735</td>\n",
              "      <td>1400.102998</td>\n",
              "      <td>-500.704369</td>\n",
              "      <td>1399.001695</td>\n",
              "      <td>-499.485144</td>\n",
              "      <td>13.128569</td>\n",
              "      <td>5.636710</td>\n",
              "      <td>489.793655</td>\n",
              "      <td>62.710452</td>\n",
              "      <td>42.022440</td>\n",
              "      <td>12.084103</td>\n",
              "      <td>16.922877</td>\n",
              "      <td>6.153479</td>\n",
              "      <td>16.867518</td>\n",
              "      <td>6.150709</td>\n",
              "      <td>1001.849317</td>\n",
              "      <td>-350.301265</td>\n",
              "      <td>1249.738612</td>\n",
              "      <td>-399.107531</td>\n",
              "      <td>1249.750520</td>\n",
              "      <td>-399.396730</td>\n",
              "      <td>1198.287855</td>\n",
              "      <td>-399.488594</td>\n",
              "      <td>999.472250</td>\n",
              "      <td>-399.530962</td>\n",
              "      <td>949.566189</td>\n",
              "      <td>-398.180807</td>\n",
              "      <td>24.938200</td>\n",
              "      <td>-500.490963</td>\n",
              "      <td>14.947607</td>\n",
              "      <td>-500.013837</td>\n",
              "      <td>20.018166</td>\n",
              "      <td>-450.395995</td>\n",
              "      <td>13.987058</td>\n",
              "      <td>-449.831513</td>\n",
              "      <td>12.023554</td>\n",
              "      <td>-497.795834</td>\n",
              "      <td>8.016656</td>\n",
              "      <td>-501.289139</td>\n",
              "      <td>7.946562</td>\n",
              "      <td>-432.317850</td>\n",
              "      <td>4.872511</td>\n",
              "      <td>-500.037437</td>\n",
              "      <td>26.705889</td>\n",
              "      <td>-499.709414</td>\n",
              "      <td>70.273583</td>\n",
              "      <td>89.993421</td>\n",
              "    </tr>\n",
              "    <tr>\n",
              "      <th>2016-09-01 01:59:59</th>\n",
              "      <td>215.392455</td>\n",
              "      <td>14.987471</td>\n",
              "      <td>8.080000</td>\n",
              "      <td>0.990469</td>\n",
              "      <td>1398.777912</td>\n",
              "      <td>-500.057435</td>\n",
              "      <td>1398.055362</td>\n",
              "      <td>-499.778182</td>\n",
              "      <td>1396.151033</td>\n",
              "      <td>-499.240168</td>\n",
              "      <td>1399.508091</td>\n",
              "      <td>-500.416324</td>\n",
              "      <td>13.036280</td>\n",
              "      <td>5.526065</td>\n",
              "      <td>490.104534</td>\n",
              "      <td>61.961163</td>\n",
              "      <td>41.187903</td>\n",
              "      <td>11.918977</td>\n",
              "      <td>17.002532</td>\n",
              "      <td>5.999043</td>\n",
              "      <td>16.996063</td>\n",
              "      <td>6.002315</td>\n",
              "      <td>998.690785</td>\n",
              "      <td>-350.425704</td>\n",
              "      <td>1248.395457</td>\n",
              "      <td>-399.946025</td>\n",
              "      <td>1249.514451</td>\n",
              "      <td>-399.630810</td>\n",
              "      <td>1200.506459</td>\n",
              "      <td>-399.942434</td>\n",
              "      <td>1000.002114</td>\n",
              "      <td>-399.491528</td>\n",
              "      <td>950.200009</td>\n",
              "      <td>-405.787514</td>\n",
              "      <td>24.923466</td>\n",
              "      <td>-499.813963</td>\n",
              "      <td>14.930873</td>\n",
              "      <td>-500.764452</td>\n",
              "      <td>19.988503</td>\n",
              "      <td>-450.114024</td>\n",
              "      <td>14.092981</td>\n",
              "      <td>-450.059163</td>\n",
              "      <td>12.058140</td>\n",
              "      <td>-498.695773</td>\n",
              "      <td>8.130979</td>\n",
              "      <td>-499.634209</td>\n",
              "      <td>7.958270</td>\n",
              "      <td>-525.839648</td>\n",
              "      <td>4.878850</td>\n",
              "      <td>-500.162375</td>\n",
              "      <td>25.019940</td>\n",
              "      <td>-499.819438</td>\n",
              "      <td>68.910432</td>\n",
              "      <td>88.089657</td>\n",
              "    </tr>\n",
              "    <tr>\n",
              "      <th>2016-09-01 02:59:59</th>\n",
              "      <td>215.259946</td>\n",
              "      <td>12.884934</td>\n",
              "      <td>7.786667</td>\n",
              "      <td>0.996043</td>\n",
              "      <td>1398.493666</td>\n",
              "      <td>-500.868360</td>\n",
              "      <td>1398.860436</td>\n",
              "      <td>-499.764529</td>\n",
              "      <td>1398.075709</td>\n",
              "      <td>-502.151509</td>\n",
              "      <td>1399.497088</td>\n",
              "      <td>-499.715479</td>\n",
              "      <td>13.138412</td>\n",
              "      <td>5.426561</td>\n",
              "      <td>489.617969</td>\n",
              "      <td>66.903807</td>\n",
              "      <td>42.546294</td>\n",
              "      <td>12.091332</td>\n",
              "      <td>16.992520</td>\n",
              "      <td>5.850632</td>\n",
              "      <td>16.982096</td>\n",
              "      <td>5.853594</td>\n",
              "      <td>998.516720</td>\n",
              "      <td>-349.783538</td>\n",
              "      <td>1247.440748</td>\n",
              "      <td>-400.264330</td>\n",
              "      <td>1248.207204</td>\n",
              "      <td>-401.074405</td>\n",
              "      <td>1199.770026</td>\n",
              "      <td>-400.790582</td>\n",
              "      <td>999.925519</td>\n",
              "      <td>-399.236999</td>\n",
              "      <td>950.320481</td>\n",
              "      <td>-400.864340</td>\n",
              "      <td>24.908732</td>\n",
              "      <td>-500.304035</td>\n",
              "      <td>14.996511</td>\n",
              "      <td>-500.993821</td>\n",
              "      <td>20.039689</td>\n",
              "      <td>-450.263164</td>\n",
              "      <td>14.077881</td>\n",
              "      <td>-449.660997</td>\n",
              "      <td>11.962366</td>\n",
              "      <td>-498.767484</td>\n",
              "      <td>8.096893</td>\n",
              "      <td>-500.827423</td>\n",
              "      <td>8.071056</td>\n",
              "      <td>-500.801673</td>\n",
              "      <td>4.905125</td>\n",
              "      <td>-499.828510</td>\n",
              "      <td>24.994862</td>\n",
              "      <td>-500.622559</td>\n",
              "      <td>68.143213</td>\n",
              "      <td>88.412756</td>\n",
              "    </tr>\n",
              "    <tr>\n",
              "      <th>2016-09-01 03:59:59</th>\n",
              "      <td>215.336236</td>\n",
              "      <td>12.006805</td>\n",
              "      <td>7.640000</td>\n",
              "      <td>0.863514</td>\n",
              "      <td>1399.618111</td>\n",
              "      <td>-498.863574</td>\n",
              "      <td>1397.440120</td>\n",
              "      <td>-499.211024</td>\n",
              "      <td>1400.129303</td>\n",
              "      <td>-498.355873</td>\n",
              "      <td>1401.065165</td>\n",
              "      <td>-501.038738</td>\n",
              "      <td>12.400507</td>\n",
              "      <td>5.114758</td>\n",
              "      <td>476.618130</td>\n",
              "      <td>59.865919</td>\n",
              "      <td>41.060195</td>\n",
              "      <td>12.181597</td>\n",
              "      <td>16.532144</td>\n",
              "      <td>5.801935</td>\n",
              "      <td>16.515277</td>\n",
              "      <td>5.803657</td>\n",
              "      <td>1000.276604</td>\n",
              "      <td>-350.172597</td>\n",
              "      <td>1251.322675</td>\n",
              "      <td>-398.655289</td>\n",
              "      <td>1250.493702</td>\n",
              "      <td>-399.746728</td>\n",
              "      <td>1199.398691</td>\n",
              "      <td>-397.503052</td>\n",
              "      <td>1001.930679</td>\n",
              "      <td>-400.437573</td>\n",
              "      <td>950.735324</td>\n",
              "      <td>-399.802986</td>\n",
              "      <td>24.893998</td>\n",
              "      <td>-499.382374</td>\n",
              "      <td>14.916674</td>\n",
              "      <td>-499.862299</td>\n",
              "      <td>20.031100</td>\n",
              "      <td>-449.372570</td>\n",
              "      <td>14.013968</td>\n",
              "      <td>-449.526900</td>\n",
              "      <td>12.033091</td>\n",
              "      <td>-498.350935</td>\n",
              "      <td>8.074946</td>\n",
              "      <td>-499.474407</td>\n",
              "      <td>7.897085</td>\n",
              "      <td>-500.868509</td>\n",
              "      <td>4.931400</td>\n",
              "      <td>-499.963623</td>\n",
              "      <td>24.948919</td>\n",
              "      <td>-498.709987</td>\n",
              "      <td>67.776393</td>\n",
              "      <td>87.360133</td>\n",
              "    </tr>\n",
              "    <tr>\n",
              "      <th>2016-09-01 04:59:59</th>\n",
              "      <td>199.099327</td>\n",
              "      <td>10.682530</td>\n",
              "      <td>7.530000</td>\n",
              "      <td>0.805575</td>\n",
              "      <td>1401.268123</td>\n",
              "      <td>-500.808305</td>\n",
              "      <td>1398.128818</td>\n",
              "      <td>-499.504543</td>\n",
              "      <td>1402.172226</td>\n",
              "      <td>-500.810606</td>\n",
              "      <td>1399.480508</td>\n",
              "      <td>-499.374053</td>\n",
              "      <td>11.327427</td>\n",
              "      <td>4.767383</td>\n",
              "      <td>488.248117</td>\n",
              "      <td>63.315324</td>\n",
              "      <td>41.269161</td>\n",
              "      <td>11.290425</td>\n",
              "      <td>13.607257</td>\n",
              "      <td>5.738081</td>\n",
              "      <td>13.650053</td>\n",
              "      <td>5.739634</td>\n",
              "      <td>996.541302</td>\n",
              "      <td>-350.562517</td>\n",
              "      <td>1304.658848</td>\n",
              "      <td>-399.511519</td>\n",
              "      <td>1306.455515</td>\n",
              "      <td>-399.050685</td>\n",
              "      <td>1248.699349</td>\n",
              "      <td>-400.876894</td>\n",
              "      <td>1058.839106</td>\n",
              "      <td>-398.988239</td>\n",
              "      <td>949.645313</td>\n",
              "      <td>-399.277632</td>\n",
              "      <td>24.886905</td>\n",
              "      <td>-499.357375</td>\n",
              "      <td>14.979233</td>\n",
              "      <td>-500.186804</td>\n",
              "      <td>19.962364</td>\n",
              "      <td>-450.638828</td>\n",
              "      <td>14.009245</td>\n",
              "      <td>-450.022259</td>\n",
              "      <td>12.025367</td>\n",
              "      <td>-500.786497</td>\n",
              "      <td>8.054678</td>\n",
              "      <td>-500.397500</td>\n",
              "      <td>8.107890</td>\n",
              "      <td>-509.526725</td>\n",
              "      <td>4.957674</td>\n",
              "      <td>-500.360026</td>\n",
              "      <td>25.003331</td>\n",
              "      <td>-500.856333</td>\n",
              "      <td>61.467078</td>\n",
              "      <td>83.236367</td>\n",
              "    </tr>\n",
              "  </tbody>\n",
              "</table>\n",
              "</div>"
            ],
            "text/plain": [
              "                     primary_cleaner.input.sulfate  \\\n",
              "date                                                 \n",
              "2016-09-01 00:59:59                     210.800909   \n",
              "2016-09-01 01:59:59                     215.392455   \n",
              "2016-09-01 02:59:59                     215.259946   \n",
              "2016-09-01 03:59:59                     215.336236   \n",
              "2016-09-01 04:59:59                     199.099327   \n",
              "\n",
              "                     primary_cleaner.input.depressant  \\\n",
              "date                                                    \n",
              "2016-09-01 00:59:59                         14.993118   \n",
              "2016-09-01 01:59:59                         14.987471   \n",
              "2016-09-01 02:59:59                         12.884934   \n",
              "2016-09-01 03:59:59                         12.006805   \n",
              "2016-09-01 04:59:59                         10.682530   \n",
              "\n",
              "                     primary_cleaner.input.feed_size  \\\n",
              "date                                                   \n",
              "2016-09-01 00:59:59                         8.080000   \n",
              "2016-09-01 01:59:59                         8.080000   \n",
              "2016-09-01 02:59:59                         7.786667   \n",
              "2016-09-01 03:59:59                         7.640000   \n",
              "2016-09-01 04:59:59                         7.530000   \n",
              "\n",
              "                     primary_cleaner.input.xanthate  \\\n",
              "date                                                  \n",
              "2016-09-01 00:59:59                        1.005021   \n",
              "2016-09-01 01:59:59                        0.990469   \n",
              "2016-09-01 02:59:59                        0.996043   \n",
              "2016-09-01 03:59:59                        0.863514   \n",
              "2016-09-01 04:59:59                        0.805575   \n",
              "\n",
              "                     primary_cleaner.state.floatbank8_a_air  \\\n",
              "date                                                          \n",
              "2016-09-01 00:59:59                             1398.981301   \n",
              "2016-09-01 01:59:59                             1398.777912   \n",
              "2016-09-01 02:59:59                             1398.493666   \n",
              "2016-09-01 03:59:59                             1399.618111   \n",
              "2016-09-01 04:59:59                             1401.268123   \n",
              "\n",
              "                     primary_cleaner.state.floatbank8_a_level  \\\n",
              "date                                                            \n",
              "2016-09-01 00:59:59                               -500.225577   \n",
              "2016-09-01 01:59:59                               -500.057435   \n",
              "2016-09-01 02:59:59                               -500.868360   \n",
              "2016-09-01 03:59:59                               -498.863574   \n",
              "2016-09-01 04:59:59                               -500.808305   \n",
              "\n",
              "                     primary_cleaner.state.floatbank8_b_air  \\\n",
              "date                                                          \n",
              "2016-09-01 00:59:59                             1399.144926   \n",
              "2016-09-01 01:59:59                             1398.055362   \n",
              "2016-09-01 02:59:59                             1398.860436   \n",
              "2016-09-01 03:59:59                             1397.440120   \n",
              "2016-09-01 04:59:59                             1398.128818   \n",
              "\n",
              "                     primary_cleaner.state.floatbank8_b_level  \\\n",
              "date                                                            \n",
              "2016-09-01 00:59:59                               -499.919735   \n",
              "2016-09-01 01:59:59                               -499.778182   \n",
              "2016-09-01 02:59:59                               -499.764529   \n",
              "2016-09-01 03:59:59                               -499.211024   \n",
              "2016-09-01 04:59:59                               -499.504543   \n",
              "\n",
              "                     primary_cleaner.state.floatbank8_c_air  \\\n",
              "date                                                          \n",
              "2016-09-01 00:59:59                             1400.102998   \n",
              "2016-09-01 01:59:59                             1396.151033   \n",
              "2016-09-01 02:59:59                             1398.075709   \n",
              "2016-09-01 03:59:59                             1400.129303   \n",
              "2016-09-01 04:59:59                             1402.172226   \n",
              "\n",
              "                     primary_cleaner.state.floatbank8_c_level  \\\n",
              "date                                                            \n",
              "2016-09-01 00:59:59                               -500.704369   \n",
              "2016-09-01 01:59:59                               -499.240168   \n",
              "2016-09-01 02:59:59                               -502.151509   \n",
              "2016-09-01 03:59:59                               -498.355873   \n",
              "2016-09-01 04:59:59                               -500.810606   \n",
              "\n",
              "                     primary_cleaner.state.floatbank8_d_air  \\\n",
              "date                                                          \n",
              "2016-09-01 00:59:59                             1399.001695   \n",
              "2016-09-01 01:59:59                             1399.508091   \n",
              "2016-09-01 02:59:59                             1399.497088   \n",
              "2016-09-01 03:59:59                             1401.065165   \n",
              "2016-09-01 04:59:59                             1399.480508   \n",
              "\n",
              "                     primary_cleaner.state.floatbank8_d_level  \\\n",
              "date                                                            \n",
              "2016-09-01 00:59:59                               -499.485144   \n",
              "2016-09-01 01:59:59                               -500.416324   \n",
              "2016-09-01 02:59:59                               -499.715479   \n",
              "2016-09-01 03:59:59                               -501.038738   \n",
              "2016-09-01 04:59:59                               -499.374053   \n",
              "\n",
              "                     rougher.input.feed_ag  rougher.input.feed_pb  \\\n",
              "date                                                                \n",
              "2016-09-01 00:59:59              13.128569               5.636710   \n",
              "2016-09-01 01:59:59              13.036280               5.526065   \n",
              "2016-09-01 02:59:59              13.138412               5.426561   \n",
              "2016-09-01 03:59:59              12.400507               5.114758   \n",
              "2016-09-01 04:59:59              11.327427               4.767383   \n",
              "\n",
              "                     rougher.input.feed_rate  rougher.input.feed_size  \\\n",
              "date                                                                    \n",
              "2016-09-01 00:59:59               489.793655                62.710452   \n",
              "2016-09-01 01:59:59               490.104534                61.961163   \n",
              "2016-09-01 02:59:59               489.617969                66.903807   \n",
              "2016-09-01 03:59:59               476.618130                59.865919   \n",
              "2016-09-01 04:59:59               488.248117                63.315324   \n",
              "\n",
              "                     rougher.input.feed_sol  rougher.input.feed_au  \\\n",
              "date                                                                 \n",
              "2016-09-01 00:59:59               42.022440              12.084103   \n",
              "2016-09-01 01:59:59               41.187903              11.918977   \n",
              "2016-09-01 02:59:59               42.546294              12.091332   \n",
              "2016-09-01 03:59:59               41.060195              12.181597   \n",
              "2016-09-01 04:59:59               41.269161              11.290425   \n",
              "\n",
              "                     rougher.input.floatbank10_sulfate  \\\n",
              "date                                                     \n",
              "2016-09-01 00:59:59                          16.922877   \n",
              "2016-09-01 01:59:59                          17.002532   \n",
              "2016-09-01 02:59:59                          16.992520   \n",
              "2016-09-01 03:59:59                          16.532144   \n",
              "2016-09-01 04:59:59                          13.607257   \n",
              "\n",
              "                     rougher.input.floatbank10_xanthate  \\\n",
              "date                                                      \n",
              "2016-09-01 00:59:59                            6.153479   \n",
              "2016-09-01 01:59:59                            5.999043   \n",
              "2016-09-01 02:59:59                            5.850632   \n",
              "2016-09-01 03:59:59                            5.801935   \n",
              "2016-09-01 04:59:59                            5.738081   \n",
              "\n",
              "                     rougher.input.floatbank11_sulfate  \\\n",
              "date                                                     \n",
              "2016-09-01 00:59:59                          16.867518   \n",
              "2016-09-01 01:59:59                          16.996063   \n",
              "2016-09-01 02:59:59                          16.982096   \n",
              "2016-09-01 03:59:59                          16.515277   \n",
              "2016-09-01 04:59:59                          13.650053   \n",
              "\n",
              "                     rougher.input.floatbank11_xanthate  \\\n",
              "date                                                      \n",
              "2016-09-01 00:59:59                            6.150709   \n",
              "2016-09-01 01:59:59                            6.002315   \n",
              "2016-09-01 02:59:59                            5.853594   \n",
              "2016-09-01 03:59:59                            5.803657   \n",
              "2016-09-01 04:59:59                            5.739634   \n",
              "\n",
              "                     rougher.state.floatbank10_a_air  \\\n",
              "date                                                   \n",
              "2016-09-01 00:59:59                      1001.849317   \n",
              "2016-09-01 01:59:59                       998.690785   \n",
              "2016-09-01 02:59:59                       998.516720   \n",
              "2016-09-01 03:59:59                      1000.276604   \n",
              "2016-09-01 04:59:59                       996.541302   \n",
              "\n",
              "                     rougher.state.floatbank10_a_level  \\\n",
              "date                                                     \n",
              "2016-09-01 00:59:59                        -350.301265   \n",
              "2016-09-01 01:59:59                        -350.425704   \n",
              "2016-09-01 02:59:59                        -349.783538   \n",
              "2016-09-01 03:59:59                        -350.172597   \n",
              "2016-09-01 04:59:59                        -350.562517   \n",
              "\n",
              "                     rougher.state.floatbank10_b_air  \\\n",
              "date                                                   \n",
              "2016-09-01 00:59:59                      1249.738612   \n",
              "2016-09-01 01:59:59                      1248.395457   \n",
              "2016-09-01 02:59:59                      1247.440748   \n",
              "2016-09-01 03:59:59                      1251.322675   \n",
              "2016-09-01 04:59:59                      1304.658848   \n",
              "\n",
              "                     rougher.state.floatbank10_b_level  \\\n",
              "date                                                     \n",
              "2016-09-01 00:59:59                        -399.107531   \n",
              "2016-09-01 01:59:59                        -399.946025   \n",
              "2016-09-01 02:59:59                        -400.264330   \n",
              "2016-09-01 03:59:59                        -398.655289   \n",
              "2016-09-01 04:59:59                        -399.511519   \n",
              "\n",
              "                     rougher.state.floatbank10_c_air  \\\n",
              "date                                                   \n",
              "2016-09-01 00:59:59                      1249.750520   \n",
              "2016-09-01 01:59:59                      1249.514451   \n",
              "2016-09-01 02:59:59                      1248.207204   \n",
              "2016-09-01 03:59:59                      1250.493702   \n",
              "2016-09-01 04:59:59                      1306.455515   \n",
              "\n",
              "                     rougher.state.floatbank10_c_level  \\\n",
              "date                                                     \n",
              "2016-09-01 00:59:59                        -399.396730   \n",
              "2016-09-01 01:59:59                        -399.630810   \n",
              "2016-09-01 02:59:59                        -401.074405   \n",
              "2016-09-01 03:59:59                        -399.746728   \n",
              "2016-09-01 04:59:59                        -399.050685   \n",
              "\n",
              "                     rougher.state.floatbank10_d_air  \\\n",
              "date                                                   \n",
              "2016-09-01 00:59:59                      1198.287855   \n",
              "2016-09-01 01:59:59                      1200.506459   \n",
              "2016-09-01 02:59:59                      1199.770026   \n",
              "2016-09-01 03:59:59                      1199.398691   \n",
              "2016-09-01 04:59:59                      1248.699349   \n",
              "\n",
              "                     rougher.state.floatbank10_d_level  \\\n",
              "date                                                     \n",
              "2016-09-01 00:59:59                        -399.488594   \n",
              "2016-09-01 01:59:59                        -399.942434   \n",
              "2016-09-01 02:59:59                        -400.790582   \n",
              "2016-09-01 03:59:59                        -397.503052   \n",
              "2016-09-01 04:59:59                        -400.876894   \n",
              "\n",
              "                     rougher.state.floatbank10_e_air  \\\n",
              "date                                                   \n",
              "2016-09-01 00:59:59                       999.472250   \n",
              "2016-09-01 01:59:59                      1000.002114   \n",
              "2016-09-01 02:59:59                       999.925519   \n",
              "2016-09-01 03:59:59                      1001.930679   \n",
              "2016-09-01 04:59:59                      1058.839106   \n",
              "\n",
              "                     rougher.state.floatbank10_e_level  \\\n",
              "date                                                     \n",
              "2016-09-01 00:59:59                        -399.530962   \n",
              "2016-09-01 01:59:59                        -399.491528   \n",
              "2016-09-01 02:59:59                        -399.236999   \n",
              "2016-09-01 03:59:59                        -400.437573   \n",
              "2016-09-01 04:59:59                        -398.988239   \n",
              "\n",
              "                     rougher.state.floatbank10_f_air  \\\n",
              "date                                                   \n",
              "2016-09-01 00:59:59                       949.566189   \n",
              "2016-09-01 01:59:59                       950.200009   \n",
              "2016-09-01 02:59:59                       950.320481   \n",
              "2016-09-01 03:59:59                       950.735324   \n",
              "2016-09-01 04:59:59                       949.645313   \n",
              "\n",
              "                     rougher.state.floatbank10_f_level  \\\n",
              "date                                                     \n",
              "2016-09-01 00:59:59                        -398.180807   \n",
              "2016-09-01 01:59:59                        -405.787514   \n",
              "2016-09-01 02:59:59                        -400.864340   \n",
              "2016-09-01 03:59:59                        -399.802986   \n",
              "2016-09-01 04:59:59                        -399.277632   \n",
              "\n",
              "                     secondary_cleaner.state.floatbank2_a_air  \\\n",
              "date                                                            \n",
              "2016-09-01 00:59:59                                 24.938200   \n",
              "2016-09-01 01:59:59                                 24.923466   \n",
              "2016-09-01 02:59:59                                 24.908732   \n",
              "2016-09-01 03:59:59                                 24.893998   \n",
              "2016-09-01 04:59:59                                 24.886905   \n",
              "\n",
              "                     secondary_cleaner.state.floatbank2_a_level  \\\n",
              "date                                                              \n",
              "2016-09-01 00:59:59                                 -500.490963   \n",
              "2016-09-01 01:59:59                                 -499.813963   \n",
              "2016-09-01 02:59:59                                 -500.304035   \n",
              "2016-09-01 03:59:59                                 -499.382374   \n",
              "2016-09-01 04:59:59                                 -499.357375   \n",
              "\n",
              "                     secondary_cleaner.state.floatbank2_b_air  \\\n",
              "date                                                            \n",
              "2016-09-01 00:59:59                                 14.947607   \n",
              "2016-09-01 01:59:59                                 14.930873   \n",
              "2016-09-01 02:59:59                                 14.996511   \n",
              "2016-09-01 03:59:59                                 14.916674   \n",
              "2016-09-01 04:59:59                                 14.979233   \n",
              "\n",
              "                     secondary_cleaner.state.floatbank2_b_level  \\\n",
              "date                                                              \n",
              "2016-09-01 00:59:59                                 -500.013837   \n",
              "2016-09-01 01:59:59                                 -500.764452   \n",
              "2016-09-01 02:59:59                                 -500.993821   \n",
              "2016-09-01 03:59:59                                 -499.862299   \n",
              "2016-09-01 04:59:59                                 -500.186804   \n",
              "\n",
              "                     secondary_cleaner.state.floatbank3_a_air  \\\n",
              "date                                                            \n",
              "2016-09-01 00:59:59                                 20.018166   \n",
              "2016-09-01 01:59:59                                 19.988503   \n",
              "2016-09-01 02:59:59                                 20.039689   \n",
              "2016-09-01 03:59:59                                 20.031100   \n",
              "2016-09-01 04:59:59                                 19.962364   \n",
              "\n",
              "                     secondary_cleaner.state.floatbank3_a_level  \\\n",
              "date                                                              \n",
              "2016-09-01 00:59:59                                 -450.395995   \n",
              "2016-09-01 01:59:59                                 -450.114024   \n",
              "2016-09-01 02:59:59                                 -450.263164   \n",
              "2016-09-01 03:59:59                                 -449.372570   \n",
              "2016-09-01 04:59:59                                 -450.638828   \n",
              "\n",
              "                     secondary_cleaner.state.floatbank3_b_air  \\\n",
              "date                                                            \n",
              "2016-09-01 00:59:59                                 13.987058   \n",
              "2016-09-01 01:59:59                                 14.092981   \n",
              "2016-09-01 02:59:59                                 14.077881   \n",
              "2016-09-01 03:59:59                                 14.013968   \n",
              "2016-09-01 04:59:59                                 14.009245   \n",
              "\n",
              "                     secondary_cleaner.state.floatbank3_b_level  \\\n",
              "date                                                              \n",
              "2016-09-01 00:59:59                                 -449.831513   \n",
              "2016-09-01 01:59:59                                 -450.059163   \n",
              "2016-09-01 02:59:59                                 -449.660997   \n",
              "2016-09-01 03:59:59                                 -449.526900   \n",
              "2016-09-01 04:59:59                                 -450.022259   \n",
              "\n",
              "                     secondary_cleaner.state.floatbank4_a_air  \\\n",
              "date                                                            \n",
              "2016-09-01 00:59:59                                 12.023554   \n",
              "2016-09-01 01:59:59                                 12.058140   \n",
              "2016-09-01 02:59:59                                 11.962366   \n",
              "2016-09-01 03:59:59                                 12.033091   \n",
              "2016-09-01 04:59:59                                 12.025367   \n",
              "\n",
              "                     secondary_cleaner.state.floatbank4_a_level  \\\n",
              "date                                                              \n",
              "2016-09-01 00:59:59                                 -497.795834   \n",
              "2016-09-01 01:59:59                                 -498.695773   \n",
              "2016-09-01 02:59:59                                 -498.767484   \n",
              "2016-09-01 03:59:59                                 -498.350935   \n",
              "2016-09-01 04:59:59                                 -500.786497   \n",
              "\n",
              "                     secondary_cleaner.state.floatbank4_b_air  \\\n",
              "date                                                            \n",
              "2016-09-01 00:59:59                                  8.016656   \n",
              "2016-09-01 01:59:59                                  8.130979   \n",
              "2016-09-01 02:59:59                                  8.096893   \n",
              "2016-09-01 03:59:59                                  8.074946   \n",
              "2016-09-01 04:59:59                                  8.054678   \n",
              "\n",
              "                     secondary_cleaner.state.floatbank4_b_level  \\\n",
              "date                                                              \n",
              "2016-09-01 00:59:59                                 -501.289139   \n",
              "2016-09-01 01:59:59                                 -499.634209   \n",
              "2016-09-01 02:59:59                                 -500.827423   \n",
              "2016-09-01 03:59:59                                 -499.474407   \n",
              "2016-09-01 04:59:59                                 -500.397500   \n",
              "\n",
              "                     secondary_cleaner.state.floatbank5_a_air  \\\n",
              "date                                                            \n",
              "2016-09-01 00:59:59                                  7.946562   \n",
              "2016-09-01 01:59:59                                  7.958270   \n",
              "2016-09-01 02:59:59                                  8.071056   \n",
              "2016-09-01 03:59:59                                  7.897085   \n",
              "2016-09-01 04:59:59                                  8.107890   \n",
              "\n",
              "                     secondary_cleaner.state.floatbank5_a_level  \\\n",
              "date                                                              \n",
              "2016-09-01 00:59:59                                 -432.317850   \n",
              "2016-09-01 01:59:59                                 -525.839648   \n",
              "2016-09-01 02:59:59                                 -500.801673   \n",
              "2016-09-01 03:59:59                                 -500.868509   \n",
              "2016-09-01 04:59:59                                 -509.526725   \n",
              "\n",
              "                     secondary_cleaner.state.floatbank5_b_air  \\\n",
              "date                                                            \n",
              "2016-09-01 00:59:59                                  4.872511   \n",
              "2016-09-01 01:59:59                                  4.878850   \n",
              "2016-09-01 02:59:59                                  4.905125   \n",
              "2016-09-01 03:59:59                                  4.931400   \n",
              "2016-09-01 04:59:59                                  4.957674   \n",
              "\n",
              "                     secondary_cleaner.state.floatbank5_b_level  \\\n",
              "date                                                              \n",
              "2016-09-01 00:59:59                                 -500.037437   \n",
              "2016-09-01 01:59:59                                 -500.162375   \n",
              "2016-09-01 02:59:59                                 -499.828510   \n",
              "2016-09-01 03:59:59                                 -499.963623   \n",
              "2016-09-01 04:59:59                                 -500.360026   \n",
              "\n",
              "                     secondary_cleaner.state.floatbank6_a_air  \\\n",
              "date                                                            \n",
              "2016-09-01 00:59:59                                 26.705889   \n",
              "2016-09-01 01:59:59                                 25.019940   \n",
              "2016-09-01 02:59:59                                 24.994862   \n",
              "2016-09-01 03:59:59                                 24.948919   \n",
              "2016-09-01 04:59:59                                 25.003331   \n",
              "\n",
              "                     secondary_cleaner.state.floatbank6_a_level  \\\n",
              "date                                                              \n",
              "2016-09-01 00:59:59                                 -499.709414   \n",
              "2016-09-01 01:59:59                                 -499.819438   \n",
              "2016-09-01 02:59:59                                 -500.622559   \n",
              "2016-09-01 03:59:59                                 -498.709987   \n",
              "2016-09-01 04:59:59                                 -500.856333   \n",
              "\n",
              "                     final.output.recovery  rougher.output.recovery  \n",
              "date                                                                 \n",
              "2016-09-01 00:59:59              70.273583                89.993421  \n",
              "2016-09-01 01:59:59              68.910432                88.089657  \n",
              "2016-09-01 02:59:59              68.143213                88.412756  \n",
              "2016-09-01 03:59:59              67.776393                87.360133  \n",
              "2016-09-01 04:59:59              61.467078                83.236367  "
            ]
          },
          "metadata": {},
          "output_type": "display_data"
        }
      ],
      "source": [
        "gold_test = gold_test.join(gold_full[['final.output.recovery', 'rougher.output.recovery']], how='left')\n",
        "gold_test.shape\n",
        "display(gold_test.head())"
      ]
    },
    {
      "cell_type": "markdown",
      "metadata": {
        "id": "9mOYim08HxjG"
      },
      "source": [
        "**Вывод по блоку 1:**\n",
        "\n",
        "-- Во всех трех dataframe есть пропуски, которые заполнили методом \"предшествующих значений\".\n",
        "\n",
        "-- Дубликаты отсутствуют"
      ]
    },
    {
      "cell_type": "markdown",
      "metadata": {
        "id": "UqbDXIXdHxjH"
      },
      "source": [
        "## Анализ данных"
      ]
    },
    {
      "cell_type": "markdown",
      "metadata": {
        "id": "R4irSEtpHxjH"
      },
      "source": [
        "### Как меняется концентрация металлов (Au, Ag, Pb) на различных этапах очистки"
      ]
    },
    {
      "cell_type": "markdown",
      "metadata": {
        "id": "l-rnEz9WHxjI"
      },
      "source": [
        "Для оценки динамики изменения концентрации, необходимо посмотреть концентрацию (concentrate) на этапах:\n",
        "\n",
        "rougher - флотация,\n",
        "\n",
        "primary_cleaner - первичная очистка,\n",
        "\n",
        "secondary_cleaner - вторичная очистка,\n",
        "\n",
        "final - финальные характеристики.\n",
        "\n"
      ]
    },
    {
      "cell_type": "code",
      "execution_count": null,
      "metadata": {
        "id": "lBvTTVlZHxjI",
        "outputId": "2c1c4dbd-b1e1-4d43-d2c6-d9259c464c24"
      },
      "outputs": [
        {
          "data": {
            "text/plain": [
              "['final.output.concentrate_ag',\n",
              " 'final.output.concentrate_au',\n",
              " 'final.output.concentrate_pb',\n",
              " 'final.output.concentrate_sol',\n",
              " 'final.output.recovery',\n",
              " 'final.output.tail_ag',\n",
              " 'final.output.tail_au',\n",
              " 'final.output.tail_pb',\n",
              " 'final.output.tail_sol',\n",
              " 'primary_cleaner.input.depressant',\n",
              " 'primary_cleaner.input.feed_size',\n",
              " 'primary_cleaner.input.sulfate',\n",
              " 'primary_cleaner.input.xanthate',\n",
              " 'primary_cleaner.output.concentrate_ag',\n",
              " 'primary_cleaner.output.concentrate_au',\n",
              " 'primary_cleaner.output.concentrate_pb',\n",
              " 'primary_cleaner.output.concentrate_sol',\n",
              " 'primary_cleaner.output.tail_ag',\n",
              " 'primary_cleaner.output.tail_au',\n",
              " 'primary_cleaner.output.tail_pb',\n",
              " 'primary_cleaner.output.tail_sol',\n",
              " 'primary_cleaner.state.floatbank8_a_air',\n",
              " 'primary_cleaner.state.floatbank8_a_level',\n",
              " 'primary_cleaner.state.floatbank8_b_air',\n",
              " 'primary_cleaner.state.floatbank8_b_level',\n",
              " 'primary_cleaner.state.floatbank8_c_air',\n",
              " 'primary_cleaner.state.floatbank8_c_level',\n",
              " 'primary_cleaner.state.floatbank8_d_air',\n",
              " 'primary_cleaner.state.floatbank8_d_level',\n",
              " 'rougher.calculation.au_pb_ratio',\n",
              " 'rougher.calculation.floatbank10_sulfate_to_au_feed',\n",
              " 'rougher.calculation.floatbank11_sulfate_to_au_feed',\n",
              " 'rougher.calculation.sulfate_to_au_concentrate',\n",
              " 'rougher.input.feed_ag',\n",
              " 'rougher.input.feed_au',\n",
              " 'rougher.input.feed_pb',\n",
              " 'rougher.input.feed_rate',\n",
              " 'rougher.input.feed_size',\n",
              " 'rougher.input.feed_sol',\n",
              " 'rougher.input.floatbank10_sulfate',\n",
              " 'rougher.input.floatbank10_xanthate',\n",
              " 'rougher.input.floatbank11_sulfate',\n",
              " 'rougher.input.floatbank11_xanthate',\n",
              " 'rougher.output.concentrate_ag',\n",
              " 'rougher.output.concentrate_au',\n",
              " 'rougher.output.concentrate_pb',\n",
              " 'rougher.output.concentrate_sol',\n",
              " 'rougher.output.recovery',\n",
              " 'rougher.output.tail_ag',\n",
              " 'rougher.output.tail_au',\n",
              " 'rougher.output.tail_pb',\n",
              " 'rougher.output.tail_sol',\n",
              " 'rougher.state.floatbank10_a_air',\n",
              " 'rougher.state.floatbank10_a_level',\n",
              " 'rougher.state.floatbank10_b_air',\n",
              " 'rougher.state.floatbank10_b_level',\n",
              " 'rougher.state.floatbank10_c_air',\n",
              " 'rougher.state.floatbank10_c_level',\n",
              " 'rougher.state.floatbank10_d_air',\n",
              " 'rougher.state.floatbank10_d_level',\n",
              " 'rougher.state.floatbank10_e_air',\n",
              " 'rougher.state.floatbank10_e_level',\n",
              " 'rougher.state.floatbank10_f_air',\n",
              " 'rougher.state.floatbank10_f_level',\n",
              " 'secondary_cleaner.output.tail_ag',\n",
              " 'secondary_cleaner.output.tail_au',\n",
              " 'secondary_cleaner.output.tail_pb',\n",
              " 'secondary_cleaner.output.tail_sol',\n",
              " 'secondary_cleaner.state.floatbank2_a_air',\n",
              " 'secondary_cleaner.state.floatbank2_a_level',\n",
              " 'secondary_cleaner.state.floatbank2_b_air',\n",
              " 'secondary_cleaner.state.floatbank2_b_level',\n",
              " 'secondary_cleaner.state.floatbank3_a_air',\n",
              " 'secondary_cleaner.state.floatbank3_a_level',\n",
              " 'secondary_cleaner.state.floatbank3_b_air',\n",
              " 'secondary_cleaner.state.floatbank3_b_level',\n",
              " 'secondary_cleaner.state.floatbank4_a_air',\n",
              " 'secondary_cleaner.state.floatbank4_a_level',\n",
              " 'secondary_cleaner.state.floatbank4_b_air',\n",
              " 'secondary_cleaner.state.floatbank4_b_level',\n",
              " 'secondary_cleaner.state.floatbank5_a_air',\n",
              " 'secondary_cleaner.state.floatbank5_a_level',\n",
              " 'secondary_cleaner.state.floatbank5_b_air',\n",
              " 'secondary_cleaner.state.floatbank5_b_level',\n",
              " 'secondary_cleaner.state.floatbank6_a_air',\n",
              " 'secondary_cleaner.state.floatbank6_a_level']"
            ]
          },
          "execution_count": 66,
          "metadata": {},
          "output_type": "execute_result"
        }
      ],
      "source": [
        "# выведем все столбцы из файла \"исходные данные\", чтобы проще было отобрать нужные\n",
        "sorted(gold_full)"
      ]
    },
    {
      "cell_type": "markdown",
      "metadata": {
        "id": "sO5xhw1YHxjJ"
      },
      "source": [
        "Этап концентрации secondary_cleaner.concentrate в таблице отсутствует"
      ]
    },
    {
      "cell_type": "code",
      "execution_count": null,
      "metadata": {
        "id": "YJdIMEVgHxjJ",
        "outputId": "6da5c702-ccc1-405c-c219-72b984bcc6d4"
      },
      "outputs": [
        {
          "data": {
            "text/plain": [
              "rougher.input.feed_au                     8.125839\n",
              "rougher.output.concentrate_au            20.280214\n",
              "primary_cleaner.output.concentrate_au    32.841295\n",
              "final.output.concentrate_au              45.011244\n",
              "dtype: float64"
            ]
          },
          "metadata": {},
          "output_type": "display_data"
        }
      ],
      "source": [
        "# этапы для золота AU\n",
        "\n",
        "concentrate_au = gold_full[['rougher.input.feed_au',\n",
        "                            'rougher.output.concentrate_au',\n",
        "                           'primary_cleaner.output.concentrate_au',\n",
        "                           'final.output.concentrate_au']].median(axis=0)\n",
        "display(concentrate_au)"
      ]
    },
    {
      "cell_type": "code",
      "execution_count": null,
      "metadata": {
        "id": "o8_jnGz7HxjK",
        "outputId": "ffc690a5-c06b-49f1-b6f7-a345ca4bc6f2"
      },
      "outputs": [
        {
          "data": {
            "text/plain": [
              "rougher.input.feed_ag                     8.593574\n",
              "rougher.output.concentrate_ag            12.098115\n",
              "primary_cleaner.output.concentrate_ag     8.507298\n",
              "final.output.concentrate_ag               5.066039\n",
              "dtype: float64"
            ]
          },
          "metadata": {},
          "output_type": "display_data"
        }
      ],
      "source": [
        "# этапы для серебра AG\n",
        "\n",
        "concentrate_ag = gold_full[['rougher.input.feed_ag',\n",
        "                            'rougher.output.concentrate_ag',\n",
        "                           'primary_cleaner.output.concentrate_ag',\n",
        "                           'final.output.concentrate_ag']].median(axis=0)\n",
        "display(concentrate_ag)"
      ]
    },
    {
      "cell_type": "code",
      "execution_count": null,
      "metadata": {
        "id": "0NDS-BwDHxjK",
        "outputId": "56a0a3eb-7b3e-43e4-ce75-f88ae021c3ab"
      },
      "outputs": [
        {
          "data": {
            "text/plain": [
              "rougher.input.feed_pb                     3.528235\n",
              "rougher.output.concentrate_pb             7.742580\n",
              "primary_cleaner.output.concentrate_pb    10.140400\n",
              "final.output.concentrate_pb              10.102264\n",
              "dtype: float64"
            ]
          },
          "metadata": {},
          "output_type": "display_data"
        }
      ],
      "source": [
        "# этапы для свинца PB\n",
        "\n",
        "concentrate_pb = gold_full[['rougher.input.feed_pb',\n",
        "                            'rougher.output.concentrate_pb',\n",
        "                           'primary_cleaner.output.concentrate_pb',\n",
        "                           'final.output.concentrate_pb']].median(axis=0)\n",
        "display(concentrate_pb)"
      ]
    },
    {
      "cell_type": "code",
      "execution_count": null,
      "metadata": {
        "id": "8VsWbnSNHxjL",
        "outputId": "b737f531-eb98-4871-db8f-9a0441c850ce"
      },
      "outputs": [
        {
          "data": {
            "image/png": "[encoded data removed]",
            "text/plain": [
              "<Figure size 1080x576 with 1 Axes>"
            ]
          },
          "metadata": {
            "needs_background": "light"
          },
          "output_type": "display_data"
        }
      ],
      "source": [
        "# построим визуализацию получившихся значений\n",
        "fig = plt.figure(figsize=(15, 8))\n",
        "ax = fig.add_subplot()\n",
        "plt.title('Концентрация металлов на разных стадиях очистки')\n",
        "plt.xlabel('этапы обработки')\n",
        "plt.ylabel('концентрация металлов')\n",
        "\n",
        "x = np.arange(4)\n",
        "w = 0.3\n",
        "ax.bar(x - 1.5*w, concentrate_au, width=w)\n",
        "ax.bar(x - w/2, concentrate_ag, width=w)\n",
        "ax.bar(x + w/2, concentrate_pb, width=w)\n",
        "\n",
        "plt.xticks(x, ['rougher.input', 'rougher.output', 'primary_cleaner', 'final.output'])\n",
        "plt.legend(['Золото', 'Cеребро', 'Свинец'])\n",
        "plt.show()\n"
      ]
    },
    {
      "cell_type": "markdown",
      "metadata": {
        "id": "Meu6hvt9HxjN"
      },
      "source": [
        "**Вывод:**\n",
        "\n",
        "-- Мы видим, что сырье проходит 4 этапа очистки, при этом этапов флотации 2 (сырьевой и продуктовый).\n",
        "\n",
        "-- На первичном этапе металлы золота и серебра имеют схожую концентрацию, а у свинца она ниже почти в 2 раза.\n",
        "\n",
        "-- Концентрация золота с каждым этапом возрастает с высоким темпом.\n",
        "\n",
        "-- Концентрация серебра наоборот снижается к финальному этапу.\n",
        "\n",
        "-- Концентрация свинца растет медленно от этапа к этапу и на последних двух практически не меняется."
      ]
    },
    {
      "cell_type": "markdown",
      "metadata": {
        "id": "dNTCBVJ4HxjO"
      },
      "source": [
        "### Распределение размеров гранул сырья на обучающей и тестовой выборках"
      ]
    },
    {
      "cell_type": "code",
      "execution_count": null,
      "metadata": {
        "id": "N4beuL-dHxjP",
        "outputId": "d8f47d16-6cf8-48fd-a70f-d7a90c7b650c"
      },
      "outputs": [
        {
          "data": {
            "image/png": "[encoded data removed]",
            "text/plain": [
              "<Figure size 1080x576 with 1 Axes>"
            ]
          },
          "metadata": {
            "needs_background": "light"
          },
          "output_type": "display_data"
        }
      ],
      "source": [
        "# построим гистограмму распределения по столбцу 'rougher.input.feed_size'\n",
        "# для тестовой и обучающей выборок\n",
        "\n",
        "plt.title('Распределения размеров гранул сырья на этапе флотации', fontsize=15)\n",
        "plt.xlabel('размер гранул сырья', fontsize=15)\n",
        "plt.ylabel('плотность', fontsize=15)\n",
        "feed_train = gold_train['rougher.input.feed_size']\n",
        "feed_test = gold_test['rougher.input.feed_size']\n",
        "\n",
        "sns.histplot(feed_train, bins=50, color='red', label='обучающая', stat='density', common_norm=False)\n",
        "sns.histplot(feed_test, bins=50, color='lightblue', label='тестовая', stat='density', common_norm=False)\n",
        "plt.rcParams['figure.figsize'] = (20, 10)\n",
        "plt.legend(loc='upper right', fontsize=15)\n",
        "\n",
        "plt.show()\n"
      ]
    },
    {
      "cell_type": "markdown",
      "metadata": {
        "id": "in32J9mkHxjP"
      },
      "source": [
        "Также в нашем датасете есть столбец 'primary_cleaner.input.feed_size', который тоже отражает размеры гранул сырья уже на этапе первичной очистки.\n",
        "\n",
        "Посмотрим распределение по этому показателю."
      ]
    },
    {
      "cell_type": "code",
      "execution_count": null,
      "metadata": {
        "id": "FqBodaaYHxjQ",
        "outputId": "8ec409cb-d74b-4f36-d360-52c9743312ee"
      },
      "outputs": [
        {
          "data": {
            "image/png": "[encoded data removed]",
            "text/plain": [
              "<Figure size 1440x720 with 1 Axes>"
            ]
          },
          "metadata": {
            "needs_background": "light"
          },
          "output_type": "display_data"
        }
      ],
      "source": [
        "plt.title('Распределения размеров гранул сырья на этапе первичной очистки', fontsize=15)\n",
        "plt.xlabel('размер гранул сырья', fontsize=15)\n",
        "plt.ylabel('плотность', fontsize=15)\n",
        "size_train = gold_train['primary_cleaner.input.feed_size']\n",
        "size_test = gold_test['primary_cleaner.input.feed_size']\n",
        "\n",
        "sns.histplot(size_train, bins=30, color='red', label='обучающая', stat='density', common_norm=False)\n",
        "sns.histplot(size_test, bins=30, color='lightblue', label='тестовая', stat='density', common_norm=False)\n",
        "plt.rcParams['figure.figsize'] = (20, 10)\n",
        "plt.legend(loc='upper right', fontsize=15)\n",
        "\n",
        "plt.show()"
      ]
    },
    {
      "cell_type": "markdown",
      "metadata": {
        "id": "1N_Q-gKjHxjR"
      },
      "source": [
        "**Вывод:**\n",
        "\n",
        "-- На этих гистограммах визуализации разных этапов мы видим, что размер гранул с каждым этапом обработки уменьшается\n",
        "\n",
        "-- На этапе флотации как в обучающей выборке, так и в тестовой пики распределение отражены слева, а хвост распределения справа, что подтвержает факт о том, что размер гранул на этом этапе неоднородный.\n",
        "\n",
        "-- На этапе уже первичной очистки мы видим распределение, похожее на нормальное, как в тестовой, так и в обучающей выборках. Это дает нам понимание, что в дальнейшем оценка модели будет достоверной."
      ]
    },
    {
      "cell_type": "markdown",
      "metadata": {
        "id": "1c_SPk9hHxjT"
      },
      "source": [
        "### Оценка суммарной концентрации всех веществ на разных стадиях: в сырье, в черновом и финальном концентратах"
      ]
    },
    {
      "cell_type": "code",
      "execution_count": null,
      "metadata": {
        "id": "B7nZ0YMVHxjT",
        "outputId": "dd387d3b-c3f1-4b56-e615-d2611048ce84"
      },
      "outputs": [
        {
          "data": {
            "text/plain": [
              "['final.output.concentrate_ag',\n",
              " 'final.output.concentrate_au',\n",
              " 'final.output.concentrate_pb',\n",
              " 'final.output.concentrate_sol',\n",
              " 'final.output.recovery',\n",
              " 'final.output.tail_ag',\n",
              " 'final.output.tail_au',\n",
              " 'final.output.tail_pb',\n",
              " 'final.output.tail_sol',\n",
              " 'primary_cleaner.input.depressant',\n",
              " 'primary_cleaner.input.feed_size',\n",
              " 'primary_cleaner.input.sulfate',\n",
              " 'primary_cleaner.input.xanthate',\n",
              " 'primary_cleaner.output.concentrate_ag',\n",
              " 'primary_cleaner.output.concentrate_au',\n",
              " 'primary_cleaner.output.concentrate_pb',\n",
              " 'primary_cleaner.output.concentrate_sol',\n",
              " 'primary_cleaner.output.tail_ag',\n",
              " 'primary_cleaner.output.tail_au',\n",
              " 'primary_cleaner.output.tail_pb',\n",
              " 'primary_cleaner.output.tail_sol',\n",
              " 'primary_cleaner.state.floatbank8_a_air',\n",
              " 'primary_cleaner.state.floatbank8_a_level',\n",
              " 'primary_cleaner.state.floatbank8_b_air',\n",
              " 'primary_cleaner.state.floatbank8_b_level',\n",
              " 'primary_cleaner.state.floatbank8_c_air',\n",
              " 'primary_cleaner.state.floatbank8_c_level',\n",
              " 'primary_cleaner.state.floatbank8_d_air',\n",
              " 'primary_cleaner.state.floatbank8_d_level',\n",
              " 'rougher.calculation.au_pb_ratio',\n",
              " 'rougher.calculation.floatbank10_sulfate_to_au_feed',\n",
              " 'rougher.calculation.floatbank11_sulfate_to_au_feed',\n",
              " 'rougher.calculation.sulfate_to_au_concentrate',\n",
              " 'rougher.input.feed_ag',\n",
              " 'rougher.input.feed_au',\n",
              " 'rougher.input.feed_pb',\n",
              " 'rougher.input.feed_rate',\n",
              " 'rougher.input.feed_size',\n",
              " 'rougher.input.feed_sol',\n",
              " 'rougher.input.floatbank10_sulfate',\n",
              " 'rougher.input.floatbank10_xanthate',\n",
              " 'rougher.input.floatbank11_sulfate',\n",
              " 'rougher.input.floatbank11_xanthate',\n",
              " 'rougher.output.concentrate_ag',\n",
              " 'rougher.output.concentrate_au',\n",
              " 'rougher.output.concentrate_pb',\n",
              " 'rougher.output.concentrate_sol',\n",
              " 'rougher.output.recovery',\n",
              " 'rougher.output.tail_ag',\n",
              " 'rougher.output.tail_au',\n",
              " 'rougher.output.tail_pb',\n",
              " 'rougher.output.tail_sol',\n",
              " 'rougher.state.floatbank10_a_air',\n",
              " 'rougher.state.floatbank10_a_level',\n",
              " 'rougher.state.floatbank10_b_air',\n",
              " 'rougher.state.floatbank10_b_level',\n",
              " 'rougher.state.floatbank10_c_air',\n",
              " 'rougher.state.floatbank10_c_level',\n",
              " 'rougher.state.floatbank10_d_air',\n",
              " 'rougher.state.floatbank10_d_level',\n",
              " 'rougher.state.floatbank10_e_air',\n",
              " 'rougher.state.floatbank10_e_level',\n",
              " 'rougher.state.floatbank10_f_air',\n",
              " 'rougher.state.floatbank10_f_level',\n",
              " 'secondary_cleaner.output.tail_ag',\n",
              " 'secondary_cleaner.output.tail_au',\n",
              " 'secondary_cleaner.output.tail_pb',\n",
              " 'secondary_cleaner.output.tail_sol',\n",
              " 'secondary_cleaner.state.floatbank2_a_air',\n",
              " 'secondary_cleaner.state.floatbank2_a_level',\n",
              " 'secondary_cleaner.state.floatbank2_b_air',\n",
              " 'secondary_cleaner.state.floatbank2_b_level',\n",
              " 'secondary_cleaner.state.floatbank3_a_air',\n",
              " 'secondary_cleaner.state.floatbank3_a_level',\n",
              " 'secondary_cleaner.state.floatbank3_b_air',\n",
              " 'secondary_cleaner.state.floatbank3_b_level',\n",
              " 'secondary_cleaner.state.floatbank4_a_air',\n",
              " 'secondary_cleaner.state.floatbank4_a_level',\n",
              " 'secondary_cleaner.state.floatbank4_b_air',\n",
              " 'secondary_cleaner.state.floatbank4_b_level',\n",
              " 'secondary_cleaner.state.floatbank5_a_air',\n",
              " 'secondary_cleaner.state.floatbank5_a_level',\n",
              " 'secondary_cleaner.state.floatbank5_b_air',\n",
              " 'secondary_cleaner.state.floatbank5_b_level',\n",
              " 'secondary_cleaner.state.floatbank6_a_air',\n",
              " 'secondary_cleaner.state.floatbank6_a_level']"
            ]
          },
          "execution_count": 73,
          "metadata": {},
          "output_type": "execute_result"
        }
      ],
      "source": [
        "# выведем все столбцы из файла \"исходные данные\", чтобы проще было отобрать нужные\n",
        "sorted(gold_full)"
      ]
    },
    {
      "cell_type": "code",
      "execution_count": null,
      "metadata": {
        "id": "_1xIhEwZHxjU",
        "outputId": "d7cdd42a-5b69-413b-9a11-d895c239d085"
      },
      "outputs": [
        {
          "data": {
            "text/html": [
              "<div>\n",
              "<style scoped>\n",
              "    .dataframe tbody tr th:only-of-type {\n",
              "        vertical-align: middle;\n",
              "    }\n",
              "\n",
              "    .dataframe tbody tr th {\n",
              "        vertical-align: top;\n",
              "    }\n",
              "\n",
              "    .dataframe thead th {\n",
              "        text-align: right;\n",
              "    }\n",
              "</style>\n",
              "<table border=\"1\" class=\"dataframe\">\n",
              "  <thead>\n",
              "    <tr style=\"text-align: right;\">\n",
              "      <th></th>\n",
              "      <th>final.output.concentrate_ag</th>\n",
              "      <th>final.output.concentrate_pb</th>\n",
              "      <th>final.output.concentrate_sol</th>\n",
              "      <th>final.output.concentrate_au</th>\n",
              "      <th>final.output.recovery</th>\n",
              "      <th>final.output.tail_ag</th>\n",
              "      <th>final.output.tail_pb</th>\n",
              "      <th>final.output.tail_sol</th>\n",
              "      <th>final.output.tail_au</th>\n",
              "      <th>primary_cleaner.input.sulfate</th>\n",
              "      <th>primary_cleaner.input.depressant</th>\n",
              "      <th>primary_cleaner.input.feed_size</th>\n",
              "      <th>primary_cleaner.input.xanthate</th>\n",
              "      <th>primary_cleaner.output.concentrate_ag</th>\n",
              "      <th>primary_cleaner.output.concentrate_pb</th>\n",
              "      <th>primary_cleaner.output.concentrate_sol</th>\n",
              "      <th>primary_cleaner.output.concentrate_au</th>\n",
              "      <th>primary_cleaner.output.tail_ag</th>\n",
              "      <th>primary_cleaner.output.tail_pb</th>\n",
              "      <th>primary_cleaner.output.tail_sol</th>\n",
              "      <th>primary_cleaner.output.tail_au</th>\n",
              "      <th>primary_cleaner.state.floatbank8_a_air</th>\n",
              "      <th>primary_cleaner.state.floatbank8_a_level</th>\n",
              "      <th>primary_cleaner.state.floatbank8_b_air</th>\n",
              "      <th>primary_cleaner.state.floatbank8_b_level</th>\n",
              "      <th>primary_cleaner.state.floatbank8_c_air</th>\n",
              "      <th>primary_cleaner.state.floatbank8_c_level</th>\n",
              "      <th>primary_cleaner.state.floatbank8_d_air</th>\n",
              "      <th>primary_cleaner.state.floatbank8_d_level</th>\n",
              "      <th>rougher.calculation.sulfate_to_au_concentrate</th>\n",
              "      <th>rougher.calculation.floatbank10_sulfate_to_au_feed</th>\n",
              "      <th>rougher.calculation.floatbank11_sulfate_to_au_feed</th>\n",
              "      <th>rougher.calculation.au_pb_ratio</th>\n",
              "      <th>rougher.input.feed_ag</th>\n",
              "      <th>rougher.input.feed_pb</th>\n",
              "      <th>rougher.input.feed_rate</th>\n",
              "      <th>rougher.input.feed_size</th>\n",
              "      <th>rougher.input.feed_sol</th>\n",
              "      <th>rougher.input.feed_au</th>\n",
              "      <th>rougher.input.floatbank10_sulfate</th>\n",
              "      <th>rougher.input.floatbank10_xanthate</th>\n",
              "      <th>rougher.input.floatbank11_sulfate</th>\n",
              "      <th>rougher.input.floatbank11_xanthate</th>\n",
              "      <th>rougher.output.concentrate_ag</th>\n",
              "      <th>rougher.output.concentrate_pb</th>\n",
              "      <th>rougher.output.concentrate_sol</th>\n",
              "      <th>rougher.output.concentrate_au</th>\n",
              "      <th>rougher.output.recovery</th>\n",
              "      <th>rougher.output.tail_ag</th>\n",
              "      <th>rougher.output.tail_pb</th>\n",
              "      <th>rougher.output.tail_sol</th>\n",
              "      <th>rougher.output.tail_au</th>\n",
              "      <th>rougher.state.floatbank10_a_air</th>\n",
              "      <th>rougher.state.floatbank10_a_level</th>\n",
              "      <th>rougher.state.floatbank10_b_air</th>\n",
              "      <th>rougher.state.floatbank10_b_level</th>\n",
              "      <th>rougher.state.floatbank10_c_air</th>\n",
              "      <th>rougher.state.floatbank10_c_level</th>\n",
              "      <th>rougher.state.floatbank10_d_air</th>\n",
              "      <th>rougher.state.floatbank10_d_level</th>\n",
              "      <th>rougher.state.floatbank10_e_air</th>\n",
              "      <th>rougher.state.floatbank10_e_level</th>\n",
              "      <th>rougher.state.floatbank10_f_air</th>\n",
              "      <th>rougher.state.floatbank10_f_level</th>\n",
              "      <th>secondary_cleaner.output.tail_ag</th>\n",
              "      <th>secondary_cleaner.output.tail_pb</th>\n",
              "      <th>secondary_cleaner.output.tail_sol</th>\n",
              "      <th>secondary_cleaner.output.tail_au</th>\n",
              "      <th>secondary_cleaner.state.floatbank2_a_air</th>\n",
              "      <th>secondary_cleaner.state.floatbank2_a_level</th>\n",
              "      <th>secondary_cleaner.state.floatbank2_b_air</th>\n",
              "      <th>secondary_cleaner.state.floatbank2_b_level</th>\n",
              "      <th>secondary_cleaner.state.floatbank3_a_air</th>\n",
              "      <th>secondary_cleaner.state.floatbank3_a_level</th>\n",
              "      <th>secondary_cleaner.state.floatbank3_b_air</th>\n",
              "      <th>secondary_cleaner.state.floatbank3_b_level</th>\n",
              "      <th>secondary_cleaner.state.floatbank4_a_air</th>\n",
              "      <th>secondary_cleaner.state.floatbank4_a_level</th>\n",
              "      <th>secondary_cleaner.state.floatbank4_b_air</th>\n",
              "      <th>secondary_cleaner.state.floatbank4_b_level</th>\n",
              "      <th>secondary_cleaner.state.floatbank5_a_air</th>\n",
              "      <th>secondary_cleaner.state.floatbank5_a_level</th>\n",
              "      <th>secondary_cleaner.state.floatbank5_b_air</th>\n",
              "      <th>secondary_cleaner.state.floatbank5_b_level</th>\n",
              "      <th>secondary_cleaner.state.floatbank6_a_air</th>\n",
              "      <th>secondary_cleaner.state.floatbank6_a_level</th>\n",
              "      <th>sum_rougher_input</th>\n",
              "      <th>sum_rougher_output</th>\n",
              "      <th>sum_primary_cleaner</th>\n",
              "      <th>sum_final_output</th>\n",
              "    </tr>\n",
              "    <tr>\n",
              "      <th>date</th>\n",
              "      <th></th>\n",
              "      <th></th>\n",
              "      <th></th>\n",
              "      <th></th>\n",
              "      <th></th>\n",
              "      <th></th>\n",
              "      <th></th>\n",
              "      <th></th>\n",
              "      <th></th>\n",
              "      <th></th>\n",
              "      <th></th>\n",
              "      <th></th>\n",
              "      <th></th>\n",
              "      <th></th>\n",
              "      <th></th>\n",
              "      <th></th>\n",
              "      <th></th>\n",
              "      <th></th>\n",
              "      <th></th>\n",
              "      <th></th>\n",
              "      <th></th>\n",
              "      <th></th>\n",
              "      <th></th>\n",
              "      <th></th>\n",
              "      <th></th>\n",
              "      <th></th>\n",
              "      <th></th>\n",
              "      <th></th>\n",
              "      <th></th>\n",
              "      <th></th>\n",
              "      <th></th>\n",
              "      <th></th>\n",
              "      <th></th>\n",
              "      <th></th>\n",
              "      <th></th>\n",
              "      <th></th>\n",
              "      <th></th>\n",
              "      <th></th>\n",
              "      <th></th>\n",
              "      <th></th>\n",
              "      <th></th>\n",
              "      <th></th>\n",
              "      <th></th>\n",
              "      <th></th>\n",
              "      <th></th>\n",
              "      <th></th>\n",
              "      <th></th>\n",
              "      <th></th>\n",
              "      <th></th>\n",
              "      <th></th>\n",
              "      <th></th>\n",
              "      <th></th>\n",
              "      <th></th>\n",
              "      <th></th>\n",
              "      <th></th>\n",
              "      <th></th>\n",
              "      <th></th>\n",
              "      <th></th>\n",
              "      <th></th>\n",
              "      <th></th>\n",
              "      <th></th>\n",
              "      <th></th>\n",
              "      <th></th>\n",
              "      <th></th>\n",
              "      <th></th>\n",
              "      <th></th>\n",
              "      <th></th>\n",
              "      <th></th>\n",
              "      <th></th>\n",
              "      <th></th>\n",
              "      <th></th>\n",
              "      <th></th>\n",
              "      <th></th>\n",
              "      <th></th>\n",
              "      <th></th>\n",
              "      <th></th>\n",
              "      <th></th>\n",
              "      <th></th>\n",
              "      <th></th>\n",
              "      <th></th>\n",
              "      <th></th>\n",
              "      <th></th>\n",
              "      <th></th>\n",
              "      <th></th>\n",
              "      <th></th>\n",
              "      <th></th>\n",
              "      <th></th>\n",
              "      <th></th>\n",
              "      <th></th>\n",
              "      <th></th>\n",
              "    </tr>\n",
              "  </thead>\n",
              "  <tbody>\n",
              "    <tr>\n",
              "      <th>2016-01-15 00:00:00</th>\n",
              "      <td>6.055403</td>\n",
              "      <td>9.889648</td>\n",
              "      <td>5.507324</td>\n",
              "      <td>42.192020</td>\n",
              "      <td>70.541216</td>\n",
              "      <td>10.411962</td>\n",
              "      <td>0.895447</td>\n",
              "      <td>16.904297</td>\n",
              "      <td>2.143149</td>\n",
              "      <td>127.092003</td>\n",
              "      <td>10.128295</td>\n",
              "      <td>7.25</td>\n",
              "      <td>0.988759</td>\n",
              "      <td>8.547551</td>\n",
              "      <td>10.389648</td>\n",
              "      <td>19.529297</td>\n",
              "      <td>34.174427</td>\n",
              "      <td>14.936526</td>\n",
              "      <td>2.534912</td>\n",
              "      <td>7.476074</td>\n",
              "      <td>2.106679</td>\n",
              "      <td>1549.775757</td>\n",
              "      <td>-498.912140</td>\n",
              "      <td>1551.434204</td>\n",
              "      <td>-516.403442</td>\n",
              "      <td>1549.873901</td>\n",
              "      <td>-498.666595</td>\n",
              "      <td>1554.367432</td>\n",
              "      <td>-493.428131</td>\n",
              "      <td>41885.707031</td>\n",
              "      <td>3481.779053</td>\n",
              "      <td>3520.337158</td>\n",
              "      <td>2.838687</td>\n",
              "      <td>6.100378</td>\n",
              "      <td>2.284912</td>\n",
              "      <td>523.546326</td>\n",
              "      <td>55.486599</td>\n",
              "      <td>36.808594</td>\n",
              "      <td>6.486150</td>\n",
              "      <td>11.986616</td>\n",
              "      <td>6.007990</td>\n",
              "      <td>11.836743</td>\n",
              "      <td>6.005818</td>\n",
              "      <td>11.500771</td>\n",
              "      <td>7.101074</td>\n",
              "      <td>28.029297</td>\n",
              "      <td>19.793808</td>\n",
              "      <td>87.107763</td>\n",
              "      <td>5.008018</td>\n",
              "      <td>0.508728</td>\n",
              "      <td>19.154297</td>\n",
              "      <td>1.170244</td>\n",
              "      <td>999.706909</td>\n",
              "      <td>-404.066986</td>\n",
              "      <td>1603.011353</td>\n",
              "      <td>-434.715027</td>\n",
              "      <td>1602.375000</td>\n",
              "      <td>-442.204468</td>\n",
              "      <td>1598.937256</td>\n",
              "      <td>-451.294128</td>\n",
              "      <td>1404.472046</td>\n",
              "      <td>-455.462982</td>\n",
              "      <td>1416.354980</td>\n",
              "      <td>-451.939636</td>\n",
              "      <td>14.500184</td>\n",
              "      <td>4.694824</td>\n",
              "      <td>8.764648</td>\n",
              "      <td>2.606185</td>\n",
              "      <td>25.853109</td>\n",
              "      <td>-498.526489</td>\n",
              "      <td>23.893660</td>\n",
              "      <td>-501.406281</td>\n",
              "      <td>23.961798</td>\n",
              "      <td>-495.262817</td>\n",
              "      <td>21.940409</td>\n",
              "      <td>-499.340973</td>\n",
              "      <td>14.016835</td>\n",
              "      <td>-502.488007</td>\n",
              "      <td>12.099931</td>\n",
              "      <td>-504.715942</td>\n",
              "      <td>9.925633</td>\n",
              "      <td>-498.310211</td>\n",
              "      <td>8.079666</td>\n",
              "      <td>-500.470978</td>\n",
              "      <td>14.151341</td>\n",
              "      <td>-605.841980</td>\n",
              "      <td>51.680034</td>\n",
              "      <td>66.424950</td>\n",
              "      <td>72.640924</td>\n",
              "      <td>63.644396</td>\n",
              "    </tr>\n",
              "    <tr>\n",
              "      <th>2016-01-15 01:00:00</th>\n",
              "      <td>6.029369</td>\n",
              "      <td>9.968944</td>\n",
              "      <td>5.257781</td>\n",
              "      <td>42.701629</td>\n",
              "      <td>69.266198</td>\n",
              "      <td>10.462676</td>\n",
              "      <td>0.927452</td>\n",
              "      <td>16.634514</td>\n",
              "      <td>2.224930</td>\n",
              "      <td>125.629232</td>\n",
              "      <td>10.296251</td>\n",
              "      <td>7.25</td>\n",
              "      <td>1.002663</td>\n",
              "      <td>8.558743</td>\n",
              "      <td>10.497069</td>\n",
              "      <td>19.369147</td>\n",
              "      <td>34.118526</td>\n",
              "      <td>16.250511</td>\n",
              "      <td>3.049646</td>\n",
              "      <td>6.733907</td>\n",
              "      <td>2.353017</td>\n",
              "      <td>1576.166671</td>\n",
              "      <td>-500.904965</td>\n",
              "      <td>1575.950626</td>\n",
              "      <td>-499.865889</td>\n",
              "      <td>1575.994189</td>\n",
              "      <td>-499.315107</td>\n",
              "      <td>1574.479259</td>\n",
              "      <td>-498.931665</td>\n",
              "      <td>42050.861809</td>\n",
              "      <td>3498.370979</td>\n",
              "      <td>3489.981857</td>\n",
              "      <td>2.858998</td>\n",
              "      <td>6.161113</td>\n",
              "      <td>2.266033</td>\n",
              "      <td>525.290581</td>\n",
              "      <td>57.278666</td>\n",
              "      <td>35.753385</td>\n",
              "      <td>6.478583</td>\n",
              "      <td>11.971193</td>\n",
              "      <td>6.005766</td>\n",
              "      <td>11.996163</td>\n",
              "      <td>6.012594</td>\n",
              "      <td>11.615865</td>\n",
              "      <td>7.278807</td>\n",
              "      <td>28.067063</td>\n",
              "      <td>20.050975</td>\n",
              "      <td>86.843261</td>\n",
              "      <td>4.955378</td>\n",
              "      <td>0.536689</td>\n",
              "      <td>18.965234</td>\n",
              "      <td>1.184827</td>\n",
              "      <td>1000.286398</td>\n",
              "      <td>-400.065196</td>\n",
              "      <td>1600.754587</td>\n",
              "      <td>-449.953435</td>\n",
              "      <td>1600.479580</td>\n",
              "      <td>-449.830646</td>\n",
              "      <td>1600.527589</td>\n",
              "      <td>-449.953649</td>\n",
              "      <td>1399.227084</td>\n",
              "      <td>-450.869848</td>\n",
              "      <td>1399.719514</td>\n",
              "      <td>-450.119001</td>\n",
              "      <td>14.265474</td>\n",
              "      <td>4.592547</td>\n",
              "      <td>9.001494</td>\n",
              "      <td>2.488248</td>\n",
              "      <td>25.880539</td>\n",
              "      <td>-499.989656</td>\n",
              "      <td>23.889530</td>\n",
              "      <td>-500.372428</td>\n",
              "      <td>23.970550</td>\n",
              "      <td>-500.085473</td>\n",
              "      <td>22.085714</td>\n",
              "      <td>-499.446897</td>\n",
              "      <td>13.992281</td>\n",
              "      <td>-505.503262</td>\n",
              "      <td>11.950531</td>\n",
              "      <td>-501.331529</td>\n",
              "      <td>10.039245</td>\n",
              "      <td>-500.169983</td>\n",
              "      <td>7.984757</td>\n",
              "      <td>-500.582168</td>\n",
              "      <td>13.998353</td>\n",
              "      <td>-599.787184</td>\n",
              "      <td>50.659114</td>\n",
              "      <td>67.012710</td>\n",
              "      <td>72.543485</td>\n",
              "      <td>63.957723</td>\n",
              "    </tr>\n",
              "    <tr>\n",
              "      <th>2016-01-15 02:00:00</th>\n",
              "      <td>6.055926</td>\n",
              "      <td>10.213995</td>\n",
              "      <td>5.383759</td>\n",
              "      <td>42.657501</td>\n",
              "      <td>68.116445</td>\n",
              "      <td>10.507046</td>\n",
              "      <td>0.953716</td>\n",
              "      <td>16.208849</td>\n",
              "      <td>2.257889</td>\n",
              "      <td>123.819808</td>\n",
              "      <td>11.316280</td>\n",
              "      <td>7.25</td>\n",
              "      <td>0.991265</td>\n",
              "      <td>8.603505</td>\n",
              "      <td>10.354494</td>\n",
              "      <td>19.167579</td>\n",
              "      <td>33.969464</td>\n",
              "      <td>16.491823</td>\n",
              "      <td>3.124664</td>\n",
              "      <td>6.471768</td>\n",
              "      <td>2.416800</td>\n",
              "      <td>1601.556163</td>\n",
              "      <td>-499.997791</td>\n",
              "      <td>1600.386685</td>\n",
              "      <td>-500.607762</td>\n",
              "      <td>1602.003542</td>\n",
              "      <td>-500.870069</td>\n",
              "      <td>1599.541515</td>\n",
              "      <td>-499.827444</td>\n",
              "      <td>42018.101184</td>\n",
              "      <td>3495.348910</td>\n",
              "      <td>3502.359819</td>\n",
              "      <td>2.945989</td>\n",
              "      <td>6.116455</td>\n",
              "      <td>2.159622</td>\n",
              "      <td>530.026610</td>\n",
              "      <td>57.510649</td>\n",
              "      <td>35.971630</td>\n",
              "      <td>6.362222</td>\n",
              "      <td>11.920603</td>\n",
              "      <td>6.197377</td>\n",
              "      <td>11.920305</td>\n",
              "      <td>6.204633</td>\n",
              "      <td>11.695753</td>\n",
              "      <td>7.216833</td>\n",
              "      <td>27.454037</td>\n",
              "      <td>19.737170</td>\n",
              "      <td>86.842308</td>\n",
              "      <td>4.843460</td>\n",
              "      <td>0.546416</td>\n",
              "      <td>18.808533</td>\n",
              "      <td>1.162562</td>\n",
              "      <td>999.719565</td>\n",
              "      <td>-400.074028</td>\n",
              "      <td>1599.337330</td>\n",
              "      <td>-450.008530</td>\n",
              "      <td>1599.672797</td>\n",
              "      <td>-449.954491</td>\n",
              "      <td>1599.849325</td>\n",
              "      <td>-449.954185</td>\n",
              "      <td>1399.180945</td>\n",
              "      <td>-449.937588</td>\n",
              "      <td>1400.316682</td>\n",
              "      <td>-450.527147</td>\n",
              "      <td>14.115662</td>\n",
              "      <td>4.624775</td>\n",
              "      <td>8.842896</td>\n",
              "      <td>2.458187</td>\n",
              "      <td>26.005245</td>\n",
              "      <td>-499.929616</td>\n",
              "      <td>23.886657</td>\n",
              "      <td>-499.951928</td>\n",
              "      <td>23.913535</td>\n",
              "      <td>-499.442343</td>\n",
              "      <td>23.957717</td>\n",
              "      <td>-499.901982</td>\n",
              "      <td>14.015015</td>\n",
              "      <td>-502.520901</td>\n",
              "      <td>11.912783</td>\n",
              "      <td>-501.133383</td>\n",
              "      <td>10.070913</td>\n",
              "      <td>-500.129135</td>\n",
              "      <td>8.013877</td>\n",
              "      <td>-500.517572</td>\n",
              "      <td>14.028663</td>\n",
              "      <td>-601.427363</td>\n",
              "      <td>50.609929</td>\n",
              "      <td>66.103793</td>\n",
              "      <td>72.095042</td>\n",
              "      <td>64.311180</td>\n",
              "    </tr>\n",
              "    <tr>\n",
              "      <th>2016-01-15 03:00:00</th>\n",
              "      <td>6.047977</td>\n",
              "      <td>9.977019</td>\n",
              "      <td>4.858634</td>\n",
              "      <td>42.689819</td>\n",
              "      <td>68.347543</td>\n",
              "      <td>10.422762</td>\n",
              "      <td>0.883763</td>\n",
              "      <td>16.532835</td>\n",
              "      <td>2.146849</td>\n",
              "      <td>122.270188</td>\n",
              "      <td>11.322140</td>\n",
              "      <td>7.25</td>\n",
              "      <td>0.996739</td>\n",
              "      <td>7.221879</td>\n",
              "      <td>8.496563</td>\n",
              "      <td>15.978538</td>\n",
              "      <td>28.260743</td>\n",
              "      <td>16.024359</td>\n",
              "      <td>2.960362</td>\n",
              "      <td>6.843791</td>\n",
              "      <td>2.262051</td>\n",
              "      <td>1599.968720</td>\n",
              "      <td>-500.951778</td>\n",
              "      <td>1600.659236</td>\n",
              "      <td>-499.677094</td>\n",
              "      <td>1600.304144</td>\n",
              "      <td>-500.727997</td>\n",
              "      <td>1600.449520</td>\n",
              "      <td>-500.052575</td>\n",
              "      <td>42029.447991</td>\n",
              "      <td>3498.578313</td>\n",
              "      <td>3499.162912</td>\n",
              "      <td>3.002340</td>\n",
              "      <td>6.043309</td>\n",
              "      <td>2.037807</td>\n",
              "      <td>542.590390</td>\n",
              "      <td>57.792734</td>\n",
              "      <td>36.862241</td>\n",
              "      <td>6.118189</td>\n",
              "      <td>11.630094</td>\n",
              "      <td>6.203177</td>\n",
              "      <td>11.692450</td>\n",
              "      <td>6.196578</td>\n",
              "      <td>11.915047</td>\n",
              "      <td>7.175616</td>\n",
              "      <td>27.341277</td>\n",
              "      <td>19.320810</td>\n",
              "      <td>87.226430</td>\n",
              "      <td>4.655288</td>\n",
              "      <td>0.542525</td>\n",
              "      <td>19.330200</td>\n",
              "      <td>1.079755</td>\n",
              "      <td>999.814770</td>\n",
              "      <td>-400.200179</td>\n",
              "      <td>1600.059442</td>\n",
              "      <td>-450.619948</td>\n",
              "      <td>1600.012842</td>\n",
              "      <td>-449.910497</td>\n",
              "      <td>1597.725177</td>\n",
              "      <td>-450.130127</td>\n",
              "      <td>1400.943157</td>\n",
              "      <td>-450.030142</td>\n",
              "      <td>1400.234743</td>\n",
              "      <td>-449.790835</td>\n",
              "      <td>13.732071</td>\n",
              "      <td>4.482453</td>\n",
              "      <td>9.122857</td>\n",
              "      <td>2.322062</td>\n",
              "      <td>25.942508</td>\n",
              "      <td>-499.176749</td>\n",
              "      <td>23.955516</td>\n",
              "      <td>-499.848796</td>\n",
              "      <td>23.966838</td>\n",
              "      <td>-500.008812</td>\n",
              "      <td>23.954443</td>\n",
              "      <td>-499.944710</td>\n",
              "      <td>14.036510</td>\n",
              "      <td>-500.857308</td>\n",
              "      <td>11.999550</td>\n",
              "      <td>-501.193686</td>\n",
              "      <td>9.970366</td>\n",
              "      <td>-499.201640</td>\n",
              "      <td>7.977324</td>\n",
              "      <td>-500.255908</td>\n",
              "      <td>14.005551</td>\n",
              "      <td>-599.996129</td>\n",
              "      <td>51.061546</td>\n",
              "      <td>65.752751</td>\n",
              "      <td>59.957723</td>\n",
              "      <td>63.573449</td>\n",
              "    </tr>\n",
              "    <tr>\n",
              "      <th>2016-01-15 04:00:00</th>\n",
              "      <td>6.148599</td>\n",
              "      <td>10.142511</td>\n",
              "      <td>4.939416</td>\n",
              "      <td>42.774141</td>\n",
              "      <td>66.927016</td>\n",
              "      <td>10.360302</td>\n",
              "      <td>0.792826</td>\n",
              "      <td>16.525686</td>\n",
              "      <td>2.055292</td>\n",
              "      <td>117.988169</td>\n",
              "      <td>11.913613</td>\n",
              "      <td>7.25</td>\n",
              "      <td>1.009869</td>\n",
              "      <td>9.089428</td>\n",
              "      <td>9.986786</td>\n",
              "      <td>19.199864</td>\n",
              "      <td>33.044932</td>\n",
              "      <td>16.480185</td>\n",
              "      <td>3.112100</td>\n",
              "      <td>6.550154</td>\n",
              "      <td>2.277073</td>\n",
              "      <td>1601.339707</td>\n",
              "      <td>-498.975456</td>\n",
              "      <td>1601.437854</td>\n",
              "      <td>-500.323246</td>\n",
              "      <td>1599.581894</td>\n",
              "      <td>-500.888152</td>\n",
              "      <td>1602.649541</td>\n",
              "      <td>-500.593010</td>\n",
              "      <td>42125.354245</td>\n",
              "      <td>3494.800771</td>\n",
              "      <td>3506.679315</td>\n",
              "      <td>3.169615</td>\n",
              "      <td>6.060915</td>\n",
              "      <td>1.786875</td>\n",
              "      <td>540.531893</td>\n",
              "      <td>56.047189</td>\n",
              "      <td>34.347666</td>\n",
              "      <td>5.663707</td>\n",
              "      <td>10.957755</td>\n",
              "      <td>6.198826</td>\n",
              "      <td>10.960521</td>\n",
              "      <td>6.194897</td>\n",
              "      <td>12.411054</td>\n",
              "      <td>7.240205</td>\n",
              "      <td>27.041023</td>\n",
              "      <td>19.216101</td>\n",
              "      <td>86.688794</td>\n",
              "      <td>4.552800</td>\n",
              "      <td>0.515438</td>\n",
              "      <td>19.267422</td>\n",
              "      <td>1.012642</td>\n",
              "      <td>999.678690</td>\n",
              "      <td>-399.752729</td>\n",
              "      <td>1600.208824</td>\n",
              "      <td>-449.599614</td>\n",
              "      <td>1600.357732</td>\n",
              "      <td>-450.034364</td>\n",
              "      <td>1599.759049</td>\n",
              "      <td>-449.909799</td>\n",
              "      <td>1401.560902</td>\n",
              "      <td>-448.877187</td>\n",
              "      <td>1401.160227</td>\n",
              "      <td>-450.407128</td>\n",
              "      <td>14.079996</td>\n",
              "      <td>4.470737</td>\n",
              "      <td>8.871028</td>\n",
              "      <td>2.330448</td>\n",
              "      <td>26.024787</td>\n",
              "      <td>-500.279091</td>\n",
              "      <td>23.955345</td>\n",
              "      <td>-500.593614</td>\n",
              "      <td>23.985703</td>\n",
              "      <td>-500.083811</td>\n",
              "      <td>23.958945</td>\n",
              "      <td>-499.990309</td>\n",
              "      <td>14.027298</td>\n",
              "      <td>-499.838632</td>\n",
              "      <td>11.953070</td>\n",
              "      <td>-501.053894</td>\n",
              "      <td>9.925709</td>\n",
              "      <td>-501.686727</td>\n",
              "      <td>7.894242</td>\n",
              "      <td>-500.356035</td>\n",
              "      <td>13.996647</td>\n",
              "      <td>-601.496691</td>\n",
              "      <td>47.859163</td>\n",
              "      <td>65.908382</td>\n",
              "      <td>71.321010</td>\n",
              "      <td>64.004667</td>\n",
              "    </tr>\n",
              "  </tbody>\n",
              "</table>\n",
              "</div>"
            ],
            "text/plain": [
              "                     final.output.concentrate_ag  final.output.concentrate_pb  \\\n",
              "date                                                                            \n",
              "2016-01-15 00:00:00                     6.055403                     9.889648   \n",
              "2016-01-15 01:00:00                     6.029369                     9.968944   \n",
              "2016-01-15 02:00:00                     6.055926                    10.213995   \n",
              "2016-01-15 03:00:00                     6.047977                     9.977019   \n",
              "2016-01-15 04:00:00                     6.148599                    10.142511   \n",
              "\n",
              "                     final.output.concentrate_sol  \\\n",
              "date                                                \n",
              "2016-01-15 00:00:00                      5.507324   \n",
              "2016-01-15 01:00:00                      5.257781   \n",
              "2016-01-15 02:00:00                      5.383759   \n",
              "2016-01-15 03:00:00                      4.858634   \n",
              "2016-01-15 04:00:00                      4.939416   \n",
              "\n",
              "                     final.output.concentrate_au  final.output.recovery  \\\n",
              "date                                                                      \n",
              "2016-01-15 00:00:00                    42.192020              70.541216   \n",
              "2016-01-15 01:00:00                    42.701629              69.266198   \n",
              "2016-01-15 02:00:00                    42.657501              68.116445   \n",
              "2016-01-15 03:00:00                    42.689819              68.347543   \n",
              "2016-01-15 04:00:00                    42.774141              66.927016   \n",
              "\n",
              "                     final.output.tail_ag  final.output.tail_pb  \\\n",
              "date                                                              \n",
              "2016-01-15 00:00:00             10.411962              0.895447   \n",
              "2016-01-15 01:00:00             10.462676              0.927452   \n",
              "2016-01-15 02:00:00             10.507046              0.953716   \n",
              "2016-01-15 03:00:00             10.422762              0.883763   \n",
              "2016-01-15 04:00:00             10.360302              0.792826   \n",
              "\n",
              "                     final.output.tail_sol  final.output.tail_au  \\\n",
              "date                                                               \n",
              "2016-01-15 00:00:00              16.904297              2.143149   \n",
              "2016-01-15 01:00:00              16.634514              2.224930   \n",
              "2016-01-15 02:00:00              16.208849              2.257889   \n",
              "2016-01-15 03:00:00              16.532835              2.146849   \n",
              "2016-01-15 04:00:00              16.525686              2.055292   \n",
              "\n",
              "                     primary_cleaner.input.sulfate  \\\n",
              "date                                                 \n",
              "2016-01-15 00:00:00                     127.092003   \n",
              "2016-01-15 01:00:00                     125.629232   \n",
              "2016-01-15 02:00:00                     123.819808   \n",
              "2016-01-15 03:00:00                     122.270188   \n",
              "2016-01-15 04:00:00                     117.988169   \n",
              "\n",
              "                     primary_cleaner.input.depressant  \\\n",
              "date                                                    \n",
              "2016-01-15 00:00:00                         10.128295   \n",
              "2016-01-15 01:00:00                         10.296251   \n",
              "2016-01-15 02:00:00                         11.316280   \n",
              "2016-01-15 03:00:00                         11.322140   \n",
              "2016-01-15 04:00:00                         11.913613   \n",
              "\n",
              "                     primary_cleaner.input.feed_size  \\\n",
              "date                                                   \n",
              "2016-01-15 00:00:00                             7.25   \n",
              "2016-01-15 01:00:00                             7.25   \n",
              "2016-01-15 02:00:00                             7.25   \n",
              "2016-01-15 03:00:00                             7.25   \n",
              "2016-01-15 04:00:00                             7.25   \n",
              "\n",
              "                     primary_cleaner.input.xanthate  \\\n",
              "date                                                  \n",
              "2016-01-15 00:00:00                        0.988759   \n",
              "2016-01-15 01:00:00                        1.002663   \n",
              "2016-01-15 02:00:00                        0.991265   \n",
              "2016-01-15 03:00:00                        0.996739   \n",
              "2016-01-15 04:00:00                        1.009869   \n",
              "\n",
              "                     primary_cleaner.output.concentrate_ag  \\\n",
              "date                                                         \n",
              "2016-01-15 00:00:00                               8.547551   \n",
              "2016-01-15 01:00:00                               8.558743   \n",
              "2016-01-15 02:00:00                               8.603505   \n",
              "2016-01-15 03:00:00                               7.221879   \n",
              "2016-01-15 04:00:00                               9.089428   \n",
              "\n",
              "                     primary_cleaner.output.concentrate_pb  \\\n",
              "date                                                         \n",
              "2016-01-15 00:00:00                              10.389648   \n",
              "2016-01-15 01:00:00                              10.497069   \n",
              "2016-01-15 02:00:00                              10.354494   \n",
              "2016-01-15 03:00:00                               8.496563   \n",
              "2016-01-15 04:00:00                               9.986786   \n",
              "\n",
              "                     primary_cleaner.output.concentrate_sol  \\\n",
              "date                                                          \n",
              "2016-01-15 00:00:00                               19.529297   \n",
              "2016-01-15 01:00:00                               19.369147   \n",
              "2016-01-15 02:00:00                               19.167579   \n",
              "2016-01-15 03:00:00                               15.978538   \n",
              "2016-01-15 04:00:00                               19.199864   \n",
              "\n",
              "                     primary_cleaner.output.concentrate_au  \\\n",
              "date                                                         \n",
              "2016-01-15 00:00:00                              34.174427   \n",
              "2016-01-15 01:00:00                              34.118526   \n",
              "2016-01-15 02:00:00                              33.969464   \n",
              "2016-01-15 03:00:00                              28.260743   \n",
              "2016-01-15 04:00:00                              33.044932   \n",
              "\n",
              "                     primary_cleaner.output.tail_ag  \\\n",
              "date                                                  \n",
              "2016-01-15 00:00:00                       14.936526   \n",
              "2016-01-15 01:00:00                       16.250511   \n",
              "2016-01-15 02:00:00                       16.491823   \n",
              "2016-01-15 03:00:00                       16.024359   \n",
              "2016-01-15 04:00:00                       16.480185   \n",
              "\n",
              "                     primary_cleaner.output.tail_pb  \\\n",
              "date                                                  \n",
              "2016-01-15 00:00:00                        2.534912   \n",
              "2016-01-15 01:00:00                        3.049646   \n",
              "2016-01-15 02:00:00                        3.124664   \n",
              "2016-01-15 03:00:00                        2.960362   \n",
              "2016-01-15 04:00:00                        3.112100   \n",
              "\n",
              "                     primary_cleaner.output.tail_sol  \\\n",
              "date                                                   \n",
              "2016-01-15 00:00:00                         7.476074   \n",
              "2016-01-15 01:00:00                         6.733907   \n",
              "2016-01-15 02:00:00                         6.471768   \n",
              "2016-01-15 03:00:00                         6.843791   \n",
              "2016-01-15 04:00:00                         6.550154   \n",
              "\n",
              "                     primary_cleaner.output.tail_au  \\\n",
              "date                                                  \n",
              "2016-01-15 00:00:00                        2.106679   \n",
              "2016-01-15 01:00:00                        2.353017   \n",
              "2016-01-15 02:00:00                        2.416800   \n",
              "2016-01-15 03:00:00                        2.262051   \n",
              "2016-01-15 04:00:00                        2.277073   \n",
              "\n",
              "                     primary_cleaner.state.floatbank8_a_air  \\\n",
              "date                                                          \n",
              "2016-01-15 00:00:00                             1549.775757   \n",
              "2016-01-15 01:00:00                             1576.166671   \n",
              "2016-01-15 02:00:00                             1601.556163   \n",
              "2016-01-15 03:00:00                             1599.968720   \n",
              "2016-01-15 04:00:00                             1601.339707   \n",
              "\n",
              "                     primary_cleaner.state.floatbank8_a_level  \\\n",
              "date                                                            \n",
              "2016-01-15 00:00:00                               -498.912140   \n",
              "2016-01-15 01:00:00                               -500.904965   \n",
              "2016-01-15 02:00:00                               -499.997791   \n",
              "2016-01-15 03:00:00                               -500.951778   \n",
              "2016-01-15 04:00:00                               -498.975456   \n",
              "\n",
              "                     primary_cleaner.state.floatbank8_b_air  \\\n",
              "date                                                          \n",
              "2016-01-15 00:00:00                             1551.434204   \n",
              "2016-01-15 01:00:00                             1575.950626   \n",
              "2016-01-15 02:00:00                             1600.386685   \n",
              "2016-01-15 03:00:00                             1600.659236   \n",
              "2016-01-15 04:00:00                             1601.437854   \n",
              "\n",
              "                     primary_cleaner.state.floatbank8_b_level  \\\n",
              "date                                                            \n",
              "2016-01-15 00:00:00                               -516.403442   \n",
              "2016-01-15 01:00:00                               -499.865889   \n",
              "2016-01-15 02:00:00                               -500.607762   \n",
              "2016-01-15 03:00:00                               -499.677094   \n",
              "2016-01-15 04:00:00                               -500.323246   \n",
              "\n",
              "                     primary_cleaner.state.floatbank8_c_air  \\\n",
              "date                                                          \n",
              "2016-01-15 00:00:00                             1549.873901   \n",
              "2016-01-15 01:00:00                             1575.994189   \n",
              "2016-01-15 02:00:00                             1602.003542   \n",
              "2016-01-15 03:00:00                             1600.304144   \n",
              "2016-01-15 04:00:00                             1599.581894   \n",
              "\n",
              "                     primary_cleaner.state.floatbank8_c_level  \\\n",
              "date                                                            \n",
              "2016-01-15 00:00:00                               -498.666595   \n",
              "2016-01-15 01:00:00                               -499.315107   \n",
              "2016-01-15 02:00:00                               -500.870069   \n",
              "2016-01-15 03:00:00                               -500.727997   \n",
              "2016-01-15 04:00:00                               -500.888152   \n",
              "\n",
              "                     primary_cleaner.state.floatbank8_d_air  \\\n",
              "date                                                          \n",
              "2016-01-15 00:00:00                             1554.367432   \n",
              "2016-01-15 01:00:00                             1574.479259   \n",
              "2016-01-15 02:00:00                             1599.541515   \n",
              "2016-01-15 03:00:00                             1600.449520   \n",
              "2016-01-15 04:00:00                             1602.649541   \n",
              "\n",
              "                     primary_cleaner.state.floatbank8_d_level  \\\n",
              "date                                                            \n",
              "2016-01-15 00:00:00                               -493.428131   \n",
              "2016-01-15 01:00:00                               -498.931665   \n",
              "2016-01-15 02:00:00                               -499.827444   \n",
              "2016-01-15 03:00:00                               -500.052575   \n",
              "2016-01-15 04:00:00                               -500.593010   \n",
              "\n",
              "                     rougher.calculation.sulfate_to_au_concentrate  \\\n",
              "date                                                                 \n",
              "2016-01-15 00:00:00                                   41885.707031   \n",
              "2016-01-15 01:00:00                                   42050.861809   \n",
              "2016-01-15 02:00:00                                   42018.101184   \n",
              "2016-01-15 03:00:00                                   42029.447991   \n",
              "2016-01-15 04:00:00                                   42125.354245   \n",
              "\n",
              "                     rougher.calculation.floatbank10_sulfate_to_au_feed  \\\n",
              "date                                                                      \n",
              "2016-01-15 00:00:00                                        3481.779053    \n",
              "2016-01-15 01:00:00                                        3498.370979    \n",
              "2016-01-15 02:00:00                                        3495.348910    \n",
              "2016-01-15 03:00:00                                        3498.578313    \n",
              "2016-01-15 04:00:00                                        3494.800771    \n",
              "\n",
              "                     rougher.calculation.floatbank11_sulfate_to_au_feed  \\\n",
              "date                                                                      \n",
              "2016-01-15 00:00:00                                        3520.337158    \n",
              "2016-01-15 01:00:00                                        3489.981857    \n",
              "2016-01-15 02:00:00                                        3502.359819    \n",
              "2016-01-15 03:00:00                                        3499.162912    \n",
              "2016-01-15 04:00:00                                        3506.679315    \n",
              "\n",
              "                     rougher.calculation.au_pb_ratio  rougher.input.feed_ag  \\\n",
              "date                                                                          \n",
              "2016-01-15 00:00:00                         2.838687               6.100378   \n",
              "2016-01-15 01:00:00                         2.858998               6.161113   \n",
              "2016-01-15 02:00:00                         2.945989               6.116455   \n",
              "2016-01-15 03:00:00                         3.002340               6.043309   \n",
              "2016-01-15 04:00:00                         3.169615               6.060915   \n",
              "\n",
              "                     rougher.input.feed_pb  rougher.input.feed_rate  \\\n",
              "date                                                                  \n",
              "2016-01-15 00:00:00               2.284912               523.546326   \n",
              "2016-01-15 01:00:00               2.266033               525.290581   \n",
              "2016-01-15 02:00:00               2.159622               530.026610   \n",
              "2016-01-15 03:00:00               2.037807               542.590390   \n",
              "2016-01-15 04:00:00               1.786875               540.531893   \n",
              "\n",
              "                     rougher.input.feed_size  rougher.input.feed_sol  \\\n",
              "date                                                                   \n",
              "2016-01-15 00:00:00                55.486599               36.808594   \n",
              "2016-01-15 01:00:00                57.278666               35.753385   \n",
              "2016-01-15 02:00:00                57.510649               35.971630   \n",
              "2016-01-15 03:00:00                57.792734               36.862241   \n",
              "2016-01-15 04:00:00                56.047189               34.347666   \n",
              "\n",
              "                     rougher.input.feed_au  rougher.input.floatbank10_sulfate  \\\n",
              "date                                                                            \n",
              "2016-01-15 00:00:00               6.486150                          11.986616   \n",
              "2016-01-15 01:00:00               6.478583                          11.971193   \n",
              "2016-01-15 02:00:00               6.362222                          11.920603   \n",
              "2016-01-15 03:00:00               6.118189                          11.630094   \n",
              "2016-01-15 04:00:00               5.663707                          10.957755   \n",
              "\n",
              "                     rougher.input.floatbank10_xanthate  \\\n",
              "date                                                      \n",
              "2016-01-15 00:00:00                            6.007990   \n",
              "2016-01-15 01:00:00                            6.005766   \n",
              "2016-01-15 02:00:00                            6.197377   \n",
              "2016-01-15 03:00:00                            6.203177   \n",
              "2016-01-15 04:00:00                            6.198826   \n",
              "\n",
              "                     rougher.input.floatbank11_sulfate  \\\n",
              "date                                                     \n",
              "2016-01-15 00:00:00                          11.836743   \n",
              "2016-01-15 01:00:00                          11.996163   \n",
              "2016-01-15 02:00:00                          11.920305   \n",
              "2016-01-15 03:00:00                          11.692450   \n",
              "2016-01-15 04:00:00                          10.960521   \n",
              "\n",
              "                     rougher.input.floatbank11_xanthate  \\\n",
              "date                                                      \n",
              "2016-01-15 00:00:00                            6.005818   \n",
              "2016-01-15 01:00:00                            6.012594   \n",
              "2016-01-15 02:00:00                            6.204633   \n",
              "2016-01-15 03:00:00                            6.196578   \n",
              "2016-01-15 04:00:00                            6.194897   \n",
              "\n",
              "                     rougher.output.concentrate_ag  \\\n",
              "date                                                 \n",
              "2016-01-15 00:00:00                      11.500771   \n",
              "2016-01-15 01:00:00                      11.615865   \n",
              "2016-01-15 02:00:00                      11.695753   \n",
              "2016-01-15 03:00:00                      11.915047   \n",
              "2016-01-15 04:00:00                      12.411054   \n",
              "\n",
              "                     rougher.output.concentrate_pb  \\\n",
              "date                                                 \n",
              "2016-01-15 00:00:00                       7.101074   \n",
              "2016-01-15 01:00:00                       7.278807   \n",
              "2016-01-15 02:00:00                       7.216833   \n",
              "2016-01-15 03:00:00                       7.175616   \n",
              "2016-01-15 04:00:00                       7.240205   \n",
              "\n",
              "                     rougher.output.concentrate_sol  \\\n",
              "date                                                  \n",
              "2016-01-15 00:00:00                       28.029297   \n",
              "2016-01-15 01:00:00                       28.067063   \n",
              "2016-01-15 02:00:00                       27.454037   \n",
              "2016-01-15 03:00:00                       27.341277   \n",
              "2016-01-15 04:00:00                       27.041023   \n",
              "\n",
              "                     rougher.output.concentrate_au  rougher.output.recovery  \\\n",
              "date                                                                          \n",
              "2016-01-15 00:00:00                      19.793808                87.107763   \n",
              "2016-01-15 01:00:00                      20.050975                86.843261   \n",
              "2016-01-15 02:00:00                      19.737170                86.842308   \n",
              "2016-01-15 03:00:00                      19.320810                87.226430   \n",
              "2016-01-15 04:00:00                      19.216101                86.688794   \n",
              "\n",
              "                     rougher.output.tail_ag  rougher.output.tail_pb  \\\n",
              "date                                                                  \n",
              "2016-01-15 00:00:00                5.008018                0.508728   \n",
              "2016-01-15 01:00:00                4.955378                0.536689   \n",
              "2016-01-15 02:00:00                4.843460                0.546416   \n",
              "2016-01-15 03:00:00                4.655288                0.542525   \n",
              "2016-01-15 04:00:00                4.552800                0.515438   \n",
              "\n",
              "                     rougher.output.tail_sol  rougher.output.tail_au  \\\n",
              "date                                                                   \n",
              "2016-01-15 00:00:00                19.154297                1.170244   \n",
              "2016-01-15 01:00:00                18.965234                1.184827   \n",
              "2016-01-15 02:00:00                18.808533                1.162562   \n",
              "2016-01-15 03:00:00                19.330200                1.079755   \n",
              "2016-01-15 04:00:00                19.267422                1.012642   \n",
              "\n",
              "                     rougher.state.floatbank10_a_air  \\\n",
              "date                                                   \n",
              "2016-01-15 00:00:00                       999.706909   \n",
              "2016-01-15 01:00:00                      1000.286398   \n",
              "2016-01-15 02:00:00                       999.719565   \n",
              "2016-01-15 03:00:00                       999.814770   \n",
              "2016-01-15 04:00:00                       999.678690   \n",
              "\n",
              "                     rougher.state.floatbank10_a_level  \\\n",
              "date                                                     \n",
              "2016-01-15 00:00:00                        -404.066986   \n",
              "2016-01-15 01:00:00                        -400.065196   \n",
              "2016-01-15 02:00:00                        -400.074028   \n",
              "2016-01-15 03:00:00                        -400.200179   \n",
              "2016-01-15 04:00:00                        -399.752729   \n",
              "\n",
              "                     rougher.state.floatbank10_b_air  \\\n",
              "date                                                   \n",
              "2016-01-15 00:00:00                      1603.011353   \n",
              "2016-01-15 01:00:00                      1600.754587   \n",
              "2016-01-15 02:00:00                      1599.337330   \n",
              "2016-01-15 03:00:00                      1600.059442   \n",
              "2016-01-15 04:00:00                      1600.208824   \n",
              "\n",
              "                     rougher.state.floatbank10_b_level  \\\n",
              "date                                                     \n",
              "2016-01-15 00:00:00                        -434.715027   \n",
              "2016-01-15 01:00:00                        -449.953435   \n",
              "2016-01-15 02:00:00                        -450.008530   \n",
              "2016-01-15 03:00:00                        -450.619948   \n",
              "2016-01-15 04:00:00                        -449.599614   \n",
              "\n",
              "                     rougher.state.floatbank10_c_air  \\\n",
              "date                                                   \n",
              "2016-01-15 00:00:00                      1602.375000   \n",
              "2016-01-15 01:00:00                      1600.479580   \n",
              "2016-01-15 02:00:00                      1599.672797   \n",
              "2016-01-15 03:00:00                      1600.012842   \n",
              "2016-01-15 04:00:00                      1600.357732   \n",
              "\n",
              "                     rougher.state.floatbank10_c_level  \\\n",
              "date                                                     \n",
              "2016-01-15 00:00:00                        -442.204468   \n",
              "2016-01-15 01:00:00                        -449.830646   \n",
              "2016-01-15 02:00:00                        -449.954491   \n",
              "2016-01-15 03:00:00                        -449.910497   \n",
              "2016-01-15 04:00:00                        -450.034364   \n",
              "\n",
              "                     rougher.state.floatbank10_d_air  \\\n",
              "date                                                   \n",
              "2016-01-15 00:00:00                      1598.937256   \n",
              "2016-01-15 01:00:00                      1600.527589   \n",
              "2016-01-15 02:00:00                      1599.849325   \n",
              "2016-01-15 03:00:00                      1597.725177   \n",
              "2016-01-15 04:00:00                      1599.759049   \n",
              "\n",
              "                     rougher.state.floatbank10_d_level  \\\n",
              "date                                                     \n",
              "2016-01-15 00:00:00                        -451.294128   \n",
              "2016-01-15 01:00:00                        -449.953649   \n",
              "2016-01-15 02:00:00                        -449.954185   \n",
              "2016-01-15 03:00:00                        -450.130127   \n",
              "2016-01-15 04:00:00                        -449.909799   \n",
              "\n",
              "                     rougher.state.floatbank10_e_air  \\\n",
              "date                                                   \n",
              "2016-01-15 00:00:00                      1404.472046   \n",
              "2016-01-15 01:00:00                      1399.227084   \n",
              "2016-01-15 02:00:00                      1399.180945   \n",
              "2016-01-15 03:00:00                      1400.943157   \n",
              "2016-01-15 04:00:00                      1401.560902   \n",
              "\n",
              "                     rougher.state.floatbank10_e_level  \\\n",
              "date                                                     \n",
              "2016-01-15 00:00:00                        -455.462982   \n",
              "2016-01-15 01:00:00                        -450.869848   \n",
              "2016-01-15 02:00:00                        -449.937588   \n",
              "2016-01-15 03:00:00                        -450.030142   \n",
              "2016-01-15 04:00:00                        -448.877187   \n",
              "\n",
              "                     rougher.state.floatbank10_f_air  \\\n",
              "date                                                   \n",
              "2016-01-15 00:00:00                      1416.354980   \n",
              "2016-01-15 01:00:00                      1399.719514   \n",
              "2016-01-15 02:00:00                      1400.316682   \n",
              "2016-01-15 03:00:00                      1400.234743   \n",
              "2016-01-15 04:00:00                      1401.160227   \n",
              "\n",
              "                     rougher.state.floatbank10_f_level  \\\n",
              "date                                                     \n",
              "2016-01-15 00:00:00                        -451.939636   \n",
              "2016-01-15 01:00:00                        -450.119001   \n",
              "2016-01-15 02:00:00                        -450.527147   \n",
              "2016-01-15 03:00:00                        -449.790835   \n",
              "2016-01-15 04:00:00                        -450.407128   \n",
              "\n",
              "                     secondary_cleaner.output.tail_ag  \\\n",
              "date                                                    \n",
              "2016-01-15 00:00:00                         14.500184   \n",
              "2016-01-15 01:00:00                         14.265474   \n",
              "2016-01-15 02:00:00                         14.115662   \n",
              "2016-01-15 03:00:00                         13.732071   \n",
              "2016-01-15 04:00:00                         14.079996   \n",
              "\n",
              "                     secondary_cleaner.output.tail_pb  \\\n",
              "date                                                    \n",
              "2016-01-15 00:00:00                          4.694824   \n",
              "2016-01-15 01:00:00                          4.592547   \n",
              "2016-01-15 02:00:00                          4.624775   \n",
              "2016-01-15 03:00:00                          4.482453   \n",
              "2016-01-15 04:00:00                          4.470737   \n",
              "\n",
              "                     secondary_cleaner.output.tail_sol  \\\n",
              "date                                                     \n",
              "2016-01-15 00:00:00                           8.764648   \n",
              "2016-01-15 01:00:00                           9.001494   \n",
              "2016-01-15 02:00:00                           8.842896   \n",
              "2016-01-15 03:00:00                           9.122857   \n",
              "2016-01-15 04:00:00                           8.871028   \n",
              "\n",
              "                     secondary_cleaner.output.tail_au  \\\n",
              "date                                                    \n",
              "2016-01-15 00:00:00                          2.606185   \n",
              "2016-01-15 01:00:00                          2.488248   \n",
              "2016-01-15 02:00:00                          2.458187   \n",
              "2016-01-15 03:00:00                          2.322062   \n",
              "2016-01-15 04:00:00                          2.330448   \n",
              "\n",
              "                     secondary_cleaner.state.floatbank2_a_air  \\\n",
              "date                                                            \n",
              "2016-01-15 00:00:00                                 25.853109   \n",
              "2016-01-15 01:00:00                                 25.880539   \n",
              "2016-01-15 02:00:00                                 26.005245   \n",
              "2016-01-15 03:00:00                                 25.942508   \n",
              "2016-01-15 04:00:00                                 26.024787   \n",
              "\n",
              "                     secondary_cleaner.state.floatbank2_a_level  \\\n",
              "date                                                              \n",
              "2016-01-15 00:00:00                                 -498.526489   \n",
              "2016-01-15 01:00:00                                 -499.989656   \n",
              "2016-01-15 02:00:00                                 -499.929616   \n",
              "2016-01-15 03:00:00                                 -499.176749   \n",
              "2016-01-15 04:00:00                                 -500.279091   \n",
              "\n",
              "                     secondary_cleaner.state.floatbank2_b_air  \\\n",
              "date                                                            \n",
              "2016-01-15 00:00:00                                 23.893660   \n",
              "2016-01-15 01:00:00                                 23.889530   \n",
              "2016-01-15 02:00:00                                 23.886657   \n",
              "2016-01-15 03:00:00                                 23.955516   \n",
              "2016-01-15 04:00:00                                 23.955345   \n",
              "\n",
              "                     secondary_cleaner.state.floatbank2_b_level  \\\n",
              "date                                                              \n",
              "2016-01-15 00:00:00                                 -501.406281   \n",
              "2016-01-15 01:00:00                                 -500.372428   \n",
              "2016-01-15 02:00:00                                 -499.951928   \n",
              "2016-01-15 03:00:00                                 -499.848796   \n",
              "2016-01-15 04:00:00                                 -500.593614   \n",
              "\n",
              "                     secondary_cleaner.state.floatbank3_a_air  \\\n",
              "date                                                            \n",
              "2016-01-15 00:00:00                                 23.961798   \n",
              "2016-01-15 01:00:00                                 23.970550   \n",
              "2016-01-15 02:00:00                                 23.913535   \n",
              "2016-01-15 03:00:00                                 23.966838   \n",
              "2016-01-15 04:00:00                                 23.985703   \n",
              "\n",
              "                     secondary_cleaner.state.floatbank3_a_level  \\\n",
              "date                                                              \n",
              "2016-01-15 00:00:00                                 -495.262817   \n",
              "2016-01-15 01:00:00                                 -500.085473   \n",
              "2016-01-15 02:00:00                                 -499.442343   \n",
              "2016-01-15 03:00:00                                 -500.008812   \n",
              "2016-01-15 04:00:00                                 -500.083811   \n",
              "\n",
              "                     secondary_cleaner.state.floatbank3_b_air  \\\n",
              "date                                                            \n",
              "2016-01-15 00:00:00                                 21.940409   \n",
              "2016-01-15 01:00:00                                 22.085714   \n",
              "2016-01-15 02:00:00                                 23.957717   \n",
              "2016-01-15 03:00:00                                 23.954443   \n",
              "2016-01-15 04:00:00                                 23.958945   \n",
              "\n",
              "                     secondary_cleaner.state.floatbank3_b_level  \\\n",
              "date                                                              \n",
              "2016-01-15 00:00:00                                 -499.340973   \n",
              "2016-01-15 01:00:00                                 -499.446897   \n",
              "2016-01-15 02:00:00                                 -499.901982   \n",
              "2016-01-15 03:00:00                                 -499.944710   \n",
              "2016-01-15 04:00:00                                 -499.990309   \n",
              "\n",
              "                     secondary_cleaner.state.floatbank4_a_air  \\\n",
              "date                                                            \n",
              "2016-01-15 00:00:00                                 14.016835   \n",
              "2016-01-15 01:00:00                                 13.992281   \n",
              "2016-01-15 02:00:00                                 14.015015   \n",
              "2016-01-15 03:00:00                                 14.036510   \n",
              "2016-01-15 04:00:00                                 14.027298   \n",
              "\n",
              "                     secondary_cleaner.state.floatbank4_a_level  \\\n",
              "date                                                              \n",
              "2016-01-15 00:00:00                                 -502.488007   \n",
              "2016-01-15 01:00:00                                 -505.503262   \n",
              "2016-01-15 02:00:00                                 -502.520901   \n",
              "2016-01-15 03:00:00                                 -500.857308   \n",
              "2016-01-15 04:00:00                                 -499.838632   \n",
              "\n",
              "                     secondary_cleaner.state.floatbank4_b_air  \\\n",
              "date                                                            \n",
              "2016-01-15 00:00:00                                 12.099931   \n",
              "2016-01-15 01:00:00                                 11.950531   \n",
              "2016-01-15 02:00:00                                 11.912783   \n",
              "2016-01-15 03:00:00                                 11.999550   \n",
              "2016-01-15 04:00:00                                 11.953070   \n",
              "\n",
              "                     secondary_cleaner.state.floatbank4_b_level  \\\n",
              "date                                                              \n",
              "2016-01-15 00:00:00                                 -504.715942   \n",
              "2016-01-15 01:00:00                                 -501.331529   \n",
              "2016-01-15 02:00:00                                 -501.133383   \n",
              "2016-01-15 03:00:00                                 -501.193686   \n",
              "2016-01-15 04:00:00                                 -501.053894   \n",
              "\n",
              "                     secondary_cleaner.state.floatbank5_a_air  \\\n",
              "date                                                            \n",
              "2016-01-15 00:00:00                                  9.925633   \n",
              "2016-01-15 01:00:00                                 10.039245   \n",
              "2016-01-15 02:00:00                                 10.070913   \n",
              "2016-01-15 03:00:00                                  9.970366   \n",
              "2016-01-15 04:00:00                                  9.925709   \n",
              "\n",
              "                     secondary_cleaner.state.floatbank5_a_level  \\\n",
              "date                                                              \n",
              "2016-01-15 00:00:00                                 -498.310211   \n",
              "2016-01-15 01:00:00                                 -500.169983   \n",
              "2016-01-15 02:00:00                                 -500.129135   \n",
              "2016-01-15 03:00:00                                 -499.201640   \n",
              "2016-01-15 04:00:00                                 -501.686727   \n",
              "\n",
              "                     secondary_cleaner.state.floatbank5_b_air  \\\n",
              "date                                                            \n",
              "2016-01-15 00:00:00                                  8.079666   \n",
              "2016-01-15 01:00:00                                  7.984757   \n",
              "2016-01-15 02:00:00                                  8.013877   \n",
              "2016-01-15 03:00:00                                  7.977324   \n",
              "2016-01-15 04:00:00                                  7.894242   \n",
              "\n",
              "                     secondary_cleaner.state.floatbank5_b_level  \\\n",
              "date                                                              \n",
              "2016-01-15 00:00:00                                 -500.470978   \n",
              "2016-01-15 01:00:00                                 -500.582168   \n",
              "2016-01-15 02:00:00                                 -500.517572   \n",
              "2016-01-15 03:00:00                                 -500.255908   \n",
              "2016-01-15 04:00:00                                 -500.356035   \n",
              "\n",
              "                     secondary_cleaner.state.floatbank6_a_air  \\\n",
              "date                                                            \n",
              "2016-01-15 00:00:00                                 14.151341   \n",
              "2016-01-15 01:00:00                                 13.998353   \n",
              "2016-01-15 02:00:00                                 14.028663   \n",
              "2016-01-15 03:00:00                                 14.005551   \n",
              "2016-01-15 04:00:00                                 13.996647   \n",
              "\n",
              "                     secondary_cleaner.state.floatbank6_a_level  \\\n",
              "date                                                              \n",
              "2016-01-15 00:00:00                                 -605.841980   \n",
              "2016-01-15 01:00:00                                 -599.787184   \n",
              "2016-01-15 02:00:00                                 -601.427363   \n",
              "2016-01-15 03:00:00                                 -599.996129   \n",
              "2016-01-15 04:00:00                                 -601.496691   \n",
              "\n",
              "                     sum_rougher_input  sum_rougher_output  \\\n",
              "date                                                         \n",
              "2016-01-15 00:00:00          51.680034           66.424950   \n",
              "2016-01-15 01:00:00          50.659114           67.012710   \n",
              "2016-01-15 02:00:00          50.609929           66.103793   \n",
              "2016-01-15 03:00:00          51.061546           65.752751   \n",
              "2016-01-15 04:00:00          47.859163           65.908382   \n",
              "\n",
              "                     sum_primary_cleaner  sum_final_output  \n",
              "date                                                        \n",
              "2016-01-15 00:00:00            72.640924         63.644396  \n",
              "2016-01-15 01:00:00            72.543485         63.957723  \n",
              "2016-01-15 02:00:00            72.095042         64.311180  \n",
              "2016-01-15 03:00:00            59.957723         63.573449  \n",
              "2016-01-15 04:00:00            71.321010         64.004667  "
            ]
          },
          "metadata": {},
          "output_type": "display_data"
        }
      ],
      "source": [
        "# считаем суммарную концентрацию веществ по каждому виду металла на разных этапах\n",
        "\n",
        "gold_full['sum_rougher_input'] = gold_full['rougher.input.feed_ag'] + gold_full['rougher.input.feed_au'] + gold_full['rougher.input.feed_pb'] + gold_full['rougher.input.feed_sol']\n",
        "\n",
        "gold_full['sum_rougher_output'] = gold_full['rougher.output.concentrate_ag'] + gold_full['rougher.output.concentrate_au'] + gold_full['rougher.output.concentrate_pb'] + gold_full['rougher.output.concentrate_sol']\n",
        "\n",
        "gold_full['sum_primary_cleaner'] = gold_full['primary_cleaner.output.concentrate_ag'] + gold_full['primary_cleaner.output.concentrate_au'] + gold_full['primary_cleaner.output.concentrate_pb'] + gold_full['primary_cleaner.output.concentrate_sol']\n",
        "\n",
        "gold_full['sum_final_output'] = gold_full['final.output.concentrate_ag'] + gold_full['final.output.concentrate_au'] + gold_full['final.output.concentrate_pb'] + gold_full['final.output.concentrate_sol']\n",
        "display(gold_full.head())\n",
        "\n"
      ]
    },
    {
      "cell_type": "code",
      "execution_count": null,
      "metadata": {
        "id": "X_dJRldPHxjU",
        "outputId": "4bcb78a7-e376-4057-a487-d29d90b61ee0"
      },
      "outputs": [
        {
          "data": {
            "image/png": "[encoded data removed]",
            "text/plain": [
              "<Figure size 1440x720 with 1 Axes>"
            ]
          },
          "metadata": {
            "needs_background": "light"
          },
          "output_type": "display_data"
        }
      ],
      "source": [
        "# построим гистограмму распределения по новым столбцам\n",
        "\n",
        "plt.title('Суммарная концентрация всех веществ на разных стадиях', fontsize=15)\n",
        "plt.xlabel('концентрация веществ', fontsize=10)\n",
        "plt.ylabel('частота', fontsize=10)\n",
        "\n",
        "stage_1 = gold_full['sum_rougher_input']\n",
        "stage_2 = gold_full['sum_rougher_output']\n",
        "stage_3 = gold_full['sum_primary_cleaner']\n",
        "stage_4 = gold_full['sum_final_output']\n",
        "\n",
        "plt.hist(stage_1, bins=100, color='red', label='rougher_input', alpha=0.5)\n",
        "plt.hist(stage_2, bins=100, color='blue', label='rougher_output', alpha=0.5)\n",
        "plt.hist(stage_3, bins=100, color='green', label='primary_cleaner', alpha=0.5)\n",
        "plt.hist(stage_4, bins=100, color='yellow', label='final_output', alpha=0.5)\n",
        "\n",
        "plt.rcParams['figure.figsize'] = (15, 8)\n",
        "plt.legend(loc='upper right', fontsize=10)\n",
        "\n",
        "plt.show()"
      ]
    },
    {
      "cell_type": "markdown",
      "metadata": {
        "id": "pmJAtRv9HxjV"
      },
      "source": [
        "**Вывод:**\n",
        "\n",
        "-- Распределение суммарных концентраций всех металлов на разных этапах визуально схожи и приближены к нормальному.\n",
        "\n",
        "-- При этом мы видим, что основная часть суммарных концентраций сосредоточена в промежутке от 40 до 90"
      ]
    },
    {
      "cell_type": "markdown",
      "metadata": {
        "id": "OGGi2_vAHxjV"
      },
      "source": [
        "--  Также имеется часть данных с концентрацией 0. Считаю, что эти данные необходимо исключить из всех выборок."
      ]
    },
    {
      "cell_type": "code",
      "execution_count": null,
      "metadata": {
        "id": "Xfer82S1HxjW"
      },
      "outputs": [],
      "source": [
        "# исключим из выборки full концентрацию до 1:\n",
        "gold_full_after = gold_full[(gold_full['rougher.input.feed_ag'] > 1) &\n",
        "                (gold_full['rougher.input.feed_pb'] > 1) &\n",
        "                (gold_full['rougher.input.feed_sol'] > 1) &\n",
        "                (gold_full['rougher.input.feed_au'] > 1) &\n",
        "                (gold_full['rougher.output.concentrate_ag'] > 1) &\n",
        "                (gold_full['rougher.output.concentrate_pb'] > 1) &\n",
        "                (gold_full['rougher.output.concentrate_sol'] > 1) &\n",
        "                (gold_full['rougher.output.concentrate_au'] > 1) &\n",
        "                (gold_full['primary_cleaner.output.concentrate_ag'] > 1) &\n",
        "                (gold_full['primary_cleaner.output.concentrate_pb'] > 1) &\n",
        "                (gold_full['primary_cleaner.output.concentrate_sol'] > 1) &\n",
        "                (gold_full['primary_cleaner.output.concentrate_au'] > 1) &\n",
        "                (gold_full['final.output.concentrate_ag'] > 1) &\n",
        "                (gold_full['final.output.concentrate_pb'] > 1) &\n",
        "                (gold_full['final.output.concentrate_sol'] > 1) &\n",
        "                (gold_full['final.output.concentrate_au'] > 1)]"
      ]
    },
    {
      "cell_type": "code",
      "execution_count": null,
      "metadata": {
        "id": "f0kduD3iHxjW"
      },
      "outputs": [],
      "source": [
        "# исключим из выборки train концентрацию до 1:\n",
        "\n",
        "gold_train_after = gold_train[(gold_train['rougher.input.feed_ag'] > 1) &\n",
        "            (gold_train['rougher.input.feed_pb'] > 1) &\n",
        "            (gold_train['rougher.input.feed_sol'] > 1) &\n",
        "            (gold_train['rougher.input.feed_au'] > 1) &\n",
        "            (gold_train['rougher.output.concentrate_ag'] > 1) &\n",
        "            (gold_train['rougher.output.concentrate_pb'] > 1) &\n",
        "            (gold_train['rougher.output.concentrate_sol'] > 1) &\n",
        "            (gold_train['rougher.output.concentrate_au'] > 1) &\n",
        "            (gold_train['primary_cleaner.output.concentrate_ag'] > 1) &\n",
        "            (gold_train['primary_cleaner.output.concentrate_pb'] > 1) &\n",
        "            (gold_train['primary_cleaner.output.concentrate_sol'] > 1) &\n",
        "            (gold_train['primary_cleaner.output.concentrate_au'] > 1) &\n",
        "            (gold_train['final.output.concentrate_ag'] > 1) &\n",
        "            (gold_train['final.output.concentrate_pb'] > 1) &\n",
        "            (gold_train['final.output.concentrate_sol'] > 1) &\n",
        "            (gold_train['final.output.concentrate_au'] > 1)]"
      ]
    },
    {
      "cell_type": "code",
      "execution_count": null,
      "metadata": {
        "id": "A-688qtHHxjW"
      },
      "outputs": [],
      "source": [
        "# исключим из выборки test концентрацию до 1:\n",
        "\n",
        "gold_test_after = gold_test[(gold_test['rougher.input.feed_ag'] > 1) &\n",
        "            (gold_test['rougher.input.feed_pb'] > 1) &\n",
        "            (gold_test['rougher.input.feed_sol'] > 1) &\n",
        "            (gold_test['rougher.input.feed_au'] > 1)]"
      ]
    },
    {
      "cell_type": "code",
      "execution_count": null,
      "metadata": {
        "id": "fdtG5kihHxjX",
        "outputId": "158610a0-602a-4c73-b602-7f678481bf12"
      },
      "outputs": [
        {
          "data": {
            "text/plain": [
              "0.95"
            ]
          },
          "metadata": {},
          "output_type": "display_data"
        },
        {
          "data": {
            "text/plain": [
              "0.94"
            ]
          },
          "metadata": {},
          "output_type": "display_data"
        },
        {
          "data": {
            "text/plain": [
              "1.0"
            ]
          },
          "metadata": {},
          "output_type": "display_data"
        }
      ],
      "source": [
        "# оценим какая доля осталась после исключения выбросов\n",
        "\n",
        "display(round(len(gold_full_after) / len(gold_full), 2))\n",
        "display(round(len(gold_train_after) / len(gold_train), 2))\n",
        "display(round(len(gold_test_after) / len(gold_test), 2))\n"
      ]
    },
    {
      "cell_type": "markdown",
      "metadata": {
        "id": "m5uwM3buHxjX"
      },
      "source": [
        "**Вывод:**\n",
        "\n",
        "-- Из всех трех выборок исключили значения менее 1, а именно удалили 5% данных."
      ]
    },
    {
      "cell_type": "markdown",
      "metadata": {
        "id": "Qkwi4Ng3HxjY"
      },
      "source": [
        "**Вывод по блоку 2:**\n",
        "\n",
        "-- Сырье проходит 4 этапа очистки.\n",
        "\n",
        "-- Концентрация золота с каждым этапом возрастает с высоким темпом.\n",
        "\n",
        "-- Концентрация серебра наоборот снижается к финальному этапу.\n",
        "\n",
        "-- Концентрация свинца растет медленно от этапа к этапу и на последних двух практически не меняется.\n",
        "\n",
        "-- На гистограммах визуализации разных этапов отражено, что размер гранул с каждым этапом обработки уменьшается: на этапе флотации размер гранул неоднородный, а на этапе уже первичной очистки как в обучающей выборке, так и в тестовой распределение гранул похоже на нормальное - значит в дальнейшем оценка модели будет достоверной."
      ]
    },
    {
      "cell_type": "markdown",
      "metadata": {
        "id": "Gb1ktUZ2HxjY"
      },
      "source": [
        "## Модель"
      ]
    },
    {
      "cell_type": "markdown",
      "metadata": {
        "id": "U3ALHVLTHxjY"
      },
      "source": [
        "### Функция для вычисления sMAPE"
      ]
    },
    {
      "cell_type": "markdown",
      "metadata": {
        "id": "1FBU-_snHxjZ"
      },
      "source": [
        "Для решения задачи введём новую метрику качества — sMAPE (англ. Symmetric Mean Absolute Percentage Error, «симметричное среднее абсолютное процентное отклонение»)."
      ]
    },
    {
      "cell_type": "code",
      "execution_count": null,
      "metadata": {
        "id": "a2R_KGS0HxjZ"
      },
      "outputs": [],
      "source": [
        "# пишем функцию, согласно формуле из описания проекта\n",
        "\n",
        "def sMAPE_func(y_target, y_predict):\n",
        "    smape = np.mean(abs(y_target - y_predict) / ((abs(y_target) + abs(y_predict)) / 2)) * 100\n",
        "    return smape"
      ]
    },
    {
      "cell_type": "code",
      "execution_count": null,
      "metadata": {
        "id": "XfPFU22GHxjZ"
      },
      "outputs": [],
      "source": [
        "# пишем функцию для расчета итогового sMAPE\n",
        "\n",
        "def final_sMAPE_func(smape_rougher, smape_final):\n",
        "    return (0.25*smape_rougher + 0.75*smape_final)"
      ]
    },
    {
      "cell_type": "markdown",
      "metadata": {
        "id": "J-ERngVmHxjZ"
      },
      "source": [
        "### Обучение моделей и оценка их качества кросс-валидацией"
      ]
    },
    {
      "cell_type": "markdown",
      "metadata": {
        "id": "GVPMjmbNHxja"
      },
      "source": [
        "Нужно спрогнозировать сразу две величины:\n",
        "\n",
        "1.\tэффективность обогащения чернового концентрата `rougher.output.recovery`;\n",
        "\n",
        "2.\tэффективность обогащения финального концентрата `final.output.recovery`.\n"
      ]
    },
    {
      "cell_type": "code",
      "execution_count": null,
      "metadata": {
        "id": "ZqeKuzjFHxja"
      },
      "outputs": [],
      "source": [
        "# определение целевых столбцов в обучающей выборке\n",
        "\n",
        "target_train_rougher = np.array(gold_train_after['rougher.output.recovery'])\n",
        "target_train_final = np.array(gold_train_after['final.output.recovery'])"
      ]
    },
    {
      "cell_type": "code",
      "execution_count": null,
      "metadata": {
        "id": "gM7Jlrz6Hxja"
      },
      "outputs": [],
      "source": [
        "# убираем столбцы, которых не было в тестовой выборке и определяем признаки, с которыми будет работать модель\n",
        "\n",
        "features_train = np.array(gold_train_after.drop(['final.output.concentrate_ag',\n",
        " 'final.output.concentrate_au',\n",
        " 'final.output.concentrate_pb',\n",
        " 'final.output.concentrate_sol',\n",
        " 'final.output.recovery',\n",
        " 'final.output.tail_ag',\n",
        " 'final.output.tail_au',\n",
        " 'final.output.tail_pb',\n",
        " 'final.output.tail_sol',\n",
        " 'primary_cleaner.output.concentrate_ag',\n",
        " 'primary_cleaner.output.concentrate_au',\n",
        " 'primary_cleaner.output.concentrate_pb',\n",
        " 'primary_cleaner.output.concentrate_sol',\n",
        " 'primary_cleaner.output.tail_ag',\n",
        " 'primary_cleaner.output.tail_au',\n",
        " 'primary_cleaner.output.tail_pb',\n",
        " 'primary_cleaner.output.tail_sol',\n",
        " 'rougher.calculation.au_pb_ratio',\n",
        " 'rougher.calculation.floatbank10_sulfate_to_au_feed',\n",
        " 'rougher.calculation.floatbank11_sulfate_to_au_feed',\n",
        " 'rougher.calculation.sulfate_to_au_concentrate',\n",
        " 'rougher.output.concentrate_ag',\n",
        " 'rougher.output.concentrate_au',\n",
        " 'rougher.output.concentrate_pb',\n",
        " 'rougher.output.concentrate_sol',\n",
        " 'rougher.output.recovery',\n",
        " 'rougher.output.tail_ag',\n",
        " 'rougher.output.tail_au',\n",
        " 'rougher.output.tail_pb',\n",
        " 'rougher.output.tail_sol',\n",
        " 'secondary_cleaner.output.tail_ag',\n",
        " 'secondary_cleaner.output.tail_au',\n",
        " 'secondary_cleaner.output.tail_pb',\n",
        " 'secondary_cleaner.output.tail_sol'], axis=1))"
      ]
    },
    {
      "cell_type": "code",
      "execution_count": null,
      "metadata": {
        "id": "hmH-F5EpHxja",
        "outputId": "95a48ec6-8d2a-40ef-a31b-6aee67b1e654"
      },
      "outputs": [
        {
          "name": "stdout",
          "output_type": "stream",
          "text": [
            "(13323, 52)\n",
            "(13323,)\n",
            "(13323,)\n"
          ]
        }
      ],
      "source": [
        "for base in [features_train, target_train_rougher, target_train_final]:\n",
        "    print(base.shape)"
      ]
    },
    {
      "cell_type": "code",
      "execution_count": null,
      "metadata": {
        "id": "OQsl8487Hxjb"
      },
      "outputs": [],
      "source": [
        "# введем критерий оценки через scorer\n",
        "\n",
        "score = make_scorer(sMAPE_func, greater_is_better = False)"
      ]
    },
    {
      "cell_type": "code",
      "execution_count": null,
      "metadata": {
        "id": "TwbzPNBZHxjc"
      },
      "outputs": [],
      "source": [
        "# cоздадим с помощью класса make_pipeline объект-контейнер, в который поместим необходимые нам инструменты\n",
        "\n",
        "regress_model = make_pipeline(StandardScaler(), LinearRegression(normalize = False, fit_intercept = True, copy_X=True, n_jobs=-1)) # линейная регрессия\n",
        "\n",
        "forest_model = make_pipeline(StandardScaler(), RandomForestRegressor()) # случайный лес\n",
        "\n",
        "tree_model = make_pipeline(StandardScaler(), DecisionTreeRegressor()) # дерево решений"
      ]
    },
    {
      "cell_type": "code",
      "execution_count": null,
      "metadata": {
        "id": "KK8QO6s5Hxjf"
      },
      "outputs": [],
      "source": [
        "# определим параметры для моделей\n",
        "\n",
        "parameter_regress = {}\n",
        "#                     {'linearregression__normalize':[False],\n",
        "#                    'linearregression__fit_intercept':[True],\n",
        "#                    'linearregression__copy_X':[True],\n",
        "#                    'linearregression__n_jobs':[-1]}  # линейная регрессия"
      ]
    },
    {
      "cell_type": "code",
      "execution_count": null,
      "metadata": {
        "id": "ufUFjkd3Hxji"
      },
      "outputs": [],
      "source": [
        "parameter_forest = {'randomforestregressor__n_estimators': range(5,201,50), # случайный лес\n",
        "                  'randomforestregressor__max_depth':range(1,11,1),\n",
        "                  'randomforestregressor__random_state':[12345]}\n",
        "\n",
        "parameter_tree = {'decisiontreeregressor__max_depth':range(1,11,1),\n",
        "                'decisiontreeregressor__random_state':[12345]} # дерево решений"
      ]
    },
    {
      "cell_type": "code",
      "execution_count": null,
      "metadata": {
        "id": "0iihN30BHxjk"
      },
      "outputs": [],
      "source": [
        "# используем инструмент GridSearchCV для автоматического подбора параметров для моделей машинного обучения\n",
        "\n",
        "# линейная регрессия\n",
        "\n",
        "grid_rougher_regress = GridSearchCV(regress_model, param_grid=parameter_regress, scoring=score, verbose=10)\n",
        "grid_final_regress = GridSearchCV(regress_model, param_grid=parameter_regress, scoring=score, verbose=10)\n",
        "\n",
        "# случайный лес\n",
        "\n",
        "grid_rougher_forest = GridSearchCV(forest_model, param_grid=parameter_forest, cv=5, scoring=score, verbose=10)\n",
        "grid_final_forest = GridSearchCV(forest_model, param_grid=parameter_forest, cv=5, scoring=score, verbose=10)\n",
        "\n",
        "# дерево решений\n",
        "\n",
        "grid_rougher_tree = GridSearchCV(tree_model, param_grid=parameter_tree, cv=5, scoring=score, verbose=10)\n",
        "grid_final_tree = GridSearchCV(tree_model, param_grid=parameter_tree, cv=5, scoring=score, verbose=10)\n",
        "\n"
      ]
    },
    {
      "cell_type": "code",
      "execution_count": null,
      "metadata": {
        "id": "fi_2pSycHxjl",
        "outputId": "756838e8-90ab-45fc-bd46-532c84d0d9fc"
      },
      "outputs": [
        {
          "name": "stdout",
          "output_type": "stream",
          "text": [
            "Fitting 5 folds for each of 1 candidates, totalling 5 fits\n",
            "[CV 1/5; 1/1] START ............................................................\n",
            "[CV 1/5; 1/1] END ........................................... total time=   0.1s\n",
            "[CV 2/5; 1/1] START ............................................................\n",
            "[CV 2/5; 1/1] END ........................................... total time=   0.3s\n",
            "[CV 3/5; 1/1] START ............................................................\n",
            "[CV 3/5; 1/1] END ........................................... total time=   0.2s\n",
            "[CV 4/5; 1/1] START ............................................................\n",
            "[CV 4/5; 1/1] END ........................................... total time=   0.2s\n",
            "[CV 5/5; 1/1] START ............................................................\n",
            "[CV 5/5; 1/1] END ........................................... total time=   0.4s\n",
            "Fitting 5 folds for each of 1 candidates, totalling 5 fits\n",
            "[CV 1/5; 1/1] START ............................................................\n",
            "[CV 1/5; 1/1] END ........................................... total time=   0.4s\n",
            "[CV 2/5; 1/1] START ............................................................\n",
            "[CV 2/5; 1/1] END ........................................... total time=   0.3s\n",
            "[CV 3/5; 1/1] START ............................................................\n",
            "[CV 3/5; 1/1] END ........................................... total time=   0.3s\n",
            "[CV 4/5; 1/1] START ............................................................\n",
            "[CV 4/5; 1/1] END ........................................... total time=   0.3s\n",
            "[CV 5/5; 1/1] START ............................................................\n",
            "[CV 5/5; 1/1] END ........................................... total time=   0.3s\n",
            "Fitting 5 folds for each of 40 candidates, totalling 200 fits\n",
            "[CV 1/5; 1/40] START randomforestregressor__max_depth=1, randomforestregressor__n_estimators=5, randomforestregressor__random_state=12345\n",
            "[CV 1/5; 1/40] END randomforestregressor__max_depth=1, randomforestregressor__n_estimators=5, randomforestregressor__random_state=12345; total time=   0.4s\n",
            "[CV 2/5; 1/40] START randomforestregressor__max_depth=1, randomforestregressor__n_estimators=5, randomforestregressor__random_state=12345\n",
            "[CV 2/5; 1/40] END randomforestregressor__max_depth=1, randomforestregressor__n_estimators=5, randomforestregressor__random_state=12345; total time=   0.2s\n",
            "[CV 3/5; 1/40] START randomforestregressor__max_depth=1, randomforestregressor__n_estimators=5, randomforestregressor__random_state=12345\n",
            "[CV 3/5; 1/40] END randomforestregressor__max_depth=1, randomforestregressor__n_estimators=5, randomforestregressor__random_state=12345; total time=   0.2s\n",
            "[CV 4/5; 1/40] START randomforestregressor__max_depth=1, randomforestregressor__n_estimators=5, randomforestregressor__random_state=12345\n",
            "[CV 4/5; 1/40] END randomforestregressor__max_depth=1, randomforestregressor__n_estimators=5, randomforestregressor__random_state=12345; total time=   0.2s\n",
            "[CV 5/5; 1/40] START randomforestregressor__max_depth=1, randomforestregressor__n_estimators=5, randomforestregressor__random_state=12345\n",
            "[CV 5/5; 1/40] END randomforestregressor__max_depth=1, randomforestregressor__n_estimators=5, randomforestregressor__random_state=12345; total time=   0.2s\n",
            "[CV 1/5; 2/40] START randomforestregressor__max_depth=1, randomforestregressor__n_estimators=55, randomforestregressor__random_state=12345\n",
            "[CV 1/5; 2/40] END randomforestregressor__max_depth=1, randomforestregressor__n_estimators=55, randomforestregressor__random_state=12345; total time=   1.9s\n",
            "[CV 2/5; 2/40] START randomforestregressor__max_depth=1, randomforestregressor__n_estimators=55, randomforestregressor__random_state=12345\n",
            "[CV 2/5; 2/40] END randomforestregressor__max_depth=1, randomforestregressor__n_estimators=55, randomforestregressor__random_state=12345; total time=   1.9s\n",
            "[CV 3/5; 2/40] START randomforestregressor__max_depth=1, randomforestregressor__n_estimators=55, randomforestregressor__random_state=12345\n",
            "[CV 3/5; 2/40] END randomforestregressor__max_depth=1, randomforestregressor__n_estimators=55, randomforestregressor__random_state=12345; total time=   1.9s\n",
            "[CV 4/5; 2/40] START randomforestregressor__max_depth=1, randomforestregressor__n_estimators=55, randomforestregressor__random_state=12345\n",
            "[CV 4/5; 2/40] END randomforestregressor__max_depth=1, randomforestregressor__n_estimators=55, randomforestregressor__random_state=12345; total time=   1.9s\n",
            "[CV 5/5; 2/40] START randomforestregressor__max_depth=1, randomforestregressor__n_estimators=55, randomforestregressor__random_state=12345\n",
            "[CV 5/5; 2/40] END randomforestregressor__max_depth=1, randomforestregressor__n_estimators=55, randomforestregressor__random_state=12345; total time=   1.9s\n",
            "[CV 1/5; 3/40] START randomforestregressor__max_depth=1, randomforestregressor__n_estimators=105, randomforestregressor__random_state=12345\n",
            "[CV 1/5; 3/40] END randomforestregressor__max_depth=1, randomforestregressor__n_estimators=105, randomforestregressor__random_state=12345; total time=   3.7s\n",
            "[CV 2/5; 3/40] START randomforestregressor__max_depth=1, randomforestregressor__n_estimators=105, randomforestregressor__random_state=12345\n",
            "[CV 2/5; 3/40] END randomforestregressor__max_depth=1, randomforestregressor__n_estimators=105, randomforestregressor__random_state=12345; total time=   3.7s\n",
            "[CV 3/5; 3/40] START randomforestregressor__max_depth=1, randomforestregressor__n_estimators=105, randomforestregressor__random_state=12345\n",
            "[CV 3/5; 3/40] END randomforestregressor__max_depth=1, randomforestregressor__n_estimators=105, randomforestregressor__random_state=12345; total time=   3.7s\n",
            "[CV 4/5; 3/40] START randomforestregressor__max_depth=1, randomforestregressor__n_estimators=105, randomforestregressor__random_state=12345\n",
            "[CV 4/5; 3/40] END randomforestregressor__max_depth=1, randomforestregressor__n_estimators=105, randomforestregressor__random_state=12345; total time=   3.7s\n",
            "[CV 5/5; 3/40] START randomforestregressor__max_depth=1, randomforestregressor__n_estimators=105, randomforestregressor__random_state=12345\n",
            "[CV 5/5; 3/40] END randomforestregressor__max_depth=1, randomforestregressor__n_estimators=105, randomforestregressor__random_state=12345; total time=   3.7s\n",
            "[CV 1/5; 4/40] START randomforestregressor__max_depth=1, randomforestregressor__n_estimators=155, randomforestregressor__random_state=12345\n",
            "[CV 1/5; 4/40] END randomforestregressor__max_depth=1, randomforestregressor__n_estimators=155, randomforestregressor__random_state=12345; total time=   5.4s\n",
            "[CV 2/5; 4/40] START randomforestregressor__max_depth=1, randomforestregressor__n_estimators=155, randomforestregressor__random_state=12345\n",
            "[CV 2/5; 4/40] END randomforestregressor__max_depth=1, randomforestregressor__n_estimators=155, randomforestregressor__random_state=12345; total time=   5.4s\n",
            "[CV 3/5; 4/40] START randomforestregressor__max_depth=1, randomforestregressor__n_estimators=155, randomforestregressor__random_state=12345\n",
            "[CV 3/5; 4/40] END randomforestregressor__max_depth=1, randomforestregressor__n_estimators=155, randomforestregressor__random_state=12345; total time=   5.4s\n",
            "[CV 4/5; 4/40] START randomforestregressor__max_depth=1, randomforestregressor__n_estimators=155, randomforestregressor__random_state=12345\n",
            "[CV 4/5; 4/40] END randomforestregressor__max_depth=1, randomforestregressor__n_estimators=155, randomforestregressor__random_state=12345; total time=   5.4s\n",
            "[CV 5/5; 4/40] START randomforestregressor__max_depth=1, randomforestregressor__n_estimators=155, randomforestregressor__random_state=12345\n",
            "[CV 5/5; 4/40] END randomforestregressor__max_depth=1, randomforestregressor__n_estimators=155, randomforestregressor__random_state=12345; total time=   5.4s\n",
            "[CV 1/5; 5/40] START randomforestregressor__max_depth=2, randomforestregressor__n_estimators=5, randomforestregressor__random_state=12345\n",
            "[CV 1/5; 5/40] END randomforestregressor__max_depth=2, randomforestregressor__n_estimators=5, randomforestregressor__random_state=12345; total time=   0.3s\n",
            "[CV 2/5; 5/40] START randomforestregressor__max_depth=2, randomforestregressor__n_estimators=5, randomforestregressor__random_state=12345\n",
            "[CV 2/5; 5/40] END randomforestregressor__max_depth=2, randomforestregressor__n_estimators=5, randomforestregressor__random_state=12345; total time=   0.3s\n",
            "[CV 3/5; 5/40] START randomforestregressor__max_depth=2, randomforestregressor__n_estimators=5, randomforestregressor__random_state=12345\n",
            "[CV 3/5; 5/40] END randomforestregressor__max_depth=2, randomforestregressor__n_estimators=5, randomforestregressor__random_state=12345; total time=   0.4s\n",
            "[CV 4/5; 5/40] START randomforestregressor__max_depth=2, randomforestregressor__n_estimators=5, randomforestregressor__random_state=12345\n",
            "[CV 4/5; 5/40] END randomforestregressor__max_depth=2, randomforestregressor__n_estimators=5, randomforestregressor__random_state=12345; total time=   0.3s\n",
            "[CV 5/5; 5/40] START randomforestregressor__max_depth=2, randomforestregressor__n_estimators=5, randomforestregressor__random_state=12345\n",
            "[CV 5/5; 5/40] END randomforestregressor__max_depth=2, randomforestregressor__n_estimators=5, randomforestregressor__random_state=12345; total time=   0.3s\n",
            "[CV 1/5; 6/40] START randomforestregressor__max_depth=2, randomforestregressor__n_estimators=55, randomforestregressor__random_state=12345\n",
            "[CV 1/5; 6/40] END randomforestregressor__max_depth=2, randomforestregressor__n_estimators=55, randomforestregressor__random_state=12345; total time=   3.6s\n",
            "[CV 2/5; 6/40] START randomforestregressor__max_depth=2, randomforestregressor__n_estimators=55, randomforestregressor__random_state=12345\n",
            "[CV 2/5; 6/40] END randomforestregressor__max_depth=2, randomforestregressor__n_estimators=55, randomforestregressor__random_state=12345; total time=   3.6s\n",
            "[CV 3/5; 6/40] START randomforestregressor__max_depth=2, randomforestregressor__n_estimators=55, randomforestregressor__random_state=12345\n",
            "[CV 3/5; 6/40] END randomforestregressor__max_depth=2, randomforestregressor__n_estimators=55, randomforestregressor__random_state=12345; total time=   3.6s\n",
            "[CV 4/5; 6/40] START randomforestregressor__max_depth=2, randomforestregressor__n_estimators=55, randomforestregressor__random_state=12345\n",
            "[CV 4/5; 6/40] END randomforestregressor__max_depth=2, randomforestregressor__n_estimators=55, randomforestregressor__random_state=12345; total time=   3.7s\n",
            "[CV 5/5; 6/40] START randomforestregressor__max_depth=2, randomforestregressor__n_estimators=55, randomforestregressor__random_state=12345\n",
            "[CV 5/5; 6/40] END randomforestregressor__max_depth=2, randomforestregressor__n_estimators=55, randomforestregressor__random_state=12345; total time=   3.7s\n",
            "[CV 1/5; 7/40] START randomforestregressor__max_depth=2, randomforestregressor__n_estimators=105, randomforestregressor__random_state=12345\n",
            "[CV 1/5; 7/40] END randomforestregressor__max_depth=2, randomforestregressor__n_estimators=105, randomforestregressor__random_state=12345; total time=   7.0s\n",
            "[CV 2/5; 7/40] START randomforestregressor__max_depth=2, randomforestregressor__n_estimators=105, randomforestregressor__random_state=12345\n",
            "[CV 2/5; 7/40] END randomforestregressor__max_depth=2, randomforestregressor__n_estimators=105, randomforestregressor__random_state=12345; total time=   7.1s\n",
            "[CV 3/5; 7/40] START randomforestregressor__max_depth=2, randomforestregressor__n_estimators=105, randomforestregressor__random_state=12345\n",
            "[CV 3/5; 7/40] END randomforestregressor__max_depth=2, randomforestregressor__n_estimators=105, randomforestregressor__random_state=12345; total time=   7.0s\n",
            "[CV 4/5; 7/40] START randomforestregressor__max_depth=2, randomforestregressor__n_estimators=105, randomforestregressor__random_state=12345\n",
            "[CV 4/5; 7/40] END randomforestregressor__max_depth=2, randomforestregressor__n_estimators=105, randomforestregressor__random_state=12345; total time=   7.0s\n",
            "[CV 5/5; 7/40] START randomforestregressor__max_depth=2, randomforestregressor__n_estimators=105, randomforestregressor__random_state=12345\n",
            "[CV 5/5; 7/40] END randomforestregressor__max_depth=2, randomforestregressor__n_estimators=105, randomforestregressor__random_state=12345; total time=   7.0s\n",
            "[CV 1/5; 8/40] START randomforestregressor__max_depth=2, randomforestregressor__n_estimators=155, randomforestregressor__random_state=12345\n",
            "[CV 1/5; 8/40] END randomforestregressor__max_depth=2, randomforestregressor__n_estimators=155, randomforestregressor__random_state=12345; total time=  10.4s\n",
            "[CV 2/5; 8/40] START randomforestregressor__max_depth=2, randomforestregressor__n_estimators=155, randomforestregressor__random_state=12345\n",
            "[CV 2/5; 8/40] END randomforestregressor__max_depth=2, randomforestregressor__n_estimators=155, randomforestregressor__random_state=12345; total time=  10.3s\n",
            "[CV 3/5; 8/40] START randomforestregressor__max_depth=2, randomforestregressor__n_estimators=155, randomforestregressor__random_state=12345\n",
            "[CV 3/5; 8/40] END randomforestregressor__max_depth=2, randomforestregressor__n_estimators=155, randomforestregressor__random_state=12345; total time=  10.4s\n",
            "[CV 4/5; 8/40] START randomforestregressor__max_depth=2, randomforestregressor__n_estimators=155, randomforestregressor__random_state=12345\n",
            "[CV 4/5; 8/40] END randomforestregressor__max_depth=2, randomforestregressor__n_estimators=155, randomforestregressor__random_state=12345; total time=  10.2s\n",
            "[CV 5/5; 8/40] START randomforestregressor__max_depth=2, randomforestregressor__n_estimators=155, randomforestregressor__random_state=12345\n",
            "[CV 5/5; 8/40] END randomforestregressor__max_depth=2, randomforestregressor__n_estimators=155, randomforestregressor__random_state=12345; total time=  10.3s\n",
            "[CV 1/5; 9/40] START randomforestregressor__max_depth=3, randomforestregressor__n_estimators=5, randomforestregressor__random_state=12345\n",
            "[CV 1/5; 9/40] END randomforestregressor__max_depth=3, randomforestregressor__n_estimators=5, randomforestregressor__random_state=12345; total time=   0.5s\n",
            "[CV 2/5; 9/40] START randomforestregressor__max_depth=3, randomforestregressor__n_estimators=5, randomforestregressor__random_state=12345\n",
            "[CV 2/5; 9/40] END randomforestregressor__max_depth=3, randomforestregressor__n_estimators=5, randomforestregressor__random_state=12345; total time=   0.5s\n",
            "[CV 3/5; 9/40] START randomforestregressor__max_depth=3, randomforestregressor__n_estimators=5, randomforestregressor__random_state=12345\n",
            "[CV 3/5; 9/40] END randomforestregressor__max_depth=3, randomforestregressor__n_estimators=5, randomforestregressor__random_state=12345; total time=   0.5s\n",
            "[CV 4/5; 9/40] START randomforestregressor__max_depth=3, randomforestregressor__n_estimators=5, randomforestregressor__random_state=12345\n",
            "[CV 4/5; 9/40] END randomforestregressor__max_depth=3, randomforestregressor__n_estimators=5, randomforestregressor__random_state=12345; total time=   0.5s\n",
            "[CV 5/5; 9/40] START randomforestregressor__max_depth=3, randomforestregressor__n_estimators=5, randomforestregressor__random_state=12345\n",
            "[CV 5/5; 9/40] END randomforestregressor__max_depth=3, randomforestregressor__n_estimators=5, randomforestregressor__random_state=12345; total time=   0.5s\n",
            "[CV 1/5; 10/40] START randomforestregressor__max_depth=3, randomforestregressor__n_estimators=55, randomforestregressor__random_state=12345\n",
            "[CV 1/5; 10/40] END randomforestregressor__max_depth=3, randomforestregressor__n_estimators=55, randomforestregressor__random_state=12345; total time=   5.3s\n",
            "[CV 2/5; 10/40] START randomforestregressor__max_depth=3, randomforestregressor__n_estimators=55, randomforestregressor__random_state=12345\n",
            "[CV 2/5; 10/40] END randomforestregressor__max_depth=3, randomforestregressor__n_estimators=55, randomforestregressor__random_state=12345; total time=   5.3s\n",
            "[CV 3/5; 10/40] START randomforestregressor__max_depth=3, randomforestregressor__n_estimators=55, randomforestregressor__random_state=12345\n",
            "[CV 3/5; 10/40] END randomforestregressor__max_depth=3, randomforestregressor__n_estimators=55, randomforestregressor__random_state=12345; total time=   5.2s\n",
            "[CV 4/5; 10/40] START randomforestregressor__max_depth=3, randomforestregressor__n_estimators=55, randomforestregressor__random_state=12345\n",
            "[CV 4/5; 10/40] END randomforestregressor__max_depth=3, randomforestregressor__n_estimators=55, randomforestregressor__random_state=12345; total time=   5.2s\n",
            "[CV 5/5; 10/40] START randomforestregressor__max_depth=3, randomforestregressor__n_estimators=55, randomforestregressor__random_state=12345\n",
            "[CV 5/5; 10/40] END randomforestregressor__max_depth=3, randomforestregressor__n_estimators=55, randomforestregressor__random_state=12345; total time=   5.3s\n",
            "[CV 1/5; 11/40] START randomforestregressor__max_depth=3, randomforestregressor__n_estimators=105, randomforestregressor__random_state=12345\n",
            "[CV 1/5; 11/40] END randomforestregressor__max_depth=3, randomforestregressor__n_estimators=105, randomforestregressor__random_state=12345; total time=  10.0s\n",
            "[CV 2/5; 11/40] START randomforestregressor__max_depth=3, randomforestregressor__n_estimators=105, randomforestregressor__random_state=12345\n",
            "[CV 2/5; 11/40] END randomforestregressor__max_depth=3, randomforestregressor__n_estimators=105, randomforestregressor__random_state=12345; total time=  10.2s\n",
            "[CV 3/5; 11/40] START randomforestregressor__max_depth=3, randomforestregressor__n_estimators=105, randomforestregressor__random_state=12345\n",
            "[CV 3/5; 11/40] END randomforestregressor__max_depth=3, randomforestregressor__n_estimators=105, randomforestregressor__random_state=12345; total time=  10.0s\n",
            "[CV 4/5; 11/40] START randomforestregressor__max_depth=3, randomforestregressor__n_estimators=105, randomforestregressor__random_state=12345\n",
            "[CV 4/5; 11/40] END randomforestregressor__max_depth=3, randomforestregressor__n_estimators=105, randomforestregressor__random_state=12345; total time=  10.0s\n",
            "[CV 5/5; 11/40] START randomforestregressor__max_depth=3, randomforestregressor__n_estimators=105, randomforestregressor__random_state=12345\n",
            "[CV 5/5; 11/40] END randomforestregressor__max_depth=3, randomforestregressor__n_estimators=105, randomforestregressor__random_state=12345; total time=  10.0s\n",
            "[CV 1/5; 12/40] START randomforestregressor__max_depth=3, randomforestregressor__n_estimators=155, randomforestregressor__random_state=12345\n",
            "[CV 1/5; 12/40] END randomforestregressor__max_depth=3, randomforestregressor__n_estimators=155, randomforestregressor__random_state=12345; total time=  14.8s\n",
            "[CV 2/5; 12/40] START randomforestregressor__max_depth=3, randomforestregressor__n_estimators=155, randomforestregressor__random_state=12345\n",
            "[CV 2/5; 12/40] END randomforestregressor__max_depth=3, randomforestregressor__n_estimators=155, randomforestregressor__random_state=12345; total time=  14.8s\n",
            "[CV 3/5; 12/40] START randomforestregressor__max_depth=3, randomforestregressor__n_estimators=155, randomforestregressor__random_state=12345\n",
            "[CV 3/5; 12/40] END randomforestregressor__max_depth=3, randomforestregressor__n_estimators=155, randomforestregressor__random_state=12345; total time=  14.8s\n",
            "[CV 4/5; 12/40] START randomforestregressor__max_depth=3, randomforestregressor__n_estimators=155, randomforestregressor__random_state=12345\n",
            "[CV 4/5; 12/40] END randomforestregressor__max_depth=3, randomforestregressor__n_estimators=155, randomforestregressor__random_state=12345; total time=  14.7s\n",
            "[CV 5/5; 12/40] START randomforestregressor__max_depth=3, randomforestregressor__n_estimators=155, randomforestregressor__random_state=12345\n",
            "[CV 5/5; 12/40] END randomforestregressor__max_depth=3, randomforestregressor__n_estimators=155, randomforestregressor__random_state=12345; total time=  14.9s\n",
            "[CV 1/5; 13/40] START randomforestregressor__max_depth=4, randomforestregressor__n_estimators=5, randomforestregressor__random_state=12345\n",
            "[CV 1/5; 13/40] END randomforestregressor__max_depth=4, randomforestregressor__n_estimators=5, randomforestregressor__random_state=12345; total time=   0.6s\n",
            "[CV 2/5; 13/40] START randomforestregressor__max_depth=4, randomforestregressor__n_estimators=5, randomforestregressor__random_state=12345\n",
            "[CV 2/5; 13/40] END randomforestregressor__max_depth=4, randomforestregressor__n_estimators=5, randomforestregressor__random_state=12345; total time=   0.6s\n",
            "[CV 3/5; 13/40] START randomforestregressor__max_depth=4, randomforestregressor__n_estimators=5, randomforestregressor__random_state=12345\n",
            "[CV 3/5; 13/40] END randomforestregressor__max_depth=4, randomforestregressor__n_estimators=5, randomforestregressor__random_state=12345; total time=   0.6s\n",
            "[CV 4/5; 13/40] START randomforestregressor__max_depth=4, randomforestregressor__n_estimators=5, randomforestregressor__random_state=12345\n",
            "[CV 4/5; 13/40] END randomforestregressor__max_depth=4, randomforestregressor__n_estimators=5, randomforestregressor__random_state=12345; total time=   0.6s\n",
            "[CV 5/5; 13/40] START randomforestregressor__max_depth=4, randomforestregressor__n_estimators=5, randomforestregressor__random_state=12345\n",
            "[CV 5/5; 13/40] END randomforestregressor__max_depth=4, randomforestregressor__n_estimators=5, randomforestregressor__random_state=12345; total time=   0.6s\n",
            "[CV 1/5; 14/40] START randomforestregressor__max_depth=4, randomforestregressor__n_estimators=55, randomforestregressor__random_state=12345\n",
            "[CV 1/5; 14/40] END randomforestregressor__max_depth=4, randomforestregressor__n_estimators=55, randomforestregressor__random_state=12345; total time=   7.0s\n",
            "[CV 2/5; 14/40] START randomforestregressor__max_depth=4, randomforestregressor__n_estimators=55, randomforestregressor__random_state=12345\n",
            "[CV 2/5; 14/40] END randomforestregressor__max_depth=4, randomforestregressor__n_estimators=55, randomforestregressor__random_state=12345; total time=   6.8s\n",
            "[CV 3/5; 14/40] START randomforestregressor__max_depth=4, randomforestregressor__n_estimators=55, randomforestregressor__random_state=12345\n",
            "[CV 3/5; 14/40] END randomforestregressor__max_depth=4, randomforestregressor__n_estimators=55, randomforestregressor__random_state=12345; total time=   6.7s\n",
            "[CV 4/5; 14/40] START randomforestregressor__max_depth=4, randomforestregressor__n_estimators=55, randomforestregressor__random_state=12345\n",
            "[CV 4/5; 14/40] END randomforestregressor__max_depth=4, randomforestregressor__n_estimators=55, randomforestregressor__random_state=12345; total time=   6.7s\n",
            "[CV 5/5; 14/40] START randomforestregressor__max_depth=4, randomforestregressor__n_estimators=55, randomforestregressor__random_state=12345\n",
            "[CV 5/5; 14/40] END randomforestregressor__max_depth=4, randomforestregressor__n_estimators=55, randomforestregressor__random_state=12345; total time=   6.9s\n",
            "[CV 1/5; 15/40] START randomforestregressor__max_depth=4, randomforestregressor__n_estimators=105, randomforestregressor__random_state=12345\n",
            "[CV 1/5; 15/40] END randomforestregressor__max_depth=4, randomforestregressor__n_estimators=105, randomforestregressor__random_state=12345; total time=  12.9s\n",
            "[CV 2/5; 15/40] START randomforestregressor__max_depth=4, randomforestregressor__n_estimators=105, randomforestregressor__random_state=12345\n",
            "[CV 2/5; 15/40] END randomforestregressor__max_depth=4, randomforestregressor__n_estimators=105, randomforestregressor__random_state=12345; total time=  12.9s\n",
            "[CV 3/5; 15/40] START randomforestregressor__max_depth=4, randomforestregressor__n_estimators=105, randomforestregressor__random_state=12345\n",
            "[CV 3/5; 15/40] END randomforestregressor__max_depth=4, randomforestregressor__n_estimators=105, randomforestregressor__random_state=12345; total time=  13.0s\n",
            "[CV 4/5; 15/40] START randomforestregressor__max_depth=4, randomforestregressor__n_estimators=105, randomforestregressor__random_state=12345\n",
            "[CV 4/5; 15/40] END randomforestregressor__max_depth=4, randomforestregressor__n_estimators=105, randomforestregressor__random_state=12345; total time=  12.8s\n",
            "[CV 5/5; 15/40] START randomforestregressor__max_depth=4, randomforestregressor__n_estimators=105, randomforestregressor__random_state=12345\n",
            "[CV 5/5; 15/40] END randomforestregressor__max_depth=4, randomforestregressor__n_estimators=105, randomforestregressor__random_state=12345; total time=  12.9s\n",
            "[CV 1/5; 16/40] START randomforestregressor__max_depth=4, randomforestregressor__n_estimators=155, randomforestregressor__random_state=12345\n",
            "[CV 1/5; 16/40] END randomforestregressor__max_depth=4, randomforestregressor__n_estimators=155, randomforestregressor__random_state=12345; total time=  19.1s\n",
            "[CV 2/5; 16/40] START randomforestregressor__max_depth=4, randomforestregressor__n_estimators=155, randomforestregressor__random_state=12345\n",
            "[CV 2/5; 16/40] END randomforestregressor__max_depth=4, randomforestregressor__n_estimators=155, randomforestregressor__random_state=12345; total time=  19.2s\n",
            "[CV 3/5; 16/40] START randomforestregressor__max_depth=4, randomforestregressor__n_estimators=155, randomforestregressor__random_state=12345\n",
            "[CV 3/5; 16/40] END randomforestregressor__max_depth=4, randomforestregressor__n_estimators=155, randomforestregressor__random_state=12345; total time=  19.0s\n",
            "[CV 4/5; 16/40] START randomforestregressor__max_depth=4, randomforestregressor__n_estimators=155, randomforestregressor__random_state=12345\n",
            "[CV 4/5; 16/40] END randomforestregressor__max_depth=4, randomforestregressor__n_estimators=155, randomforestregressor__random_state=12345; total time=  19.0s\n",
            "[CV 5/5; 16/40] START randomforestregressor__max_depth=4, randomforestregressor__n_estimators=155, randomforestregressor__random_state=12345\n",
            "[CV 5/5; 16/40] END randomforestregressor__max_depth=4, randomforestregressor__n_estimators=155, randomforestregressor__random_state=12345; total time=  19.1s\n",
            "[CV 1/5; 17/40] START randomforestregressor__max_depth=5, randomforestregressor__n_estimators=5, randomforestregressor__random_state=12345\n",
            "[CV 1/5; 17/40] END randomforestregressor__max_depth=5, randomforestregressor__n_estimators=5, randomforestregressor__random_state=12345; total time=   0.8s\n",
            "[CV 2/5; 17/40] START randomforestregressor__max_depth=5, randomforestregressor__n_estimators=5, randomforestregressor__random_state=12345\n",
            "[CV 2/5; 17/40] END randomforestregressor__max_depth=5, randomforestregressor__n_estimators=5, randomforestregressor__random_state=12345; total time=   0.8s\n",
            "[CV 3/5; 17/40] START randomforestregressor__max_depth=5, randomforestregressor__n_estimators=5, randomforestregressor__random_state=12345\n",
            "[CV 3/5; 17/40] END randomforestregressor__max_depth=5, randomforestregressor__n_estimators=5, randomforestregressor__random_state=12345; total time=   0.8s\n",
            "[CV 4/5; 17/40] START randomforestregressor__max_depth=5, randomforestregressor__n_estimators=5, randomforestregressor__random_state=12345\n",
            "[CV 4/5; 17/40] END randomforestregressor__max_depth=5, randomforestregressor__n_estimators=5, randomforestregressor__random_state=12345; total time=   0.8s\n",
            "[CV 5/5; 17/40] START randomforestregressor__max_depth=5, randomforestregressor__n_estimators=5, randomforestregressor__random_state=12345\n",
            "[CV 5/5; 17/40] END randomforestregressor__max_depth=5, randomforestregressor__n_estimators=5, randomforestregressor__random_state=12345; total time=   0.8s\n",
            "[CV 1/5; 18/40] START randomforestregressor__max_depth=5, randomforestregressor__n_estimators=55, randomforestregressor__random_state=12345\n",
            "[CV 1/5; 18/40] END randomforestregressor__max_depth=5, randomforestregressor__n_estimators=55, randomforestregressor__random_state=12345; total time=   8.2s\n",
            "[CV 2/5; 18/40] START randomforestregressor__max_depth=5, randomforestregressor__n_estimators=55, randomforestregressor__random_state=12345\n",
            "[CV 2/5; 18/40] END randomforestregressor__max_depth=5, randomforestregressor__n_estimators=55, randomforestregressor__random_state=12345; total time=   8.2s\n",
            "[CV 3/5; 18/40] START randomforestregressor__max_depth=5, randomforestregressor__n_estimators=55, randomforestregressor__random_state=12345\n",
            "[CV 3/5; 18/40] END randomforestregressor__max_depth=5, randomforestregressor__n_estimators=55, randomforestregressor__random_state=12345; total time=   8.3s\n",
            "[CV 4/5; 18/40] START randomforestregressor__max_depth=5, randomforestregressor__n_estimators=55, randomforestregressor__random_state=12345\n",
            "[CV 4/5; 18/40] END randomforestregressor__max_depth=5, randomforestregressor__n_estimators=55, randomforestregressor__random_state=12345; total time=   8.2s\n",
            "[CV 5/5; 18/40] START randomforestregressor__max_depth=5, randomforestregressor__n_estimators=55, randomforestregressor__random_state=12345\n",
            "[CV 5/5; 18/40] END randomforestregressor__max_depth=5, randomforestregressor__n_estimators=55, randomforestregressor__random_state=12345; total time=   8.6s\n",
            "[CV 1/5; 19/40] START randomforestregressor__max_depth=5, randomforestregressor__n_estimators=105, randomforestregressor__random_state=12345\n",
            "[CV 1/5; 19/40] END randomforestregressor__max_depth=5, randomforestregressor__n_estimators=105, randomforestregressor__random_state=12345; total time=  16.0s\n",
            "[CV 2/5; 19/40] START randomforestregressor__max_depth=5, randomforestregressor__n_estimators=105, randomforestregressor__random_state=12345\n",
            "[CV 2/5; 19/40] END randomforestregressor__max_depth=5, randomforestregressor__n_estimators=105, randomforestregressor__random_state=12345; total time=  15.7s\n",
            "[CV 3/5; 19/40] START randomforestregressor__max_depth=5, randomforestregressor__n_estimators=105, randomforestregressor__random_state=12345\n",
            "[CV 3/5; 19/40] END randomforestregressor__max_depth=5, randomforestregressor__n_estimators=105, randomforestregressor__random_state=12345; total time=  15.8s\n",
            "[CV 4/5; 19/40] START randomforestregressor__max_depth=5, randomforestregressor__n_estimators=105, randomforestregressor__random_state=12345\n",
            "[CV 4/5; 19/40] END randomforestregressor__max_depth=5, randomforestregressor__n_estimators=105, randomforestregressor__random_state=12345; total time=  15.5s\n",
            "[CV 5/5; 19/40] START randomforestregressor__max_depth=5, randomforestregressor__n_estimators=105, randomforestregressor__random_state=12345\n",
            "[CV 5/5; 19/40] END randomforestregressor__max_depth=5, randomforestregressor__n_estimators=105, randomforestregressor__random_state=12345; total time=  15.7s\n",
            "[CV 1/5; 20/40] START randomforestregressor__max_depth=5, randomforestregressor__n_estimators=155, randomforestregressor__random_state=12345\n",
            "[CV 1/5; 20/40] END randomforestregressor__max_depth=5, randomforestregressor__n_estimators=155, randomforestregressor__random_state=12345; total time=  23.1s\n",
            "[CV 2/5; 20/40] START randomforestregressor__max_depth=5, randomforestregressor__n_estimators=155, randomforestregressor__random_state=12345\n",
            "[CV 2/5; 20/40] END randomforestregressor__max_depth=5, randomforestregressor__n_estimators=155, randomforestregressor__random_state=12345; total time=  23.1s\n",
            "[CV 3/5; 20/40] START randomforestregressor__max_depth=5, randomforestregressor__n_estimators=155, randomforestregressor__random_state=12345\n",
            "[CV 3/5; 20/40] END randomforestregressor__max_depth=5, randomforestregressor__n_estimators=155, randomforestregressor__random_state=12345; total time=  23.1s\n",
            "[CV 4/5; 20/40] START randomforestregressor__max_depth=5, randomforestregressor__n_estimators=155, randomforestregressor__random_state=12345\n",
            "[CV 4/5; 20/40] END randomforestregressor__max_depth=5, randomforestregressor__n_estimators=155, randomforestregressor__random_state=12345; total time=  23.1s\n",
            "[CV 5/5; 20/40] START randomforestregressor__max_depth=5, randomforestregressor__n_estimators=155, randomforestregressor__random_state=12345\n",
            "[CV 5/5; 20/40] END randomforestregressor__max_depth=5, randomforestregressor__n_estimators=155, randomforestregressor__random_state=12345; total time=  23.2s\n",
            "[CV 1/5; 21/40] START randomforestregressor__max_depth=6, randomforestregressor__n_estimators=5, randomforestregressor__random_state=12345\n",
            "[CV 1/5; 21/40] END randomforestregressor__max_depth=6, randomforestregressor__n_estimators=5, randomforestregressor__random_state=12345; total time=   0.9s\n",
            "[CV 2/5; 21/40] START randomforestregressor__max_depth=6, randomforestregressor__n_estimators=5, randomforestregressor__random_state=12345\n",
            "[CV 2/5; 21/40] END randomforestregressor__max_depth=6, randomforestregressor__n_estimators=5, randomforestregressor__random_state=12345; total time=   0.9s\n",
            "[CV 3/5; 21/40] START randomforestregressor__max_depth=6, randomforestregressor__n_estimators=5, randomforestregressor__random_state=12345\n",
            "[CV 3/5; 21/40] END randomforestregressor__max_depth=6, randomforestregressor__n_estimators=5, randomforestregressor__random_state=12345; total time=   0.9s\n",
            "[CV 4/5; 21/40] START randomforestregressor__max_depth=6, randomforestregressor__n_estimators=5, randomforestregressor__random_state=12345\n",
            "[CV 4/5; 21/40] END randomforestregressor__max_depth=6, randomforestregressor__n_estimators=5, randomforestregressor__random_state=12345; total time=   0.9s\n",
            "[CV 5/5; 21/40] START randomforestregressor__max_depth=6, randomforestregressor__n_estimators=5, randomforestregressor__random_state=12345\n",
            "[CV 5/5; 21/40] END randomforestregressor__max_depth=6, randomforestregressor__n_estimators=5, randomforestregressor__random_state=12345; total time=   0.9s\n",
            "[CV 1/5; 22/40] START randomforestregressor__max_depth=6, randomforestregressor__n_estimators=55, randomforestregressor__random_state=12345\n",
            "[CV 1/5; 22/40] END randomforestregressor__max_depth=6, randomforestregressor__n_estimators=55, randomforestregressor__random_state=12345; total time=   9.7s\n",
            "[CV 2/5; 22/40] START randomforestregressor__max_depth=6, randomforestregressor__n_estimators=55, randomforestregressor__random_state=12345\n",
            "[CV 2/5; 22/40] END randomforestregressor__max_depth=6, randomforestregressor__n_estimators=55, randomforestregressor__random_state=12345; total time=   9.6s\n",
            "[CV 3/5; 22/40] START randomforestregressor__max_depth=6, randomforestregressor__n_estimators=55, randomforestregressor__random_state=12345\n",
            "[CV 3/5; 22/40] END randomforestregressor__max_depth=6, randomforestregressor__n_estimators=55, randomforestregressor__random_state=12345; total time=   9.6s\n",
            "[CV 4/5; 22/40] START randomforestregressor__max_depth=6, randomforestregressor__n_estimators=55, randomforestregressor__random_state=12345\n",
            "[CV 4/5; 22/40] END randomforestregressor__max_depth=6, randomforestregressor__n_estimators=55, randomforestregressor__random_state=12345; total time=   9.5s\n",
            "[CV 5/5; 22/40] START randomforestregressor__max_depth=6, randomforestregressor__n_estimators=55, randomforestregressor__random_state=12345\n",
            "[CV 5/5; 22/40] END randomforestregressor__max_depth=6, randomforestregressor__n_estimators=55, randomforestregressor__random_state=12345; total time=   9.7s\n",
            "[CV 1/5; 23/40] START randomforestregressor__max_depth=6, randomforestregressor__n_estimators=105, randomforestregressor__random_state=12345\n",
            "[CV 1/5; 23/40] END randomforestregressor__max_depth=6, randomforestregressor__n_estimators=105, randomforestregressor__random_state=12345; total time=  18.6s\n",
            "[CV 2/5; 23/40] START randomforestregressor__max_depth=6, randomforestregressor__n_estimators=105, randomforestregressor__random_state=12345\n",
            "[CV 2/5; 23/40] END randomforestregressor__max_depth=6, randomforestregressor__n_estimators=105, randomforestregressor__random_state=12345; total time=  18.3s\n",
            "[CV 3/5; 23/40] START randomforestregressor__max_depth=6, randomforestregressor__n_estimators=105, randomforestregressor__random_state=12345\n",
            "[CV 3/5; 23/40] END randomforestregressor__max_depth=6, randomforestregressor__n_estimators=105, randomforestregressor__random_state=12345; total time=  18.1s\n",
            "[CV 4/5; 23/40] START randomforestregressor__max_depth=6, randomforestregressor__n_estimators=105, randomforestregressor__random_state=12345\n",
            "[CV 4/5; 23/40] END randomforestregressor__max_depth=6, randomforestregressor__n_estimators=105, randomforestregressor__random_state=12345; total time=  18.1s\n",
            "[CV 5/5; 23/40] START randomforestregressor__max_depth=6, randomforestregressor__n_estimators=105, randomforestregressor__random_state=12345\n",
            "[CV 5/5; 23/40] END randomforestregressor__max_depth=6, randomforestregressor__n_estimators=105, randomforestregressor__random_state=12345; total time=  18.4s\n",
            "[CV 1/5; 24/40] START randomforestregressor__max_depth=6, randomforestregressor__n_estimators=155, randomforestregressor__random_state=12345\n",
            "[CV 1/5; 24/40] END randomforestregressor__max_depth=6, randomforestregressor__n_estimators=155, randomforestregressor__random_state=12345; total time=  27.2s\n",
            "[CV 2/5; 24/40] START randomforestregressor__max_depth=6, randomforestregressor__n_estimators=155, randomforestregressor__random_state=12345\n",
            "[CV 2/5; 24/40] END randomforestregressor__max_depth=6, randomforestregressor__n_estimators=155, randomforestregressor__random_state=12345; total time=  27.1s\n",
            "[CV 3/5; 24/40] START randomforestregressor__max_depth=6, randomforestregressor__n_estimators=155, randomforestregressor__random_state=12345\n",
            "[CV 3/5; 24/40] END randomforestregressor__max_depth=6, randomforestregressor__n_estimators=155, randomforestregressor__random_state=12345; total time=  26.9s\n",
            "[CV 4/5; 24/40] START randomforestregressor__max_depth=6, randomforestregressor__n_estimators=155, randomforestregressor__random_state=12345\n",
            "[CV 4/5; 24/40] END randomforestregressor__max_depth=6, randomforestregressor__n_estimators=155, randomforestregressor__random_state=12345; total time=  26.7s\n",
            "[CV 5/5; 24/40] START randomforestregressor__max_depth=6, randomforestregressor__n_estimators=155, randomforestregressor__random_state=12345\n",
            "[CV 5/5; 24/40] END randomforestregressor__max_depth=6, randomforestregressor__n_estimators=155, randomforestregressor__random_state=12345; total time=  26.9s\n",
            "[CV 1/5; 25/40] START randomforestregressor__max_depth=7, randomforestregressor__n_estimators=5, randomforestregressor__random_state=12345\n",
            "[CV 1/5; 25/40] END randomforestregressor__max_depth=7, randomforestregressor__n_estimators=5, randomforestregressor__random_state=12345; total time=   1.0s\n",
            "[CV 2/5; 25/40] START randomforestregressor__max_depth=7, randomforestregressor__n_estimators=5, randomforestregressor__random_state=12345\n",
            "[CV 2/5; 25/40] END randomforestregressor__max_depth=7, randomforestregressor__n_estimators=5, randomforestregressor__random_state=12345; total time=   1.0s\n",
            "[CV 3/5; 25/40] START randomforestregressor__max_depth=7, randomforestregressor__n_estimators=5, randomforestregressor__random_state=12345\n",
            "[CV 3/5; 25/40] END randomforestregressor__max_depth=7, randomforestregressor__n_estimators=5, randomforestregressor__random_state=12345; total time=   1.0s\n",
            "[CV 4/5; 25/40] START randomforestregressor__max_depth=7, randomforestregressor__n_estimators=5, randomforestregressor__random_state=12345\n",
            "[CV 4/5; 25/40] END randomforestregressor__max_depth=7, randomforestregressor__n_estimators=5, randomforestregressor__random_state=12345; total time=   1.0s\n",
            "[CV 5/5; 25/40] START randomforestregressor__max_depth=7, randomforestregressor__n_estimators=5, randomforestregressor__random_state=12345\n",
            "[CV 5/5; 25/40] END randomforestregressor__max_depth=7, randomforestregressor__n_estimators=5, randomforestregressor__random_state=12345; total time=   1.0s\n",
            "[CV 1/5; 26/40] START randomforestregressor__max_depth=7, randomforestregressor__n_estimators=55, randomforestregressor__random_state=12345\n",
            "[CV 1/5; 26/40] END randomforestregressor__max_depth=7, randomforestregressor__n_estimators=55, randomforestregressor__random_state=12345; total time=  11.1s\n",
            "[CV 2/5; 26/40] START randomforestregressor__max_depth=7, randomforestregressor__n_estimators=55, randomforestregressor__random_state=12345\n",
            "[CV 2/5; 26/40] END randomforestregressor__max_depth=7, randomforestregressor__n_estimators=55, randomforestregressor__random_state=12345; total time=  10.9s\n",
            "[CV 3/5; 26/40] START randomforestregressor__max_depth=7, randomforestregressor__n_estimators=55, randomforestregressor__random_state=12345\n",
            "[CV 3/5; 26/40] END randomforestregressor__max_depth=7, randomforestregressor__n_estimators=55, randomforestregressor__random_state=12345; total time=  10.8s\n",
            "[CV 4/5; 26/40] START randomforestregressor__max_depth=7, randomforestregressor__n_estimators=55, randomforestregressor__random_state=12345\n",
            "[CV 4/5; 26/40] END randomforestregressor__max_depth=7, randomforestregressor__n_estimators=55, randomforestregressor__random_state=12345; total time=  10.8s\n",
            "[CV 5/5; 26/40] START randomforestregressor__max_depth=7, randomforestregressor__n_estimators=55, randomforestregressor__random_state=12345\n",
            "[CV 5/5; 26/40] END randomforestregressor__max_depth=7, randomforestregressor__n_estimators=55, randomforestregressor__random_state=12345; total time=  10.9s\n",
            "[CV 1/5; 27/40] START randomforestregressor__max_depth=7, randomforestregressor__n_estimators=105, randomforestregressor__random_state=12345\n",
            "[CV 1/5; 27/40] END randomforestregressor__max_depth=7, randomforestregressor__n_estimators=105, randomforestregressor__random_state=12345; total time=  20.9s\n",
            "[CV 2/5; 27/40] START randomforestregressor__max_depth=7, randomforestregressor__n_estimators=105, randomforestregressor__random_state=12345\n",
            "[CV 2/5; 27/40] END randomforestregressor__max_depth=7, randomforestregressor__n_estimators=105, randomforestregressor__random_state=12345; total time=  20.8s\n",
            "[CV 3/5; 27/40] START randomforestregressor__max_depth=7, randomforestregressor__n_estimators=105, randomforestregressor__random_state=12345\n",
            "[CV 3/5; 27/40] END randomforestregressor__max_depth=7, randomforestregressor__n_estimators=105, randomforestregressor__random_state=12345; total time=  20.6s\n",
            "[CV 4/5; 27/40] START randomforestregressor__max_depth=7, randomforestregressor__n_estimators=105, randomforestregressor__random_state=12345\n",
            "[CV 4/5; 27/40] END randomforestregressor__max_depth=7, randomforestregressor__n_estimators=105, randomforestregressor__random_state=12345; total time=  20.7s\n",
            "[CV 5/5; 27/40] START randomforestregressor__max_depth=7, randomforestregressor__n_estimators=105, randomforestregressor__random_state=12345\n",
            "[CV 5/5; 27/40] END randomforestregressor__max_depth=7, randomforestregressor__n_estimators=105, randomforestregressor__random_state=12345; total time=  20.7s\n",
            "[CV 1/5; 28/40] START randomforestregressor__max_depth=7, randomforestregressor__n_estimators=155, randomforestregressor__random_state=12345\n",
            "[CV 1/5; 28/40] END randomforestregressor__max_depth=7, randomforestregressor__n_estimators=155, randomforestregressor__random_state=12345; total time=  30.9s\n",
            "[CV 2/5; 28/40] START randomforestregressor__max_depth=7, randomforestregressor__n_estimators=155, randomforestregressor__random_state=12345\n",
            "[CV 2/5; 28/40] END randomforestregressor__max_depth=7, randomforestregressor__n_estimators=155, randomforestregressor__random_state=12345; total time=  30.9s\n",
            "[CV 3/5; 28/40] START randomforestregressor__max_depth=7, randomforestregressor__n_estimators=155, randomforestregressor__random_state=12345\n",
            "[CV 3/5; 28/40] END randomforestregressor__max_depth=7, randomforestregressor__n_estimators=155, randomforestregressor__random_state=12345; total time=  30.8s\n",
            "[CV 4/5; 28/40] START randomforestregressor__max_depth=7, randomforestregressor__n_estimators=155, randomforestregressor__random_state=12345\n",
            "[CV 4/5; 28/40] END randomforestregressor__max_depth=7, randomforestregressor__n_estimators=155, randomforestregressor__random_state=12345; total time=  30.4s\n",
            "[CV 5/5; 28/40] START randomforestregressor__max_depth=7, randomforestregressor__n_estimators=155, randomforestregressor__random_state=12345\n",
            "[CV 5/5; 28/40] END randomforestregressor__max_depth=7, randomforestregressor__n_estimators=155, randomforestregressor__random_state=12345; total time=  30.8s\n",
            "[CV 1/5; 29/40] START randomforestregressor__max_depth=8, randomforestregressor__n_estimators=5, randomforestregressor__random_state=12345\n",
            "[CV 1/5; 29/40] END randomforestregressor__max_depth=8, randomforestregressor__n_estimators=5, randomforestregressor__random_state=12345; total time=   1.1s\n",
            "[CV 2/5; 29/40] START randomforestregressor__max_depth=8, randomforestregressor__n_estimators=5, randomforestregressor__random_state=12345\n",
            "[CV 2/5; 29/40] END randomforestregressor__max_depth=8, randomforestregressor__n_estimators=5, randomforestregressor__random_state=12345; total time=   1.1s\n",
            "[CV 3/5; 29/40] START randomforestregressor__max_depth=8, randomforestregressor__n_estimators=5, randomforestregressor__random_state=12345\n",
            "[CV 3/5; 29/40] END randomforestregressor__max_depth=8, randomforestregressor__n_estimators=5, randomforestregressor__random_state=12345; total time=   1.1s\n",
            "[CV 4/5; 29/40] START randomforestregressor__max_depth=8, randomforestregressor__n_estimators=5, randomforestregressor__random_state=12345\n",
            "[CV 4/5; 29/40] END randomforestregressor__max_depth=8, randomforestregressor__n_estimators=5, randomforestregressor__random_state=12345; total time=   1.1s\n",
            "[CV 5/5; 29/40] START randomforestregressor__max_depth=8, randomforestregressor__n_estimators=5, randomforestregressor__random_state=12345\n",
            "[CV 5/5; 29/40] END randomforestregressor__max_depth=8, randomforestregressor__n_estimators=5, randomforestregressor__random_state=12345; total time=   1.1s\n",
            "[CV 1/5; 30/40] START randomforestregressor__max_depth=8, randomforestregressor__n_estimators=55, randomforestregressor__random_state=12345\n",
            "[CV 1/5; 30/40] END randomforestregressor__max_depth=8, randomforestregressor__n_estimators=55, randomforestregressor__random_state=12345; total time=  12.1s\n",
            "[CV 2/5; 30/40] START randomforestregressor__max_depth=8, randomforestregressor__n_estimators=55, randomforestregressor__random_state=12345\n",
            "[CV 2/5; 30/40] END randomforestregressor__max_depth=8, randomforestregressor__n_estimators=55, randomforestregressor__random_state=12345; total time=  12.2s\n",
            "[CV 3/5; 30/40] START randomforestregressor__max_depth=8, randomforestregressor__n_estimators=55, randomforestregressor__random_state=12345\n",
            "[CV 3/5; 30/40] END randomforestregressor__max_depth=8, randomforestregressor__n_estimators=55, randomforestregressor__random_state=12345; total time=  12.1s\n",
            "[CV 4/5; 30/40] START randomforestregressor__max_depth=8, randomforestregressor__n_estimators=55, randomforestregressor__random_state=12345\n",
            "[CV 4/5; 30/40] END randomforestregressor__max_depth=8, randomforestregressor__n_estimators=55, randomforestregressor__random_state=12345; total time=  12.0s\n",
            "[CV 5/5; 30/40] START randomforestregressor__max_depth=8, randomforestregressor__n_estimators=55, randomforestregressor__random_state=12345\n",
            "[CV 5/5; 30/40] END randomforestregressor__max_depth=8, randomforestregressor__n_estimators=55, randomforestregressor__random_state=12345; total time=  12.3s\n",
            "[CV 1/5; 31/40] START randomforestregressor__max_depth=8, randomforestregressor__n_estimators=105, randomforestregressor__random_state=12345\n",
            "[CV 1/5; 31/40] END randomforestregressor__max_depth=8, randomforestregressor__n_estimators=105, randomforestregressor__random_state=12345; total time=  23.3s\n",
            "[CV 2/5; 31/40] START randomforestregressor__max_depth=8, randomforestregressor__n_estimators=105, randomforestregressor__random_state=12345\n",
            "[CV 2/5; 31/40] END randomforestregressor__max_depth=8, randomforestregressor__n_estimators=105, randomforestregressor__random_state=12345; total time=  23.2s\n",
            "[CV 3/5; 31/40] START randomforestregressor__max_depth=8, randomforestregressor__n_estimators=105, randomforestregressor__random_state=12345\n",
            "[CV 3/5; 31/40] END randomforestregressor__max_depth=8, randomforestregressor__n_estimators=105, randomforestregressor__random_state=12345; total time=  23.1s\n",
            "[CV 4/5; 31/40] START randomforestregressor__max_depth=8, randomforestregressor__n_estimators=105, randomforestregressor__random_state=12345\n",
            "[CV 4/5; 31/40] END randomforestregressor__max_depth=8, randomforestregressor__n_estimators=105, randomforestregressor__random_state=12345; total time=  22.9s\n",
            "[CV 5/5; 31/40] START randomforestregressor__max_depth=8, randomforestregressor__n_estimators=105, randomforestregressor__random_state=12345\n",
            "[CV 5/5; 31/40] END randomforestregressor__max_depth=8, randomforestregressor__n_estimators=105, randomforestregressor__random_state=12345; total time=  23.5s\n",
            "[CV 1/5; 32/40] START randomforestregressor__max_depth=8, randomforestregressor__n_estimators=155, randomforestregressor__random_state=12345\n",
            "[CV 1/5; 32/40] END randomforestregressor__max_depth=8, randomforestregressor__n_estimators=155, randomforestregressor__random_state=12345; total time=  34.3s\n",
            "[CV 2/5; 32/40] START randomforestregressor__max_depth=8, randomforestregressor__n_estimators=155, randomforestregressor__random_state=12345\n",
            "[CV 2/5; 32/40] END randomforestregressor__max_depth=8, randomforestregressor__n_estimators=155, randomforestregressor__random_state=12345; total time=  34.3s\n",
            "[CV 3/5; 32/40] START randomforestregressor__max_depth=8, randomforestregressor__n_estimators=155, randomforestregressor__random_state=12345\n",
            "[CV 3/5; 32/40] END randomforestregressor__max_depth=8, randomforestregressor__n_estimators=155, randomforestregressor__random_state=12345; total time=  33.9s\n",
            "[CV 4/5; 32/40] START randomforestregressor__max_depth=8, randomforestregressor__n_estimators=155, randomforestregressor__random_state=12345\n",
            "[CV 4/5; 32/40] END randomforestregressor__max_depth=8, randomforestregressor__n_estimators=155, randomforestregressor__random_state=12345; total time=  33.7s\n",
            "[CV 5/5; 32/40] START randomforestregressor__max_depth=8, randomforestregressor__n_estimators=155, randomforestregressor__random_state=12345\n",
            "[CV 5/5; 32/40] END randomforestregressor__max_depth=8, randomforestregressor__n_estimators=155, randomforestregressor__random_state=12345; total time=  34.3s\n",
            "[CV 1/5; 33/40] START randomforestregressor__max_depth=9, randomforestregressor__n_estimators=5, randomforestregressor__random_state=12345\n",
            "[CV 1/5; 33/40] END randomforestregressor__max_depth=9, randomforestregressor__n_estimators=5, randomforestregressor__random_state=12345; total time=   1.3s\n",
            "[CV 2/5; 33/40] START randomforestregressor__max_depth=9, randomforestregressor__n_estimators=5, randomforestregressor__random_state=12345\n",
            "[CV 2/5; 33/40] END randomforestregressor__max_depth=9, randomforestregressor__n_estimators=5, randomforestregressor__random_state=12345; total time=   1.2s\n",
            "[CV 3/5; 33/40] START randomforestregressor__max_depth=9, randomforestregressor__n_estimators=5, randomforestregressor__random_state=12345\n",
            "[CV 3/5; 33/40] END randomforestregressor__max_depth=9, randomforestregressor__n_estimators=5, randomforestregressor__random_state=12345; total time=   1.2s\n",
            "[CV 4/5; 33/40] START randomforestregressor__max_depth=9, randomforestregressor__n_estimators=5, randomforestregressor__random_state=12345\n",
            "[CV 4/5; 33/40] END randomforestregressor__max_depth=9, randomforestregressor__n_estimators=5, randomforestregressor__random_state=12345; total time=   1.2s\n",
            "[CV 5/5; 33/40] START randomforestregressor__max_depth=9, randomforestregressor__n_estimators=5, randomforestregressor__random_state=12345\n",
            "[CV 5/5; 33/40] END randomforestregressor__max_depth=9, randomforestregressor__n_estimators=5, randomforestregressor__random_state=12345; total time=   1.2s\n",
            "[CV 1/5; 34/40] START randomforestregressor__max_depth=9, randomforestregressor__n_estimators=55, randomforestregressor__random_state=12345\n",
            "[CV 1/5; 34/40] END randomforestregressor__max_depth=9, randomforestregressor__n_estimators=55, randomforestregressor__random_state=12345; total time=  13.3s\n",
            "[CV 2/5; 34/40] START randomforestregressor__max_depth=9, randomforestregressor__n_estimators=55, randomforestregressor__random_state=12345\n",
            "[CV 2/5; 34/40] END randomforestregressor__max_depth=9, randomforestregressor__n_estimators=55, randomforestregressor__random_state=12345; total time=  13.4s\n",
            "[CV 3/5; 34/40] START randomforestregressor__max_depth=9, randomforestregressor__n_estimators=55, randomforestregressor__random_state=12345\n",
            "[CV 3/5; 34/40] END randomforestregressor__max_depth=9, randomforestregressor__n_estimators=55, randomforestregressor__random_state=12345; total time=  13.2s\n",
            "[CV 4/5; 34/40] START randomforestregressor__max_depth=9, randomforestregressor__n_estimators=55, randomforestregressor__random_state=12345\n",
            "[CV 4/5; 34/40] END randomforestregressor__max_depth=9, randomforestregressor__n_estimators=55, randomforestregressor__random_state=12345; total time=  13.3s\n",
            "[CV 5/5; 34/40] START randomforestregressor__max_depth=9, randomforestregressor__n_estimators=55, randomforestregressor__random_state=12345\n",
            "[CV 5/5; 34/40] END randomforestregressor__max_depth=9, randomforestregressor__n_estimators=55, randomforestregressor__random_state=12345; total time=  13.5s\n",
            "[CV 1/5; 35/40] START randomforestregressor__max_depth=9, randomforestregressor__n_estimators=105, randomforestregressor__random_state=12345\n",
            "[CV 1/5; 35/40] END randomforestregressor__max_depth=9, randomforestregressor__n_estimators=105, randomforestregressor__random_state=12345; total time=  25.4s\n",
            "[CV 2/5; 35/40] START randomforestregressor__max_depth=9, randomforestregressor__n_estimators=105, randomforestregressor__random_state=12345\n",
            "[CV 2/5; 35/40] END randomforestregressor__max_depth=9, randomforestregressor__n_estimators=105, randomforestregressor__random_state=12345; total time=  25.5s\n",
            "[CV 3/5; 35/40] START randomforestregressor__max_depth=9, randomforestregressor__n_estimators=105, randomforestregressor__random_state=12345\n",
            "[CV 3/5; 35/40] END randomforestregressor__max_depth=9, randomforestregressor__n_estimators=105, randomforestregressor__random_state=12345; total time=  25.1s\n",
            "[CV 4/5; 35/40] START randomforestregressor__max_depth=9, randomforestregressor__n_estimators=105, randomforestregressor__random_state=12345\n",
            "[CV 4/5; 35/40] END randomforestregressor__max_depth=9, randomforestregressor__n_estimators=105, randomforestregressor__random_state=12345; total time=  25.0s\n",
            "[CV 5/5; 35/40] START randomforestregressor__max_depth=9, randomforestregressor__n_estimators=105, randomforestregressor__random_state=12345\n",
            "[CV 5/5; 35/40] END randomforestregressor__max_depth=9, randomforestregressor__n_estimators=105, randomforestregressor__random_state=12345; total time=  25.6s\n",
            "[CV 1/5; 36/40] START randomforestregressor__max_depth=9, randomforestregressor__n_estimators=155, randomforestregressor__random_state=12345\n",
            "[CV 1/5; 36/40] END randomforestregressor__max_depth=9, randomforestregressor__n_estimators=155, randomforestregressor__random_state=12345; total time=  37.6s\n",
            "[CV 2/5; 36/40] START randomforestregressor__max_depth=9, randomforestregressor__n_estimators=155, randomforestregressor__random_state=12345\n",
            "[CV 2/5; 36/40] END randomforestregressor__max_depth=9, randomforestregressor__n_estimators=155, randomforestregressor__random_state=12345; total time=  37.7s\n",
            "[CV 3/5; 36/40] START randomforestregressor__max_depth=9, randomforestregressor__n_estimators=155, randomforestregressor__random_state=12345\n",
            "[CV 3/5; 36/40] END randomforestregressor__max_depth=9, randomforestregressor__n_estimators=155, randomforestregressor__random_state=12345; total time=  37.7s\n",
            "[CV 4/5; 36/40] START randomforestregressor__max_depth=9, randomforestregressor__n_estimators=155, randomforestregressor__random_state=12345\n",
            "[CV 4/5; 36/40] END randomforestregressor__max_depth=9, randomforestregressor__n_estimators=155, randomforestregressor__random_state=12345; total time=  37.1s\n",
            "[CV 5/5; 36/40] START randomforestregressor__max_depth=9, randomforestregressor__n_estimators=155, randomforestregressor__random_state=12345\n",
            "[CV 5/5; 36/40] END randomforestregressor__max_depth=9, randomforestregressor__n_estimators=155, randomforestregressor__random_state=12345; total time=  37.8s\n",
            "[CV 1/5; 37/40] START randomforestregressor__max_depth=10, randomforestregressor__n_estimators=5, randomforestregressor__random_state=12345\n",
            "[CV 1/5; 37/40] END randomforestregressor__max_depth=10, randomforestregressor__n_estimators=5, randomforestregressor__random_state=12345; total time=   1.4s\n",
            "[CV 2/5; 37/40] START randomforestregressor__max_depth=10, randomforestregressor__n_estimators=5, randomforestregressor__random_state=12345\n",
            "[CV 2/5; 37/40] END randomforestregressor__max_depth=10, randomforestregressor__n_estimators=5, randomforestregressor__random_state=12345; total time=   1.4s\n",
            "[CV 3/5; 37/40] START randomforestregressor__max_depth=10, randomforestregressor__n_estimators=5, randomforestregressor__random_state=12345\n",
            "[CV 3/5; 37/40] END randomforestregressor__max_depth=10, randomforestregressor__n_estimators=5, randomforestregressor__random_state=12345; total time=   1.3s\n",
            "[CV 4/5; 37/40] START randomforestregressor__max_depth=10, randomforestregressor__n_estimators=5, randomforestregressor__random_state=12345\n",
            "[CV 4/5; 37/40] END randomforestregressor__max_depth=10, randomforestregressor__n_estimators=5, randomforestregressor__random_state=12345; total time=   1.3s\n",
            "[CV 5/5; 37/40] START randomforestregressor__max_depth=10, randomforestregressor__n_estimators=5, randomforestregressor__random_state=12345\n",
            "[CV 5/5; 37/40] END randomforestregressor__max_depth=10, randomforestregressor__n_estimators=5, randomforestregressor__random_state=12345; total time=   1.4s\n",
            "[CV 1/5; 38/40] START randomforestregressor__max_depth=10, randomforestregressor__n_estimators=55, randomforestregressor__random_state=12345\n",
            "[CV 1/5; 38/40] END randomforestregressor__max_depth=10, randomforestregressor__n_estimators=55, randomforestregressor__random_state=12345; total time=  14.5s\n",
            "[CV 2/5; 38/40] START randomforestregressor__max_depth=10, randomforestregressor__n_estimators=55, randomforestregressor__random_state=12345\n",
            "[CV 2/5; 38/40] END randomforestregressor__max_depth=10, randomforestregressor__n_estimators=55, randomforestregressor__random_state=12345; total time=  14.6s\n",
            "[CV 3/5; 38/40] START randomforestregressor__max_depth=10, randomforestregressor__n_estimators=55, randomforestregressor__random_state=12345\n",
            "[CV 3/5; 38/40] END randomforestregressor__max_depth=10, randomforestregressor__n_estimators=55, randomforestregressor__random_state=12345; total time=  14.5s\n",
            "[CV 4/5; 38/40] START randomforestregressor__max_depth=10, randomforestregressor__n_estimators=55, randomforestregressor__random_state=12345\n",
            "[CV 4/5; 38/40] END randomforestregressor__max_depth=10, randomforestregressor__n_estimators=55, randomforestregressor__random_state=12345; total time=  14.3s\n",
            "[CV 5/5; 38/40] START randomforestregressor__max_depth=10, randomforestregressor__n_estimators=55, randomforestregressor__random_state=12345\n",
            "[CV 5/5; 38/40] END randomforestregressor__max_depth=10, randomforestregressor__n_estimators=55, randomforestregressor__random_state=12345; total time=  14.4s\n",
            "[CV 1/5; 39/40] START randomforestregressor__max_depth=10, randomforestregressor__n_estimators=105, randomforestregressor__random_state=12345\n",
            "[CV 1/5; 39/40] END randomforestregressor__max_depth=10, randomforestregressor__n_estimators=105, randomforestregressor__random_state=12345; total time=  27.7s\n",
            "[CV 2/5; 39/40] START randomforestregressor__max_depth=10, randomforestregressor__n_estimators=105, randomforestregressor__random_state=12345\n",
            "[CV 2/5; 39/40] END randomforestregressor__max_depth=10, randomforestregressor__n_estimators=105, randomforestregressor__random_state=12345; total time=  27.6s\n",
            "[CV 3/5; 39/40] START randomforestregressor__max_depth=10, randomforestregressor__n_estimators=105, randomforestregressor__random_state=12345\n",
            "[CV 3/5; 39/40] END randomforestregressor__max_depth=10, randomforestregressor__n_estimators=105, randomforestregressor__random_state=12345; total time=  27.4s\n",
            "[CV 4/5; 39/40] START randomforestregressor__max_depth=10, randomforestregressor__n_estimators=105, randomforestregressor__random_state=12345\n",
            "[CV 4/5; 39/40] END randomforestregressor__max_depth=10, randomforestregressor__n_estimators=105, randomforestregressor__random_state=12345; total time=  27.2s\n",
            "[CV 5/5; 39/40] START randomforestregressor__max_depth=10, randomforestregressor__n_estimators=105, randomforestregressor__random_state=12345\n",
            "[CV 5/5; 39/40] END randomforestregressor__max_depth=10, randomforestregressor__n_estimators=105, randomforestregressor__random_state=12345; total time=  27.6s\n",
            "[CV 1/5; 40/40] START randomforestregressor__max_depth=10, randomforestregressor__n_estimators=155, randomforestregressor__random_state=12345\n",
            "[CV 1/5; 40/40] END randomforestregressor__max_depth=10, randomforestregressor__n_estimators=155, randomforestregressor__random_state=12345; total time=  40.8s\n",
            "[CV 2/5; 40/40] START randomforestregressor__max_depth=10, randomforestregressor__n_estimators=155, randomforestregressor__random_state=12345\n",
            "[CV 2/5; 40/40] END randomforestregressor__max_depth=10, randomforestregressor__n_estimators=155, randomforestregressor__random_state=12345; total time=  41.0s\n",
            "[CV 3/5; 40/40] START randomforestregressor__max_depth=10, randomforestregressor__n_estimators=155, randomforestregressor__random_state=12345\n",
            "[CV 3/5; 40/40] END randomforestregressor__max_depth=10, randomforestregressor__n_estimators=155, randomforestregressor__random_state=12345; total time=  40.4s\n",
            "[CV 4/5; 40/40] START randomforestregressor__max_depth=10, randomforestregressor__n_estimators=155, randomforestregressor__random_state=12345\n",
            "[CV 4/5; 40/40] END randomforestregressor__max_depth=10, randomforestregressor__n_estimators=155, randomforestregressor__random_state=12345; total time=  40.1s\n",
            "[CV 5/5; 40/40] START randomforestregressor__max_depth=10, randomforestregressor__n_estimators=155, randomforestregressor__random_state=12345\n",
            "[CV 5/5; 40/40] END randomforestregressor__max_depth=10, randomforestregressor__n_estimators=155, randomforestregressor__random_state=12345; total time=  40.9s\n",
            "Fitting 5 folds for each of 40 candidates, totalling 200 fits\n",
            "[CV 1/5; 1/40] START randomforestregressor__max_depth=1, randomforestregressor__n_estimators=5, randomforestregressor__random_state=12345\n",
            "[CV 1/5; 1/40] END randomforestregressor__max_depth=1, randomforestregressor__n_estimators=5, randomforestregressor__random_state=12345; total time=   0.2s\n",
            "[CV 2/5; 1/40] START randomforestregressor__max_depth=1, randomforestregressor__n_estimators=5, randomforestregressor__random_state=12345\n",
            "[CV 2/5; 1/40] END randomforestregressor__max_depth=1, randomforestregressor__n_estimators=5, randomforestregressor__random_state=12345; total time=   0.2s\n",
            "[CV 3/5; 1/40] START randomforestregressor__max_depth=1, randomforestregressor__n_estimators=5, randomforestregressor__random_state=12345\n",
            "[CV 3/5; 1/40] END randomforestregressor__max_depth=1, randomforestregressor__n_estimators=5, randomforestregressor__random_state=12345; total time=   0.2s\n",
            "[CV 4/5; 1/40] START randomforestregressor__max_depth=1, randomforestregressor__n_estimators=5, randomforestregressor__random_state=12345\n",
            "[CV 4/5; 1/40] END randomforestregressor__max_depth=1, randomforestregressor__n_estimators=5, randomforestregressor__random_state=12345; total time=   0.2s\n",
            "[CV 5/5; 1/40] START randomforestregressor__max_depth=1, randomforestregressor__n_estimators=5, randomforestregressor__random_state=12345\n",
            "[CV 5/5; 1/40] END randomforestregressor__max_depth=1, randomforestregressor__n_estimators=5, randomforestregressor__random_state=12345; total time=   0.2s\n",
            "[CV 1/5; 2/40] START randomforestregressor__max_depth=1, randomforestregressor__n_estimators=55, randomforestregressor__random_state=12345\n",
            "[CV 1/5; 2/40] END randomforestregressor__max_depth=1, randomforestregressor__n_estimators=55, randomforestregressor__random_state=12345; total time=   1.9s\n",
            "[CV 2/5; 2/40] START randomforestregressor__max_depth=1, randomforestregressor__n_estimators=55, randomforestregressor__random_state=12345\n",
            "[CV 2/5; 2/40] END randomforestregressor__max_depth=1, randomforestregressor__n_estimators=55, randomforestregressor__random_state=12345; total time=   1.9s\n",
            "[CV 3/5; 2/40] START randomforestregressor__max_depth=1, randomforestregressor__n_estimators=55, randomforestregressor__random_state=12345\n",
            "[CV 3/5; 2/40] END randomforestregressor__max_depth=1, randomforestregressor__n_estimators=55, randomforestregressor__random_state=12345; total time=   2.0s\n",
            "[CV 4/5; 2/40] START randomforestregressor__max_depth=1, randomforestregressor__n_estimators=55, randomforestregressor__random_state=12345\n",
            "[CV 4/5; 2/40] END randomforestregressor__max_depth=1, randomforestregressor__n_estimators=55, randomforestregressor__random_state=12345; total time=   2.0s\n",
            "[CV 5/5; 2/40] START randomforestregressor__max_depth=1, randomforestregressor__n_estimators=55, randomforestregressor__random_state=12345\n",
            "[CV 5/5; 2/40] END randomforestregressor__max_depth=1, randomforestregressor__n_estimators=55, randomforestregressor__random_state=12345; total time=   2.0s\n",
            "[CV 1/5; 3/40] START randomforestregressor__max_depth=1, randomforestregressor__n_estimators=105, randomforestregressor__random_state=12345\n",
            "[CV 1/5; 3/40] END randomforestregressor__max_depth=1, randomforestregressor__n_estimators=105, randomforestregressor__random_state=12345; total time=   3.7s\n",
            "[CV 2/5; 3/40] START randomforestregressor__max_depth=1, randomforestregressor__n_estimators=105, randomforestregressor__random_state=12345\n",
            "[CV 2/5; 3/40] END randomforestregressor__max_depth=1, randomforestregressor__n_estimators=105, randomforestregressor__random_state=12345; total time=   3.7s\n",
            "[CV 3/5; 3/40] START randomforestregressor__max_depth=1, randomforestregressor__n_estimators=105, randomforestregressor__random_state=12345\n",
            "[CV 3/5; 3/40] END randomforestregressor__max_depth=1, randomforestregressor__n_estimators=105, randomforestregressor__random_state=12345; total time=   3.7s\n",
            "[CV 4/5; 3/40] START randomforestregressor__max_depth=1, randomforestregressor__n_estimators=105, randomforestregressor__random_state=12345\n",
            "[CV 4/5; 3/40] END randomforestregressor__max_depth=1, randomforestregressor__n_estimators=105, randomforestregressor__random_state=12345; total time=   3.7s\n",
            "[CV 5/5; 3/40] START randomforestregressor__max_depth=1, randomforestregressor__n_estimators=105, randomforestregressor__random_state=12345\n",
            "[CV 5/5; 3/40] END randomforestregressor__max_depth=1, randomforestregressor__n_estimators=105, randomforestregressor__random_state=12345; total time=   3.7s\n",
            "[CV 1/5; 4/40] START randomforestregressor__max_depth=1, randomforestregressor__n_estimators=155, randomforestregressor__random_state=12345\n",
            "[CV 1/5; 4/40] END randomforestregressor__max_depth=1, randomforestregressor__n_estimators=155, randomforestregressor__random_state=12345; total time=   5.4s\n",
            "[CV 2/5; 4/40] START randomforestregressor__max_depth=1, randomforestregressor__n_estimators=155, randomforestregressor__random_state=12345\n",
            "[CV 2/5; 4/40] END randomforestregressor__max_depth=1, randomforestregressor__n_estimators=155, randomforestregressor__random_state=12345; total time=   5.5s\n",
            "[CV 3/5; 4/40] START randomforestregressor__max_depth=1, randomforestregressor__n_estimators=155, randomforestregressor__random_state=12345\n",
            "[CV 3/5; 4/40] END randomforestregressor__max_depth=1, randomforestregressor__n_estimators=155, randomforestregressor__random_state=12345; total time=   5.5s\n",
            "[CV 4/5; 4/40] START randomforestregressor__max_depth=1, randomforestregressor__n_estimators=155, randomforestregressor__random_state=12345\n",
            "[CV 4/5; 4/40] END randomforestregressor__max_depth=1, randomforestregressor__n_estimators=155, randomforestregressor__random_state=12345; total time=   5.4s\n",
            "[CV 5/5; 4/40] START randomforestregressor__max_depth=1, randomforestregressor__n_estimators=155, randomforestregressor__random_state=12345\n",
            "[CV 5/5; 4/40] END randomforestregressor__max_depth=1, randomforestregressor__n_estimators=155, randomforestregressor__random_state=12345; total time=   5.5s\n",
            "[CV 1/5; 5/40] START randomforestregressor__max_depth=2, randomforestregressor__n_estimators=5, randomforestregressor__random_state=12345\n",
            "[CV 1/5; 5/40] END randomforestregressor__max_depth=2, randomforestregressor__n_estimators=5, randomforestregressor__random_state=12345; total time=   0.3s\n",
            "[CV 2/5; 5/40] START randomforestregressor__max_depth=2, randomforestregressor__n_estimators=5, randomforestregressor__random_state=12345\n",
            "[CV 2/5; 5/40] END randomforestregressor__max_depth=2, randomforestregressor__n_estimators=5, randomforestregressor__random_state=12345; total time=   0.4s\n",
            "[CV 3/5; 5/40] START randomforestregressor__max_depth=2, randomforestregressor__n_estimators=5, randomforestregressor__random_state=12345\n",
            "[CV 3/5; 5/40] END randomforestregressor__max_depth=2, randomforestregressor__n_estimators=5, randomforestregressor__random_state=12345; total time=   0.3s\n",
            "[CV 4/5; 5/40] START randomforestregressor__max_depth=2, randomforestregressor__n_estimators=5, randomforestregressor__random_state=12345\n",
            "[CV 4/5; 5/40] END randomforestregressor__max_depth=2, randomforestregressor__n_estimators=5, randomforestregressor__random_state=12345; total time=   0.3s\n",
            "[CV 5/5; 5/40] START randomforestregressor__max_depth=2, randomforestregressor__n_estimators=5, randomforestregressor__random_state=12345\n",
            "[CV 5/5; 5/40] END randomforestregressor__max_depth=2, randomforestregressor__n_estimators=5, randomforestregressor__random_state=12345; total time=   0.4s\n",
            "[CV 1/5; 6/40] START randomforestregressor__max_depth=2, randomforestregressor__n_estimators=55, randomforestregressor__random_state=12345\n",
            "[CV 1/5; 6/40] END randomforestregressor__max_depth=2, randomforestregressor__n_estimators=55, randomforestregressor__random_state=12345; total time=   3.7s\n",
            "[CV 2/5; 6/40] START randomforestregressor__max_depth=2, randomforestregressor__n_estimators=55, randomforestregressor__random_state=12345\n",
            "[CV 2/5; 6/40] END randomforestregressor__max_depth=2, randomforestregressor__n_estimators=55, randomforestregressor__random_state=12345; total time=   3.7s\n",
            "[CV 3/5; 6/40] START randomforestregressor__max_depth=2, randomforestregressor__n_estimators=55, randomforestregressor__random_state=12345\n",
            "[CV 3/5; 6/40] END randomforestregressor__max_depth=2, randomforestregressor__n_estimators=55, randomforestregressor__random_state=12345; total time=   3.6s\n",
            "[CV 4/5; 6/40] START randomforestregressor__max_depth=2, randomforestregressor__n_estimators=55, randomforestregressor__random_state=12345\n",
            "[CV 4/5; 6/40] END randomforestregressor__max_depth=2, randomforestregressor__n_estimators=55, randomforestregressor__random_state=12345; total time=   3.7s\n",
            "[CV 5/5; 6/40] START randomforestregressor__max_depth=2, randomforestregressor__n_estimators=55, randomforestregressor__random_state=12345\n",
            "[CV 5/5; 6/40] END randomforestregressor__max_depth=2, randomforestregressor__n_estimators=55, randomforestregressor__random_state=12345; total time=   3.7s\n",
            "[CV 1/5; 7/40] START randomforestregressor__max_depth=2, randomforestregressor__n_estimators=105, randomforestregressor__random_state=12345\n",
            "[CV 1/5; 7/40] END randomforestregressor__max_depth=2, randomforestregressor__n_estimators=105, randomforestregressor__random_state=12345; total time=   7.2s\n",
            "[CV 2/5; 7/40] START randomforestregressor__max_depth=2, randomforestregressor__n_estimators=105, randomforestregressor__random_state=12345\n",
            "[CV 2/5; 7/40] END randomforestregressor__max_depth=2, randomforestregressor__n_estimators=105, randomforestregressor__random_state=12345; total time=   6.9s\n",
            "[CV 3/5; 7/40] START randomforestregressor__max_depth=2, randomforestregressor__n_estimators=105, randomforestregressor__random_state=12345\n",
            "[CV 3/5; 7/40] END randomforestregressor__max_depth=2, randomforestregressor__n_estimators=105, randomforestregressor__random_state=12345; total time=   6.9s\n",
            "[CV 4/5; 7/40] START randomforestregressor__max_depth=2, randomforestregressor__n_estimators=105, randomforestregressor__random_state=12345\n",
            "[CV 4/5; 7/40] END randomforestregressor__max_depth=2, randomforestregressor__n_estimators=105, randomforestregressor__random_state=12345; total time=   7.0s\n",
            "[CV 5/5; 7/40] START randomforestregressor__max_depth=2, randomforestregressor__n_estimators=105, randomforestregressor__random_state=12345\n",
            "[CV 5/5; 7/40] END randomforestregressor__max_depth=2, randomforestregressor__n_estimators=105, randomforestregressor__random_state=12345; total time=   6.9s\n",
            "[CV 1/5; 8/40] START randomforestregressor__max_depth=2, randomforestregressor__n_estimators=155, randomforestregressor__random_state=12345\n",
            "[CV 1/5; 8/40] END randomforestregressor__max_depth=2, randomforestregressor__n_estimators=155, randomforestregressor__random_state=12345; total time=  10.3s\n",
            "[CV 2/5; 8/40] START randomforestregressor__max_depth=2, randomforestregressor__n_estimators=155, randomforestregressor__random_state=12345\n",
            "[CV 2/5; 8/40] END randomforestregressor__max_depth=2, randomforestregressor__n_estimators=155, randomforestregressor__random_state=12345; total time=  10.2s\n",
            "[CV 3/5; 8/40] START randomforestregressor__max_depth=2, randomforestregressor__n_estimators=155, randomforestregressor__random_state=12345\n",
            "[CV 3/5; 8/40] END randomforestregressor__max_depth=2, randomforestregressor__n_estimators=155, randomforestregressor__random_state=12345; total time=  10.3s\n",
            "[CV 4/5; 8/40] START randomforestregressor__max_depth=2, randomforestregressor__n_estimators=155, randomforestregressor__random_state=12345\n",
            "[CV 4/5; 8/40] END randomforestregressor__max_depth=2, randomforestregressor__n_estimators=155, randomforestregressor__random_state=12345; total time=  10.2s\n",
            "[CV 5/5; 8/40] START randomforestregressor__max_depth=2, randomforestregressor__n_estimators=155, randomforestregressor__random_state=12345\n",
            "[CV 5/5; 8/40] END randomforestregressor__max_depth=2, randomforestregressor__n_estimators=155, randomforestregressor__random_state=12345; total time=  10.2s\n",
            "[CV 1/5; 9/40] START randomforestregressor__max_depth=3, randomforestregressor__n_estimators=5, randomforestregressor__random_state=12345\n",
            "[CV 1/5; 9/40] END randomforestregressor__max_depth=3, randomforestregressor__n_estimators=5, randomforestregressor__random_state=12345; total time=   0.5s\n",
            "[CV 2/5; 9/40] START randomforestregressor__max_depth=3, randomforestregressor__n_estimators=5, randomforestregressor__random_state=12345\n",
            "[CV 2/5; 9/40] END randomforestregressor__max_depth=3, randomforestregressor__n_estimators=5, randomforestregressor__random_state=12345; total time=   0.5s\n",
            "[CV 3/5; 9/40] START randomforestregressor__max_depth=3, randomforestregressor__n_estimators=5, randomforestregressor__random_state=12345\n",
            "[CV 3/5; 9/40] END randomforestregressor__max_depth=3, randomforestregressor__n_estimators=5, randomforestregressor__random_state=12345; total time=   0.5s\n",
            "[CV 4/5; 9/40] START randomforestregressor__max_depth=3, randomforestregressor__n_estimators=5, randomforestregressor__random_state=12345\n",
            "[CV 4/5; 9/40] END randomforestregressor__max_depth=3, randomforestregressor__n_estimators=5, randomforestregressor__random_state=12345; total time=   0.5s\n",
            "[CV 5/5; 9/40] START randomforestregressor__max_depth=3, randomforestregressor__n_estimators=5, randomforestregressor__random_state=12345\n",
            "[CV 5/5; 9/40] END randomforestregressor__max_depth=3, randomforestregressor__n_estimators=5, randomforestregressor__random_state=12345; total time=   0.5s\n",
            "[CV 1/5; 10/40] START randomforestregressor__max_depth=3, randomforestregressor__n_estimators=55, randomforestregressor__random_state=12345\n",
            "[CV 1/5; 10/40] END randomforestregressor__max_depth=3, randomforestregressor__n_estimators=55, randomforestregressor__random_state=12345; total time=   5.3s\n",
            "[CV 2/5; 10/40] START randomforestregressor__max_depth=3, randomforestregressor__n_estimators=55, randomforestregressor__random_state=12345\n",
            "[CV 2/5; 10/40] END randomforestregressor__max_depth=3, randomforestregressor__n_estimators=55, randomforestregressor__random_state=12345; total time=   5.3s\n",
            "[CV 3/5; 10/40] START randomforestregressor__max_depth=3, randomforestregressor__n_estimators=55, randomforestregressor__random_state=12345\n",
            "[CV 3/5; 10/40] END randomforestregressor__max_depth=3, randomforestregressor__n_estimators=55, randomforestregressor__random_state=12345; total time=   5.3s\n",
            "[CV 4/5; 10/40] START randomforestregressor__max_depth=3, randomforestregressor__n_estimators=55, randomforestregressor__random_state=12345\n",
            "[CV 4/5; 10/40] END randomforestregressor__max_depth=3, randomforestregressor__n_estimators=55, randomforestregressor__random_state=12345; total time=   5.3s\n",
            "[CV 5/5; 10/40] START randomforestregressor__max_depth=3, randomforestregressor__n_estimators=55, randomforestregressor__random_state=12345\n",
            "[CV 5/5; 10/40] END randomforestregressor__max_depth=3, randomforestregressor__n_estimators=55, randomforestregressor__random_state=12345; total time=   5.3s\n",
            "[CV 1/5; 11/40] START randomforestregressor__max_depth=3, randomforestregressor__n_estimators=105, randomforestregressor__random_state=12345\n",
            "[CV 1/5; 11/40] END randomforestregressor__max_depth=3, randomforestregressor__n_estimators=105, randomforestregressor__random_state=12345; total time=  10.2s\n",
            "[CV 2/5; 11/40] START randomforestregressor__max_depth=3, randomforestregressor__n_estimators=105, randomforestregressor__random_state=12345\n",
            "[CV 2/5; 11/40] END randomforestregressor__max_depth=3, randomforestregressor__n_estimators=105, randomforestregressor__random_state=12345; total time=  10.1s\n",
            "[CV 3/5; 11/40] START randomforestregressor__max_depth=3, randomforestregressor__n_estimators=105, randomforestregressor__random_state=12345\n",
            "[CV 3/5; 11/40] END randomforestregressor__max_depth=3, randomforestregressor__n_estimators=105, randomforestregressor__random_state=12345; total time=  10.1s\n",
            "[CV 4/5; 11/40] START randomforestregressor__max_depth=3, randomforestregressor__n_estimators=105, randomforestregressor__random_state=12345\n",
            "[CV 4/5; 11/40] END randomforestregressor__max_depth=3, randomforestregressor__n_estimators=105, randomforestregressor__random_state=12345; total time=  10.1s\n",
            "[CV 5/5; 11/40] START randomforestregressor__max_depth=3, randomforestregressor__n_estimators=105, randomforestregressor__random_state=12345\n",
            "[CV 5/5; 11/40] END randomforestregressor__max_depth=3, randomforestregressor__n_estimators=105, randomforestregressor__random_state=12345; total time=  10.1s\n",
            "[CV 1/5; 12/40] START randomforestregressor__max_depth=3, randomforestregressor__n_estimators=155, randomforestregressor__random_state=12345\n",
            "[CV 1/5; 12/40] END randomforestregressor__max_depth=3, randomforestregressor__n_estimators=155, randomforestregressor__random_state=12345; total time=  14.9s\n",
            "[CV 2/5; 12/40] START randomforestregressor__max_depth=3, randomforestregressor__n_estimators=155, randomforestregressor__random_state=12345\n",
            "[CV 2/5; 12/40] END randomforestregressor__max_depth=3, randomforestregressor__n_estimators=155, randomforestregressor__random_state=12345; total time=  14.9s\n",
            "[CV 3/5; 12/40] START randomforestregressor__max_depth=3, randomforestregressor__n_estimators=155, randomforestregressor__random_state=12345\n",
            "[CV 3/5; 12/40] END randomforestregressor__max_depth=3, randomforestregressor__n_estimators=155, randomforestregressor__random_state=12345; total time=  14.8s\n",
            "[CV 4/5; 12/40] START randomforestregressor__max_depth=3, randomforestregressor__n_estimators=155, randomforestregressor__random_state=12345\n",
            "[CV 4/5; 12/40] END randomforestregressor__max_depth=3, randomforestregressor__n_estimators=155, randomforestregressor__random_state=12345; total time=  14.9s\n",
            "[CV 5/5; 12/40] START randomforestregressor__max_depth=3, randomforestregressor__n_estimators=155, randomforestregressor__random_state=12345\n",
            "[CV 5/5; 12/40] END randomforestregressor__max_depth=3, randomforestregressor__n_estimators=155, randomforestregressor__random_state=12345; total time=  14.9s\n",
            "[CV 1/5; 13/40] START randomforestregressor__max_depth=4, randomforestregressor__n_estimators=5, randomforestregressor__random_state=12345\n",
            "[CV 1/5; 13/40] END randomforestregressor__max_depth=4, randomforestregressor__n_estimators=5, randomforestregressor__random_state=12345; total time=   0.7s\n",
            "[CV 2/5; 13/40] START randomforestregressor__max_depth=4, randomforestregressor__n_estimators=5, randomforestregressor__random_state=12345\n",
            "[CV 2/5; 13/40] END randomforestregressor__max_depth=4, randomforestregressor__n_estimators=5, randomforestregressor__random_state=12345; total time=   0.7s\n",
            "[CV 3/5; 13/40] START randomforestregressor__max_depth=4, randomforestregressor__n_estimators=5, randomforestregressor__random_state=12345\n",
            "[CV 3/5; 13/40] END randomforestregressor__max_depth=4, randomforestregressor__n_estimators=5, randomforestregressor__random_state=12345; total time=   0.6s\n",
            "[CV 4/5; 13/40] START randomforestregressor__max_depth=4, randomforestregressor__n_estimators=5, randomforestregressor__random_state=12345\n",
            "[CV 4/5; 13/40] END randomforestregressor__max_depth=4, randomforestregressor__n_estimators=5, randomforestregressor__random_state=12345; total time=   0.6s\n",
            "[CV 5/5; 13/40] START randomforestregressor__max_depth=4, randomforestregressor__n_estimators=5, randomforestregressor__random_state=12345\n",
            "[CV 5/5; 13/40] END randomforestregressor__max_depth=4, randomforestregressor__n_estimators=5, randomforestregressor__random_state=12345; total time=   0.6s\n",
            "[CV 1/5; 14/40] START randomforestregressor__max_depth=4, randomforestregressor__n_estimators=55, randomforestregressor__random_state=12345\n",
            "[CV 1/5; 14/40] END randomforestregressor__max_depth=4, randomforestregressor__n_estimators=55, randomforestregressor__random_state=12345; total time=   7.0s\n",
            "[CV 2/5; 14/40] START randomforestregressor__max_depth=4, randomforestregressor__n_estimators=55, randomforestregressor__random_state=12345\n",
            "[CV 2/5; 14/40] END randomforestregressor__max_depth=4, randomforestregressor__n_estimators=55, randomforestregressor__random_state=12345; total time=   6.9s\n",
            "[CV 3/5; 14/40] START randomforestregressor__max_depth=4, randomforestregressor__n_estimators=55, randomforestregressor__random_state=12345\n",
            "[CV 3/5; 14/40] END randomforestregressor__max_depth=4, randomforestregressor__n_estimators=55, randomforestregressor__random_state=12345; total time=   6.9s\n",
            "[CV 4/5; 14/40] START randomforestregressor__max_depth=4, randomforestregressor__n_estimators=55, randomforestregressor__random_state=12345\n",
            "[CV 4/5; 14/40] END randomforestregressor__max_depth=4, randomforestregressor__n_estimators=55, randomforestregressor__random_state=12345; total time=   6.9s\n",
            "[CV 5/5; 14/40] START randomforestregressor__max_depth=4, randomforestregressor__n_estimators=55, randomforestregressor__random_state=12345\n",
            "[CV 5/5; 14/40] END randomforestregressor__max_depth=4, randomforestregressor__n_estimators=55, randomforestregressor__random_state=12345; total time=   6.9s\n",
            "[CV 1/5; 15/40] START randomforestregressor__max_depth=4, randomforestregressor__n_estimators=105, randomforestregressor__random_state=12345\n",
            "[CV 1/5; 15/40] END randomforestregressor__max_depth=4, randomforestregressor__n_estimators=105, randomforestregressor__random_state=12345; total time=  13.2s\n",
            "[CV 2/5; 15/40] START randomforestregressor__max_depth=4, randomforestregressor__n_estimators=105, randomforestregressor__random_state=12345\n",
            "[CV 2/5; 15/40] END randomforestregressor__max_depth=4, randomforestregressor__n_estimators=105, randomforestregressor__random_state=12345; total time=  13.1s\n",
            "[CV 3/5; 15/40] START randomforestregressor__max_depth=4, randomforestregressor__n_estimators=105, randomforestregressor__random_state=12345\n",
            "[CV 3/5; 15/40] END randomforestregressor__max_depth=4, randomforestregressor__n_estimators=105, randomforestregressor__random_state=12345; total time=  13.0s\n",
            "[CV 4/5; 15/40] START randomforestregressor__max_depth=4, randomforestregressor__n_estimators=105, randomforestregressor__random_state=12345\n",
            "[CV 4/5; 15/40] END randomforestregressor__max_depth=4, randomforestregressor__n_estimators=105, randomforestregressor__random_state=12345; total time=  13.2s\n",
            "[CV 5/5; 15/40] START randomforestregressor__max_depth=4, randomforestregressor__n_estimators=105, randomforestregressor__random_state=12345\n",
            "[CV 5/5; 15/40] END randomforestregressor__max_depth=4, randomforestregressor__n_estimators=105, randomforestregressor__random_state=12345; total time=  13.2s\n",
            "[CV 1/5; 16/40] START randomforestregressor__max_depth=4, randomforestregressor__n_estimators=155, randomforestregressor__random_state=12345\n",
            "[CV 1/5; 16/40] END randomforestregressor__max_depth=4, randomforestregressor__n_estimators=155, randomforestregressor__random_state=12345; total time=  19.4s\n",
            "[CV 2/5; 16/40] START randomforestregressor__max_depth=4, randomforestregressor__n_estimators=155, randomforestregressor__random_state=12345\n",
            "[CV 2/5; 16/40] END randomforestregressor__max_depth=4, randomforestregressor__n_estimators=155, randomforestregressor__random_state=12345; total time=  19.8s\n",
            "[CV 3/5; 16/40] START randomforestregressor__max_depth=4, randomforestregressor__n_estimators=155, randomforestregressor__random_state=12345\n",
            "[CV 3/5; 16/40] END randomforestregressor__max_depth=4, randomforestregressor__n_estimators=155, randomforestregressor__random_state=12345; total time=  19.9s\n",
            "[CV 4/5; 16/40] START randomforestregressor__max_depth=4, randomforestregressor__n_estimators=155, randomforestregressor__random_state=12345\n",
            "[CV 4/5; 16/40] END randomforestregressor__max_depth=4, randomforestregressor__n_estimators=155, randomforestregressor__random_state=12345; total time=  19.6s\n",
            "[CV 5/5; 16/40] START randomforestregressor__max_depth=4, randomforestregressor__n_estimators=155, randomforestregressor__random_state=12345\n",
            "[CV 5/5; 16/40] END randomforestregressor__max_depth=4, randomforestregressor__n_estimators=155, randomforestregressor__random_state=12345; total time=  19.6s\n",
            "[CV 1/5; 17/40] START randomforestregressor__max_depth=5, randomforestregressor__n_estimators=5, randomforestregressor__random_state=12345\n",
            "[CV 1/5; 17/40] END randomforestregressor__max_depth=5, randomforestregressor__n_estimators=5, randomforestregressor__random_state=12345; total time=   0.8s\n",
            "[CV 2/5; 17/40] START randomforestregressor__max_depth=5, randomforestregressor__n_estimators=5, randomforestregressor__random_state=12345\n",
            "[CV 2/5; 17/40] END randomforestregressor__max_depth=5, randomforestregressor__n_estimators=5, randomforestregressor__random_state=12345; total time=   0.8s\n",
            "[CV 3/5; 17/40] START randomforestregressor__max_depth=5, randomforestregressor__n_estimators=5, randomforestregressor__random_state=12345\n",
            "[CV 3/5; 17/40] END randomforestregressor__max_depth=5, randomforestregressor__n_estimators=5, randomforestregressor__random_state=12345; total time=   0.8s\n",
            "[CV 4/5; 17/40] START randomforestregressor__max_depth=5, randomforestregressor__n_estimators=5, randomforestregressor__random_state=12345\n",
            "[CV 4/5; 17/40] END randomforestregressor__max_depth=5, randomforestregressor__n_estimators=5, randomforestregressor__random_state=12345; total time=   0.8s\n",
            "[CV 5/5; 17/40] START randomforestregressor__max_depth=5, randomforestregressor__n_estimators=5, randomforestregressor__random_state=12345\n",
            "[CV 5/5; 17/40] END randomforestregressor__max_depth=5, randomforestregressor__n_estimators=5, randomforestregressor__random_state=12345; total time=   0.8s\n",
            "[CV 1/5; 18/40] START randomforestregressor__max_depth=5, randomforestregressor__n_estimators=55, randomforestregressor__random_state=12345\n",
            "[CV 1/5; 18/40] END randomforestregressor__max_depth=5, randomforestregressor__n_estimators=55, randomforestregressor__random_state=12345; total time=   8.4s\n",
            "[CV 2/5; 18/40] START randomforestregressor__max_depth=5, randomforestregressor__n_estimators=55, randomforestregressor__random_state=12345\n",
            "[CV 2/5; 18/40] END randomforestregressor__max_depth=5, randomforestregressor__n_estimators=55, randomforestregressor__random_state=12345; total time=   8.5s\n",
            "[CV 3/5; 18/40] START randomforestregressor__max_depth=5, randomforestregressor__n_estimators=55, randomforestregressor__random_state=12345\n",
            "[CV 3/5; 18/40] END randomforestregressor__max_depth=5, randomforestregressor__n_estimators=55, randomforestregressor__random_state=12345; total time=   8.4s\n",
            "[CV 4/5; 18/40] START randomforestregressor__max_depth=5, randomforestregressor__n_estimators=55, randomforestregressor__random_state=12345\n",
            "[CV 4/5; 18/40] END randomforestregressor__max_depth=5, randomforestregressor__n_estimators=55, randomforestregressor__random_state=12345; total time=   8.5s\n",
            "[CV 5/5; 18/40] START randomforestregressor__max_depth=5, randomforestregressor__n_estimators=55, randomforestregressor__random_state=12345\n",
            "[CV 5/5; 18/40] END randomforestregressor__max_depth=5, randomforestregressor__n_estimators=55, randomforestregressor__random_state=12345; total time=   8.6s\n",
            "[CV 1/5; 19/40] START randomforestregressor__max_depth=5, randomforestregressor__n_estimators=105, randomforestregressor__random_state=12345\n",
            "[CV 1/5; 19/40] END randomforestregressor__max_depth=5, randomforestregressor__n_estimators=105, randomforestregressor__random_state=12345; total time=  16.2s\n",
            "[CV 2/5; 19/40] START randomforestregressor__max_depth=5, randomforestregressor__n_estimators=105, randomforestregressor__random_state=12345\n",
            "[CV 2/5; 19/40] END randomforestregressor__max_depth=5, randomforestregressor__n_estimators=105, randomforestregressor__random_state=12345; total time=  16.2s\n",
            "[CV 3/5; 19/40] START randomforestregressor__max_depth=5, randomforestregressor__n_estimators=105, randomforestregressor__random_state=12345\n",
            "[CV 3/5; 19/40] END randomforestregressor__max_depth=5, randomforestregressor__n_estimators=105, randomforestregressor__random_state=12345; total time=  16.0s\n",
            "[CV 4/5; 19/40] START randomforestregressor__max_depth=5, randomforestregressor__n_estimators=105, randomforestregressor__random_state=12345\n",
            "[CV 4/5; 19/40] END randomforestregressor__max_depth=5, randomforestregressor__n_estimators=105, randomforestregressor__random_state=12345; total time=  16.2s\n",
            "[CV 5/5; 19/40] START randomforestregressor__max_depth=5, randomforestregressor__n_estimators=105, randomforestregressor__random_state=12345\n",
            "[CV 5/5; 19/40] END randomforestregressor__max_depth=5, randomforestregressor__n_estimators=105, randomforestregressor__random_state=12345; total time=  16.2s\n",
            "[CV 1/5; 20/40] START randomforestregressor__max_depth=5, randomforestregressor__n_estimators=155, randomforestregressor__random_state=12345\n",
            "[CV 1/5; 20/40] END randomforestregressor__max_depth=5, randomforestregressor__n_estimators=155, randomforestregressor__random_state=12345; total time=  23.7s\n",
            "[CV 2/5; 20/40] START randomforestregressor__max_depth=5, randomforestregressor__n_estimators=155, randomforestregressor__random_state=12345\n",
            "[CV 2/5; 20/40] END randomforestregressor__max_depth=5, randomforestregressor__n_estimators=155, randomforestregressor__random_state=12345; total time=  24.2s\n",
            "[CV 3/5; 20/40] START randomforestregressor__max_depth=5, randomforestregressor__n_estimators=155, randomforestregressor__random_state=12345\n",
            "[CV 3/5; 20/40] END randomforestregressor__max_depth=5, randomforestregressor__n_estimators=155, randomforestregressor__random_state=12345; total time=  23.8s\n",
            "[CV 4/5; 20/40] START randomforestregressor__max_depth=5, randomforestregressor__n_estimators=155, randomforestregressor__random_state=12345\n",
            "[CV 4/5; 20/40] END randomforestregressor__max_depth=5, randomforestregressor__n_estimators=155, randomforestregressor__random_state=12345; total time=  23.8s\n",
            "[CV 5/5; 20/40] START randomforestregressor__max_depth=5, randomforestregressor__n_estimators=155, randomforestregressor__random_state=12345\n",
            "[CV 5/5; 20/40] END randomforestregressor__max_depth=5, randomforestregressor__n_estimators=155, randomforestregressor__random_state=12345; total time=  24.5s\n",
            "[CV 1/5; 21/40] START randomforestregressor__max_depth=6, randomforestregressor__n_estimators=5, randomforestregressor__random_state=12345\n",
            "[CV 1/5; 21/40] END randomforestregressor__max_depth=6, randomforestregressor__n_estimators=5, randomforestregressor__random_state=12345; total time=   1.0s\n",
            "[CV 2/5; 21/40] START randomforestregressor__max_depth=6, randomforestregressor__n_estimators=5, randomforestregressor__random_state=12345\n",
            "[CV 2/5; 21/40] END randomforestregressor__max_depth=6, randomforestregressor__n_estimators=5, randomforestregressor__random_state=12345; total time=   1.0s\n",
            "[CV 3/5; 21/40] START randomforestregressor__max_depth=6, randomforestregressor__n_estimators=5, randomforestregressor__random_state=12345\n",
            "[CV 3/5; 21/40] END randomforestregressor__max_depth=6, randomforestregressor__n_estimators=5, randomforestregressor__random_state=12345; total time=   0.9s\n",
            "[CV 4/5; 21/40] START randomforestregressor__max_depth=6, randomforestregressor__n_estimators=5, randomforestregressor__random_state=12345\n",
            "[CV 4/5; 21/40] END randomforestregressor__max_depth=6, randomforestregressor__n_estimators=5, randomforestregressor__random_state=12345; total time=   0.9s\n",
            "[CV 5/5; 21/40] START randomforestregressor__max_depth=6, randomforestregressor__n_estimators=5, randomforestregressor__random_state=12345\n",
            "[CV 5/5; 21/40] END randomforestregressor__max_depth=6, randomforestregressor__n_estimators=5, randomforestregressor__random_state=12345; total time=   0.9s\n",
            "[CV 1/5; 22/40] START randomforestregressor__max_depth=6, randomforestregressor__n_estimators=55, randomforestregressor__random_state=12345\n",
            "[CV 1/5; 22/40] END randomforestregressor__max_depth=6, randomforestregressor__n_estimators=55, randomforestregressor__random_state=12345; total time=   9.9s\n",
            "[CV 2/5; 22/40] START randomforestregressor__max_depth=6, randomforestregressor__n_estimators=55, randomforestregressor__random_state=12345\n",
            "[CV 2/5; 22/40] END randomforestregressor__max_depth=6, randomforestregressor__n_estimators=55, randomforestregressor__random_state=12345; total time=   9.9s\n",
            "[CV 3/5; 22/40] START randomforestregressor__max_depth=6, randomforestregressor__n_estimators=55, randomforestregressor__random_state=12345\n",
            "[CV 3/5; 22/40] END randomforestregressor__max_depth=6, randomforestregressor__n_estimators=55, randomforestregressor__random_state=12345; total time=  10.0s\n",
            "[CV 4/5; 22/40] START randomforestregressor__max_depth=6, randomforestregressor__n_estimators=55, randomforestregressor__random_state=12345\n",
            "[CV 4/5; 22/40] END randomforestregressor__max_depth=6, randomforestregressor__n_estimators=55, randomforestregressor__random_state=12345; total time=   9.9s\n",
            "[CV 5/5; 22/40] START randomforestregressor__max_depth=6, randomforestregressor__n_estimators=55, randomforestregressor__random_state=12345\n",
            "[CV 5/5; 22/40] END randomforestregressor__max_depth=6, randomforestregressor__n_estimators=55, randomforestregressor__random_state=12345; total time=   9.9s\n",
            "[CV 1/5; 23/40] START randomforestregressor__max_depth=6, randomforestregressor__n_estimators=105, randomforestregressor__random_state=12345\n",
            "[CV 1/5; 23/40] END randomforestregressor__max_depth=6, randomforestregressor__n_estimators=105, randomforestregressor__random_state=12345; total time=  18.9s\n",
            "[CV 2/5; 23/40] START randomforestregressor__max_depth=6, randomforestregressor__n_estimators=105, randomforestregressor__random_state=12345\n",
            "[CV 2/5; 23/40] END randomforestregressor__max_depth=6, randomforestregressor__n_estimators=105, randomforestregressor__random_state=12345; total time=  18.9s\n",
            "[CV 3/5; 23/40] START randomforestregressor__max_depth=6, randomforestregressor__n_estimators=105, randomforestregressor__random_state=12345\n",
            "[CV 3/5; 23/40] END randomforestregressor__max_depth=6, randomforestregressor__n_estimators=105, randomforestregressor__random_state=12345; total time=  18.7s\n",
            "[CV 4/5; 23/40] START randomforestregressor__max_depth=6, randomforestregressor__n_estimators=105, randomforestregressor__random_state=12345\n",
            "[CV 4/5; 23/40] END randomforestregressor__max_depth=6, randomforestregressor__n_estimators=105, randomforestregressor__random_state=12345; total time=  18.8s\n",
            "[CV 5/5; 23/40] START randomforestregressor__max_depth=6, randomforestregressor__n_estimators=105, randomforestregressor__random_state=12345\n",
            "[CV 5/5; 23/40] END randomforestregressor__max_depth=6, randomforestregressor__n_estimators=105, randomforestregressor__random_state=12345; total time=  18.9s\n",
            "[CV 1/5; 24/40] START randomforestregressor__max_depth=6, randomforestregressor__n_estimators=155, randomforestregressor__random_state=12345\n",
            "[CV 1/5; 24/40] END randomforestregressor__max_depth=6, randomforestregressor__n_estimators=155, randomforestregressor__random_state=12345; total time=  28.2s\n",
            "[CV 2/5; 24/40] START randomforestregressor__max_depth=6, randomforestregressor__n_estimators=155, randomforestregressor__random_state=12345\n",
            "[CV 2/5; 24/40] END randomforestregressor__max_depth=6, randomforestregressor__n_estimators=155, randomforestregressor__random_state=12345; total time=  27.7s\n",
            "[CV 3/5; 24/40] START randomforestregressor__max_depth=6, randomforestregressor__n_estimators=155, randomforestregressor__random_state=12345\n",
            "[CV 3/5; 24/40] END randomforestregressor__max_depth=6, randomforestregressor__n_estimators=155, randomforestregressor__random_state=12345; total time=  27.6s\n",
            "[CV 4/5; 24/40] START randomforestregressor__max_depth=6, randomforestregressor__n_estimators=155, randomforestregressor__random_state=12345\n",
            "[CV 4/5; 24/40] END randomforestregressor__max_depth=6, randomforestregressor__n_estimators=155, randomforestregressor__random_state=12345; total time=  28.6s\n",
            "[CV 5/5; 24/40] START randomforestregressor__max_depth=6, randomforestregressor__n_estimators=155, randomforestregressor__random_state=12345\n",
            "[CV 5/5; 24/40] END randomforestregressor__max_depth=6, randomforestregressor__n_estimators=155, randomforestregressor__random_state=12345; total time=  27.8s\n",
            "[CV 1/5; 25/40] START randomforestregressor__max_depth=7, randomforestregressor__n_estimators=5, randomforestregressor__random_state=12345\n",
            "[CV 1/5; 25/40] END randomforestregressor__max_depth=7, randomforestregressor__n_estimators=5, randomforestregressor__random_state=12345; total time=   1.0s\n",
            "[CV 2/5; 25/40] START randomforestregressor__max_depth=7, randomforestregressor__n_estimators=5, randomforestregressor__random_state=12345\n",
            "[CV 2/5; 25/40] END randomforestregressor__max_depth=7, randomforestregressor__n_estimators=5, randomforestregressor__random_state=12345; total time=   1.1s\n",
            "[CV 3/5; 25/40] START randomforestregressor__max_depth=7, randomforestregressor__n_estimators=5, randomforestregressor__random_state=12345\n",
            "[CV 3/5; 25/40] END randomforestregressor__max_depth=7, randomforestregressor__n_estimators=5, randomforestregressor__random_state=12345; total time=   1.0s\n",
            "[CV 4/5; 25/40] START randomforestregressor__max_depth=7, randomforestregressor__n_estimators=5, randomforestregressor__random_state=12345\n",
            "[CV 4/5; 25/40] END randomforestregressor__max_depth=7, randomforestregressor__n_estimators=5, randomforestregressor__random_state=12345; total time=   1.0s\n",
            "[CV 5/5; 25/40] START randomforestregressor__max_depth=7, randomforestregressor__n_estimators=5, randomforestregressor__random_state=12345\n",
            "[CV 5/5; 25/40] END randomforestregressor__max_depth=7, randomforestregressor__n_estimators=5, randomforestregressor__random_state=12345; total time=   1.0s\n",
            "[CV 1/5; 26/40] START randomforestregressor__max_depth=7, randomforestregressor__n_estimators=55, randomforestregressor__random_state=12345\n",
            "[CV 1/5; 26/40] END randomforestregressor__max_depth=7, randomforestregressor__n_estimators=55, randomforestregressor__random_state=12345; total time=  11.2s\n",
            "[CV 2/5; 26/40] START randomforestregressor__max_depth=7, randomforestregressor__n_estimators=55, randomforestregressor__random_state=12345\n",
            "[CV 2/5; 26/40] END randomforestregressor__max_depth=7, randomforestregressor__n_estimators=55, randomforestregressor__random_state=12345; total time=  11.2s\n",
            "[CV 3/5; 26/40] START randomforestregressor__max_depth=7, randomforestregressor__n_estimators=55, randomforestregressor__random_state=12345\n",
            "[CV 3/5; 26/40] END randomforestregressor__max_depth=7, randomforestregressor__n_estimators=55, randomforestregressor__random_state=12345; total time=  11.2s\n",
            "[CV 4/5; 26/40] START randomforestregressor__max_depth=7, randomforestregressor__n_estimators=55, randomforestregressor__random_state=12345\n",
            "[CV 4/5; 26/40] END randomforestregressor__max_depth=7, randomforestregressor__n_estimators=55, randomforestregressor__random_state=12345; total time=  11.2s\n",
            "[CV 5/5; 26/40] START randomforestregressor__max_depth=7, randomforestregressor__n_estimators=55, randomforestregressor__random_state=12345\n",
            "[CV 5/5; 26/40] END randomforestregressor__max_depth=7, randomforestregressor__n_estimators=55, randomforestregressor__random_state=12345; total time=  11.2s\n",
            "[CV 1/5; 27/40] START randomforestregressor__max_depth=7, randomforestregressor__n_estimators=105, randomforestregressor__random_state=12345\n",
            "[CV 1/5; 27/40] END randomforestregressor__max_depth=7, randomforestregressor__n_estimators=105, randomforestregressor__random_state=12345; total time=  21.3s\n",
            "[CV 2/5; 27/40] START randomforestregressor__max_depth=7, randomforestregressor__n_estimators=105, randomforestregressor__random_state=12345\n",
            "[CV 2/5; 27/40] END randomforestregressor__max_depth=7, randomforestregressor__n_estimators=105, randomforestregressor__random_state=12345; total time=  21.8s\n",
            "[CV 3/5; 27/40] START randomforestregressor__max_depth=7, randomforestregressor__n_estimators=105, randomforestregressor__random_state=12345\n",
            "[CV 3/5; 27/40] END randomforestregressor__max_depth=7, randomforestregressor__n_estimators=105, randomforestregressor__random_state=12345; total time=  21.8s\n",
            "[CV 4/5; 27/40] START randomforestregressor__max_depth=7, randomforestregressor__n_estimators=105, randomforestregressor__random_state=12345\n",
            "[CV 4/5; 27/40] END randomforestregressor__max_depth=7, randomforestregressor__n_estimators=105, randomforestregressor__random_state=12345; total time=  21.5s\n",
            "[CV 5/5; 27/40] START randomforestregressor__max_depth=7, randomforestregressor__n_estimators=105, randomforestregressor__random_state=12345\n",
            "[CV 5/5; 27/40] END randomforestregressor__max_depth=7, randomforestregressor__n_estimators=105, randomforestregressor__random_state=12345; total time=  21.5s\n",
            "[CV 1/5; 28/40] START randomforestregressor__max_depth=7, randomforestregressor__n_estimators=155, randomforestregressor__random_state=12345\n",
            "[CV 1/5; 28/40] END randomforestregressor__max_depth=7, randomforestregressor__n_estimators=155, randomforestregressor__random_state=12345; total time=  32.6s\n",
            "[CV 2/5; 28/40] START randomforestregressor__max_depth=7, randomforestregressor__n_estimators=155, randomforestregressor__random_state=12345\n",
            "[CV 2/5; 28/40] END randomforestregressor__max_depth=7, randomforestregressor__n_estimators=155, randomforestregressor__random_state=12345; total time=  31.8s\n",
            "[CV 3/5; 28/40] START randomforestregressor__max_depth=7, randomforestregressor__n_estimators=155, randomforestregressor__random_state=12345\n",
            "[CV 3/5; 28/40] END randomforestregressor__max_depth=7, randomforestregressor__n_estimators=155, randomforestregressor__random_state=12345; total time=  31.1s\n",
            "[CV 4/5; 28/40] START randomforestregressor__max_depth=7, randomforestregressor__n_estimators=155, randomforestregressor__random_state=12345\n",
            "[CV 4/5; 28/40] END randomforestregressor__max_depth=7, randomforestregressor__n_estimators=155, randomforestregressor__random_state=12345; total time=  31.5s\n",
            "[CV 5/5; 28/40] START randomforestregressor__max_depth=7, randomforestregressor__n_estimators=155, randomforestregressor__random_state=12345\n",
            "[CV 5/5; 28/40] END randomforestregressor__max_depth=7, randomforestregressor__n_estimators=155, randomforestregressor__random_state=12345; total time=  31.5s\n",
            "[CV 1/5; 29/40] START randomforestregressor__max_depth=8, randomforestregressor__n_estimators=5, randomforestregressor__random_state=12345\n",
            "[CV 1/5; 29/40] END randomforestregressor__max_depth=8, randomforestregressor__n_estimators=5, randomforestregressor__random_state=12345; total time=   1.2s\n",
            "[CV 2/5; 29/40] START randomforestregressor__max_depth=8, randomforestregressor__n_estimators=5, randomforestregressor__random_state=12345\n",
            "[CV 2/5; 29/40] END randomforestregressor__max_depth=8, randomforestregressor__n_estimators=5, randomforestregressor__random_state=12345; total time=   1.2s\n",
            "[CV 3/5; 29/40] START randomforestregressor__max_depth=8, randomforestregressor__n_estimators=5, randomforestregressor__random_state=12345\n",
            "[CV 3/5; 29/40] END randomforestregressor__max_depth=8, randomforestregressor__n_estimators=5, randomforestregressor__random_state=12345; total time=   1.1s\n",
            "[CV 4/5; 29/40] START randomforestregressor__max_depth=8, randomforestregressor__n_estimators=5, randomforestregressor__random_state=12345\n",
            "[CV 4/5; 29/40] END randomforestregressor__max_depth=8, randomforestregressor__n_estimators=5, randomforestregressor__random_state=12345; total time=   1.2s\n",
            "[CV 5/5; 29/40] START randomforestregressor__max_depth=8, randomforestregressor__n_estimators=5, randomforestregressor__random_state=12345\n",
            "[CV 5/5; 29/40] END randomforestregressor__max_depth=8, randomforestregressor__n_estimators=5, randomforestregressor__random_state=12345; total time=   1.1s\n",
            "[CV 1/5; 30/40] START randomforestregressor__max_depth=8, randomforestregressor__n_estimators=55, randomforestregressor__random_state=12345\n",
            "[CV 1/5; 30/40] END randomforestregressor__max_depth=8, randomforestregressor__n_estimators=55, randomforestregressor__random_state=12345; total time=  12.8s\n",
            "[CV 2/5; 30/40] START randomforestregressor__max_depth=8, randomforestregressor__n_estimators=55, randomforestregressor__random_state=12345\n",
            "[CV 2/5; 30/40] END randomforestregressor__max_depth=8, randomforestregressor__n_estimators=55, randomforestregressor__random_state=12345; total time=  12.7s\n",
            "[CV 3/5; 30/40] START randomforestregressor__max_depth=8, randomforestregressor__n_estimators=55, randomforestregressor__random_state=12345\n",
            "[CV 3/5; 30/40] END randomforestregressor__max_depth=8, randomforestregressor__n_estimators=55, randomforestregressor__random_state=12345; total time=  12.4s\n",
            "[CV 4/5; 30/40] START randomforestregressor__max_depth=8, randomforestregressor__n_estimators=55, randomforestregressor__random_state=12345\n",
            "[CV 4/5; 30/40] END randomforestregressor__max_depth=8, randomforestregressor__n_estimators=55, randomforestregressor__random_state=12345; total time=  12.5s\n",
            "[CV 5/5; 30/40] START randomforestregressor__max_depth=8, randomforestregressor__n_estimators=55, randomforestregressor__random_state=12345\n",
            "[CV 5/5; 30/40] END randomforestregressor__max_depth=8, randomforestregressor__n_estimators=55, randomforestregressor__random_state=12345; total time=  12.6s\n",
            "[CV 1/5; 31/40] START randomforestregressor__max_depth=8, randomforestregressor__n_estimators=105, randomforestregressor__random_state=12345\n",
            "[CV 1/5; 31/40] END randomforestregressor__max_depth=8, randomforestregressor__n_estimators=105, randomforestregressor__random_state=12345; total time=  23.9s\n",
            "[CV 2/5; 31/40] START randomforestregressor__max_depth=8, randomforestregressor__n_estimators=105, randomforestregressor__random_state=12345\n",
            "[CV 2/5; 31/40] END randomforestregressor__max_depth=8, randomforestregressor__n_estimators=105, randomforestregressor__random_state=12345; total time=  23.9s\n",
            "[CV 3/5; 31/40] START randomforestregressor__max_depth=8, randomforestregressor__n_estimators=105, randomforestregressor__random_state=12345\n",
            "[CV 3/5; 31/40] END randomforestregressor__max_depth=8, randomforestregressor__n_estimators=105, randomforestregressor__random_state=12345; total time=  24.0s\n",
            "[CV 4/5; 31/40] START randomforestregressor__max_depth=8, randomforestregressor__n_estimators=105, randomforestregressor__random_state=12345\n",
            "[CV 4/5; 31/40] END randomforestregressor__max_depth=8, randomforestregressor__n_estimators=105, randomforestregressor__random_state=12345; total time=  23.9s\n",
            "[CV 5/5; 31/40] START randomforestregressor__max_depth=8, randomforestregressor__n_estimators=105, randomforestregressor__random_state=12345\n",
            "[CV 5/5; 31/40] END randomforestregressor__max_depth=8, randomforestregressor__n_estimators=105, randomforestregressor__random_state=12345; total time=  24.0s\n",
            "[CV 1/5; 32/40] START randomforestregressor__max_depth=8, randomforestregressor__n_estimators=155, randomforestregressor__random_state=12345\n",
            "[CV 1/5; 32/40] END randomforestregressor__max_depth=8, randomforestregressor__n_estimators=155, randomforestregressor__random_state=12345; total time=  35.5s\n",
            "[CV 2/5; 32/40] START randomforestregressor__max_depth=8, randomforestregressor__n_estimators=155, randomforestregressor__random_state=12345\n",
            "[CV 2/5; 32/40] END randomforestregressor__max_depth=8, randomforestregressor__n_estimators=155, randomforestregressor__random_state=12345; total time=  35.7s\n",
            "[CV 3/5; 32/40] START randomforestregressor__max_depth=8, randomforestregressor__n_estimators=155, randomforestregressor__random_state=12345\n",
            "[CV 3/5; 32/40] END randomforestregressor__max_depth=8, randomforestregressor__n_estimators=155, randomforestregressor__random_state=12345; total time=  35.1s\n",
            "[CV 4/5; 32/40] START randomforestregressor__max_depth=8, randomforestregressor__n_estimators=155, randomforestregressor__random_state=12345\n",
            "[CV 4/5; 32/40] END randomforestregressor__max_depth=8, randomforestregressor__n_estimators=155, randomforestregressor__random_state=12345; total time=  35.7s\n",
            "[CV 5/5; 32/40] START randomforestregressor__max_depth=8, randomforestregressor__n_estimators=155, randomforestregressor__random_state=12345\n",
            "[CV 5/5; 32/40] END randomforestregressor__max_depth=8, randomforestregressor__n_estimators=155, randomforestregressor__random_state=12345; total time=  36.0s\n",
            "[CV 1/5; 33/40] START randomforestregressor__max_depth=9, randomforestregressor__n_estimators=5, randomforestregressor__random_state=12345\n",
            "[CV 1/5; 33/40] END randomforestregressor__max_depth=9, randomforestregressor__n_estimators=5, randomforestregressor__random_state=12345; total time=   1.3s\n",
            "[CV 2/5; 33/40] START randomforestregressor__max_depth=9, randomforestregressor__n_estimators=5, randomforestregressor__random_state=12345\n",
            "[CV 2/5; 33/40] END randomforestregressor__max_depth=9, randomforestregressor__n_estimators=5, randomforestregressor__random_state=12345; total time=   1.3s\n",
            "[CV 3/5; 33/40] START randomforestregressor__max_depth=9, randomforestregressor__n_estimators=5, randomforestregressor__random_state=12345\n",
            "[CV 3/5; 33/40] END randomforestregressor__max_depth=9, randomforestregressor__n_estimators=5, randomforestregressor__random_state=12345; total time=   1.3s\n",
            "[CV 4/5; 33/40] START randomforestregressor__max_depth=9, randomforestregressor__n_estimators=5, randomforestregressor__random_state=12345\n",
            "[CV 4/5; 33/40] END randomforestregressor__max_depth=9, randomforestregressor__n_estimators=5, randomforestregressor__random_state=12345; total time=   1.3s\n",
            "[CV 5/5; 33/40] START randomforestregressor__max_depth=9, randomforestregressor__n_estimators=5, randomforestregressor__random_state=12345\n",
            "[CV 5/5; 33/40] END randomforestregressor__max_depth=9, randomforestregressor__n_estimators=5, randomforestregressor__random_state=12345; total time=   1.3s\n",
            "[CV 1/5; 34/40] START randomforestregressor__max_depth=9, randomforestregressor__n_estimators=55, randomforestregressor__random_state=12345\n",
            "[CV 1/5; 34/40] END randomforestregressor__max_depth=9, randomforestregressor__n_estimators=55, randomforestregressor__random_state=12345; total time=  14.2s\n",
            "[CV 2/5; 34/40] START randomforestregressor__max_depth=9, randomforestregressor__n_estimators=55, randomforestregressor__random_state=12345\n",
            "[CV 2/5; 34/40] END randomforestregressor__max_depth=9, randomforestregressor__n_estimators=55, randomforestregressor__random_state=12345; total time=  14.2s\n",
            "[CV 3/5; 34/40] START randomforestregressor__max_depth=9, randomforestregressor__n_estimators=55, randomforestregressor__random_state=12345\n",
            "[CV 3/5; 34/40] END randomforestregressor__max_depth=9, randomforestregressor__n_estimators=55, randomforestregressor__random_state=12345; total time=  13.9s\n",
            "[CV 4/5; 34/40] START randomforestregressor__max_depth=9, randomforestregressor__n_estimators=55, randomforestregressor__random_state=12345\n",
            "[CV 4/5; 34/40] END randomforestregressor__max_depth=9, randomforestregressor__n_estimators=55, randomforestregressor__random_state=12345; total time=  14.1s\n",
            "[CV 5/5; 34/40] START randomforestregressor__max_depth=9, randomforestregressor__n_estimators=55, randomforestregressor__random_state=12345\n",
            "[CV 5/5; 34/40] END randomforestregressor__max_depth=9, randomforestregressor__n_estimators=55, randomforestregressor__random_state=12345; total time=  14.2s\n",
            "[CV 1/5; 35/40] START randomforestregressor__max_depth=9, randomforestregressor__n_estimators=105, randomforestregressor__random_state=12345\n",
            "[CV 1/5; 35/40] END randomforestregressor__max_depth=9, randomforestregressor__n_estimators=105, randomforestregressor__random_state=12345; total time=  27.0s\n",
            "[CV 2/5; 35/40] START randomforestregressor__max_depth=9, randomforestregressor__n_estimators=105, randomforestregressor__random_state=12345\n",
            "[CV 2/5; 35/40] END randomforestregressor__max_depth=9, randomforestregressor__n_estimators=105, randomforestregressor__random_state=12345; total time=  27.2s\n",
            "[CV 3/5; 35/40] START randomforestregressor__max_depth=9, randomforestregressor__n_estimators=105, randomforestregressor__random_state=12345\n",
            "[CV 3/5; 35/40] END randomforestregressor__max_depth=9, randomforestregressor__n_estimators=105, randomforestregressor__random_state=12345; total time=  26.6s\n",
            "[CV 4/5; 35/40] START randomforestregressor__max_depth=9, randomforestregressor__n_estimators=105, randomforestregressor__random_state=12345\n",
            "[CV 4/5; 35/40] END randomforestregressor__max_depth=9, randomforestregressor__n_estimators=105, randomforestregressor__random_state=12345; total time=  26.9s\n",
            "[CV 5/5; 35/40] START randomforestregressor__max_depth=9, randomforestregressor__n_estimators=105, randomforestregressor__random_state=12345\n",
            "[CV 5/5; 35/40] END randomforestregressor__max_depth=9, randomforestregressor__n_estimators=105, randomforestregressor__random_state=12345; total time=  26.9s\n",
            "[CV 1/5; 36/40] START randomforestregressor__max_depth=9, randomforestregressor__n_estimators=155, randomforestregressor__random_state=12345\n",
            "[CV 1/5; 36/40] END randomforestregressor__max_depth=9, randomforestregressor__n_estimators=155, randomforestregressor__random_state=12345; total time=  39.7s\n",
            "[CV 2/5; 36/40] START randomforestregressor__max_depth=9, randomforestregressor__n_estimators=155, randomforestregressor__random_state=12345\n",
            "[CV 2/5; 36/40] END randomforestregressor__max_depth=9, randomforestregressor__n_estimators=155, randomforestregressor__random_state=12345; total time=  40.0s\n",
            "[CV 3/5; 36/40] START randomforestregressor__max_depth=9, randomforestregressor__n_estimators=155, randomforestregressor__random_state=12345\n",
            "[CV 3/5; 36/40] END randomforestregressor__max_depth=9, randomforestregressor__n_estimators=155, randomforestregressor__random_state=12345; total time=  39.1s\n",
            "[CV 4/5; 36/40] START randomforestregressor__max_depth=9, randomforestregressor__n_estimators=155, randomforestregressor__random_state=12345\n",
            "[CV 4/5; 36/40] END randomforestregressor__max_depth=9, randomforestregressor__n_estimators=155, randomforestregressor__random_state=12345; total time=  40.0s\n",
            "[CV 5/5; 36/40] START randomforestregressor__max_depth=9, randomforestregressor__n_estimators=155, randomforestregressor__random_state=12345\n",
            "[CV 5/5; 36/40] END randomforestregressor__max_depth=9, randomforestregressor__n_estimators=155, randomforestregressor__random_state=12345; total time=  39.7s\n",
            "[CV 1/5; 37/40] START randomforestregressor__max_depth=10, randomforestregressor__n_estimators=5, randomforestregressor__random_state=12345\n",
            "[CV 1/5; 37/40] END randomforestregressor__max_depth=10, randomforestregressor__n_estimators=5, randomforestregressor__random_state=12345; total time=   1.4s\n",
            "[CV 2/5; 37/40] START randomforestregressor__max_depth=10, randomforestregressor__n_estimators=5, randomforestregressor__random_state=12345\n",
            "[CV 2/5; 37/40] END randomforestregressor__max_depth=10, randomforestregressor__n_estimators=5, randomforestregressor__random_state=12345; total time=   1.4s\n",
            "[CV 3/5; 37/40] START randomforestregressor__max_depth=10, randomforestregressor__n_estimators=5, randomforestregressor__random_state=12345\n",
            "[CV 3/5; 37/40] END randomforestregressor__max_depth=10, randomforestregressor__n_estimators=5, randomforestregressor__random_state=12345; total time=   1.4s\n",
            "[CV 4/5; 37/40] START randomforestregressor__max_depth=10, randomforestregressor__n_estimators=5, randomforestregressor__random_state=12345\n",
            "[CV 4/5; 37/40] END randomforestregressor__max_depth=10, randomforestregressor__n_estimators=5, randomforestregressor__random_state=12345; total time=   1.4s\n",
            "[CV 5/5; 37/40] START randomforestregressor__max_depth=10, randomforestregressor__n_estimators=5, randomforestregressor__random_state=12345\n",
            "[CV 5/5; 37/40] END randomforestregressor__max_depth=10, randomforestregressor__n_estimators=5, randomforestregressor__random_state=12345; total time=   1.4s\n",
            "[CV 1/5; 38/40] START randomforestregressor__max_depth=10, randomforestregressor__n_estimators=55, randomforestregressor__random_state=12345\n",
            "[CV 1/5; 38/40] END randomforestregressor__max_depth=10, randomforestregressor__n_estimators=55, randomforestregressor__random_state=12345; total time=  15.4s\n",
            "[CV 2/5; 38/40] START randomforestregressor__max_depth=10, randomforestregressor__n_estimators=55, randomforestregressor__random_state=12345\n",
            "[CV 2/5; 38/40] END randomforestregressor__max_depth=10, randomforestregressor__n_estimators=55, randomforestregressor__random_state=12345; total time=  15.5s\n",
            "[CV 3/5; 38/40] START randomforestregressor__max_depth=10, randomforestregressor__n_estimators=55, randomforestregressor__random_state=12345\n",
            "[CV 3/5; 38/40] END randomforestregressor__max_depth=10, randomforestregressor__n_estimators=55, randomforestregressor__random_state=12345; total time=  15.2s\n",
            "[CV 4/5; 38/40] START randomforestregressor__max_depth=10, randomforestregressor__n_estimators=55, randomforestregressor__random_state=12345\n",
            "[CV 4/5; 38/40] END randomforestregressor__max_depth=10, randomforestregressor__n_estimators=55, randomforestregressor__random_state=12345; total time=  15.5s\n",
            "[CV 5/5; 38/40] START randomforestregressor__max_depth=10, randomforestregressor__n_estimators=55, randomforestregressor__random_state=12345\n",
            "[CV 5/5; 38/40] END randomforestregressor__max_depth=10, randomforestregressor__n_estimators=55, randomforestregressor__random_state=12345; total time=  15.5s\n",
            "[CV 1/5; 39/40] START randomforestregressor__max_depth=10, randomforestregressor__n_estimators=105, randomforestregressor__random_state=12345\n",
            "[CV 1/5; 39/40] END randomforestregressor__max_depth=10, randomforestregressor__n_estimators=105, randomforestregressor__random_state=12345; total time=  29.5s\n",
            "[CV 2/5; 39/40] START randomforestregressor__max_depth=10, randomforestregressor__n_estimators=105, randomforestregressor__random_state=12345\n",
            "[CV 2/5; 39/40] END randomforestregressor__max_depth=10, randomforestregressor__n_estimators=105, randomforestregressor__random_state=12345; total time=  29.6s\n",
            "[CV 3/5; 39/40] START randomforestregressor__max_depth=10, randomforestregressor__n_estimators=105, randomforestregressor__random_state=12345\n",
            "[CV 3/5; 39/40] END randomforestregressor__max_depth=10, randomforestregressor__n_estimators=105, randomforestregressor__random_state=12345; total time=  29.0s\n",
            "[CV 4/5; 39/40] START randomforestregressor__max_depth=10, randomforestregressor__n_estimators=105, randomforestregressor__random_state=12345\n",
            "[CV 4/5; 39/40] END randomforestregressor__max_depth=10, randomforestregressor__n_estimators=105, randomforestregressor__random_state=12345; total time=  29.4s\n",
            "[CV 5/5; 39/40] START randomforestregressor__max_depth=10, randomforestregressor__n_estimators=105, randomforestregressor__random_state=12345\n",
            "[CV 5/5; 39/40] END randomforestregressor__max_depth=10, randomforestregressor__n_estimators=105, randomforestregressor__random_state=12345; total time=  29.2s\n",
            "[CV 1/5; 40/40] START randomforestregressor__max_depth=10, randomforestregressor__n_estimators=155, randomforestregressor__random_state=12345\n",
            "[CV 1/5; 40/40] END randomforestregressor__max_depth=10, randomforestregressor__n_estimators=155, randomforestregressor__random_state=12345; total time=  42.7s\n",
            "[CV 2/5; 40/40] START randomforestregressor__max_depth=10, randomforestregressor__n_estimators=155, randomforestregressor__random_state=12345\n",
            "[CV 2/5; 40/40] END randomforestregressor__max_depth=10, randomforestregressor__n_estimators=155, randomforestregressor__random_state=12345; total time=  42.4s\n",
            "[CV 3/5; 40/40] START randomforestregressor__max_depth=10, randomforestregressor__n_estimators=155, randomforestregressor__random_state=12345\n",
            "[CV 3/5; 40/40] END randomforestregressor__max_depth=10, randomforestregressor__n_estimators=155, randomforestregressor__random_state=12345; total time=  42.1s\n",
            "[CV 4/5; 40/40] START randomforestregressor__max_depth=10, randomforestregressor__n_estimators=155, randomforestregressor__random_state=12345\n",
            "[CV 4/5; 40/40] END randomforestregressor__max_depth=10, randomforestregressor__n_estimators=155, randomforestregressor__random_state=12345; total time=  42.5s\n",
            "[CV 5/5; 40/40] START randomforestregressor__max_depth=10, randomforestregressor__n_estimators=155, randomforestregressor__random_state=12345\n",
            "[CV 5/5; 40/40] END randomforestregressor__max_depth=10, randomforestregressor__n_estimators=155, randomforestregressor__random_state=12345; total time=  42.7s\n",
            "Fitting 5 folds for each of 10 candidates, totalling 50 fits\n",
            "[CV 1/5; 1/10] START decisiontreeregressor__max_depth=1, decisiontreeregressor__random_state=12345\n",
            "[CV 1/5; 1/10] END decisiontreeregressor__max_depth=1, decisiontreeregressor__random_state=12345; total time=   0.1s\n",
            "[CV 2/5; 1/10] START decisiontreeregressor__max_depth=1, decisiontreeregressor__random_state=12345\n",
            "[CV 2/5; 1/10] END decisiontreeregressor__max_depth=1, decisiontreeregressor__random_state=12345; total time=   0.1s\n",
            "[CV 3/5; 1/10] START decisiontreeregressor__max_depth=1, decisiontreeregressor__random_state=12345\n",
            "[CV 3/5; 1/10] END decisiontreeregressor__max_depth=1, decisiontreeregressor__random_state=12345; total time=   0.1s\n",
            "[CV 4/5; 1/10] START decisiontreeregressor__max_depth=1, decisiontreeregressor__random_state=12345\n",
            "[CV 4/5; 1/10] END decisiontreeregressor__max_depth=1, decisiontreeregressor__random_state=12345; total time=   0.1s\n",
            "[CV 5/5; 1/10] START decisiontreeregressor__max_depth=1, decisiontreeregressor__random_state=12345\n",
            "[CV 5/5; 1/10] END decisiontreeregressor__max_depth=1, decisiontreeregressor__random_state=12345; total time=   0.1s\n",
            "[CV 1/5; 2/10] START decisiontreeregressor__max_depth=2, decisiontreeregressor__random_state=12345\n",
            "[CV 1/5; 2/10] END decisiontreeregressor__max_depth=2, decisiontreeregressor__random_state=12345; total time=   0.1s\n",
            "[CV 2/5; 2/10] START decisiontreeregressor__max_depth=2, decisiontreeregressor__random_state=12345\n",
            "[CV 2/5; 2/10] END decisiontreeregressor__max_depth=2, decisiontreeregressor__random_state=12345; total time=   0.1s\n",
            "[CV 3/5; 2/10] START decisiontreeregressor__max_depth=2, decisiontreeregressor__random_state=12345\n",
            "[CV 3/5; 2/10] END decisiontreeregressor__max_depth=2, decisiontreeregressor__random_state=12345; total time=   0.1s\n",
            "[CV 4/5; 2/10] START decisiontreeregressor__max_depth=2, decisiontreeregressor__random_state=12345\n",
            "[CV 4/5; 2/10] END decisiontreeregressor__max_depth=2, decisiontreeregressor__random_state=12345; total time=   0.1s\n",
            "[CV 5/5; 2/10] START decisiontreeregressor__max_depth=2, decisiontreeregressor__random_state=12345\n",
            "[CV 5/5; 2/10] END decisiontreeregressor__max_depth=2, decisiontreeregressor__random_state=12345; total time=   0.1s\n",
            "[CV 1/5; 3/10] START decisiontreeregressor__max_depth=3, decisiontreeregressor__random_state=12345\n",
            "[CV 1/5; 3/10] END decisiontreeregressor__max_depth=3, decisiontreeregressor__random_state=12345; total time=   0.2s\n",
            "[CV 2/5; 3/10] START decisiontreeregressor__max_depth=3, decisiontreeregressor__random_state=12345\n",
            "[CV 2/5; 3/10] END decisiontreeregressor__max_depth=3, decisiontreeregressor__random_state=12345; total time=   0.2s\n",
            "[CV 3/5; 3/10] START decisiontreeregressor__max_depth=3, decisiontreeregressor__random_state=12345\n",
            "[CV 3/5; 3/10] END decisiontreeregressor__max_depth=3, decisiontreeregressor__random_state=12345; total time=   0.2s\n",
            "[CV 4/5; 3/10] START decisiontreeregressor__max_depth=3, decisiontreeregressor__random_state=12345\n",
            "[CV 4/5; 3/10] END decisiontreeregressor__max_depth=3, decisiontreeregressor__random_state=12345; total time=   0.2s\n",
            "[CV 5/5; 3/10] START decisiontreeregressor__max_depth=3, decisiontreeregressor__random_state=12345\n",
            "[CV 5/5; 3/10] END decisiontreeregressor__max_depth=3, decisiontreeregressor__random_state=12345; total time=   0.2s\n",
            "[CV 1/5; 4/10] START decisiontreeregressor__max_depth=4, decisiontreeregressor__random_state=12345\n",
            "[CV 1/5; 4/10] END decisiontreeregressor__max_depth=4, decisiontreeregressor__random_state=12345; total time=   0.2s\n",
            "[CV 2/5; 4/10] START decisiontreeregressor__max_depth=4, decisiontreeregressor__random_state=12345\n",
            "[CV 2/5; 4/10] END decisiontreeregressor__max_depth=4, decisiontreeregressor__random_state=12345; total time=   0.2s\n",
            "[CV 3/5; 4/10] START decisiontreeregressor__max_depth=4, decisiontreeregressor__random_state=12345\n",
            "[CV 3/5; 4/10] END decisiontreeregressor__max_depth=4, decisiontreeregressor__random_state=12345; total time=   0.2s\n",
            "[CV 4/5; 4/10] START decisiontreeregressor__max_depth=4, decisiontreeregressor__random_state=12345\n",
            "[CV 4/5; 4/10] END decisiontreeregressor__max_depth=4, decisiontreeregressor__random_state=12345; total time=   0.2s\n",
            "[CV 5/5; 4/10] START decisiontreeregressor__max_depth=4, decisiontreeregressor__random_state=12345\n",
            "[CV 5/5; 4/10] END decisiontreeregressor__max_depth=4, decisiontreeregressor__random_state=12345; total time=   0.2s\n",
            "[CV 1/5; 5/10] START decisiontreeregressor__max_depth=5, decisiontreeregressor__random_state=12345\n",
            "[CV 1/5; 5/10] END decisiontreeregressor__max_depth=5, decisiontreeregressor__random_state=12345; total time=   0.3s\n",
            "[CV 2/5; 5/10] START decisiontreeregressor__max_depth=5, decisiontreeregressor__random_state=12345\n",
            "[CV 2/5; 5/10] END decisiontreeregressor__max_depth=5, decisiontreeregressor__random_state=12345; total time=   0.3s\n",
            "[CV 3/5; 5/10] START decisiontreeregressor__max_depth=5, decisiontreeregressor__random_state=12345\n",
            "[CV 3/5; 5/10] END decisiontreeregressor__max_depth=5, decisiontreeregressor__random_state=12345; total time=   0.3s\n",
            "[CV 4/5; 5/10] START decisiontreeregressor__max_depth=5, decisiontreeregressor__random_state=12345\n",
            "[CV 4/5; 5/10] END decisiontreeregressor__max_depth=5, decisiontreeregressor__random_state=12345; total time=   0.3s\n",
            "[CV 5/5; 5/10] START decisiontreeregressor__max_depth=5, decisiontreeregressor__random_state=12345\n",
            "[CV 5/5; 5/10] END decisiontreeregressor__max_depth=5, decisiontreeregressor__random_state=12345; total time=   0.3s\n",
            "[CV 1/5; 6/10] START decisiontreeregressor__max_depth=6, decisiontreeregressor__random_state=12345\n",
            "[CV 1/5; 6/10] END decisiontreeregressor__max_depth=6, decisiontreeregressor__random_state=12345; total time=   0.3s\n",
            "[CV 2/5; 6/10] START decisiontreeregressor__max_depth=6, decisiontreeregressor__random_state=12345\n",
            "[CV 2/5; 6/10] END decisiontreeregressor__max_depth=6, decisiontreeregressor__random_state=12345; total time=   0.3s\n",
            "[CV 3/5; 6/10] START decisiontreeregressor__max_depth=6, decisiontreeregressor__random_state=12345\n",
            "[CV 3/5; 6/10] END decisiontreeregressor__max_depth=6, decisiontreeregressor__random_state=12345; total time=   0.3s\n",
            "[CV 4/5; 6/10] START decisiontreeregressor__max_depth=6, decisiontreeregressor__random_state=12345\n",
            "[CV 4/5; 6/10] END decisiontreeregressor__max_depth=6, decisiontreeregressor__random_state=12345; total time=   0.3s\n",
            "[CV 5/5; 6/10] START decisiontreeregressor__max_depth=6, decisiontreeregressor__random_state=12345\n",
            "[CV 5/5; 6/10] END decisiontreeregressor__max_depth=6, decisiontreeregressor__random_state=12345; total time=   0.3s\n",
            "[CV 1/5; 7/10] START decisiontreeregressor__max_depth=7, decisiontreeregressor__random_state=12345\n",
            "[CV 1/5; 7/10] END decisiontreeregressor__max_depth=7, decisiontreeregressor__random_state=12345; total time=   0.3s\n",
            "[CV 2/5; 7/10] START decisiontreeregressor__max_depth=7, decisiontreeregressor__random_state=12345\n",
            "[CV 2/5; 7/10] END decisiontreeregressor__max_depth=7, decisiontreeregressor__random_state=12345; total time=   0.3s\n",
            "[CV 3/5; 7/10] START decisiontreeregressor__max_depth=7, decisiontreeregressor__random_state=12345\n",
            "[CV 3/5; 7/10] END decisiontreeregressor__max_depth=7, decisiontreeregressor__random_state=12345; total time=   0.3s\n",
            "[CV 4/5; 7/10] START decisiontreeregressor__max_depth=7, decisiontreeregressor__random_state=12345\n",
            "[CV 4/5; 7/10] END decisiontreeregressor__max_depth=7, decisiontreeregressor__random_state=12345; total time=   0.3s\n",
            "[CV 5/5; 7/10] START decisiontreeregressor__max_depth=7, decisiontreeregressor__random_state=12345\n",
            "[CV 5/5; 7/10] END decisiontreeregressor__max_depth=7, decisiontreeregressor__random_state=12345; total time=   0.3s\n",
            "[CV 1/5; 8/10] START decisiontreeregressor__max_depth=8, decisiontreeregressor__random_state=12345\n",
            "[CV 1/5; 8/10] END decisiontreeregressor__max_depth=8, decisiontreeregressor__random_state=12345; total time=   0.4s\n",
            "[CV 2/5; 8/10] START decisiontreeregressor__max_depth=8, decisiontreeregressor__random_state=12345\n",
            "[CV 2/5; 8/10] END decisiontreeregressor__max_depth=8, decisiontreeregressor__random_state=12345; total time=   0.4s\n",
            "[CV 3/5; 8/10] START decisiontreeregressor__max_depth=8, decisiontreeregressor__random_state=12345\n",
            "[CV 3/5; 8/10] END decisiontreeregressor__max_depth=8, decisiontreeregressor__random_state=12345; total time=   0.4s\n",
            "[CV 4/5; 8/10] START decisiontreeregressor__max_depth=8, decisiontreeregressor__random_state=12345\n",
            "[CV 4/5; 8/10] END decisiontreeregressor__max_depth=8, decisiontreeregressor__random_state=12345; total time=   0.4s\n",
            "[CV 5/5; 8/10] START decisiontreeregressor__max_depth=8, decisiontreeregressor__random_state=12345\n",
            "[CV 5/5; 8/10] END decisiontreeregressor__max_depth=8, decisiontreeregressor__random_state=12345; total time=   0.4s\n",
            "[CV 1/5; 9/10] START decisiontreeregressor__max_depth=9, decisiontreeregressor__random_state=12345\n",
            "[CV 1/5; 9/10] END decisiontreeregressor__max_depth=9, decisiontreeregressor__random_state=12345; total time=   0.4s\n",
            "[CV 2/5; 9/10] START decisiontreeregressor__max_depth=9, decisiontreeregressor__random_state=12345\n",
            "[CV 2/5; 9/10] END decisiontreeregressor__max_depth=9, decisiontreeregressor__random_state=12345; total time=   0.4s\n",
            "[CV 3/5; 9/10] START decisiontreeregressor__max_depth=9, decisiontreeregressor__random_state=12345\n",
            "[CV 3/5; 9/10] END decisiontreeregressor__max_depth=9, decisiontreeregressor__random_state=12345; total time=   0.4s\n",
            "[CV 4/5; 9/10] START decisiontreeregressor__max_depth=9, decisiontreeregressor__random_state=12345\n",
            "[CV 4/5; 9/10] END decisiontreeregressor__max_depth=9, decisiontreeregressor__random_state=12345; total time=   0.4s\n",
            "[CV 5/5; 9/10] START decisiontreeregressor__max_depth=9, decisiontreeregressor__random_state=12345\n",
            "[CV 5/5; 9/10] END decisiontreeregressor__max_depth=9, decisiontreeregressor__random_state=12345; total time=   0.4s\n",
            "[CV 1/5; 10/10] START decisiontreeregressor__max_depth=10, decisiontreeregressor__random_state=12345\n",
            "[CV 1/5; 10/10] END decisiontreeregressor__max_depth=10, decisiontreeregressor__random_state=12345; total time=   0.5s\n",
            "[CV 2/5; 10/10] START decisiontreeregressor__max_depth=10, decisiontreeregressor__random_state=12345\n",
            "[CV 2/5; 10/10] END decisiontreeregressor__max_depth=10, decisiontreeregressor__random_state=12345; total time=   0.4s\n",
            "[CV 3/5; 10/10] START decisiontreeregressor__max_depth=10, decisiontreeregressor__random_state=12345\n",
            "[CV 3/5; 10/10] END decisiontreeregressor__max_depth=10, decisiontreeregressor__random_state=12345; total time=   0.5s\n",
            "[CV 4/5; 10/10] START decisiontreeregressor__max_depth=10, decisiontreeregressor__random_state=12345\n",
            "[CV 4/5; 10/10] END decisiontreeregressor__max_depth=10, decisiontreeregressor__random_state=12345; total time=   0.4s\n",
            "[CV 5/5; 10/10] START decisiontreeregressor__max_depth=10, decisiontreeregressor__random_state=12345\n",
            "[CV 5/5; 10/10] END decisiontreeregressor__max_depth=10, decisiontreeregressor__random_state=12345; total time=   0.5s\n",
            "Fitting 5 folds for each of 10 candidates, totalling 50 fits\n",
            "[CV 1/5; 1/10] START decisiontreeregressor__max_depth=1, decisiontreeregressor__random_state=12345\n",
            "[CV 1/5; 1/10] END decisiontreeregressor__max_depth=1, decisiontreeregressor__random_state=12345; total time=   0.1s\n",
            "[CV 2/5; 1/10] START decisiontreeregressor__max_depth=1, decisiontreeregressor__random_state=12345\n",
            "[CV 2/5; 1/10] END decisiontreeregressor__max_depth=1, decisiontreeregressor__random_state=12345; total time=   0.1s\n",
            "[CV 3/5; 1/10] START decisiontreeregressor__max_depth=1, decisiontreeregressor__random_state=12345\n",
            "[CV 3/5; 1/10] END decisiontreeregressor__max_depth=1, decisiontreeregressor__random_state=12345; total time=   0.1s\n",
            "[CV 4/5; 1/10] START decisiontreeregressor__max_depth=1, decisiontreeregressor__random_state=12345\n",
            "[CV 4/5; 1/10] END decisiontreeregressor__max_depth=1, decisiontreeregressor__random_state=12345; total time=   0.1s\n",
            "[CV 5/5; 1/10] START decisiontreeregressor__max_depth=1, decisiontreeregressor__random_state=12345\n",
            "[CV 5/5; 1/10] END decisiontreeregressor__max_depth=1, decisiontreeregressor__random_state=12345; total time=   0.1s\n",
            "[CV 1/5; 2/10] START decisiontreeregressor__max_depth=2, decisiontreeregressor__random_state=12345\n",
            "[CV 1/5; 2/10] END decisiontreeregressor__max_depth=2, decisiontreeregressor__random_state=12345; total time=   0.1s\n",
            "[CV 2/5; 2/10] START decisiontreeregressor__max_depth=2, decisiontreeregressor__random_state=12345\n",
            "[CV 2/5; 2/10] END decisiontreeregressor__max_depth=2, decisiontreeregressor__random_state=12345; total time=   0.1s\n",
            "[CV 3/5; 2/10] START decisiontreeregressor__max_depth=2, decisiontreeregressor__random_state=12345\n",
            "[CV 3/5; 2/10] END decisiontreeregressor__max_depth=2, decisiontreeregressor__random_state=12345; total time=   0.1s\n",
            "[CV 4/5; 2/10] START decisiontreeregressor__max_depth=2, decisiontreeregressor__random_state=12345\n",
            "[CV 4/5; 2/10] END decisiontreeregressor__max_depth=2, decisiontreeregressor__random_state=12345; total time=   0.1s\n",
            "[CV 5/5; 2/10] START decisiontreeregressor__max_depth=2, decisiontreeregressor__random_state=12345\n",
            "[CV 5/5; 2/10] END decisiontreeregressor__max_depth=2, decisiontreeregressor__random_state=12345; total time=   0.1s\n",
            "[CV 1/5; 3/10] START decisiontreeregressor__max_depth=3, decisiontreeregressor__random_state=12345\n",
            "[CV 1/5; 3/10] END decisiontreeregressor__max_depth=3, decisiontreeregressor__random_state=12345; total time=   0.2s\n",
            "[CV 2/5; 3/10] START decisiontreeregressor__max_depth=3, decisiontreeregressor__random_state=12345\n",
            "[CV 2/5; 3/10] END decisiontreeregressor__max_depth=3, decisiontreeregressor__random_state=12345; total time=   0.2s\n",
            "[CV 3/5; 3/10] START decisiontreeregressor__max_depth=3, decisiontreeregressor__random_state=12345\n",
            "[CV 3/5; 3/10] END decisiontreeregressor__max_depth=3, decisiontreeregressor__random_state=12345; total time=   0.2s\n",
            "[CV 4/5; 3/10] START decisiontreeregressor__max_depth=3, decisiontreeregressor__random_state=12345\n",
            "[CV 4/5; 3/10] END decisiontreeregressor__max_depth=3, decisiontreeregressor__random_state=12345; total time=   0.2s\n",
            "[CV 5/5; 3/10] START decisiontreeregressor__max_depth=3, decisiontreeregressor__random_state=12345\n",
            "[CV 5/5; 3/10] END decisiontreeregressor__max_depth=3, decisiontreeregressor__random_state=12345; total time=   0.2s\n",
            "[CV 1/5; 4/10] START decisiontreeregressor__max_depth=4, decisiontreeregressor__random_state=12345\n",
            "[CV 1/5; 4/10] END decisiontreeregressor__max_depth=4, decisiontreeregressor__random_state=12345; total time=   0.2s\n",
            "[CV 2/5; 4/10] START decisiontreeregressor__max_depth=4, decisiontreeregressor__random_state=12345\n",
            "[CV 2/5; 4/10] END decisiontreeregressor__max_depth=4, decisiontreeregressor__random_state=12345; total time=   0.2s\n",
            "[CV 3/5; 4/10] START decisiontreeregressor__max_depth=4, decisiontreeregressor__random_state=12345\n",
            "[CV 3/5; 4/10] END decisiontreeregressor__max_depth=4, decisiontreeregressor__random_state=12345; total time=   0.2s\n",
            "[CV 4/5; 4/10] START decisiontreeregressor__max_depth=4, decisiontreeregressor__random_state=12345\n",
            "[CV 4/5; 4/10] END decisiontreeregressor__max_depth=4, decisiontreeregressor__random_state=12345; total time=   0.2s\n",
            "[CV 5/5; 4/10] START decisiontreeregressor__max_depth=4, decisiontreeregressor__random_state=12345\n",
            "[CV 5/5; 4/10] END decisiontreeregressor__max_depth=4, decisiontreeregressor__random_state=12345; total time=   0.2s\n",
            "[CV 1/5; 5/10] START decisiontreeregressor__max_depth=5, decisiontreeregressor__random_state=12345\n",
            "[CV 1/5; 5/10] END decisiontreeregressor__max_depth=5, decisiontreeregressor__random_state=12345; total time=   0.3s\n",
            "[CV 2/5; 5/10] START decisiontreeregressor__max_depth=5, decisiontreeregressor__random_state=12345\n",
            "[CV 2/5; 5/10] END decisiontreeregressor__max_depth=5, decisiontreeregressor__random_state=12345; total time=   0.3s\n",
            "[CV 3/5; 5/10] START decisiontreeregressor__max_depth=5, decisiontreeregressor__random_state=12345\n",
            "[CV 3/5; 5/10] END decisiontreeregressor__max_depth=5, decisiontreeregressor__random_state=12345; total time=   0.3s\n",
            "[CV 4/5; 5/10] START decisiontreeregressor__max_depth=5, decisiontreeregressor__random_state=12345\n",
            "[CV 4/5; 5/10] END decisiontreeregressor__max_depth=5, decisiontreeregressor__random_state=12345; total time=   0.3s\n",
            "[CV 5/5; 5/10] START decisiontreeregressor__max_depth=5, decisiontreeregressor__random_state=12345\n",
            "[CV 5/5; 5/10] END decisiontreeregressor__max_depth=5, decisiontreeregressor__random_state=12345; total time=   0.3s\n",
            "[CV 1/5; 6/10] START decisiontreeregressor__max_depth=6, decisiontreeregressor__random_state=12345\n",
            "[CV 1/5; 6/10] END decisiontreeregressor__max_depth=6, decisiontreeregressor__random_state=12345; total time=   0.3s\n",
            "[CV 2/5; 6/10] START decisiontreeregressor__max_depth=6, decisiontreeregressor__random_state=12345\n",
            "[CV 2/5; 6/10] END decisiontreeregressor__max_depth=6, decisiontreeregressor__random_state=12345; total time=   0.3s\n",
            "[CV 3/5; 6/10] START decisiontreeregressor__max_depth=6, decisiontreeregressor__random_state=12345\n",
            "[CV 3/5; 6/10] END decisiontreeregressor__max_depth=6, decisiontreeregressor__random_state=12345; total time=   0.3s\n",
            "[CV 4/5; 6/10] START decisiontreeregressor__max_depth=6, decisiontreeregressor__random_state=12345\n",
            "[CV 4/5; 6/10] END decisiontreeregressor__max_depth=6, decisiontreeregressor__random_state=12345; total time=   0.3s\n",
            "[CV 5/5; 6/10] START decisiontreeregressor__max_depth=6, decisiontreeregressor__random_state=12345\n",
            "[CV 5/5; 6/10] END decisiontreeregressor__max_depth=6, decisiontreeregressor__random_state=12345; total time=   0.3s\n",
            "[CV 1/5; 7/10] START decisiontreeregressor__max_depth=7, decisiontreeregressor__random_state=12345\n",
            "[CV 1/5; 7/10] END decisiontreeregressor__max_depth=7, decisiontreeregressor__random_state=12345; total time=   0.4s\n",
            "[CV 2/5; 7/10] START decisiontreeregressor__max_depth=7, decisiontreeregressor__random_state=12345\n",
            "[CV 2/5; 7/10] END decisiontreeregressor__max_depth=7, decisiontreeregressor__random_state=12345; total time=   0.4s\n",
            "[CV 3/5; 7/10] START decisiontreeregressor__max_depth=7, decisiontreeregressor__random_state=12345\n",
            "[CV 3/5; 7/10] END decisiontreeregressor__max_depth=7, decisiontreeregressor__random_state=12345; total time=   0.3s\n",
            "[CV 4/5; 7/10] START decisiontreeregressor__max_depth=7, decisiontreeregressor__random_state=12345\n",
            "[CV 4/5; 7/10] END decisiontreeregressor__max_depth=7, decisiontreeregressor__random_state=12345; total time=   0.3s\n",
            "[CV 5/5; 7/10] START decisiontreeregressor__max_depth=7, decisiontreeregressor__random_state=12345\n",
            "[CV 5/5; 7/10] END decisiontreeregressor__max_depth=7, decisiontreeregressor__random_state=12345; total time=   0.4s\n",
            "[CV 1/5; 8/10] START decisiontreeregressor__max_depth=8, decisiontreeregressor__random_state=12345\n",
            "[CV 1/5; 8/10] END decisiontreeregressor__max_depth=8, decisiontreeregressor__random_state=12345; total time=   0.4s\n",
            "[CV 2/5; 8/10] START decisiontreeregressor__max_depth=8, decisiontreeregressor__random_state=12345\n",
            "[CV 2/5; 8/10] END decisiontreeregressor__max_depth=8, decisiontreeregressor__random_state=12345; total time=   0.4s\n",
            "[CV 3/5; 8/10] START decisiontreeregressor__max_depth=8, decisiontreeregressor__random_state=12345\n",
            "[CV 3/5; 8/10] END decisiontreeregressor__max_depth=8, decisiontreeregressor__random_state=12345; total time=   0.4s\n",
            "[CV 4/5; 8/10] START decisiontreeregressor__max_depth=8, decisiontreeregressor__random_state=12345\n",
            "[CV 4/5; 8/10] END decisiontreeregressor__max_depth=8, decisiontreeregressor__random_state=12345; total time=   0.4s\n",
            "[CV 5/5; 8/10] START decisiontreeregressor__max_depth=8, decisiontreeregressor__random_state=12345\n",
            "[CV 5/5; 8/10] END decisiontreeregressor__max_depth=8, decisiontreeregressor__random_state=12345; total time=   0.4s\n",
            "[CV 1/5; 9/10] START decisiontreeregressor__max_depth=9, decisiontreeregressor__random_state=12345\n",
            "[CV 1/5; 9/10] END decisiontreeregressor__max_depth=9, decisiontreeregressor__random_state=12345; total time=   0.4s\n",
            "[CV 2/5; 9/10] START decisiontreeregressor__max_depth=9, decisiontreeregressor__random_state=12345\n",
            "[CV 2/5; 9/10] END decisiontreeregressor__max_depth=9, decisiontreeregressor__random_state=12345; total time=   0.4s\n",
            "[CV 3/5; 9/10] START decisiontreeregressor__max_depth=9, decisiontreeregressor__random_state=12345\n",
            "[CV 3/5; 9/10] END decisiontreeregressor__max_depth=9, decisiontreeregressor__random_state=12345; total time=   0.4s\n",
            "[CV 4/5; 9/10] START decisiontreeregressor__max_depth=9, decisiontreeregressor__random_state=12345\n",
            "[CV 4/5; 9/10] END decisiontreeregressor__max_depth=9, decisiontreeregressor__random_state=12345; total time=   0.4s\n",
            "[CV 5/5; 9/10] START decisiontreeregressor__max_depth=9, decisiontreeregressor__random_state=12345\n",
            "[CV 5/5; 9/10] END decisiontreeregressor__max_depth=9, decisiontreeregressor__random_state=12345; total time=   0.4s\n",
            "[CV 1/5; 10/10] START decisiontreeregressor__max_depth=10, decisiontreeregressor__random_state=12345\n",
            "[CV 1/5; 10/10] END decisiontreeregressor__max_depth=10, decisiontreeregressor__random_state=12345; total time=   0.5s\n",
            "[CV 2/5; 10/10] START decisiontreeregressor__max_depth=10, decisiontreeregressor__random_state=12345\n",
            "[CV 2/5; 10/10] END decisiontreeregressor__max_depth=10, decisiontreeregressor__random_state=12345; total time=   0.5s\n",
            "[CV 3/5; 10/10] START decisiontreeregressor__max_depth=10, decisiontreeregressor__random_state=12345\n",
            "[CV 3/5; 10/10] END decisiontreeregressor__max_depth=10, decisiontreeregressor__random_state=12345; total time=   0.5s\n",
            "[CV 4/5; 10/10] START decisiontreeregressor__max_depth=10, decisiontreeregressor__random_state=12345\n",
            "[CV 4/5; 10/10] END decisiontreeregressor__max_depth=10, decisiontreeregressor__random_state=12345; total time=   0.5s\n",
            "[CV 5/5; 10/10] START decisiontreeregressor__max_depth=10, decisiontreeregressor__random_state=12345\n",
            "[CV 5/5; 10/10] END decisiontreeregressor__max_depth=10, decisiontreeregressor__random_state=12345; total time=   0.5s\n"
          ]
        },
        {
          "data": {
            "text/plain": [
              "GridSearchCV(cv=5,\n",
              "             estimator=Pipeline(steps=[('standardscaler', StandardScaler()),\n",
              "                                       ('decisiontreeregressor',\n",
              "                                        DecisionTreeRegressor())]),\n",
              "             param_grid={'decisiontreeregressor__max_depth': range(1, 11),\n",
              "                         'decisiontreeregressor__random_state': [12345]},\n",
              "             scoring=make_scorer(sMAPE_func, greater_is_better=False),\n",
              "             verbose=10)"
            ]
          },
          "execution_count": 91,
          "metadata": {},
          "output_type": "execute_result"
        }
      ],
      "source": [
        "# обучение моделей\n",
        "\n",
        "# линейная регрессия\n",
        "\n",
        "grid_rougher_regress.fit(features_train, target_train_rougher)\n",
        "grid_final_regress.fit(features_train, target_train_final)\n",
        "\n",
        "# случайный лес\n",
        "\n",
        "grid_rougher_forest.fit(features_train, target_train_rougher)\n",
        "grid_final_forest.fit(features_train, target_train_final)\n",
        "\n",
        "# дерево решений\n",
        "\n",
        "grid_rougher_tree.fit(features_train, target_train_rougher)\n",
        "grid_final_tree.fit(features_train, target_train_final)\n"
      ]
    },
    {
      "cell_type": "markdown",
      "metadata": {
        "id": "cctVqQz3Hxjm"
      },
      "source": [
        "### Выбор лучшей модели и проверка её на тестовой выборке"
      ]
    },
    {
      "cell_type": "code",
      "execution_count": null,
      "metadata": {
        "id": "0CXGAWY5Hxjm",
        "outputId": "b446d164-a370-4ebf-b5fe-3464aafc4334"
      },
      "outputs": [
        {
          "name": "stdout",
          "output_type": "stream",
          "text": [
            "для модели Линейная регрессия(LinearRegression) лучший результат rougher = 7.0262230176549565\n",
            "для модели Случаный лес(RandomForestRegressor) лучший результат rougher = 6.2464447198816435\n",
            "для модели Дерево решений(DecisionTreeRegressor) лучший результат rougher = 7.263703373570375\n",
            "\n",
            "для модели Линейная регрессия(LinearRegression) лучший результат final = 10.564142056403265\n",
            "для модели Случаный лес(RandomForestRegressor) лучший результат final = 8.634899246736314\n",
            "для модели Дерево решений(DecisionTreeRegressor) лучший результат final = 9.011674050191218\n"
          ]
        }
      ],
      "source": [
        "# выведем информацию по лучшему результату целевых показателей\n",
        "\n",
        "# линейная регрессия\n",
        "\n",
        "best_score_rougher_regress = grid_rougher_regress.best_score_\n",
        "best_score_final_regress = grid_final_regress.best_score_\n",
        "\n",
        "# случайный лес\n",
        "\n",
        "best_score_rougher_forest = grid_rougher_forest.best_score_\n",
        "best_score_final_forest = grid_final_forest.best_score_\n",
        "\n",
        "# дерево решений\n",
        "\n",
        "best_score_rougher_tree = grid_rougher_tree.best_score_\n",
        "best_score_final_tree = grid_final_tree.best_score_\n",
        "\n",
        "print(f'для модели Линейная регрессия(LinearRegression) лучший результат rougher = {abs(best_score_rougher_regress)}')\n",
        "print(f'для модели Случаный лес(RandomForestRegressor) лучший результат rougher = {abs(best_score_rougher_forest)}')\n",
        "print(f'для модели Дерево решений(DecisionTreeRegressor) лучший результат rougher = {abs(best_score_rougher_tree)}')\n",
        "\n",
        "print()\n",
        "\n",
        "print(f'для модели Линейная регрессия(LinearRegression) лучший результат final = {abs(best_score_final_regress)}')\n",
        "print(f'для модели Случаный лес(RandomForestRegressor) лучший результат final = {abs(best_score_final_forest)}')\n",
        "print(f'для модели Дерево решений(DecisionTreeRegressor) лучший результат final = {abs(best_score_final_tree)}')\n"
      ]
    },
    {
      "cell_type": "code",
      "execution_count": null,
      "metadata": {
        "id": "6Rv_TueMHxjn",
        "outputId": "2ff378ba-128e-48b3-cc17-70603fdc8525"
      },
      "outputs": [
        {
          "name": "stdout",
          "output_type": "stream",
          "text": [
            "для модели Линейная регрессия итоговое sMAPE = 9.679662296716188\n",
            "для модели Случаный лес итоговое sMAPE = 8.037785615022646\n",
            "для модели Дерево решений итоговое sMAPE = 8.574681381036006\n"
          ]
        }
      ],
      "source": [
        "# выведем информацию по final sMAPE по нашим моделям\n",
        "\n",
        "final_smape_regress = final_sMAPE_func(best_score_rougher_regress, best_score_final_regress)\n",
        "print(f'для модели Линейная регрессия итоговое sMAPE = {abs(final_smape_regress)}')\n",
        "\n",
        "final_smape_forest = final_sMAPE_func(best_score_rougher_forest, best_score_final_forest)\n",
        "print(f'для модели Случаный лес итоговое sMAPE = {abs(final_smape_forest)}')\n",
        "\n",
        "final_smape_tree = final_sMAPE_func(best_score_rougher_tree, best_score_final_tree)\n",
        "print(f'для модели Дерево решений итоговое sMAPE = {abs(final_smape_tree)}')\n"
      ]
    },
    {
      "cell_type": "markdown",
      "metadata": {
        "id": "PZ8dlDNiHxjn"
      },
      "source": [
        "Оценив полученные результаты, получается, что модель Случайного леса показала наилучшие показатели.\n",
        "\n",
        "для модели Случаный лес(RandomForestRegressor) лучший результат rougher = 6.2464447198816435\n",
        "\n",
        "для модели Случаный лес(RandomForestRegressor) лучший результат final = 8.634899246736314\n",
        "\n",
        "для модели Случаный лес итоговое sMAPE = 8.037785615022646"
      ]
    },
    {
      "cell_type": "markdown",
      "metadata": {
        "id": "_laqfcXMHxjp"
      },
      "source": [
        "**Проверка на тестовой выборке будет проходит по модели Случаный лес(RandomForestRegressor)**"
      ]
    },
    {
      "cell_type": "code",
      "execution_count": null,
      "metadata": {
        "scrolled": true,
        "id": "pSAvP4C1Hxjp",
        "outputId": "18bbe8ff-aedf-4afc-f01a-9d375c6e4f17"
      },
      "outputs": [
        {
          "name": "stdout",
          "output_type": "stream",
          "text": [
            "Симметричное среднее абсолютное процентное отклонение на тестовой выборке (sMAPE) = 9.257\n"
          ]
        }
      ],
      "source": [
        "# применим лучшую модель и вычислим final sMAPE на тестовой выборке\n",
        "\n",
        "features_test = np.array(gold_test_after.drop(['rougher.output.recovery', 'final.output.recovery'], axis=1))\n",
        "target_test_rouger = np.array(gold_test_after['rougher.output.recovery'])\n",
        "target_test_final = np.array(gold_test_after['final.output.recovery'])\n",
        "\n",
        "test_rogher = grid_rougher_forest.predict(features_test)\n",
        "test_final = grid_final_forest.predict(features_test)\n",
        "\n",
        "rouger_smape_test = sMAPE_func(target_test_rouger, test_rogher)\n",
        "final_smape_test = sMAPE_func(target_test_final, test_final)\n",
        "\n",
        "final_smape = final_sMAPE_func(rouger_smape_test, final_smape_test)\n",
        "print(f'Симметричное среднее абсолютное процентное отклонение на тестовой выборке (sMAPE) = {round(final_smape,3)}')"
      ]
    },
    {
      "cell_type": "markdown",
      "metadata": {
        "id": "Wq4QpkIEHxjp"
      },
      "source": [
        "**Вывод:**\n",
        "\n",
        "-- Для решения задачи ввели новую метрику качества — sMAPE (англ. Symmetric Mean Absolute Percentage Error, «симметричное среднее абсолютное процентное отклонение»). Написали для нее расчетные функции.\n",
        "\n",
        "-- Произвели удаление столбцов, которых не было в тестовой выборке\n",
        "\n",
        "-- Определили параметры для расчета моделей. Было выбрано 3 модели.\n",
        "\n",
        "-- На обучающей выборке произвели расчеты необходимых показателей, в том числе целевых параметров.\n",
        "\n",
        "-- Лучшие результаты показала модель Случайный лес:\n",
        "\n",
        "* лучший результат rougher = 6.2464447198816435\n",
        "\n",
        "* лучший результат final = 8.634899246736314\n",
        "\n",
        "* итоговое sMAPE = 8.037785615022646\n",
        "\n",
        "-- Симметричное среднее абсолютное процентное отклонение на тестовой выборке = 9.257"
      ]
    },
    {
      "cell_type": "markdown",
      "metadata": {
        "id": "jVsAxSxDHxjq"
      },
      "source": [
        "### Проверка модели на адекватность"
      ]
    },
    {
      "cell_type": "code",
      "execution_count": null,
      "metadata": {
        "id": "pF71tPY8Hxjq",
        "outputId": "ee9f53d5-6140-4b6f-9b5f-876d47b71b2b"
      },
      "outputs": [
        {
          "name": "stdout",
          "output_type": "stream",
          "text": [
            "Для стратегии mean итоговая sMAPE = 9.635\n",
            "Для стратегии median итоговая sMAPE = 9.304\n"
          ]
        }
      ],
      "source": [
        "# проведем оценку на средних и медианных значениях\n",
        "\n",
        "for strategy in ['mean', 'median']:\n",
        "    dummy_rougher = DummyRegressor(strategy=strategy)\n",
        "    dummy_final = DummyRegressor(strategy=strategy)\n",
        "\n",
        "    dummy_rougher.fit(features_train, target_train_rougher)\n",
        "    dummy_final.fit(features_train, target_train_final)\n",
        "\n",
        "    rougher = dummy_rougher.predict(gold_test_after)\n",
        "    final = dummy_final.predict(gold_test_after)\n",
        "\n",
        "    final_smape = final_sMAPE_func(sMAPE_func(target_test_rouger, rougher),\n",
        "                                   sMAPE_func(target_test_final, final))\n",
        "\n",
        "    print('Для стратегии', strategy, 'итоговая sMAPE =', round(final_smape,3))"
      ]
    },
    {
      "cell_type": "markdown",
      "metadata": {
        "id": "5FnFv2MTHxjq"
      },
      "source": [
        "**Вывод по блоку 3:**\n",
        "\n",
        "-- Проведя оценку, получилось что у нашей модели Случайный лес показатель итоговый sMAPE лучше, чем в strategy. Поэтому выбранная модель Случайный лес адекватна."
      ]
    },
    {
      "cell_type": "markdown",
      "metadata": {
        "id": "-mzvuiOIHxjr"
      },
      "source": [
        "## Общий вывод по итогам проекта"
      ]
    },
    {
      "cell_type": "markdown",
      "metadata": {
        "id": "76AQTsD6Hxjr"
      },
      "source": [
        "В ходе выполнения проекта были решены следующие задачи:\n",
        "\n",
        "1) Изучены предоставленные данные по технологическому процессу восстановления золота из золотосодержащей руды.\n",
        "\n",
        "2) Проведен анализ данных по показателям концентрации, распределению размеров гранул и оценке суммарной концентрации в металлах.\n",
        "\n",
        "3) Для решения задачи была введена метрика качества — sMAPE (англ. Symmetric Mean Absolute Percentage Error, «симметричное среднее абсолютное процентное отклонение»).\n",
        "\n",
        "4) Выбраны и обучены 3 модели для прогнозирования двух целевых показателей: `rougher.output.recovery` и `final.output.recovery`. Это были модели Линейная регрессия(LinearRegression),  Случаный лес(RandomForestRegressor), Дерево решений(DecisionTreeRegressor).\n",
        "\n",
        "5) По итогам проведенных итераций на обучающей выборке **лучшие результаты показала модель Случайного леса:**\n",
        "\n",
        "лучший результат rougher = 6.2464447198816435\n",
        "\n",
        "лучший результат final = 8.634899246736314\n",
        "\n",
        "итоговое sMAPE = 8.037785615022646\n",
        "\n",
        "6) **После применения этой модели на тестовой выборке получили sMAPE = 9.257**\n"
      ]
    }
  ],
  "metadata": {
    "ExecuteTimeLog": [
      {
        "duration": 1449,
        "start_time": "2023-11-14T12:15:34.073Z"
      },
      {
        "duration": 289,
        "start_time": "2023-11-14T12:18:42.361Z"
      },
      {
        "duration": 90,
        "start_time": "2023-11-14T12:19:44.612Z"
      },
      {
        "duration": 83,
        "start_time": "2023-11-14T12:19:53.999Z"
      },
      {
        "duration": 94,
        "start_time": "2023-11-14T12:20:00.389Z"
      },
      {
        "duration": 1891,
        "start_time": "2023-11-15T07:33:42.065Z"
      },
      {
        "duration": 117,
        "start_time": "2023-11-15T07:33:45.407Z"
      },
      {
        "duration": 167,
        "start_time": "2023-11-15T07:39:19.841Z"
      },
      {
        "duration": 51,
        "start_time": "2023-11-15T07:40:03.314Z"
      },
      {
        "duration": 118,
        "start_time": "2023-11-15T07:41:15.161Z"
      },
      {
        "duration": 1277,
        "start_time": "2023-11-15T08:08:55.813Z"
      },
      {
        "duration": 373,
        "start_time": "2023-11-15T08:10:26.876Z"
      },
      {
        "duration": 22,
        "start_time": "2023-11-15T08:12:47.927Z"
      },
      {
        "duration": 13,
        "start_time": "2023-11-15T08:13:43.840Z"
      },
      {
        "duration": 4,
        "start_time": "2023-11-15T08:13:51.595Z"
      },
      {
        "duration": 375,
        "start_time": "2023-11-15T08:19:48.375Z"
      },
      {
        "duration": 1619,
        "start_time": "2023-11-15T20:30:05.923Z"
      },
      {
        "duration": 1218,
        "start_time": "2023-11-15T20:30:08.630Z"
      },
      {
        "duration": 103,
        "start_time": "2023-11-15T20:33:02.227Z"
      },
      {
        "duration": 17,
        "start_time": "2023-11-15T20:34:06.705Z"
      },
      {
        "duration": 4,
        "start_time": "2023-11-15T20:35:23.760Z"
      },
      {
        "duration": 13,
        "start_time": "2023-11-15T20:35:29.568Z"
      },
      {
        "duration": 651,
        "start_time": "2023-11-15T20:36:49.034Z"
      },
      {
        "duration": 3,
        "start_time": "2023-11-15T20:36:53.777Z"
      },
      {
        "duration": 17,
        "start_time": "2023-11-15T20:36:59.605Z"
      },
      {
        "duration": 380,
        "start_time": "2023-11-15T20:37:07.003Z"
      },
      {
        "duration": 347,
        "start_time": "2023-11-15T20:37:54.824Z"
      },
      {
        "duration": 3,
        "start_time": "2023-11-15T20:38:21.672Z"
      },
      {
        "duration": 17,
        "start_time": "2023-11-15T20:38:30.000Z"
      },
      {
        "duration": 201,
        "start_time": "2023-11-15T20:40:19.868Z"
      },
      {
        "duration": 4,
        "start_time": "2023-11-15T20:40:24.593Z"
      },
      {
        "duration": 19,
        "start_time": "2023-11-15T20:40:26.896Z"
      },
      {
        "duration": 4,
        "start_time": "2023-11-15T20:47:06.366Z"
      },
      {
        "duration": 443,
        "start_time": "2023-11-15T20:48:09.948Z"
      },
      {
        "duration": 5,
        "start_time": "2023-11-15T20:48:13.572Z"
      },
      {
        "duration": 18,
        "start_time": "2023-11-15T20:48:16.921Z"
      },
      {
        "duration": 7,
        "start_time": "2023-11-15T21:06:45.554Z"
      },
      {
        "duration": 2,
        "start_time": "2023-11-15T21:30:48.695Z"
      },
      {
        "duration": 2,
        "start_time": "2023-11-15T21:39:57.172Z"
      },
      {
        "duration": 5,
        "start_time": "2023-11-15T21:39:58.913Z"
      },
      {
        "duration": 9,
        "start_time": "2023-11-15T21:40:20.195Z"
      },
      {
        "duration": 78,
        "start_time": "2023-11-15T21:44:28.037Z"
      },
      {
        "duration": 1660,
        "start_time": "2023-11-17T20:22:57.889Z"
      },
      {
        "duration": 1909,
        "start_time": "2023-11-17T20:23:06.023Z"
      },
      {
        "duration": 5,
        "start_time": "2023-11-17T20:23:08.226Z"
      },
      {
        "duration": 20,
        "start_time": "2023-11-17T20:23:17.561Z"
      },
      {
        "duration": 877,
        "start_time": "2023-11-17T20:23:27.557Z"
      },
      {
        "duration": 4,
        "start_time": "2023-11-17T20:23:29.785Z"
      },
      {
        "duration": 16,
        "start_time": "2023-11-17T20:23:34.326Z"
      },
      {
        "duration": 440,
        "start_time": "2023-11-17T20:23:39.321Z"
      },
      {
        "duration": 4,
        "start_time": "2023-11-17T20:23:44.126Z"
      },
      {
        "duration": 14,
        "start_time": "2023-11-17T20:23:48.904Z"
      },
      {
        "duration": 6,
        "start_time": "2023-11-17T20:23:56.331Z"
      },
      {
        "duration": 3,
        "start_time": "2023-11-17T20:24:10.726Z"
      },
      {
        "duration": 9,
        "start_time": "2023-11-17T20:24:12.231Z"
      },
      {
        "duration": 62,
        "start_time": "2023-11-17T20:24:17.323Z"
      },
      {
        "duration": 6,
        "start_time": "2023-11-17T20:40:02.376Z"
      },
      {
        "duration": 2,
        "start_time": "2023-11-17T20:54:03.225Z"
      },
      {
        "duration": 13,
        "start_time": "2023-11-17T20:56:03.362Z"
      },
      {
        "duration": 130,
        "start_time": "2023-11-17T21:03:17.621Z"
      },
      {
        "duration": 13,
        "start_time": "2023-11-17T21:03:37.551Z"
      },
      {
        "duration": 19,
        "start_time": "2023-11-17T21:03:51.024Z"
      },
      {
        "duration": 19,
        "start_time": "2023-11-17T21:04:20.172Z"
      },
      {
        "duration": 11,
        "start_time": "2023-11-17T21:05:55.728Z"
      },
      {
        "duration": 6,
        "start_time": "2023-11-17T21:06:04.110Z"
      },
      {
        "duration": 11,
        "start_time": "2023-11-17T21:06:28.478Z"
      },
      {
        "duration": 10,
        "start_time": "2023-11-17T21:06:36.486Z"
      },
      {
        "duration": 6,
        "start_time": "2023-11-17T21:06:42.613Z"
      },
      {
        "duration": 15,
        "start_time": "2023-11-17T21:06:53.192Z"
      },
      {
        "duration": 16,
        "start_time": "2023-11-17T21:07:07.351Z"
      },
      {
        "duration": 18,
        "start_time": "2023-11-17T21:32:14.085Z"
      },
      {
        "duration": 146,
        "start_time": "2023-11-17T21:35:06.726Z"
      },
      {
        "duration": 25,
        "start_time": "2023-11-17T21:35:16.530Z"
      },
      {
        "duration": 23,
        "start_time": "2023-11-17T21:35:26.644Z"
      },
      {
        "duration": 18,
        "start_time": "2023-11-17T21:35:43.082Z"
      },
      {
        "duration": 17,
        "start_time": "2023-11-17T21:36:03.831Z"
      },
      {
        "duration": 17,
        "start_time": "2023-11-17T21:36:20.501Z"
      },
      {
        "duration": 13,
        "start_time": "2023-11-17T21:45:43.133Z"
      },
      {
        "duration": 18,
        "start_time": "2023-11-17T21:46:20.638Z"
      },
      {
        "duration": 11,
        "start_time": "2023-11-17T21:46:34.415Z"
      },
      {
        "duration": 26,
        "start_time": "2023-11-17T21:48:17.757Z"
      },
      {
        "duration": 11,
        "start_time": "2023-11-17T21:48:19.526Z"
      },
      {
        "duration": 18,
        "start_time": "2023-11-17T21:48:31.278Z"
      },
      {
        "duration": 102,
        "start_time": "2023-11-17T21:49:40.062Z"
      },
      {
        "duration": 229,
        "start_time": "2023-11-17T21:49:50.768Z"
      },
      {
        "duration": 217,
        "start_time": "2023-11-17T21:53:34.224Z"
      },
      {
        "duration": 16,
        "start_time": "2023-11-17T21:59:04.652Z"
      },
      {
        "duration": 4,
        "start_time": "2023-11-17T21:59:19.315Z"
      },
      {
        "duration": 15,
        "start_time": "2023-11-17T21:59:29.985Z"
      },
      {
        "duration": 3,
        "start_time": "2023-11-17T22:01:32.277Z"
      },
      {
        "duration": 459,
        "start_time": "2023-11-17T22:01:33.986Z"
      },
      {
        "duration": 4,
        "start_time": "2023-11-17T22:01:38.306Z"
      },
      {
        "duration": 17,
        "start_time": "2023-11-17T22:01:39.304Z"
      },
      {
        "duration": 363,
        "start_time": "2023-11-17T22:01:49.083Z"
      },
      {
        "duration": 5,
        "start_time": "2023-11-17T22:01:52.037Z"
      },
      {
        "duration": 15,
        "start_time": "2023-11-17T22:01:53.924Z"
      },
      {
        "duration": 126,
        "start_time": "2023-11-17T22:02:05.891Z"
      },
      {
        "duration": 3,
        "start_time": "2023-11-17T22:02:09.475Z"
      },
      {
        "duration": 12,
        "start_time": "2023-11-17T22:02:10.411Z"
      },
      {
        "duration": 6,
        "start_time": "2023-11-17T22:02:14.081Z"
      },
      {
        "duration": 3,
        "start_time": "2023-11-17T22:02:18.118Z"
      },
      {
        "duration": 10,
        "start_time": "2023-11-17T22:02:19.159Z"
      },
      {
        "duration": 5,
        "start_time": "2023-11-17T22:02:22.762Z"
      },
      {
        "duration": 2,
        "start_time": "2023-11-17T22:02:26.392Z"
      },
      {
        "duration": 17,
        "start_time": "2023-11-17T22:02:29.372Z"
      },
      {
        "duration": 15,
        "start_time": "2023-11-17T22:02:41.005Z"
      },
      {
        "duration": 16,
        "start_time": "2023-11-17T22:02:48.783Z"
      },
      {
        "duration": 16,
        "start_time": "2023-11-17T22:02:51.387Z"
      },
      {
        "duration": 242,
        "start_time": "2023-11-17T22:02:58.530Z"
      },
      {
        "duration": 4,
        "start_time": "2023-11-17T22:03:01.976Z"
      },
      {
        "duration": 15,
        "start_time": "2023-11-17T22:03:05.967Z"
      },
      {
        "duration": 1653,
        "start_time": "2023-11-18T10:57:08.154Z"
      },
      {
        "duration": 637,
        "start_time": "2023-11-18T10:57:10.093Z"
      },
      {
        "duration": 4,
        "start_time": "2023-11-18T10:57:12.483Z"
      },
      {
        "duration": 17,
        "start_time": "2023-11-18T10:57:14.483Z"
      },
      {
        "duration": 1215,
        "start_time": "2023-11-18T10:57:19.785Z"
      },
      {
        "duration": 4,
        "start_time": "2023-11-18T10:57:27.375Z"
      },
      {
        "duration": 15,
        "start_time": "2023-11-18T10:57:31.676Z"
      },
      {
        "duration": 188,
        "start_time": "2023-11-18T10:57:36.086Z"
      },
      {
        "duration": 3,
        "start_time": "2023-11-18T10:57:39.215Z"
      },
      {
        "duration": 12,
        "start_time": "2023-11-18T10:57:40.393Z"
      },
      {
        "duration": 5,
        "start_time": "2023-11-18T10:57:43.396Z"
      },
      {
        "duration": 4,
        "start_time": "2023-11-18T10:57:48.346Z"
      },
      {
        "duration": 11,
        "start_time": "2023-11-18T10:57:49.484Z"
      },
      {
        "duration": 6,
        "start_time": "2023-11-18T10:58:00.525Z"
      },
      {
        "duration": 2,
        "start_time": "2023-11-18T10:58:05.344Z"
      },
      {
        "duration": 17,
        "start_time": "2023-11-18T10:58:07.086Z"
      },
      {
        "duration": 17,
        "start_time": "2023-11-18T10:58:14.334Z"
      },
      {
        "duration": 22,
        "start_time": "2023-11-18T10:58:20.958Z"
      },
      {
        "duration": 15,
        "start_time": "2023-11-18T10:58:23.313Z"
      },
      {
        "duration": 236,
        "start_time": "2023-11-18T10:58:29.626Z"
      },
      {
        "duration": 3,
        "start_time": "2023-11-18T10:58:32.094Z"
      },
      {
        "duration": 14,
        "start_time": "2023-11-18T10:58:38.782Z"
      },
      {
        "duration": 49,
        "start_time": "2023-11-19T13:52:14.146Z"
      },
      {
        "duration": 1491,
        "start_time": "2023-11-19T13:52:26.194Z"
      },
      {
        "duration": 596,
        "start_time": "2023-11-19T13:52:27.686Z"
      },
      {
        "duration": 4,
        "start_time": "2023-11-19T13:52:28.284Z"
      },
      {
        "duration": 61,
        "start_time": "2023-11-19T13:52:28.289Z"
      },
      {
        "duration": 1176,
        "start_time": "2023-11-19T13:52:28.729Z"
      },
      {
        "duration": 4,
        "start_time": "2023-11-19T13:52:29.907Z"
      },
      {
        "duration": 29,
        "start_time": "2023-11-19T13:52:29.913Z"
      },
      {
        "duration": 186,
        "start_time": "2023-11-19T13:52:30.441Z"
      },
      {
        "duration": 4,
        "start_time": "2023-11-19T13:52:31.000Z"
      },
      {
        "duration": 13,
        "start_time": "2023-11-19T13:52:31.583Z"
      },
      {
        "duration": 5,
        "start_time": "2023-11-19T13:52:32.016Z"
      },
      {
        "duration": 3,
        "start_time": "2023-11-19T13:52:34.067Z"
      },
      {
        "duration": 10,
        "start_time": "2023-11-19T13:52:34.603Z"
      },
      {
        "duration": 5,
        "start_time": "2023-11-19T13:52:35.096Z"
      },
      {
        "duration": 3,
        "start_time": "2023-11-19T13:52:36.829Z"
      },
      {
        "duration": 15,
        "start_time": "2023-11-19T13:52:37.878Z"
      },
      {
        "duration": 15,
        "start_time": "2023-11-19T13:52:40.490Z"
      },
      {
        "duration": 22,
        "start_time": "2023-11-19T13:52:41.130Z"
      },
      {
        "duration": 14,
        "start_time": "2023-11-19T13:52:41.678Z"
      },
      {
        "duration": 224,
        "start_time": "2023-11-19T13:52:42.477Z"
      },
      {
        "duration": 3,
        "start_time": "2023-11-19T13:52:44.249Z"
      },
      {
        "duration": 15,
        "start_time": "2023-11-19T13:52:45.003Z"
      },
      {
        "duration": 55,
        "start_time": "2023-11-19T13:52:48.876Z"
      },
      {
        "duration": 4,
        "start_time": "2023-11-19T13:52:49.777Z"
      },
      {
        "duration": 78,
        "start_time": "2023-11-19T14:13:56.211Z"
      },
      {
        "duration": 7,
        "start_time": "2023-11-19T14:14:36.721Z"
      },
      {
        "duration": 8,
        "start_time": "2023-11-19T14:16:04.962Z"
      },
      {
        "duration": 8,
        "start_time": "2023-11-19T14:17:11.961Z"
      },
      {
        "duration": 139,
        "start_time": "2023-11-19T14:33:50.177Z"
      },
      {
        "duration": 133,
        "start_time": "2023-11-19T14:46:03.369Z"
      },
      {
        "duration": 253,
        "start_time": "2023-11-19T14:47:36.786Z"
      },
      {
        "duration": 266,
        "start_time": "2023-11-19T14:48:24.551Z"
      },
      {
        "duration": 213,
        "start_time": "2023-11-19T14:48:37.388Z"
      },
      {
        "duration": 168,
        "start_time": "2023-11-19T14:51:01.838Z"
      },
      {
        "duration": 337,
        "start_time": "2023-11-19T15:21:37.214Z"
      },
      {
        "duration": 381,
        "start_time": "2023-11-19T15:22:11.913Z"
      },
      {
        "duration": 396,
        "start_time": "2023-11-19T15:22:34.605Z"
      },
      {
        "duration": 478,
        "start_time": "2023-11-19T15:23:13.866Z"
      },
      {
        "duration": 370,
        "start_time": "2023-11-19T15:23:30.286Z"
      },
      {
        "duration": 368,
        "start_time": "2023-11-19T15:27:13.075Z"
      },
      {
        "duration": 483,
        "start_time": "2023-11-19T15:29:10.439Z"
      },
      {
        "duration": 393,
        "start_time": "2023-11-19T15:29:28.745Z"
      },
      {
        "duration": 390,
        "start_time": "2023-11-19T15:31:20.540Z"
      },
      {
        "duration": 1745,
        "start_time": "2023-11-19T20:04:04.856Z"
      },
      {
        "duration": 2023,
        "start_time": "2023-11-19T20:04:06.603Z"
      },
      {
        "duration": 4,
        "start_time": "2023-11-19T20:04:08.628Z"
      },
      {
        "duration": 20,
        "start_time": "2023-11-19T20:04:08.634Z"
      },
      {
        "duration": 931,
        "start_time": "2023-11-19T20:04:08.656Z"
      },
      {
        "duration": 5,
        "start_time": "2023-11-19T20:04:09.590Z"
      },
      {
        "duration": 52,
        "start_time": "2023-11-19T20:04:09.596Z"
      },
      {
        "duration": 448,
        "start_time": "2023-11-19T20:04:09.650Z"
      },
      {
        "duration": 4,
        "start_time": "2023-11-19T20:04:10.099Z"
      },
      {
        "duration": 33,
        "start_time": "2023-11-19T20:04:10.106Z"
      },
      {
        "duration": 11,
        "start_time": "2023-11-19T20:04:10.141Z"
      },
      {
        "duration": 20,
        "start_time": "2023-11-19T20:04:10.154Z"
      },
      {
        "duration": 19,
        "start_time": "2023-11-19T20:04:10.175Z"
      },
      {
        "duration": 28,
        "start_time": "2023-11-19T20:04:10.196Z"
      },
      {
        "duration": 31,
        "start_time": "2023-11-19T20:04:10.225Z"
      },
      {
        "duration": 27,
        "start_time": "2023-11-19T20:04:10.258Z"
      },
      {
        "duration": 22,
        "start_time": "2023-11-19T20:04:10.286Z"
      },
      {
        "duration": 23,
        "start_time": "2023-11-19T20:04:10.309Z"
      },
      {
        "duration": 17,
        "start_time": "2023-11-19T20:04:10.334Z"
      },
      {
        "duration": 255,
        "start_time": "2023-11-19T20:04:10.353Z"
      },
      {
        "duration": 4,
        "start_time": "2023-11-19T20:04:10.611Z"
      },
      {
        "duration": 33,
        "start_time": "2023-11-19T20:04:10.617Z"
      },
      {
        "duration": 17,
        "start_time": "2023-11-19T20:04:10.652Z"
      },
      {
        "duration": 17,
        "start_time": "2023-11-19T20:04:10.671Z"
      },
      {
        "duration": 28,
        "start_time": "2023-11-19T20:04:10.690Z"
      },
      {
        "duration": 12,
        "start_time": "2023-11-19T20:04:10.720Z"
      },
      {
        "duration": 204,
        "start_time": "2023-11-19T20:04:10.734Z"
      },
      {
        "duration": 407,
        "start_time": "2023-11-19T20:04:10.941Z"
      },
      {
        "duration": 541,
        "start_time": "2023-11-19T20:04:11.349Z"
      },
      {
        "duration": 7,
        "start_time": "2023-11-19T20:15:37.436Z"
      },
      {
        "duration": 13,
        "start_time": "2023-11-19T20:26:44.016Z"
      },
      {
        "duration": 20,
        "start_time": "2023-11-19T20:31:26.577Z"
      },
      {
        "duration": 49,
        "start_time": "2023-11-19T20:34:06.969Z"
      },
      {
        "duration": 1427,
        "start_time": "2023-11-19T20:34:15.509Z"
      },
      {
        "duration": 1983,
        "start_time": "2023-11-19T20:34:16.937Z"
      },
      {
        "duration": 4,
        "start_time": "2023-11-19T20:34:18.922Z"
      },
      {
        "duration": 21,
        "start_time": "2023-11-19T20:34:18.928Z"
      },
      {
        "duration": 890,
        "start_time": "2023-11-19T20:34:18.951Z"
      },
      {
        "duration": 3,
        "start_time": "2023-11-19T20:34:19.843Z"
      },
      {
        "duration": 23,
        "start_time": "2023-11-19T20:34:19.848Z"
      },
      {
        "duration": 408,
        "start_time": "2023-11-19T20:34:19.872Z"
      },
      {
        "duration": 4,
        "start_time": "2023-11-19T20:34:20.281Z"
      },
      {
        "duration": 15,
        "start_time": "2023-11-19T20:34:20.288Z"
      },
      {
        "duration": 5,
        "start_time": "2023-11-19T20:34:20.304Z"
      },
      {
        "duration": 2,
        "start_time": "2023-11-19T20:34:20.310Z"
      },
      {
        "duration": 12,
        "start_time": "2023-11-19T20:34:20.314Z"
      },
      {
        "duration": 5,
        "start_time": "2023-11-19T20:34:20.327Z"
      },
      {
        "duration": 3,
        "start_time": "2023-11-19T20:34:20.334Z"
      },
      {
        "duration": 34,
        "start_time": "2023-11-19T20:34:20.338Z"
      },
      {
        "duration": 14,
        "start_time": "2023-11-19T20:34:20.373Z"
      },
      {
        "duration": 22,
        "start_time": "2023-11-19T20:34:20.410Z"
      },
      {
        "duration": 15,
        "start_time": "2023-11-19T20:34:20.433Z"
      },
      {
        "duration": 242,
        "start_time": "2023-11-19T20:34:20.449Z"
      },
      {
        "duration": 4,
        "start_time": "2023-11-19T20:34:20.692Z"
      },
      {
        "duration": 25,
        "start_time": "2023-11-19T20:34:20.697Z"
      },
      {
        "duration": 4,
        "start_time": "2023-11-19T20:34:20.724Z"
      },
      {
        "duration": 9,
        "start_time": "2023-11-19T20:34:20.730Z"
      },
      {
        "duration": 7,
        "start_time": "2023-11-19T20:34:20.741Z"
      },
      {
        "duration": 16,
        "start_time": "2023-11-19T20:34:20.750Z"
      },
      {
        "duration": 207,
        "start_time": "2023-11-19T20:34:20.768Z"
      },
      {
        "duration": 385,
        "start_time": "2023-11-19T20:34:20.978Z"
      },
      {
        "duration": 521,
        "start_time": "2023-11-19T20:34:21.365Z"
      },
      {
        "duration": 5,
        "start_time": "2023-11-19T20:34:21.888Z"
      },
      {
        "duration": 93,
        "start_time": "2023-11-19T20:34:21.894Z"
      },
      {
        "duration": 11,
        "start_time": "2023-11-19T20:35:29.693Z"
      },
      {
        "duration": 12,
        "start_time": "2023-11-19T20:35:37.995Z"
      },
      {
        "duration": 11,
        "start_time": "2023-11-19T20:36:42.647Z"
      },
      {
        "duration": 12,
        "start_time": "2023-11-19T20:39:23.497Z"
      },
      {
        "duration": 3,
        "start_time": "2023-11-19T20:39:31.296Z"
      },
      {
        "duration": 495,
        "start_time": "2023-11-19T20:39:31.803Z"
      },
      {
        "duration": 4,
        "start_time": "2023-11-19T20:39:32.362Z"
      },
      {
        "duration": 20,
        "start_time": "2023-11-19T20:39:32.921Z"
      },
      {
        "duration": 371,
        "start_time": "2023-11-19T20:39:33.442Z"
      },
      {
        "duration": 4,
        "start_time": "2023-11-19T20:39:33.976Z"
      },
      {
        "duration": 16,
        "start_time": "2023-11-19T20:39:34.507Z"
      },
      {
        "duration": 130,
        "start_time": "2023-11-19T20:39:34.999Z"
      },
      {
        "duration": 4,
        "start_time": "2023-11-19T20:39:35.508Z"
      },
      {
        "duration": 18,
        "start_time": "2023-11-19T20:39:36.197Z"
      },
      {
        "duration": 5,
        "start_time": "2023-11-19T20:39:36.672Z"
      },
      {
        "duration": 4,
        "start_time": "2023-11-19T20:39:38.561Z"
      },
      {
        "duration": 10,
        "start_time": "2023-11-19T20:39:39.056Z"
      },
      {
        "duration": 5,
        "start_time": "2023-11-19T20:39:39.588Z"
      },
      {
        "duration": 3,
        "start_time": "2023-11-19T20:39:42.536Z"
      },
      {
        "duration": 16,
        "start_time": "2023-11-19T20:39:43.239Z"
      },
      {
        "duration": 15,
        "start_time": "2023-11-19T20:39:45.068Z"
      },
      {
        "duration": 24,
        "start_time": "2023-11-19T20:39:45.699Z"
      },
      {
        "duration": 16,
        "start_time": "2023-11-19T20:39:46.372Z"
      },
      {
        "duration": 229,
        "start_time": "2023-11-19T20:39:46.989Z"
      },
      {
        "duration": 4,
        "start_time": "2023-11-19T20:39:47.692Z"
      },
      {
        "duration": 15,
        "start_time": "2023-11-19T20:39:48.454Z"
      },
      {
        "duration": 5,
        "start_time": "2023-11-19T20:39:52.554Z"
      },
      {
        "duration": 8,
        "start_time": "2023-11-19T20:39:55.416Z"
      },
      {
        "duration": 9,
        "start_time": "2023-11-19T20:39:56.344Z"
      },
      {
        "duration": 8,
        "start_time": "2023-11-19T20:39:57.105Z"
      },
      {
        "duration": 178,
        "start_time": "2023-11-19T20:40:02.057Z"
      },
      {
        "duration": 412,
        "start_time": "2023-11-19T20:40:08.562Z"
      },
      {
        "duration": 420,
        "start_time": "2023-11-19T20:40:10.627Z"
      },
      {
        "duration": 5,
        "start_time": "2023-11-19T20:40:13.198Z"
      },
      {
        "duration": 9,
        "start_time": "2023-11-19T20:40:14.185Z"
      },
      {
        "duration": 10,
        "start_time": "2023-11-19T20:40:45.711Z"
      },
      {
        "duration": 61,
        "start_time": "2023-11-19T20:42:22.886Z"
      },
      {
        "duration": 66,
        "start_time": "2023-11-19T20:42:53.783Z"
      },
      {
        "duration": 696,
        "start_time": "2023-11-19T20:49:25.142Z"
      },
      {
        "duration": 23,
        "start_time": "2023-11-19T21:03:35.033Z"
      },
      {
        "duration": 4,
        "start_time": "2023-11-19T21:03:36.346Z"
      },
      {
        "duration": 4,
        "start_time": "2023-11-19T21:03:50.125Z"
      },
      {
        "duration": 10,
        "start_time": "2023-11-19T21:04:29.858Z"
      },
      {
        "duration": 5,
        "start_time": "2023-11-19T21:04:31.429Z"
      },
      {
        "duration": 12,
        "start_time": "2023-11-19T21:04:51.483Z"
      },
      {
        "duration": 4,
        "start_time": "2023-11-19T21:04:51.845Z"
      },
      {
        "duration": 16,
        "start_time": "2023-11-19T21:09:52.620Z"
      },
      {
        "duration": 9,
        "start_time": "2023-11-19T21:09:54.018Z"
      },
      {
        "duration": 7,
        "start_time": "2023-11-19T21:10:36.911Z"
      },
      {
        "duration": 8,
        "start_time": "2023-11-19T21:11:49.584Z"
      },
      {
        "duration": 4,
        "start_time": "2023-11-19T21:25:54.383Z"
      },
      {
        "duration": 3,
        "start_time": "2023-11-19T21:30:11.369Z"
      },
      {
        "duration": 1537,
        "start_time": "2023-11-20T10:45:09.098Z"
      },
      {
        "duration": 595,
        "start_time": "2023-11-20T10:45:10.636Z"
      },
      {
        "duration": 4,
        "start_time": "2023-11-20T10:45:11.232Z"
      },
      {
        "duration": 26,
        "start_time": "2023-11-20T10:45:11.237Z"
      },
      {
        "duration": 1171,
        "start_time": "2023-11-20T10:45:11.265Z"
      },
      {
        "duration": 4,
        "start_time": "2023-11-20T10:45:12.438Z"
      },
      {
        "duration": 23,
        "start_time": "2023-11-20T10:45:12.443Z"
      },
      {
        "duration": 189,
        "start_time": "2023-11-20T10:45:12.468Z"
      },
      {
        "duration": 5,
        "start_time": "2023-11-20T10:45:12.659Z"
      },
      {
        "duration": 27,
        "start_time": "2023-11-20T10:45:12.667Z"
      },
      {
        "duration": 9,
        "start_time": "2023-11-20T10:45:12.696Z"
      },
      {
        "duration": 7,
        "start_time": "2023-11-20T10:45:12.706Z"
      },
      {
        "duration": 28,
        "start_time": "2023-11-20T10:45:12.714Z"
      },
      {
        "duration": 4,
        "start_time": "2023-11-20T10:45:12.744Z"
      },
      {
        "duration": 17,
        "start_time": "2023-11-20T10:45:12.750Z"
      },
      {
        "duration": 36,
        "start_time": "2023-11-20T10:45:12.769Z"
      },
      {
        "duration": 13,
        "start_time": "2023-11-20T10:45:12.806Z"
      },
      {
        "duration": 31,
        "start_time": "2023-11-20T10:45:12.820Z"
      },
      {
        "duration": 14,
        "start_time": "2023-11-20T10:45:12.852Z"
      },
      {
        "duration": 212,
        "start_time": "2023-11-20T10:45:12.867Z"
      },
      {
        "duration": 3,
        "start_time": "2023-11-20T10:45:13.080Z"
      },
      {
        "duration": 20,
        "start_time": "2023-11-20T10:45:13.085Z"
      },
      {
        "duration": 11,
        "start_time": "2023-11-20T10:45:13.106Z"
      },
      {
        "duration": 11,
        "start_time": "2023-11-20T10:45:13.118Z"
      },
      {
        "duration": 15,
        "start_time": "2023-11-20T10:45:13.130Z"
      },
      {
        "duration": 9,
        "start_time": "2023-11-20T10:45:13.146Z"
      },
      {
        "duration": 187,
        "start_time": "2023-11-20T10:45:13.157Z"
      },
      {
        "duration": 372,
        "start_time": "2023-11-20T10:45:13.347Z"
      },
      {
        "duration": 466,
        "start_time": "2023-11-20T10:45:13.721Z"
      },
      {
        "duration": 4,
        "start_time": "2023-11-20T10:45:14.188Z"
      },
      {
        "duration": 61,
        "start_time": "2023-11-20T10:45:14.194Z"
      },
      {
        "duration": 628,
        "start_time": "2023-11-20T10:45:14.256Z"
      },
      {
        "duration": 30,
        "start_time": "2023-11-20T10:45:14.885Z"
      },
      {
        "duration": 14,
        "start_time": "2023-11-20T10:45:14.916Z"
      },
      {
        "duration": 8,
        "start_time": "2023-11-20T10:45:14.931Z"
      },
      {
        "duration": 8,
        "start_time": "2023-11-20T10:45:14.941Z"
      },
      {
        "duration": 3,
        "start_time": "2023-11-20T10:45:14.972Z"
      },
      {
        "duration": 9,
        "start_time": "2023-11-20T10:45:14.976Z"
      },
      {
        "duration": 1977,
        "start_time": "2023-11-20T13:54:31.143Z"
      },
      {
        "duration": 1973,
        "start_time": "2023-11-20T13:54:33.122Z"
      },
      {
        "duration": 5,
        "start_time": "2023-11-20T13:54:35.096Z"
      },
      {
        "duration": 16,
        "start_time": "2023-11-20T13:54:35.104Z"
      },
      {
        "duration": 942,
        "start_time": "2023-11-20T13:54:35.122Z"
      },
      {
        "duration": 5,
        "start_time": "2023-11-20T13:54:36.066Z"
      },
      {
        "duration": 20,
        "start_time": "2023-11-20T13:54:36.073Z"
      },
      {
        "duration": 410,
        "start_time": "2023-11-20T13:54:36.094Z"
      },
      {
        "duration": 4,
        "start_time": "2023-11-20T13:54:36.506Z"
      },
      {
        "duration": 12,
        "start_time": "2023-11-20T13:54:36.512Z"
      },
      {
        "duration": 5,
        "start_time": "2023-11-20T13:54:36.525Z"
      },
      {
        "duration": 12,
        "start_time": "2023-11-20T13:54:36.531Z"
      },
      {
        "duration": 11,
        "start_time": "2023-11-20T13:54:36.545Z"
      },
      {
        "duration": 5,
        "start_time": "2023-11-20T13:54:36.557Z"
      },
      {
        "duration": 9,
        "start_time": "2023-11-20T13:54:36.564Z"
      },
      {
        "duration": 16,
        "start_time": "2023-11-20T13:54:36.574Z"
      },
      {
        "duration": 14,
        "start_time": "2023-11-20T13:54:36.591Z"
      },
      {
        "duration": 52,
        "start_time": "2023-11-20T13:54:36.606Z"
      },
      {
        "duration": 14,
        "start_time": "2023-11-20T13:54:36.660Z"
      },
      {
        "duration": 237,
        "start_time": "2023-11-20T13:54:36.675Z"
      },
      {
        "duration": 3,
        "start_time": "2023-11-20T13:54:36.914Z"
      },
      {
        "duration": 27,
        "start_time": "2023-11-20T13:54:36.919Z"
      },
      {
        "duration": 6,
        "start_time": "2023-11-20T13:54:36.947Z"
      },
      {
        "duration": 10,
        "start_time": "2023-11-20T13:54:36.955Z"
      },
      {
        "duration": 8,
        "start_time": "2023-11-20T13:54:36.966Z"
      },
      {
        "duration": 8,
        "start_time": "2023-11-20T13:54:36.976Z"
      },
      {
        "duration": 237,
        "start_time": "2023-11-20T13:54:36.985Z"
      },
      {
        "duration": 422,
        "start_time": "2023-11-20T13:54:37.225Z"
      },
      {
        "duration": 529,
        "start_time": "2023-11-20T13:54:37.649Z"
      },
      {
        "duration": 4,
        "start_time": "2023-11-20T13:54:38.180Z"
      },
      {
        "duration": 90,
        "start_time": "2023-11-20T13:54:38.186Z"
      },
      {
        "duration": 715,
        "start_time": "2023-11-20T13:54:38.278Z"
      },
      {
        "duration": 30,
        "start_time": "2023-11-20T13:54:38.995Z"
      },
      {
        "duration": 27,
        "start_time": "2023-11-20T13:54:39.026Z"
      },
      {
        "duration": 14,
        "start_time": "2023-11-20T13:54:39.055Z"
      },
      {
        "duration": 6,
        "start_time": "2023-11-20T13:54:39.071Z"
      },
      {
        "duration": 3,
        "start_time": "2023-11-20T13:54:39.079Z"
      },
      {
        "duration": 4,
        "start_time": "2023-11-20T13:54:39.084Z"
      },
      {
        "duration": 4,
        "start_time": "2023-11-20T14:06:06.180Z"
      },
      {
        "duration": 11,
        "start_time": "2023-11-20T14:10:11.927Z"
      },
      {
        "duration": 7,
        "start_time": "2023-11-20T14:10:55.346Z"
      },
      {
        "duration": 122,
        "start_time": "2023-11-20T14:27:06.897Z"
      },
      {
        "duration": 2,
        "start_time": "2023-11-20T14:27:31.471Z"
      },
      {
        "duration": 6,
        "start_time": "2023-11-20T14:33:21.265Z"
      },
      {
        "duration": 10,
        "start_time": "2023-11-20T14:38:45.908Z"
      },
      {
        "duration": 5,
        "start_time": "2023-11-20T14:39:36.165Z"
      },
      {
        "duration": 3,
        "start_time": "2023-11-20T14:39:43.023Z"
      },
      {
        "duration": 4,
        "start_time": "2023-11-20T14:43:54.157Z"
      },
      {
        "duration": 4,
        "start_time": "2023-11-20T14:54:38.407Z"
      },
      {
        "duration": 9,
        "start_time": "2023-11-20T15:12:46.537Z"
      },
      {
        "duration": 482,
        "start_time": "2023-11-20T15:12:46.548Z"
      },
      {
        "duration": 14,
        "start_time": "2023-11-20T15:12:47.032Z"
      },
      {
        "duration": 21,
        "start_time": "2023-11-20T15:12:47.048Z"
      },
      {
        "duration": 384,
        "start_time": "2023-11-20T15:12:47.071Z"
      },
      {
        "duration": 4,
        "start_time": "2023-11-20T15:12:47.458Z"
      },
      {
        "duration": 26,
        "start_time": "2023-11-20T15:12:47.465Z"
      },
      {
        "duration": 123,
        "start_time": "2023-11-20T15:12:47.492Z"
      },
      {
        "duration": 4,
        "start_time": "2023-11-20T15:12:47.617Z"
      },
      {
        "duration": 30,
        "start_time": "2023-11-20T15:12:47.622Z"
      },
      {
        "duration": 13,
        "start_time": "2023-11-20T15:12:47.654Z"
      },
      {
        "duration": 28,
        "start_time": "2023-11-20T15:12:47.668Z"
      },
      {
        "duration": 12,
        "start_time": "2023-11-20T15:12:47.698Z"
      },
      {
        "duration": 15,
        "start_time": "2023-11-20T15:12:47.712Z"
      },
      {
        "duration": 3,
        "start_time": "2023-11-20T15:12:47.729Z"
      },
      {
        "duration": 35,
        "start_time": "2023-11-20T15:12:47.734Z"
      },
      {
        "duration": 15,
        "start_time": "2023-11-20T15:12:47.770Z"
      },
      {
        "duration": 16,
        "start_time": "2023-11-20T15:12:47.786Z"
      },
      {
        "duration": 16,
        "start_time": "2023-11-20T15:12:47.804Z"
      },
      {
        "duration": 283,
        "start_time": "2023-11-20T15:12:47.821Z"
      },
      {
        "duration": 4,
        "start_time": "2023-11-20T15:12:48.106Z"
      },
      {
        "duration": 17,
        "start_time": "2023-11-20T15:12:48.112Z"
      },
      {
        "duration": 17,
        "start_time": "2023-11-20T15:12:48.131Z"
      },
      {
        "duration": 14,
        "start_time": "2023-11-20T15:12:48.153Z"
      },
      {
        "duration": 28,
        "start_time": "2023-11-20T15:12:48.170Z"
      },
      {
        "duration": 15,
        "start_time": "2023-11-20T15:12:48.200Z"
      },
      {
        "duration": 213,
        "start_time": "2023-11-20T15:12:48.217Z"
      },
      {
        "duration": 566,
        "start_time": "2023-11-20T15:12:48.432Z"
      },
      {
        "duration": 486,
        "start_time": "2023-11-20T15:12:49.000Z"
      },
      {
        "duration": 4,
        "start_time": "2023-11-20T15:12:49.488Z"
      },
      {
        "duration": 100,
        "start_time": "2023-11-20T15:12:49.493Z"
      },
      {
        "duration": 746,
        "start_time": "2023-11-20T15:12:49.595Z"
      },
      {
        "duration": 32,
        "start_time": "2023-11-20T15:12:50.351Z"
      },
      {
        "duration": 40,
        "start_time": "2023-11-20T15:12:50.384Z"
      },
      {
        "duration": 32,
        "start_time": "2023-11-20T15:12:50.426Z"
      },
      {
        "duration": 25,
        "start_time": "2023-11-20T15:12:50.461Z"
      },
      {
        "duration": 23,
        "start_time": "2023-11-20T15:12:50.488Z"
      },
      {
        "duration": 24,
        "start_time": "2023-11-20T15:12:50.512Z"
      },
      {
        "duration": 34,
        "start_time": "2023-11-20T15:12:50.537Z"
      },
      {
        "duration": 17,
        "start_time": "2023-11-20T15:12:50.572Z"
      },
      {
        "duration": 23,
        "start_time": "2023-11-20T15:12:50.590Z"
      },
      {
        "duration": 28,
        "start_time": "2023-11-20T15:12:50.614Z"
      },
      {
        "duration": 45,
        "start_time": "2023-11-20T15:12:50.644Z"
      },
      {
        "duration": 23,
        "start_time": "2023-11-20T15:12:50.691Z"
      },
      {
        "duration": 20,
        "start_time": "2023-11-20T15:12:50.726Z"
      },
      {
        "duration": 424913,
        "start_time": "2023-11-20T15:20:00.631Z"
      },
      {
        "duration": 8,
        "start_time": "2023-11-20T15:27:05.547Z"
      },
      {
        "duration": 5,
        "start_time": "2023-11-20T15:29:13.135Z"
      },
      {
        "duration": 7,
        "start_time": "2023-11-20T15:39:12.611Z"
      },
      {
        "duration": 7,
        "start_time": "2023-11-20T15:40:14.360Z"
      },
      {
        "duration": 7,
        "start_time": "2023-11-20T15:41:11.800Z"
      },
      {
        "duration": 4,
        "start_time": "2023-11-20T15:44:11.595Z"
      },
      {
        "duration": 86,
        "start_time": "2023-11-20T16:06:46.460Z"
      },
      {
        "duration": 9,
        "start_time": "2023-11-20T16:24:12.818Z"
      },
      {
        "duration": 1731,
        "start_time": "2023-11-20T20:05:59.886Z"
      },
      {
        "duration": 1906,
        "start_time": "2023-11-20T20:06:01.620Z"
      },
      {
        "duration": 4,
        "start_time": "2023-11-20T20:06:03.528Z"
      },
      {
        "duration": 30,
        "start_time": "2023-11-20T20:06:03.533Z"
      },
      {
        "duration": 923,
        "start_time": "2023-11-20T20:06:03.565Z"
      },
      {
        "duration": 4,
        "start_time": "2023-11-20T20:06:04.490Z"
      },
      {
        "duration": 45,
        "start_time": "2023-11-20T20:06:04.496Z"
      },
      {
        "duration": 410,
        "start_time": "2023-11-20T20:06:04.543Z"
      },
      {
        "duration": 3,
        "start_time": "2023-11-20T20:06:04.955Z"
      },
      {
        "duration": 31,
        "start_time": "2023-11-20T20:06:04.960Z"
      },
      {
        "duration": 17,
        "start_time": "2023-11-20T20:06:04.992Z"
      },
      {
        "duration": 32,
        "start_time": "2023-11-20T20:06:05.011Z"
      },
      {
        "duration": 35,
        "start_time": "2023-11-20T20:06:05.044Z"
      },
      {
        "duration": 22,
        "start_time": "2023-11-20T20:06:05.081Z"
      },
      {
        "duration": 24,
        "start_time": "2023-11-20T20:06:05.105Z"
      },
      {
        "duration": 44,
        "start_time": "2023-11-20T20:06:05.131Z"
      },
      {
        "duration": 16,
        "start_time": "2023-11-20T20:06:05.176Z"
      },
      {
        "duration": 60,
        "start_time": "2023-11-20T20:06:05.193Z"
      },
      {
        "duration": 15,
        "start_time": "2023-11-20T20:06:05.254Z"
      },
      {
        "duration": 250,
        "start_time": "2023-11-20T20:06:05.271Z"
      },
      {
        "duration": 3,
        "start_time": "2023-11-20T20:06:05.523Z"
      },
      {
        "duration": 45,
        "start_time": "2023-11-20T20:06:05.527Z"
      },
      {
        "duration": 16,
        "start_time": "2023-11-20T20:06:05.574Z"
      },
      {
        "duration": 26,
        "start_time": "2023-11-20T20:06:05.592Z"
      },
      {
        "duration": 21,
        "start_time": "2023-11-20T20:06:05.620Z"
      },
      {
        "duration": 17,
        "start_time": "2023-11-20T20:06:05.643Z"
      },
      {
        "duration": 213,
        "start_time": "2023-11-20T20:06:05.662Z"
      },
      {
        "duration": 406,
        "start_time": "2023-11-20T20:06:05.880Z"
      },
      {
        "duration": 540,
        "start_time": "2023-11-20T20:06:06.288Z"
      },
      {
        "duration": 5,
        "start_time": "2023-11-20T20:06:06.829Z"
      },
      {
        "duration": 89,
        "start_time": "2023-11-20T20:06:06.835Z"
      },
      {
        "duration": 694,
        "start_time": "2023-11-20T20:06:06.926Z"
      },
      {
        "duration": 31,
        "start_time": "2023-11-20T20:06:07.622Z"
      },
      {
        "duration": 22,
        "start_time": "2023-11-20T20:06:07.654Z"
      },
      {
        "duration": 9,
        "start_time": "2023-11-20T20:06:07.677Z"
      },
      {
        "duration": 6,
        "start_time": "2023-11-20T20:06:07.688Z"
      },
      {
        "duration": 4,
        "start_time": "2023-11-20T20:06:07.696Z"
      },
      {
        "duration": 6,
        "start_time": "2023-11-20T20:06:07.701Z"
      },
      {
        "duration": 6,
        "start_time": "2023-11-20T20:06:07.709Z"
      },
      {
        "duration": 50,
        "start_time": "2023-11-20T20:06:07.717Z"
      },
      {
        "duration": 5,
        "start_time": "2023-11-20T20:06:07.769Z"
      },
      {
        "duration": 7,
        "start_time": "2023-11-20T20:06:07.775Z"
      },
      {
        "duration": 8,
        "start_time": "2023-11-20T20:06:07.784Z"
      },
      {
        "duration": 11,
        "start_time": "2023-11-20T20:06:07.793Z"
      },
      {
        "duration": 17,
        "start_time": "2023-11-20T20:06:07.805Z"
      },
      {
        "duration": 416672,
        "start_time": "2023-11-20T20:06:07.823Z"
      },
      {
        "duration": 7,
        "start_time": "2023-11-20T20:13:04.497Z"
      },
      {
        "duration": 5,
        "start_time": "2023-11-20T20:13:04.505Z"
      },
      {
        "duration": 108,
        "start_time": "2023-11-20T20:13:04.511Z"
      },
      {
        "duration": 9,
        "start_time": "2023-11-20T20:13:04.621Z"
      },
      {
        "duration": 89,
        "start_time": "2023-11-20T20:19:46.709Z"
      },
      {
        "duration": 8,
        "start_time": "2023-11-20T20:20:15.871Z"
      },
      {
        "duration": 85,
        "start_time": "2023-11-20T20:41:47.867Z"
      },
      {
        "duration": 4,
        "start_time": "2023-11-20T20:44:42.984Z"
      },
      {
        "duration": 499,
        "start_time": "2023-11-20T20:44:42.991Z"
      },
      {
        "duration": 4,
        "start_time": "2023-11-20T20:44:43.492Z"
      },
      {
        "duration": 20,
        "start_time": "2023-11-20T20:44:43.498Z"
      },
      {
        "duration": 367,
        "start_time": "2023-11-20T20:44:43.521Z"
      },
      {
        "duration": 4,
        "start_time": "2023-11-20T20:44:43.890Z"
      },
      {
        "duration": 34,
        "start_time": "2023-11-20T20:44:43.895Z"
      },
      {
        "duration": 117,
        "start_time": "2023-11-20T20:44:43.931Z"
      },
      {
        "duration": 5,
        "start_time": "2023-11-20T20:44:44.050Z"
      },
      {
        "duration": 13,
        "start_time": "2023-11-20T20:44:44.064Z"
      },
      {
        "duration": 5,
        "start_time": "2023-11-20T20:44:44.079Z"
      },
      {
        "duration": 3,
        "start_time": "2023-11-20T20:44:44.086Z"
      },
      {
        "duration": 9,
        "start_time": "2023-11-20T20:44:44.090Z"
      },
      {
        "duration": 5,
        "start_time": "2023-11-20T20:44:44.102Z"
      },
      {
        "duration": 24,
        "start_time": "2023-11-20T20:44:44.108Z"
      },
      {
        "duration": 33,
        "start_time": "2023-11-20T20:44:44.133Z"
      },
      {
        "duration": 14,
        "start_time": "2023-11-20T20:44:44.167Z"
      },
      {
        "duration": 18,
        "start_time": "2023-11-20T20:44:44.183Z"
      },
      {
        "duration": 17,
        "start_time": "2023-11-20T20:44:44.203Z"
      },
      {
        "duration": 258,
        "start_time": "2023-11-20T20:44:44.222Z"
      },
      {
        "duration": 3,
        "start_time": "2023-11-20T20:44:44.482Z"
      },
      {
        "duration": 23,
        "start_time": "2023-11-20T20:44:44.487Z"
      },
      {
        "duration": 7,
        "start_time": "2023-11-20T20:44:44.512Z"
      },
      {
        "duration": 24,
        "start_time": "2023-11-20T20:44:44.520Z"
      },
      {
        "duration": 19,
        "start_time": "2023-11-20T20:44:44.546Z"
      },
      {
        "duration": 9,
        "start_time": "2023-11-20T20:44:44.567Z"
      },
      {
        "duration": 191,
        "start_time": "2023-11-20T20:44:44.578Z"
      },
      {
        "duration": 516,
        "start_time": "2023-11-20T20:44:44.771Z"
      },
      {
        "duration": 425,
        "start_time": "2023-11-20T20:44:45.288Z"
      },
      {
        "duration": 5,
        "start_time": "2023-11-20T20:44:45.715Z"
      },
      {
        "duration": 84,
        "start_time": "2023-11-20T20:44:45.721Z"
      },
      {
        "duration": 659,
        "start_time": "2023-11-20T20:44:45.806Z"
      },
      {
        "duration": 23,
        "start_time": "2023-11-20T20:44:46.466Z"
      },
      {
        "duration": 14,
        "start_time": "2023-11-20T20:44:46.491Z"
      },
      {
        "duration": 7,
        "start_time": "2023-11-20T20:44:46.506Z"
      },
      {
        "duration": 15,
        "start_time": "2023-11-20T20:44:46.514Z"
      },
      {
        "duration": 19,
        "start_time": "2023-11-20T20:44:46.530Z"
      },
      {
        "duration": 10,
        "start_time": "2023-11-20T20:44:46.550Z"
      },
      {
        "duration": 16,
        "start_time": "2023-11-20T20:44:46.561Z"
      },
      {
        "duration": 22,
        "start_time": "2023-11-20T20:44:46.578Z"
      },
      {
        "duration": 16,
        "start_time": "2023-11-20T20:44:46.603Z"
      },
      {
        "duration": 16,
        "start_time": "2023-11-20T20:44:46.621Z"
      },
      {
        "duration": 20,
        "start_time": "2023-11-20T20:44:46.638Z"
      },
      {
        "duration": 13,
        "start_time": "2023-11-20T20:44:46.659Z"
      },
      {
        "duration": 8,
        "start_time": "2023-11-20T20:44:46.673Z"
      },
      {
        "duration": 405290,
        "start_time": "2023-11-20T20:44:46.682Z"
      },
      {
        "duration": 7,
        "start_time": "2023-11-20T20:51:31.973Z"
      },
      {
        "duration": 13,
        "start_time": "2023-11-20T20:51:31.981Z"
      },
      {
        "duration": 108,
        "start_time": "2023-11-20T20:51:31.996Z"
      },
      {
        "duration": 8,
        "start_time": "2023-11-20T20:51:32.106Z"
      },
      {
        "duration": 9,
        "start_time": "2023-11-20T22:10:15.559Z"
      },
      {
        "duration": 256,
        "start_time": "2023-11-20T22:10:22.201Z"
      },
      {
        "duration": 76,
        "start_time": "2023-11-21T07:15:49.692Z"
      },
      {
        "duration": 1773,
        "start_time": "2023-11-21T07:44:56.625Z"
      },
      {
        "duration": 1946,
        "start_time": "2023-11-21T07:44:58.400Z"
      },
      {
        "duration": 5,
        "start_time": "2023-11-21T07:45:00.348Z"
      },
      {
        "duration": 47,
        "start_time": "2023-11-21T07:45:00.355Z"
      },
      {
        "duration": 932,
        "start_time": "2023-11-21T07:45:00.404Z"
      },
      {
        "duration": 4,
        "start_time": "2023-11-21T07:45:01.339Z"
      },
      {
        "duration": 47,
        "start_time": "2023-11-21T07:45:01.345Z"
      },
      {
        "duration": 435,
        "start_time": "2023-11-21T07:45:01.394Z"
      },
      {
        "duration": 4,
        "start_time": "2023-11-21T07:45:01.831Z"
      },
      {
        "duration": 26,
        "start_time": "2023-11-21T07:45:01.837Z"
      },
      {
        "duration": 26,
        "start_time": "2023-11-21T07:45:01.865Z"
      },
      {
        "duration": 37,
        "start_time": "2023-11-21T07:45:01.893Z"
      },
      {
        "duration": 56,
        "start_time": "2023-11-21T07:45:01.932Z"
      },
      {
        "duration": 46,
        "start_time": "2023-11-21T07:45:01.989Z"
      },
      {
        "duration": 23,
        "start_time": "2023-11-21T07:45:02.037Z"
      },
      {
        "duration": 48,
        "start_time": "2023-11-21T07:45:02.062Z"
      },
      {
        "duration": 21,
        "start_time": "2023-11-21T07:45:02.112Z"
      },
      {
        "duration": 36,
        "start_time": "2023-11-21T07:45:02.134Z"
      },
      {
        "duration": 15,
        "start_time": "2023-11-21T07:45:02.171Z"
      },
      {
        "duration": 267,
        "start_time": "2023-11-21T07:45:02.188Z"
      },
      {
        "duration": 4,
        "start_time": "2023-11-21T07:45:25.076Z"
      },
      {
        "duration": 50,
        "start_time": "2023-11-21T07:45:26.719Z"
      },
      {
        "duration": 6,
        "start_time": "2023-11-21T07:49:59.608Z"
      },
      {
        "duration": 495,
        "start_time": "2023-11-21T07:49:59.621Z"
      },
      {
        "duration": 4,
        "start_time": "2023-11-21T07:50:00.119Z"
      },
      {
        "duration": 36,
        "start_time": "2023-11-21T07:50:00.126Z"
      },
      {
        "duration": 366,
        "start_time": "2023-11-21T07:50:00.164Z"
      },
      {
        "duration": 4,
        "start_time": "2023-11-21T07:50:00.532Z"
      },
      {
        "duration": 40,
        "start_time": "2023-11-21T07:50:00.538Z"
      },
      {
        "duration": 121,
        "start_time": "2023-11-21T07:50:00.580Z"
      },
      {
        "duration": 5,
        "start_time": "2023-11-21T07:50:00.702Z"
      },
      {
        "duration": 32,
        "start_time": "2023-11-21T07:50:00.709Z"
      },
      {
        "duration": 70,
        "start_time": "2023-11-21T07:50:00.745Z"
      },
      {
        "duration": 43,
        "start_time": "2023-11-21T07:50:00.816Z"
      },
      {
        "duration": 54,
        "start_time": "2023-11-21T07:50:00.861Z"
      },
      {
        "duration": 41,
        "start_time": "2023-11-21T07:50:00.916Z"
      },
      {
        "duration": 43,
        "start_time": "2023-11-21T07:50:00.959Z"
      },
      {
        "duration": 42,
        "start_time": "2023-11-21T07:50:01.004Z"
      },
      {
        "duration": 45,
        "start_time": "2023-11-21T07:50:01.048Z"
      },
      {
        "duration": 20,
        "start_time": "2023-11-21T07:50:01.095Z"
      },
      {
        "duration": 18,
        "start_time": "2023-11-21T07:50:01.117Z"
      },
      {
        "duration": 288,
        "start_time": "2023-11-21T07:50:01.137Z"
      },
      {
        "duration": 4,
        "start_time": "2023-11-21T07:50:01.427Z"
      },
      {
        "duration": 65,
        "start_time": "2023-11-21T07:50:01.432Z"
      },
      {
        "duration": 5,
        "start_time": "2023-11-21T07:50:01.500Z"
      },
      {
        "duration": 145,
        "start_time": "2023-11-21T07:50:01.507Z"
      },
      {
        "duration": 35,
        "start_time": "2023-11-21T07:50:01.654Z"
      },
      {
        "duration": 46,
        "start_time": "2023-11-21T07:50:01.691Z"
      },
      {
        "duration": 209,
        "start_time": "2023-11-21T07:50:06.441Z"
      },
      {
        "duration": 206,
        "start_time": "2023-11-21T07:50:58.197Z"
      },
      {
        "duration": 486,
        "start_time": "2023-11-21T07:56:00.316Z"
      },
      {
        "duration": 432,
        "start_time": "2023-11-21T07:56:25.100Z"
      },
      {
        "duration": 482,
        "start_time": "2023-11-21T07:57:06.724Z"
      },
      {
        "duration": 454,
        "start_time": "2023-11-21T07:57:17.191Z"
      },
      {
        "duration": 579,
        "start_time": "2023-11-21T07:57:31.957Z"
      },
      {
        "duration": 472,
        "start_time": "2023-11-21T07:57:39.377Z"
      },
      {
        "duration": 333,
        "start_time": "2023-11-21T08:12:34.662Z"
      },
      {
        "duration": 523,
        "start_time": "2023-11-21T08:12:50.702Z"
      },
      {
        "duration": 674,
        "start_time": "2023-11-21T08:13:15.024Z"
      },
      {
        "duration": 393,
        "start_time": "2023-11-21T08:13:36.817Z"
      },
      {
        "duration": 341,
        "start_time": "2023-11-21T08:13:46.860Z"
      },
      {
        "duration": 377,
        "start_time": "2023-11-21T08:14:08.712Z"
      },
      {
        "duration": 346,
        "start_time": "2023-11-21T08:14:23.083Z"
      },
      {
        "duration": 464,
        "start_time": "2023-11-21T08:16:08.111Z"
      },
      {
        "duration": 347,
        "start_time": "2023-11-21T08:19:10.764Z"
      },
      {
        "duration": 366,
        "start_time": "2023-11-21T08:19:20.869Z"
      },
      {
        "duration": 235,
        "start_time": "2023-11-21T08:19:45.739Z"
      },
      {
        "duration": 348,
        "start_time": "2023-11-21T08:19:52.940Z"
      },
      {
        "duration": 343,
        "start_time": "2023-11-21T08:20:14.105Z"
      },
      {
        "duration": 306,
        "start_time": "2023-11-21T08:20:35.020Z"
      },
      {
        "duration": 451,
        "start_time": "2023-11-21T08:20:47.950Z"
      },
      {
        "duration": 366,
        "start_time": "2023-11-21T08:22:09.363Z"
      },
      {
        "duration": 332,
        "start_time": "2023-11-21T08:22:27.321Z"
      },
      {
        "duration": 379,
        "start_time": "2023-11-21T08:22:38.725Z"
      },
      {
        "duration": 337,
        "start_time": "2023-11-21T08:22:50.834Z"
      },
      {
        "duration": 427,
        "start_time": "2023-11-21T08:23:05.814Z"
      },
      {
        "duration": 342,
        "start_time": "2023-11-21T08:23:25.654Z"
      },
      {
        "duration": 361,
        "start_time": "2023-11-21T08:23:35.820Z"
      },
      {
        "duration": 279,
        "start_time": "2023-11-21T08:23:43.705Z"
      },
      {
        "duration": 336,
        "start_time": "2023-11-21T08:23:52.565Z"
      },
      {
        "duration": 217,
        "start_time": "2023-11-21T08:24:13.785Z"
      },
      {
        "duration": 324,
        "start_time": "2023-11-21T08:24:25.738Z"
      },
      {
        "duration": 695,
        "start_time": "2023-11-21T08:24:59.022Z"
      },
      {
        "duration": 370,
        "start_time": "2023-11-21T08:25:10.155Z"
      },
      {
        "duration": 503,
        "start_time": "2023-11-21T08:25:46.382Z"
      },
      {
        "duration": 327,
        "start_time": "2023-11-21T08:26:52.214Z"
      },
      {
        "duration": 476,
        "start_time": "2023-11-21T08:27:02.673Z"
      },
      {
        "duration": 368,
        "start_time": "2023-11-21T08:31:29.953Z"
      },
      {
        "duration": 327,
        "start_time": "2023-11-21T08:31:33.236Z"
      },
      {
        "duration": 1544,
        "start_time": "2023-11-21T08:32:57.156Z"
      },
      {
        "duration": 4,
        "start_time": "2023-11-21T08:33:08.796Z"
      },
      {
        "duration": 69,
        "start_time": "2023-11-21T08:33:22.683Z"
      },
      {
        "duration": 815,
        "start_time": "2023-11-21T08:33:26.604Z"
      },
      {
        "duration": 763,
        "start_time": "2023-11-21T08:33:45.293Z"
      },
      {
        "duration": 769,
        "start_time": "2023-11-21T08:33:54.522Z"
      },
      {
        "duration": 872,
        "start_time": "2023-11-21T08:34:09.341Z"
      },
      {
        "duration": 313,
        "start_time": "2023-11-21T08:34:30.322Z"
      },
      {
        "duration": 375,
        "start_time": "2023-11-21T08:34:39.430Z"
      },
      {
        "duration": 5,
        "start_time": "2023-11-21T08:51:53.902Z"
      },
      {
        "duration": 549,
        "start_time": "2023-11-21T08:51:53.912Z"
      },
      {
        "duration": 7,
        "start_time": "2023-11-21T08:51:54.465Z"
      },
      {
        "duration": 24,
        "start_time": "2023-11-21T08:51:54.474Z"
      },
      {
        "duration": 399,
        "start_time": "2023-11-21T08:51:54.500Z"
      },
      {
        "duration": 4,
        "start_time": "2023-11-21T08:51:54.901Z"
      },
      {
        "duration": 18,
        "start_time": "2023-11-21T08:51:54.906Z"
      },
      {
        "duration": 136,
        "start_time": "2023-11-21T08:51:54.925Z"
      },
      {
        "duration": 5,
        "start_time": "2023-11-21T08:51:55.065Z"
      },
      {
        "duration": 19,
        "start_time": "2023-11-21T08:51:55.072Z"
      },
      {
        "duration": 5,
        "start_time": "2023-11-21T08:51:55.094Z"
      },
      {
        "duration": 5,
        "start_time": "2023-11-21T08:51:55.101Z"
      },
      {
        "duration": 13,
        "start_time": "2023-11-21T08:51:55.108Z"
      },
      {
        "duration": 5,
        "start_time": "2023-11-21T08:51:55.123Z"
      },
      {
        "duration": 39,
        "start_time": "2023-11-21T08:51:55.130Z"
      },
      {
        "duration": 25,
        "start_time": "2023-11-21T08:51:55.171Z"
      },
      {
        "duration": 15,
        "start_time": "2023-11-21T08:51:55.197Z"
      },
      {
        "duration": 17,
        "start_time": "2023-11-21T08:51:55.214Z"
      },
      {
        "duration": 50,
        "start_time": "2023-11-21T08:51:55.233Z"
      },
      {
        "duration": 265,
        "start_time": "2023-11-21T08:51:55.285Z"
      },
      {
        "duration": 4,
        "start_time": "2023-11-21T08:51:55.552Z"
      },
      {
        "duration": 61,
        "start_time": "2023-11-21T08:51:55.558Z"
      },
      {
        "duration": 5,
        "start_time": "2023-11-21T08:51:55.621Z"
      },
      {
        "duration": 14,
        "start_time": "2023-11-21T08:51:55.627Z"
      },
      {
        "duration": 30,
        "start_time": "2023-11-21T08:51:55.643Z"
      },
      {
        "duration": 34,
        "start_time": "2023-11-21T08:51:55.675Z"
      },
      {
        "duration": 209,
        "start_time": "2023-11-21T08:51:55.711Z"
      },
      {
        "duration": 517,
        "start_time": "2023-11-21T08:51:55.922Z"
      },
      {
        "duration": 377,
        "start_time": "2023-11-21T08:51:56.444Z"
      },
      {
        "duration": 5,
        "start_time": "2023-11-21T08:51:56.823Z"
      },
      {
        "duration": 89,
        "start_time": "2023-11-21T08:51:56.829Z"
      },
      {
        "duration": 796,
        "start_time": "2023-11-21T08:51:56.920Z"
      },
      {
        "duration": 27,
        "start_time": "2023-11-21T08:51:57.718Z"
      },
      {
        "duration": 25,
        "start_time": "2023-11-21T08:51:57.747Z"
      },
      {
        "duration": 10,
        "start_time": "2023-11-21T08:51:57.775Z"
      },
      {
        "duration": 6,
        "start_time": "2023-11-21T08:51:57.787Z"
      },
      {
        "duration": 5,
        "start_time": "2023-11-21T08:51:57.795Z"
      },
      {
        "duration": 5,
        "start_time": "2023-11-21T08:51:57.801Z"
      },
      {
        "duration": 6,
        "start_time": "2023-11-21T08:51:57.807Z"
      },
      {
        "duration": 9,
        "start_time": "2023-11-21T08:51:57.815Z"
      },
      {
        "duration": 3,
        "start_time": "2023-11-21T08:51:57.826Z"
      },
      {
        "duration": 35,
        "start_time": "2023-11-21T08:51:57.831Z"
      },
      {
        "duration": 8,
        "start_time": "2023-11-21T08:51:57.869Z"
      },
      {
        "duration": 5,
        "start_time": "2023-11-21T08:51:57.879Z"
      },
      {
        "duration": 3,
        "start_time": "2023-11-21T08:51:57.886Z"
      },
      {
        "duration": 10,
        "start_time": "2023-11-21T08:51:57.891Z"
      },
      {
        "duration": 452759,
        "start_time": "2023-11-21T08:51:57.902Z"
      },
      {
        "duration": 8,
        "start_time": "2023-11-21T09:00:08.744Z"
      },
      {
        "duration": 7,
        "start_time": "2023-11-21T09:00:52.345Z"
      },
      {
        "duration": 6,
        "start_time": "2023-11-21T09:01:19.005Z"
      },
      {
        "duration": 103,
        "start_time": "2023-11-21T09:04:11.044Z"
      },
      {
        "duration": 10,
        "start_time": "2023-11-21T09:04:37.705Z"
      },
      {
        "duration": 1617,
        "start_time": "2023-11-21T13:23:05.938Z"
      },
      {
        "duration": 1832,
        "start_time": "2023-11-21T13:23:07.557Z"
      },
      {
        "duration": 4,
        "start_time": "2023-11-21T13:23:09.390Z"
      },
      {
        "duration": 17,
        "start_time": "2023-11-21T13:23:09.397Z"
      },
      {
        "duration": 829,
        "start_time": "2023-11-21T13:23:09.416Z"
      },
      {
        "duration": 4,
        "start_time": "2023-11-21T13:23:10.247Z"
      },
      {
        "duration": 15,
        "start_time": "2023-11-21T13:23:10.252Z"
      },
      {
        "duration": 379,
        "start_time": "2023-11-21T13:23:10.268Z"
      },
      {
        "duration": 3,
        "start_time": "2023-11-21T13:23:10.649Z"
      },
      {
        "duration": 29,
        "start_time": "2023-11-21T13:23:10.655Z"
      },
      {
        "duration": 5,
        "start_time": "2023-11-21T13:23:10.686Z"
      },
      {
        "duration": 9,
        "start_time": "2023-11-21T13:23:10.692Z"
      },
      {
        "duration": 26,
        "start_time": "2023-11-21T13:23:10.702Z"
      },
      {
        "duration": 12,
        "start_time": "2023-11-21T13:23:10.730Z"
      },
      {
        "duration": 9,
        "start_time": "2023-11-21T13:23:10.743Z"
      },
      {
        "duration": 37,
        "start_time": "2023-11-21T13:23:10.753Z"
      },
      {
        "duration": 13,
        "start_time": "2023-11-21T13:23:10.791Z"
      },
      {
        "duration": 19,
        "start_time": "2023-11-21T13:23:10.806Z"
      },
      {
        "duration": 13,
        "start_time": "2023-11-21T13:23:10.827Z"
      },
      {
        "duration": 219,
        "start_time": "2023-11-21T13:23:10.841Z"
      },
      {
        "duration": 3,
        "start_time": "2023-11-21T13:23:11.062Z"
      },
      {
        "duration": 44,
        "start_time": "2023-11-21T13:23:11.066Z"
      },
      {
        "duration": 4,
        "start_time": "2023-11-21T13:23:11.111Z"
      },
      {
        "duration": 39,
        "start_time": "2023-11-21T13:23:11.117Z"
      },
      {
        "duration": 8,
        "start_time": "2023-11-21T13:23:11.158Z"
      },
      {
        "duration": 12,
        "start_time": "2023-11-21T13:23:11.168Z"
      },
      {
        "duration": 189,
        "start_time": "2023-11-21T13:23:11.182Z"
      },
      {
        "duration": 294,
        "start_time": "2023-11-21T13:23:11.375Z"
      },
      {
        "duration": 366,
        "start_time": "2023-11-21T13:23:11.671Z"
      },
      {
        "duration": 4,
        "start_time": "2023-11-21T13:23:12.039Z"
      },
      {
        "duration": 76,
        "start_time": "2023-11-21T13:23:12.051Z"
      },
      {
        "duration": 697,
        "start_time": "2023-11-21T13:23:12.129Z"
      },
      {
        "duration": 40,
        "start_time": "2023-11-21T13:23:12.828Z"
      },
      {
        "duration": 15,
        "start_time": "2023-11-21T13:23:12.869Z"
      },
      {
        "duration": 11,
        "start_time": "2023-11-21T13:23:12.885Z"
      },
      {
        "duration": 6,
        "start_time": "2023-11-21T13:23:12.897Z"
      },
      {
        "duration": 3,
        "start_time": "2023-11-21T13:23:12.905Z"
      },
      {
        "duration": 7,
        "start_time": "2023-11-21T13:23:12.909Z"
      },
      {
        "duration": 27,
        "start_time": "2023-11-21T13:23:12.917Z"
      },
      {
        "duration": 10,
        "start_time": "2023-11-21T13:23:12.952Z"
      },
      {
        "duration": 3,
        "start_time": "2023-11-21T13:23:12.963Z"
      },
      {
        "duration": 10,
        "start_time": "2023-11-21T13:23:12.968Z"
      },
      {
        "duration": 9,
        "start_time": "2023-11-21T13:23:12.979Z"
      },
      {
        "duration": 3,
        "start_time": "2023-11-21T13:23:22.220Z"
      },
      {
        "duration": 4,
        "start_time": "2023-11-21T13:26:44.651Z"
      },
      {
        "duration": 4,
        "start_time": "2023-11-21T13:26:48.752Z"
      },
      {
        "duration": 384008,
        "start_time": "2023-11-21T13:26:53.647Z"
      },
      {
        "duration": 6,
        "start_time": "2023-11-21T13:33:46.381Z"
      },
      {
        "duration": 4,
        "start_time": "2023-11-21T13:33:56.867Z"
      },
      {
        "duration": 77,
        "start_time": "2023-11-21T13:34:26.474Z"
      },
      {
        "duration": 87,
        "start_time": "2023-11-21T13:34:47.591Z"
      },
      {
        "duration": 8,
        "start_time": "2023-11-21T13:34:51.171Z"
      },
      {
        "duration": 1709,
        "start_time": "2023-11-22T14:29:32.512Z"
      },
      {
        "duration": 632,
        "start_time": "2023-11-22T14:29:34.223Z"
      },
      {
        "duration": 4,
        "start_time": "2023-11-22T14:29:34.856Z"
      },
      {
        "duration": 25,
        "start_time": "2023-11-22T14:29:34.862Z"
      },
      {
        "duration": 1175,
        "start_time": "2023-11-22T14:29:34.888Z"
      },
      {
        "duration": 3,
        "start_time": "2023-11-22T14:29:36.064Z"
      },
      {
        "duration": 26,
        "start_time": "2023-11-22T14:29:36.068Z"
      },
      {
        "duration": 196,
        "start_time": "2023-11-22T14:29:36.096Z"
      },
      {
        "duration": 3,
        "start_time": "2023-11-22T14:29:36.294Z"
      },
      {
        "duration": 11,
        "start_time": "2023-11-22T14:29:36.299Z"
      },
      {
        "duration": 5,
        "start_time": "2023-11-22T14:29:36.312Z"
      },
      {
        "duration": 3,
        "start_time": "2023-11-22T14:29:36.318Z"
      },
      {
        "duration": 16,
        "start_time": "2023-11-22T14:29:36.323Z"
      },
      {
        "duration": 6,
        "start_time": "2023-11-22T14:29:36.355Z"
      },
      {
        "duration": 4,
        "start_time": "2023-11-22T14:29:36.363Z"
      },
      {
        "duration": 20,
        "start_time": "2023-11-22T14:29:36.368Z"
      },
      {
        "duration": 13,
        "start_time": "2023-11-22T14:29:36.389Z"
      },
      {
        "duration": 21,
        "start_time": "2023-11-22T14:29:36.404Z"
      },
      {
        "duration": 38,
        "start_time": "2023-11-22T14:29:36.426Z"
      },
      {
        "duration": 230,
        "start_time": "2023-11-22T14:29:36.466Z"
      },
      {
        "duration": 4,
        "start_time": "2023-11-22T14:29:36.697Z"
      },
      {
        "duration": 62,
        "start_time": "2023-11-22T14:29:36.703Z"
      },
      {
        "duration": 4,
        "start_time": "2023-11-22T14:29:36.767Z"
      },
      {
        "duration": 43,
        "start_time": "2023-11-22T14:29:36.772Z"
      },
      {
        "duration": 43,
        "start_time": "2023-11-22T14:29:36.817Z"
      },
      {
        "duration": 26,
        "start_time": "2023-11-22T14:29:36.861Z"
      },
      {
        "duration": 178,
        "start_time": "2023-11-22T14:29:36.889Z"
      },
      {
        "duration": 289,
        "start_time": "2023-11-22T14:29:37.070Z"
      },
      {
        "duration": 396,
        "start_time": "2023-11-22T14:29:37.361Z"
      },
      {
        "duration": 4,
        "start_time": "2023-11-22T14:29:37.759Z"
      },
      {
        "duration": 92,
        "start_time": "2023-11-22T14:29:37.765Z"
      },
      {
        "duration": 665,
        "start_time": "2023-11-22T14:29:37.859Z"
      },
      {
        "duration": 40,
        "start_time": "2023-11-22T14:29:38.525Z"
      },
      {
        "duration": 14,
        "start_time": "2023-11-22T14:29:38.566Z"
      },
      {
        "duration": 8,
        "start_time": "2023-11-22T14:29:38.581Z"
      },
      {
        "duration": 5,
        "start_time": "2023-11-22T14:29:38.591Z"
      },
      {
        "duration": 5,
        "start_time": "2023-11-22T14:29:38.598Z"
      },
      {
        "duration": 7,
        "start_time": "2023-11-22T14:29:38.604Z"
      },
      {
        "duration": 8,
        "start_time": "2023-11-22T14:29:38.612Z"
      },
      {
        "duration": 16,
        "start_time": "2023-11-22T14:29:38.621Z"
      },
      {
        "duration": 18,
        "start_time": "2023-11-22T14:29:38.639Z"
      },
      {
        "duration": 5,
        "start_time": "2023-11-22T14:29:38.659Z"
      },
      {
        "duration": 7,
        "start_time": "2023-11-22T14:29:38.665Z"
      },
      {
        "duration": 4,
        "start_time": "2023-11-22T15:13:46.298Z"
      },
      {
        "duration": 478,
        "start_time": "2023-11-22T15:13:46.319Z"
      },
      {
        "duration": 4,
        "start_time": "2023-11-22T15:13:46.799Z"
      },
      {
        "duration": 23,
        "start_time": "2023-11-22T15:13:46.804Z"
      },
      {
        "duration": 338,
        "start_time": "2023-11-22T15:13:46.828Z"
      },
      {
        "duration": 3,
        "start_time": "2023-11-22T15:13:47.168Z"
      },
      {
        "duration": 16,
        "start_time": "2023-11-22T15:13:47.172Z"
      },
      {
        "duration": 112,
        "start_time": "2023-11-22T15:13:47.189Z"
      },
      {
        "duration": 4,
        "start_time": "2023-11-22T15:13:47.302Z"
      },
      {
        "duration": 17,
        "start_time": "2023-11-22T15:13:47.307Z"
      },
      {
        "duration": 5,
        "start_time": "2023-11-22T15:13:47.326Z"
      },
      {
        "duration": 3,
        "start_time": "2023-11-22T15:13:47.333Z"
      },
      {
        "duration": 8,
        "start_time": "2023-11-22T15:13:47.355Z"
      },
      {
        "duration": 5,
        "start_time": "2023-11-22T15:13:47.365Z"
      },
      {
        "duration": 2,
        "start_time": "2023-11-22T15:13:47.373Z"
      },
      {
        "duration": 16,
        "start_time": "2023-11-22T15:13:47.376Z"
      },
      {
        "duration": 14,
        "start_time": "2023-11-22T15:13:47.394Z"
      },
      {
        "duration": 47,
        "start_time": "2023-11-22T15:13:47.409Z"
      },
      {
        "duration": 15,
        "start_time": "2023-11-22T15:13:47.458Z"
      },
      {
        "duration": 241,
        "start_time": "2023-11-22T15:13:47.480Z"
      },
      {
        "duration": 4,
        "start_time": "2023-11-22T15:13:47.723Z"
      },
      {
        "duration": 56,
        "start_time": "2023-11-22T15:13:47.728Z"
      },
      {
        "duration": 4,
        "start_time": "2023-11-22T15:13:47.786Z"
      },
      {
        "duration": 9,
        "start_time": "2023-11-22T15:13:47.791Z"
      },
      {
        "duration": 7,
        "start_time": "2023-11-22T15:13:47.802Z"
      },
      {
        "duration": 13,
        "start_time": "2023-11-22T15:13:47.810Z"
      },
      {
        "duration": 319,
        "start_time": "2023-11-22T15:13:47.824Z"
      },
      {
        "duration": 315,
        "start_time": "2023-11-22T15:13:48.145Z"
      },
      {
        "duration": 312,
        "start_time": "2023-11-22T15:13:48.462Z"
      },
      {
        "duration": 4,
        "start_time": "2023-11-22T15:13:48.775Z"
      },
      {
        "duration": 78,
        "start_time": "2023-11-22T15:13:48.781Z"
      },
      {
        "duration": 676,
        "start_time": "2023-11-22T15:13:48.862Z"
      },
      {
        "duration": 28,
        "start_time": "2023-11-22T15:13:49.540Z"
      },
      {
        "duration": 12,
        "start_time": "2023-11-22T15:13:49.570Z"
      },
      {
        "duration": 18,
        "start_time": "2023-11-22T15:13:49.584Z"
      },
      {
        "duration": 16,
        "start_time": "2023-11-22T15:13:49.604Z"
      },
      {
        "duration": 32,
        "start_time": "2023-11-22T15:13:49.622Z"
      },
      {
        "duration": 29,
        "start_time": "2023-11-22T15:13:49.656Z"
      },
      {
        "duration": 25,
        "start_time": "2023-11-22T15:13:49.686Z"
      },
      {
        "duration": 40,
        "start_time": "2023-11-22T15:13:49.712Z"
      },
      {
        "duration": 19,
        "start_time": "2023-11-22T15:13:49.754Z"
      },
      {
        "duration": 7,
        "start_time": "2023-11-22T15:13:49.776Z"
      },
      {
        "duration": 27,
        "start_time": "2023-11-22T15:13:49.784Z"
      },
      {
        "duration": 3,
        "start_time": "2023-11-22T15:16:47.972Z"
      },
      {
        "duration": 3,
        "start_time": "2023-11-22T15:16:52.352Z"
      },
      {
        "duration": 4,
        "start_time": "2023-11-22T15:17:00.008Z"
      },
      {
        "duration": 5,
        "start_time": "2023-11-22T15:17:59.201Z"
      },
      {
        "duration": 5185725,
        "start_time": "2023-11-22T15:18:05.141Z"
      },
      {
        "duration": 6,
        "start_time": "2023-11-22T16:45:08.188Z"
      },
      {
        "duration": 4,
        "start_time": "2023-11-22T16:45:12.657Z"
      },
      {
        "duration": 56,
        "start_time": "2023-11-22T16:45:22.743Z"
      },
      {
        "duration": 8,
        "start_time": "2023-11-22T16:45:28.011Z"
      }
    ],
    "kernelspec": {
      "display_name": "Python 3 (ipykernel)",
      "language": "python",
      "name": "python3"
    },
    "language_info": {
      "codemirror_mode": {
        "name": "ipython",
        "version": 3
      },
      "file_extension": ".py",
      "mimetype": "text/x-python",
      "name": "python",
      "nbconvert_exporter": "python",
      "pygments_lexer": "ipython3",
      "version": "3.9.5"
    },
    "toc": {
      "base_numbering": 1,
      "nav_menu": {},
      "number_sections": true,
      "sideBar": true,
      "skip_h1_title": true,
      "title_cell": "Содержание",
      "title_sidebar": "Contents",
      "toc_cell": true,
      "toc_position": {
        "height": "calc(100% - 180px)",
        "left": "10px",
        "top": "150px",
        "width": "243px"
      },
      "toc_section_display": true,
      "toc_window_display": true
    },
    "colab": {
      "provenance": []
    }
  },
  "nbformat": 4,
  "nbformat_minor": 0
}