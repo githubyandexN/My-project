{
  "cells": [
    {
      "cell_type": "markdown",
      "metadata": {
        "toc": true,
        "id": "Q5zQOuChI7OH"
      },
      "source": [
        "<h1>Содержание<span class=\"tocSkip\"></span></h1>\n",
        "<div class=\"toc\"><ul class=\"toc-item\"><li><span><a href=\"#Подготовка\" data-toc-modified-id=\"Подготовка-1\"><span class=\"toc-item-num\">1&nbsp;&nbsp;</span>Подготовка</a></span><ul class=\"toc-item\"><li><span><a href=\"#Загрузка-библиотек\" data-toc-modified-id=\"Загрузка-библиотек-1.1\"><span class=\"toc-item-num\">1.1&nbsp;&nbsp;</span>Загрузка библиотек</a></span></li><li><span><a href=\"#Просмотр-данных\" data-toc-modified-id=\"Просмотр-данных-1.2\"><span class=\"toc-item-num\">1.2&nbsp;&nbsp;</span>Просмотр данных</a></span></li><li><span><a href=\"#Предобработка-данных\" data-toc-modified-id=\"Предобработка-данных-1.3\"><span class=\"toc-item-num\">1.3&nbsp;&nbsp;</span>Предобработка данных</a></span></li></ul></li><li><span><a href=\"#Обучение\" data-toc-modified-id=\"Обучение-2\"><span class=\"toc-item-num\">2&nbsp;&nbsp;</span>Обучение</a></span><ul class=\"toc-item\"><li><span><a href=\"#Решение-дисбаланса-классов\" data-toc-modified-id=\"Решение-дисбаланса-классов-2.1\"><span class=\"toc-item-num\">2.1&nbsp;&nbsp;</span>Решение дисбаланса классов</a></span></li><li><span><a href=\"#Подбор-метода-векторизации\" data-toc-modified-id=\"Подбор-метода-векторизации-2.2\"><span class=\"toc-item-num\">2.2&nbsp;&nbsp;</span>Подбор метода векторизации</a></span></li><li><span><a href=\"#Выбор-модели\" data-toc-modified-id=\"Выбор-модели-2.3\"><span class=\"toc-item-num\">2.3&nbsp;&nbsp;</span>Выбор модели</a></span></li><li><span><a href=\"#Предсказания-на-тестовой-выборке\" data-toc-modified-id=\"Предсказания-на-тестовой-выборке-2.4\"><span class=\"toc-item-num\">2.4&nbsp;&nbsp;</span>Предсказания на тестовой выборке</a></span></li></ul></li><li><span><a href=\"#Выводы\" data-toc-modified-id=\"Выводы-3\"><span class=\"toc-item-num\">3&nbsp;&nbsp;</span>Выводы</a></span></li><li><span><a href=\"#Чек-лист-проверки\" data-toc-modified-id=\"Чек-лист-проверки-4\"><span class=\"toc-item-num\">4&nbsp;&nbsp;</span>Чек-лист проверки</a></span></li></ul></div>"
      ]
    },
    {
      "cell_type": "markdown",
      "metadata": {
        "id": "xZeVV_O6I7OH"
      },
      "source": [
        "# Проект для «Викишоп»"
      ]
    },
    {
      "cell_type": "markdown",
      "metadata": {
        "id": "2r8jt6bUI7OH"
      },
      "source": [
        "Интернет-магазин «Викишоп» запускает новый сервис. Теперь пользователи могут редактировать и дополнять описания товаров, как в вики-сообществах. То есть клиенты предлагают свои правки и комментируют изменения других. Магазину нужен инструмент, который будет искать токсичные комментарии и отправлять их на модерацию.\n",
        "\n",
        "Обучите модель классифицировать комментарии на позитивные и негативные. В вашем распоряжении набор данных с разметкой о токсичности правок.\n",
        "\n",
        "Постройте модель со значением метрики качества *F1* не меньше 0.75.\n",
        "\n",
        "**Инструкция по выполнению проекта**\n",
        "\n",
        "1. Загрузите и подготовьте данные.\n",
        "2. Обучите разные модели.\n",
        "3. Сделайте выводы.\n",
        "\n",
        "Для выполнения проекта применять *BERT* необязательно, но вы можете попробовать.\n",
        "\n",
        "**Описание данных**\n",
        "\n",
        "Данные находятся в файле `toxic_comments.csv`. Столбец *text* в нём содержит текст комментария, а *toxic* — целевой признак."
      ]
    },
    {
      "cell_type": "markdown",
      "metadata": {
        "id": "5plndO7GI7OH"
      },
      "source": [
        "## Подготовка"
      ]
    },
    {
      "cell_type": "markdown",
      "metadata": {
        "id": "sj-TlkJtI7OH"
      },
      "source": [
        "# Описание данных"
      ]
    },
    {
      "cell_type": "markdown",
      "metadata": {
        "id": "JRuciOtQI7OH"
      },
      "source": [
        "**Целевой признак** - toxic"
      ]
    },
    {
      "cell_type": "markdown",
      "metadata": {
        "id": "NfMRBLUgI7OH"
      },
      "source": [
        "`text` - текст комментария\n",
        "\n",
        "`toxic` - принимает значения 0 / 1 (положительный / отрицательный)"
      ]
    },
    {
      "cell_type": "markdown",
      "metadata": {
        "id": "A49G0_qMI7OH"
      },
      "source": [
        "### Загрузка библиотек"
      ]
    },
    {
      "cell_type": "code",
      "execution_count": null,
      "metadata": {
        "id": "AdKdHD1gI7OR",
        "outputId": "7b60de47-2ed7-487b-cb8b-4f23a301083b"
      },
      "outputs": [
        {
          "name": "stdout",
          "output_type": "stream",
          "text": [
            "Collecting package metadata (current_repodata.json): done\n",
            "Solving environment: done\n",
            "\n",
            "\n",
            "==> WARNING: A newer version of conda exists. <==\n",
            "  current version: 4.10.2\n",
            "  latest version: 24.3.0\n",
            "\n",
            "Please update conda by running\n",
            "\n",
            "    $ conda update -n base conda\n",
            "\n",
            "\n",
            "\n",
            "# All requested packages already installed.\n",
            "\n"
          ]
        }
      ],
      "source": [
        "!conda install --yes Pillow wordcloud tqdm pandarallel imbalanced-learn"
      ]
    },
    {
      "cell_type": "code",
      "execution_count": null,
      "metadata": {
        "id": "omg6ZQgiI7OR"
      },
      "outputs": [],
      "source": [
        "# импорт библиотек\n",
        "\n",
        "import pandas as pd\n",
        "import seaborn as sns\n",
        "import numpy as np\n",
        "import matplotlib.pyplot as plt\n",
        "pd.set_option('display.max_columns', None)\n",
        "import warnings\n",
        "import math\n",
        "\n",
        "from sklearn.tree import DecisionTreeClassifier\n",
        "from sklearn.linear_model import LogisticRegression\n",
        "from catboost import CatBoostClassifier\n",
        "import lightgbm as lgb\n",
        "from lightgbm import LGBMClassifier\n",
        "\n",
        "from sklearn.model_selection import RandomizedSearchCV\n",
        "from sklearn.model_selection import GridSearchCV\n",
        "from sklearn.model_selection import cross_val_score\n",
        "\n",
        "\n",
        "from sklearn.model_selection import train_test_split\n",
        "#from sklearn.pipeline import Pipeline\n",
        "\n",
        "from sklearn.metrics import f1_score\n",
        "\n"
      ]
    },
    {
      "cell_type": "code",
      "execution_count": null,
      "metadata": {
        "id": "iZDyfCgoI7OR"
      },
      "outputs": [],
      "source": [
        "# импорт библиотек\n",
        "\n",
        "#!pip install --upgrade pip\n"
      ]
    },
    {
      "cell_type": "code",
      "execution_count": null,
      "metadata": {
        "id": "EnEiULORI7OR"
      },
      "outputs": [],
      "source": [
        "\n",
        "# !pip install --upgrade Pillow\n"
      ]
    },
    {
      "cell_type": "code",
      "execution_count": null,
      "metadata": {
        "id": "VPagQr_wI7OR"
      },
      "outputs": [],
      "source": [
        "\n",
        "# !pip install wordcloud"
      ]
    },
    {
      "cell_type": "code",
      "execution_count": null,
      "metadata": {
        "id": "MYF3nX99I7Ob"
      },
      "outputs": [],
      "source": [
        "# !pip install tqdm\n",
        "\n",
        "from tqdm.notebook import tqdm"
      ]
    },
    {
      "cell_type": "code",
      "execution_count": null,
      "metadata": {
        "id": "AJWKGMBCI7Ob",
        "outputId": "4378965e-5d5e-4248-c79e-e6af240cfc4b"
      },
      "outputs": [
        {
          "name": "stdout",
          "output_type": "stream",
          "text": [
            "INFO: Pandarallel will run on 4 workers.\n",
            "INFO: Pandarallel will use Memory file system to transfer data between the main process and workers.\n"
          ]
        }
      ],
      "source": [
        "# !pip install pandarallel\n",
        "\n",
        "from pandarallel import pandarallel\n",
        "tqdm.pandas(desc=\"progress\")\n",
        "pandarallel.initialize(progress_bar = True)"
      ]
    },
    {
      "cell_type": "code",
      "execution_count": null,
      "metadata": {
        "id": "lvaEYnqmI7Ob",
        "outputId": "a5a8e7cc-ea47-4174-cb8c-2dbc91e8cd51"
      },
      "outputs": [
        {
          "name": "stderr",
          "output_type": "stream",
          "text": [
            "[nltk_data] Downloading package stopwords to /home/jovyan/nltk_data...\n",
            "[nltk_data]   Package stopwords is already up-to-date!\n",
            "[nltk_data] Downloading package averaged_perceptron_tagger to\n",
            "[nltk_data]     /home/jovyan/nltk_data...\n",
            "[nltk_data]   Unzipping taggers/averaged_perceptron_tagger.zip.\n"
          ]
        }
      ],
      "source": [
        "import re\n",
        "import nltk\n",
        "from nltk.stem import WordNetLemmatizer\n",
        "from nltk.corpus import stopwords\n",
        "from nltk.corpus import stopwords as nltk_stopwords\n",
        "from nltk.corpus import wordnet\n",
        "nltk.download('stopwords')\n",
        "#nltk.download('wordnet')\n",
        "nltk.download('averaged_perceptron_tagger')\n",
        "#nltk.download('punkt')\n",
        "from sklearn.feature_extraction.text import TfidfVectorizer\n",
        "\n",
        "from sklearn.utils import shuffle\n",
        "from sklearn.feature_extraction.text import CountVectorizer"
      ]
    },
    {
      "cell_type": "code",
      "execution_count": null,
      "metadata": {
        "id": "Gnaf72g6I7Ob"
      },
      "outputs": [],
      "source": [
        "from wordcloud import WordCloud"
      ]
    },
    {
      "cell_type": "code",
      "execution_count": null,
      "metadata": {
        "id": "_i7_pQ4PI7Ob"
      },
      "outputs": [],
      "source": [
        "# убираем ошибки из-за возможно устаревшей версии sklearn\n",
        "\n",
        "from warnings import simplefilter\n",
        "simplefilter(action='ignore', category=FutureWarning)"
      ]
    },
    {
      "cell_type": "code",
      "execution_count": null,
      "metadata": {
        "id": "Dh0UNVDII7Ob"
      },
      "outputs": [],
      "source": [
        "# !pip install -U imbalanced-learn"
      ]
    },
    {
      "cell_type": "code",
      "execution_count": null,
      "metadata": {
        "id": "cF2lW8gSI7Ob"
      },
      "outputs": [],
      "source": [
        "from imblearn.pipeline import make_pipeline\n",
        "from imblearn.over_sampling import RandomOverSampler\n",
        "from sklearn.base import OneToOneFeatureMixin"
      ]
    },
    {
      "cell_type": "code",
      "execution_count": null,
      "metadata": {
        "id": "H5q9VlStI7Ob"
      },
      "outputs": [],
      "source": [
        "from sklearn.compose import(\n",
        "    make_column_selector,\n",
        "    make_column_transformer,\n",
        "    ColumnTransformer)"
      ]
    },
    {
      "cell_type": "markdown",
      "metadata": {
        "id": "IkkY3NwNI7Ob"
      },
      "source": [
        "### Просмотр данных"
      ]
    },
    {
      "cell_type": "code",
      "execution_count": null,
      "metadata": {
        "id": "Ou8K2PKBI7Ob",
        "outputId": "38f679b7-fe28-4f5e-da7a-7563b29a3883"
      },
      "outputs": [
        {
          "data": {
            "text/html": [
              "<div>\n",
              "<style scoped>\n",
              "    .dataframe tbody tr th:only-of-type {\n",
              "        vertical-align: middle;\n",
              "    }\n",
              "\n",
              "    .dataframe tbody tr th {\n",
              "        vertical-align: top;\n",
              "    }\n",
              "\n",
              "    .dataframe thead th {\n",
              "        text-align: right;\n",
              "    }\n",
              "</style>\n",
              "<table border=\"1\" class=\"dataframe\">\n",
              "  <thead>\n",
              "    <tr style=\"text-align: right;\">\n",
              "      <th></th>\n",
              "      <th>Unnamed: 0</th>\n",
              "      <th>text</th>\n",
              "      <th>toxic</th>\n",
              "    </tr>\n",
              "  </thead>\n",
              "  <tbody>\n",
              "    <tr>\n",
              "      <th>0</th>\n",
              "      <td>0</td>\n",
              "      <td>Explanation\\nWhy the edits made under my usern...</td>\n",
              "      <td>0</td>\n",
              "    </tr>\n",
              "    <tr>\n",
              "      <th>1</th>\n",
              "      <td>1</td>\n",
              "      <td>D'aww! He matches this background colour I'm s...</td>\n",
              "      <td>0</td>\n",
              "    </tr>\n",
              "    <tr>\n",
              "      <th>2</th>\n",
              "      <td>2</td>\n",
              "      <td>Hey man, I'm really not trying to edit war. It...</td>\n",
              "      <td>0</td>\n",
              "    </tr>\n",
              "    <tr>\n",
              "      <th>3</th>\n",
              "      <td>3</td>\n",
              "      <td>\"\\nMore\\nI can't make any real suggestions on ...</td>\n",
              "      <td>0</td>\n",
              "    </tr>\n",
              "    <tr>\n",
              "      <th>4</th>\n",
              "      <td>4</td>\n",
              "      <td>You, sir, are my hero. Any chance you remember...</td>\n",
              "      <td>0</td>\n",
              "    </tr>\n",
              "  </tbody>\n",
              "</table>\n",
              "</div>"
            ],
            "text/plain": [
              "   Unnamed: 0                                               text  toxic\n",
              "0           0  Explanation\\nWhy the edits made under my usern...      0\n",
              "1           1  D'aww! He matches this background colour I'm s...      0\n",
              "2           2  Hey man, I'm really not trying to edit war. It...      0\n",
              "3           3  \"\\nMore\\nI can't make any real suggestions on ...      0\n",
              "4           4  You, sir, are my hero. Any chance you remember...      0"
            ]
          },
          "metadata": {},
          "output_type": "display_data"
        },
        {
          "data": {
            "text/plain": [
              "(159292, 3)"
            ]
          },
          "execution_count": 14,
          "metadata": {},
          "output_type": "execute_result"
        }
      ],
      "source": [
        "# чтение и загрузка файла - основной датасет\n",
        "\n",
        "comment = pd.read_csv('/datasets/toxic_comments.csv')\n",
        "display(comment.head())\n",
        "comment.shape"
      ]
    },
    {
      "cell_type": "markdown",
      "metadata": {
        "id": "ayhVErLFI7Ob"
      },
      "source": [
        "**Датасет содержит 159 292 строки и 3 столбца. Столбец Unnamed: 0 дублирует индексы, поэтому его стоит удалить**"
      ]
    },
    {
      "cell_type": "code",
      "execution_count": null,
      "metadata": {
        "id": "S3i_lW-fI7Ob"
      },
      "outputs": [],
      "source": [
        "# уберем столбец дублирующий индексы\n",
        "\n",
        "comment = comment.drop('Unnamed: 0', axis=1)"
      ]
    },
    {
      "cell_type": "code",
      "execution_count": null,
      "metadata": {
        "id": "ryMkRg6jI7Ob",
        "outputId": "84c777b4-4e94-460d-9b87-781c65d13e23"
      },
      "outputs": [
        {
          "name": "stdout",
          "output_type": "stream",
          "text": [
            "<class 'pandas.core.frame.DataFrame'>\n",
            "RangeIndex: 159292 entries, 0 to 159291\n",
            "Data columns (total 2 columns):\n",
            " #   Column  Non-Null Count   Dtype \n",
            "---  ------  --------------   ----- \n",
            " 0   text    159292 non-null  object\n",
            " 1   toxic   159292 non-null  int64 \n",
            "dtypes: int64(1), object(1)\n",
            "memory usage: 2.4+ MB\n"
          ]
        }
      ],
      "source": [
        "# проверяем форматы данных\n",
        "\n",
        "comment.info()"
      ]
    },
    {
      "cell_type": "code",
      "execution_count": null,
      "metadata": {
        "id": "5XU_J9CHI7Ob",
        "outputId": "f2515bb3-77ea-4b99-df9d-0e7fc2dacb27"
      },
      "outputs": [
        {
          "data": {
            "text/plain": [
              "text     0\n",
              "toxic    0\n",
              "dtype: int64"
            ]
          },
          "execution_count": 17,
          "metadata": {},
          "output_type": "execute_result"
        }
      ],
      "source": [
        "# проверяем пропуски в таблице\n",
        "\n",
        "comment.isna().sum().sort_values(ascending=False)"
      ]
    },
    {
      "cell_type": "markdown",
      "metadata": {
        "id": "khbg-c27I7Ol"
      },
      "source": [
        "**Пропуски отстутствуют**"
      ]
    },
    {
      "cell_type": "code",
      "execution_count": null,
      "metadata": {
        "id": "kl3Rs0oaI7Ol",
        "outputId": "c5835196-a9b0-4b2c-ec9b-b1f5a21fd452"
      },
      "outputs": [
        {
          "data": {
            "image/png": "[encoded data removed]",
            "text/plain": [
              "<Figure size 432x288 with 1 Axes>"
            ]
          },
          "metadata": {
            "needs_background": "light"
          },
          "output_type": "display_data"
        }
      ],
      "source": [
        "# проверка структуры баланса классов\n",
        "\n",
        "comment['toxic'].value_counts().plot(kind='bar')\n",
        "plt.title(\"Распределение нетоксичных (0) и токсичных (1) комментариев\")\n",
        "plt.ylabel(\"кол-во комментариев\")\n",
        "plt.show();"
      ]
    },
    {
      "cell_type": "markdown",
      "metadata": {
        "id": "WStOt1ecI7Ol"
      },
      "source": [
        "В датасете ярко выражен дисбаланс классов (разница в 7 раз: 20 тыс токсичных против 140 тыс положительных), поэтому на этапе подготовки обучения моделей необходимо это учесть."
      ]
    },
    {
      "cell_type": "markdown",
      "metadata": {
        "id": "3qvCCYuwI7Ol"
      },
      "source": [
        "### Предобработка данных"
      ]
    },
    {
      "cell_type": "markdown",
      "metadata": {
        "id": "k0SHsU_ZI7Ol"
      },
      "source": [
        "**Лемматизация и регулярные выражения**"
      ]
    },
    {
      "cell_type": "code",
      "execution_count": null,
      "metadata": {
        "id": "_cXU5CIBI7Ol"
      },
      "outputs": [],
      "source": [
        "# приведем тексты к нижнему регистру\n",
        "\n",
        "#comment['text'] = comment['text'].apply(lambda x: x.lower())"
      ]
    },
    {
      "cell_type": "code",
      "execution_count": null,
      "metadata": {
        "id": "d7PQzukkI7Ol"
      },
      "outputs": [],
      "source": [
        "# очистим текст от лишних символов\n",
        "\n",
        "def clear_text(text):\n",
        "    text = text.lower()\n",
        "    text = re.sub(r'[^a-zA-Z]', ' ', text)\n",
        "    text = \" \".join(text.split())\n",
        "    return text"
      ]
    },
    {
      "cell_type": "code",
      "execution_count": null,
      "metadata": {
        "id": "3jy_HpZBI7Ol"
      },
      "outputs": [],
      "source": [
        "comment['lemm_text'] = comment['text'].apply(clear_text)"
      ]
    },
    {
      "cell_type": "code",
      "execution_count": null,
      "metadata": {
        "id": "PvcCtFtdI7Ol",
        "outputId": "4a298435-f406-4953-8add-94d8bf059f2a"
      },
      "outputs": [
        {
          "data": {
            "text/html": [
              "<div>\n",
              "<style scoped>\n",
              "    .dataframe tbody tr th:only-of-type {\n",
              "        vertical-align: middle;\n",
              "    }\n",
              "\n",
              "    .dataframe tbody tr th {\n",
              "        vertical-align: top;\n",
              "    }\n",
              "\n",
              "    .dataframe thead th {\n",
              "        text-align: right;\n",
              "    }\n",
              "</style>\n",
              "<table border=\"1\" class=\"dataframe\">\n",
              "  <thead>\n",
              "    <tr style=\"text-align: right;\">\n",
              "      <th></th>\n",
              "      <th>text</th>\n",
              "      <th>toxic</th>\n",
              "      <th>lemm_text</th>\n",
              "    </tr>\n",
              "  </thead>\n",
              "  <tbody>\n",
              "    <tr>\n",
              "      <th>0</th>\n",
              "      <td>Explanation\\nWhy the edits made under my usern...</td>\n",
              "      <td>0</td>\n",
              "      <td>explanation why the edits made under my userna...</td>\n",
              "    </tr>\n",
              "    <tr>\n",
              "      <th>1</th>\n",
              "      <td>D'aww! He matches this background colour I'm s...</td>\n",
              "      <td>0</td>\n",
              "      <td>d aww he matches this background colour i m se...</td>\n",
              "    </tr>\n",
              "    <tr>\n",
              "      <th>2</th>\n",
              "      <td>Hey man, I'm really not trying to edit war. It...</td>\n",
              "      <td>0</td>\n",
              "      <td>hey man i m really not trying to edit war it s...</td>\n",
              "    </tr>\n",
              "    <tr>\n",
              "      <th>3</th>\n",
              "      <td>\"\\nMore\\nI can't make any real suggestions on ...</td>\n",
              "      <td>0</td>\n",
              "      <td>more i can t make any real suggestions on impr...</td>\n",
              "    </tr>\n",
              "    <tr>\n",
              "      <th>4</th>\n",
              "      <td>You, sir, are my hero. Any chance you remember...</td>\n",
              "      <td>0</td>\n",
              "      <td>you sir are my hero any chance you remember wh...</td>\n",
              "    </tr>\n",
              "  </tbody>\n",
              "</table>\n",
              "</div>"
            ],
            "text/plain": [
              "                                                text  toxic  \\\n",
              "0  Explanation\\nWhy the edits made under my usern...      0   \n",
              "1  D'aww! He matches this background colour I'm s...      0   \n",
              "2  Hey man, I'm really not trying to edit war. It...      0   \n",
              "3  \"\\nMore\\nI can't make any real suggestions on ...      0   \n",
              "4  You, sir, are my hero. Any chance you remember...      0   \n",
              "\n",
              "                                           lemm_text  \n",
              "0  explanation why the edits made under my userna...  \n",
              "1  d aww he matches this background colour i m se...  \n",
              "2  hey man i m really not trying to edit war it s...  \n",
              "3  more i can t make any real suggestions on impr...  \n",
              "4  you sir are my hero any chance you remember wh...  "
            ]
          },
          "metadata": {},
          "output_type": "display_data"
        }
      ],
      "source": [
        "display(comment.head())"
      ]
    },
    {
      "cell_type": "code",
      "execution_count": null,
      "metadata": {
        "id": "R3guNqUHI7Ov"
      },
      "outputs": [],
      "source": [
        "# введем функцию РОS-тэгирования слов:\n",
        "\n",
        "def get_wordnet_pos(word):\n",
        "    tag = nltk.pos_tag([word])[0][1][0].upper()\n",
        "    tag_dict = {\"J\": wordnet.ADJ, # прилагательное\n",
        "                \"N\": wordnet.NOUN, # существительное\n",
        "                \"V\": wordnet.VERB, # глагол\n",
        "                \"R\": wordnet.ADV} # наречие\n",
        "\n",
        "    return tag_dict.get(tag, wordnet.NOUN)"
      ]
    },
    {
      "cell_type": "code",
      "execution_count": null,
      "metadata": {
        "id": "Z926EVZgI7Ov"
      },
      "outputs": [],
      "source": [
        "# создадим функцию лемматизации и обработки текстов\n",
        "\n",
        "lemmatizer = WordNetLemmatizer()\n",
        "\n",
        "def lemmatize(text):\n",
        "    text=[lemmatizer.lemmatize(w, get_wordnet_pos(w)) for w in nltk.word_tokenize(text)]\n",
        "    text = \" \".join(text)\n",
        "    return text"
      ]
    },
    {
      "cell_type": "code",
      "execution_count": null,
      "metadata": {
        "scrolled": false,
        "colab": {
          "referenced_widgets": [
            "a7bd3b23db4245eebe8d7689d32f063d"
          ]
        },
        "id": "bwes9u2AI7Ov",
        "outputId": "e92edad9-4773-432f-f5d6-459c5f37ba32"
      },
      "outputs": [
        {
          "data": {
            "application/vnd.jupyter.widget-view+json": {
              "model_id": "a7bd3b23db4245eebe8d7689d32f063d",
              "version_major": 2,
              "version_minor": 0
            },
            "text/plain": [
              "VBox(children=(HBox(children=(IntProgress(value=0, description='0.00%', max=39823), Label(value='0 / 39823')))…"
            ]
          },
          "metadata": {},
          "output_type": "display_data"
        },
        {
          "ename": "OSError",
          "evalue": "[Errno 28] No space left on device",
          "output_type": "error",
          "traceback": [
            "\u001b[0;31m---------------------------------------------------------------------------\u001b[0m",
            "\u001b[0;31mRemoteTraceback\u001b[0m                           Traceback (most recent call last)",
            "\u001b[0;31mRemoteTraceback\u001b[0m: \n\"\"\"\nTraceback (most recent call last):\n  File \"/opt/conda/lib/python3.9/multiprocessing/pool.py\", line 125, in worker\n    result = (True, func(*args, **kwds))\n  File \"/opt/conda/lib/python3.9/multiprocessing/pool.py\", line 51, in starmapstar\n    return list(itertools.starmap(args[0], args[1]))\n  File \"/opt/conda/lib/python3.9/site-packages/pandarallel/core.py\", line 104, in __call__\n    pickle.dump(result, file_descriptor)\nOSError: [Errno 28] No space left on device\n\"\"\"",
            "\nThe above exception was the direct cause of the following exception:\n",
            "\u001b[0;31mOSError\u001b[0m                                   Traceback (most recent call last)",
            "\u001b[0;32m/tmp/ipykernel_623/2985133510.py\u001b[0m in \u001b[0;36m<module>\u001b[0;34m\u001b[0m\n\u001b[0;32m----> 1\u001b[0;31m \u001b[0mcomment\u001b[0m\u001b[0;34m[\u001b[0m\u001b[0;34m'lemm_text'\u001b[0m\u001b[0;34m]\u001b[0m \u001b[0;34m=\u001b[0m \u001b[0mcomment\u001b[0m\u001b[0;34m[\u001b[0m\u001b[0;34m'lemm_text'\u001b[0m\u001b[0;34m]\u001b[0m\u001b[0;34m.\u001b[0m\u001b[0mparallel_apply\u001b[0m\u001b[0;34m(\u001b[0m\u001b[0mlemmatize\u001b[0m\u001b[0;34m)\u001b[0m\u001b[0;34m\u001b[0m\u001b[0;34m\u001b[0m\u001b[0m\n\u001b[0m",
            "\u001b[0;32m/opt/conda/lib/python3.9/site-packages/pandarallel/core.py\u001b[0m in \u001b[0;36mclosure\u001b[0;34m(data, user_defined_function, *user_defined_function_args, **user_defined_function_kwargs)\u001b[0m\n\u001b[1;32m    331\u001b[0m                 \u001b[0;31m# was some error during processing and the files were never\u001b[0m\u001b[0;34m\u001b[0m\u001b[0;34m\u001b[0m\u001b[0;34m\u001b[0m\u001b[0m\n\u001b[1;32m    332\u001b[0m                 \u001b[0;31m# saved at all.\u001b[0m\u001b[0;34m\u001b[0m\u001b[0;34m\u001b[0m\u001b[0;34m\u001b[0m\u001b[0m\n\u001b[0;32m--> 333\u001b[0;31m                 \u001b[0mresults_promise\u001b[0m\u001b[0;34m.\u001b[0m\u001b[0mget\u001b[0m\u001b[0;34m(\u001b[0m\u001b[0;34m)\u001b[0m\u001b[0;34m\u001b[0m\u001b[0;34m\u001b[0m\u001b[0m\n\u001b[0m\u001b[1;32m    334\u001b[0m \u001b[0;34m\u001b[0m\u001b[0m\n\u001b[1;32m    335\u001b[0m                 \u001b[0;31m# If the above statement does not raise an exception, that\u001b[0m\u001b[0;34m\u001b[0m\u001b[0;34m\u001b[0m\u001b[0;34m\u001b[0m\u001b[0m\n",
            "\u001b[0;32m/opt/conda/lib/python3.9/multiprocessing/pool.py\u001b[0m in \u001b[0;36mget\u001b[0;34m(self, timeout)\u001b[0m\n\u001b[1;32m    769\u001b[0m             \u001b[0;32mreturn\u001b[0m \u001b[0mself\u001b[0m\u001b[0;34m.\u001b[0m\u001b[0m_value\u001b[0m\u001b[0;34m\u001b[0m\u001b[0;34m\u001b[0m\u001b[0m\n\u001b[1;32m    770\u001b[0m         \u001b[0;32melse\u001b[0m\u001b[0;34m:\u001b[0m\u001b[0;34m\u001b[0m\u001b[0;34m\u001b[0m\u001b[0m\n\u001b[0;32m--> 771\u001b[0;31m             \u001b[0;32mraise\u001b[0m \u001b[0mself\u001b[0m\u001b[0;34m.\u001b[0m\u001b[0m_value\u001b[0m\u001b[0;34m\u001b[0m\u001b[0;34m\u001b[0m\u001b[0m\n\u001b[0m\u001b[1;32m    772\u001b[0m \u001b[0;34m\u001b[0m\u001b[0m\n\u001b[1;32m    773\u001b[0m     \u001b[0;32mdef\u001b[0m \u001b[0m_set\u001b[0m\u001b[0;34m(\u001b[0m\u001b[0mself\u001b[0m\u001b[0;34m,\u001b[0m \u001b[0mi\u001b[0m\u001b[0;34m,\u001b[0m \u001b[0mobj\u001b[0m\u001b[0;34m)\u001b[0m\u001b[0;34m:\u001b[0m\u001b[0;34m\u001b[0m\u001b[0;34m\u001b[0m\u001b[0m\n",
            "\u001b[0;31mOSError\u001b[0m: [Errno 28] No space left on device"
          ]
        }
      ],
      "source": [
        "comment['lemm_text'] = comment['lemm_text'].parallel_apply(lemmatize)"
      ]
    },
    {
      "cell_type": "code",
      "execution_count": null,
      "metadata": {
        "id": "eA14u6cmI7Ov",
        "outputId": "00984106-b646-4fa0-f9c9-0e0c96b36a8e"
      },
      "outputs": [
        {
          "data": {
            "text/html": [
              "<div>\n",
              "<style scoped>\n",
              "    .dataframe tbody tr th:only-of-type {\n",
              "        vertical-align: middle;\n",
              "    }\n",
              "\n",
              "    .dataframe tbody tr th {\n",
              "        vertical-align: top;\n",
              "    }\n",
              "\n",
              "    .dataframe thead th {\n",
              "        text-align: right;\n",
              "    }\n",
              "</style>\n",
              "<table border=\"1\" class=\"dataframe\">\n",
              "  <thead>\n",
              "    <tr style=\"text-align: right;\">\n",
              "      <th></th>\n",
              "      <th>text</th>\n",
              "      <th>toxic</th>\n",
              "      <th>lemm_text</th>\n",
              "    </tr>\n",
              "  </thead>\n",
              "  <tbody>\n",
              "    <tr>\n",
              "      <th>0</th>\n",
              "      <td>Explanation\\nWhy the edits made under my usern...</td>\n",
              "      <td>0</td>\n",
              "      <td>explanation why the edits made under my userna...</td>\n",
              "    </tr>\n",
              "    <tr>\n",
              "      <th>1</th>\n",
              "      <td>D'aww! He matches this background colour I'm s...</td>\n",
              "      <td>0</td>\n",
              "      <td>d aww he matches this background colour i m se...</td>\n",
              "    </tr>\n",
              "    <tr>\n",
              "      <th>2</th>\n",
              "      <td>Hey man, I'm really not trying to edit war. It...</td>\n",
              "      <td>0</td>\n",
              "      <td>hey man i m really not trying to edit war it s...</td>\n",
              "    </tr>\n",
              "    <tr>\n",
              "      <th>3</th>\n",
              "      <td>\"\\nMore\\nI can't make any real suggestions on ...</td>\n",
              "      <td>0</td>\n",
              "      <td>more i can t make any real suggestions on impr...</td>\n",
              "    </tr>\n",
              "    <tr>\n",
              "      <th>4</th>\n",
              "      <td>You, sir, are my hero. Any chance you remember...</td>\n",
              "      <td>0</td>\n",
              "      <td>you sir are my hero any chance you remember wh...</td>\n",
              "    </tr>\n",
              "  </tbody>\n",
              "</table>\n",
              "</div>"
            ],
            "text/plain": [
              "                                                text  toxic  \\\n",
              "0  Explanation\\nWhy the edits made under my usern...      0   \n",
              "1  D'aww! He matches this background colour I'm s...      0   \n",
              "2  Hey man, I'm really not trying to edit war. It...      0   \n",
              "3  \"\\nMore\\nI can't make any real suggestions on ...      0   \n",
              "4  You, sir, are my hero. Any chance you remember...      0   \n",
              "\n",
              "                                           lemm_text  \n",
              "0  explanation why the edits made under my userna...  \n",
              "1  d aww he matches this background colour i m se...  \n",
              "2  hey man i m really not trying to edit war it s...  \n",
              "3  more i can t make any real suggestions on impr...  \n",
              "4  you sir are my hero any chance you remember wh...  "
            ]
          },
          "metadata": {},
          "output_type": "display_data"
        }
      ],
      "source": [
        "# проверим как отработали функции\n",
        "\n",
        "display(comment.head())"
      ]
    },
    {
      "cell_type": "code",
      "execution_count": null,
      "metadata": {
        "scrolled": true,
        "id": "qu6ffrj_I7Ov",
        "outputId": "80c59648-3c33-4f88-f406-1d47e8986685"
      },
      "outputs": [
        {
          "data": {
            "text/html": [
              "<div>\n",
              "<style scoped>\n",
              "    .dataframe tbody tr th:only-of-type {\n",
              "        vertical-align: middle;\n",
              "    }\n",
              "\n",
              "    .dataframe tbody tr th {\n",
              "        vertical-align: top;\n",
              "    }\n",
              "\n",
              "    .dataframe thead th {\n",
              "        text-align: right;\n",
              "    }\n",
              "</style>\n",
              "<table border=\"1\" class=\"dataframe\">\n",
              "  <thead>\n",
              "    <tr style=\"text-align: right;\">\n",
              "      <th></th>\n",
              "      <th>toxic</th>\n",
              "      <th>lemm_text</th>\n",
              "    </tr>\n",
              "  </thead>\n",
              "  <tbody>\n",
              "    <tr>\n",
              "      <th>0</th>\n",
              "      <td>0</td>\n",
              "      <td>explanation why the edits made under my userna...</td>\n",
              "    </tr>\n",
              "    <tr>\n",
              "      <th>1</th>\n",
              "      <td>0</td>\n",
              "      <td>d aww he matches this background colour i m se...</td>\n",
              "    </tr>\n",
              "    <tr>\n",
              "      <th>2</th>\n",
              "      <td>0</td>\n",
              "      <td>hey man i m really not trying to edit war it s...</td>\n",
              "    </tr>\n",
              "    <tr>\n",
              "      <th>3</th>\n",
              "      <td>0</td>\n",
              "      <td>more i can t make any real suggestions on impr...</td>\n",
              "    </tr>\n",
              "    <tr>\n",
              "      <th>4</th>\n",
              "      <td>0</td>\n",
              "      <td>you sir are my hero any chance you remember wh...</td>\n",
              "    </tr>\n",
              "  </tbody>\n",
              "</table>\n",
              "</div>"
            ],
            "text/plain": [
              "   toxic                                          lemm_text\n",
              "0      0  explanation why the edits made under my userna...\n",
              "1      0  d aww he matches this background colour i m se...\n",
              "2      0  hey man i m really not trying to edit war it s...\n",
              "3      0  more i can t make any real suggestions on impr...\n",
              "4      0  you sir are my hero any chance you remember wh..."
            ]
          },
          "metadata": {},
          "output_type": "display_data"
        }
      ],
      "source": [
        "# оставим только нужные столбцы с лемматизированными и очищенными данными\n",
        "\n",
        "comment = comment.drop(['text'], axis=1)\n",
        "display(comment.head())"
      ]
    },
    {
      "cell_type": "code",
      "execution_count": null,
      "metadata": {
        "id": "nGkt1F2hI7Ov",
        "outputId": "de7b015a-6149-45c0-daba-7c091870f73c"
      },
      "outputs": [
        {
          "data": {
            "image/png": "[encoded data removed]",
            "text/plain": [
              "<Figure size 576x576 with 1 Axes>"
            ]
          },
          "metadata": {
            "needs_background": "light"
          },
          "output_type": "display_data"
        }
      ],
      "source": [
        "# визуализируем облако слов в текстах с токсичной коннотацией\n",
        "\n",
        "stop_words = stopwords.words('english')\n",
        "stop_words.remove('not')\n",
        "words_list = comment[comment['toxic']==1]['lemm_text'].unique().tolist()\n",
        "pos_words = \" \".join(words_list)\n",
        "\n",
        "pos_wordcloud =  WordCloud(\n",
        "                  width=800, height = 500,\n",
        "                  stopwords=stop_words).generate(pos_words)\n",
        "\n",
        "plt.figure(figsize=(8, 8), facecolor = None)\n",
        "plt.imshow(pos_wordcloud)\n",
        "plt.axis(\"off\")\n",
        "plt.tight_layout(pad=0)\n",
        "plt.title('Облако слов токсичных сообщений', fontsize=20);"
      ]
    },
    {
      "cell_type": "code",
      "execution_count": null,
      "metadata": {
        "id": "X5FBfVxTI7Ov",
        "outputId": "253e6122-f92e-468a-8661-328ca38aac88"
      },
      "outputs": [
        {
          "data": {
            "image/png": "[encoded data removed]",
            "text/plain": [
              "<Figure size 576x576 with 1 Axes>"
            ]
          },
          "metadata": {
            "needs_background": "light"
          },
          "output_type": "display_data"
        }
      ],
      "source": [
        "# визуализируем облако слов в текстах с не токсичной коннотацией\n",
        "\n",
        "words_list = comment[comment['toxic']==0]['lemm_text'].unique().tolist()\n",
        "pos_words = \" \".join(words_list)\n",
        "\n",
        "pos_wordcloud =  WordCloud(\n",
        "                  width=800, height = 500,\n",
        "                  stopwords=stop_words).generate(pos_words)\n",
        "\n",
        "plt.figure(figsize=(8, 8), facecolor = None)\n",
        "plt.imshow(pos_wordcloud)\n",
        "plt.axis(\"off\")\n",
        "plt.tight_layout(pad=0)\n",
        "plt.title('Облако слов НЕ токсичных сообщений', fontsize=20);"
      ]
    },
    {
      "cell_type": "markdown",
      "metadata": {
        "id": "Ww63bDwSI7Ov"
      },
      "source": [
        "## Обучение"
      ]
    },
    {
      "cell_type": "markdown",
      "metadata": {
        "id": "YLfOcWHII7Ov"
      },
      "source": [
        "### Решение дисбаланса классов"
      ]
    },
    {
      "cell_type": "markdown",
      "metadata": {
        "id": "QqJH_LfiI7O5"
      },
      "source": [
        "Так как положительных комментариев значительно больше, то применим метод upsampling.\n",
        "\n",
        "Oversampling, upsampling — это искусственное увеличение количества объектов минорного класса в датасете до количества объектов мажорного класса."
      ]
    },
    {
      "cell_type": "code",
      "execution_count": null,
      "metadata": {
        "id": "s1wq8ehkI7O5"
      },
      "outputs": [],
      "source": [
        "# определяем данные на признаки (X) и целевую переменную (y)\n",
        "\n",
        "X = comment.drop(['toxic'], axis=1)\n",
        "y = comment['toxic']"
      ]
    },
    {
      "cell_type": "code",
      "execution_count": null,
      "metadata": {
        "id": "7NBV5pOzI7O5"
      },
      "outputs": [],
      "source": [
        "# разделим данные на обучающую и тестовую выборки\n",
        "\n",
        "RANDOM_STATE = 55\n",
        "\n",
        "X_train, X_test, y_train, y_test = train_test_split(\n",
        "    X, y, test_size=0.25, stratify = y, random_state=RANDOM_STATE)"
      ]
    },
    {
      "cell_type": "code",
      "execution_count": null,
      "metadata": {
        "id": "AsHrte_1I7O5",
        "outputId": "f183cc59-ba89-4a4c-ef35-33227767b5cd"
      },
      "outputs": [
        {
          "data": {
            "text/plain": [
              "(119469, 1)"
            ]
          },
          "metadata": {},
          "output_type": "display_data"
        },
        {
          "data": {
            "text/plain": [
              "(39823, 1)"
            ]
          },
          "metadata": {},
          "output_type": "display_data"
        },
        {
          "data": {
            "text/plain": [
              "(119469,)"
            ]
          },
          "metadata": {},
          "output_type": "display_data"
        },
        {
          "data": {
            "text/plain": [
              "(39823,)"
            ]
          },
          "metadata": {},
          "output_type": "display_data"
        }
      ],
      "source": [
        "# проверяем выборки\n",
        "\n",
        "display(X_train.shape)\n",
        "display(X_test.shape)\n",
        "display(y_train.shape)\n",
        "display(y_test.shape)"
      ]
    },
    {
      "cell_type": "code",
      "execution_count": null,
      "metadata": {
        "id": "zTT3Q_5zI7O5"
      },
      "outputs": [],
      "source": [
        "# определяем функцию upsampling чтобы сбалансировать классы путём увеличения количества объектов минорного класса\n",
        "\n",
        "#def upsample(features, target, repeat):\n",
        "#    features_zeros = features[target == 0]\n",
        "#    features_ones = features[target == 1]\n",
        "#    target_zeros = target[target == 0]\n",
        "#    target_ones = target[target == 1]\n",
        "#    features_upsampled = pd.concat([features_zeros] + [features_ones] * repeat)\n",
        "#    target_upsampled = pd.concat([target_zeros] + [target_ones] * repeat)\n",
        "#    features_upsampled, target_upsampled = shuffle(features_upsampled, target_upsampled)\n",
        "#    return features_upsampled, target_upsampled"
      ]
    },
    {
      "cell_type": "code",
      "execution_count": null,
      "metadata": {
        "id": "DhexIAu0I7O5"
      },
      "outputs": [],
      "source": [
        "# применяем функцию к обучающей выборке - добавила UP\n",
        "\n",
        "#X_train_up, y_train_up = upsample(X_train, y_train, repeat=6)\n",
        "#display(X_train_up.shape)\n",
        "#display(y_train_up.shape)"
      ]
    },
    {
      "cell_type": "code",
      "execution_count": null,
      "metadata": {
        "id": "VU3uOuolI7O5"
      },
      "outputs": [],
      "source": [
        "# проверка структуры баланса классов - добавила UP\n",
        "\n",
        "#y_train_up.hist(label='train')\n",
        "#y_test.hist(label='test')\n",
        "#plt.legend()\n",
        "#plt.title('Проверка структуры баланса классов');"
      ]
    },
    {
      "cell_type": "markdown",
      "metadata": {
        "id": "f1UrMvfCI7O5"
      },
      "source": [
        "На графике мы видим, что удалось увеличить минорный класс в 4 раза"
      ]
    },
    {
      "cell_type": "markdown",
      "metadata": {
        "id": "QPaeHovNI7O5"
      },
      "source": [
        "### Подбор метода векторизации"
      ]
    },
    {
      "cell_type": "code",
      "execution_count": null,
      "metadata": {
        "id": "HgoP2X52I7O5"
      },
      "outputs": [],
      "source": [
        "# создаем корпус текстов без upsampling\n",
        "\n",
        "corpus_train = X_train['lemm_text'].values#.astype('U')\n",
        "corpus_test = X_test['lemm_text'].values#.astype('U')\n",
        "\n",
        "#- добавила UP (то есть применен upsampling)\n",
        "\n",
        "#corpus_train_up = X_train_up['lemm_text'].values"
      ]
    },
    {
      "cell_type": "markdown",
      "metadata": {
        "id": "JZXuocPcI7PD"
      },
      "source": [
        "**МЕШОК СЛОВ**"
      ]
    },
    {
      "cell_type": "markdown",
      "metadata": {
        "id": "90fBToNoI7PD"
      },
      "source": [
        "Переведём тексты в понятный для машины формат — векторный.\n",
        "\n",
        "Преобразовать слова в векторы поможет модель «мешок слов» (англ. bag of words). Она преобразует текст в вектор, не учитывая порядок слов. Отсюда и название — «мешок»."
      ]
    },
    {
      "cell_type": "code",
      "execution_count": null,
      "metadata": {
        "id": "DNGWxNqVI7PD",
        "outputId": "f480d8f6-4924-4e7f-cbde-87214932d032"
      },
      "outputs": [
        {
          "name": "stdout",
          "output_type": "stream",
          "text": [
            "Размер мешка слов обучающая выборка: (119469, 142792)\n"
          ]
        }
      ],
      "source": [
        "# создаем мешок слов с учётом стоп-слов\n",
        "stop_words = set(stopwords.words('english'))\n",
        "\n",
        "count_vect_bow = CountVectorizer(stop_words=list(stop_words)) # dtype='float64'\n",
        "bow_train = count_vect_bow.fit_transform(corpus_train)\n",
        "print(\"Размер мешка слов обучающая выборка:\", bow_train.shape)"
      ]
    },
    {
      "cell_type": "code",
      "execution_count": null,
      "metadata": {
        "id": "_nsXlwwsI7PD"
      },
      "outputs": [],
      "source": [
        "# инициируем модель\n",
        "\n",
        "model = LogisticRegression(random_state=RANDOM_STATE, max_iter=150)"
      ]
    },
    {
      "cell_type": "code",
      "execution_count": null,
      "metadata": {
        "id": "q6i4NdulI7PD",
        "outputId": "11796437-e4ec-4a17-93d5-368d0848b528"
      },
      "outputs": [
        {
          "name": "stderr",
          "output_type": "stream",
          "text": [
            "/opt/conda/lib/python3.9/site-packages/sklearn/linear_model/_logistic.py:458: ConvergenceWarning: lbfgs failed to converge (status=1):\n",
            "STOP: TOTAL NO. of ITERATIONS REACHED LIMIT.\n",
            "\n",
            "Increase the number of iterations (max_iter) or scale the data as shown in:\n",
            "    https://scikit-learn.org/stable/modules/preprocessing.html\n",
            "Please also refer to the documentation for alternative solver options:\n",
            "    https://scikit-learn.org/stable/modules/linear_model.html#logistic-regression\n",
            "  n_iter_i = _check_optimize_result(\n",
            "/opt/conda/lib/python3.9/site-packages/sklearn/linear_model/_logistic.py:458: ConvergenceWarning: lbfgs failed to converge (status=1):\n",
            "STOP: TOTAL NO. of ITERATIONS REACHED LIMIT.\n",
            "\n",
            "Increase the number of iterations (max_iter) or scale the data as shown in:\n",
            "    https://scikit-learn.org/stable/modules/preprocessing.html\n",
            "Please also refer to the documentation for alternative solver options:\n",
            "    https://scikit-learn.org/stable/modules/linear_model.html#logistic-regression\n",
            "  n_iter_i = _check_optimize_result(\n",
            "/opt/conda/lib/python3.9/site-packages/sklearn/linear_model/_logistic.py:458: ConvergenceWarning: lbfgs failed to converge (status=1):\n",
            "STOP: TOTAL NO. of ITERATIONS REACHED LIMIT.\n",
            "\n",
            "Increase the number of iterations (max_iter) or scale the data as shown in:\n",
            "    https://scikit-learn.org/stable/modules/preprocessing.html\n",
            "Please also refer to the documentation for alternative solver options:\n",
            "    https://scikit-learn.org/stable/modules/linear_model.html#logistic-regression\n",
            "  n_iter_i = _check_optimize_result(\n"
          ]
        }
      ],
      "source": [
        "# рассчитаем метрику f1 по результатам кросс-валидации\n",
        "\n",
        "scores = cross_val_score(model,\n",
        "                         bow_train,\n",
        "                         y_train,\n",
        "                         cv=3,\n",
        "                         scoring='f1')"
      ]
    },
    {
      "cell_type": "code",
      "execution_count": null,
      "metadata": {
        "id": "x1JNb3DfI7PN",
        "outputId": "9a33a7ea-0840-4356-892f-fb7067337a6b"
      },
      "outputs": [
        {
          "name": "stdout",
          "output_type": "stream",
          "text": [
            "Метрика F1 по результатам кросс-валидации, мешок слов: 0.75\n"
          ]
        }
      ],
      "source": [
        "print('Метрика F1 по результатам кросс-валидации, мешок слов:', scores.mean().round(2))"
      ]
    },
    {
      "cell_type": "markdown",
      "metadata": {
        "id": "PCtYPAXHI7PN"
      },
      "source": [
        "**N-ГРАММЫ**"
      ]
    },
    {
      "cell_type": "code",
      "execution_count": null,
      "metadata": {
        "id": "dIYfvTf-I7PN",
        "outputId": "104e29d1-e3fb-46f4-ca74-7032071a5f20"
      },
      "outputs": [
        {
          "name": "stdout",
          "output_type": "stream",
          "text": [
            "Размер n-граммы train: (119469, 1767323)\n"
          ]
        }
      ],
      "source": [
        "# создаем n-грамму n_gramm, для которой n=2\n",
        "\n",
        "count_vect = CountVectorizer(ngram_range=(2, 2))\n",
        "\n",
        "n_gramm_train = count_vect.fit_transform(corpus_train)\n",
        "\n",
        "print(\"Размер n-граммы train:\", n_gramm_train.shape)"
      ]
    },
    {
      "cell_type": "code",
      "execution_count": null,
      "metadata": {
        "id": "Olmw60-8I7PN",
        "outputId": "09adf8ef-6d32-4bf2-fca9-af0c5fb70cfc"
      },
      "outputs": [
        {
          "name": "stderr",
          "output_type": "stream",
          "text": [
            "/opt/conda/lib/python3.9/site-packages/sklearn/linear_model/_logistic.py:458: ConvergenceWarning: lbfgs failed to converge (status=1):\n",
            "STOP: TOTAL NO. of ITERATIONS REACHED LIMIT.\n",
            "\n",
            "Increase the number of iterations (max_iter) or scale the data as shown in:\n",
            "    https://scikit-learn.org/stable/modules/preprocessing.html\n",
            "Please also refer to the documentation for alternative solver options:\n",
            "    https://scikit-learn.org/stable/modules/linear_model.html#logistic-regression\n",
            "  n_iter_i = _check_optimize_result(\n",
            "/opt/conda/lib/python3.9/site-packages/sklearn/linear_model/_logistic.py:458: ConvergenceWarning: lbfgs failed to converge (status=1):\n",
            "STOP: TOTAL NO. of ITERATIONS REACHED LIMIT.\n",
            "\n",
            "Increase the number of iterations (max_iter) or scale the data as shown in:\n",
            "    https://scikit-learn.org/stable/modules/preprocessing.html\n",
            "Please also refer to the documentation for alternative solver options:\n",
            "    https://scikit-learn.org/stable/modules/linear_model.html#logistic-regression\n",
            "  n_iter_i = _check_optimize_result(\n",
            "/opt/conda/lib/python3.9/site-packages/sklearn/linear_model/_logistic.py:458: ConvergenceWarning: lbfgs failed to converge (status=1):\n",
            "STOP: TOTAL NO. of ITERATIONS REACHED LIMIT.\n",
            "\n",
            "Increase the number of iterations (max_iter) or scale the data as shown in:\n",
            "    https://scikit-learn.org/stable/modules/preprocessing.html\n",
            "Please also refer to the documentation for alternative solver options:\n",
            "    https://scikit-learn.org/stable/modules/linear_model.html#logistic-regression\n",
            "  n_iter_i = _check_optimize_result(\n"
          ]
        }
      ],
      "source": [
        "# рассчитаем метрику f1 по результатам кросс-валидации\n",
        "\n",
        "scores_ngramm = cross_val_score(model,\n",
        "                                n_gramm_train,\n",
        "                                y_train,\n",
        "                                cv=3,\n",
        "                                scoring='f1')"
      ]
    },
    {
      "cell_type": "code",
      "execution_count": null,
      "metadata": {
        "id": "FVtKBrfYI7PN",
        "outputId": "ff6252d9-0770-49d5-ed90-6b1f0968b994"
      },
      "outputs": [
        {
          "name": "stdout",
          "output_type": "stream",
          "text": [
            "Метрика F1 по результатам кросс-валидации,  n-граммы: 0.56\n"
          ]
        }
      ],
      "source": [
        "print('Метрика F1 по результатам кросс-валидации,  n-граммы:', scores_ngramm.mean().round(2))"
      ]
    },
    {
      "cell_type": "markdown",
      "metadata": {
        "id": "p9wDaufSI7PN"
      },
      "source": [
        "**TF-IDF**"
      ]
    },
    {
      "cell_type": "markdown",
      "metadata": {
        "id": "A-m3aVg1I7PN"
      },
      "source": [
        "Оценка важности слова определяется величиной TF-IDF (от англ. term frequency, «частота терма, или слова»; inverse document frequency, «обратная частота документа, или текста»). То есть TF отвечает за количество упоминаний слова в отдельном тексте, а IDF отражает частоту его употребления во всём корпусе."
      ]
    },
    {
      "cell_type": "code",
      "execution_count": null,
      "metadata": {
        "id": "b1ZPFApGI7PN",
        "outputId": "c05fc473-ae04-40c5-c858-55c8427dc9b1"
      },
      "outputs": [
        {
          "data": {
            "text/plain": [
              "(119469, 142792)"
            ]
          },
          "metadata": {},
          "output_type": "display_data"
        }
      ],
      "source": [
        "# считаем величину TF-IDF\n",
        "\n",
        "count_tf_idf = TfidfVectorizer(stop_words=list(stop_words))\n",
        "tf_idf_train = count_tf_idf.fit_transform(corpus_train) # без upsampling\n",
        "display(tf_idf_train.shape)"
      ]
    },
    {
      "cell_type": "code",
      "execution_count": null,
      "metadata": {
        "id": "xfgbM1ahI7PN"
      },
      "outputs": [],
      "source": [
        "# рассчитаем метрику f1 по результатам кросс-валидации\n",
        "\n",
        "scores_tf_idf = cross_val_score(model,\n",
        "                                tf_idf_train,\n",
        "                                y_train, # без upsampling\n",
        "                                cv=5,\n",
        "                                scoring='f1')"
      ]
    },
    {
      "cell_type": "code",
      "execution_count": null,
      "metadata": {
        "id": "jWp7C5_qI7PX",
        "outputId": "dfc2fbdf-ebd5-4b47-f520-a6654fd032be"
      },
      "outputs": [
        {
          "name": "stdout",
          "output_type": "stream",
          "text": [
            "Метрика F1 по результатам кросс-валидации, TF-IDF: 0.7\n"
          ]
        }
      ],
      "source": [
        "print('Метрика F1 по результатам кросс-валидации, TF-IDF:', scores_tf_idf.mean().round(2))"
      ]
    },
    {
      "cell_type": "code",
      "execution_count": null,
      "metadata": {
        "id": "B4dhcwQKI7PX",
        "outputId": "e32286af-9bef-4157-cffd-89b0004af812"
      },
      "outputs": [
        {
          "data": {
            "text/html": [
              "<div>\n",
              "<style scoped>\n",
              "    .dataframe tbody tr th:only-of-type {\n",
              "        vertical-align: middle;\n",
              "    }\n",
              "\n",
              "    .dataframe tbody tr th {\n",
              "        vertical-align: top;\n",
              "    }\n",
              "\n",
              "    .dataframe thead th {\n",
              "        text-align: right;\n",
              "    }\n",
              "</style>\n",
              "<table border=\"1\" class=\"dataframe\">\n",
              "  <thead>\n",
              "    <tr style=\"text-align: right;\">\n",
              "      <th></th>\n",
              "      <th>F1 на CV</th>\n",
              "    </tr>\n",
              "  </thead>\n",
              "  <tbody>\n",
              "    <tr>\n",
              "      <th>LR_bow</th>\n",
              "      <td>0.75</td>\n",
              "    </tr>\n",
              "    <tr>\n",
              "      <th>LR_TF-IDF</th>\n",
              "      <td>0.70</td>\n",
              "    </tr>\n",
              "    <tr>\n",
              "      <th>LR_ngramm</th>\n",
              "      <td>0.56</td>\n",
              "    </tr>\n",
              "  </tbody>\n",
              "</table>\n",
              "</div>"
            ],
            "text/plain": [
              "           F1 на CV\n",
              "LR_bow         0.75\n",
              "LR_TF-IDF      0.70\n",
              "LR_ngramm      0.56"
            ]
          },
          "execution_count": 47,
          "metadata": {},
          "output_type": "execute_result"
        }
      ],
      "source": [
        "# Построим таблицу результатов баллансировки\n",
        "index = ['LR_bow',\n",
        "         'LR_ngramm',\n",
        "         'LR_TF-IDF']\n",
        "data = {'F1 на CV':[scores.mean().round(2),\n",
        "                    scores_ngramm.mean().round(2),\n",
        "                    scores_tf_idf.mean().round(2)]}\n",
        "\n",
        "scores_data = pd.DataFrame(data=data, index=index)\n",
        "scores_data.sort_values('F1 на CV', ascending=False)"
      ]
    },
    {
      "cell_type": "markdown",
      "metadata": {
        "id": "xCubuotqI7PX"
      },
      "source": [
        "По итогам выбора метода векторизации и применения модели Логистической регрессии с расчетом метрики F1, лучший результат показал метод **метод \"Мешок слов\", метрика F1 = 0,75**\n",
        "\n",
        "Но модели было мало такое количество итераций, и увеличение их потребляет много ресурсов по времени.\n",
        "\n",
        "На втором месте по результатам **метод \"TF-IDF\"**. Этот метод показал результат на втором месте **F1 = 0,70**, при обучении модели никаких сложностей не возникло, поэтому дальнейшее обучение моделей с подбором гиперпараметров будет с этой векторизацией.\n",
        "\n",
        "На третьем месте стал **\"N-грамм\"** с метрикой **F1 = 0,56**. Недостатком этого метода является создание достаточно большого размера матрицы, что может увеличить в последствии время обучения модели.\n"
      ]
    },
    {
      "cell_type": "markdown",
      "metadata": {
        "id": "_O9SKYCFI7Ph"
      },
      "source": [
        "### Выбор модели"
      ]
    },
    {
      "cell_type": "code",
      "execution_count": null,
      "metadata": {
        "id": "lLQwNsGzI7Ph"
      },
      "outputs": [],
      "source": [
        "#from sklearn.preprocessing import StandardScaler"
      ]
    },
    {
      "cell_type": "code",
      "execution_count": null,
      "metadata": {
        "id": "u_xlrk2sI7Ph"
      },
      "outputs": [],
      "source": [
        "# создаём пайплайн: подготовка данных и модель\n",
        "\n",
        "pipeline = make_pipeline(#StandardScaler(),\n",
        "                           TfidfVectorizer(),\n",
        "                           RandomOverSampler(random_state=RANDOM_STATE, sampling_strategy='minority'),\n",
        "DecisionTreeClassifier())"
      ]
    },
    {
      "cell_type": "code",
      "execution_count": null,
      "metadata": {
        "id": "c1bL2dycI7Ph"
      },
      "outputs": [],
      "source": [
        "param_grid = [\n",
        "    # словарь для модели DecisionTreeClassifier()\n",
        "    {\n",
        "        #'decisiontreeclassifier': [DecisionTreeClassifier(random_state=RANDOM_STATE)],\n",
        "        'decisiontreeclassifier__max_depth': range(1,5),\n",
        "        'decisiontreeclassifier__max_features': range(1,5)\n",
        "    },\n",
        "\n",
        "    # словарь для модели LGBM\n",
        "    {\n",
        "        'decisiontreeclassifier': [LGBMClassifier(random_state=RANDOM_STATE)],\n",
        "        'decisiontreeclassifier__learning_rate': [0.1, 0.5],\n",
        "        #'models__max_depth': range(1,5),\n",
        "        'decisiontreeclassifier__n_estimators' : range(50, 100, 50)\n",
        "    },\n",
        "\n",
        "    # словарь для модели LogisticRegression()\n",
        "    {\n",
        "        'decisiontreeclassifier': [LogisticRegression(\n",
        "            random_state=RANDOM_STATE,\n",
        "            solver='liblinear',\n",
        "            penalty='l1')],\n",
        "        'decisiontreeclassifier__C': range(1,5)\n",
        "    },\n",
        "\n",
        "    # словарь для модели CatBoostClassifier\n",
        "    {\n",
        "        'decisiontreeclassifier': [CatBoostClassifier(random_state=RANDOM_STATE)],\n",
        "        'decisiontreeclassifier__learning_rate':[0.1, 0.5],\n",
        "        #'models__max_depth': range(1,5),\n",
        "        'decisiontreeclassifier__n_estimators' : range(50, 100, 50)\n",
        "    }\n",
        "]"
      ]
    },
    {
      "cell_type": "code",
      "execution_count": null,
      "metadata": {
        "id": "vtduCi_5I7Ph"
      },
      "outputs": [],
      "source": [
        "# чтобы найти лучшее решение, перебирать будем и гиперпараметры\n",
        "\n",
        "#grid_search = GridSearchCV(pipeline, param_grid, cv=5)\n",
        "random_search = RandomizedSearchCV(\n",
        "    pipeline,\n",
        "    param_grid,\n",
        "    cv=3,\n",
        "    scoring='f1',\n",
        "    random_state=RANDOM_STATE,\n",
        "    n_jobs=-1\n",
        "    ,verbose=True)"
      ]
    },
    {
      "cell_type": "code",
      "execution_count": null,
      "metadata": {
        "id": "bDw_1-R0I7Ph"
      },
      "outputs": [],
      "source": [
        "# убираем ошибки из-за возможно устаревшей версии sklearn\n",
        "\n",
        "#from warnings import simplefilter\n",
        "#simplefilter(action='ignore', category=FutureWarning)"
      ]
    },
    {
      "cell_type": "code",
      "execution_count": null,
      "metadata": {
        "id": "mbDVQlG3I7Ph",
        "outputId": "af2e3a51-372e-40a0-9eeb-8d359ea013cf"
      },
      "outputs": [
        {
          "name": "stdout",
          "output_type": "stream",
          "text": [
            "Fitting 3 folds for each of 10 candidates, totalling 30 fits\n"
          ]
        },
        {
          "data": {
            "text/html": [
              "<style>#sk-container-id-6 {color: black;background-color: white;}#sk-container-id-6 pre{padding: 0;}#sk-container-id-6 div.sk-toggleable {background-color: white;}#sk-container-id-6 label.sk-toggleable__label {cursor: pointer;display: block;width: 100%;margin-bottom: 0;padding: 0.3em;box-sizing: border-box;text-align: center;}#sk-container-id-6 label.sk-toggleable__label-arrow:before {content: \"▸\";float: left;margin-right: 0.25em;color: #696969;}#sk-container-id-6 label.sk-toggleable__label-arrow:hover:before {color: black;}#sk-container-id-6 div.sk-estimator:hover label.sk-toggleable__label-arrow:before {color: black;}#sk-container-id-6 div.sk-toggleable__content {max-height: 0;max-width: 0;overflow: hidden;text-align: left;background-color: #f0f8ff;}#sk-container-id-6 div.sk-toggleable__content pre {margin: 0.2em;color: black;border-radius: 0.25em;background-color: #f0f8ff;}#sk-container-id-6 input.sk-toggleable__control:checked~div.sk-toggleable__content {max-height: 200px;max-width: 100%;overflow: auto;}#sk-container-id-6 input.sk-toggleable__control:checked~label.sk-toggleable__label-arrow:before {content: \"▾\";}#sk-container-id-6 div.sk-estimator input.sk-toggleable__control:checked~label.sk-toggleable__label {background-color: #d4ebff;}#sk-container-id-6 div.sk-label input.sk-toggleable__control:checked~label.sk-toggleable__label {background-color: #d4ebff;}#sk-container-id-6 input.sk-hidden--visually {border: 0;clip: rect(1px 1px 1px 1px);clip: rect(1px, 1px, 1px, 1px);height: 1px;margin: -1px;overflow: hidden;padding: 0;position: absolute;width: 1px;}#sk-container-id-6 div.sk-estimator {font-family: monospace;background-color: #f0f8ff;border: 1px dotted black;border-radius: 0.25em;box-sizing: border-box;margin-bottom: 0.5em;}#sk-container-id-6 div.sk-estimator:hover {background-color: #d4ebff;}#sk-container-id-6 div.sk-parallel-item::after {content: \"\";width: 100%;border-bottom: 1px solid gray;flex-grow: 1;}#sk-container-id-6 div.sk-label:hover label.sk-toggleable__label {background-color: #d4ebff;}#sk-container-id-6 div.sk-serial::before {content: \"\";position: absolute;border-left: 1px solid gray;box-sizing: border-box;top: 0;bottom: 0;left: 50%;z-index: 0;}#sk-container-id-6 div.sk-serial {display: flex;flex-direction: column;align-items: center;background-color: white;padding-right: 0.2em;padding-left: 0.2em;position: relative;}#sk-container-id-6 div.sk-item {position: relative;z-index: 1;}#sk-container-id-6 div.sk-parallel {display: flex;align-items: stretch;justify-content: center;background-color: white;position: relative;}#sk-container-id-6 div.sk-item::before, #sk-container-id-6 div.sk-parallel-item::before {content: \"\";position: absolute;border-left: 1px solid gray;box-sizing: border-box;top: 0;bottom: 0;left: 50%;z-index: -1;}#sk-container-id-6 div.sk-parallel-item {display: flex;flex-direction: column;z-index: 1;position: relative;background-color: white;}#sk-container-id-6 div.sk-parallel-item:first-child::after {align-self: flex-end;width: 50%;}#sk-container-id-6 div.sk-parallel-item:last-child::after {align-self: flex-start;width: 50%;}#sk-container-id-6 div.sk-parallel-item:only-child::after {width: 0;}#sk-container-id-6 div.sk-dashed-wrapped {border: 1px dashed gray;margin: 0 0.4em 0.5em 0.4em;box-sizing: border-box;padding-bottom: 0.4em;background-color: white;}#sk-container-id-6 div.sk-label label {font-family: monospace;font-weight: bold;display: inline-block;line-height: 1.2em;}#sk-container-id-6 div.sk-label-container {text-align: center;}#sk-container-id-6 div.sk-container {/* jupyter's `normalize.less` sets `[hidden] { display: none; }` but bootstrap.min.css set `[hidden] { display: none !important; }` so we also need the `!important` here to be able to override the default hidden behavior on the sphinx rendered scikit-learn.org. See: https://github.com/scikit-learn/scikit-learn/issues/21755 */display: inline-block !important;position: relative;}#sk-container-id-6 div.sk-text-repr-fallback {display: none;}</style><div id=\"sk-container-id-6\" class=\"sk-top-container\"><div class=\"sk-text-repr-fallback\"><pre>RandomizedSearchCV(cv=3,\n",
              "                   estimator=Pipeline(steps=[(&#x27;tfidfvectorizer&#x27;,\n",
              "                                              TfidfVectorizer()),\n",
              "                                             (&#x27;randomoversampler&#x27;,\n",
              "                                              RandomOverSampler(random_state=55,\n",
              "                                                                sampling_strategy=&#x27;minority&#x27;)),\n",
              "                                             (&#x27;decisiontreeclassifier&#x27;,\n",
              "                                              DecisionTreeClassifier())]),\n",
              "                   n_jobs=-1,\n",
              "                   param_distributions=[{&#x27;decisiontreeclassifier__max_depth&#x27;: range(1, 5),\n",
              "                                         &#x27;decisiontreeclassifier__max_features&#x27;: rang...\n",
              "                                        {&#x27;decisiontreeclassifier&#x27;: [LogisticRegression(C=2,\n",
              "                                                                                       penalty=&#x27;l1&#x27;,\n",
              "                                                                                       random_state=55,\n",
              "                                                                                       solver=&#x27;liblinear&#x27;)],\n",
              "                                         &#x27;decisiontreeclassifier__C&#x27;: range(1, 5)},\n",
              "                                        {&#x27;decisiontreeclassifier&#x27;: [&lt;catboost.core.CatBoostClassifier object at 0x7faca0dcdca0&gt;],\n",
              "                                         &#x27;decisiontreeclassifier__learning_rate&#x27;: [0.1,\n",
              "                                                                                   0.5],\n",
              "                                         &#x27;decisiontreeclassifier__n_estimators&#x27;: range(50, 100, 50)}],\n",
              "                   random_state=55, scoring=&#x27;f1&#x27;, verbose=True)</pre><b>In a Jupyter environment, please rerun this cell to show the HTML representation or trust the notebook. <br />On GitHub, the HTML representation is unable to render, please try loading this page with nbviewer.org.</b></div><div class=\"sk-container\" hidden><div class=\"sk-item sk-dashed-wrapped\"><div class=\"sk-label-container\"><div class=\"sk-label sk-toggleable\"><input class=\"sk-toggleable__control sk-hidden--visually\" id=\"sk-estimator-id-14\" type=\"checkbox\" ><label for=\"sk-estimator-id-14\" class=\"sk-toggleable__label sk-toggleable__label-arrow\">RandomizedSearchCV</label><div class=\"sk-toggleable__content\"><pre>RandomizedSearchCV(cv=3,\n",
              "                   estimator=Pipeline(steps=[(&#x27;tfidfvectorizer&#x27;,\n",
              "                                              TfidfVectorizer()),\n",
              "                                             (&#x27;randomoversampler&#x27;,\n",
              "                                              RandomOverSampler(random_state=55,\n",
              "                                                                sampling_strategy=&#x27;minority&#x27;)),\n",
              "                                             (&#x27;decisiontreeclassifier&#x27;,\n",
              "                                              DecisionTreeClassifier())]),\n",
              "                   n_jobs=-1,\n",
              "                   param_distributions=[{&#x27;decisiontreeclassifier__max_depth&#x27;: range(1, 5),\n",
              "                                         &#x27;decisiontreeclassifier__max_features&#x27;: rang...\n",
              "                                        {&#x27;decisiontreeclassifier&#x27;: [LogisticRegression(C=2,\n",
              "                                                                                       penalty=&#x27;l1&#x27;,\n",
              "                                                                                       random_state=55,\n",
              "                                                                                       solver=&#x27;liblinear&#x27;)],\n",
              "                                         &#x27;decisiontreeclassifier__C&#x27;: range(1, 5)},\n",
              "                                        {&#x27;decisiontreeclassifier&#x27;: [&lt;catboost.core.CatBoostClassifier object at 0x7faca0dcdca0&gt;],\n",
              "                                         &#x27;decisiontreeclassifier__learning_rate&#x27;: [0.1,\n",
              "                                                                                   0.5],\n",
              "                                         &#x27;decisiontreeclassifier__n_estimators&#x27;: range(50, 100, 50)}],\n",
              "                   random_state=55, scoring=&#x27;f1&#x27;, verbose=True)</pre></div></div></div><div class=\"sk-parallel\"><div class=\"sk-parallel-item\"><div class=\"sk-item\"><div class=\"sk-label-container\"><div class=\"sk-label sk-toggleable\"><input class=\"sk-toggleable__control sk-hidden--visually\" id=\"sk-estimator-id-15\" type=\"checkbox\" ><label for=\"sk-estimator-id-15\" class=\"sk-toggleable__label sk-toggleable__label-arrow\">estimator: Pipeline</label><div class=\"sk-toggleable__content\"><pre>Pipeline(steps=[(&#x27;tfidfvectorizer&#x27;, TfidfVectorizer()),\n",
              "                (&#x27;randomoversampler&#x27;,\n",
              "                 RandomOverSampler(random_state=55,\n",
              "                                   sampling_strategy=&#x27;minority&#x27;)),\n",
              "                (&#x27;decisiontreeclassifier&#x27;, DecisionTreeClassifier())])</pre></div></div></div><div class=\"sk-serial\"><div class=\"sk-item\"><div class=\"sk-serial\"><div class=\"sk-item\"><div class=\"sk-estimator sk-toggleable\"><input class=\"sk-toggleable__control sk-hidden--visually\" id=\"sk-estimator-id-16\" type=\"checkbox\" ><label for=\"sk-estimator-id-16\" class=\"sk-toggleable__label sk-toggleable__label-arrow\">TfidfVectorizer</label><div class=\"sk-toggleable__content\"><pre>TfidfVectorizer()</pre></div></div></div><div class=\"sk-item\"><div class=\"sk-estimator sk-toggleable\"><input class=\"sk-toggleable__control sk-hidden--visually\" id=\"sk-estimator-id-17\" type=\"checkbox\" ><label for=\"sk-estimator-id-17\" class=\"sk-toggleable__label sk-toggleable__label-arrow\">RandomOverSampler</label><div class=\"sk-toggleable__content\"><pre>RandomOverSampler(random_state=55, sampling_strategy=&#x27;minority&#x27;)</pre></div></div></div><div class=\"sk-item\"><div class=\"sk-estimator sk-toggleable\"><input class=\"sk-toggleable__control sk-hidden--visually\" id=\"sk-estimator-id-18\" type=\"checkbox\" ><label for=\"sk-estimator-id-18\" class=\"sk-toggleable__label sk-toggleable__label-arrow\">DecisionTreeClassifier</label><div class=\"sk-toggleable__content\"><pre>DecisionTreeClassifier()</pre></div></div></div></div></div></div></div></div></div></div></div></div>"
            ],
            "text/plain": [
              "RandomizedSearchCV(cv=3,\n",
              "                   estimator=Pipeline(steps=[('tfidfvectorizer',\n",
              "                                              TfidfVectorizer()),\n",
              "                                             ('randomoversampler',\n",
              "                                              RandomOverSampler(random_state=55,\n",
              "                                                                sampling_strategy='minority')),\n",
              "                                             ('decisiontreeclassifier',\n",
              "                                              DecisionTreeClassifier())]),\n",
              "                   n_jobs=-1,\n",
              "                   param_distributions=[{'decisiontreeclassifier__max_depth': range(1, 5),\n",
              "                                         'decisiontreeclassifier__max_features': rang...\n",
              "                                        {'decisiontreeclassifier': [LogisticRegression(C=2,\n",
              "                                                                                       penalty='l1',\n",
              "                                                                                       random_state=55,\n",
              "                                                                                       solver='liblinear')],\n",
              "                                         'decisiontreeclassifier__C': range(1, 5)},\n",
              "                                        {'decisiontreeclassifier': [<catboost.core.CatBoostClassifier object at 0x7faca0dcdca0>],\n",
              "                                         'decisiontreeclassifier__learning_rate': [0.1,\n",
              "                                                                                   0.5],\n",
              "                                         'decisiontreeclassifier__n_estimators': range(50, 100, 50)}],\n",
              "                   random_state=55, scoring='f1', verbose=True)"
            ]
          },
          "execution_count": 102,
          "metadata": {},
          "output_type": "execute_result"
        }
      ],
      "source": [
        "# обучаем на тренировочных данных\n",
        "random_search.fit(corpus_train, y_train)"
      ]
    },
    {
      "cell_type": "code",
      "execution_count": null,
      "metadata": {
        "id": "TVBt4lcQI7Pr",
        "outputId": "a244ccb9-f1e9-461c-f2c8-ce078621d2f1"
      },
      "outputs": [
        {
          "name": "stdout",
          "output_type": "stream",
          "text": [
            "Лучшая модель и её параметры:\n",
            "\n",
            " Pipeline(steps=[('tfidfvectorizer', TfidfVectorizer()),\n",
            "                ('randomoversampler',\n",
            "                 RandomOverSampler(random_state=55,\n",
            "                                   sampling_strategy='minority')),\n",
            "                ('decisiontreeclassifier',\n",
            "                 LogisticRegression(C=2, penalty='l1', random_state=55,\n",
            "                                    solver='liblinear'))])\n",
            "Метрика лучшей модели на кросс-валидации: 0.7702086096354576\n"
          ]
        }
      ],
      "source": [
        "# выведем лучшие параметры\n",
        "\n",
        "print('Лучшая модель и её параметры:\\n\\n', random_search.best_estimator_)\n",
        "print ('Метрика лучшей модели на кросс-валидации:', random_search.best_score_)"
      ]
    },
    {
      "cell_type": "markdown",
      "metadata": {
        "id": "bnHVXIOTI7Pr"
      },
      "source": [
        "### Предсказания на тестовой выборке"
      ]
    },
    {
      "cell_type": "code",
      "execution_count": null,
      "metadata": {
        "id": "vVJUWKxmI7Pr"
      },
      "outputs": [],
      "source": [
        "# создадим вектор данных на тестовой выборке методом \"TF_IDF\"\n",
        "\n",
        "#tf_idf_test = count_tf_idf.transform(corpus_test)\n",
        "\n",
        "#print(\"Размер 'TF_IDF' тестовая выборка:\", tf_idf_test.shape)"
      ]
    },
    {
      "cell_type": "code",
      "execution_count": null,
      "metadata": {
        "id": "82K6emNcI7Pr"
      },
      "outputs": [],
      "source": [
        "# Сохраняем лучшую модель в новую переменную\n",
        "\n",
        "best_model_grid = random_search.best_estimator_"
      ]
    },
    {
      "cell_type": "code",
      "execution_count": null,
      "metadata": {
        "id": "x_vupXIOI7Pr",
        "outputId": "27f02883-bbde-4849-ac5c-3eddd76d0388"
      },
      "outputs": [
        {
          "name": "stdout",
          "output_type": "stream",
          "text": [
            "Метрика F1 на тестовой выборке: 0.775\n"
          ]
        }
      ],
      "source": [
        "# проверим работу модели на тестовой выборке\n",
        "# рассчитаем прогноз на тестовых данных\n",
        "\n",
        "y_test_pred = best_model_grid.predict(corpus_test)\n",
        "\n",
        "print(f'Метрика F1 на тестовой выборке: {f1_score(y_test, y_test_pred).round(3)}')"
      ]
    },
    {
      "cell_type": "markdown",
      "metadata": {
        "id": "kkAvRNyXI7Pr"
      },
      "source": [
        "## Выводы"
      ]
    },
    {
      "cell_type": "markdown",
      "metadata": {
        "id": "TtrBW5vKI7Pr"
      },
      "source": [
        "Перед нами стояла задача обучить модель классифицировать комментарии на позитивные и негативные. В вашем распоряжении набор данных с разметкой о токсичности правок.\n",
        "\n",
        "Необходимо было построить модель со значением **метрики качества F1 не меньше 0.75**."
      ]
    },
    {
      "cell_type": "markdown",
      "metadata": {
        "id": "SbVhpTkZI7Pr"
      },
      "source": [
        "**Для построения модели и достижения целевого значения метрики выполнены следующие шаги:**\n",
        "\n",
        "**1)** Проведено исследование данных: Дубликаты отсутствуют. В датасете ярко выражен дисбаланс классов (разница в 7 раз: 20 тыс токсичных против 140 тыс положительных). Удален дублирующий индексы столбец.\n",
        "\n",
        "**2)** Произведена лемматизация текста и очистка данных, составлена визуализация самых повторяемых токсичных слов и положительных комментариев\n",
        "\n",
        "**3)** Применен метод upsampling для устранения дисбаланса классов целевого показателя.\n",
        "\n",
        "**4)** Выполнен подбор метода векторизации. По итогам выбора метода векторизации и применения модели Логистической регрессии с расчетом метрики F1, лучший результат показал метод метод \"Мешок слов\", метрика F1 = 0,75\n",
        "\n",
        "Но модели было мало такое количество итераций, и увеличение их потребляет много ресурсов по времени.\n",
        "\n",
        "На втором месте по результатам метод \"TF-IDF\". Этот метод показал результат на втором месте F1 = 0,70, при обучении модели никаких сложностей не возникло, поэтому дальнейшее обучение моделей с подбором гиперпараметров будет с этой векторизацией.\n",
        "\n",
        "На третьем месте стал \"N-грамм\" с метрикой F1 = 0,56. Недостатком этого метода является создание достаточно большого размера матрицы, что может увеличить в последствии время обучения модели.\n",
        "\n",
        "**5)** Для решения задачи использовали 4 модели: DecisionTreeClassifier, LGBMClassifier, LogisticRegression, CatBoostClassifier.\n",
        "\n",
        "**Лучшая модель с гиперпараметрами оказалась**: Pipeline(steps=[('tfidfvectorizer', TfidfVectorizer()),\n",
        "                ('randomoversampler',\n",
        "                 RandomOverSampler(random_state=55,\n",
        "                                   sampling_strategy='minority')),\n",
        "                ('decisiontreeclassifier',\n",
        "                 LogisticRegression(C=2, penalty='l1', random_state=55,\n",
        "                                    solver='liblinear'))])\n",
        "Метрика лучшей модели на кросс-валидации: 0.7702086096354576\n",
        "\n",
        "**6)** Метрика лучшей модели на тестовой выборке оказалась **F1 = 0.775. Целевое значение достигнуто.**"
      ]
    }
  ],
  "metadata": {
    "ExecuteTimeLog": [
      {
        "duration": 1756,
        "start_time": "2024-04-10T21:09:50.587Z"
      },
      {
        "duration": 3306,
        "start_time": "2024-04-10T21:09:52.599Z"
      },
      {
        "duration": 5,
        "start_time": "2024-04-10T21:14:55.179Z"
      },
      {
        "duration": 1209,
        "start_time": "2024-04-10T21:14:56.067Z"
      },
      {
        "duration": 929,
        "start_time": "2024-04-10T21:15:02.518Z"
      },
      {
        "duration": 2851,
        "start_time": "2024-04-10T21:51:28.168Z"
      },
      {
        "duration": 929,
        "start_time": "2024-04-10T21:51:36.098Z"
      },
      {
        "duration": 931,
        "start_time": "2024-04-10T21:52:15.327Z"
      },
      {
        "duration": 13,
        "start_time": "2024-04-10T21:52:24.351Z"
      },
      {
        "duration": 134,
        "start_time": "2024-04-10T21:52:55.717Z"
      },
      {
        "duration": 35,
        "start_time": "2024-04-10T22:11:37.920Z"
      },
      {
        "duration": 29,
        "start_time": "2024-04-10T22:11:59.815Z"
      },
      {
        "duration": 125,
        "start_time": "2024-04-10T22:18:38.261Z"
      },
      {
        "duration": 254,
        "start_time": "2024-04-10T22:23:35.810Z"
      },
      {
        "duration": 3,
        "start_time": "2024-04-10T22:40:23.840Z"
      },
      {
        "duration": 3,
        "start_time": "2024-04-10T22:42:19.232Z"
      },
      {
        "duration": 3,
        "start_time": "2024-04-10T22:42:46.943Z"
      },
      {
        "duration": 177,
        "start_time": "2024-04-10T22:46:51.250Z"
      },
      {
        "duration": 2865,
        "start_time": "2024-04-10T22:47:55.663Z"
      },
      {
        "duration": 932,
        "start_time": "2024-04-10T22:47:58.530Z"
      },
      {
        "duration": 21,
        "start_time": "2024-04-10T22:47:59.463Z"
      },
      {
        "duration": 44,
        "start_time": "2024-04-10T22:47:59.486Z"
      },
      {
        "duration": 33,
        "start_time": "2024-04-10T22:47:59.531Z"
      },
      {
        "duration": 136,
        "start_time": "2024-04-10T22:47:59.566Z"
      },
      {
        "duration": 270,
        "start_time": "2024-04-10T22:47:59.703Z"
      },
      {
        "duration": 3,
        "start_time": "2024-04-10T22:48:03.339Z"
      },
      {
        "duration": 187,
        "start_time": "2024-04-10T22:48:03.988Z"
      },
      {
        "duration": 3199,
        "start_time": "2024-04-10T22:48:24.462Z"
      },
      {
        "duration": 3,
        "start_time": "2024-04-10T22:48:44.873Z"
      },
      {
        "duration": 4167,
        "start_time": "2024-04-10T22:49:30.385Z"
      },
      {
        "duration": 9,
        "start_time": "2024-04-10T22:50:16.759Z"
      },
      {
        "duration": 8,
        "start_time": "2024-04-10T22:50:32.850Z"
      },
      {
        "duration": 50,
        "start_time": "2024-04-10T22:56:49.483Z"
      },
      {
        "duration": 8,
        "start_time": "2024-04-10T22:57:03.437Z"
      },
      {
        "duration": 6,
        "start_time": "2024-04-10T22:57:09.001Z"
      },
      {
        "duration": 931,
        "start_time": "2024-04-10T22:57:09.008Z"
      },
      {
        "duration": 13,
        "start_time": "2024-04-10T22:57:09.940Z"
      },
      {
        "duration": 37,
        "start_time": "2024-04-10T22:57:09.954Z"
      },
      {
        "duration": 27,
        "start_time": "2024-04-10T22:57:09.994Z"
      },
      {
        "duration": 148,
        "start_time": "2024-04-10T22:57:10.023Z"
      },
      {
        "duration": 229,
        "start_time": "2024-04-10T22:57:10.173Z"
      },
      {
        "duration": 3,
        "start_time": "2024-04-10T22:57:10.404Z"
      },
      {
        "duration": 1845,
        "start_time": "2024-04-10T22:57:10.408Z"
      },
      {
        "duration": 3,
        "start_time": "2024-04-10T22:57:12.254Z"
      },
      {
        "duration": 4279,
        "start_time": "2024-04-10T22:57:12.260Z"
      },
      {
        "duration": 3635,
        "start_time": "2024-04-10T22:57:17.604Z"
      },
      {
        "duration": 9,
        "start_time": "2024-04-10T22:57:22.182Z"
      },
      {
        "duration": 47,
        "start_time": "2024-04-10T22:57:30.161Z"
      },
      {
        "duration": 41,
        "start_time": "2024-04-10T22:58:05.054Z"
      },
      {
        "duration": 13,
        "start_time": "2024-04-10T22:58:27.612Z"
      },
      {
        "duration": 39,
        "start_time": "2024-04-10T22:58:43.384Z"
      },
      {
        "duration": 3545,
        "start_time": "2024-04-10T22:59:14.132Z"
      },
      {
        "duration": 66,
        "start_time": "2024-04-10T22:59:23.433Z"
      },
      {
        "duration": 15,
        "start_time": "2024-04-10T23:00:21.895Z"
      },
      {
        "duration": 14,
        "start_time": "2024-04-10T23:00:40.703Z"
      },
      {
        "duration": 2521,
        "start_time": "2024-04-10T23:01:34.046Z"
      },
      {
        "duration": 2381,
        "start_time": "2024-04-10T23:01:41.678Z"
      },
      {
        "duration": 2794,
        "start_time": "2024-04-10T23:03:03.776Z"
      },
      {
        "duration": 2425,
        "start_time": "2024-04-10T23:03:33.616Z"
      },
      {
        "duration": 93,
        "start_time": "2024-04-10T23:04:43.741Z"
      },
      {
        "duration": 111,
        "start_time": "2024-04-10T23:05:41.033Z"
      },
      {
        "duration": 12763,
        "start_time": "2024-04-10T23:07:03.391Z"
      },
      {
        "duration": 2417,
        "start_time": "2024-04-10T23:07:20.117Z"
      },
      {
        "duration": 78484,
        "start_time": "2024-04-10T23:09:36.422Z"
      },
      {
        "duration": 0,
        "start_time": "2024-04-10T23:10:54.909Z"
      },
      {
        "duration": 0,
        "start_time": "2024-04-10T23:10:54.911Z"
      },
      {
        "duration": 0,
        "start_time": "2024-04-10T23:10:54.912Z"
      },
      {
        "duration": 0,
        "start_time": "2024-04-10T23:10:54.914Z"
      },
      {
        "duration": 0,
        "start_time": "2024-04-10T23:10:54.915Z"
      },
      {
        "duration": 0,
        "start_time": "2024-04-10T23:10:54.916Z"
      },
      {
        "duration": 0,
        "start_time": "2024-04-10T23:10:54.918Z"
      },
      {
        "duration": 0,
        "start_time": "2024-04-10T23:10:54.919Z"
      },
      {
        "duration": 0,
        "start_time": "2024-04-10T23:10:54.921Z"
      },
      {
        "duration": 0,
        "start_time": "2024-04-10T23:10:54.922Z"
      },
      {
        "duration": 0,
        "start_time": "2024-04-10T23:10:54.923Z"
      },
      {
        "duration": 0,
        "start_time": "2024-04-10T23:10:54.925Z"
      },
      {
        "duration": 31205,
        "start_time": "2024-04-10T23:11:06.981Z"
      },
      {
        "duration": 10542,
        "start_time": "2024-04-10T23:12:00.552Z"
      },
      {
        "duration": 929,
        "start_time": "2024-04-10T23:12:16.255Z"
      },
      {
        "duration": 15,
        "start_time": "2024-04-10T23:12:18.507Z"
      },
      {
        "duration": 33,
        "start_time": "2024-04-10T23:12:19.452Z"
      },
      {
        "duration": 28,
        "start_time": "2024-04-10T23:12:20.382Z"
      },
      {
        "duration": 202,
        "start_time": "2024-04-10T23:12:21.984Z"
      },
      {
        "duration": 256,
        "start_time": "2024-04-10T23:12:24.730Z"
      },
      {
        "duration": 3,
        "start_time": "2024-04-10T23:12:25.789Z"
      },
      {
        "duration": 3096,
        "start_time": "2024-04-10T23:12:26.959Z"
      },
      {
        "duration": 3,
        "start_time": "2024-04-10T23:12:30.057Z"
      },
      {
        "duration": 4292,
        "start_time": "2024-04-10T23:12:30.062Z"
      },
      {
        "duration": 8,
        "start_time": "2024-04-10T23:12:34.356Z"
      },
      {
        "duration": 47,
        "start_time": "2024-04-10T23:12:39.766Z"
      },
      {
        "duration": 3463,
        "start_time": "2024-04-10T23:12:40.954Z"
      },
      {
        "duration": 28227,
        "start_time": "2024-04-10T23:13:53.134Z"
      },
      {
        "duration": 14699,
        "start_time": "2024-04-11T08:49:48.489Z"
      },
      {
        "duration": 3156,
        "start_time": "2024-04-11T08:50:03.190Z"
      },
      {
        "duration": 13,
        "start_time": "2024-04-11T08:50:06.348Z"
      },
      {
        "duration": 52,
        "start_time": "2024-04-11T08:50:06.363Z"
      },
      {
        "duration": 31,
        "start_time": "2024-04-11T08:50:06.417Z"
      },
      {
        "duration": 125,
        "start_time": "2024-04-11T08:50:06.449Z"
      },
      {
        "duration": 243,
        "start_time": "2024-04-11T08:50:06.575Z"
      },
      {
        "duration": 3,
        "start_time": "2024-04-11T08:50:06.820Z"
      },
      {
        "duration": 2770,
        "start_time": "2024-04-11T08:50:06.825Z"
      },
      {
        "duration": 4,
        "start_time": "2024-04-11T08:50:09.597Z"
      },
      {
        "duration": 3758,
        "start_time": "2024-04-11T08:50:09.609Z"
      },
      {
        "duration": 9,
        "start_time": "2024-04-11T08:50:13.369Z"
      },
      {
        "duration": 75,
        "start_time": "2024-04-11T08:50:13.379Z"
      },
      {
        "duration": 3279,
        "start_time": "2024-04-11T08:50:13.456Z"
      },
      {
        "duration": 25935,
        "start_time": "2024-04-11T08:50:16.737Z"
      },
      {
        "duration": 9,
        "start_time": "2024-04-11T08:51:04.176Z"
      },
      {
        "duration": 58,
        "start_time": "2024-04-11T08:52:42.393Z"
      },
      {
        "duration": 3,
        "start_time": "2024-04-11T08:59:25.480Z"
      },
      {
        "duration": 6,
        "start_time": "2024-04-11T08:59:42.642Z"
      },
      {
        "duration": 8,
        "start_time": "2024-04-11T09:00:06.455Z"
      },
      {
        "duration": 4,
        "start_time": "2024-04-11T09:01:52.994Z"
      },
      {
        "duration": 148,
        "start_time": "2024-04-11T09:01:55.094Z"
      },
      {
        "duration": 3,
        "start_time": "2024-04-11T09:02:35.504Z"
      },
      {
        "duration": 4,
        "start_time": "2024-04-11T09:02:42.415Z"
      },
      {
        "duration": 53,
        "start_time": "2024-04-11T09:02:43.097Z"
      },
      {
        "duration": 114,
        "start_time": "2024-04-11T09:05:37.630Z"
      },
      {
        "duration": 107,
        "start_time": "2024-04-11T09:06:05.855Z"
      },
      {
        "duration": 157,
        "start_time": "2024-04-11T09:06:58.967Z"
      },
      {
        "duration": 1431,
        "start_time": "2024-04-11T09:15:39.896Z"
      },
      {
        "duration": 289184,
        "start_time": "2024-04-11T09:17:12.316Z"
      },
      {
        "duration": 0,
        "start_time": "2024-04-11T09:22:01.502Z"
      },
      {
        "duration": 0,
        "start_time": "2024-04-11T09:22:01.504Z"
      },
      {
        "duration": 0,
        "start_time": "2024-04-11T09:22:01.505Z"
      },
      {
        "duration": 0,
        "start_time": "2024-04-11T09:22:01.508Z"
      },
      {
        "duration": 0,
        "start_time": "2024-04-11T09:22:01.509Z"
      },
      {
        "duration": 0,
        "start_time": "2024-04-11T09:22:01.510Z"
      },
      {
        "duration": 0,
        "start_time": "2024-04-11T09:22:01.511Z"
      },
      {
        "duration": 0,
        "start_time": "2024-04-11T09:22:01.512Z"
      },
      {
        "duration": 0,
        "start_time": "2024-04-11T09:22:01.513Z"
      },
      {
        "duration": 0,
        "start_time": "2024-04-11T09:22:01.514Z"
      },
      {
        "duration": 0,
        "start_time": "2024-04-11T09:22:01.515Z"
      },
      {
        "duration": 0,
        "start_time": "2024-04-11T09:22:01.516Z"
      },
      {
        "duration": 0,
        "start_time": "2024-04-11T09:22:01.517Z"
      },
      {
        "duration": 0,
        "start_time": "2024-04-11T09:22:01.519Z"
      },
      {
        "duration": 0,
        "start_time": "2024-04-11T09:22:01.520Z"
      },
      {
        "duration": 0,
        "start_time": "2024-04-11T09:22:01.521Z"
      },
      {
        "duration": 0,
        "start_time": "2024-04-11T09:22:01.522Z"
      },
      {
        "duration": 0,
        "start_time": "2024-04-11T09:22:01.523Z"
      },
      {
        "duration": 0,
        "start_time": "2024-04-11T09:22:01.524Z"
      },
      {
        "duration": 0,
        "start_time": "2024-04-11T09:22:01.525Z"
      },
      {
        "duration": 0,
        "start_time": "2024-04-11T09:22:01.526Z"
      },
      {
        "duration": 10016,
        "start_time": "2024-04-11T09:22:15.016Z"
      },
      {
        "duration": 3,
        "start_time": "2024-04-11T09:22:25.034Z"
      },
      {
        "duration": 3200,
        "start_time": "2024-04-11T09:22:25.039Z"
      },
      {
        "duration": 12,
        "start_time": "2024-04-11T09:22:28.241Z"
      },
      {
        "duration": 34,
        "start_time": "2024-04-11T09:22:28.254Z"
      },
      {
        "duration": 100,
        "start_time": "2024-04-11T09:22:28.290Z"
      },
      {
        "duration": 153,
        "start_time": "2024-04-11T09:22:28.391Z"
      },
      {
        "duration": 233,
        "start_time": "2024-04-11T09:22:28.546Z"
      },
      {
        "duration": 4,
        "start_time": "2024-04-11T09:22:28.781Z"
      },
      {
        "duration": 2836,
        "start_time": "2024-04-11T09:22:28.788Z"
      },
      {
        "duration": 4,
        "start_time": "2024-04-11T09:22:31.625Z"
      },
      {
        "duration": 3947,
        "start_time": "2024-04-11T09:22:31.630Z"
      },
      {
        "duration": 8,
        "start_time": "2024-04-11T09:22:35.579Z"
      },
      {
        "duration": 66,
        "start_time": "2024-04-11T09:22:35.588Z"
      },
      {
        "duration": 3151,
        "start_time": "2024-04-11T09:22:35.656Z"
      },
      {
        "duration": 25862,
        "start_time": "2024-04-11T09:22:38.809Z"
      },
      {
        "duration": 9,
        "start_time": "2024-04-11T09:23:04.672Z"
      },
      {
        "duration": 96,
        "start_time": "2024-04-11T09:23:04.683Z"
      },
      {
        "duration": 8,
        "start_time": "2024-04-11T09:23:04.782Z"
      },
      {
        "duration": 63,
        "start_time": "2024-04-11T09:23:04.791Z"
      },
      {
        "duration": 76,
        "start_time": "2024-04-11T09:23:04.856Z"
      },
      {
        "duration": 175,
        "start_time": "2024-04-11T09:23:04.934Z"
      },
      {
        "duration": 3,
        "start_time": "2024-04-11T09:33:54.037Z"
      },
      {
        "duration": 3,
        "start_time": "2024-04-11T09:47:16.136Z"
      },
      {
        "duration": 7228,
        "start_time": "2024-04-11T09:48:49.359Z"
      },
      {
        "duration": 3,
        "start_time": "2024-04-11T09:50:04.183Z"
      },
      {
        "duration": 2,
        "start_time": "2024-04-11T09:50:24.379Z"
      },
      {
        "duration": 54209,
        "start_time": "2024-04-11T09:55:02.119Z"
      },
      {
        "duration": 140399,
        "start_time": "2024-04-11T09:59:18.431Z"
      },
      {
        "duration": 7477,
        "start_time": "2024-04-11T10:02:46.306Z"
      },
      {
        "duration": 3,
        "start_time": "2024-04-11T10:03:46.776Z"
      },
      {
        "duration": 144108,
        "start_time": "2024-04-11T10:03:47.809Z"
      },
      {
        "duration": 3,
        "start_time": "2024-04-11T10:14:13.948Z"
      },
      {
        "duration": 84790,
        "start_time": "2024-04-11T10:14:14.853Z"
      },
      {
        "duration": 2,
        "start_time": "2024-04-11T10:15:42.186Z"
      },
      {
        "duration": 104855,
        "start_time": "2024-04-11T10:15:43.098Z"
      },
      {
        "duration": 9570,
        "start_time": "2024-04-11T10:18:20.858Z"
      },
      {
        "duration": 896,
        "start_time": "2024-04-11T10:18:30.430Z"
      },
      {
        "duration": 13,
        "start_time": "2024-04-11T10:18:31.328Z"
      },
      {
        "duration": 87,
        "start_time": "2024-04-11T10:18:31.343Z"
      },
      {
        "duration": 86,
        "start_time": "2024-04-11T10:18:31.432Z"
      },
      {
        "duration": 430,
        "start_time": "2024-04-11T10:18:31.520Z"
      },
      {
        "duration": 250,
        "start_time": "2024-04-11T10:18:31.952Z"
      },
      {
        "duration": 4,
        "start_time": "2024-04-11T10:18:32.205Z"
      },
      {
        "duration": 2814,
        "start_time": "2024-04-11T10:18:32.210Z"
      },
      {
        "duration": 2,
        "start_time": "2024-04-11T10:18:35.027Z"
      },
      {
        "duration": 3713,
        "start_time": "2024-04-11T10:18:35.030Z"
      },
      {
        "duration": 8,
        "start_time": "2024-04-11T10:18:38.744Z"
      },
      {
        "duration": 69,
        "start_time": "2024-04-11T10:18:38.753Z"
      },
      {
        "duration": 3063,
        "start_time": "2024-04-11T10:18:38.824Z"
      },
      {
        "duration": 25393,
        "start_time": "2024-04-11T10:18:41.888Z"
      },
      {
        "duration": 27,
        "start_time": "2024-04-11T10:19:07.282Z"
      },
      {
        "duration": 48,
        "start_time": "2024-04-11T10:19:07.310Z"
      },
      {
        "duration": 6,
        "start_time": "2024-04-11T10:19:07.359Z"
      },
      {
        "duration": 4,
        "start_time": "2024-04-11T10:19:07.367Z"
      },
      {
        "duration": 64,
        "start_time": "2024-04-11T10:19:07.373Z"
      },
      {
        "duration": 160,
        "start_time": "2024-04-11T10:19:07.439Z"
      },
      {
        "duration": 3,
        "start_time": "2024-04-11T10:19:07.601Z"
      },
      {
        "duration": 7444,
        "start_time": "2024-04-11T10:19:07.609Z"
      },
      {
        "duration": 2,
        "start_time": "2024-04-11T10:19:57.006Z"
      },
      {
        "duration": 170348,
        "start_time": "2024-04-11T10:19:58.047Z"
      },
      {
        "duration": 3,
        "start_time": "2024-04-11T10:22:53.906Z"
      },
      {
        "duration": 570693,
        "start_time": "2024-04-11T10:22:54.722Z"
      },
      {
        "duration": 2,
        "start_time": "2024-04-11T10:32:27.969Z"
      },
      {
        "duration": 106980,
        "start_time": "2024-04-11T10:32:29.137Z"
      },
      {
        "duration": 3,
        "start_time": "2024-04-11T10:36:52.394Z"
      },
      {
        "duration": 3,
        "start_time": "2024-04-11T10:36:59.533Z"
      },
      {
        "duration": 163724,
        "start_time": "2024-04-11T10:37:00.506Z"
      },
      {
        "duration": 3,
        "start_time": "2024-04-11T10:39:49.623Z"
      },
      {
        "duration": 316881,
        "start_time": "2024-04-11T10:39:50.343Z"
      },
      {
        "duration": 3,
        "start_time": "2024-04-11T10:45:12.054Z"
      },
      {
        "duration": 3,
        "start_time": "2024-04-11T10:45:38.736Z"
      },
      {
        "duration": 324285,
        "start_time": "2024-04-11T10:45:39.649Z"
      },
      {
        "duration": 99,
        "start_time": "2024-04-11T10:54:37.087Z"
      },
      {
        "duration": 107532,
        "start_time": "2024-04-11T10:55:24.734Z"
      },
      {
        "duration": 42,
        "start_time": "2024-04-11T10:57:12.268Z"
      },
      {
        "duration": 17404,
        "start_time": "2024-04-11T10:59:39.222Z"
      },
      {
        "duration": 10517,
        "start_time": "2024-04-11T11:00:17.170Z"
      },
      {
        "duration": 3106,
        "start_time": "2024-04-11T11:00:27.689Z"
      },
      {
        "duration": 12,
        "start_time": "2024-04-11T11:00:30.796Z"
      },
      {
        "duration": 139,
        "start_time": "2024-04-11T11:00:30.810Z"
      },
      {
        "duration": 224,
        "start_time": "2024-04-11T11:00:30.951Z"
      },
      {
        "duration": 332,
        "start_time": "2024-04-11T11:00:31.176Z"
      },
      {
        "duration": 244,
        "start_time": "2024-04-11T11:00:31.509Z"
      },
      {
        "duration": 3,
        "start_time": "2024-04-11T11:00:31.755Z"
      },
      {
        "duration": 2802,
        "start_time": "2024-04-11T11:00:31.759Z"
      },
      {
        "duration": 3,
        "start_time": "2024-04-11T11:00:34.563Z"
      },
      {
        "duration": 3671,
        "start_time": "2024-04-11T11:00:34.568Z"
      },
      {
        "duration": 8,
        "start_time": "2024-04-11T11:00:38.241Z"
      },
      {
        "duration": 56,
        "start_time": "2024-04-11T11:00:38.250Z"
      },
      {
        "duration": 3131,
        "start_time": "2024-04-11T11:00:38.308Z"
      },
      {
        "duration": 25219,
        "start_time": "2024-04-11T11:00:41.440Z"
      },
      {
        "duration": 10,
        "start_time": "2024-04-11T11:01:06.660Z"
      },
      {
        "duration": 72,
        "start_time": "2024-04-11T11:01:06.671Z"
      },
      {
        "duration": 7,
        "start_time": "2024-04-11T11:01:06.744Z"
      },
      {
        "duration": 13,
        "start_time": "2024-04-11T11:01:06.753Z"
      },
      {
        "duration": 49,
        "start_time": "2024-04-11T11:01:06.767Z"
      },
      {
        "duration": 167,
        "start_time": "2024-04-11T11:01:06.818Z"
      },
      {
        "duration": 46,
        "start_time": "2024-04-11T11:01:52.944Z"
      },
      {
        "duration": 10609,
        "start_time": "2024-04-11T11:01:58.365Z"
      },
      {
        "duration": 3109,
        "start_time": "2024-04-11T11:02:08.976Z"
      },
      {
        "duration": 10,
        "start_time": "2024-04-11T11:02:12.087Z"
      },
      {
        "duration": 30,
        "start_time": "2024-04-11T11:02:12.099Z"
      },
      {
        "duration": 26,
        "start_time": "2024-04-11T11:02:12.130Z"
      },
      {
        "duration": 210,
        "start_time": "2024-04-11T11:02:12.157Z"
      },
      {
        "duration": 236,
        "start_time": "2024-04-11T11:02:12.369Z"
      },
      {
        "duration": 3,
        "start_time": "2024-04-11T11:02:12.607Z"
      },
      {
        "duration": 2726,
        "start_time": "2024-04-11T11:02:12.611Z"
      },
      {
        "duration": 3,
        "start_time": "2024-04-11T11:02:15.340Z"
      },
      {
        "duration": 3696,
        "start_time": "2024-04-11T11:02:15.344Z"
      },
      {
        "duration": 8,
        "start_time": "2024-04-11T11:02:19.042Z"
      },
      {
        "duration": 58,
        "start_time": "2024-04-11T11:02:19.052Z"
      },
      {
        "duration": 3103,
        "start_time": "2024-04-11T11:02:19.112Z"
      },
      {
        "duration": 25018,
        "start_time": "2024-04-11T11:02:22.217Z"
      },
      {
        "duration": 9,
        "start_time": "2024-04-11T11:02:47.237Z"
      },
      {
        "duration": 62,
        "start_time": "2024-04-11T11:02:47.247Z"
      },
      {
        "duration": 7,
        "start_time": "2024-04-11T11:02:47.310Z"
      },
      {
        "duration": 3,
        "start_time": "2024-04-11T11:02:47.318Z"
      },
      {
        "duration": 51,
        "start_time": "2024-04-11T11:02:47.322Z"
      },
      {
        "duration": 176,
        "start_time": "2024-04-11T11:02:47.374Z"
      },
      {
        "duration": 3,
        "start_time": "2024-04-11T11:03:07.639Z"
      },
      {
        "duration": 7111,
        "start_time": "2024-04-11T11:03:11.138Z"
      },
      {
        "duration": 2,
        "start_time": "2024-04-11T11:03:18.251Z"
      },
      {
        "duration": 988071,
        "start_time": "2024-04-11T11:03:18.255Z"
      },
      {
        "duration": 5,
        "start_time": "2024-04-11T12:27:00.269Z"
      },
      {
        "duration": 4,
        "start_time": "2024-04-11T12:27:56.129Z"
      },
      {
        "duration": 7074,
        "start_time": "2024-04-11T12:28:12.282Z"
      },
      {
        "duration": 3,
        "start_time": "2024-04-11T12:34:49.975Z"
      },
      {
        "duration": 424354,
        "start_time": "2024-04-11T12:34:51.863Z"
      },
      {
        "duration": 3,
        "start_time": "2024-04-11T12:41:56.219Z"
      },
      {
        "duration": 419902,
        "start_time": "2024-04-11T12:41:56.526Z"
      },
      {
        "duration": 3,
        "start_time": "2024-04-11T12:48:56.430Z"
      },
      {
        "duration": 18780,
        "start_time": "2024-04-11T12:49:00.533Z"
      },
      {
        "duration": 989813,
        "start_time": "2024-04-11T12:53:34.626Z"
      },
      {
        "duration": 4,
        "start_time": "2024-04-11T13:24:00.486Z"
      },
      {
        "duration": 241,
        "start_time": "2024-04-11T13:24:43.447Z"
      },
      {
        "duration": 3,
        "start_time": "2024-04-11T13:25:27.468Z"
      },
      {
        "duration": 14,
        "start_time": "2024-04-11T13:25:37.476Z"
      },
      {
        "duration": 8,
        "start_time": "2024-04-11T13:26:57.355Z"
      },
      {
        "duration": 6,
        "start_time": "2024-04-11T13:28:23.087Z"
      },
      {
        "duration": 6,
        "start_time": "2024-04-11T13:29:16.359Z"
      },
      {
        "duration": 14,
        "start_time": "2024-04-11T13:29:23.321Z"
      },
      {
        "duration": 11,
        "start_time": "2024-04-11T13:33:53.843Z"
      },
      {
        "duration": 7761,
        "start_time": "2024-04-11T13:34:03.695Z"
      },
      {
        "duration": 20734,
        "start_time": "2024-04-11T13:34:15.682Z"
      },
      {
        "duration": 390685,
        "start_time": "2024-04-11T13:34:53.334Z"
      },
      {
        "duration": 4,
        "start_time": "2024-04-11T13:47:03.378Z"
      },
      {
        "duration": 10,
        "start_time": "2024-04-11T13:47:07.936Z"
      },
      {
        "duration": 8,
        "start_time": "2024-04-11T13:47:42.299Z"
      },
      {
        "duration": 15,
        "start_time": "2024-04-11T13:49:52.605Z"
      },
      {
        "duration": 10,
        "start_time": "2024-04-11T13:50:05.818Z"
      },
      {
        "duration": 8,
        "start_time": "2024-04-11T13:50:18.960Z"
      },
      {
        "duration": 30,
        "start_time": "2024-04-11T14:15:00.995Z"
      },
      {
        "duration": 3,
        "start_time": "2024-04-11T14:15:11.519Z"
      },
      {
        "duration": 6,
        "start_time": "2024-04-11T14:54:58.189Z"
      },
      {
        "duration": 3,
        "start_time": "2024-04-11T14:59:29.300Z"
      },
      {
        "duration": 3,
        "start_time": "2024-04-11T14:59:51.531Z"
      },
      {
        "duration": 434806,
        "start_time": "2024-04-11T15:00:47.315Z"
      },
      {
        "duration": 681556,
        "start_time": "2024-04-11T15:08:45.798Z"
      },
      {
        "duration": 3,
        "start_time": "2024-04-11T15:20:31.104Z"
      },
      {
        "duration": 1667,
        "start_time": "2024-04-11T15:20:45.743Z"
      },
      {
        "duration": 392,
        "start_time": "2024-04-11T15:21:05.821Z"
      },
      {
        "duration": 16102,
        "start_time": "2024-04-11T21:24:04.383Z"
      },
      {
        "duration": 3423,
        "start_time": "2024-04-11T21:24:20.488Z"
      },
      {
        "duration": 13,
        "start_time": "2024-04-11T21:24:23.913Z"
      },
      {
        "duration": 69,
        "start_time": "2024-04-11T21:24:23.928Z"
      },
      {
        "duration": 34,
        "start_time": "2024-04-11T21:24:23.999Z"
      },
      {
        "duration": 178,
        "start_time": "2024-04-11T21:24:24.034Z"
      },
      {
        "duration": 284,
        "start_time": "2024-04-11T21:24:24.213Z"
      },
      {
        "duration": 3,
        "start_time": "2024-04-11T21:24:24.498Z"
      },
      {
        "duration": 3282,
        "start_time": "2024-04-11T21:24:24.503Z"
      },
      {
        "duration": 3,
        "start_time": "2024-04-11T21:24:27.789Z"
      },
      {
        "duration": 4565,
        "start_time": "2024-04-11T21:24:27.794Z"
      },
      {
        "duration": 9,
        "start_time": "2024-04-11T21:24:32.361Z"
      },
      {
        "duration": 57,
        "start_time": "2024-04-11T21:24:32.379Z"
      },
      {
        "duration": 3687,
        "start_time": "2024-04-11T21:24:32.438Z"
      },
      {
        "duration": 32221,
        "start_time": "2024-04-11T21:24:36.127Z"
      },
      {
        "duration": 41,
        "start_time": "2024-04-11T21:25:08.349Z"
      },
      {
        "duration": 57,
        "start_time": "2024-04-11T21:25:08.393Z"
      },
      {
        "duration": 8,
        "start_time": "2024-04-11T21:25:08.451Z"
      },
      {
        "duration": 18,
        "start_time": "2024-04-11T21:25:08.461Z"
      },
      {
        "duration": 61,
        "start_time": "2024-04-11T21:25:08.480Z"
      },
      {
        "duration": 219,
        "start_time": "2024-04-11T21:25:08.544Z"
      },
      {
        "duration": 14,
        "start_time": "2024-04-11T21:25:08.765Z"
      },
      {
        "duration": 9237,
        "start_time": "2024-04-11T21:25:08.781Z"
      },
      {
        "duration": 3,
        "start_time": "2024-04-11T21:25:18.020Z"
      },
      {
        "duration": 481372,
        "start_time": "2024-04-11T21:25:18.025Z"
      },
      {
        "duration": 4,
        "start_time": "2024-04-11T21:33:19.399Z"
      },
      {
        "duration": 23662,
        "start_time": "2024-04-11T21:33:19.405Z"
      },
      {
        "duration": 1104342,
        "start_time": "2024-04-11T21:33:43.070Z"
      },
      {
        "duration": 4,
        "start_time": "2024-04-11T21:52:07.414Z"
      },
      {
        "duration": 9637,
        "start_time": "2024-04-11T21:52:07.420Z"
      },
      {
        "duration": 360325,
        "start_time": "2024-04-11T21:52:17.058Z"
      },
      {
        "duration": 4,
        "start_time": "2024-04-11T21:58:17.385Z"
      },
      {
        "duration": 29,
        "start_time": "2024-04-11T21:58:17.390Z"
      },
      {
        "duration": 20,
        "start_time": "2024-04-11T21:58:17.421Z"
      },
      {
        "duration": 7,
        "start_time": "2024-04-11T21:58:17.443Z"
      },
      {
        "duration": 13,
        "start_time": "2024-04-11T21:58:17.451Z"
      },
      {
        "duration": 5,
        "start_time": "2024-04-11T21:58:17.465Z"
      },
      {
        "duration": 1487045,
        "start_time": "2024-04-11T21:58:17.471Z"
      },
      {
        "duration": 4,
        "start_time": "2024-04-11T22:23:04.518Z"
      },
      {
        "duration": 4,
        "start_time": "2024-04-11T22:23:35.585Z"
      },
      {
        "duration": 2169,
        "start_time": "2024-04-11T22:23:47.484Z"
      },
      {
        "duration": 494,
        "start_time": "2024-04-11T22:23:53.439Z"
      },
      {
        "duration": 12519,
        "start_time": "2024-04-11T22:27:38.606Z"
      },
      {
        "duration": 1033,
        "start_time": "2024-04-11T22:27:51.127Z"
      },
      {
        "duration": 30,
        "start_time": "2024-04-11T22:27:52.162Z"
      },
      {
        "duration": 36,
        "start_time": "2024-04-11T22:27:52.195Z"
      },
      {
        "duration": 36,
        "start_time": "2024-04-11T22:27:52.233Z"
      },
      {
        "duration": 147,
        "start_time": "2024-04-11T22:27:52.271Z"
      },
      {
        "duration": 290,
        "start_time": "2024-04-11T22:27:52.420Z"
      },
      {
        "duration": 3,
        "start_time": "2024-04-11T22:27:52.712Z"
      },
      {
        "duration": 3410,
        "start_time": "2024-04-11T22:27:52.717Z"
      },
      {
        "duration": 4,
        "start_time": "2024-04-11T22:27:56.131Z"
      },
      {
        "duration": 4734,
        "start_time": "2024-04-11T22:27:56.137Z"
      },
      {
        "duration": 17,
        "start_time": "2024-04-11T22:28:00.873Z"
      },
      {
        "duration": 118,
        "start_time": "2024-04-11T22:28:00.892Z"
      },
      {
        "duration": 3893,
        "start_time": "2024-04-11T22:28:01.012Z"
      },
      {
        "duration": 31957,
        "start_time": "2024-04-11T22:28:04.907Z"
      },
      {
        "duration": 22,
        "start_time": "2024-04-11T22:28:36.874Z"
      },
      {
        "duration": 68,
        "start_time": "2024-04-11T22:28:36.899Z"
      },
      {
        "duration": 16,
        "start_time": "2024-04-11T22:28:36.969Z"
      },
      {
        "duration": 5,
        "start_time": "2024-04-11T22:28:36.987Z"
      },
      {
        "duration": 82,
        "start_time": "2024-04-11T22:28:36.995Z"
      },
      {
        "duration": 242,
        "start_time": "2024-04-11T22:28:37.078Z"
      },
      {
        "duration": 3,
        "start_time": "2024-04-11T22:28:37.322Z"
      },
      {
        "duration": 9282,
        "start_time": "2024-04-11T22:28:37.326Z"
      },
      {
        "duration": 3,
        "start_time": "2024-04-11T22:28:46.609Z"
      },
      {
        "duration": 447191,
        "start_time": "2024-04-11T22:28:46.614Z"
      },
      {
        "duration": 14,
        "start_time": "2024-04-11T22:36:13.874Z"
      },
      {
        "duration": 23001,
        "start_time": "2024-04-11T22:36:13.890Z"
      },
      {
        "duration": 982724,
        "start_time": "2024-04-11T22:36:36.895Z"
      },
      {
        "duration": 4,
        "start_time": "2024-04-11T22:52:59.621Z"
      },
      {
        "duration": 9496,
        "start_time": "2024-04-11T22:52:59.626Z"
      },
      {
        "duration": 359064,
        "start_time": "2024-04-11T22:53:09.124Z"
      },
      {
        "duration": 4,
        "start_time": "2024-04-11T22:59:08.192Z"
      },
      {
        "duration": 20,
        "start_time": "2024-04-11T22:59:08.197Z"
      },
      {
        "duration": 5,
        "start_time": "2024-04-11T22:59:08.218Z"
      },
      {
        "duration": 5,
        "start_time": "2024-04-11T22:59:08.224Z"
      },
      {
        "duration": 16,
        "start_time": "2024-04-11T22:59:08.230Z"
      },
      {
        "duration": 5,
        "start_time": "2024-04-11T22:59:08.247Z"
      },
      {
        "duration": 634521,
        "start_time": "2024-04-11T22:59:08.253Z"
      },
      {
        "duration": 7,
        "start_time": "2024-04-11T23:09:42.776Z"
      },
      {
        "duration": 1896,
        "start_time": "2024-04-11T23:09:42.784Z"
      },
      {
        "duration": 508,
        "start_time": "2024-04-11T23:09:44.682Z"
      },
      {
        "duration": 5,
        "start_time": "2024-04-11T23:11:11.243Z"
      },
      {
        "duration": 3,
        "start_time": "2024-04-11T23:11:22.369Z"
      },
      {
        "duration": 3,
        "start_time": "2024-04-11T23:11:23.915Z"
      },
      {
        "duration": 13091,
        "start_time": "2024-04-12T00:04:36.145Z"
      },
      {
        "duration": 995,
        "start_time": "2024-04-12T00:04:49.238Z"
      },
      {
        "duration": 12,
        "start_time": "2024-04-12T00:04:50.235Z"
      },
      {
        "duration": 66,
        "start_time": "2024-04-12T00:04:50.249Z"
      },
      {
        "duration": 38,
        "start_time": "2024-04-12T00:04:50.317Z"
      },
      {
        "duration": 189,
        "start_time": "2024-04-12T00:04:50.356Z"
      },
      {
        "duration": 276,
        "start_time": "2024-04-12T00:04:50.547Z"
      },
      {
        "duration": 3,
        "start_time": "2024-04-12T00:04:50.825Z"
      },
      {
        "duration": 3367,
        "start_time": "2024-04-12T00:04:50.829Z"
      },
      {
        "duration": 3,
        "start_time": "2024-04-12T00:04:54.202Z"
      },
      {
        "duration": 4548,
        "start_time": "2024-04-12T00:04:54.207Z"
      },
      {
        "duration": 9,
        "start_time": "2024-04-12T00:04:58.756Z"
      },
      {
        "duration": 57,
        "start_time": "2024-04-12T00:04:58.766Z"
      },
      {
        "duration": 3704,
        "start_time": "2024-04-12T00:04:58.825Z"
      },
      {
        "duration": 30990,
        "start_time": "2024-04-12T00:05:02.531Z"
      },
      {
        "duration": 16,
        "start_time": "2024-04-12T00:05:33.523Z"
      },
      {
        "duration": 84,
        "start_time": "2024-04-12T00:05:33.541Z"
      },
      {
        "duration": 10,
        "start_time": "2024-04-12T00:05:33.627Z"
      },
      {
        "duration": 4,
        "start_time": "2024-04-12T00:05:33.639Z"
      },
      {
        "duration": 84,
        "start_time": "2024-04-12T00:05:33.645Z"
      },
      {
        "duration": 212,
        "start_time": "2024-04-12T00:05:33.730Z"
      },
      {
        "duration": 4,
        "start_time": "2024-04-12T00:05:33.944Z"
      },
      {
        "duration": 8953,
        "start_time": "2024-04-12T00:05:33.950Z"
      },
      {
        "duration": 3,
        "start_time": "2024-04-12T00:05:42.904Z"
      },
      {
        "duration": 448576,
        "start_time": "2024-04-12T00:05:42.909Z"
      },
      {
        "duration": 3,
        "start_time": "2024-04-12T00:13:11.489Z"
      },
      {
        "duration": 22951,
        "start_time": "2024-04-12T00:13:11.494Z"
      },
      {
        "duration": 1067367,
        "start_time": "2024-04-12T00:13:34.448Z"
      },
      {
        "duration": 4,
        "start_time": "2024-04-12T00:31:21.816Z"
      },
      {
        "duration": 9403,
        "start_time": "2024-04-12T00:31:21.821Z"
      },
      {
        "duration": 358559,
        "start_time": "2024-04-12T00:31:31.226Z"
      },
      {
        "duration": 4,
        "start_time": "2024-04-12T00:37:29.786Z"
      },
      {
        "duration": 37,
        "start_time": "2024-04-12T00:37:29.791Z"
      },
      {
        "duration": 20,
        "start_time": "2024-04-12T00:37:29.829Z"
      },
      {
        "duration": 31,
        "start_time": "2024-04-12T00:37:29.851Z"
      },
      {
        "duration": 38,
        "start_time": "2024-04-12T00:37:29.884Z"
      },
      {
        "duration": 21,
        "start_time": "2024-04-12T00:37:29.923Z"
      },
      {
        "duration": 72703,
        "start_time": "2024-04-12T05:35:12.454Z"
      },
      {
        "duration": 0,
        "start_time": "2024-04-12T05:36:25.162Z"
      },
      {
        "duration": 0,
        "start_time": "2024-04-12T05:36:25.164Z"
      },
      {
        "duration": 0,
        "start_time": "2024-04-12T05:36:25.165Z"
      },
      {
        "duration": 0,
        "start_time": "2024-04-12T05:36:25.167Z"
      },
      {
        "duration": 0,
        "start_time": "2024-04-12T05:36:25.169Z"
      },
      {
        "duration": 0,
        "start_time": "2024-04-12T05:36:25.171Z"
      },
      {
        "duration": 0,
        "start_time": "2024-04-12T05:36:25.172Z"
      },
      {
        "duration": 0,
        "start_time": "2024-04-12T05:36:25.174Z"
      },
      {
        "duration": 0,
        "start_time": "2024-04-12T05:36:25.176Z"
      },
      {
        "duration": 0,
        "start_time": "2024-04-12T05:36:25.178Z"
      },
      {
        "duration": 0,
        "start_time": "2024-04-12T05:36:25.179Z"
      },
      {
        "duration": 0,
        "start_time": "2024-04-12T05:36:25.181Z"
      },
      {
        "duration": 0,
        "start_time": "2024-04-12T05:36:25.183Z"
      },
      {
        "duration": 0,
        "start_time": "2024-04-12T05:36:25.185Z"
      },
      {
        "duration": 0,
        "start_time": "2024-04-12T05:36:25.216Z"
      },
      {
        "duration": 0,
        "start_time": "2024-04-12T05:36:25.217Z"
      },
      {
        "duration": 0,
        "start_time": "2024-04-12T05:36:25.219Z"
      },
      {
        "duration": 0,
        "start_time": "2024-04-12T05:36:25.221Z"
      },
      {
        "duration": 0,
        "start_time": "2024-04-12T05:36:25.222Z"
      },
      {
        "duration": 0,
        "start_time": "2024-04-12T05:36:25.224Z"
      },
      {
        "duration": 0,
        "start_time": "2024-04-12T05:36:25.225Z"
      },
      {
        "duration": 0,
        "start_time": "2024-04-12T05:36:25.226Z"
      },
      {
        "duration": 0,
        "start_time": "2024-04-12T05:36:25.228Z"
      },
      {
        "duration": 0,
        "start_time": "2024-04-12T05:36:25.230Z"
      },
      {
        "duration": 0,
        "start_time": "2024-04-12T05:36:25.231Z"
      },
      {
        "duration": 0,
        "start_time": "2024-04-12T05:36:25.233Z"
      },
      {
        "duration": 0,
        "start_time": "2024-04-12T05:36:25.234Z"
      },
      {
        "duration": 0,
        "start_time": "2024-04-12T05:36:25.235Z"
      },
      {
        "duration": 0,
        "start_time": "2024-04-12T05:36:25.236Z"
      },
      {
        "duration": 0,
        "start_time": "2024-04-12T05:36:25.238Z"
      },
      {
        "duration": 0,
        "start_time": "2024-04-12T05:36:25.239Z"
      },
      {
        "duration": 0,
        "start_time": "2024-04-12T05:36:25.240Z"
      },
      {
        "duration": 0,
        "start_time": "2024-04-12T05:36:25.242Z"
      },
      {
        "duration": 0,
        "start_time": "2024-04-12T05:36:25.243Z"
      },
      {
        "duration": 0,
        "start_time": "2024-04-12T05:36:25.244Z"
      },
      {
        "duration": 0,
        "start_time": "2024-04-12T05:36:25.246Z"
      },
      {
        "duration": 0,
        "start_time": "2024-04-12T05:36:25.247Z"
      },
      {
        "duration": 0,
        "start_time": "2024-04-12T05:36:25.248Z"
      },
      {
        "duration": 0,
        "start_time": "2024-04-12T05:36:25.249Z"
      },
      {
        "duration": 0,
        "start_time": "2024-04-12T05:36:25.250Z"
      },
      {
        "duration": 10704,
        "start_time": "2024-04-12T05:36:38.122Z"
      },
      {
        "duration": 2407,
        "start_time": "2024-04-12T05:36:54.542Z"
      },
      {
        "duration": 13,
        "start_time": "2024-04-12T05:36:59.319Z"
      },
      {
        "duration": 33,
        "start_time": "2024-04-12T05:37:00.935Z"
      },
      {
        "duration": 28,
        "start_time": "2024-04-12T05:37:02.715Z"
      },
      {
        "duration": 137,
        "start_time": "2024-04-12T05:37:05.686Z"
      },
      {
        "duration": 251,
        "start_time": "2024-04-12T05:37:10.140Z"
      },
      {
        "duration": 3,
        "start_time": "2024-04-12T05:37:11.230Z"
      },
      {
        "duration": 3154,
        "start_time": "2024-04-12T05:37:12.935Z"
      },
      {
        "duration": 4,
        "start_time": "2024-04-12T05:37:17.230Z"
      },
      {
        "duration": 4244,
        "start_time": "2024-04-12T05:37:18.440Z"
      },
      {
        "duration": 9,
        "start_time": "2024-04-12T05:37:24.320Z"
      },
      {
        "duration": 51,
        "start_time": "2024-04-12T05:37:25.745Z"
      },
      {
        "duration": 3572,
        "start_time": "2024-04-12T05:37:27.164Z"
      },
      {
        "duration": 28778,
        "start_time": "2024-04-12T05:37:36.841Z"
      },
      {
        "duration": 10,
        "start_time": "2024-04-12T05:38:13.226Z"
      },
      {
        "duration": 55,
        "start_time": "2024-04-12T05:38:16.589Z"
      },
      {
        "duration": 9,
        "start_time": "2024-04-12T05:38:17.780Z"
      },
      {
        "duration": 4,
        "start_time": "2024-04-12T05:38:19.424Z"
      },
      {
        "duration": 52,
        "start_time": "2024-04-12T05:38:20.883Z"
      },
      {
        "duration": 176,
        "start_time": "2024-04-12T05:38:22.036Z"
      },
      {
        "duration": 3,
        "start_time": "2024-04-12T05:38:28.557Z"
      },
      {
        "duration": 8505,
        "start_time": "2024-04-12T05:38:33.987Z"
      },
      {
        "duration": 4,
        "start_time": "2024-04-12T05:38:44.749Z"
      },
      {
        "duration": 501333,
        "start_time": "2024-04-12T05:38:46.328Z"
      },
      {
        "duration": 5,
        "start_time": "2024-04-12T05:47:13.714Z"
      },
      {
        "duration": 21804,
        "start_time": "2024-04-12T05:47:17.101Z"
      },
      {
        "duration": 1062662,
        "start_time": "2024-04-12T05:47:42.890Z"
      },
      {
        "duration": 4,
        "start_time": "2024-04-12T06:06:03.494Z"
      },
      {
        "duration": 8643,
        "start_time": "2024-04-12T06:06:07.306Z"
      },
      {
        "duration": 403623,
        "start_time": "2024-04-12T06:06:18.612Z"
      },
      {
        "duration": 3,
        "start_time": "2024-04-12T06:15:17.801Z"
      },
      {
        "duration": 14,
        "start_time": "2024-04-12T06:15:19.611Z"
      },
      {
        "duration": 3,
        "start_time": "2024-04-12T06:15:24.396Z"
      },
      {
        "duration": 6,
        "start_time": "2024-04-12T06:15:26.431Z"
      },
      {
        "duration": 3,
        "start_time": "2024-04-12T06:15:27.245Z"
      },
      {
        "duration": 3,
        "start_time": "2024-04-12T06:15:28.191Z"
      },
      {
        "duration": 2855521,
        "start_time": "2024-04-12T06:15:29.104Z"
      },
      {
        "duration": 9117,
        "start_time": "2024-04-12T07:22:49.259Z"
      },
      {
        "duration": 958,
        "start_time": "2024-04-12T07:22:58.378Z"
      },
      {
        "duration": 12,
        "start_time": "2024-04-12T07:22:59.337Z"
      },
      {
        "duration": 32,
        "start_time": "2024-04-12T07:22:59.352Z"
      },
      {
        "duration": 48,
        "start_time": "2024-04-12T07:22:59.385Z"
      },
      {
        "duration": 145,
        "start_time": "2024-04-12T07:22:59.435Z"
      },
      {
        "duration": 245,
        "start_time": "2024-04-12T07:22:59.581Z"
      },
      {
        "duration": 3,
        "start_time": "2024-04-12T07:22:59.828Z"
      },
      {
        "duration": 1822,
        "start_time": "2024-04-12T07:22:59.833Z"
      },
      {
        "duration": 3,
        "start_time": "2024-04-12T07:23:01.658Z"
      },
      {
        "duration": 4313,
        "start_time": "2024-04-12T07:23:01.663Z"
      },
      {
        "duration": 10,
        "start_time": "2024-04-12T07:23:05.978Z"
      },
      {
        "duration": 64,
        "start_time": "2024-04-12T07:23:05.990Z"
      },
      {
        "duration": 780,
        "start_time": "2024-04-12T07:23:06.056Z"
      },
      {
        "duration": 0,
        "start_time": "2024-04-12T07:23:06.838Z"
      },
      {
        "duration": 0,
        "start_time": "2024-04-12T07:23:06.839Z"
      },
      {
        "duration": 0,
        "start_time": "2024-04-12T07:23:06.840Z"
      },
      {
        "duration": 0,
        "start_time": "2024-04-12T07:23:06.841Z"
      },
      {
        "duration": 0,
        "start_time": "2024-04-12T07:23:06.843Z"
      },
      {
        "duration": 0,
        "start_time": "2024-04-12T07:23:06.844Z"
      },
      {
        "duration": 0,
        "start_time": "2024-04-12T07:23:06.845Z"
      },
      {
        "duration": 0,
        "start_time": "2024-04-12T07:23:06.846Z"
      },
      {
        "duration": 0,
        "start_time": "2024-04-12T07:23:06.847Z"
      },
      {
        "duration": 0,
        "start_time": "2024-04-12T07:23:06.848Z"
      },
      {
        "duration": 0,
        "start_time": "2024-04-12T07:23:06.849Z"
      },
      {
        "duration": 0,
        "start_time": "2024-04-12T07:23:06.850Z"
      },
      {
        "duration": 0,
        "start_time": "2024-04-12T07:23:06.852Z"
      },
      {
        "duration": 0,
        "start_time": "2024-04-12T07:23:06.853Z"
      },
      {
        "duration": 0,
        "start_time": "2024-04-12T07:23:06.854Z"
      },
      {
        "duration": 0,
        "start_time": "2024-04-12T07:23:06.856Z"
      },
      {
        "duration": 0,
        "start_time": "2024-04-12T07:23:06.857Z"
      },
      {
        "duration": 0,
        "start_time": "2024-04-12T07:23:06.858Z"
      },
      {
        "duration": 0,
        "start_time": "2024-04-12T07:23:06.859Z"
      },
      {
        "duration": 0,
        "start_time": "2024-04-12T07:23:06.860Z"
      },
      {
        "duration": 0,
        "start_time": "2024-04-12T07:23:06.861Z"
      },
      {
        "duration": 0,
        "start_time": "2024-04-12T07:23:06.862Z"
      },
      {
        "duration": 0,
        "start_time": "2024-04-12T07:23:06.864Z"
      },
      {
        "duration": 0,
        "start_time": "2024-04-12T07:23:06.914Z"
      },
      {
        "duration": 0,
        "start_time": "2024-04-12T07:23:06.916Z"
      },
      {
        "duration": 0,
        "start_time": "2024-04-12T07:23:06.918Z"
      },
      {
        "duration": 0,
        "start_time": "2024-04-12T07:23:06.920Z"
      },
      {
        "duration": 11706,
        "start_time": "2024-04-12T07:23:24.055Z"
      },
      {
        "duration": 953,
        "start_time": "2024-04-12T07:23:35.763Z"
      },
      {
        "duration": 14,
        "start_time": "2024-04-12T07:23:36.718Z"
      },
      {
        "duration": 40,
        "start_time": "2024-04-12T07:23:36.736Z"
      },
      {
        "duration": 45,
        "start_time": "2024-04-12T07:23:36.777Z"
      },
      {
        "duration": 146,
        "start_time": "2024-04-12T07:23:36.824Z"
      },
      {
        "duration": 270,
        "start_time": "2024-04-12T07:23:36.972Z"
      },
      {
        "duration": 4,
        "start_time": "2024-04-12T07:23:37.244Z"
      },
      {
        "duration": 3037,
        "start_time": "2024-04-12T07:23:37.250Z"
      },
      {
        "duration": 3,
        "start_time": "2024-04-12T07:23:40.290Z"
      },
      {
        "duration": 4264,
        "start_time": "2024-04-12T07:23:40.295Z"
      },
      {
        "duration": 9,
        "start_time": "2024-04-12T07:23:44.561Z"
      },
      {
        "duration": 68,
        "start_time": "2024-04-12T07:23:44.572Z"
      },
      {
        "duration": 3701,
        "start_time": "2024-04-12T07:23:44.642Z"
      },
      {
        "duration": 28862,
        "start_time": "2024-04-12T07:23:48.345Z"
      },
      {
        "duration": 10,
        "start_time": "2024-04-12T07:24:17.208Z"
      },
      {
        "duration": 72,
        "start_time": "2024-04-12T07:24:17.220Z"
      },
      {
        "duration": 7,
        "start_time": "2024-04-12T07:24:17.294Z"
      },
      {
        "duration": 4,
        "start_time": "2024-04-12T07:24:17.315Z"
      },
      {
        "duration": 58,
        "start_time": "2024-04-12T07:24:17.321Z"
      },
      {
        "duration": 209,
        "start_time": "2024-04-12T07:24:17.381Z"
      },
      {
        "duration": 3,
        "start_time": "2024-04-12T07:24:17.592Z"
      },
      {
        "duration": 8327,
        "start_time": "2024-04-12T07:24:17.597Z"
      },
      {
        "duration": 3,
        "start_time": "2024-04-12T07:24:25.925Z"
      },
      {
        "duration": 504597,
        "start_time": "2024-04-12T07:24:25.930Z"
      },
      {
        "duration": 4,
        "start_time": "2024-04-12T07:32:50.528Z"
      },
      {
        "duration": 21956,
        "start_time": "2024-04-12T07:32:50.533Z"
      },
      {
        "duration": 1066158,
        "start_time": "2024-04-12T07:33:12.493Z"
      },
      {
        "duration": 4,
        "start_time": "2024-04-12T07:50:58.653Z"
      },
      {
        "duration": 8997,
        "start_time": "2024-04-12T07:50:58.659Z"
      },
      {
        "duration": 380269,
        "start_time": "2024-04-12T07:51:07.658Z"
      },
      {
        "duration": 5,
        "start_time": "2024-04-12T07:57:27.928Z"
      },
      {
        "duration": 25,
        "start_time": "2024-04-12T07:57:27.935Z"
      },
      {
        "duration": 5,
        "start_time": "2024-04-12T07:57:27.962Z"
      },
      {
        "duration": 7,
        "start_time": "2024-04-12T07:57:27.969Z"
      },
      {
        "duration": 12,
        "start_time": "2024-04-12T07:57:27.977Z"
      },
      {
        "duration": 22,
        "start_time": "2024-04-12T07:57:27.991Z"
      },
      {
        "duration": 53153,
        "start_time": "2024-04-12T08:14:35.309Z"
      },
      {
        "duration": 0,
        "start_time": "2024-04-12T08:15:28.547Z"
      },
      {
        "duration": 0,
        "start_time": "2024-04-12T08:15:28.550Z"
      },
      {
        "duration": 0,
        "start_time": "2024-04-12T08:15:28.551Z"
      },
      {
        "duration": 0,
        "start_time": "2024-04-12T08:15:28.553Z"
      },
      {
        "duration": 0,
        "start_time": "2024-04-12T08:15:28.554Z"
      },
      {
        "duration": 0,
        "start_time": "2024-04-12T08:15:28.555Z"
      },
      {
        "duration": 0,
        "start_time": "2024-04-12T08:15:28.556Z"
      },
      {
        "duration": 0,
        "start_time": "2024-04-12T08:15:28.558Z"
      },
      {
        "duration": 0,
        "start_time": "2024-04-12T08:15:28.559Z"
      },
      {
        "duration": 0,
        "start_time": "2024-04-12T08:15:28.560Z"
      },
      {
        "duration": 0,
        "start_time": "2024-04-12T08:15:28.561Z"
      },
      {
        "duration": 0,
        "start_time": "2024-04-12T08:15:28.562Z"
      },
      {
        "duration": 0,
        "start_time": "2024-04-12T08:15:28.563Z"
      },
      {
        "duration": 0,
        "start_time": "2024-04-12T08:15:28.564Z"
      },
      {
        "duration": 0,
        "start_time": "2024-04-12T08:15:28.566Z"
      },
      {
        "duration": 0,
        "start_time": "2024-04-12T08:15:28.567Z"
      },
      {
        "duration": 0,
        "start_time": "2024-04-12T08:15:28.569Z"
      },
      {
        "duration": 0,
        "start_time": "2024-04-12T08:15:28.570Z"
      },
      {
        "duration": 0,
        "start_time": "2024-04-12T08:15:28.572Z"
      },
      {
        "duration": 0,
        "start_time": "2024-04-12T08:15:28.573Z"
      },
      {
        "duration": 0,
        "start_time": "2024-04-12T08:15:28.575Z"
      },
      {
        "duration": 0,
        "start_time": "2024-04-12T08:15:28.615Z"
      },
      {
        "duration": 0,
        "start_time": "2024-04-12T08:15:28.617Z"
      },
      {
        "duration": 0,
        "start_time": "2024-04-12T08:15:28.618Z"
      },
      {
        "duration": 0,
        "start_time": "2024-04-12T08:15:28.619Z"
      },
      {
        "duration": 0,
        "start_time": "2024-04-12T08:15:28.621Z"
      },
      {
        "duration": 0,
        "start_time": "2024-04-12T08:15:28.623Z"
      },
      {
        "duration": 0,
        "start_time": "2024-04-12T08:15:28.624Z"
      },
      {
        "duration": 0,
        "start_time": "2024-04-12T08:15:28.626Z"
      },
      {
        "duration": 0,
        "start_time": "2024-04-12T08:15:28.627Z"
      },
      {
        "duration": 0,
        "start_time": "2024-04-12T08:15:28.628Z"
      },
      {
        "duration": 0,
        "start_time": "2024-04-12T08:15:28.630Z"
      },
      {
        "duration": 0,
        "start_time": "2024-04-12T08:15:28.631Z"
      },
      {
        "duration": 0,
        "start_time": "2024-04-12T08:15:28.632Z"
      },
      {
        "duration": 0,
        "start_time": "2024-04-12T08:15:28.634Z"
      },
      {
        "duration": 0,
        "start_time": "2024-04-12T08:15:28.635Z"
      },
      {
        "duration": 0,
        "start_time": "2024-04-12T08:15:28.637Z"
      },
      {
        "duration": 0,
        "start_time": "2024-04-12T08:15:28.638Z"
      },
      {
        "duration": 0,
        "start_time": "2024-04-12T08:15:28.640Z"
      },
      {
        "duration": 0,
        "start_time": "2024-04-12T08:15:28.643Z"
      },
      {
        "duration": 10995,
        "start_time": "2024-04-12T08:16:45.530Z"
      },
      {
        "duration": 956,
        "start_time": "2024-04-12T08:16:56.528Z"
      },
      {
        "duration": 13,
        "start_time": "2024-04-12T08:16:57.486Z"
      },
      {
        "duration": 46,
        "start_time": "2024-04-12T08:16:57.501Z"
      },
      {
        "duration": 29,
        "start_time": "2024-04-12T08:16:57.548Z"
      },
      {
        "duration": 175,
        "start_time": "2024-04-12T08:16:57.579Z"
      },
      {
        "duration": 287,
        "start_time": "2024-04-12T08:16:57.755Z"
      },
      {
        "duration": 4,
        "start_time": "2024-04-12T08:16:58.044Z"
      },
      {
        "duration": 3155,
        "start_time": "2024-04-12T08:16:58.049Z"
      },
      {
        "duration": 3,
        "start_time": "2024-04-12T08:17:01.207Z"
      },
      {
        "duration": 4462,
        "start_time": "2024-04-12T08:17:01.214Z"
      },
      {
        "duration": 14,
        "start_time": "2024-04-12T08:17:05.678Z"
      },
      {
        "duration": 60,
        "start_time": "2024-04-12T08:17:05.694Z"
      },
      {
        "duration": 3786,
        "start_time": "2024-04-12T08:17:05.757Z"
      },
      {
        "duration": 28939,
        "start_time": "2024-04-12T08:17:09.546Z"
      },
      {
        "duration": 10,
        "start_time": "2024-04-12T08:17:38.487Z"
      },
      {
        "duration": 56,
        "start_time": "2024-04-12T08:17:38.515Z"
      },
      {
        "duration": 8,
        "start_time": "2024-04-12T08:17:38.573Z"
      },
      {
        "duration": 5,
        "start_time": "2024-04-12T08:17:38.582Z"
      },
      {
        "duration": 73,
        "start_time": "2024-04-12T08:17:38.588Z"
      },
      {
        "duration": 208,
        "start_time": "2024-04-12T08:17:38.663Z"
      },
      {
        "duration": 3,
        "start_time": "2024-04-12T08:17:38.873Z"
      },
      {
        "duration": 8534,
        "start_time": "2024-04-12T08:17:38.878Z"
      },
      {
        "duration": 4,
        "start_time": "2024-04-12T08:17:47.414Z"
      },
      {
        "duration": 502717,
        "start_time": "2024-04-12T08:17:47.419Z"
      },
      {
        "duration": 4,
        "start_time": "2024-04-12T08:26:10.137Z"
      },
      {
        "duration": 21610,
        "start_time": "2024-04-12T08:26:10.144Z"
      },
      {
        "duration": 1012390,
        "start_time": "2024-04-12T08:26:31.761Z"
      },
      {
        "duration": 4,
        "start_time": "2024-04-12T08:43:24.152Z"
      },
      {
        "duration": 9007,
        "start_time": "2024-04-12T08:43:24.157Z"
      },
      {
        "duration": 370162,
        "start_time": "2024-04-12T08:43:33.165Z"
      },
      {
        "duration": 6,
        "start_time": "2024-04-12T08:49:43.329Z"
      },
      {
        "duration": 77,
        "start_time": "2024-04-12T08:49:43.339Z"
      },
      {
        "duration": 3,
        "start_time": "2024-04-12T08:49:43.418Z"
      },
      {
        "duration": 22,
        "start_time": "2024-04-12T08:49:43.423Z"
      },
      {
        "duration": 15,
        "start_time": "2024-04-12T08:49:43.447Z"
      },
      {
        "duration": 12,
        "start_time": "2024-04-12T08:49:43.464Z"
      },
      {
        "duration": 11032,
        "start_time": "2024-04-12T09:11:46.913Z"
      },
      {
        "duration": 985,
        "start_time": "2024-04-12T09:11:57.947Z"
      },
      {
        "duration": 13,
        "start_time": "2024-04-12T09:11:58.934Z"
      },
      {
        "duration": 41,
        "start_time": "2024-04-12T09:11:58.949Z"
      },
      {
        "duration": 38,
        "start_time": "2024-04-12T09:11:58.991Z"
      },
      {
        "duration": 139,
        "start_time": "2024-04-12T09:11:59.030Z"
      },
      {
        "duration": 264,
        "start_time": "2024-04-12T09:11:59.171Z"
      },
      {
        "duration": 4,
        "start_time": "2024-04-12T09:11:59.437Z"
      },
      {
        "duration": 3086,
        "start_time": "2024-04-12T09:11:59.443Z"
      },
      {
        "duration": 3,
        "start_time": "2024-04-12T09:12:02.532Z"
      },
      {
        "duration": 4274,
        "start_time": "2024-04-12T09:12:02.537Z"
      },
      {
        "duration": 10,
        "start_time": "2024-04-12T09:12:06.814Z"
      },
      {
        "duration": 58,
        "start_time": "2024-04-12T09:12:06.826Z"
      },
      {
        "duration": 3553,
        "start_time": "2024-04-12T09:12:06.886Z"
      },
      {
        "duration": 29146,
        "start_time": "2024-04-12T09:12:10.441Z"
      },
      {
        "duration": 27,
        "start_time": "2024-04-12T09:12:39.588Z"
      },
      {
        "duration": 80,
        "start_time": "2024-04-12T09:12:39.617Z"
      },
      {
        "duration": 8,
        "start_time": "2024-04-12T09:12:39.699Z"
      },
      {
        "duration": 7,
        "start_time": "2024-04-12T09:12:39.709Z"
      },
      {
        "duration": 69,
        "start_time": "2024-04-12T09:12:39.717Z"
      },
      {
        "duration": 186,
        "start_time": "2024-04-12T09:12:39.787Z"
      },
      {
        "duration": 4,
        "start_time": "2024-04-12T09:12:39.975Z"
      },
      {
        "duration": 8523,
        "start_time": "2024-04-12T09:12:39.981Z"
      },
      {
        "duration": 9,
        "start_time": "2024-04-12T09:12:48.506Z"
      },
      {
        "duration": 499519,
        "start_time": "2024-04-12T09:12:48.517Z"
      },
      {
        "duration": 4,
        "start_time": "2024-04-12T09:21:08.038Z"
      },
      {
        "duration": 21699,
        "start_time": "2024-04-12T09:21:08.043Z"
      },
      {
        "duration": 1076701,
        "start_time": "2024-04-12T09:21:29.745Z"
      },
      {
        "duration": 3,
        "start_time": "2024-04-12T09:39:26.448Z"
      },
      {
        "duration": 8828,
        "start_time": "2024-04-12T09:39:26.454Z"
      },
      {
        "duration": 453342,
        "start_time": "2024-04-12T09:39:35.284Z"
      },
      {
        "duration": 3,
        "start_time": "2024-04-12T09:47:08.628Z"
      },
      {
        "duration": 14,
        "start_time": "2024-04-12T09:47:08.633Z"
      },
      {
        "duration": 8,
        "start_time": "2024-04-12T09:47:08.649Z"
      },
      {
        "duration": 9,
        "start_time": "2024-04-12T09:47:08.659Z"
      },
      {
        "duration": 59,
        "start_time": "2024-04-12T09:47:08.670Z"
      },
      {
        "duration": 0,
        "start_time": "2024-04-12T09:47:08.731Z"
      },
      {
        "duration": 0,
        "start_time": "2024-04-12T09:47:08.733Z"
      },
      {
        "duration": 0,
        "start_time": "2024-04-12T09:47:08.734Z"
      },
      {
        "duration": 0,
        "start_time": "2024-04-12T09:47:08.736Z"
      },
      {
        "duration": 0,
        "start_time": "2024-04-12T09:47:08.738Z"
      },
      {
        "duration": 4,
        "start_time": "2024-04-12T09:51:51.937Z"
      },
      {
        "duration": 3,
        "start_time": "2024-04-12T09:51:55.776Z"
      },
      {
        "duration": 68812,
        "start_time": "2024-04-12T09:51:56.728Z"
      },
      {
        "duration": 6,
        "start_time": "2024-04-12T09:53:34.989Z"
      },
      {
        "duration": 3,
        "start_time": "2024-04-12T09:53:36.078Z"
      },
      {
        "duration": 3,
        "start_time": "2024-04-12T09:53:37.072Z"
      },
      {
        "duration": 10978,
        "start_time": "2024-04-12T09:55:01.135Z"
      },
      {
        "duration": 947,
        "start_time": "2024-04-12T09:55:12.116Z"
      },
      {
        "duration": 15,
        "start_time": "2024-04-12T09:55:13.064Z"
      },
      {
        "duration": 51,
        "start_time": "2024-04-12T09:55:13.080Z"
      },
      {
        "duration": 28,
        "start_time": "2024-04-12T09:55:13.132Z"
      },
      {
        "duration": 163,
        "start_time": "2024-04-12T09:55:13.161Z"
      },
      {
        "duration": 293,
        "start_time": "2024-04-12T09:55:13.326Z"
      },
      {
        "duration": 6,
        "start_time": "2024-04-12T09:55:13.624Z"
      },
      {
        "duration": 3174,
        "start_time": "2024-04-12T09:55:13.632Z"
      },
      {
        "duration": 6,
        "start_time": "2024-04-12T09:55:16.809Z"
      },
      {
        "duration": 4177,
        "start_time": "2024-04-12T09:55:16.817Z"
      },
      {
        "duration": 9,
        "start_time": "2024-04-12T09:55:20.996Z"
      },
      {
        "duration": 71,
        "start_time": "2024-04-12T09:55:21.007Z"
      },
      {
        "duration": 3560,
        "start_time": "2024-04-12T09:55:21.079Z"
      },
      {
        "duration": 29039,
        "start_time": "2024-04-12T09:55:24.641Z"
      },
      {
        "duration": 10,
        "start_time": "2024-04-12T09:55:53.682Z"
      },
      {
        "duration": 73,
        "start_time": "2024-04-12T09:55:53.694Z"
      },
      {
        "duration": 7,
        "start_time": "2024-04-12T09:55:53.769Z"
      },
      {
        "duration": 4,
        "start_time": "2024-04-12T09:55:53.778Z"
      },
      {
        "duration": 75,
        "start_time": "2024-04-12T09:55:53.784Z"
      },
      {
        "duration": 193,
        "start_time": "2024-04-12T09:55:53.860Z"
      },
      {
        "duration": 3,
        "start_time": "2024-04-12T09:55:54.055Z"
      },
      {
        "duration": 8452,
        "start_time": "2024-04-12T09:55:54.060Z"
      },
      {
        "duration": 3,
        "start_time": "2024-04-12T09:56:02.514Z"
      },
      {
        "duration": 331052,
        "start_time": "2024-04-12T09:56:02.518Z"
      },
      {
        "duration": 0,
        "start_time": "2024-04-12T10:01:33.573Z"
      },
      {
        "duration": 0,
        "start_time": "2024-04-12T10:01:33.575Z"
      },
      {
        "duration": 0,
        "start_time": "2024-04-12T10:01:33.577Z"
      },
      {
        "duration": 0,
        "start_time": "2024-04-12T10:01:33.579Z"
      },
      {
        "duration": 0,
        "start_time": "2024-04-12T10:01:33.580Z"
      },
      {
        "duration": 0,
        "start_time": "2024-04-12T10:01:33.582Z"
      },
      {
        "duration": 0,
        "start_time": "2024-04-12T10:01:33.584Z"
      },
      {
        "duration": 0,
        "start_time": "2024-04-12T10:01:33.585Z"
      },
      {
        "duration": 0,
        "start_time": "2024-04-12T10:01:33.587Z"
      },
      {
        "duration": 0,
        "start_time": "2024-04-12T10:01:33.588Z"
      },
      {
        "duration": 0,
        "start_time": "2024-04-12T10:01:33.590Z"
      },
      {
        "duration": 0,
        "start_time": "2024-04-12T10:01:33.590Z"
      },
      {
        "duration": 0,
        "start_time": "2024-04-12T10:01:33.591Z"
      },
      {
        "duration": 0,
        "start_time": "2024-04-12T10:01:33.591Z"
      },
      {
        "duration": 0,
        "start_time": "2024-04-12T10:01:33.592Z"
      },
      {
        "duration": 0,
        "start_time": "2024-04-12T10:01:33.592Z"
      },
      {
        "duration": 10954,
        "start_time": "2024-04-12T10:01:56.026Z"
      },
      {
        "duration": 959,
        "start_time": "2024-04-12T10:02:06.983Z"
      },
      {
        "duration": 12,
        "start_time": "2024-04-12T10:02:07.944Z"
      },
      {
        "duration": 71,
        "start_time": "2024-04-12T10:02:07.959Z"
      },
      {
        "duration": 27,
        "start_time": "2024-04-12T10:02:08.032Z"
      },
      {
        "duration": 177,
        "start_time": "2024-04-12T10:02:08.061Z"
      },
      {
        "duration": 281,
        "start_time": "2024-04-12T10:02:08.240Z"
      },
      {
        "duration": 3,
        "start_time": "2024-04-12T10:02:08.523Z"
      },
      {
        "duration": 3104,
        "start_time": "2024-04-12T10:02:08.528Z"
      },
      {
        "duration": 3,
        "start_time": "2024-04-12T10:02:11.636Z"
      },
      {
        "duration": 4219,
        "start_time": "2024-04-12T10:02:11.641Z"
      },
      {
        "duration": 10,
        "start_time": "2024-04-12T10:02:15.862Z"
      },
      {
        "duration": 65,
        "start_time": "2024-04-12T10:02:15.874Z"
      },
      {
        "duration": 3595,
        "start_time": "2024-04-12T10:02:15.940Z"
      },
      {
        "duration": 28557,
        "start_time": "2024-04-12T10:02:19.537Z"
      },
      {
        "duration": 19,
        "start_time": "2024-04-12T10:02:48.096Z"
      },
      {
        "duration": 58,
        "start_time": "2024-04-12T10:02:48.118Z"
      },
      {
        "duration": 42,
        "start_time": "2024-04-12T10:02:48.177Z"
      },
      {
        "duration": 5,
        "start_time": "2024-04-12T10:02:48.221Z"
      },
      {
        "duration": 56,
        "start_time": "2024-04-12T10:02:48.227Z"
      },
      {
        "duration": 193,
        "start_time": "2024-04-12T10:02:48.284Z"
      },
      {
        "duration": 4,
        "start_time": "2024-04-12T10:02:48.479Z"
      },
      {
        "duration": 8651,
        "start_time": "2024-04-12T10:02:48.484Z"
      },
      {
        "duration": 3,
        "start_time": "2024-04-12T10:02:57.137Z"
      },
      {
        "duration": 331977,
        "start_time": "2024-04-12T10:02:57.142Z"
      },
      {
        "duration": 3,
        "start_time": "2024-04-12T10:08:29.121Z"
      },
      {
        "duration": 21852,
        "start_time": "2024-04-12T10:08:29.126Z"
      },
      {
        "duration": 724571,
        "start_time": "2024-04-12T10:08:50.982Z"
      },
      {
        "duration": 3,
        "start_time": "2024-04-12T10:20:55.555Z"
      },
      {
        "duration": 8468,
        "start_time": "2024-04-12T10:20:55.559Z"
      },
      {
        "duration": 393808,
        "start_time": "2024-04-12T10:21:04.029Z"
      },
      {
        "duration": 5,
        "start_time": "2024-04-12T10:27:37.839Z"
      },
      {
        "duration": 13,
        "start_time": "2024-04-12T10:27:37.846Z"
      },
      {
        "duration": 7,
        "start_time": "2024-04-12T10:27:37.862Z"
      },
      {
        "duration": 6,
        "start_time": "2024-04-12T10:27:37.871Z"
      },
      {
        "duration": 36,
        "start_time": "2024-04-12T10:27:37.879Z"
      },
      {
        "duration": 3,
        "start_time": "2024-04-12T10:27:37.919Z"
      },
      {
        "duration": 3364676,
        "start_time": "2024-04-12T10:27:37.924Z"
      },
      {
        "duration": 0,
        "start_time": "2024-04-12T11:23:42.603Z"
      },
      {
        "duration": 0,
        "start_time": "2024-04-12T11:23:42.604Z"
      },
      {
        "duration": 0,
        "start_time": "2024-04-12T11:23:42.605Z"
      },
      {
        "duration": 10829,
        "start_time": "2024-04-12T11:30:45.912Z"
      },
      {
        "duration": 978,
        "start_time": "2024-04-12T11:31:13.048Z"
      },
      {
        "duration": 13,
        "start_time": "2024-04-12T11:31:17.987Z"
      },
      {
        "duration": 32,
        "start_time": "2024-04-12T11:31:19.494Z"
      },
      {
        "duration": 28,
        "start_time": "2024-04-12T11:31:21.889Z"
      },
      {
        "duration": 136,
        "start_time": "2024-04-12T11:31:23.932Z"
      },
      {
        "duration": 270,
        "start_time": "2024-04-12T11:31:33.966Z"
      },
      {
        "duration": 4,
        "start_time": "2024-04-12T11:36:11.944Z"
      },
      {
        "duration": 3117,
        "start_time": "2024-04-12T11:36:18.593Z"
      },
      {
        "duration": 4,
        "start_time": "2024-04-12T11:37:00.715Z"
      },
      {
        "duration": 4500,
        "start_time": "2024-04-12T11:37:02.180Z"
      },
      {
        "duration": 9,
        "start_time": "2024-04-12T11:37:06.682Z"
      },
      {
        "duration": 51,
        "start_time": "2024-04-12T11:37:19.281Z"
      },
      {
        "duration": 3524,
        "start_time": "2024-04-12T11:37:20.903Z"
      },
      {
        "duration": 28573,
        "start_time": "2024-04-12T11:37:31.613Z"
      },
      {
        "duration": 9,
        "start_time": "2024-04-12T11:38:19.772Z"
      },
      {
        "duration": 56,
        "start_time": "2024-04-12T11:38:21.182Z"
      },
      {
        "duration": 8,
        "start_time": "2024-04-12T11:38:23.481Z"
      },
      {
        "duration": 4,
        "start_time": "2024-04-12T11:38:29.303Z"
      },
      {
        "duration": 51,
        "start_time": "2024-04-12T11:38:30.896Z"
      },
      {
        "duration": 182,
        "start_time": "2024-04-12T11:38:32.176Z"
      },
      {
        "duration": 3,
        "start_time": "2024-04-12T11:47:36.667Z"
      },
      {
        "duration": 7903,
        "start_time": "2024-04-12T11:47:42.962Z"
      },
      {
        "duration": 7923,
        "start_time": "2024-04-12T11:49:33.536Z"
      },
      {
        "duration": 3,
        "start_time": "2024-04-12T11:49:43.995Z"
      },
      {
        "duration": 3,
        "start_time": "2024-04-12T11:51:01.155Z"
      },
      {
        "duration": 325442,
        "start_time": "2024-04-12T11:51:16.496Z"
      },
      {
        "duration": 6,
        "start_time": "2024-04-12T12:21:54.843Z"
      },
      {
        "duration": 21449,
        "start_time": "2024-04-12T12:23:00.459Z"
      },
      {
        "duration": 726288,
        "start_time": "2024-04-12T12:23:32.299Z"
      },
      {
        "duration": 4,
        "start_time": "2024-04-12T12:38:07.925Z"
      },
      {
        "duration": 8249,
        "start_time": "2024-04-12T12:38:12.555Z"
      },
      {
        "duration": 319194,
        "start_time": "2024-04-12T12:38:24.530Z"
      },
      {
        "duration": 4,
        "start_time": "2024-04-12T12:43:54.637Z"
      },
      {
        "duration": 15,
        "start_time": "2024-04-12T12:43:58.034Z"
      },
      {
        "duration": 5,
        "start_time": "2024-04-12T12:44:17.626Z"
      },
      {
        "duration": 5,
        "start_time": "2024-04-12T12:44:18.660Z"
      },
      {
        "duration": 3,
        "start_time": "2024-04-12T12:44:24.369Z"
      },
      {
        "duration": 5,
        "start_time": "2024-04-12T12:44:26.165Z"
      },
      {
        "duration": 11207,
        "start_time": "2024-04-12T12:49:34.805Z"
      },
      {
        "duration": 939,
        "start_time": "2024-04-12T12:49:46.015Z"
      },
      {
        "duration": 19,
        "start_time": "2024-04-12T12:49:46.956Z"
      },
      {
        "duration": 42,
        "start_time": "2024-04-12T12:49:46.977Z"
      },
      {
        "duration": 29,
        "start_time": "2024-04-12T12:49:47.022Z"
      },
      {
        "duration": 155,
        "start_time": "2024-04-12T12:49:47.052Z"
      },
      {
        "duration": 273,
        "start_time": "2024-04-12T12:49:47.209Z"
      },
      {
        "duration": 3,
        "start_time": "2024-04-12T12:49:47.484Z"
      },
      {
        "duration": 3038,
        "start_time": "2024-04-12T12:49:47.489Z"
      },
      {
        "duration": 4,
        "start_time": "2024-04-12T12:49:50.529Z"
      },
      {
        "duration": 4188,
        "start_time": "2024-04-12T12:49:50.534Z"
      },
      {
        "duration": 11,
        "start_time": "2024-04-12T12:49:54.725Z"
      },
      {
        "duration": 82,
        "start_time": "2024-04-12T12:49:54.737Z"
      },
      {
        "duration": 3512,
        "start_time": "2024-04-12T12:49:54.823Z"
      },
      {
        "duration": 28770,
        "start_time": "2024-04-12T12:49:58.337Z"
      },
      {
        "duration": 15,
        "start_time": "2024-04-12T12:50:27.109Z"
      },
      {
        "duration": 62,
        "start_time": "2024-04-12T12:50:27.126Z"
      },
      {
        "duration": 26,
        "start_time": "2024-04-12T12:50:27.190Z"
      },
      {
        "duration": 5,
        "start_time": "2024-04-12T12:50:27.217Z"
      },
      {
        "duration": 57,
        "start_time": "2024-04-12T12:50:27.224Z"
      },
      {
        "duration": 197,
        "start_time": "2024-04-12T12:50:27.282Z"
      },
      {
        "duration": 3,
        "start_time": "2024-04-12T12:50:27.481Z"
      },
      {
        "duration": 7928,
        "start_time": "2024-04-12T12:50:27.486Z"
      },
      {
        "duration": 3,
        "start_time": "2024-04-12T12:50:35.416Z"
      },
      {
        "duration": 342204,
        "start_time": "2024-04-12T12:50:35.420Z"
      },
      {
        "duration": 3,
        "start_time": "2024-04-12T12:56:17.626Z"
      },
      {
        "duration": 21476,
        "start_time": "2024-04-12T12:56:17.631Z"
      },
      {
        "duration": 734158,
        "start_time": "2024-04-12T12:56:39.109Z"
      },
      {
        "duration": 3,
        "start_time": "2024-04-12T13:08:53.269Z"
      },
      {
        "duration": 8379,
        "start_time": "2024-04-12T13:08:53.273Z"
      },
      {
        "duration": 281983,
        "start_time": "2024-04-12T13:09:01.653Z"
      },
      {
        "duration": 4,
        "start_time": "2024-04-12T13:13:43.638Z"
      },
      {
        "duration": 13,
        "start_time": "2024-04-12T13:13:43.644Z"
      },
      {
        "duration": 6,
        "start_time": "2024-04-12T13:13:43.659Z"
      },
      {
        "duration": 6,
        "start_time": "2024-04-12T13:13:43.667Z"
      },
      {
        "duration": 6,
        "start_time": "2024-04-12T13:13:43.674Z"
      },
      {
        "duration": 3,
        "start_time": "2024-04-12T13:13:43.715Z"
      },
      {
        "duration": 21304,
        "start_time": "2024-04-12T13:29:48.555Z"
      },
      {
        "duration": 2093,
        "start_time": "2024-04-12T13:30:09.862Z"
      },
      {
        "duration": 63,
        "start_time": "2024-04-12T13:30:11.956Z"
      },
      {
        "duration": 118,
        "start_time": "2024-04-12T13:30:12.023Z"
      },
      {
        "duration": 95,
        "start_time": "2024-04-12T13:30:12.143Z"
      },
      {
        "duration": 309,
        "start_time": "2024-04-12T13:30:12.240Z"
      },
      {
        "duration": 566,
        "start_time": "2024-04-12T13:30:12.551Z"
      },
      {
        "duration": 3,
        "start_time": "2024-04-12T13:30:13.119Z"
      },
      {
        "duration": 6395,
        "start_time": "2024-04-12T13:30:13.124Z"
      },
      {
        "duration": 3,
        "start_time": "2024-04-12T13:30:19.522Z"
      },
      {
        "duration": 9005,
        "start_time": "2024-04-12T13:30:19.527Z"
      },
      {
        "duration": 10,
        "start_time": "2024-04-12T13:30:28.534Z"
      },
      {
        "duration": 185,
        "start_time": "2024-04-12T13:30:28.546Z"
      },
      {
        "duration": 30182,
        "start_time": "2024-04-12T13:30:28.733Z"
      },
      {
        "duration": 298601,
        "start_time": "2024-04-12T13:30:58.917Z"
      },
      {
        "duration": 110,
        "start_time": "2024-04-12T13:35:57.519Z"
      },
      {
        "duration": 517,
        "start_time": "2024-04-12T13:35:57.717Z"
      },
      {
        "duration": 104,
        "start_time": "2024-04-12T13:35:58.317Z"
      },
      {
        "duration": 94,
        "start_time": "2024-04-12T13:35:58.425Z"
      },
      {
        "duration": 501,
        "start_time": "2024-04-12T13:35:58.522Z"
      },
      {
        "duration": 1598,
        "start_time": "2024-04-12T13:35:59.026Z"
      },
      {
        "duration": 728,
        "start_time": "2024-04-12T13:38:41.919Z"
      },
      {
        "duration": 117,
        "start_time": "2024-04-12T13:39:08.216Z"
      },
      {
        "duration": 33,
        "start_time": "2024-04-12T13:39:24.217Z"
      },
      {
        "duration": 37800,
        "start_time": "2024-04-12T13:39:42.118Z"
      },
      {
        "duration": 4,
        "start_time": "2024-04-12T13:40:23.916Z"
      },
      {
        "duration": 439043,
        "start_time": "2024-04-12T13:40:25.016Z"
      },
      {
        "duration": 4,
        "start_time": "2024-04-12T13:47:48.116Z"
      },
      {
        "duration": 3,
        "start_time": "2024-04-12T13:51:24.516Z"
      },
      {
        "duration": 141,
        "start_time": "2024-04-12T13:51:30.517Z"
      },
      {
        "duration": 3,
        "start_time": "2024-04-12T13:51:56.651Z"
      },
      {
        "duration": 3,
        "start_time": "2024-04-12T13:52:01.817Z"
      },
      {
        "duration": 40529,
        "start_time": "2024-04-12T13:52:08.717Z"
      },
      {
        "duration": 13,
        "start_time": "2024-04-12T13:52:57.821Z"
      },
      {
        "duration": 4,
        "start_time": "2024-04-12T13:53:14.516Z"
      },
      {
        "duration": 4,
        "start_time": "2024-04-12T13:53:19.616Z"
      },
      {
        "duration": 7,
        "start_time": "2024-04-12T13:53:20.747Z"
      },
      {
        "duration": 90,
        "start_time": "2024-04-12T13:53:22.726Z"
      },
      {
        "duration": 90,
        "start_time": "2024-04-12T13:53:24.928Z"
      },
      {
        "duration": 87997,
        "start_time": "2024-04-12T14:01:17.323Z"
      },
      {
        "duration": 9203,
        "start_time": "2024-04-12T14:02:45.417Z"
      },
      {
        "duration": 203,
        "start_time": "2024-04-12T14:02:54.625Z"
      },
      {
        "duration": 208,
        "start_time": "2024-04-12T14:02:54.919Z"
      },
      {
        "duration": 380,
        "start_time": "2024-04-12T14:02:55.135Z"
      },
      {
        "duration": 897,
        "start_time": "2024-04-12T14:02:55.523Z"
      },
      {
        "duration": 2099,
        "start_time": "2024-04-12T14:02:56.426Z"
      },
      {
        "duration": 86,
        "start_time": "2024-04-12T14:02:58.530Z"
      },
      {
        "duration": 25497,
        "start_time": "2024-04-12T14:02:58.618Z"
      },
      {
        "duration": 88,
        "start_time": "2024-04-12T14:03:24.129Z"
      },
      {
        "duration": 39285,
        "start_time": "2024-04-12T14:03:24.230Z"
      },
      {
        "duration": 104,
        "start_time": "2024-04-12T14:04:03.525Z"
      },
      {
        "duration": 795,
        "start_time": "2024-04-12T14:04:03.638Z"
      },
      {
        "duration": 27637,
        "start_time": "2024-04-12T14:04:04.520Z"
      },
      {
        "duration": 249760,
        "start_time": "2024-04-12T14:04:32.159Z"
      },
      {
        "duration": 97,
        "start_time": "2024-04-12T14:08:41.921Z"
      },
      {
        "duration": 586,
        "start_time": "2024-04-12T14:08:42.028Z"
      },
      {
        "duration": 190,
        "start_time": "2024-04-12T14:08:42.630Z"
      },
      {
        "duration": 92,
        "start_time": "2024-04-12T14:08:42.827Z"
      },
      {
        "duration": 592,
        "start_time": "2024-04-12T14:08:42.925Z"
      },
      {
        "duration": 1311,
        "start_time": "2024-04-12T14:08:43.519Z"
      },
      {
        "duration": 205,
        "start_time": "2024-04-12T14:08:56.219Z"
      },
      {
        "duration": 501,
        "start_time": "2024-04-12T14:08:57.916Z"
      },
      {
        "duration": 109,
        "start_time": "2024-04-12T14:09:09.215Z"
      },
      {
        "duration": 698,
        "start_time": "2024-04-12T14:09:10.216Z"
      },
      {
        "duration": 27,
        "start_time": "2024-04-12T14:09:16.994Z"
      },
      {
        "duration": 51,
        "start_time": "2024-04-12T14:09:19.566Z"
      },
      {
        "duration": 410,
        "start_time": "2024-04-12T14:09:22.316Z"
      },
      {
        "duration": 1402,
        "start_time": "2024-04-12T14:09:23.216Z"
      },
      {
        "duration": 423,
        "start_time": "2024-04-12T14:10:11.122Z"
      },
      {
        "duration": 80403,
        "start_time": "2024-04-12T14:10:26.122Z"
      },
      {
        "duration": 13696,
        "start_time": "2024-04-12T14:11:46.625Z"
      },
      {
        "duration": 191,
        "start_time": "2024-04-12T14:12:00.323Z"
      },
      {
        "duration": 395,
        "start_time": "2024-04-12T14:12:00.519Z"
      },
      {
        "duration": 204,
        "start_time": "2024-04-12T14:12:00.925Z"
      },
      {
        "duration": 1413,
        "start_time": "2024-04-12T14:12:01.216Z"
      },
      {
        "duration": 2303,
        "start_time": "2024-04-12T14:12:02.719Z"
      },
      {
        "duration": 91,
        "start_time": "2024-04-12T14:12:05.029Z"
      },
      {
        "duration": 25892,
        "start_time": "2024-04-12T14:12:05.122Z"
      },
      {
        "duration": 7,
        "start_time": "2024-04-12T14:12:31.018Z"
      },
      {
        "duration": 32200,
        "start_time": "2024-04-12T14:12:31.029Z"
      },
      {
        "duration": 89,
        "start_time": "2024-04-12T14:13:03.231Z"
      },
      {
        "duration": 493,
        "start_time": "2024-04-12T14:13:03.329Z"
      },
      {
        "duration": 27404,
        "start_time": "2024-04-12T14:13:03.825Z"
      },
      {
        "duration": 264091,
        "start_time": "2024-04-12T14:13:31.231Z"
      },
      {
        "duration": 192,
        "start_time": "2024-04-12T14:17:55.324Z"
      },
      {
        "duration": 695,
        "start_time": "2024-04-12T14:17:55.525Z"
      },
      {
        "duration": 92,
        "start_time": "2024-04-12T14:17:56.222Z"
      },
      {
        "duration": 89,
        "start_time": "2024-04-12T14:17:56.328Z"
      },
      {
        "duration": 495,
        "start_time": "2024-04-12T14:17:56.420Z"
      },
      {
        "duration": 1404,
        "start_time": "2024-04-12T14:17:56.917Z"
      },
      {
        "duration": 304,
        "start_time": "2024-04-12T14:18:27.416Z"
      },
      {
        "duration": 7,
        "start_time": "2024-04-12T14:18:34.415Z"
      },
      {
        "duration": 3,
        "start_time": "2024-04-12T14:18:37.316Z"
      },
      {
        "duration": 3,
        "start_time": "2024-04-12T14:18:38.516Z"
      },
      {
        "duration": 9,
        "start_time": "2024-04-12T14:18:45.116Z"
      },
      {
        "duration": 8,
        "start_time": "2024-04-12T14:18:48.316Z"
      },
      {
        "duration": 4,
        "start_time": "2024-04-12T14:18:49.115Z"
      },
      {
        "duration": 10,
        "start_time": "2024-04-12T14:18:49.916Z"
      },
      {
        "duration": 76306,
        "start_time": "2024-04-12T14:18:54.217Z"
      },
      {
        "duration": 5,
        "start_time": "2024-04-12T14:21:26.116Z"
      },
      {
        "duration": 6,
        "start_time": "2024-04-12T14:21:27.016Z"
      },
      {
        "duration": 3,
        "start_time": "2024-04-12T14:21:28.716Z"
      },
      {
        "duration": 3,
        "start_time": "2024-04-12T14:21:33.016Z"
      },
      {
        "duration": 4,
        "start_time": "2024-04-12T14:25:57.415Z"
      },
      {
        "duration": 100,
        "start_time": "2024-04-12T14:26:01.217Z"
      },
      {
        "duration": 10,
        "start_time": "2024-04-12T14:26:33.215Z"
      },
      {
        "duration": 3,
        "start_time": "2024-04-12T14:26:37.515Z"
      },
      {
        "duration": 632203,
        "start_time": "2024-04-12T14:27:10.515Z"
      },
      {
        "duration": 10,
        "start_time": "2024-04-12T14:38:27.816Z"
      },
      {
        "duration": 57,
        "start_time": "2024-04-12T14:38:33.159Z"
      },
      {
        "duration": 6,
        "start_time": "2024-04-12T14:38:34.216Z"
      },
      {
        "duration": 92,
        "start_time": "2024-04-12T14:39:15.029Z"
      },
      {
        "duration": 0,
        "start_time": "2024-04-12T14:39:15.215Z"
      },
      {
        "duration": 0,
        "start_time": "2024-04-12T14:39:15.216Z"
      },
      {
        "duration": 4,
        "start_time": "2024-04-12T14:39:26.717Z"
      },
      {
        "duration": 5,
        "start_time": "2024-04-12T14:39:32.215Z"
      },
      {
        "duration": 39499,
        "start_time": "2024-04-12T14:39:32.817Z"
      },
      {
        "duration": 11,
        "start_time": "2024-04-12T14:40:49.315Z"
      },
      {
        "duration": 7,
        "start_time": "2024-04-12T14:41:17.316Z"
      },
      {
        "duration": 4,
        "start_time": "2024-04-12T14:41:18.115Z"
      },
      {
        "duration": 3,
        "start_time": "2024-04-12T14:41:19.715Z"
      },
      {
        "duration": 5311,
        "start_time": "2024-04-12T19:06:01.403Z"
      },
      {
        "duration": 3776,
        "start_time": "2024-04-12T19:06:10.114Z"
      },
      {
        "duration": 3312,
        "start_time": "2024-04-12T19:06:18.549Z"
      },
      {
        "duration": 130809,
        "start_time": "2024-04-12T19:06:24.716Z"
      },
      {
        "duration": 5,
        "start_time": "2024-04-12T19:09:34.299Z"
      },
      {
        "duration": 18663,
        "start_time": "2024-04-12T19:09:38.052Z"
      },
      {
        "duration": 122,
        "start_time": "2024-04-12T19:10:04.054Z"
      },
      {
        "duration": 3,
        "start_time": "2024-04-12T19:10:11.660Z"
      },
      {
        "duration": 2281,
        "start_time": "2024-04-12T19:10:17.267Z"
      },
      {
        "duration": 12,
        "start_time": "2024-04-12T19:10:25.115Z"
      },
      {
        "duration": 30,
        "start_time": "2024-04-12T19:10:26.918Z"
      },
      {
        "duration": 26,
        "start_time": "2024-04-12T19:10:30.513Z"
      },
      {
        "duration": 119,
        "start_time": "2024-04-12T19:10:32.974Z"
      },
      {
        "duration": 232,
        "start_time": "2024-04-12T19:10:37.267Z"
      },
      {
        "duration": 3,
        "start_time": "2024-04-12T19:10:39.494Z"
      },
      {
        "duration": 2854,
        "start_time": "2024-04-12T19:10:42.042Z"
      },
      {
        "duration": 3,
        "start_time": "2024-04-12T19:10:50.455Z"
      },
      {
        "duration": 3804,
        "start_time": "2024-04-12T19:10:52.879Z"
      },
      {
        "duration": 7,
        "start_time": "2024-04-12T19:10:58.291Z"
      },
      {
        "duration": 49,
        "start_time": "2024-04-12T19:11:02.645Z"
      },
      {
        "duration": 3203,
        "start_time": "2024-04-12T19:11:04.888Z"
      },
      {
        "duration": 25645,
        "start_time": "2024-04-12T19:11:11.730Z"
      },
      {
        "duration": 10,
        "start_time": "2024-04-12T19:12:43.587Z"
      },
      {
        "duration": 53,
        "start_time": "2024-04-12T19:12:44.788Z"
      },
      {
        "duration": 7,
        "start_time": "2024-04-12T19:12:47.241Z"
      },
      {
        "duration": 4,
        "start_time": "2024-04-12T19:12:50.412Z"
      },
      {
        "duration": 46,
        "start_time": "2024-04-12T19:12:51.694Z"
      },
      {
        "duration": 158,
        "start_time": "2024-04-12T19:12:53.311Z"
      },
      {
        "duration": 23,
        "start_time": "2024-04-12T19:12:59.736Z"
      },
      {
        "duration": 4,
        "start_time": "2024-04-12T19:13:12.468Z"
      },
      {
        "duration": 3,
        "start_time": "2024-04-12T19:13:15.366Z"
      },
      {
        "duration": 3,
        "start_time": "2024-04-12T19:13:19.000Z"
      },
      {
        "duration": 3,
        "start_time": "2024-04-12T19:13:19.659Z"
      },
      {
        "duration": 2,
        "start_time": "2024-04-12T19:13:21.128Z"
      },
      {
        "duration": 3,
        "start_time": "2024-04-12T19:13:21.845Z"
      },
      {
        "duration": 2,
        "start_time": "2024-04-12T19:13:22.679Z"
      },
      {
        "duration": 7206,
        "start_time": "2024-04-12T19:13:25.329Z"
      },
      {
        "duration": 3,
        "start_time": "2024-04-12T19:13:35.919Z"
      },
      {
        "duration": 2,
        "start_time": "2024-04-12T19:13:36.977Z"
      },
      {
        "duration": 2,
        "start_time": "2024-04-12T19:13:38.541Z"
      },
      {
        "duration": 3,
        "start_time": "2024-04-12T19:13:42.033Z"
      },
      {
        "duration": 5,
        "start_time": "2024-04-12T19:16:30.208Z"
      },
      {
        "duration": 3,
        "start_time": "2024-04-12T19:16:40.878Z"
      },
      {
        "duration": 3,
        "start_time": "2024-04-12T19:16:42.608Z"
      },
      {
        "duration": 369764,
        "start_time": "2024-04-12T19:16:43.441Z"
      },
      {
        "duration": 3,
        "start_time": "2024-04-12T19:24:20.617Z"
      },
      {
        "duration": 4,
        "start_time": "2024-04-12T19:24:21.415Z"
      },
      {
        "duration": 3,
        "start_time": "2024-04-12T19:24:22.397Z"
      },
      {
        "duration": 3,
        "start_time": "2024-04-12T19:24:24.603Z"
      },
      {
        "duration": 335420,
        "start_time": "2024-04-12T19:24:26.296Z"
      },
      {
        "duration": 8,
        "start_time": "2024-04-12T19:30:13.603Z"
      },
      {
        "duration": 3,
        "start_time": "2024-04-12T19:30:16.671Z"
      },
      {
        "duration": 2,
        "start_time": "2024-04-12T19:30:17.344Z"
      },
      {
        "duration": 2,
        "start_time": "2024-04-12T19:30:17.984Z"
      },
      {
        "duration": 2,
        "start_time": "2024-04-12T19:30:18.529Z"
      },
      {
        "duration": 2,
        "start_time": "2024-04-12T19:30:19.465Z"
      },
      {
        "duration": 2,
        "start_time": "2024-04-12T19:30:19.931Z"
      },
      {
        "duration": 3,
        "start_time": "2024-04-12T19:30:20.362Z"
      },
      {
        "duration": 7329,
        "start_time": "2024-04-12T19:30:22.039Z"
      },
      {
        "duration": 3,
        "start_time": "2024-04-12T19:30:32.196Z"
      },
      {
        "duration": 3,
        "start_time": "2024-04-12T19:30:32.610Z"
      },
      {
        "duration": 2,
        "start_time": "2024-04-12T19:30:33.102Z"
      },
      {
        "duration": 4,
        "start_time": "2024-04-12T19:30:35.022Z"
      },
      {
        "duration": 4,
        "start_time": "2024-04-12T19:30:35.823Z"
      },
      {
        "duration": 3,
        "start_time": "2024-04-12T19:30:36.837Z"
      },
      {
        "duration": 3,
        "start_time": "2024-04-12T19:30:38.084Z"
      },
      {
        "duration": 190021,
        "start_time": "2024-04-12T19:30:38.966Z"
      },
      {
        "duration": 3,
        "start_time": "2024-04-12T19:33:54.806Z"
      },
      {
        "duration": 6,
        "start_time": "2024-04-12T19:33:55.558Z"
      },
      {
        "duration": 3,
        "start_time": "2024-04-12T19:33:56.366Z"
      },
      {
        "duration": 3,
        "start_time": "2024-04-12T19:33:59.018Z"
      },
      {
        "duration": 2480167,
        "start_time": "2024-04-12T19:34:05.559Z"
      },
      {
        "duration": 7,
        "start_time": "2024-04-12T20:16:12.020Z"
      },
      {
        "duration": 1873,
        "start_time": "2024-04-12T20:17:44.911Z"
      },
      {
        "duration": 3,
        "start_time": "2024-04-12T20:17:50.409Z"
      },
      {
        "duration": 13,
        "start_time": "2024-04-12T20:17:53.460Z"
      },
      {
        "duration": 21,
        "start_time": "2024-04-12T20:18:12.291Z"
      },
      {
        "duration": 2863,
        "start_time": "2024-04-12T20:19:13.661Z"
      },
      {
        "duration": 2958,
        "start_time": "2024-04-12T20:19:19.213Z"
      },
      {
        "duration": 2583,
        "start_time": "2024-04-12T20:19:23.203Z"
      },
      {
        "duration": 1464,
        "start_time": "2024-04-12T20:19:27.082Z"
      },
      {
        "duration": 450,
        "start_time": "2024-04-12T20:19:31.959Z"
      },
      {
        "duration": 12,
        "start_time": "2024-04-12T20:19:35.831Z"
      },
      {
        "duration": 889,
        "start_time": "2024-04-12T20:19:39.716Z"
      },
      {
        "duration": 13,
        "start_time": "2024-04-12T20:19:47.774Z"
      },
      {
        "duration": 30,
        "start_time": "2024-04-12T20:19:50.375Z"
      },
      {
        "duration": 28,
        "start_time": "2024-04-12T20:19:52.684Z"
      },
      {
        "duration": 138,
        "start_time": "2024-04-12T20:19:56.375Z"
      },
      {
        "duration": 269,
        "start_time": "2024-04-12T20:20:07.053Z"
      },
      {
        "duration": 3,
        "start_time": "2024-04-12T20:20:08.588Z"
      },
      {
        "duration": 2930,
        "start_time": "2024-04-12T20:20:10.995Z"
      },
      {
        "duration": 4,
        "start_time": "2024-04-12T20:20:14.691Z"
      },
      {
        "duration": 3930,
        "start_time": "2024-04-12T20:20:15.905Z"
      },
      {
        "duration": 9,
        "start_time": "2024-04-12T20:20:19.837Z"
      },
      {
        "duration": 50,
        "start_time": "2024-04-12T20:20:21.209Z"
      },
      {
        "duration": 3339,
        "start_time": "2024-04-12T20:20:22.940Z"
      },
      {
        "duration": 27179,
        "start_time": "2024-04-12T20:20:30.221Z"
      },
      {
        "duration": 10,
        "start_time": "2024-04-12T20:21:03.215Z"
      },
      {
        "duration": 55,
        "start_time": "2024-04-12T20:21:04.379Z"
      },
      {
        "duration": 7,
        "start_time": "2024-04-12T20:21:06.854Z"
      },
      {
        "duration": 4,
        "start_time": "2024-04-12T20:21:08.315Z"
      },
      {
        "duration": 58,
        "start_time": "2024-04-12T20:21:10.129Z"
      },
      {
        "duration": 184,
        "start_time": "2024-04-12T20:21:11.893Z"
      },
      {
        "duration": 3,
        "start_time": "2024-04-12T20:21:17.708Z"
      },
      {
        "duration": 7504,
        "start_time": "2024-04-12T20:21:43.224Z"
      },
      {
        "duration": 3,
        "start_time": "2024-04-12T20:21:58.948Z"
      },
      {
        "duration": 320392,
        "start_time": "2024-04-12T20:22:13.799Z"
      },
      {
        "duration": 5,
        "start_time": "2024-04-12T20:27:43.640Z"
      },
      {
        "duration": 20818,
        "start_time": "2024-04-12T20:27:54.664Z"
      },
      {
        "duration": 40851,
        "start_time": "2024-04-12T20:31:06.095Z"
      },
      {
        "duration": 21019,
        "start_time": "2024-04-12T20:31:59.848Z"
      },
      {
        "duration": 685566,
        "start_time": "2024-04-12T20:32:23.630Z"
      },
      {
        "duration": 4,
        "start_time": "2024-04-12T20:44:38.419Z"
      },
      {
        "duration": 7576,
        "start_time": "2024-04-12T20:44:44.108Z"
      },
      {
        "duration": 279008,
        "start_time": "2024-04-12T20:45:54.273Z"
      },
      {
        "duration": 3,
        "start_time": "2024-04-12T20:54:40.699Z"
      },
      {
        "duration": 10,
        "start_time": "2024-04-12T20:54:52.848Z"
      },
      {
        "duration": 4,
        "start_time": "2024-04-12T20:55:00.414Z"
      },
      {
        "duration": 5,
        "start_time": "2024-04-12T20:55:03.079Z"
      },
      {
        "duration": 4,
        "start_time": "2024-04-12T20:55:50.447Z"
      },
      {
        "duration": 3,
        "start_time": "2024-04-12T20:55:56.405Z"
      },
      {
        "duration": 3,
        "start_time": "2024-04-12T20:55:58.158Z"
      },
      {
        "duration": 419332,
        "start_time": "2024-04-12T20:55:59.466Z"
      },
      {
        "duration": 6,
        "start_time": "2024-04-12T21:04:45.433Z"
      },
      {
        "duration": 1658,
        "start_time": "2024-04-12T21:04:53.530Z"
      },
      {
        "duration": 2,
        "start_time": "2024-04-12T21:04:58.842Z"
      },
      {
        "duration": 19,
        "start_time": "2024-04-12T21:05:02.639Z"
      },
      {
        "duration": 83,
        "start_time": "2024-04-13T11:28:36.450Z"
      },
      {
        "duration": 87,
        "start_time": "2024-04-13T11:30:23.622Z"
      },
      {
        "duration": 4900,
        "start_time": "2024-04-13T11:43:54.517Z"
      },
      {
        "duration": 2507,
        "start_time": "2024-04-13T11:44:12.421Z"
      },
      {
        "duration": 3947,
        "start_time": "2024-04-13T11:44:17.151Z"
      },
      {
        "duration": 3086,
        "start_time": "2024-04-13T11:44:23.802Z"
      },
      {
        "duration": 1582,
        "start_time": "2024-04-13T11:44:31.805Z"
      },
      {
        "duration": 438,
        "start_time": "2024-04-13T11:44:36.896Z"
      },
      {
        "duration": 9,
        "start_time": "2024-04-13T11:44:38.733Z"
      },
      {
        "duration": 3,
        "start_time": "2024-04-13T11:44:43.130Z"
      },
      {
        "duration": 3088,
        "start_time": "2024-04-13T11:44:45.865Z"
      },
      {
        "duration": 13,
        "start_time": "2024-04-13T11:44:54.025Z"
      },
      {
        "duration": 28,
        "start_time": "2024-04-13T11:44:56.347Z"
      },
      {
        "duration": 25,
        "start_time": "2024-04-13T11:44:59.039Z"
      },
      {
        "duration": 128,
        "start_time": "2024-04-13T11:45:03.805Z"
      },
      {
        "duration": 219,
        "start_time": "2024-04-13T11:45:13.406Z"
      },
      {
        "duration": 2,
        "start_time": "2024-04-13T11:45:14.521Z"
      },
      {
        "duration": 2639,
        "start_time": "2024-04-13T11:45:16.899Z"
      },
      {
        "duration": 3,
        "start_time": "2024-04-13T11:45:19.540Z"
      },
      {
        "duration": 3585,
        "start_time": "2024-04-13T11:45:23.194Z"
      },
      {
        "duration": 8,
        "start_time": "2024-04-13T11:45:26.781Z"
      },
      {
        "duration": 5780,
        "start_time": "2024-04-13T17:33:01.660Z"
      },
      {
        "duration": 4019,
        "start_time": "2024-04-13T17:33:07.442Z"
      },
      {
        "duration": 3365,
        "start_time": "2024-04-13T17:33:11.464Z"
      },
      {
        "duration": 1638,
        "start_time": "2024-04-13T17:33:14.832Z"
      },
      {
        "duration": 28040,
        "start_time": "2024-04-13T17:33:16.472Z"
      },
      {
        "duration": 0,
        "start_time": "2024-04-13T17:33:44.514Z"
      },
      {
        "duration": 0,
        "start_time": "2024-04-13T17:33:44.515Z"
      },
      {
        "duration": 0,
        "start_time": "2024-04-13T17:33:44.517Z"
      },
      {
        "duration": 0,
        "start_time": "2024-04-13T17:33:44.518Z"
      },
      {
        "duration": 0,
        "start_time": "2024-04-13T17:33:44.519Z"
      },
      {
        "duration": 0,
        "start_time": "2024-04-13T17:33:44.521Z"
      },
      {
        "duration": 0,
        "start_time": "2024-04-13T17:33:44.522Z"
      },
      {
        "duration": 138,
        "start_time": "2024-04-13T17:33:51.726Z"
      },
      {
        "duration": 9,
        "start_time": "2024-04-13T17:33:56.244Z"
      },
      {
        "duration": 2,
        "start_time": "2024-04-13T17:34:00.474Z"
      },
      {
        "duration": 3301,
        "start_time": "2024-04-13T17:34:03.419Z"
      },
      {
        "duration": 13,
        "start_time": "2024-04-13T17:34:11.702Z"
      },
      {
        "duration": 32,
        "start_time": "2024-04-13T17:34:13.193Z"
      },
      {
        "duration": 31,
        "start_time": "2024-04-13T17:34:17.238Z"
      },
      {
        "duration": 122,
        "start_time": "2024-04-13T17:34:20.645Z"
      },
      {
        "duration": 266,
        "start_time": "2024-04-13T17:34:27.188Z"
      },
      {
        "duration": 3,
        "start_time": "2024-04-13T17:34:31.337Z"
      },
      {
        "duration": 373,
        "start_time": "2024-04-13T17:34:33.284Z"
      },
      {
        "duration": 433,
        "start_time": "2024-04-13T17:35:09.911Z"
      },
      {
        "duration": 3,
        "start_time": "2024-04-13T17:35:36.715Z"
      },
      {
        "duration": 385,
        "start_time": "2024-04-13T17:35:37.490Z"
      },
      {
        "duration": 47,
        "start_time": "2024-04-13T17:36:21.750Z"
      },
      {
        "duration": 226,
        "start_time": "2024-04-13T17:36:30.975Z"
      },
      {
        "duration": 3,
        "start_time": "2024-04-13T17:36:31.926Z"
      },
      {
        "duration": 359,
        "start_time": "2024-04-13T17:36:32.827Z"
      },
      {
        "duration": 2,
        "start_time": "2024-04-13T17:48:32.573Z"
      },
      {
        "duration": 3,
        "start_time": "2024-04-13T17:48:35.363Z"
      },
      {
        "duration": 2,
        "start_time": "2024-04-13T17:48:36.668Z"
      },
      {
        "duration": 3,
        "start_time": "2024-04-13T17:48:37.474Z"
      },
      {
        "duration": 2979,
        "start_time": "2024-04-13T17:48:38.711Z"
      },
      {
        "duration": 3,
        "start_time": "2024-04-13T17:48:43.487Z"
      },
      {
        "duration": 3955,
        "start_time": "2024-04-13T17:48:45.792Z"
      },
      {
        "duration": 9,
        "start_time": "2024-04-13T17:48:50.378Z"
      },
      {
        "duration": 35,
        "start_time": "2024-04-13T17:49:47.589Z"
      },
      {
        "duration": 3489,
        "start_time": "2024-04-13T17:49:50.713Z"
      },
      {
        "duration": 28323,
        "start_time": "2024-04-13T17:49:54.629Z"
      },
      {
        "duration": 1477,
        "start_time": "2024-04-13T17:51:29.110Z"
      },
      {
        "duration": 848,
        "start_time": "2024-04-13T17:51:47.595Z"
      },
      {
        "duration": 12,
        "start_time": "2024-04-13T17:51:53.402Z"
      },
      {
        "duration": 30,
        "start_time": "2024-04-13T17:51:55.095Z"
      },
      {
        "duration": 29,
        "start_time": "2024-04-13T17:51:57.992Z"
      },
      {
        "duration": 129,
        "start_time": "2024-04-13T17:52:01.383Z"
      },
      {
        "duration": 235,
        "start_time": "2024-04-13T17:52:06.846Z"
      },
      {
        "duration": 4,
        "start_time": "2024-04-13T17:52:08.941Z"
      },
      {
        "duration": 3,
        "start_time": "2024-04-13T17:52:10.186Z"
      },
      {
        "duration": 435,
        "start_time": "2024-04-13T17:52:16.828Z"
      },
      {
        "duration": 852,
        "start_time": "2024-04-13T17:56:25.167Z"
      },
      {
        "duration": 12,
        "start_time": "2024-04-13T17:56:30.317Z"
      },
      {
        "duration": 32,
        "start_time": "2024-04-13T17:56:32.151Z"
      },
      {
        "duration": 31,
        "start_time": "2024-04-13T17:56:35.532Z"
      },
      {
        "duration": 119,
        "start_time": "2024-04-13T17:56:38.691Z"
      },
      {
        "duration": 246,
        "start_time": "2024-04-13T17:56:42.695Z"
      },
      {
        "duration": 3,
        "start_time": "2024-04-13T17:56:43.799Z"
      },
      {
        "duration": 1423,
        "start_time": "2024-04-13T17:56:45.098Z"
      },
      {
        "duration": 1417,
        "start_time": "2024-04-13T17:57:02.008Z"
      },
      {
        "duration": 4038,
        "start_time": "2024-04-13T17:57:12.027Z"
      },
      {
        "duration": 4,
        "start_time": "2024-04-13T17:57:19.158Z"
      },
      {
        "duration": 3,
        "start_time": "2024-04-13T17:57:23.676Z"
      },
      {
        "duration": 394,
        "start_time": "2024-04-13T17:57:25.226Z"
      },
      {
        "duration": 494,
        "start_time": "2024-04-13T17:57:54.833Z"
      },
      {
        "duration": 3,
        "start_time": "2024-04-13T17:58:03.907Z"
      },
      {
        "duration": 4,
        "start_time": "2024-04-13T17:58:04.603Z"
      },
      {
        "duration": 99527,
        "start_time": "2024-04-13T17:58:05.893Z"
      },
      {
        "duration": 918,
        "start_time": "2024-04-13T18:00:06.430Z"
      },
      {
        "duration": 13,
        "start_time": "2024-04-13T18:00:11.751Z"
      },
      {
        "duration": 32,
        "start_time": "2024-04-13T18:00:12.522Z"
      },
      {
        "duration": 29,
        "start_time": "2024-04-13T18:00:14.611Z"
      },
      {
        "duration": 115,
        "start_time": "2024-04-13T18:00:16.998Z"
      },
      {
        "duration": 232,
        "start_time": "2024-04-13T18:00:23.254Z"
      },
      {
        "duration": 3,
        "start_time": "2024-04-13T18:00:24.399Z"
      },
      {
        "duration": 3926,
        "start_time": "2024-04-13T18:00:26.321Z"
      },
      {
        "duration": 3,
        "start_time": "2024-04-13T18:00:32.826Z"
      },
      {
        "duration": 3,
        "start_time": "2024-04-13T18:00:34.734Z"
      },
      {
        "duration": 549599,
        "start_time": "2024-04-13T18:00:36.292Z"
      },
      {
        "duration": 4,
        "start_time": "2024-04-13T18:14:05.865Z"
      },
      {
        "duration": 93622,
        "start_time": "2024-04-13T18:14:07.658Z"
      },
      {
        "duration": 4,
        "start_time": "2024-04-13T18:18:34.905Z"
      },
      {
        "duration": 3,
        "start_time": "2024-04-13T18:18:36.441Z"
      },
      {
        "duration": 404,
        "start_time": "2024-04-13T18:18:37.646Z"
      },
      {
        "duration": 4,
        "start_time": "2024-04-13T18:36:14.538Z"
      },
      {
        "duration": 4232,
        "start_time": "2024-04-13T18:36:15.806Z"
      },
      {
        "duration": 5,
        "start_time": "2024-04-13T18:37:52.294Z"
      },
      {
        "duration": 3,
        "start_time": "2024-04-13T18:37:53.358Z"
      },
      {
        "duration": 797860,
        "start_time": "2024-04-13T18:37:54.760Z"
      },
      {
        "duration": 3,
        "start_time": "2024-04-13T18:53:14.482Z"
      },
      {
        "duration": 94514,
        "start_time": "2024-04-13T18:53:16.042Z"
      },
      {
        "duration": 8,
        "start_time": "2024-04-13T18:56:57.509Z"
      },
      {
        "duration": 846,
        "start_time": "2024-04-13T18:57:31.016Z"
      },
      {
        "duration": 13,
        "start_time": "2024-04-13T18:57:35.030Z"
      },
      {
        "duration": 38,
        "start_time": "2024-04-13T18:57:37.382Z"
      },
      {
        "duration": 27,
        "start_time": "2024-04-13T18:57:40.764Z"
      },
      {
        "duration": 117,
        "start_time": "2024-04-13T18:57:43.891Z"
      },
      {
        "duration": 208,
        "start_time": "2024-04-13T18:57:47.815Z"
      },
      {
        "duration": 3,
        "start_time": "2024-04-13T18:57:50.171Z"
      },
      {
        "duration": 95328,
        "start_time": "2024-04-13T18:57:51.763Z"
      },
      {
        "duration": 8,
        "start_time": "2024-04-13T18:59:37.137Z"
      },
      {
        "duration": 4,
        "start_time": "2024-04-13T18:59:46.705Z"
      },
      {
        "duration": 4656,
        "start_time": "2024-04-13T21:28:37.599Z"
      },
      {
        "duration": 3605,
        "start_time": "2024-04-13T21:28:42.257Z"
      },
      {
        "duration": 3226,
        "start_time": "2024-04-13T21:28:45.865Z"
      },
      {
        "duration": 1474,
        "start_time": "2024-04-13T21:28:49.093Z"
      },
      {
        "duration": 120302,
        "start_time": "2024-04-13T21:28:50.569Z"
      },
      {
        "duration": 0,
        "start_time": "2024-04-13T21:30:50.873Z"
      },
      {
        "duration": 0,
        "start_time": "2024-04-13T21:30:50.873Z"
      },
      {
        "duration": 0,
        "start_time": "2024-04-13T21:30:50.874Z"
      },
      {
        "duration": 0,
        "start_time": "2024-04-13T21:30:50.875Z"
      },
      {
        "duration": 0,
        "start_time": "2024-04-13T21:30:50.876Z"
      },
      {
        "duration": 0,
        "start_time": "2024-04-13T21:30:50.877Z"
      },
      {
        "duration": 0,
        "start_time": "2024-04-13T21:30:50.878Z"
      },
      {
        "duration": 432,
        "start_time": "2024-04-13T21:30:58.291Z"
      },
      {
        "duration": 15,
        "start_time": "2024-04-13T21:31:02.535Z"
      },
      {
        "duration": 2,
        "start_time": "2024-04-13T21:31:04.736Z"
      },
      {
        "duration": 2046,
        "start_time": "2024-04-13T21:31:06.406Z"
      },
      {
        "duration": 8,
        "start_time": "2024-04-13T21:31:12.272Z"
      },
      {
        "duration": 23,
        "start_time": "2024-04-13T21:31:13.836Z"
      },
      {
        "duration": 19,
        "start_time": "2024-04-13T21:31:16.038Z"
      },
      {
        "duration": 98,
        "start_time": "2024-04-13T21:31:21.655Z"
      },
      {
        "duration": 188,
        "start_time": "2024-04-13T21:31:26.846Z"
      },
      {
        "duration": 4,
        "start_time": "2024-04-13T21:31:33.910Z"
      },
      {
        "duration": 79380,
        "start_time": "2024-04-13T21:31:36.787Z"
      },
      {
        "duration": 6,
        "start_time": "2024-04-13T21:33:12.219Z"
      },
      {
        "duration": 4,
        "start_time": "2024-04-13T21:33:16.624Z"
      },
      {
        "duration": 2,
        "start_time": "2024-04-13T21:37:43.812Z"
      },
      {
        "duration": 2,
        "start_time": "2024-04-13T21:38:19.122Z"
      },
      {
        "duration": 1879493,
        "start_time": "2024-04-13T21:38:20.335Z"
      },
      {
        "duration": 20,
        "start_time": "2024-04-13T22:13:13.733Z"
      },
      {
        "duration": 2432,
        "start_time": "2024-04-13T22:13:46.519Z"
      },
      {
        "duration": 15,
        "start_time": "2024-04-13T22:13:53.314Z"
      },
      {
        "duration": 8,
        "start_time": "2024-04-13T22:14:51.728Z"
      },
      {
        "duration": 4207,
        "start_time": "2024-04-13T22:15:51.543Z"
      },
      {
        "duration": 45,
        "start_time": "2024-04-13T22:15:59.170Z"
      },
      {
        "duration": 8,
        "start_time": "2024-04-13T22:16:13.944Z"
      },
      {
        "duration": 2442,
        "start_time": "2024-04-13T22:16:40.329Z"
      },
      {
        "duration": 16,
        "start_time": "2024-04-13T22:16:47.307Z"
      },
      {
        "duration": 8,
        "start_time": "2024-04-13T22:18:22.957Z"
      },
      {
        "duration": 3,
        "start_time": "2024-04-13T22:18:24.237Z"
      },
      {
        "duration": 4,
        "start_time": "2024-04-13T22:19:15.064Z"
      },
      {
        "duration": 2,
        "start_time": "2024-04-13T22:19:17.269Z"
      },
      {
        "duration": 3692669,
        "start_time": "2024-04-13T22:19:18.841Z"
      },
      {
        "duration": 2722,
        "start_time": "2024-04-13T23:26:54.968Z"
      },
      {
        "duration": 2836,
        "start_time": "2024-04-13T23:26:57.692Z"
      },
      {
        "duration": 2540,
        "start_time": "2024-04-13T23:27:00.530Z"
      },
      {
        "duration": 2518,
        "start_time": "2024-04-13T23:27:03.072Z"
      },
      {
        "duration": 2914,
        "start_time": "2024-04-13T23:27:05.592Z"
      },
      {
        "duration": 869,
        "start_time": "2024-04-13T23:27:08.508Z"
      },
      {
        "duration": 389,
        "start_time": "2024-04-13T23:27:09.379Z"
      },
      {
        "duration": 7,
        "start_time": "2024-04-13T23:27:09.769Z"
      },
      {
        "duration": 38,
        "start_time": "2024-04-13T23:27:09.777Z"
      },
      {
        "duration": 796,
        "start_time": "2024-04-13T23:27:09.817Z"
      },
      {
        "duration": 9,
        "start_time": "2024-04-13T23:27:10.614Z"
      },
      {
        "duration": 33,
        "start_time": "2024-04-13T23:27:10.624Z"
      },
      {
        "duration": 19,
        "start_time": "2024-04-13T23:27:10.659Z"
      },
      {
        "duration": 111,
        "start_time": "2024-04-13T23:27:10.680Z"
      },
      {
        "duration": 188,
        "start_time": "2024-04-13T23:27:10.793Z"
      },
      {
        "duration": 3,
        "start_time": "2024-04-13T23:27:10.983Z"
      },
      {
        "duration": 3267,
        "start_time": "2024-04-13T23:27:10.987Z"
      },
      {
        "duration": 6,
        "start_time": "2024-04-13T23:27:14.256Z"
      },
      {
        "duration": 32,
        "start_time": "2024-04-13T23:27:14.263Z"
      },
      {
        "duration": 3,
        "start_time": "2024-04-13T23:27:36.650Z"
      },
      {
        "duration": 11319,
        "start_time": "2024-04-13T23:27:39.519Z"
      },
      {
        "duration": 78,
        "start_time": "2024-04-13T23:29:11.242Z"
      },
      {
        "duration": 3,
        "start_time": "2024-04-13T23:29:24.305Z"
      },
      {
        "duration": 3,
        "start_time": "2024-04-13T23:29:25.602Z"
      },
      {
        "duration": 54,
        "start_time": "2024-04-13T23:29:26.615Z"
      },
      {
        "duration": 827,
        "start_time": "2024-04-13T23:32:17.690Z"
      },
      {
        "duration": 11,
        "start_time": "2024-04-13T23:32:25.233Z"
      },
      {
        "duration": 24,
        "start_time": "2024-04-13T23:32:26.452Z"
      },
      {
        "duration": 20,
        "start_time": "2024-04-13T23:32:27.220Z"
      },
      {
        "duration": 137,
        "start_time": "2024-04-13T23:32:29.770Z"
      },
      {
        "duration": 194,
        "start_time": "2024-04-13T23:32:33.159Z"
      },
      {
        "duration": 3,
        "start_time": "2024-04-13T23:32:34.413Z"
      },
      {
        "duration": 3320,
        "start_time": "2024-04-13T23:32:35.167Z"
      },
      {
        "duration": 6,
        "start_time": "2024-04-13T23:32:40.831Z"
      },
      {
        "duration": 4,
        "start_time": "2024-04-13T23:32:42.980Z"
      },
      {
        "duration": 3,
        "start_time": "2024-04-13T23:32:43.778Z"
      },
      {
        "duration": 55,
        "start_time": "2024-04-13T23:32:44.575Z"
      },
      {
        "duration": 2730,
        "start_time": "2024-04-13T23:33:35.232Z"
      },
      {
        "duration": 2906,
        "start_time": "2024-04-13T23:33:37.964Z"
      },
      {
        "duration": 2638,
        "start_time": "2024-04-13T23:33:40.872Z"
      },
      {
        "duration": 2510,
        "start_time": "2024-04-13T23:33:43.512Z"
      },
      {
        "duration": 2926,
        "start_time": "2024-04-13T23:33:46.023Z"
      },
      {
        "duration": 848,
        "start_time": "2024-04-13T23:33:48.951Z"
      },
      {
        "duration": 308,
        "start_time": "2024-04-13T23:33:49.802Z"
      },
      {
        "duration": 6,
        "start_time": "2024-04-13T23:33:50.112Z"
      },
      {
        "duration": 10,
        "start_time": "2024-04-13T23:33:50.119Z"
      },
      {
        "duration": 803,
        "start_time": "2024-04-13T23:33:50.131Z"
      },
      {
        "duration": 8,
        "start_time": "2024-04-13T23:33:50.935Z"
      },
      {
        "duration": 83,
        "start_time": "2024-04-13T23:33:50.945Z"
      },
      {
        "duration": 58,
        "start_time": "2024-04-13T23:33:51.030Z"
      },
      {
        "duration": 116,
        "start_time": "2024-04-13T23:33:51.090Z"
      },
      {
        "duration": 220,
        "start_time": "2024-04-13T23:33:51.208Z"
      },
      {
        "duration": 3,
        "start_time": "2024-04-13T23:33:51.429Z"
      },
      {
        "duration": 3247,
        "start_time": "2024-04-13T23:33:51.433Z"
      },
      {
        "duration": 6,
        "start_time": "2024-04-13T23:33:54.681Z"
      },
      {
        "duration": 15,
        "start_time": "2024-04-13T23:33:54.689Z"
      },
      {
        "duration": 17,
        "start_time": "2024-04-13T23:33:54.706Z"
      },
      {
        "duration": 1621023,
        "start_time": "2024-04-13T23:34:03.129Z"
      },
      {
        "duration": 98,
        "start_time": "2024-04-14T00:10:56.113Z"
      },
      {
        "duration": 2632,
        "start_time": "2024-04-14T00:14:26.499Z"
      },
      {
        "duration": 2930,
        "start_time": "2024-04-14T00:14:29.133Z"
      },
      {
        "duration": 2541,
        "start_time": "2024-04-14T00:14:32.065Z"
      },
      {
        "duration": 2493,
        "start_time": "2024-04-14T00:14:34.608Z"
      },
      {
        "duration": 2908,
        "start_time": "2024-04-14T00:14:37.102Z"
      },
      {
        "duration": 924,
        "start_time": "2024-04-14T00:14:40.012Z"
      },
      {
        "duration": 384,
        "start_time": "2024-04-14T00:14:40.937Z"
      },
      {
        "duration": 8,
        "start_time": "2024-04-14T00:14:41.322Z"
      },
      {
        "duration": 10,
        "start_time": "2024-04-14T00:14:41.332Z"
      },
      {
        "duration": 760,
        "start_time": "2024-04-14T00:14:41.345Z"
      },
      {
        "duration": 8,
        "start_time": "2024-04-14T00:14:42.107Z"
      },
      {
        "duration": 40,
        "start_time": "2024-04-14T00:14:42.116Z"
      },
      {
        "duration": 23,
        "start_time": "2024-04-14T00:14:42.157Z"
      },
      {
        "duration": 104,
        "start_time": "2024-04-14T00:14:42.182Z"
      },
      {
        "duration": 203,
        "start_time": "2024-04-14T00:14:42.288Z"
      },
      {
        "duration": 3,
        "start_time": "2024-04-14T00:14:42.493Z"
      },
      {
        "duration": 3234,
        "start_time": "2024-04-14T00:14:42.502Z"
      },
      {
        "duration": 7,
        "start_time": "2024-04-14T00:14:45.737Z"
      },
      {
        "duration": 18,
        "start_time": "2024-04-14T00:14:45.745Z"
      },
      {
        "duration": 14,
        "start_time": "2024-04-14T00:14:45.764Z"
      },
      {
        "duration": 1418714,
        "start_time": "2024-04-14T00:14:52.884Z"
      },
      {
        "duration": 820,
        "start_time": "2024-04-14T00:41:53.152Z"
      },
      {
        "duration": 12,
        "start_time": "2024-04-14T00:42:07.631Z"
      },
      {
        "duration": 23,
        "start_time": "2024-04-14T00:42:08.640Z"
      },
      {
        "duration": 21,
        "start_time": "2024-04-14T00:42:11.700Z"
      },
      {
        "duration": 98,
        "start_time": "2024-04-14T00:42:14.768Z"
      },
      {
        "duration": 3,
        "start_time": "2024-04-14T00:44:32.213Z"
      },
      {
        "duration": 3,
        "start_time": "2024-04-14T00:45:02.378Z"
      },
      {
        "duration": 3434,
        "start_time": "2024-04-14T00:45:14.112Z"
      },
      {
        "duration": 6,
        "start_time": "2024-04-14T00:45:22.219Z"
      },
      {
        "duration": 3,
        "start_time": "2024-04-14T00:45:42.664Z"
      },
      {
        "duration": 3,
        "start_time": "2024-04-14T00:45:44.888Z"
      },
      {
        "duration": 52,
        "start_time": "2024-04-14T00:45:46.168Z"
      },
      {
        "duration": 2721,
        "start_time": "2024-04-14T00:46:04.982Z"
      },
      {
        "duration": 2895,
        "start_time": "2024-04-14T00:46:07.705Z"
      },
      {
        "duration": 2514,
        "start_time": "2024-04-14T00:46:10.601Z"
      },
      {
        "duration": 2562,
        "start_time": "2024-04-14T00:46:13.117Z"
      },
      {
        "duration": 2912,
        "start_time": "2024-04-14T00:46:15.681Z"
      },
      {
        "duration": 898,
        "start_time": "2024-04-14T00:46:18.594Z"
      },
      {
        "duration": 379,
        "start_time": "2024-04-14T00:46:19.493Z"
      },
      {
        "duration": 7,
        "start_time": "2024-04-14T00:46:19.873Z"
      },
      {
        "duration": 4,
        "start_time": "2024-04-14T00:46:19.881Z"
      },
      {
        "duration": 757,
        "start_time": "2024-04-14T00:46:19.887Z"
      },
      {
        "duration": 7,
        "start_time": "2024-04-14T00:46:20.645Z"
      },
      {
        "duration": 34,
        "start_time": "2024-04-14T00:46:20.654Z"
      },
      {
        "duration": 25,
        "start_time": "2024-04-14T00:46:20.690Z"
      },
      {
        "duration": 97,
        "start_time": "2024-04-14T00:46:20.716Z"
      },
      {
        "duration": 2,
        "start_time": "2024-04-14T00:46:20.814Z"
      },
      {
        "duration": 8,
        "start_time": "2024-04-14T00:46:20.817Z"
      },
      {
        "duration": 3379,
        "start_time": "2024-04-14T00:46:20.826Z"
      },
      {
        "duration": 7,
        "start_time": "2024-04-14T00:46:24.206Z"
      },
      {
        "duration": 6,
        "start_time": "2024-04-14T00:46:24.214Z"
      },
      {
        "duration": 3,
        "start_time": "2024-04-14T00:48:56.470Z"
      },
      {
        "duration": 96377,
        "start_time": "2024-04-14T00:49:00.588Z"
      },
      {
        "duration": 2657,
        "start_time": "2024-04-14T00:51:31.045Z"
      },
      {
        "duration": 2854,
        "start_time": "2024-04-14T00:51:33.704Z"
      },
      {
        "duration": 2442,
        "start_time": "2024-04-14T00:51:36.560Z"
      },
      {
        "duration": 2514,
        "start_time": "2024-04-14T00:51:39.004Z"
      },
      {
        "duration": 2887,
        "start_time": "2024-04-14T00:51:41.519Z"
      },
      {
        "duration": 882,
        "start_time": "2024-04-14T00:51:44.407Z"
      },
      {
        "duration": 324,
        "start_time": "2024-04-14T00:51:45.291Z"
      },
      {
        "duration": 7,
        "start_time": "2024-04-14T00:51:45.616Z"
      },
      {
        "duration": 8,
        "start_time": "2024-04-14T00:51:45.624Z"
      },
      {
        "duration": 769,
        "start_time": "2024-04-14T00:51:45.633Z"
      },
      {
        "duration": 9,
        "start_time": "2024-04-14T00:51:46.403Z"
      },
      {
        "duration": 104,
        "start_time": "2024-04-14T00:51:46.413Z"
      },
      {
        "duration": 42,
        "start_time": "2024-04-14T00:51:46.518Z"
      },
      {
        "duration": 124,
        "start_time": "2024-04-14T00:51:46.561Z"
      },
      {
        "duration": 2,
        "start_time": "2024-04-14T00:51:46.686Z"
      },
      {
        "duration": 2,
        "start_time": "2024-04-14T00:51:54.518Z"
      },
      {
        "duration": 3,
        "start_time": "2024-04-14T00:51:55.581Z"
      },
      {
        "duration": 3411,
        "start_time": "2024-04-14T00:51:56.590Z"
      },
      {
        "duration": 6,
        "start_time": "2024-04-14T00:52:01.807Z"
      },
      {
        "duration": 3,
        "start_time": "2024-04-14T00:52:09.022Z"
      },
      {
        "duration": 3,
        "start_time": "2024-04-14T00:52:11.042Z"
      },
      {
        "duration": 1406102,
        "start_time": "2024-04-14T00:52:12.354Z"
      },
      {
        "duration": 2616,
        "start_time": "2024-04-14T01:20:36.645Z"
      },
      {
        "duration": 2788,
        "start_time": "2024-04-14T01:20:39.263Z"
      },
      {
        "duration": 2523,
        "start_time": "2024-04-14T01:20:42.053Z"
      },
      {
        "duration": 2450,
        "start_time": "2024-04-14T01:20:44.577Z"
      },
      {
        "duration": 2870,
        "start_time": "2024-04-14T01:20:47.028Z"
      },
      {
        "duration": 883,
        "start_time": "2024-04-14T01:20:49.901Z"
      },
      {
        "duration": 341,
        "start_time": "2024-04-14T01:20:50.785Z"
      },
      {
        "duration": 7,
        "start_time": "2024-04-14T01:20:51.128Z"
      },
      {
        "duration": 5,
        "start_time": "2024-04-14T01:20:51.136Z"
      },
      {
        "duration": 764,
        "start_time": "2024-04-14T01:20:51.144Z"
      },
      {
        "duration": 7,
        "start_time": "2024-04-14T01:20:51.909Z"
      },
      {
        "duration": 32,
        "start_time": "2024-04-14T01:20:51.917Z"
      },
      {
        "duration": 18,
        "start_time": "2024-04-14T01:20:51.950Z"
      },
      {
        "duration": 117,
        "start_time": "2024-04-14T01:20:51.969Z"
      },
      {
        "duration": 2,
        "start_time": "2024-04-14T01:20:52.087Z"
      },
      {
        "duration": 15,
        "start_time": "2024-04-14T01:20:52.090Z"
      },
      {
        "duration": 3390,
        "start_time": "2024-04-14T01:20:52.106Z"
      },
      {
        "duration": 8,
        "start_time": "2024-04-14T01:20:55.497Z"
      },
      {
        "duration": 7,
        "start_time": "2024-04-14T01:20:55.507Z"
      },
      {
        "duration": 2,
        "start_time": "2024-04-14T01:21:04.252Z"
      },
      {
        "duration": 392534,
        "start_time": "2024-04-14T01:21:08.594Z"
      },
      {
        "duration": 2700,
        "start_time": "2024-04-14T01:28:24.815Z"
      },
      {
        "duration": 2852,
        "start_time": "2024-04-14T01:28:27.517Z"
      },
      {
        "duration": 2451,
        "start_time": "2024-04-14T01:28:30.371Z"
      },
      {
        "duration": 2492,
        "start_time": "2024-04-14T01:28:32.824Z"
      },
      {
        "duration": 2890,
        "start_time": "2024-04-14T01:28:35.318Z"
      },
      {
        "duration": 843,
        "start_time": "2024-04-14T01:28:38.210Z"
      },
      {
        "duration": 318,
        "start_time": "2024-04-14T01:28:39.054Z"
      },
      {
        "duration": 7,
        "start_time": "2024-04-14T01:28:39.373Z"
      },
      {
        "duration": 22,
        "start_time": "2024-04-14T01:28:39.381Z"
      },
      {
        "duration": 735,
        "start_time": "2024-04-14T01:28:39.404Z"
      },
      {
        "duration": 7,
        "start_time": "2024-04-14T01:28:40.141Z"
      },
      {
        "duration": 32,
        "start_time": "2024-04-14T01:28:40.149Z"
      },
      {
        "duration": 15,
        "start_time": "2024-04-14T01:28:40.182Z"
      },
      {
        "duration": 121,
        "start_time": "2024-04-14T01:28:40.199Z"
      },
      {
        "duration": 2,
        "start_time": "2024-04-14T01:28:40.321Z"
      },
      {
        "duration": 5,
        "start_time": "2024-04-14T01:28:40.324Z"
      },
      {
        "duration": 3391,
        "start_time": "2024-04-14T01:28:45.795Z"
      },
      {
        "duration": 6,
        "start_time": "2024-04-14T01:28:53.956Z"
      },
      {
        "duration": 3,
        "start_time": "2024-04-14T01:28:57.960Z"
      },
      {
        "duration": 3,
        "start_time": "2024-04-14T01:29:37.361Z"
      },
      {
        "duration": 4,
        "start_time": "2024-04-14T01:29:38.620Z"
      },
      {
        "duration": 1264719,
        "start_time": "2024-04-14T01:29:41.930Z"
      },
      {
        "duration": 166,
        "start_time": "2024-04-14T01:53:16.961Z"
      },
      {
        "duration": 2839,
        "start_time": "2024-04-14T01:53:25.644Z"
      },
      {
        "duration": 22483,
        "start_time": "2024-04-14T01:53:35.155Z"
      },
      {
        "duration": 7,
        "start_time": "2024-04-14T01:54:04.487Z"
      },
      {
        "duration": 45,
        "start_time": "2024-04-14T01:54:07.595Z"
      },
      {
        "duration": 7,
        "start_time": "2024-04-14T01:54:14.013Z"
      },
      {
        "duration": 4,
        "start_time": "2024-04-14T01:54:17.457Z"
      },
      {
        "duration": 38,
        "start_time": "2024-04-14T01:54:24.580Z"
      },
      {
        "duration": 137,
        "start_time": "2024-04-14T01:54:44.485Z"
      },
      {
        "duration": 3,
        "start_time": "2024-04-14T01:55:13.147Z"
      },
      {
        "duration": 4318,
        "start_time": "2024-04-14T01:55:44.160Z"
      },
      {
        "duration": 2,
        "start_time": "2024-04-14T01:55:54.627Z"
      },
      {
        "duration": 266998,
        "start_time": "2024-04-14T01:55:59.313Z"
      },
      {
        "duration": 4,
        "start_time": "2024-04-14T02:00:26.313Z"
      },
      {
        "duration": 13648,
        "start_time": "2024-04-14T02:00:50.093Z"
      },
      {
        "duration": 630488,
        "start_time": "2024-04-14T02:01:09.823Z"
      },
      {
        "duration": 3,
        "start_time": "2024-04-14T02:14:43.013Z"
      },
      {
        "duration": 6321,
        "start_time": "2024-04-14T02:15:31.695Z"
      },
      {
        "duration": 21,
        "start_time": "2024-04-14T02:15:41.002Z"
      },
      {
        "duration": 8,
        "start_time": "2024-04-14T02:15:53.323Z"
      },
      {
        "duration": 12,
        "start_time": "2024-04-14T02:16:08.486Z"
      },
      {
        "duration": 240232,
        "start_time": "2024-04-14T02:16:40.987Z"
      },
      {
        "duration": 3,
        "start_time": "2024-04-14T02:21:18.874Z"
      },
      {
        "duration": 8,
        "start_time": "2024-04-14T02:21:22.740Z"
      },
      {
        "duration": 3,
        "start_time": "2024-04-14T02:21:30.156Z"
      },
      {
        "duration": 5,
        "start_time": "2024-04-14T02:21:31.164Z"
      },
      {
        "duration": 2,
        "start_time": "2024-04-14T02:21:54.061Z"
      },
      {
        "duration": 7,
        "start_time": "2024-04-14T02:22:18.341Z"
      },
      {
        "duration": 333369,
        "start_time": "2024-04-14T02:22:27.064Z"
      },
      {
        "duration": 5482,
        "start_time": "2024-04-14T14:47:34.750Z"
      },
      {
        "duration": 3773,
        "start_time": "2024-04-14T14:47:40.235Z"
      },
      {
        "duration": 3442,
        "start_time": "2024-04-14T14:47:44.010Z"
      },
      {
        "duration": 2700,
        "start_time": "2024-04-14T14:47:47.454Z"
      },
      {
        "duration": 5443,
        "start_time": "2024-04-14T14:47:50.156Z"
      },
      {
        "duration": 2399,
        "start_time": "2024-04-14T14:47:55.601Z"
      },
      {
        "duration": 124418,
        "start_time": "2024-04-14T14:47:58.002Z"
      },
      {
        "duration": 0,
        "start_time": "2024-04-14T14:50:02.422Z"
      },
      {
        "duration": 0,
        "start_time": "2024-04-14T14:50:02.424Z"
      },
      {
        "duration": 0,
        "start_time": "2024-04-14T14:50:02.425Z"
      },
      {
        "duration": 0,
        "start_time": "2024-04-14T14:50:02.426Z"
      },
      {
        "duration": 0,
        "start_time": "2024-04-14T14:50:02.427Z"
      },
      {
        "duration": 0,
        "start_time": "2024-04-14T14:50:02.429Z"
      },
      {
        "duration": 0,
        "start_time": "2024-04-14T14:50:02.430Z"
      },
      {
        "duration": 0,
        "start_time": "2024-04-14T14:50:02.431Z"
      },
      {
        "duration": 0,
        "start_time": "2024-04-14T14:50:02.432Z"
      },
      {
        "duration": 0,
        "start_time": "2024-04-14T14:50:02.433Z"
      },
      {
        "duration": 0,
        "start_time": "2024-04-14T14:50:02.434Z"
      },
      {
        "duration": 2987,
        "start_time": "2024-04-14T14:50:13.831Z"
      },
      {
        "duration": 3071,
        "start_time": "2024-04-14T14:50:16.820Z"
      },
      {
        "duration": 2670,
        "start_time": "2024-04-14T14:50:19.893Z"
      },
      {
        "duration": 2679,
        "start_time": "2024-04-14T14:50:22.566Z"
      },
      {
        "duration": 3140,
        "start_time": "2024-04-14T14:50:25.247Z"
      },
      {
        "duration": 2104,
        "start_time": "2024-04-14T14:50:28.389Z"
      },
      {
        "duration": 505193,
        "start_time": "2024-04-14T14:50:30.495Z"
      },
      {
        "duration": 0,
        "start_time": "2024-04-14T14:58:55.690Z"
      },
      {
        "duration": 0,
        "start_time": "2024-04-14T14:58:55.692Z"
      },
      {
        "duration": 0,
        "start_time": "2024-04-14T14:58:55.694Z"
      },
      {
        "duration": 0,
        "start_time": "2024-04-14T14:58:55.695Z"
      },
      {
        "duration": 0,
        "start_time": "2024-04-14T14:58:55.697Z"
      },
      {
        "duration": 0,
        "start_time": "2024-04-14T14:58:55.699Z"
      },
      {
        "duration": 0,
        "start_time": "2024-04-14T14:58:55.700Z"
      },
      {
        "duration": 0,
        "start_time": "2024-04-14T14:58:55.715Z"
      },
      {
        "duration": 0,
        "start_time": "2024-04-14T14:58:55.717Z"
      },
      {
        "duration": 0,
        "start_time": "2024-04-14T14:58:55.718Z"
      },
      {
        "duration": 0,
        "start_time": "2024-04-14T14:58:55.720Z"
      },
      {
        "duration": 543,
        "start_time": "2024-04-14T14:59:09.951Z"
      },
      {
        "duration": 3044,
        "start_time": "2024-04-14T14:59:34.059Z"
      },
      {
        "duration": 3101,
        "start_time": "2024-04-14T14:59:37.105Z"
      },
      {
        "duration": 2679,
        "start_time": "2024-04-14T14:59:40.208Z"
      },
      {
        "duration": 2618,
        "start_time": "2024-04-14T14:59:42.888Z"
      },
      {
        "duration": 2675,
        "start_time": "2024-04-14T14:59:45.509Z"
      },
      {
        "duration": 5,
        "start_time": "2024-04-14T14:59:48.186Z"
      },
      {
        "duration": 16,
        "start_time": "2024-04-14T14:59:48.193Z"
      },
      {
        "duration": 12,
        "start_time": "2024-04-14T14:59:48.211Z"
      },
      {
        "duration": 3,
        "start_time": "2024-04-14T14:59:48.225Z"
      },
      {
        "duration": 2277,
        "start_time": "2024-04-14T14:59:48.230Z"
      },
      {
        "duration": 12,
        "start_time": "2024-04-14T14:59:50.508Z"
      },
      {
        "duration": 34,
        "start_time": "2024-04-14T14:59:50.522Z"
      },
      {
        "duration": 27,
        "start_time": "2024-04-14T14:59:50.558Z"
      },
      {
        "duration": 146,
        "start_time": "2024-04-14T14:59:50.588Z"
      },
      {
        "duration": 3,
        "start_time": "2024-04-14T14:59:50.735Z"
      },
      {
        "duration": 4,
        "start_time": "2024-04-14T14:59:50.740Z"
      },
      {
        "duration": 4490,
        "start_time": "2024-04-14T14:59:50.745Z"
      },
      {
        "duration": 7,
        "start_time": "2024-04-14T14:59:55.237Z"
      },
      {
        "duration": 4,
        "start_time": "2024-04-14T15:00:00.896Z"
      },
      {
        "duration": 3,
        "start_time": "2024-04-14T15:00:01.699Z"
      },
      {
        "duration": 238742,
        "start_time": "2024-04-14T15:00:02.587Z"
      },
      {
        "duration": 36,
        "start_time": "2024-04-14T15:04:31.181Z"
      },
      {
        "duration": 7699,
        "start_time": "2024-04-14T15:04:52.536Z"
      },
      {
        "duration": 5757,
        "start_time": "2024-04-14T20:43:02.873Z"
      },
      {
        "duration": 4288,
        "start_time": "2024-04-14T20:43:15.115Z"
      },
      {
        "duration": 3648,
        "start_time": "2024-04-14T20:43:28.959Z"
      },
      {
        "duration": 2708,
        "start_time": "2024-04-14T20:43:39.619Z"
      },
      {
        "duration": 5604,
        "start_time": "2024-04-14T20:43:52.933Z"
      },
      {
        "duration": 1304,
        "start_time": "2024-04-14T20:44:02.884Z"
      },
      {
        "duration": 305037,
        "start_time": "2024-04-14T20:44:11.286Z"
      },
      {
        "duration": 314,
        "start_time": "2024-04-14T20:49:18.654Z"
      },
      {
        "duration": 29,
        "start_time": "2024-04-14T20:49:28.440Z"
      },
      {
        "duration": 3,
        "start_time": "2024-04-14T20:49:32.511Z"
      },
      {
        "duration": 3229,
        "start_time": "2024-04-14T20:49:35.627Z"
      },
      {
        "duration": 12,
        "start_time": "2024-04-14T20:49:45.634Z"
      },
      {
        "duration": 33,
        "start_time": "2024-04-14T20:49:47.997Z"
      },
      {
        "duration": 28,
        "start_time": "2024-04-14T20:49:52.158Z"
      },
      {
        "duration": 131,
        "start_time": "2024-04-14T20:49:56.408Z"
      },
      {
        "duration": 2,
        "start_time": "2024-04-14T20:50:03.806Z"
      },
      {
        "duration": 3,
        "start_time": "2024-04-14T20:50:16.463Z"
      },
      {
        "duration": 4685,
        "start_time": "2024-04-14T20:50:18.313Z"
      },
      {
        "duration": 8,
        "start_time": "2024-04-14T20:50:30.343Z"
      },
      {
        "duration": 4,
        "start_time": "2024-04-14T20:50:43.836Z"
      },
      {
        "duration": 4,
        "start_time": "2024-04-14T20:50:48.668Z"
      },
      {
        "duration": 1596792,
        "start_time": "2024-04-14T20:50:50.884Z"
      },
      {
        "duration": 12,
        "start_time": "2024-04-14T21:19:02.910Z"
      },
      {
        "duration": 260,
        "start_time": "2024-04-14T21:19:13.889Z"
      },
      {
        "duration": 3681,
        "start_time": "2024-04-14T21:19:19.701Z"
      },
      {
        "duration": 28117,
        "start_time": "2024-04-14T21:19:31.926Z"
      },
      {
        "duration": 11,
        "start_time": "2024-04-14T21:20:21.065Z"
      },
      {
        "duration": 56,
        "start_time": "2024-04-14T21:20:23.641Z"
      },
      {
        "duration": 7,
        "start_time": "2024-04-14T21:20:29.246Z"
      },
      {
        "duration": 4,
        "start_time": "2024-04-14T21:21:11.627Z"
      },
      {
        "duration": 61,
        "start_time": "2024-04-14T21:21:23.804Z"
      },
      {
        "duration": 177,
        "start_time": "2024-04-14T21:21:31.032Z"
      },
      {
        "duration": 5,
        "start_time": "2024-04-14T21:37:34.523Z"
      },
      {
        "duration": 5566,
        "start_time": "2024-04-14T21:37:39.717Z"
      },
      {
        "duration": 3,
        "start_time": "2024-04-14T21:37:58.504Z"
      },
      {
        "duration": 280828,
        "start_time": "2024-04-14T21:38:03.051Z"
      },
      {
        "duration": 4,
        "start_time": "2024-04-14T21:42:59.804Z"
      },
      {
        "duration": 17402,
        "start_time": "2024-04-14T21:43:05.876Z"
      },
      {
        "duration": 687586,
        "start_time": "2024-04-14T21:43:41.010Z"
      },
      {
        "duration": 4,
        "start_time": "2024-04-14T21:55:18.020Z"
      },
      {
        "duration": 5859,
        "start_time": "2024-04-14T21:59:47.380Z"
      },
      {
        "duration": 214148,
        "start_time": "2024-04-14T22:00:17.227Z"
      },
      {
        "duration": 4,
        "start_time": "2024-04-14T22:04:02.353Z"
      },
      {
        "duration": 10,
        "start_time": "2024-04-14T22:04:04.908Z"
      },
      {
        "duration": 3,
        "start_time": "2024-04-14T22:07:01.648Z"
      },
      {
        "duration": 5,
        "start_time": "2024-04-14T22:07:06.779Z"
      },
      {
        "duration": 3,
        "start_time": "2024-04-14T22:07:10.812Z"
      },
      {
        "duration": 3,
        "start_time": "2024-04-14T22:07:13.309Z"
      },
      {
        "duration": 8031,
        "start_time": "2024-04-14T22:10:01.880Z"
      },
      {
        "duration": 3,
        "start_time": "2024-04-14T22:10:24.732Z"
      },
      {
        "duration": 3,
        "start_time": "2024-04-14T22:10:31.793Z"
      },
      {
        "duration": 450299,
        "start_time": "2024-04-14T22:10:41.069Z"
      },
      {
        "duration": 8,
        "start_time": "2024-04-14T22:19:52.367Z"
      },
      {
        "duration": 1783,
        "start_time": "2024-04-14T22:20:56.079Z"
      },
      {
        "duration": 3,
        "start_time": "2024-04-14T22:21:01.453Z"
      },
      {
        "duration": 21,
        "start_time": "2024-04-14T22:21:04.456Z"
      },
      {
        "duration": 2592,
        "start_time": "2024-04-27T20:56:00.848Z"
      },
      {
        "duration": 3809,
        "start_time": "2024-04-27T20:56:07.727Z"
      },
      {
        "duration": 3326,
        "start_time": "2024-04-27T20:56:15.229Z"
      },
      {
        "duration": 2381,
        "start_time": "2024-04-27T20:56:24.401Z"
      },
      {
        "duration": 5040,
        "start_time": "2024-04-27T20:56:30.093Z"
      },
      {
        "duration": 1036,
        "start_time": "2024-04-27T20:56:39.153Z"
      },
      {
        "duration": 921,
        "start_time": "2024-04-27T20:56:45.835Z"
      },
      {
        "duration": 9,
        "start_time": "2024-04-27T20:56:53.874Z"
      },
      {
        "duration": 2,
        "start_time": "2024-04-27T20:56:57.483Z"
      },
      {
        "duration": 2275,
        "start_time": "2024-04-27T20:57:03.371Z"
      },
      {
        "duration": 13,
        "start_time": "2024-04-27T20:57:09.163Z"
      },
      {
        "duration": 31,
        "start_time": "2024-04-27T20:57:12.129Z"
      },
      {
        "duration": 25,
        "start_time": "2024-04-27T20:57:14.491Z"
      },
      {
        "duration": 112,
        "start_time": "2024-04-27T20:57:17.914Z"
      },
      {
        "duration": 2,
        "start_time": "2024-04-27T20:57:29.115Z"
      },
      {
        "duration": 4,
        "start_time": "2024-04-27T20:57:33.996Z"
      },
      {
        "duration": 2624,
        "start_time": "2024-04-27T21:02:31.793Z"
      },
      {
        "duration": 2595,
        "start_time": "2024-04-27T21:02:47.642Z"
      },
      {
        "duration": 2700,
        "start_time": "2024-04-27T21:02:53.282Z"
      },
      {
        "duration": 2360,
        "start_time": "2024-04-27T21:02:58.716Z"
      },
      {
        "duration": 2353,
        "start_time": "2024-04-27T21:03:03.830Z"
      },
      {
        "duration": 2821,
        "start_time": "2024-04-27T21:03:11.195Z"
      },
      {
        "duration": 896,
        "start_time": "2024-04-27T21:03:16.653Z"
      },
      {
        "duration": 343,
        "start_time": "2024-04-27T21:03:20.994Z"
      },
      {
        "duration": 9,
        "start_time": "2024-04-27T21:03:30.475Z"
      },
      {
        "duration": 3,
        "start_time": "2024-04-27T21:03:33.470Z"
      },
      {
        "duration": 811,
        "start_time": "2024-04-27T21:03:36.194Z"
      },
      {
        "duration": 12,
        "start_time": "2024-04-27T21:03:40.458Z"
      },
      {
        "duration": 31,
        "start_time": "2024-04-27T21:03:45.369Z"
      },
      {
        "duration": 29,
        "start_time": "2024-04-27T21:03:48.077Z"
      },
      {
        "duration": 113,
        "start_time": "2024-04-27T21:03:51.830Z"
      },
      {
        "duration": 2,
        "start_time": "2024-04-27T21:03:56.344Z"
      },
      {
        "duration": 3,
        "start_time": "2024-04-27T21:03:58.372Z"
      },
      {
        "duration": 3971,
        "start_time": "2024-04-27T21:04:02.046Z"
      },
      {
        "duration": 7,
        "start_time": "2024-04-27T21:04:09.760Z"
      },
      {
        "duration": 4,
        "start_time": "2024-04-27T21:04:13.782Z"
      },
      {
        "duration": 3,
        "start_time": "2024-04-27T21:04:24.140Z"
      },
      {
        "duration": 1432268,
        "start_time": "2024-04-27T21:04:30.386Z"
      },
      {
        "duration": 12,
        "start_time": "2024-04-27T21:29:31.293Z"
      },
      {
        "duration": 253,
        "start_time": "2024-04-27T21:33:12.355Z"
      },
      {
        "duration": 3214,
        "start_time": "2024-04-27T21:33:21.566Z"
      },
      {
        "duration": 24513,
        "start_time": "2024-04-27T21:33:31.536Z"
      },
      {
        "duration": 10,
        "start_time": "2024-04-27T21:34:09.217Z"
      },
      {
        "duration": 50,
        "start_time": "2024-04-27T21:34:11.092Z"
      },
      {
        "duration": 8,
        "start_time": "2024-04-27T21:34:15.973Z"
      },
      {
        "duration": 2,
        "start_time": "2024-04-27T21:37:24.090Z"
      },
      {
        "duration": 2,
        "start_time": "2024-04-27T21:37:33.271Z"
      },
      {
        "duration": 2,
        "start_time": "2024-04-27T21:37:40.711Z"
      },
      {
        "duration": 12,
        "start_time": "2024-04-27T21:38:03.915Z"
      },
      {
        "duration": 4,
        "start_time": "2024-04-27T21:38:12.625Z"
      },
      {
        "duration": 4813,
        "start_time": "2024-04-27T21:38:37.790Z"
      },
      {
        "duration": 4976,
        "start_time": "2024-04-28T08:29:26.980Z"
      },
      {
        "duration": 3794,
        "start_time": "2024-04-28T08:29:34.189Z"
      },
      {
        "duration": 3039,
        "start_time": "2024-04-28T08:29:40.756Z"
      },
      {
        "duration": 2384,
        "start_time": "2024-04-28T08:29:46.679Z"
      },
      {
        "duration": 4705,
        "start_time": "2024-04-28T08:29:52.762Z"
      },
      {
        "duration": 1105,
        "start_time": "2024-04-28T08:30:00.744Z"
      },
      {
        "duration": 959,
        "start_time": "2024-04-28T08:30:03.905Z"
      },
      {
        "duration": 14,
        "start_time": "2024-04-28T08:30:07.742Z"
      },
      {
        "duration": 3,
        "start_time": "2024-04-28T08:30:10.593Z"
      },
      {
        "duration": 2233,
        "start_time": "2024-04-28T08:30:13.576Z"
      },
      {
        "duration": 11,
        "start_time": "2024-04-28T08:30:20.205Z"
      },
      {
        "duration": 29,
        "start_time": "2024-04-28T08:30:22.847Z"
      },
      {
        "duration": 24,
        "start_time": "2024-04-28T08:30:25.694Z"
      },
      {
        "duration": 115,
        "start_time": "2024-04-28T08:30:28.514Z"
      },
      {
        "duration": 2,
        "start_time": "2024-04-28T08:30:33.354Z"
      },
      {
        "duration": 3,
        "start_time": "2024-04-28T08:30:34.882Z"
      },
      {
        "duration": 4022,
        "start_time": "2024-04-28T08:30:37.608Z"
      },
      {
        "duration": 7,
        "start_time": "2024-04-28T08:30:45.087Z"
      },
      {
        "duration": 3,
        "start_time": "2024-04-28T08:30:50.456Z"
      },
      {
        "duration": 3,
        "start_time": "2024-04-28T08:30:53.498Z"
      },
      {
        "duration": 1470294,
        "start_time": "2024-04-28T08:30:57.070Z"
      },
      {
        "duration": 12,
        "start_time": "2024-04-28T08:55:33.145Z"
      },
      {
        "duration": 224,
        "start_time": "2024-04-28T08:55:39.663Z"
      },
      {
        "duration": 3116,
        "start_time": "2024-04-28T08:55:46.496Z"
      },
      {
        "duration": 24772,
        "start_time": "2024-04-28T08:55:52.856Z"
      },
      {
        "duration": 10,
        "start_time": "2024-04-28T08:56:24.324Z"
      },
      {
        "duration": 48,
        "start_time": "2024-04-28T08:56:27.904Z"
      },
      {
        "duration": 7,
        "start_time": "2024-04-28T08:56:32.207Z"
      },
      {
        "duration": 2,
        "start_time": "2024-04-28T08:56:38.182Z"
      },
      {
        "duration": 3,
        "start_time": "2024-04-28T08:56:39.178Z"
      },
      {
        "duration": 3,
        "start_time": "2024-04-28T08:56:42.200Z"
      },
      {
        "duration": 3,
        "start_time": "2024-04-28T08:56:49.105Z"
      },
      {
        "duration": 4984,
        "start_time": "2024-04-28T08:57:14.210Z"
      },
      {
        "duration": 3,
        "start_time": "2024-04-28T08:57:27.570Z"
      },
      {
        "duration": 207792,
        "start_time": "2024-04-28T08:57:33.064Z"
      },
      {
        "duration": 4,
        "start_time": "2024-04-28T09:03:16.112Z"
      },
      {
        "duration": 14735,
        "start_time": "2024-04-28T09:03:21.882Z"
      },
      {
        "duration": 507879,
        "start_time": "2024-04-28T09:03:45.968Z"
      },
      {
        "duration": 3,
        "start_time": "2024-04-28T09:13:25.845Z"
      },
      {
        "duration": 5263,
        "start_time": "2024-04-28T09:13:31.138Z"
      },
      {
        "duration": 207667,
        "start_time": "2024-04-28T09:13:40.481Z"
      },
      {
        "duration": 3,
        "start_time": "2024-04-28T09:18:59.583Z"
      },
      {
        "duration": 9,
        "start_time": "2024-04-28T09:19:03.905Z"
      },
      {
        "duration": 4,
        "start_time": "2024-04-28T10:21:22.640Z"
      },
      {
        "duration": 4,
        "start_time": "2024-04-28T10:21:29.675Z"
      },
      {
        "duration": 30,
        "start_time": "2024-04-28T10:21:34.539Z"
      },
      {
        "duration": 5013,
        "start_time": "2024-04-28T10:21:47.420Z"
      },
      {
        "duration": 4927,
        "start_time": "2024-04-28T10:22:38.348Z"
      },
      {
        "duration": 3,
        "start_time": "2024-04-28T10:22:48.598Z"
      },
      {
        "duration": 2,
        "start_time": "2024-04-28T10:22:55.875Z"
      },
      {
        "duration": 256903,
        "start_time": "2024-04-28T10:23:03.094Z"
      },
      {
        "duration": 5,
        "start_time": "2024-04-28T10:48:39.130Z"
      },
      {
        "duration": 1536,
        "start_time": "2024-04-28T10:48:43.983Z"
      },
      {
        "duration": 2,
        "start_time": "2024-04-28T10:48:50.790Z"
      },
      {
        "duration": 18,
        "start_time": "2024-04-28T10:48:58.912Z"
      },
      {
        "duration": 25,
        "start_time": "2024-04-28T11:08:50.184Z"
      },
      {
        "duration": 6031,
        "start_time": "2024-04-28T11:09:46.700Z"
      },
      {
        "duration": 22,
        "start_time": "2024-04-28T11:10:09.348Z"
      },
      {
        "duration": 19,
        "start_time": "2024-04-28T11:13:12.991Z"
      },
      {
        "duration": 14,
        "start_time": "2024-04-28T11:13:30.341Z"
      },
      {
        "duration": 12,
        "start_time": "2024-04-28T11:14:25.254Z"
      },
      {
        "duration": 2688,
        "start_time": "2024-04-28T11:22:29.933Z"
      },
      {
        "duration": 2731,
        "start_time": "2024-04-28T11:22:33.913Z"
      },
      {
        "duration": 2338,
        "start_time": "2024-04-28T11:22:38.652Z"
      },
      {
        "duration": 2361,
        "start_time": "2024-04-28T11:22:43.471Z"
      },
      {
        "duration": 2743,
        "start_time": "2024-04-28T11:22:47.531Z"
      },
      {
        "duration": 795,
        "start_time": "2024-04-28T11:22:52.339Z"
      },
      {
        "duration": 420,
        "start_time": "2024-04-28T11:22:57.000Z"
      },
      {
        "duration": 9,
        "start_time": "2024-04-28T11:22:59.879Z"
      },
      {
        "duration": 2,
        "start_time": "2024-04-28T11:23:03.337Z"
      },
      {
        "duration": 2641,
        "start_time": "2024-04-28T11:23:04.954Z"
      },
      {
        "duration": 63,
        "start_time": "2024-04-28T11:23:10.073Z"
      },
      {
        "duration": 850,
        "start_time": "2024-04-28T11:23:14.144Z"
      },
      {
        "duration": 12,
        "start_time": "2024-04-28T11:23:19.339Z"
      },
      {
        "duration": 31,
        "start_time": "2024-04-28T11:23:20.851Z"
      },
      {
        "duration": 25,
        "start_time": "2024-04-28T11:23:22.051Z"
      },
      {
        "duration": 127,
        "start_time": "2024-04-28T11:23:25.673Z"
      },
      {
        "duration": 2,
        "start_time": "2024-04-28T11:23:29.573Z"
      },
      {
        "duration": 3,
        "start_time": "2024-04-28T11:23:30.214Z"
      },
      {
        "duration": 3952,
        "start_time": "2024-04-28T11:23:31.132Z"
      },
      {
        "duration": 8,
        "start_time": "2024-04-28T11:23:38.055Z"
      },
      {
        "duration": 4,
        "start_time": "2024-04-28T11:23:40.811Z"
      },
      {
        "duration": 3,
        "start_time": "2024-04-28T11:23:42.652Z"
      },
      {
        "duration": 1459495,
        "start_time": "2024-04-28T11:23:45.533Z"
      },
      {
        "duration": 10,
        "start_time": "2024-04-28T11:49:13.679Z"
      },
      {
        "duration": 214,
        "start_time": "2024-04-28T11:49:18.507Z"
      },
      {
        "duration": 3080,
        "start_time": "2024-04-28T11:49:24.551Z"
      },
      {
        "duration": 23927,
        "start_time": "2024-04-28T11:49:31.478Z"
      },
      {
        "duration": 9,
        "start_time": "2024-04-28T11:50:00.640Z"
      },
      {
        "duration": 48,
        "start_time": "2024-04-28T11:50:04.088Z"
      },
      {
        "duration": 7,
        "start_time": "2024-04-28T11:50:07.377Z"
      },
      {
        "duration": 3,
        "start_time": "2024-04-28T11:50:15.770Z"
      },
      {
        "duration": 2,
        "start_time": "2024-04-28T11:50:16.710Z"
      },
      {
        "duration": 2,
        "start_time": "2024-04-28T11:50:19.267Z"
      },
      {
        "duration": 2,
        "start_time": "2024-04-28T11:50:21.738Z"
      },
      {
        "duration": 14,
        "start_time": "2024-04-28T11:50:26.109Z"
      },
      {
        "duration": 13,
        "start_time": "2024-04-28T11:50:45.818Z"
      },
      {
        "duration": 2530,
        "start_time": "2024-04-28T11:53:09.806Z"
      },
      {
        "duration": 2906,
        "start_time": "2024-04-28T11:53:14.132Z"
      },
      {
        "duration": 2400,
        "start_time": "2024-04-28T11:53:17.041Z"
      },
      {
        "duration": 2382,
        "start_time": "2024-04-28T11:53:21.528Z"
      },
      {
        "duration": 2843,
        "start_time": "2024-04-28T11:53:25.579Z"
      },
      {
        "duration": 765,
        "start_time": "2024-04-28T11:53:31.019Z"
      },
      {
        "duration": 343,
        "start_time": "2024-04-28T11:53:32.880Z"
      },
      {
        "duration": 8,
        "start_time": "2024-04-28T11:53:35.766Z"
      },
      {
        "duration": 3,
        "start_time": "2024-04-28T11:53:38.847Z"
      },
      {
        "duration": 2578,
        "start_time": "2024-04-28T11:53:39.764Z"
      },
      {
        "duration": 65,
        "start_time": "2024-04-28T11:53:47.180Z"
      },
      {
        "duration": 796,
        "start_time": "2024-04-28T11:53:50.558Z"
      },
      {
        "duration": 11,
        "start_time": "2024-04-28T11:53:54.425Z"
      },
      {
        "duration": 30,
        "start_time": "2024-04-28T11:53:56.257Z"
      },
      {
        "duration": 25,
        "start_time": "2024-04-28T11:53:58.729Z"
      },
      {
        "duration": 125,
        "start_time": "2024-04-28T11:54:01.879Z"
      },
      {
        "duration": 2,
        "start_time": "2024-04-28T11:54:05.428Z"
      },
      {
        "duration": 3,
        "start_time": "2024-04-28T11:54:06.128Z"
      },
      {
        "duration": 3942,
        "start_time": "2024-04-28T11:54:07.629Z"
      },
      {
        "duration": 7,
        "start_time": "2024-04-28T11:54:14.367Z"
      },
      {
        "duration": 4,
        "start_time": "2024-04-28T11:54:18.197Z"
      },
      {
        "duration": 3,
        "start_time": "2024-04-28T11:54:19.445Z"
      },
      {
        "duration": 1840733,
        "start_time": "2024-04-28T11:54:20.867Z"
      },
      {
        "duration": 11,
        "start_time": "2024-04-28T12:28:54.119Z"
      },
      {
        "duration": 227,
        "start_time": "2024-04-28T12:28:57.539Z"
      },
      {
        "duration": 3183,
        "start_time": "2024-04-28T12:29:00.271Z"
      },
      {
        "duration": 24466,
        "start_time": "2024-04-28T12:29:06.568Z"
      },
      {
        "duration": 9,
        "start_time": "2024-04-28T12:29:36.437Z"
      },
      {
        "duration": 47,
        "start_time": "2024-04-28T12:29:37.998Z"
      },
      {
        "duration": 7,
        "start_time": "2024-04-28T12:29:40.453Z"
      },
      {
        "duration": 2,
        "start_time": "2024-04-28T12:29:43.160Z"
      },
      {
        "duration": 3,
        "start_time": "2024-04-28T12:29:43.762Z"
      },
      {
        "duration": 3,
        "start_time": "2024-04-28T12:29:46.043Z"
      },
      {
        "duration": 3,
        "start_time": "2024-04-28T12:29:48.070Z"
      },
      {
        "duration": 14,
        "start_time": "2024-04-28T12:29:51.435Z"
      },
      {
        "duration": 4687,
        "start_time": "2024-04-28T12:30:05.478Z"
      },
      {
        "duration": 3,
        "start_time": "2024-04-28T12:30:14.625Z"
      },
      {
        "duration": 202124,
        "start_time": "2024-04-28T12:30:17.427Z"
      },
      {
        "duration": 4,
        "start_time": "2024-04-28T12:34:08.928Z"
      },
      {
        "duration": 14909,
        "start_time": "2024-04-28T12:34:11.576Z"
      },
      {
        "duration": 286137,
        "start_time": "2024-04-28T12:34:52.526Z"
      },
      {
        "duration": 3,
        "start_time": "2024-04-28T12:40:55.029Z"
      },
      {
        "duration": 13,
        "start_time": "2024-04-28T12:40:58.368Z"
      },
      {
        "duration": 5252,
        "start_time": "2024-04-28T12:41:14.765Z"
      },
      {
        "duration": 81662,
        "start_time": "2024-04-28T12:41:22.187Z"
      },
      {
        "duration": 3,
        "start_time": "2024-04-28T12:45:09.265Z"
      },
      {
        "duration": 8,
        "start_time": "2024-04-28T12:45:10.933Z"
      },
      {
        "duration": 3,
        "start_time": "2024-04-28T12:45:16.536Z"
      },
      {
        "duration": 3,
        "start_time": "2024-04-28T12:45:19.528Z"
      },
      {
        "duration": 5,
        "start_time": "2024-04-28T12:45:23.188Z"
      },
      {
        "duration": 5309,
        "start_time": "2024-04-28T12:45:39.592Z"
      },
      {
        "duration": 3,
        "start_time": "2024-04-28T12:45:50.136Z"
      },
      {
        "duration": 3,
        "start_time": "2024-04-28T12:45:52.990Z"
      },
      {
        "duration": 343,
        "start_time": "2024-04-28T12:45:57.072Z"
      },
      {
        "duration": 3,
        "start_time": "2024-04-28T12:47:40.529Z"
      },
      {
        "duration": 3,
        "start_time": "2024-04-28T12:47:41.376Z"
      },
      {
        "duration": 5,
        "start_time": "2024-04-28T12:47:44.067Z"
      },
      {
        "duration": 5040,
        "start_time": "2024-04-28T12:47:46.095Z"
      },
      {
        "duration": 3,
        "start_time": "2024-04-28T12:47:52.091Z"
      },
      {
        "duration": 27,
        "start_time": "2024-04-28T12:47:57.640Z"
      },
      {
        "duration": 3,
        "start_time": "2024-04-28T12:50:18.421Z"
      },
      {
        "duration": 2,
        "start_time": "2024-04-28T12:50:19.301Z"
      },
      {
        "duration": 4,
        "start_time": "2024-04-28T12:50:22.100Z"
      },
      {
        "duration": 5103,
        "start_time": "2024-04-28T12:50:23.702Z"
      },
      {
        "duration": 3,
        "start_time": "2024-04-28T12:50:29.648Z"
      },
      {
        "duration": 318,
        "start_time": "2024-04-28T12:50:33.319Z"
      },
      {
        "duration": 3,
        "start_time": "2024-04-28T12:54:53.471Z"
      },
      {
        "duration": 3,
        "start_time": "2024-04-28T12:54:54.171Z"
      },
      {
        "duration": 6,
        "start_time": "2024-04-28T12:54:56.909Z"
      },
      {
        "duration": 5113,
        "start_time": "2024-04-28T12:54:58.528Z"
      },
      {
        "duration": 3,
        "start_time": "2024-04-28T12:55:04.788Z"
      },
      {
        "duration": 3,
        "start_time": "2024-04-28T12:55:07.196Z"
      },
      {
        "duration": 325,
        "start_time": "2024-04-28T12:55:09.868Z"
      },
      {
        "duration": 2,
        "start_time": "2024-04-28T13:04:33.314Z"
      },
      {
        "duration": 2,
        "start_time": "2024-04-28T13:04:34.322Z"
      },
      {
        "duration": 4,
        "start_time": "2024-04-28T13:04:37.113Z"
      },
      {
        "duration": 4858,
        "start_time": "2024-04-28T13:04:38.768Z"
      },
      {
        "duration": 4,
        "start_time": "2024-04-28T13:04:44.725Z"
      },
      {
        "duration": 343,
        "start_time": "2024-04-28T13:04:48.616Z"
      },
      {
        "duration": 3,
        "start_time": "2024-04-28T13:05:32.543Z"
      },
      {
        "duration": 4,
        "start_time": "2024-04-28T13:05:37.920Z"
      },
      {
        "duration": 3,
        "start_time": "2024-04-28T13:05:40.952Z"
      },
      {
        "duration": 321,
        "start_time": "2024-04-28T13:05:43.336Z"
      },
      {
        "duration": 5015,
        "start_time": "2024-04-28T18:06:25.379Z"
      },
      {
        "duration": 3753,
        "start_time": "2024-04-28T18:06:30.396Z"
      },
      {
        "duration": 3058,
        "start_time": "2024-04-28T18:06:34.150Z"
      },
      {
        "duration": 2367,
        "start_time": "2024-04-28T18:06:37.210Z"
      },
      {
        "duration": 4722,
        "start_time": "2024-04-28T18:06:39.579Z"
      },
      {
        "duration": 1121,
        "start_time": "2024-04-28T18:06:44.303Z"
      },
      {
        "duration": 684,
        "start_time": "2024-04-28T18:06:45.426Z"
      },
      {
        "duration": 7,
        "start_time": "2024-04-28T18:06:46.112Z"
      },
      {
        "duration": 15,
        "start_time": "2024-04-28T18:06:46.121Z"
      },
      {
        "duration": 6053,
        "start_time": "2024-04-28T18:06:46.138Z"
      },
      {
        "duration": 151,
        "start_time": "2024-04-28T18:06:52.194Z"
      },
      {
        "duration": 0,
        "start_time": "2024-04-28T18:06:52.348Z"
      },
      {
        "duration": 0,
        "start_time": "2024-04-28T18:06:52.350Z"
      },
      {
        "duration": 0,
        "start_time": "2024-04-28T18:06:52.351Z"
      },
      {
        "duration": 0,
        "start_time": "2024-04-28T18:06:52.352Z"
      },
      {
        "duration": 0,
        "start_time": "2024-04-28T18:06:52.352Z"
      },
      {
        "duration": 0,
        "start_time": "2024-04-28T18:06:52.354Z"
      },
      {
        "duration": 0,
        "start_time": "2024-04-28T18:06:52.355Z"
      },
      {
        "duration": 0,
        "start_time": "2024-04-28T18:06:52.355Z"
      },
      {
        "duration": 0,
        "start_time": "2024-04-28T18:06:52.356Z"
      },
      {
        "duration": 0,
        "start_time": "2024-04-28T18:06:52.357Z"
      },
      {
        "duration": 0,
        "start_time": "2024-04-28T18:06:52.359Z"
      },
      {
        "duration": 0,
        "start_time": "2024-04-28T18:06:52.360Z"
      },
      {
        "duration": 0,
        "start_time": "2024-04-28T18:06:52.361Z"
      },
      {
        "duration": 0,
        "start_time": "2024-04-28T18:06:52.362Z"
      },
      {
        "duration": 0,
        "start_time": "2024-04-28T18:06:52.363Z"
      },
      {
        "duration": 0,
        "start_time": "2024-04-28T18:06:52.364Z"
      },
      {
        "duration": 0,
        "start_time": "2024-04-28T18:06:52.365Z"
      },
      {
        "duration": 0,
        "start_time": "2024-04-28T18:06:52.366Z"
      },
      {
        "duration": 0,
        "start_time": "2024-04-28T18:06:52.367Z"
      },
      {
        "duration": 0,
        "start_time": "2024-04-28T18:06:52.369Z"
      },
      {
        "duration": 0,
        "start_time": "2024-04-28T18:06:52.370Z"
      },
      {
        "duration": 0,
        "start_time": "2024-04-28T18:06:52.371Z"
      },
      {
        "duration": 0,
        "start_time": "2024-04-28T18:06:52.372Z"
      },
      {
        "duration": 0,
        "start_time": "2024-04-28T18:06:52.373Z"
      },
      {
        "duration": 0,
        "start_time": "2024-04-28T18:06:52.374Z"
      },
      {
        "duration": 0,
        "start_time": "2024-04-28T18:06:52.375Z"
      },
      {
        "duration": 0,
        "start_time": "2024-04-28T18:06:52.377Z"
      },
      {
        "duration": 0,
        "start_time": "2024-04-28T18:06:52.378Z"
      },
      {
        "duration": 0,
        "start_time": "2024-04-28T18:06:52.379Z"
      },
      {
        "duration": 0,
        "start_time": "2024-04-28T18:06:52.380Z"
      },
      {
        "duration": 0,
        "start_time": "2024-04-28T18:06:52.381Z"
      },
      {
        "duration": 0,
        "start_time": "2024-04-28T18:06:52.382Z"
      },
      {
        "duration": 0,
        "start_time": "2024-04-28T18:06:52.445Z"
      },
      {
        "duration": 0,
        "start_time": "2024-04-28T18:06:52.446Z"
      },
      {
        "duration": 2609,
        "start_time": "2024-04-28T18:09:13.429Z"
      },
      {
        "duration": 2720,
        "start_time": "2024-04-28T18:09:17.415Z"
      },
      {
        "duration": 2390,
        "start_time": "2024-04-28T18:09:21.280Z"
      },
      {
        "duration": 2434,
        "start_time": "2024-04-28T18:09:24.853Z"
      },
      {
        "duration": 2803,
        "start_time": "2024-04-28T18:09:29.340Z"
      },
      {
        "duration": 771,
        "start_time": "2024-04-28T18:09:34.621Z"
      },
      {
        "duration": 348,
        "start_time": "2024-04-28T18:09:40.115Z"
      },
      {
        "duration": 8,
        "start_time": "2024-04-28T18:09:43.750Z"
      },
      {
        "duration": 2,
        "start_time": "2024-04-28T18:09:46.669Z"
      },
      {
        "duration": 2635,
        "start_time": "2024-04-28T18:09:49.723Z"
      },
      {
        "duration": 81,
        "start_time": "2024-04-28T18:09:53.690Z"
      },
      {
        "duration": 2177,
        "start_time": "2024-04-28T18:09:57.621Z"
      },
      {
        "duration": 12,
        "start_time": "2024-04-28T18:10:04.613Z"
      },
      {
        "duration": 30,
        "start_time": "2024-04-28T18:10:06.349Z"
      },
      {
        "duration": 25,
        "start_time": "2024-04-28T18:10:07.829Z"
      },
      {
        "duration": 118,
        "start_time": "2024-04-28T18:10:10.906Z"
      },
      {
        "duration": 2,
        "start_time": "2024-04-28T18:10:17.828Z"
      },
      {
        "duration": 3,
        "start_time": "2024-04-28T18:10:18.858Z"
      },
      {
        "duration": 3937,
        "start_time": "2024-04-28T18:10:20.761Z"
      },
      {
        "duration": 7,
        "start_time": "2024-04-28T18:10:26.501Z"
      },
      {
        "duration": 4,
        "start_time": "2024-04-28T18:10:30.265Z"
      },
      {
        "duration": 3,
        "start_time": "2024-04-28T18:10:33.615Z"
      },
      {
        "duration": 1427690,
        "start_time": "2024-04-28T18:10:35.979Z"
      },
      {
        "duration": 11,
        "start_time": "2024-04-28T18:34:45.938Z"
      },
      {
        "duration": 215,
        "start_time": "2024-04-28T18:34:54.479Z"
      },
      {
        "duration": 3128,
        "start_time": "2024-04-28T18:34:57.918Z"
      },
      {
        "duration": 24134,
        "start_time": "2024-04-28T18:35:06.319Z"
      },
      {
        "duration": 9,
        "start_time": "2024-04-28T18:35:38.361Z"
      },
      {
        "duration": 50,
        "start_time": "2024-04-28T18:35:41.147Z"
      },
      {
        "duration": 7,
        "start_time": "2024-04-28T18:35:45.571Z"
      },
      {
        "duration": 3,
        "start_time": "2024-04-28T18:35:54.703Z"
      },
      {
        "duration": 2,
        "start_time": "2024-04-28T18:35:56.724Z"
      },
      {
        "duration": 3,
        "start_time": "2024-04-28T18:35:59.136Z"
      },
      {
        "duration": 3,
        "start_time": "2024-04-28T18:36:02.298Z"
      },
      {
        "duration": 4740,
        "start_time": "2024-04-28T18:36:05.628Z"
      },
      {
        "duration": 3,
        "start_time": "2024-04-28T18:36:14.205Z"
      },
      {
        "duration": 201852,
        "start_time": "2024-04-28T18:36:17.905Z"
      },
      {
        "duration": 3,
        "start_time": "2024-04-28T18:41:05.334Z"
      },
      {
        "duration": 14535,
        "start_time": "2024-04-28T18:41:08.219Z"
      },
      {
        "duration": 286782,
        "start_time": "2024-04-28T18:41:36.069Z"
      },
      {
        "duration": 3,
        "start_time": "2024-04-28T18:46:40.446Z"
      },
      {
        "duration": 4800,
        "start_time": "2024-04-28T18:46:43.137Z"
      },
      {
        "duration": 83879,
        "start_time": "2024-04-28T18:47:34.567Z"
      },
      {
        "duration": 3,
        "start_time": "2024-04-28T18:49:11.984Z"
      },
      {
        "duration": 9,
        "start_time": "2024-04-28T18:49:14.003Z"
      },
      {
        "duration": 2,
        "start_time": "2024-04-28T18:49:19.029Z"
      },
      {
        "duration": 2,
        "start_time": "2024-04-28T18:49:20.884Z"
      },
      {
        "duration": 5,
        "start_time": "2024-04-28T18:49:27.175Z"
      },
      {
        "duration": 5097,
        "start_time": "2024-04-28T18:49:30.725Z"
      },
      {
        "duration": 3,
        "start_time": "2024-04-28T18:50:07.145Z"
      },
      {
        "duration": 2,
        "start_time": "2024-04-28T18:50:09.658Z"
      },
      {
        "duration": 322,
        "start_time": "2024-04-28T18:50:12.894Z"
      },
      {
        "duration": 6,
        "start_time": "2024-04-28T20:05:41.884Z"
      },
      {
        "duration": 2,
        "start_time": "2024-04-28T20:05:51.871Z"
      },
      {
        "duration": 3,
        "start_time": "2024-04-28T20:05:52.970Z"
      },
      {
        "duration": 5,
        "start_time": "2024-04-28T20:05:55.878Z"
      },
      {
        "duration": 5008,
        "start_time": "2024-04-28T20:05:58.019Z"
      },
      {
        "duration": 2,
        "start_time": "2024-04-28T20:06:03.029Z"
      },
      {
        "duration": 326,
        "start_time": "2024-04-28T20:06:23.777Z"
      },
      {
        "duration": 4,
        "start_time": "2024-04-28T20:07:05.277Z"
      },
      {
        "duration": 215,
        "start_time": "2024-04-28T20:07:07.190Z"
      },
      {
        "duration": 2672,
        "start_time": "2024-04-28T20:07:14.291Z"
      },
      {
        "duration": 3,
        "start_time": "2024-04-28T20:07:18.634Z"
      },
      {
        "duration": 3,
        "start_time": "2024-04-28T20:08:39.304Z"
      },
      {
        "duration": 18,
        "start_time": "2024-04-28T20:08:40.254Z"
      },
      {
        "duration": 3,
        "start_time": "2024-04-28T20:08:48.885Z"
      },
      {
        "duration": 6,
        "start_time": "2024-04-28T20:08:52.324Z"
      },
      {
        "duration": 5077,
        "start_time": "2024-04-28T20:08:53.916Z"
      },
      {
        "duration": 2,
        "start_time": "2024-04-28T20:09:13.743Z"
      },
      {
        "duration": 25,
        "start_time": "2024-04-28T20:09:17.580Z"
      },
      {
        "duration": 3,
        "start_time": "2024-04-28T20:15:40.023Z"
      },
      {
        "duration": 5,
        "start_time": "2024-04-28T20:15:43.804Z"
      },
      {
        "duration": 5215,
        "start_time": "2024-04-28T20:15:45.282Z"
      },
      {
        "duration": 2,
        "start_time": "2024-04-28T20:15:52.593Z"
      },
      {
        "duration": 349,
        "start_time": "2024-04-28T20:16:23.325Z"
      },
      {
        "duration": 4948,
        "start_time": "2024-04-28T20:18:42.779Z"
      },
      {
        "duration": 3,
        "start_time": "2024-04-28T20:18:49.125Z"
      },
      {
        "duration": 2,
        "start_time": "2024-04-28T20:18:51.959Z"
      },
      {
        "duration": 5,
        "start_time": "2024-04-28T20:18:58.045Z"
      },
      {
        "duration": 3,
        "start_time": "2024-04-28T20:18:59.539Z"
      },
      {
        "duration": 307,
        "start_time": "2024-04-28T20:19:41.749Z"
      },
      {
        "duration": 4,
        "start_time": "2024-04-28T20:34:51.775Z"
      },
      {
        "duration": 4,
        "start_time": "2024-04-28T20:34:53.024Z"
      },
      {
        "duration": 3,
        "start_time": "2024-04-28T20:34:56.286Z"
      },
      {
        "duration": 3,
        "start_time": "2024-04-28T20:34:57.543Z"
      },
      {
        "duration": 336,
        "start_time": "2024-04-28T20:35:00.505Z"
      },
      {
        "duration": 3,
        "start_time": "2024-04-28T21:00:04.729Z"
      },
      {
        "duration": 11,
        "start_time": "2024-04-28T21:00:06.724Z"
      },
      {
        "duration": 5153,
        "start_time": "2024-04-28T21:10:18.374Z"
      },
      {
        "duration": 2,
        "start_time": "2024-04-28T21:10:26.496Z"
      },
      {
        "duration": 3,
        "start_time": "2024-04-28T21:10:27.657Z"
      },
      {
        "duration": 3,
        "start_time": "2024-04-28T21:10:34.002Z"
      },
      {
        "duration": 3,
        "start_time": "2024-04-28T21:10:38.855Z"
      },
      {
        "duration": 331,
        "start_time": "2024-04-28T21:10:42.455Z"
      },
      {
        "duration": 2,
        "start_time": "2024-04-28T21:12:16.054Z"
      },
      {
        "duration": 3,
        "start_time": "2024-04-28T21:14:17.885Z"
      },
      {
        "duration": 2,
        "start_time": "2024-04-28T21:14:19.047Z"
      },
      {
        "duration": 3,
        "start_time": "2024-04-28T21:14:21.340Z"
      },
      {
        "duration": 3,
        "start_time": "2024-04-28T21:14:24.129Z"
      },
      {
        "duration": 3,
        "start_time": "2024-04-28T21:14:25.652Z"
      },
      {
        "duration": 337,
        "start_time": "2024-04-28T21:14:28.758Z"
      },
      {
        "duration": 2839,
        "start_time": "2024-04-28T21:21:05.791Z"
      },
      {
        "duration": 2791,
        "start_time": "2024-04-28T21:21:09.525Z"
      },
      {
        "duration": 2489,
        "start_time": "2024-04-28T21:21:13.399Z"
      },
      {
        "duration": 2413,
        "start_time": "2024-04-28T21:21:17.988Z"
      },
      {
        "duration": 2827,
        "start_time": "2024-04-28T21:21:22.769Z"
      },
      {
        "duration": 770,
        "start_time": "2024-04-28T21:21:28.203Z"
      },
      {
        "duration": 340,
        "start_time": "2024-04-28T21:21:34.590Z"
      },
      {
        "duration": 8,
        "start_time": "2024-04-28T21:21:39.232Z"
      },
      {
        "duration": 2,
        "start_time": "2024-04-28T21:21:42.293Z"
      },
      {
        "duration": 3992,
        "start_time": "2024-04-28T21:23:00.692Z"
      },
      {
        "duration": 63,
        "start_time": "2024-04-28T21:23:07.349Z"
      },
      {
        "duration": 2,
        "start_time": "2024-04-28T21:23:08.618Z"
      },
      {
        "duration": 835,
        "start_time": "2024-04-28T21:23:11.359Z"
      },
      {
        "duration": 12,
        "start_time": "2024-04-28T21:23:17.323Z"
      },
      {
        "duration": 30,
        "start_time": "2024-04-28T21:23:18.772Z"
      },
      {
        "duration": 25,
        "start_time": "2024-04-28T21:23:21.278Z"
      },
      {
        "duration": 115,
        "start_time": "2024-04-28T21:23:23.666Z"
      },
      {
        "duration": 3,
        "start_time": "2024-04-28T21:23:27.487Z"
      },
      {
        "duration": 5,
        "start_time": "2024-04-28T21:23:28.218Z"
      },
      {
        "duration": 3982,
        "start_time": "2024-04-28T21:23:28.981Z"
      },
      {
        "duration": 7,
        "start_time": "2024-04-28T21:23:38.099Z"
      },
      {
        "duration": 3,
        "start_time": "2024-04-28T21:23:41.399Z"
      },
      {
        "duration": 4,
        "start_time": "2024-04-28T21:23:43.375Z"
      },
      {
        "duration": 1435003,
        "start_time": "2024-04-28T21:23:46.393Z"
      },
      {
        "duration": 12,
        "start_time": "2024-04-28T21:47:48.825Z"
      },
      {
        "duration": 235,
        "start_time": "2024-04-28T21:47:56.017Z"
      },
      {
        "duration": 3187,
        "start_time": "2024-04-28T21:47:59.862Z"
      },
      {
        "duration": 24711,
        "start_time": "2024-04-28T21:48:06.799Z"
      },
      {
        "duration": 10,
        "start_time": "2024-04-28T21:48:36.339Z"
      },
      {
        "duration": 51,
        "start_time": "2024-04-28T21:48:38.759Z"
      },
      {
        "duration": 8,
        "start_time": "2024-04-28T21:48:41.683Z"
      },
      {
        "duration": 3,
        "start_time": "2024-04-28T21:48:49.796Z"
      },
      {
        "duration": 2,
        "start_time": "2024-04-28T21:48:50.731Z"
      },
      {
        "duration": 1,
        "start_time": "2024-04-28T21:48:54.473Z"
      },
      {
        "duration": 3,
        "start_time": "2024-04-28T21:48:58.164Z"
      },
      {
        "duration": 4723,
        "start_time": "2024-04-28T21:49:02.743Z"
      },
      {
        "duration": 2,
        "start_time": "2024-04-28T21:49:14.785Z"
      },
      {
        "duration": 201848,
        "start_time": "2024-04-28T21:49:18.110Z"
      },
      {
        "duration": 3,
        "start_time": "2024-04-28T21:53:06.455Z"
      },
      {
        "duration": 15164,
        "start_time": "2024-04-28T21:53:08.911Z"
      },
      {
        "duration": 285755,
        "start_time": "2024-04-28T21:54:28.900Z"
      },
      {
        "duration": 3,
        "start_time": "2024-04-28T22:00:07.332Z"
      },
      {
        "duration": 5118,
        "start_time": "2024-04-28T22:00:10.405Z"
      },
      {
        "duration": 85772,
        "start_time": "2024-04-28T22:00:18.481Z"
      },
      {
        "duration": 3,
        "start_time": "2024-04-28T22:01:50.995Z"
      },
      {
        "duration": 9,
        "start_time": "2024-04-28T22:01:53.806Z"
      },
      {
        "duration": 3,
        "start_time": "2024-04-28T22:02:20.127Z"
      },
      {
        "duration": 5,
        "start_time": "2024-04-28T22:02:30.213Z"
      },
      {
        "duration": 3,
        "start_time": "2024-04-28T22:02:40.256Z"
      },
      {
        "duration": 27,
        "start_time": "2024-04-28T22:02:46.192Z"
      },
      {
        "duration": 3,
        "start_time": "2024-04-28T22:04:42.966Z"
      },
      {
        "duration": 6,
        "start_time": "2024-04-28T22:04:46.597Z"
      },
      {
        "duration": 3,
        "start_time": "2024-04-28T22:04:48.034Z"
      },
      {
        "duration": 2,
        "start_time": "2024-04-28T22:04:51.103Z"
      },
      {
        "duration": 27,
        "start_time": "2024-04-28T22:04:54.265Z"
      },
      {
        "duration": 3,
        "start_time": "2024-04-28T22:05:34.276Z"
      },
      {
        "duration": 4,
        "start_time": "2024-04-28T22:05:37.766Z"
      },
      {
        "duration": 3,
        "start_time": "2024-04-28T22:05:38.847Z"
      },
      {
        "duration": 2,
        "start_time": "2024-04-28T22:05:40.493Z"
      },
      {
        "duration": 28,
        "start_time": "2024-04-28T22:05:43.239Z"
      },
      {
        "duration": 3,
        "start_time": "2024-04-28T22:06:04.017Z"
      },
      {
        "duration": 5,
        "start_time": "2024-04-28T22:06:07.099Z"
      },
      {
        "duration": 3,
        "start_time": "2024-04-28T22:06:11.293Z"
      },
      {
        "duration": 25,
        "start_time": "2024-04-28T22:06:17.920Z"
      },
      {
        "duration": 3,
        "start_time": "2024-04-28T22:08:16.735Z"
      },
      {
        "duration": 4,
        "start_time": "2024-04-28T22:08:19.252Z"
      },
      {
        "duration": 59,
        "start_time": "2024-04-28T22:08:21.278Z"
      },
      {
        "duration": 46,
        "start_time": "2024-04-28T22:08:36.966Z"
      },
      {
        "duration": 9,
        "start_time": "2024-04-28T22:08:47.016Z"
      },
      {
        "duration": 2,
        "start_time": "2024-04-28T22:08:55.605Z"
      },
      {
        "duration": 9,
        "start_time": "2024-04-28T22:09:01.915Z"
      },
      {
        "duration": 30,
        "start_time": "2024-04-28T22:09:07.192Z"
      },
      {
        "duration": 10,
        "start_time": "2024-04-28T22:09:54.517Z"
      },
      {
        "duration": 3,
        "start_time": "2024-04-28T22:10:02.159Z"
      },
      {
        "duration": 26,
        "start_time": "2024-04-28T22:10:05.204Z"
      },
      {
        "duration": 4,
        "start_time": "2024-04-28T22:12:28.218Z"
      },
      {
        "duration": 127,
        "start_time": "2024-04-28T22:12:31.489Z"
      },
      {
        "duration": 3,
        "start_time": "2024-04-28T22:12:33.237Z"
      },
      {
        "duration": 2,
        "start_time": "2024-04-28T22:12:37.727Z"
      },
      {
        "duration": 26,
        "start_time": "2024-04-28T22:12:40.833Z"
      },
      {
        "duration": 14,
        "start_time": "2024-04-28T22:13:31.885Z"
      },
      {
        "duration": 13,
        "start_time": "2024-04-28T22:13:45.192Z"
      },
      {
        "duration": 12,
        "start_time": "2024-04-28T22:13:51.471Z"
      },
      {
        "duration": 10,
        "start_time": "2024-04-28T22:13:58.735Z"
      },
      {
        "duration": 12,
        "start_time": "2024-04-28T22:14:26.039Z"
      },
      {
        "duration": 3,
        "start_time": "2024-04-28T22:14:37.334Z"
      },
      {
        "duration": 5,
        "start_time": "2024-04-28T22:14:40.279Z"
      },
      {
        "duration": 3,
        "start_time": "2024-04-28T22:14:41.804Z"
      },
      {
        "duration": 2,
        "start_time": "2024-04-28T22:14:43.763Z"
      },
      {
        "duration": 25,
        "start_time": "2024-04-28T22:14:46.438Z"
      },
      {
        "duration": 56,
        "start_time": "2024-04-28T22:15:47.955Z"
      },
      {
        "duration": 4,
        "start_time": "2024-04-28T22:16:03.735Z"
      },
      {
        "duration": 3,
        "start_time": "2024-04-28T22:16:05.212Z"
      },
      {
        "duration": 2,
        "start_time": "2024-04-28T22:16:07.325Z"
      },
      {
        "duration": 26,
        "start_time": "2024-04-28T22:16:09.532Z"
      },
      {
        "duration": 4,
        "start_time": "2024-04-28T22:17:31.268Z"
      },
      {
        "duration": 5,
        "start_time": "2024-04-28T22:17:35.436Z"
      },
      {
        "duration": 3,
        "start_time": "2024-04-28T22:17:35.841Z"
      },
      {
        "duration": 2,
        "start_time": "2024-04-28T22:17:37.438Z"
      },
      {
        "duration": 25,
        "start_time": "2024-04-28T22:17:40.005Z"
      },
      {
        "duration": 5761,
        "start_time": "2024-04-29T14:25:27.022Z"
      },
      {
        "duration": 4187,
        "start_time": "2024-04-29T14:25:32.785Z"
      },
      {
        "duration": 3164,
        "start_time": "2024-04-29T14:25:36.974Z"
      },
      {
        "duration": 2695,
        "start_time": "2024-04-29T14:25:40.140Z"
      },
      {
        "duration": 18339,
        "start_time": "2024-04-29T14:25:42.837Z"
      },
      {
        "duration": 3493,
        "start_time": "2024-04-29T14:26:01.178Z"
      },
      {
        "duration": 815,
        "start_time": "2024-04-29T14:26:04.672Z"
      },
      {
        "duration": 10,
        "start_time": "2024-04-29T14:26:05.489Z"
      },
      {
        "duration": 3,
        "start_time": "2024-04-29T14:26:05.501Z"
      },
      {
        "duration": 7293,
        "start_time": "2024-04-29T14:26:05.506Z"
      },
      {
        "duration": 150,
        "start_time": "2024-04-29T14:26:12.802Z"
      },
      {
        "duration": 0,
        "start_time": "2024-04-29T14:26:12.953Z"
      },
      {
        "duration": 0,
        "start_time": "2024-04-29T14:26:12.955Z"
      },
      {
        "duration": 0,
        "start_time": "2024-04-29T14:26:12.956Z"
      },
      {
        "duration": 0,
        "start_time": "2024-04-29T14:26:12.957Z"
      },
      {
        "duration": 1,
        "start_time": "2024-04-29T14:26:12.958Z"
      },
      {
        "duration": 0,
        "start_time": "2024-04-29T14:26:12.960Z"
      },
      {
        "duration": 0,
        "start_time": "2024-04-29T14:26:12.961Z"
      },
      {
        "duration": 0,
        "start_time": "2024-04-29T14:26:12.962Z"
      },
      {
        "duration": 0,
        "start_time": "2024-04-29T14:26:12.963Z"
      },
      {
        "duration": 0,
        "start_time": "2024-04-29T14:26:12.964Z"
      },
      {
        "duration": 0,
        "start_time": "2024-04-29T14:26:12.982Z"
      },
      {
        "duration": 0,
        "start_time": "2024-04-29T14:26:12.984Z"
      },
      {
        "duration": 0,
        "start_time": "2024-04-29T14:26:12.985Z"
      },
      {
        "duration": 0,
        "start_time": "2024-04-29T14:26:12.986Z"
      },
      {
        "duration": 18,
        "start_time": "2024-04-29T14:27:28.906Z"
      },
      {
        "duration": 13,
        "start_time": "2024-04-29T14:27:35.502Z"
      },
      {
        "duration": 2842,
        "start_time": "2024-04-29T14:27:43.956Z"
      },
      {
        "duration": 21,
        "start_time": "2024-04-29T14:27:49.213Z"
      },
      {
        "duration": 817,
        "start_time": "2024-04-29T14:27:59.821Z"
      },
      {
        "duration": 3,
        "start_time": "2024-04-29T14:28:04.447Z"
      },
      {
        "duration": 103,
        "start_time": "2024-04-29T14:28:08.693Z"
      },
      {
        "duration": 2747,
        "start_time": "2024-04-29T14:28:31.676Z"
      },
      {
        "duration": 508,
        "start_time": "2024-04-29T14:28:41.688Z"
      },
      {
        "duration": 452,
        "start_time": "2024-04-29T14:28:47.772Z"
      },
      {
        "duration": 9,
        "start_time": "2024-04-29T14:28:51.166Z"
      },
      {
        "duration": 2,
        "start_time": "2024-04-29T14:28:55.812Z"
      },
      {
        "duration": 2442,
        "start_time": "2024-04-29T14:29:00.504Z"
      },
      {
        "duration": 13,
        "start_time": "2024-04-29T14:29:05.497Z"
      },
      {
        "duration": 33,
        "start_time": "2024-04-29T14:29:06.241Z"
      },
      {
        "duration": 28,
        "start_time": "2024-04-29T14:29:06.716Z"
      },
      {
        "duration": 133,
        "start_time": "2024-04-29T14:29:08.509Z"
      },
      {
        "duration": 2,
        "start_time": "2024-04-29T14:29:12.444Z"
      },
      {
        "duration": 3,
        "start_time": "2024-04-29T14:29:12.840Z"
      },
      {
        "duration": 4519,
        "start_time": "2024-04-29T14:29:14.638Z"
      },
      {
        "duration": 7,
        "start_time": "2024-04-29T14:29:19.159Z"
      },
      {
        "duration": 4,
        "start_time": "2024-04-29T14:29:37.365Z"
      },
      {
        "duration": 4,
        "start_time": "2024-04-29T14:29:37.963Z"
      },
      {
        "duration": 63,
        "start_time": "2024-04-29T14:29:39.057Z"
      },
      {
        "duration": 2785,
        "start_time": "2024-04-29T14:31:45.276Z"
      },
      {
        "duration": 1759289,
        "start_time": "2024-04-29T14:31:57.396Z"
      },
      {
        "duration": 0,
        "start_time": "2024-04-29T15:01:16.688Z"
      },
      {
        "duration": 241,
        "start_time": "2024-04-29T15:06:05.447Z"
      },
      {
        "duration": 149,
        "start_time": "2024-04-29T15:06:25.049Z"
      },
      {
        "duration": 9646,
        "start_time": "2024-04-29T15:07:53.957Z"
      },
      {
        "duration": 192866,
        "start_time": "2024-04-29T15:10:28.543Z"
      },
      {
        "duration": 86,
        "start_time": "2024-04-29T15:13:51.696Z"
      },
      {
        "duration": 1001,
        "start_time": "2024-04-29T15:13:55.305Z"
      },
      {
        "duration": 2300,
        "start_time": "2024-04-29T15:14:19.792Z"
      },
      {
        "duration": 545,
        "start_time": "2024-04-29T15:14:24.867Z"
      },
      {
        "duration": 10,
        "start_time": "2024-04-29T15:14:27.417Z"
      },
      {
        "duration": 2,
        "start_time": "2024-04-29T15:14:30.441Z"
      },
      {
        "duration": 10584,
        "start_time": "2024-04-29T15:14:32.538Z"
      },
      {
        "duration": 355,
        "start_time": "2024-04-29T15:14:43.127Z"
      },
      {
        "duration": 0,
        "start_time": "2024-04-29T15:14:43.484Z"
      },
      {
        "duration": 23,
        "start_time": "2024-04-29T15:14:45.699Z"
      },
      {
        "duration": 33639,
        "start_time": "2024-04-29T15:15:12.789Z"
      },
      {
        "duration": 40,
        "start_time": "2024-04-29T15:19:27.215Z"
      },
      {
        "duration": 445,
        "start_time": "2024-04-29T15:19:28.005Z"
      },
      {
        "duration": 730,
        "start_time": "2024-04-29T15:19:30.995Z"
      },
      {
        "duration": 455,
        "start_time": "2024-04-29T15:19:32.407Z"
      },
      {
        "duration": 8,
        "start_time": "2024-04-29T15:19:33.007Z"
      },
      {
        "duration": 3,
        "start_time": "2024-04-29T15:19:34.645Z"
      },
      {
        "duration": 2,
        "start_time": "2024-04-29T15:19:36.373Z"
      },
      {
        "duration": 66,
        "start_time": "2024-04-29T15:19:36.939Z"
      },
      {
        "duration": 3,
        "start_time": "2024-04-29T15:19:37.976Z"
      },
      {
        "duration": 959,
        "start_time": "2024-04-29T15:19:40.572Z"
      },
      {
        "duration": 13,
        "start_time": "2024-04-29T15:19:42.719Z"
      },
      {
        "duration": 33,
        "start_time": "2024-04-29T15:19:43.215Z"
      },
      {
        "duration": 28,
        "start_time": "2024-04-29T15:19:43.836Z"
      },
      {
        "duration": 246,
        "start_time": "2024-04-29T15:19:45.586Z"
      },
      {
        "duration": 2,
        "start_time": "2024-04-29T15:19:48.260Z"
      },
      {
        "duration": 3,
        "start_time": "2024-04-29T15:19:48.771Z"
      },
      {
        "duration": 4518,
        "start_time": "2024-04-29T15:19:49.345Z"
      },
      {
        "duration": 8,
        "start_time": "2024-04-29T15:19:53.866Z"
      },
      {
        "duration": 4,
        "start_time": "2024-04-29T15:20:02.202Z"
      },
      {
        "duration": 3,
        "start_time": "2024-04-29T15:20:04.311Z"
      },
      {
        "duration": 1640000,
        "start_time": "2024-04-29T15:20:09.392Z"
      },
      {
        "duration": 74,
        "start_time": "2024-04-29T15:50:29.346Z"
      },
      {
        "duration": 19337,
        "start_time": "2024-04-29T15:50:47.395Z"
      },
      {
        "duration": 45,
        "start_time": "2024-04-29T15:51:37.475Z"
      },
      {
        "duration": 504,
        "start_time": "2024-04-29T15:51:38.549Z"
      },
      {
        "duration": 751,
        "start_time": "2024-04-29T15:51:39.229Z"
      },
      {
        "duration": 452,
        "start_time": "2024-04-29T15:51:40.228Z"
      },
      {
        "duration": 7,
        "start_time": "2024-04-29T15:51:41.245Z"
      },
      {
        "duration": 3,
        "start_time": "2024-04-29T15:51:42.508Z"
      },
      {
        "duration": 7,
        "start_time": "2024-04-29T15:51:43.156Z"
      },
      {
        "duration": 66,
        "start_time": "2024-04-29T15:51:43.582Z"
      },
      {
        "duration": 3,
        "start_time": "2024-04-29T15:51:43.998Z"
      },
      {
        "duration": 946,
        "start_time": "2024-04-29T15:51:44.924Z"
      },
      {
        "duration": 13,
        "start_time": "2024-04-29T15:51:46.094Z"
      },
      {
        "duration": 33,
        "start_time": "2024-04-29T15:51:47.053Z"
      },
      {
        "duration": 29,
        "start_time": "2024-04-29T15:51:47.595Z"
      },
      {
        "duration": 249,
        "start_time": "2024-04-29T15:51:49.357Z"
      },
      {
        "duration": 2,
        "start_time": "2024-04-29T15:51:51.604Z"
      },
      {
        "duration": 3,
        "start_time": "2024-04-29T15:51:52.294Z"
      },
      {
        "duration": 4527,
        "start_time": "2024-04-29T15:51:52.999Z"
      },
      {
        "duration": 8,
        "start_time": "2024-04-29T15:51:57.528Z"
      },
      {
        "duration": 3,
        "start_time": "2024-04-29T15:51:59.278Z"
      },
      {
        "duration": 3,
        "start_time": "2024-04-29T15:51:59.955Z"
      },
      {
        "duration": 7441,
        "start_time": "2024-04-29T15:52:00.964Z"
      },
      {
        "duration": 9,
        "start_time": "2024-04-29T15:52:08.407Z"
      },
      {
        "duration": 8,
        "start_time": "2024-04-29T15:52:13.130Z"
      },
      {
        "duration": 117,
        "start_time": "2024-04-29T15:52:32.124Z"
      },
      {
        "duration": 3370,
        "start_time": "2024-04-29T15:52:33.918Z"
      },
      {
        "duration": 28242,
        "start_time": "2024-04-29T15:52:37.290Z"
      },
      {
        "duration": 11,
        "start_time": "2024-04-29T15:53:05.533Z"
      },
      {
        "duration": 79,
        "start_time": "2024-04-29T15:53:05.545Z"
      },
      {
        "duration": 7,
        "start_time": "2024-04-29T15:53:05.627Z"
      },
      {
        "duration": 14,
        "start_time": "2024-04-29T15:53:05.635Z"
      },
      {
        "duration": 5,
        "start_time": "2024-04-29T15:53:05.650Z"
      },
      {
        "duration": 13,
        "start_time": "2024-04-29T15:53:05.657Z"
      },
      {
        "duration": 19,
        "start_time": "2024-04-29T15:53:05.672Z"
      },
      {
        "duration": 5553,
        "start_time": "2024-04-29T15:53:08.944Z"
      },
      {
        "duration": 3,
        "start_time": "2024-04-29T15:53:17.359Z"
      },
      {
        "duration": 4,
        "start_time": "2024-04-29T15:54:09.380Z"
      },
      {
        "duration": 6,
        "start_time": "2024-04-29T15:54:17.992Z"
      },
      {
        "duration": 3,
        "start_time": "2024-04-29T15:54:24.172Z"
      },
      {
        "duration": 196,
        "start_time": "2024-04-29T15:54:42.474Z"
      },
      {
        "duration": 5,
        "start_time": "2024-04-29T16:09:12.099Z"
      },
      {
        "duration": 6,
        "start_time": "2024-04-29T16:10:20.242Z"
      },
      {
        "duration": 3,
        "start_time": "2024-04-29T16:10:24.291Z"
      },
      {
        "duration": 419,
        "start_time": "2024-04-29T16:10:27.290Z"
      },
      {
        "duration": 4,
        "start_time": "2024-04-29T16:11:49.926Z"
      },
      {
        "duration": 3,
        "start_time": "2024-04-29T16:11:57.680Z"
      },
      {
        "duration": 883407,
        "start_time": "2024-04-29T16:12:00.519Z"
      },
      {
        "duration": 10,
        "start_time": "2024-04-29T16:29:44.640Z"
      },
      {
        "duration": 13,
        "start_time": "2024-04-29T16:29:49.934Z"
      },
      {
        "duration": 2,
        "start_time": "2024-04-29T16:29:50.074Z"
      },
      {
        "duration": 5809,
        "start_time": "2024-04-29T16:30:18.858Z"
      },
      {
        "duration": 1888,
        "start_time": "2024-04-29T16:30:31.008Z"
      },
      {
        "duration": 3,
        "start_time": "2024-04-29T16:30:34.074Z"
      },
      {
        "duration": 18,
        "start_time": "2024-04-29T16:30:34.754Z"
      },
      {
        "duration": 99096,
        "start_time": "2024-04-30T21:48:31.390Z"
      },
      {
        "duration": 3,
        "start_time": "2024-04-30T21:52:10.052Z"
      },
      {
        "duration": 3,
        "start_time": "2024-04-30T21:52:11.217Z"
      },
      {
        "duration": 3,
        "start_time": "2024-04-30T21:52:12.155Z"
      },
      {
        "duration": 47,
        "start_time": "2024-04-30T21:52:13.458Z"
      },
      {
        "duration": 455,
        "start_time": "2024-04-30T21:52:14.790Z"
      },
      {
        "duration": 146,
        "start_time": "2024-04-30T21:52:23.276Z"
      },
      {
        "duration": 15,
        "start_time": "2024-04-30T21:53:56.312Z"
      },
      {
        "duration": 16803,
        "start_time": "2024-04-30T21:55:27.764Z"
      },
      {
        "duration": 3,
        "start_time": "2024-04-30T21:55:52.483Z"
      },
      {
        "duration": 3,
        "start_time": "2024-04-30T21:55:53.165Z"
      },
      {
        "duration": 2,
        "start_time": "2024-04-30T21:55:53.740Z"
      },
      {
        "duration": 40,
        "start_time": "2024-04-30T21:55:54.549Z"
      },
      {
        "duration": 479,
        "start_time": "2024-04-30T21:55:55.975Z"
      },
      {
        "duration": 171777,
        "start_time": "2024-04-30T21:55:57.882Z"
      },
      {
        "duration": 1381,
        "start_time": "2024-04-30T21:58:49.661Z"
      },
      {
        "duration": 16867,
        "start_time": "2024-04-30T21:59:31.539Z"
      },
      {
        "duration": 1296,
        "start_time": "2024-04-30T22:00:42.872Z"
      },
      {
        "duration": 2,
        "start_time": "2024-04-30T22:00:48.351Z"
      },
      {
        "duration": 3,
        "start_time": "2024-04-30T22:00:49.023Z"
      },
      {
        "duration": 2,
        "start_time": "2024-04-30T22:00:49.742Z"
      },
      {
        "duration": 7,
        "start_time": "2024-04-30T22:00:56.521Z"
      },
      {
        "duration": 21,
        "start_time": "2024-04-30T22:01:01.498Z"
      },
      {
        "duration": 616,
        "start_time": "2024-04-30T22:01:10.434Z"
      },
      {
        "duration": 9,
        "start_time": "2024-04-30T22:01:18.918Z"
      },
      {
        "duration": 3,
        "start_time": "2024-04-30T22:01:22.419Z"
      },
      {
        "duration": 2,
        "start_time": "2024-04-30T22:01:23.364Z"
      },
      {
        "duration": 146,
        "start_time": "2024-04-30T22:01:24.470Z"
      },
      {
        "duration": 5,
        "start_time": "2024-04-30T22:01:25.676Z"
      },
      {
        "duration": 3251,
        "start_time": "2024-04-30T22:01:28.924Z"
      },
      {
        "duration": 14,
        "start_time": "2024-04-30T22:01:44.048Z"
      },
      {
        "duration": 34,
        "start_time": "2024-04-30T22:01:45.394Z"
      },
      {
        "duration": 28,
        "start_time": "2024-04-30T22:01:50.305Z"
      },
      {
        "duration": 244,
        "start_time": "2024-04-30T22:01:54.472Z"
      },
      {
        "duration": 2,
        "start_time": "2024-04-30T22:01:59.093Z"
      },
      {
        "duration": 3,
        "start_time": "2024-04-30T22:01:59.829Z"
      },
      {
        "duration": 4614,
        "start_time": "2024-04-30T22:02:00.607Z"
      },
      {
        "duration": 7,
        "start_time": "2024-04-30T22:02:09.844Z"
      },
      {
        "duration": 3,
        "start_time": "2024-04-30T22:02:15.895Z"
      },
      {
        "duration": 3,
        "start_time": "2024-04-30T22:02:18.927Z"
      },
      {
        "duration": 895483,
        "start_time": "2024-04-30T22:02:22.052Z"
      },
      {
        "duration": 105199,
        "start_time": "2024-05-01T20:39:16.555Z"
      },
      {
        "duration": 592,
        "start_time": "2024-05-01T20:41:35.471Z"
      },
      {
        "duration": 17012,
        "start_time": "2024-05-01T20:41:50.119Z"
      },
      {
        "duration": 1384,
        "start_time": "2024-05-01T20:42:18.025Z"
      },
      {
        "duration": 3,
        "start_time": "2024-05-01T20:42:22.841Z"
      },
      {
        "duration": 3,
        "start_time": "2024-05-01T20:42:23.552Z"
      },
      {
        "duration": 2,
        "start_time": "2024-05-01T20:42:24.179Z"
      },
      {
        "duration": 9,
        "start_time": "2024-05-01T20:42:24.801Z"
      },
      {
        "duration": 39,
        "start_time": "2024-05-01T20:42:25.812Z"
      },
      {
        "duration": 951,
        "start_time": "2024-05-01T20:42:28.247Z"
      },
      {
        "duration": 9,
        "start_time": "2024-05-01T20:42:31.242Z"
      },
      {
        "duration": 3,
        "start_time": "2024-05-01T20:42:34.263Z"
      },
      {
        "duration": 3,
        "start_time": "2024-05-01T20:42:35.063Z"
      },
      {
        "duration": 53,
        "start_time": "2024-05-01T20:42:35.783Z"
      },
      {
        "duration": 5,
        "start_time": "2024-05-01T20:42:36.404Z"
      },
      {
        "duration": 3145,
        "start_time": "2024-05-01T20:42:39.672Z"
      },
      {
        "duration": 13,
        "start_time": "2024-05-01T20:42:46.523Z"
      },
      {
        "duration": 32,
        "start_time": "2024-05-01T20:42:48.891Z"
      },
      {
        "duration": 28,
        "start_time": "2024-05-01T20:42:49.716Z"
      },
      {
        "duration": 310,
        "start_time": "2024-05-01T20:42:52.834Z"
      },
      {
        "duration": 3,
        "start_time": "2024-05-01T20:42:57.060Z"
      },
      {
        "duration": 4,
        "start_time": "2024-05-01T20:42:57.718Z"
      },
      {
        "duration": 4647,
        "start_time": "2024-05-01T20:42:58.591Z"
      },
      {
        "duration": 8,
        "start_time": "2024-05-01T20:43:04.492Z"
      },
      {
        "duration": 4,
        "start_time": "2024-05-01T20:43:07.572Z"
      },
      {
        "duration": 4,
        "start_time": "2024-05-01T20:43:08.715Z"
      },
      {
        "duration": 1781342,
        "start_time": "2024-05-01T20:43:10.687Z"
      },
      {
        "duration": 13,
        "start_time": "2024-05-01T21:13:07.944Z"
      },
      {
        "duration": 255,
        "start_time": "2024-05-01T21:13:12.138Z"
      },
      {
        "duration": 3541,
        "start_time": "2024-05-01T21:13:16.564Z"
      },
      {
        "duration": 29035,
        "start_time": "2024-05-01T21:13:20.107Z"
      },
      {
        "duration": 11,
        "start_time": "2024-05-01T21:14:31.782Z"
      },
      {
        "duration": 55,
        "start_time": "2024-05-01T21:14:41.068Z"
      },
      {
        "duration": 7,
        "start_time": "2024-05-01T21:14:45.113Z"
      },
      {
        "duration": 2,
        "start_time": "2024-05-01T21:14:48.579Z"
      },
      {
        "duration": 3,
        "start_time": "2024-05-01T21:14:50.725Z"
      },
      {
        "duration": 3,
        "start_time": "2024-05-01T21:14:55.501Z"
      },
      {
        "duration": 4,
        "start_time": "2024-05-01T21:15:01.407Z"
      },
      {
        "duration": 5691,
        "start_time": "2024-05-01T21:15:08.025Z"
      },
      {
        "duration": 3,
        "start_time": "2024-05-01T21:15:18.531Z"
      },
      {
        "duration": 171282,
        "start_time": "2024-05-01T21:15:19.814Z"
      },
      {
        "duration": 4,
        "start_time": "2024-05-01T21:18:18.341Z"
      },
      {
        "duration": 18220,
        "start_time": "2024-05-01T21:18:21.335Z"
      },
      {
        "duration": 520841,
        "start_time": "2024-05-01T21:19:18.863Z"
      },
      {
        "duration": 4,
        "start_time": "2024-05-01T21:28:18.113Z"
      },
      {
        "duration": 6082,
        "start_time": "2024-05-01T21:28:22.341Z"
      },
      {
        "duration": 178695,
        "start_time": "2024-05-01T21:28:50.478Z"
      },
      {
        "duration": 3,
        "start_time": "2024-05-01T21:32:15.980Z"
      },
      {
        "duration": 13,
        "start_time": "2024-05-01T21:32:18.886Z"
      },
      {
        "duration": 426,
        "start_time": "2024-05-01T21:35:36.416Z"
      },
      {
        "duration": 68,
        "start_time": "2024-05-01T21:35:44.424Z"
      },
      {
        "duration": 12,
        "start_time": "2024-05-01T21:35:52.568Z"
      },
      {
        "duration": 3,
        "start_time": "2024-05-01T21:37:40.415Z"
      },
      {
        "duration": 6,
        "start_time": "2024-05-01T21:37:41.341Z"
      },
      {
        "duration": 5,
        "start_time": "2024-05-01T21:42:37.023Z"
      },
      {
        "duration": 15,
        "start_time": "2024-05-01T21:44:07.871Z"
      },
      {
        "duration": 3,
        "start_time": "2024-05-01T21:44:27.493Z"
      },
      {
        "duration": 3,
        "start_time": "2024-05-01T21:44:32.726Z"
      },
      {
        "duration": 15,
        "start_time": "2024-05-01T21:44:54.803Z"
      },
      {
        "duration": 6,
        "start_time": "2024-05-01T21:46:12.567Z"
      },
      {
        "duration": 6,
        "start_time": "2024-05-01T21:46:16.586Z"
      },
      {
        "duration": 3,
        "start_time": "2024-05-01T21:46:17.941Z"
      },
      {
        "duration": 2,
        "start_time": "2024-05-01T21:46:19.682Z"
      },
      {
        "duration": 15,
        "start_time": "2024-05-01T21:46:24.468Z"
      },
      {
        "duration": 6,
        "start_time": "2024-05-01T21:49:45.168Z"
      },
      {
        "duration": 6,
        "start_time": "2024-05-01T21:49:54.764Z"
      },
      {
        "duration": 4,
        "start_time": "2024-05-01T21:50:27.351Z"
      },
      {
        "duration": 2,
        "start_time": "2024-05-01T21:50:29.028Z"
      },
      {
        "duration": 14,
        "start_time": "2024-05-01T21:51:02.583Z"
      },
      {
        "duration": 4,
        "start_time": "2024-05-01T21:55:44.072Z"
      },
      {
        "duration": 5,
        "start_time": "2024-05-01T21:55:48.260Z"
      },
      {
        "duration": 3,
        "start_time": "2024-05-01T21:55:49.957Z"
      },
      {
        "duration": 3,
        "start_time": "2024-05-01T21:55:51.672Z"
      },
      {
        "duration": 159942,
        "start_time": "2024-05-01T21:55:56.202Z"
      },
      {
        "duration": 3,
        "start_time": "2024-05-01T21:59:39.602Z"
      },
      {
        "duration": 3,
        "start_time": "2024-05-01T21:59:40.628Z"
      },
      {
        "duration": 5,
        "start_time": "2024-05-01T21:59:43.999Z"
      },
      {
        "duration": 11,
        "start_time": "2024-05-01T21:59:52.766Z"
      },
      {
        "duration": 3,
        "start_time": "2024-05-01T22:00:09.612Z"
      },
      {
        "duration": 2,
        "start_time": "2024-05-01T22:00:12.246Z"
      },
      {
        "duration": 904142,
        "start_time": "2024-05-01T22:00:26.607Z"
      },
      {
        "duration": 7,
        "start_time": "2024-05-01T22:16:21.180Z"
      },
      {
        "duration": 1881,
        "start_time": "2024-05-01T22:18:05.962Z"
      },
      {
        "duration": 2,
        "start_time": "2024-05-01T22:18:10.510Z"
      },
      {
        "duration": 17,
        "start_time": "2024-05-01T22:18:18.313Z"
      },
      {
        "duration": 17,
        "start_time": "2024-05-01T22:21:42.626Z"
      },
      {
        "duration": 16,
        "start_time": "2024-05-01T22:22:05.245Z"
      },
      {
        "duration": 4,
        "start_time": "2024-05-01T22:23:10.782Z"
      },
      {
        "duration": 2,
        "start_time": "2024-05-01T22:23:14.489Z"
      },
      {
        "duration": 3,
        "start_time": "2024-05-01T22:23:15.355Z"
      },
      {
        "duration": 5,
        "start_time": "2024-05-01T22:23:19.690Z"
      },
      {
        "duration": 4,
        "start_time": "2024-05-01T22:23:21.314Z"
      },
      {
        "duration": 3,
        "start_time": "2024-05-01T22:23:22.523Z"
      },
      {
        "duration": 659381,
        "start_time": "2024-05-01T22:23:26.926Z"
      },
      {
        "duration": 10,
        "start_time": "2024-05-01T22:35:24.545Z"
      },
      {
        "duration": 1820,
        "start_time": "2024-05-01T22:35:32.612Z"
      },
      {
        "duration": 2,
        "start_time": "2024-05-01T22:35:34.434Z"
      },
      {
        "duration": 29,
        "start_time": "2024-05-01T22:35:34.437Z"
      },
      {
        "duration": 2,
        "start_time": "2024-05-01T22:37:11.672Z"
      },
      {
        "duration": 3,
        "start_time": "2024-05-01T22:37:12.609Z"
      },
      {
        "duration": 5,
        "start_time": "2024-05-01T22:37:16.147Z"
      },
      {
        "duration": 3,
        "start_time": "2024-05-01T22:37:18.435Z"
      },
      {
        "duration": 2,
        "start_time": "2024-05-01T22:37:19.868Z"
      },
      {
        "duration": 742371,
        "start_time": "2024-05-01T22:37:26.399Z"
      },
      {
        "duration": 9,
        "start_time": "2024-05-01T22:50:43.873Z"
      },
      {
        "duration": 2,
        "start_time": "2024-05-01T22:50:48.678Z"
      },
      {
        "duration": 2,
        "start_time": "2024-05-01T22:50:50.417Z"
      },
      {
        "duration": 1982,
        "start_time": "2024-05-01T22:50:56.881Z"
      }
    ],
    "kernelspec": {
      "display_name": "Python 3 (ipykernel)",
      "language": "python",
      "name": "python3"
    },
    "language_info": {
      "codemirror_mode": {
        "name": "ipython",
        "version": 3
      },
      "file_extension": ".py",
      "mimetype": "text/x-python",
      "name": "python",
      "nbconvert_exporter": "python",
      "pygments_lexer": "ipython3",
      "version": "3.9.5"
    },
    "toc": {
      "base_numbering": 1,
      "nav_menu": {},
      "number_sections": true,
      "sideBar": true,
      "skip_h1_title": true,
      "title_cell": "Содержание",
      "title_sidebar": "Contents",
      "toc_cell": true,
      "toc_position": {
        "height": "calc(100% - 180px)",
        "left": "10px",
        "top": "150px",
        "width": "165px"
      },
      "toc_section_display": true,
      "toc_window_display": true
    },
    "colab": {
      "provenance": []
    }
  },
  "nbformat": 4,
  "nbformat_minor": 0
}